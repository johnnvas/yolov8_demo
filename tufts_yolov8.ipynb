{
  "nbformat": 4,
  "nbformat_minor": 0,
  "metadata": {
    "colab": {
      "provenance": [],
      "gpuType": "T4",
      "authorship_tag": "ABX9TyMKp2kLcOYYeROxJQlu2vZ5",
      "include_colab_link": true
    },
    "kernelspec": {
      "name": "python3",
      "display_name": "Python 3"
    },
    "language_info": {
      "name": "python"
    },
    "accelerator": "GPU"
  },
  "cells": [
    {
      "cell_type": "markdown",
      "metadata": {
        "id": "view-in-github",
        "colab_type": "text"
      },
      "source": [
        "<a href=\"https://colab.research.google.com/github/johnnvas/yolov8_demo/blob/main/tufts_yolov8.ipynb\" target=\"_parent\"><img src=\"https://colab.research.google.com/assets/colab-badge.svg\" alt=\"Open In Colab\"/></a>"
      ]
    },
    {
      "cell_type": "code",
      "execution_count": null,
      "metadata": {
        "colab": {
          "base_uri": "https://localhost:8080/"
        },
        "id": "_K2zmNnERWZD",
        "outputId": "ac865ef8-e5a8-4f54-ae29-f6336661f716"
      },
      "outputs": [
        {
          "output_type": "stream",
          "name": "stdout",
          "text": [
            "Collecting ultralytics\n",
            "  Downloading ultralytics-8.1.3-py3-none-any.whl (701 kB)\n",
            "\u001b[2K     \u001b[90m━━━━━━━━━━━━━━━━━━━━━━━━━━━━━━━━━━━━━━━━\u001b[0m \u001b[32m701.1/701.1 kB\u001b[0m \u001b[31m7.6 MB/s\u001b[0m eta \u001b[36m0:00:00\u001b[0m\n",
            "\u001b[?25hRequirement already satisfied: matplotlib>=3.3.0 in /usr/local/lib/python3.10/dist-packages (from ultralytics) (3.7.1)\n",
            "Requirement already satisfied: numpy>=1.22.2 in /usr/local/lib/python3.10/dist-packages (from ultralytics) (1.23.5)\n",
            "Requirement already satisfied: opencv-python>=4.6.0 in /usr/local/lib/python3.10/dist-packages (from ultralytics) (4.8.0.76)\n",
            "Requirement already satisfied: pillow>=7.1.2 in /usr/local/lib/python3.10/dist-packages (from ultralytics) (9.4.0)\n",
            "Requirement already satisfied: pyyaml>=5.3.1 in /usr/local/lib/python3.10/dist-packages (from ultralytics) (6.0.1)\n",
            "Requirement already satisfied: requests>=2.23.0 in /usr/local/lib/python3.10/dist-packages (from ultralytics) (2.31.0)\n",
            "Requirement already satisfied: scipy>=1.4.1 in /usr/local/lib/python3.10/dist-packages (from ultralytics) (1.11.4)\n",
            "Requirement already satisfied: torch>=1.8.0 in /usr/local/lib/python3.10/dist-packages (from ultralytics) (2.1.0+cu121)\n",
            "Requirement already satisfied: torchvision>=0.9.0 in /usr/local/lib/python3.10/dist-packages (from ultralytics) (0.16.0+cu121)\n",
            "Requirement already satisfied: tqdm>=4.64.0 in /usr/local/lib/python3.10/dist-packages (from ultralytics) (4.66.1)\n",
            "Requirement already satisfied: psutil in /usr/local/lib/python3.10/dist-packages (from ultralytics) (5.9.5)\n",
            "Requirement already satisfied: py-cpuinfo in /usr/local/lib/python3.10/dist-packages (from ultralytics) (9.0.0)\n",
            "Collecting thop>=0.1.1 (from ultralytics)\n",
            "  Downloading thop-0.1.1.post2209072238-py3-none-any.whl (15 kB)\n",
            "Requirement already satisfied: pandas>=1.1.4 in /usr/local/lib/python3.10/dist-packages (from ultralytics) (1.5.3)\n",
            "Requirement already satisfied: seaborn>=0.11.0 in /usr/local/lib/python3.10/dist-packages (from ultralytics) (0.13.1)\n",
            "Requirement already satisfied: contourpy>=1.0.1 in /usr/local/lib/python3.10/dist-packages (from matplotlib>=3.3.0->ultralytics) (1.2.0)\n",
            "Requirement already satisfied: cycler>=0.10 in /usr/local/lib/python3.10/dist-packages (from matplotlib>=3.3.0->ultralytics) (0.12.1)\n",
            "Requirement already satisfied: fonttools>=4.22.0 in /usr/local/lib/python3.10/dist-packages (from matplotlib>=3.3.0->ultralytics) (4.47.2)\n",
            "Requirement already satisfied: kiwisolver>=1.0.1 in /usr/local/lib/python3.10/dist-packages (from matplotlib>=3.3.0->ultralytics) (1.4.5)\n",
            "Requirement already satisfied: packaging>=20.0 in /usr/local/lib/python3.10/dist-packages (from matplotlib>=3.3.0->ultralytics) (23.2)\n",
            "Requirement already satisfied: pyparsing>=2.3.1 in /usr/local/lib/python3.10/dist-packages (from matplotlib>=3.3.0->ultralytics) (3.1.1)\n",
            "Requirement already satisfied: python-dateutil>=2.7 in /usr/local/lib/python3.10/dist-packages (from matplotlib>=3.3.0->ultralytics) (2.8.2)\n",
            "Requirement already satisfied: pytz>=2020.1 in /usr/local/lib/python3.10/dist-packages (from pandas>=1.1.4->ultralytics) (2023.3.post1)\n",
            "Requirement already satisfied: charset-normalizer<4,>=2 in /usr/local/lib/python3.10/dist-packages (from requests>=2.23.0->ultralytics) (3.3.2)\n",
            "Requirement already satisfied: idna<4,>=2.5 in /usr/local/lib/python3.10/dist-packages (from requests>=2.23.0->ultralytics) (3.6)\n",
            "Requirement already satisfied: urllib3<3,>=1.21.1 in /usr/local/lib/python3.10/dist-packages (from requests>=2.23.0->ultralytics) (2.0.7)\n",
            "Requirement already satisfied: certifi>=2017.4.17 in /usr/local/lib/python3.10/dist-packages (from requests>=2.23.0->ultralytics) (2023.11.17)\n",
            "Requirement already satisfied: filelock in /usr/local/lib/python3.10/dist-packages (from torch>=1.8.0->ultralytics) (3.13.1)\n",
            "Requirement already satisfied: typing-extensions in /usr/local/lib/python3.10/dist-packages (from torch>=1.8.0->ultralytics) (4.5.0)\n",
            "Requirement already satisfied: sympy in /usr/local/lib/python3.10/dist-packages (from torch>=1.8.0->ultralytics) (1.12)\n",
            "Requirement already satisfied: networkx in /usr/local/lib/python3.10/dist-packages (from torch>=1.8.0->ultralytics) (3.2.1)\n",
            "Requirement already satisfied: jinja2 in /usr/local/lib/python3.10/dist-packages (from torch>=1.8.0->ultralytics) (3.1.3)\n",
            "Requirement already satisfied: fsspec in /usr/local/lib/python3.10/dist-packages (from torch>=1.8.0->ultralytics) (2023.6.0)\n",
            "Requirement already satisfied: triton==2.1.0 in /usr/local/lib/python3.10/dist-packages (from torch>=1.8.0->ultralytics) (2.1.0)\n",
            "Requirement already satisfied: six>=1.5 in /usr/local/lib/python3.10/dist-packages (from python-dateutil>=2.7->matplotlib>=3.3.0->ultralytics) (1.16.0)\n",
            "Requirement already satisfied: MarkupSafe>=2.0 in /usr/local/lib/python3.10/dist-packages (from jinja2->torch>=1.8.0->ultralytics) (2.1.3)\n",
            "Requirement already satisfied: mpmath>=0.19 in /usr/local/lib/python3.10/dist-packages (from sympy->torch>=1.8.0->ultralytics) (1.3.0)\n",
            "Installing collected packages: thop, ultralytics\n",
            "Successfully installed thop-0.1.1.post2209072238 ultralytics-8.1.3\n"
          ]
        }
      ],
      "source": [
        "!pip install ultralytics\n"
      ]
    },
    {
      "cell_type": "code",
      "source": [
        "!unzip dentist_seg.v5i.yolov8.zip\n"
      ],
      "metadata": {
        "id": "hfumu2VKRr5A",
        "colab": {
          "base_uri": "https://localhost:8080/"
        },
        "outputId": "d7123da1-227c-4773-9d31-fd6cdcd72688"
      },
      "execution_count": 3,
      "outputs": [
        {
          "output_type": "stream",
          "name": "stdout",
          "text": [
            "Archive:  dentist_seg.v5i.yolov8.zip\n",
            " extracting: README.dataset.txt      \n",
            " extracting: README.roboflow.txt     \n",
            " extracting: data.yaml               \n",
            "   creating: test/\n",
            "   creating: test/images/\n",
            " extracting: test/images/dentist_items_244_jpg.rf.0441b84f6abc3eb54ac153834b59ed05.jpg  \n",
            "   creating: test/labels/\n",
            " extracting: test/labels/dentist_items_244_jpg.rf.0441b84f6abc3eb54ac153834b59ed05.txt  \n",
            "   creating: train/\n",
            "   creating: train/images/\n",
            " extracting: train/images/0706010001-08-Repair-tools-Pliers_jpg.rf.3353922089e1d553cf5951db2e4ae133.jpg  \n",
            " extracting: train/images/Person-Changing-Drill-Bit-of-Drill-Press-Drilling-Machine-14-0706010001_jpg.rf.604ce1bd2c277471e374da77fa838b38.jpg  \n",
            " extracting: train/images/Person-Cutting-Wooden-plank-on-Table-Saw-13-0706010001_jpg.rf.9133bc2617f2552f693f10e399aab1fe.jpg  \n",
            " extracting: train/images/Repair-Tools-Claw-Head-Hammer-02-0706010001_jpg.rf.85ec8249b5849200f716889a3ff2ad33.jpg  \n",
            " extracting: train/images/Repair-Tools-Power-hand-tools-04-0706010001_jpg.rf.d43f442611c19a4dac79cd3eb91568cc.jpg  \n",
            " extracting: train/images/Repair-Tools-Ratchet-wrench-or-Open-Ended-spanner-07-0706010001_jpg.rf.8881b3e3ddd058076405deb0efe93bc9.jpg  \n",
            " extracting: train/images/Repair-Tools-Slotted-and-Phillips-type-screwdrivers-06-0706010001_jpg.rf.b10f885766475e8007e97c0aca873a15.jpg  \n",
            " extracting: train/images/bb_jpg.rf.0464907816717adaa0f5f09d36479e80.jpg  \n",
            " extracting: train/images/bic_2_jpg.rf.7881b6b99cee9999498dd1a7d870acdb.jpg  \n",
            " extracting: train/images/bic_3_jpg.rf.52b1be93c0e2c4b81247daada3bcf424.jpg  \n",
            " extracting: train/images/bic_4_jpg.rf.41034965d6d6992f0c0baeb07061d871.jpg  \n",
            " extracting: train/images/bicak_1_jpg.rf.e06396d96a0eca4a3d1470a2191b027f.jpg  \n",
            " extracting: train/images/cid_0_fr_0_ts_00-00-00-000-copy-3_jpg.rf.8872a54ad2af7f703bd3ba9eac6bda97.jpg  \n",
            " extracting: train/images/cid_0_fr_10081_ts_00-07-00-461_jpg.rf.1a8dcb7d57d04a88cc2d2c3912cb3d30.jpg  \n",
            " extracting: train/images/cid_0_fr_10336_ts_00-07-11-097_jpg.rf.9161ed905ce3fa63c65a73092de1e5d5.jpg  \n",
            " extracting: train/images/cid_0_fr_10393_ts_00-07-13-474_jpg.rf.3abc6750c6ec728428cf832bc089b9d7.jpg  \n",
            " extracting: train/images/cid_0_fr_10447_ts_00-07-15-291_jpg.rf.e06c4b32779dde88ada4840a1c049ec6.jpg  \n",
            " extracting: train/images/cid_0_fr_10461_ts_00-07-15-875_jpg.rf.afc9ac7465b4d4ed72e3423fb6dc2a70.jpg  \n",
            " extracting: train/images/cid_0_fr_10470_ts_00-07-16-686_jpg.rf.5d45f4156d50ea52fb1f10d7c0cd27bb.jpg  \n",
            " extracting: train/images/cid_0_fr_1049_ts_00-00-41-960_jpg.rf.380406cd99b66237fd76b177883fb1ff.jpg  \n",
            " extracting: train/images/cid_0_fr_104_ts_00-00-04-337_jpg.rf.c84c489979c30a5bc9d456570cb452b6.jpg  \n",
            " extracting: train/images/cid_0_fr_10565_ts_00-07-20-648_jpg.rf.caebec8ea8dde0323d838ebe6bc29ed5.jpg  \n",
            " extracting: train/images/cid_0_fr_10860_ts_00-07-32-500_jpg.rf.d124664004a4f891e66b724e0796d402.jpg  \n",
            " extracting: train/images/cid_0_fr_11000_ts_00-07-38-791_jpg.rf.e7c16fc84c15392af0163be8688a649c.jpg  \n",
            " extracting: train/images/cid_0_fr_1101_ts_00-00-44-040_jpg.rf.930f4fb0680e3c30e230a21b663f15b9.jpg  \n",
            " extracting: train/images/cid_0_fr_11023_ts_00-07-39-750_jpg.rf.934f7f48a79c3ac2c9d4c1ac6c47fb7c.jpg  \n",
            " extracting: train/images/cid_0_fr_1120_ts_00-00-46-713_jpg.rf.2f3fb46813bf407f3c5d54496f10a140.jpg  \n",
            " extracting: train/images/cid_0_fr_1133_ts_00-00-47-208_jpg.rf.476631c84cc80fa9205dae1fa979b26e.jpg  \n",
            " extracting: train/images/cid_0_fr_11345_ts_00-07-53-181_jpg.rf.823fe1075f696c04c8df2b28f11ddd91.jpg  \n",
            " extracting: train/images/cid_0_fr_1140_ts_00-00-47-547_jpg.rf.e3f3704871ebd881a13d31e7427b9961.jpg  \n",
            " extracting: train/images/cid_0_fr_11505_ts_00-07-59-375_jpg.rf.5b8dd9280525b028ad9d8a75dfb1a82a.jpg  \n",
            " extracting: train/images/cid_0_fr_11525_ts_00-08-00-688_jpg.rf.c847f830a2e4bbf6d70ba1e61ceaee52.jpg  \n",
            " extracting: train/images/cid_0_fr_11638_ts_00-08-04-916_jpg.rf.f774b391edc4902a75f77ff845ede86d.jpg  \n",
            " extracting: train/images/cid_0_fr_1203_ts_00-00-50-175_jpg.rf.86b436d7a661804aad3dcc76db214d7e.jpg  \n",
            " extracting: train/images/cid_0_fr_1207_ts_00-00-50-341_jpg.rf.d84811aa627fde1b7ddeb71fbb72d15a.jpg  \n",
            " extracting: train/images/cid_0_fr_1212_ts_00-00-50-550_jpg.rf.af6e8488bd73454a8e9b49291b5f183a.jpg  \n",
            " extracting: train/images/cid_0_fr_1216_ts_00-00-50-717_jpg.rf.c826b87d5110958205ef14d7d1d2d39f.jpg  \n",
            " extracting: train/images/cid_0_fr_121_ts_00-00-05-046_jpg.rf.6c8a6d3b43ea41caaa2d1ad1ab80ffbd.jpg  \n",
            " extracting: train/images/cid_0_fr_1240_ts_00-00-51-718_jpg.rf.85401b6b87761a1b667404b3ea71100e.jpg  \n",
            " extracting: train/images/cid_0_fr_1247_ts_00-00-51-958_jpg.rf.50f5b925af1b2fcaaa6458f85cfd3c4c.jpg  \n",
            " extracting: train/images/cid_0_fr_1248_ts_00-00-52-052_jpg.rf.63f3e65dc0c0ee7665334cab28b9f587.jpg  \n",
            " extracting: train/images/cid_0_fr_1291_ts_00-00-53-845_jpg.rf.16818e92bc69ff125a9caa80cf2b3cf4.jpg  \n",
            " extracting: train/images/cid_0_fr_1296_ts_00-00-54-054_jpg.rf.23df79b492e85bee9dad3ef56f2a4ee4.jpg  \n",
            " extracting: train/images/cid_0_fr_130_ts_00-00-05-422_jpg.rf.7c96028e46fd7de6f5894143819bd9f3.jpg  \n",
            " extracting: train/images/cid_0_fr_1348_ts_00-00-56-222_jpg.rf.120daf9ecb32dc4db9cdb296e95bf61f.jpg  \n",
            " extracting: train/images/cid_0_fr_1357_ts_00-00-56-598_jpg.rf.89ca80bf8cf27ab8b49814d31c8ff4d2.jpg  \n",
            " extracting: train/images/cid_0_fr_135_ts_00-00-05-630_jpg.rf.1d0d9863787fd84bfea7cdff844d68e0.jpg  \n",
            " extracting: train/images/cid_0_fr_1388_ts_00-00-55-520_jpg.rf.941c8e2cd436c0bae5f74bb57d3eec19.jpg  \n",
            " extracting: train/images/cid_0_fr_1390_ts_00-00-57-974_jpg.rf.e053af06a92aaebe0ca9859446a4a7b5.jpg  \n",
            " extracting: train/images/cid_0_fr_1398_ts_00-00-58-308_jpg.rf.9b22fdf25d3139596f41cf079e83b098.jpg  \n",
            " extracting: train/images/cid_0_fr_1400_ts_00-00-56-000_jpg.rf.8b860bda65acf2e5c687b5122b8c1bd4.jpg  \n",
            " extracting: train/images/cid_0_fr_1405_ts_00-00-58-600_jpg.rf.c235483fb9b9451b2910131d3e611aaf.jpg  \n",
            " extracting: train/images/cid_0_fr_1416_ts_00-00-59-059_jpg.rf.e7b83c1629421ef27fb503f97ebe6832.jpg  \n",
            " extracting: train/images/cid_0_fr_1429_ts_00-00-59-601_jpg.rf.0d359a02afae0797d7e2dcfa9b07f73d.jpg  \n",
            " extracting: train/images/cid_0_fr_1472_ts_00-01-01-394_jpg.rf.ece16988a0cdb24197185e95c6e98f77.jpg  \n",
            " extracting: train/images/cid_0_fr_1485_ts_00-01-01-936_jpg.rf.08ff85ba7c9cb9ecc4997796843d4efb.jpg  \n",
            " extracting: train/images/cid_0_fr_1552_ts_00-01-04-731_jpg.rf.14416a126de0e2657989e2559d57f572.jpg  \n",
            " extracting: train/images/cid_0_fr_1555_ts_00-01-04-856_jpg.rf.039c1e626af80f456d68ed339f8de86a.jpg  \n",
            " extracting: train/images/cid_0_fr_1559_ts_00-01-05-023_jpg.rf.6b6e49621553e9f60b250bc4694da01d.jpg  \n",
            " extracting: train/images/cid_0_fr_159_ts_00-00-06-631_jpg.rf.4f66edc149a318f1bfa07d3ada0ffd3c.jpg  \n",
            " extracting: train/images/cid_0_fr_15_ts_00-00-00-625_jpg.rf.d08fb9496d2b6dd11f1567de2a90bb1f.jpg  \n",
            " extracting: train/images/cid_0_fr_1632_ts_00-01-08-068_jpg.rf.bcd086cc06a5953af3f38c110f4920a4.jpg  \n",
            " extracting: train/images/cid_0_fr_1633_ts_00-01-08-109_jpg.rf.980f62990bd9148603cd5e1696ebe2b8.jpg  \n",
            " extracting: train/images/cid_0_fr_1648_ts_00-01-08-735_jpg.rf.21ed99a7b26e2349f22a8bce2223caa1.jpg  \n",
            " extracting: train/images/cid_0_fr_1658_ts_00-01-06-320_jpg.rf.63c70519d0e94e157556028c3ac45082.jpg  \n",
            " extracting: train/images/cid_0_fr_1666_ts_00-01-06-640_jpg.rf.08de683a8fb35617c3ab5cb7bfeafe84.jpg  \n",
            " extracting: train/images/cid_0_fr_1737_ts_00-01-12-447_jpg.rf.e154ee71ba74d104d8f5a0270a3b0663.jpg  \n",
            " extracting: train/images/cid_0_fr_1744_ts_00-01-12-739_jpg.rf.34abd6892b0210fc4f7b9a59d917ffe6.jpg  \n",
            " extracting: train/images/cid_0_fr_1748_ts_00-01-12-906_jpg.rf.a57428a1d7a99d6eef389049e59936c5.jpg  \n",
            " extracting: train/images/cid_0_fr_1751_ts_00-01-13-031_jpg.rf.d38afe110f340860d07f8d566c472be0.jpg  \n",
            " extracting: train/images/cid_0_fr_1757_ts_00-01-13-281_jpg.rf.005abe3b9f829820bb3ef3c3acb7476e.jpg  \n",
            " extracting: train/images/cid_0_fr_1777_ts_00-01-11-080_jpg.rf.a028c2abe51377b945cf4b29ec91f009.jpg  \n",
            " extracting: train/images/cid_0_fr_1780_ts_00-01-14-166_jpg.rf.9ddccb24a2bc8aafcee0b714d21e956c.jpg  \n",
            " extracting: train/images/cid_0_fr_1835_ts_00-01-16-534_jpg.rf.dc99ce32ff5c33d2124705d2c88f63c1.jpg  \n",
            " extracting: train/images/cid_0_fr_1842_ts_00-01-16-826_jpg.rf.d4abf2fb61051b525c7e216a1a483db9.jpg  \n",
            " extracting: train/images/cid_0_fr_1850_ts_00-01-14-000_jpg.rf.0d7aba718aebf7238a734c4431117f87.jpg  \n",
            " extracting: train/images/cid_0_fr_1850_ts_00-01-17-160_jpg.rf.cdfa688f6780734a2aa05a59b375f528.jpg  \n",
            " extracting: train/images/cid_0_fr_1862_ts_00-01-17-660_jpg.rf.f48d7274769f9b134fb23f773bd584c9.jpg  \n",
            " extracting: train/images/cid_0_fr_1894_ts_00-01-18-995_jpg.rf.5916b94ca1b28a2e8c83813f6f29bc08.jpg  \n",
            " extracting: train/images/cid_0_fr_1918_ts_00-01-19-996_jpg.rf.4b5602b8a0186b43da88ddedb856e282.jpg  \n",
            " extracting: train/images/cid_0_fr_1922_ts_00-01-20-163_jpg.rf.bff3963652e49b89f874827b85bb5c31.jpg  \n",
            " extracting: train/images/cid_0_fr_1945_ts_00-01-17-800_jpg.rf.b1a7a83bcf307f9f27ab3c8c08a189b7.jpg  \n",
            " extracting: train/images/cid_0_fr_1958_ts_00-01-21-664_jpg.rf.69c4ada55b7aa75cc1c8348a6e155540.jpg  \n",
            " extracting: train/images/cid_0_fr_2005_ts_00-01-23-625_jpg.rf.fe19c3ad776518e267a67b653b3417b4.jpg  \n",
            " extracting: train/images/cid_0_fr_2021_ts_00-01-20-840_jpg.rf.c7e9f6d5d026b1b4351fae53ba392677.jpg  \n",
            " extracting: train/images/cid_0_fr_2025_ts_00-01-24-459_jpg.rf.10d862c7376bc31a777739f3ee314a0b.jpg  \n",
            " extracting: train/images/cid_0_fr_2065_ts_00-01-26-127_jpg.rf.1a06f28302494f4eafd305c1eb1135b8.jpg  \n",
            " extracting: train/images/cid_0_fr_2070_ts_00-01-26-336_jpg.rf.839d13b1f45202cfea64f09ef0ba6099.jpg  \n",
            " extracting: train/images/cid_0_fr_2090_ts_00-01-23-600_jpg.rf.1a6e0da656d31a8f9457b9e1a4ef8c07.jpg  \n",
            " extracting: train/images/cid_0_fr_2125_ts_00-01-25-000_jpg.rf.312ae80bd3b079c25a688d29486a8bc6.jpg  \n",
            " extracting: train/images/cid_0_fr_2131_ts_00-01-25-240_jpg.rf.57e75553028f2825e09d0f5484ca3e71.jpg  \n",
            " extracting: train/images/cid_0_fr_2136_ts_00-01-29-089_jpg.rf.6c71353ea38610447bbaa9494b7c771f.jpg  \n",
            " extracting: train/images/cid_0_fr_2141_ts_00-01-29-297_jpg.rf.899cf709a456c984d54df5dbae6e3b2c.jpg  \n",
            " extracting: train/images/cid_0_fr_2155_ts_00-01-29-881_jpg.rf.008e58001a24580dd6eac6ed56ca5909.jpg  \n",
            " extracting: train/images/cid_0_fr_2164_ts_00-01-26-560_jpg.rf.de71a4a0c0f8ad8b85fb37ca40bdb584.jpg  \n",
            " extracting: train/images/cid_0_fr_2170_ts_00-01-30-507_jpg.rf.79a11efd00c878f57d4a010202502503.jpg  \n",
            " extracting: train/images/cid_0_fr_2172_ts_00-01-30-590_jpg.rf.05c8f304d7034c7feacd42dd41494e85.jpg  \n",
            " extracting: train/images/cid_0_fr_223_ts_00-00-09-300_jpg.rf.ad85f8c36ad0cc43da4fb01cd6334f35.jpg  \n",
            " extracting: train/images/cid_0_fr_2241_ts_00-01-33-468_jpg.rf.10c6a51393b99f785cc1b9027194fec5.jpg  \n",
            " extracting: train/images/cid_0_fr_228_ts_00-00-09-509_jpg.rf.236ff6c777bfcb50b40bff6858b5f8b4.jpg  \n",
            " extracting: train/images/cid_0_fr_2302_ts_00-01-36-012_jpg.rf.3e8da592a4c7ac7a38236112dab39621.jpg  \n",
            " extracting: train/images/cid_0_fr_2331_ts_00-01-37-222-copy_jpg.rf.082c0c5306867c8a4e5d318f66c011f2.jpg  \n",
            " extracting: train/images/cid_0_fr_2398_ts_00-01-40-016_jpg.rf.ddb689666076b2f17d12b1894760040c.jpg  \n",
            " extracting: train/images/cid_0_fr_2408_ts_00-01-36-320_jpg.rf.86419fa47f911bc59eedb46b8c05d16b.jpg  \n",
            " extracting: train/images/cid_0_fr_2458_ts_00-01-42-519_jpg.rf.ce6cbe4db011339f9e13d6ec79768335.jpg  \n",
            " extracting: train/images/cid_0_fr_245_ts_00-00-08-174_jpg.rf.f44ba4a40cf8bda45488de9caa36009d.jpg  \n",
            " extracting: train/images/cid_0_fr_2465_ts_00-01-42-811_jpg.rf.5c4959c3a0e84f67f1720062202da83a.jpg  \n",
            " extracting: train/images/cid_0_fr_2501_ts_00-01-44-312_jpg.rf.8b5dfe6fa9607549e5cb7faf5b235c03.jpg  \n",
            " extracting: train/images/cid_0_fr_2524_ts_00-01-45-271_jpg.rf.f81ca4b70437d8fb26e4861a125a2122.jpg  \n",
            " extracting: train/images/cid_0_fr_2530_ts_00-01-41-200_jpg.rf.b4b349bcf232f12e359237e444813e0e.jpg  \n",
            " extracting: train/images/cid_0_fr_2533_ts_00-01-45-541_jpg.rf.703f38cfad4a7ce93998a5936a4f455a.jpg  \n",
            " extracting: train/images/cid_0_fr_2546_ts_00-01-46-189_jpg.rf.e3fcb1642ed123a330fb7bf045fe9c66.jpg  \n",
            " extracting: train/images/cid_0_fr_2563_ts_00-01-46-898_jpg.rf.1d9644adda38b63fb8e634b4cc791f5a.jpg  \n",
            " extracting: train/images/cid_0_fr_2565_ts_00-01-42-600_jpg.rf.775d6e5b9884e3ba3fa8484a84513b1a.jpg  \n",
            " extracting: train/images/cid_0_fr_2570_ts_00-01-47-190_jpg.rf.df5f93cf9098f369f6b92e0b71168e05.jpg  \n",
            " extracting: train/images/cid_0_fr_2572_ts_00-01-47-273_jpg.rf.b1a73fd2d2a02b500c5f2162e8dec6cf.jpg  \n",
            " extracting: train/images/cid_0_fr_2591_ts_00-01-48-066_jpg.rf.66ba7f97572591585b31ad7d5705ecfc.jpg  \n",
            " extracting: train/images/cid_0_fr_2593_ts_00-01-48-149_jpg.rf.ea4edeeaecd69f4df62710b8756ec423.jpg  \n",
            " extracting: train/images/cid_0_fr_2614_ts_00-01-49-025_jpg.rf.f7a8707c691d73aaddac40f8defed95d.jpg  \n",
            " extracting: train/images/cid_0_fr_2648_ts_00-01-45-920_jpg.rf.3a3a8078b5761fb7b83bad6b2d18ce04.jpg  \n",
            " extracting: train/images/cid_0_fr_2651_ts_00-01-50-568_jpg.rf.577ebd7e494524441c2c1b094ad8a509.jpg  \n",
            " extracting: train/images/cid_0_fr_2668_ts_00-01-46-720_jpg.rf.d404bc96842ecaefa00bf4d3c461b2ca.jpg  \n",
            " extracting: train/images/cid_0_fr_266_ts_00-00-11-094_jpg.rf.095a22a8276550571a2a1c8cf47ed48f.jpg  \n",
            " extracting: train/images/cid_0_fr_2734_ts_00-01-49-360_jpg.rf.564441be2b1012f3f212efe54487d099.jpg  \n",
            " extracting: train/images/cid_0_fr_2756_ts_00-01-54-948_jpg.rf.446e3dfca461d63952c1b9fa0772f999.jpg  \n",
            " extracting: train/images/cid_0_fr_2757_ts_00-01-54-989_jpg.rf.868812c00dfa73c4d03466ad6c6bcf0f.jpg  \n",
            " extracting: train/images/cid_0_fr_275_ts_00-00-09-175_jpg.rf.57934bc2304b56730685c3093248e3fd.jpg  \n",
            " extracting: train/images/cid_0_fr_2767_ts_00-01-55-406_jpg.rf.c1a05457d3c528bdba14fe60b0b6d1a0.jpg  \n",
            " extracting: train/images/cid_0_fr_2776_ts_00-01-55-782_jpg.rf.d772ed8745dfef66a612efb3eb997f17.jpg  \n",
            " extracting: train/images/cid_0_fr_2777_ts_00-01-55-824_jpg.rf.301e0ce06f7c627c6e4026f48695a2d6.jpg  \n",
            " extracting: train/images/cid_0_fr_2788_ts_00-01-56-282_jpg.rf.1dab4ef11ec89bdf6cb4d16ed3d9f8a8.jpg  \n",
            " extracting: train/images/cid_0_fr_2818_ts_00-01-57-534_jpg.rf.482ebf333ecd837de2350066ef5dc6f9.jpg  \n",
            " extracting: train/images/cid_0_fr_281_ts_00-00-11-720_jpg.rf.550a27d538c7ac6aa90e05ee2b74383b.jpg  \n",
            " extracting: train/images/cid_0_fr_2825_ts_00-01-57-826_jpg.rf.4cfa9b47557b3f05b02a8c307026aec7.jpg  \n",
            " extracting: train/images/cid_0_fr_2849_ts_00-01-58-708_jpg.rf.fce0e201cd0bc6fb341a739a67d2c83a.jpg  \n",
            " extracting: train/images/cid_0_fr_2856_ts_00-01-59-119_jpg.rf.f007586e68aeccea5974209707ef1ce8.jpg  \n",
            " extracting: train/images/cid_0_fr_286_ts_00-00-11-440_jpg.rf.63915d3769e845cc6b157967e60d74b9.jpg  \n",
            " extracting: train/images/cid_0_fr_2889_ts_00-01-55-560_jpg.rf.6e8ffa9f709fbf3fc2cabc0f9f7f0462.jpg  \n",
            " extracting: train/images/cid_0_fr_294_ts_00-00-09-809_jpg.rf.c0abe16ac768fbee190c1ef7b5b672b3.jpg  \n",
            " extracting: train/images/cid_0_fr_295_ts_00-00-12-303_jpg.rf.c934253997cd661e42e722890d1f5231.jpg  \n",
            " extracting: train/images/cid_0_fr_3001_ts_00-02-00-040_jpg.rf.dcf0e8d24cb53759bbc7df01a8ada03f.jpg  \n",
            " extracting: train/images/cid_0_fr_3041_ts_00-02-06-835_jpg.rf.eaf088e5e19fe0ef50d791300e1098eb.jpg  \n",
            " extracting: train/images/cid_0_fr_307_ts_00-00-12-804_jpg.rf.8aa86c847c40df8366d723b82c7ffd01.jpg  \n",
            " extracting: train/images/cid_0_fr_30_ts_00-00-01-251_jpg.rf.dc631bbae8563fd051ef50aa0f4a0774.jpg  \n",
            " extracting: train/images/cid_0_fr_3120_ts_00-02-10-130_jpg.rf.9bee1ea77fe1308bf854c224277405e0.jpg  \n",
            " extracting: train/images/cid_0_fr_3141_ts_00-02-11-005_jpg.rf.f3049c2ae4449fb384510fa7c549ceac.jpg  \n",
            " extracting: train/images/cid_0_fr_314_ts_00-00-13-096_jpg.rf.a115b1b5d395d6ff2739bae69edaf15b.jpg  \n",
            " extracting: train/images/cid_0_fr_3155_ts_00-02-06-200_jpg.rf.2478fb62a3d6aa1ffe36322629e3052a.jpg  \n",
            " extracting: train/images/cid_0_fr_315_ts_00-00-12-600_jpg.rf.a17cef0c6af2bd1aff2e4487acfad393.jpg  \n",
            " extracting: train/images/cid_0_fr_3189_ts_00-02-07-560_jpg.rf.b6271f9a8df0e54ca4caca2f873c05fb.jpg  \n",
            " extracting: train/images/cid_0_fr_3194_ts_00-02-13-216_jpg.rf.46acda50b7f17cf87233f434b9c223e5.jpg  \n",
            " extracting: train/images/cid_0_fr_3198_ts_00-02-13-250_jpg.rf.2e0e46299ac390fe28a605f8e7e1737c.jpg  \n",
            " extracting: train/images/cid_0_fr_31_ts_00-00-01-292_jpg.rf.422d44a58fe696aa84eea78acbb51cc6.jpg  \n",
            " extracting: train/images/cid_0_fr_3208_ts_00-02-13-800_jpg.rf.1be82f35a8c211c1be288202091634ca.jpg  \n",
            " extracting: train/images/cid_0_fr_3257_ts_00-02-15-844_jpg.rf.35b506564837df4ee9218b661b5f4a65.jpg  \n",
            " extracting: train/images/cid_0_fr_3278_ts_00-02-16-583_jpg.rf.3a587f59a8b222d7271a9d09b1f3828e.jpg  \n",
            " extracting: train/images/cid_0_fr_328_ts_00-00-13-680_jpg.rf.6fec17e9d627d65ca72e860c49d51772.jpg  \n",
            " extracting: train/images/cid_0_fr_333_ts_00-00-13-888_jpg.rf.2c4763eba3e32555084b32af782ad92e.jpg  \n",
            " extracting: train/images/cid_0_fr_348_ts_00-00-11-611_jpg.rf.781e64f4b138671c18034dbe72bbf6d7.jpg  \n",
            " extracting: train/images/cid_0_fr_3498_ts_00-02-25-895_jpg.rf.d1bcaa5f416dba68a60dce7f5ed14c11.jpg  \n",
            " extracting: train/images/cid_0_fr_3601_ts_00-02-30-191_jpg.rf.60974f94dfbbabe4314f1130804c6f89.jpg  \n",
            " extracting: train/images/cid_0_fr_3621_ts_00-02-24-840_jpg.rf.456f65e7e347bfded38ace0bc00156de.jpg  \n",
            " extracting: train/images/cid_0_fr_3628_ts_00-02-31-166_jpg.rf.8613a592cefc5113748c3e50633ffea6.jpg  \n",
            " extracting: train/images/cid_0_fr_3640_ts_00-02-25-600_jpg.rf.225c1cef1634b5ca92b1114027d3257e.jpg  \n",
            " extracting: train/images/cid_0_fr_364_ts_00-00-15-181_jpg.rf.916c0b79e99808a7a9c0101f22bfa155.jpg  \n",
            " extracting: train/images/cid_0_fr_3672_ts_00-02-26-880_jpg.rf.4af4699d739b699024e40eca5400804c.jpg  \n",
            " extracting: train/images/cid_0_fr_3677_ts_00-02-27-080_jpg.rf.ce4488d38618522e292ac9831c6b07a8.jpg  \n",
            " extracting: train/images/cid_0_fr_3703_ts_00-02-34-445_jpg.rf.06304a6dd29893ed72adae3d98c66621.jpg  \n",
            " extracting: train/images/cid_0_fr_3714_ts_00-02-34-904_jpg.rf.a46b4febe398bb47ac4fd76f23577039.jpg  \n",
            " extracting: train/images/cid_0_fr_3727_ts_00-02-35-446_jpg.rf.3be1c9bc0eb4b0a745b67e529afe0c0c.jpg  \n",
            " extracting: train/images/cid_0_fr_3758_ts_00-02-30-320_jpg.rf.632372971521c5aacf09aaf810326410.jpg  \n",
            " extracting: train/images/cid_0_fr_3774_ts_00-02-37-407_jpg.rf.a5c6a4c1da16c6e137c577ae9afb877e.jpg  \n",
            " extracting: train/images/cid_0_fr_3784_ts_00-02-37-666_jpg.rf.19fdd251c51c7083c95267089b3b9dab.jpg  \n",
            " extracting: train/images/cid_0_fr_378_ts_00-00-15-765_jpg.rf.91e6d3b522758646409bb3af020852d8.jpg  \n",
            " extracting: train/images/cid_0_fr_3799_ts_00-02-31-960_jpg.rf.c60ae4286d5af0ce9ab96f8110a39b96.jpg  \n",
            " extracting: train/images/cid_0_fr_3824_ts_00-02-39-492_jpg.rf.23188434f3692b48a3304c09395ea282.jpg  \n",
            " extracting: train/images/cid_0_fr_3841_ts_00-02-33-640_jpg.rf.b195e88cf2fbe95169cb0479f4733294.jpg  \n",
            " extracting: train/images/cid_0_fr_3846_ts_00-02-33-840_jpg.rf.498ab7f9b9c4533e985c472950c0fd17.jpg  \n",
            " extracting: train/images/cid_0_fr_384_ts_00-00-16-016_jpg.rf.c1b155acb552390113c5ca5c632577cc.jpg  \n",
            " extracting: train/images/cid_0_fr_3851_ts_00-02-34-040_jpg.rf.5206e7bd7a73213f4d011cc8d60dc0df.jpg  \n",
            " extracting: train/images/cid_0_fr_3870_ts_00-02-41-250_jpg.rf.b7bbdea8e0b2945f588e791d7573e8c8.jpg  \n",
            " extracting: train/images/cid_0_fr_3937_ts_00-02-44-205_jpg.rf.b718d9d96aa251f8663380f1f55559da.jpg  \n",
            " extracting: train/images/cid_0_fr_3946_ts_00-02-44-581_jpg.rf.28092859afee66d4f5f8eeb126f20465.jpg  \n",
            " extracting: train/images/cid_0_fr_3959_ts_00-02-44-958_jpg.rf.a47d811dd624de05adc14059c5cf9f75.jpg  \n",
            " extracting: train/images/cid_0_fr_395_ts_00-00-16-474-copy_jpg.rf.c6fbbb41b91c4ed52988e539fa6175e4.jpg  \n",
            " extracting: train/images/cid_0_fr_395_ts_00-00-16-474_jpg.rf.63ca1d61668d554713c6e19dd4a18e28.jpg  \n",
            " extracting: train/images/cid_0_fr_3982_ts_00-02-46-082_jpg.rf.34a78c7ad20b0b25f08f53640543c3b4.jpg  \n",
            " extracting: train/images/cid_0_fr_3986_ts_00-02-39-440_jpg.rf.c2d10e36f9ee2e54c7d2219b8513a96d.jpg  \n",
            " extracting: train/images/cid_0_fr_3999_ts_00-02-46-791_jpg.rf.aa8978cdd4a017061c063ab73a55a4fb.jpg  \n",
            " extracting: train/images/cid_0_fr_400_ts_00-00-13-346_jpg.rf.8907434318275460b5c2ce73c3164226.jpg  \n",
            " extracting: train/images/cid_0_fr_4029_ts_00-02-48-042_jpg.rf.0542eca1b9878eb3ef684c14a1013ea2.jpg  \n",
            " extracting: train/images/cid_0_fr_40_ts_00-00-01-668_jpg.rf.931be58bffaa2d146625c0314113a271.jpg  \n",
            " extracting: train/images/cid_0_fr_4121_ts_00-02-44-840_jpg.rf.ee44323e9ddb02bb58b6804837192c65.jpg  \n",
            " extracting: train/images/cid_0_fr_413_ts_00-00-17-225_jpg.rf.68d67136bd41eee42216f39e1edc1e33.jpg  \n",
            " extracting: train/images/cid_0_fr_4147_ts_00-02-45-880_jpg.rf.dc55a4e86f96fb637e9860ad3c01d96a.jpg  \n",
            " extracting: train/images/cid_0_fr_4150_ts_00-02-46-000_jpg.rf.be9c0929c78851c2a0c4cbe70f443b1d.jpg  \n",
            " extracting: train/images/cid_0_fr_4171_ts_00-02-46-840_jpg.rf.6923ebf7c20c5b135b8105065586250a.jpg  \n",
            " extracting: train/images/cid_0_fr_419_ts_00-00-17-475_jpg.rf.a6b70ab19ad9995d05d865d94f7b9169.jpg  \n",
            " extracting: train/images/cid_0_fr_4200_ts_00-02-48-000_jpg.rf.f78dc79dcfe4956701c3b0dc7e70b56a.jpg  \n",
            " extracting: train/images/cid_0_fr_420_ts_00-00-14-014_jpg.rf.30bf85a6885b9aea00ab9f60e6ec46f1.jpg  \n",
            " extracting: train/images/cid_0_fr_4225_ts_00-02-56-217_jpg.rf.234ce9b8423bcb43a6854d291f36c19d.jpg  \n",
            " extracting: train/images/cid_0_fr_4235_ts_00-02-49-400_jpg.rf.006b75409da3151731dcd308ab90333e.jpg  \n",
            " extracting: train/images/cid_0_fr_4260_ts_00-02-57-677_jpg.rf.80f55ef8ea7da6cdae091c6c143a1919.jpg  \n",
            " extracting: train/images/cid_0_fr_426_ts_00-00-17-767_jpg.rf.881420ab5bdfffaea04394ebe1d42a6f.jpg  \n",
            " extracting: train/images/cid_0_fr_4341_ts_00-02-53-640_jpg.rf.2346ca5be8e0cd460b97d4ccdf3fa312.jpg  \n",
            " extracting: train/images/cid_0_fr_4364_ts_00-02-54-560_jpg.rf.d3b7045dd3a19119c2fdaebf7f4f5b08.jpg  \n",
            " extracting: train/images/cid_0_fr_43_ts_00-00-01-793_jpg.rf.887e78202da786e226355571a6f114f2.jpg  \n",
            " extracting: train/images/cid_0_fr_444_ts_00-00-18-518_jpg.rf.f45fbea0bafefc181458195b73b6beac.jpg  \n",
            " extracting: train/images/cid_0_fr_4450_ts_00-02-58-000_jpg.rf.135ff36de5052540ba9cbadfdc6eb8c0.jpg  \n",
            " extracting: train/images/cid_0_fr_4459_ts_00-02-58-360_jpg.rf.dae849630d86e36540eb51eff91f36d5.jpg  \n",
            " extracting: train/images/cid_0_fr_4466_ts_00-02-58-640_jpg.rf.b88e704791ed74478f61b1d052ead498.jpg  \n",
            " extracting: train/images/cid_0_fr_4478_ts_00-02-59-120_jpg.rf.57102c109fa9673781c87e446efe7df0.jpg  \n",
            " extracting: train/images/cid_0_fr_4485_ts_00-03-07-061_jpg.rf.814d94d26d59106b56c72ad52fe99586.jpg  \n",
            " extracting: train/images/cid_0_fr_4486_ts_00-03-07-103_jpg.rf.f6298354dd4b8bc5ca78c487930b560e.jpg  \n",
            " extracting: train/images/cid_0_fr_4503_ts_00-03-07-812_jpg.rf.373df5e21bac3f4a8b45871a2c33774a.jpg  \n",
            " extracting: train/images/cid_0_fr_450_ts_00-00-18-768_jpg.rf.92439ab02f34e458a63bcf0686359763.jpg  \n",
            " extracting: train/images/cid_0_fr_4517_ts_00-03-00-680_jpg.rf.9920ac8bc4d97fe14e9aadc2368d8533.jpg  \n",
            " extracting: train/images/cid_0_fr_458_ts_00-00-19-102_jpg.rf.d0ace24efc8c7a95bc78a3ac78043162.jpg  \n",
            " extracting: train/images/cid_0_fr_4626_ts_00-03-12-942_jpg.rf.122651029ef0e691e00c43c9a09688ad.jpg  \n",
            " extracting: train/images/cid_0_fr_4627_ts_00-03-12-984_jpg.rf.c3239ba8c4e5491fad03c52cf04ba450.jpg  \n",
            " extracting: train/images/cid_0_fr_4655_ts_00-03-14-152_jpg.rf.da48d1a12ea4a769bdca7469ee4f4b2c.jpg  \n",
            " extracting: train/images/cid_0_fr_4669_ts_00-03-14-541_jpg.rf.05147f6f2a758210912474b7202b343a.jpg  \n",
            " extracting: train/images/cid_0_fr_4689_ts_00-03-15-570_jpg.rf.1abc5f08b304ea6fdf056964f8f08285.jpg  \n",
            " extracting: train/images/cid_0_fr_469_ts_00-00-19-561_jpg.rf.53dbb18ad4bf41f6cf38272734eb543d.jpg  \n",
            " extracting: train/images/cid_0_fr_4704_ts_00-03-16-196_jpg.rf.8b281fad104f7ac5701c7066acd4b5e0.jpg  \n",
            " extracting: train/images/cid_0_fr_472_ts_00-00-19-686_jpg.rf.d375223bc9f905d2bf21627746d804ec.jpg  \n",
            " extracting: train/images/cid_0_fr_479_ts_00-00-19-978_jpg.rf.58ac00fe8411a65668ec48e91f2c8e5e.jpg  \n",
            " extracting: train/images/cid_0_fr_481_ts_00-00-20-061_jpg.rf.f40fdc68f2a6509c58fdccd56c7b6604.jpg  \n",
            " extracting: train/images/cid_0_fr_4850_ts_00-03-22-285_jpg.rf.a5b85ecabfaa4b55379eb68a2c2cd052.jpg  \n",
            " extracting: train/images/cid_0_fr_485_ts_00-00-16-182_jpg.rf.53ed032528f82f2647d3e98df3636e30.jpg  \n",
            " extracting: train/images/cid_0_fr_492_ts_00-00-20-520_jpg.rf.c8df25df22415fc83791b6308694c528.jpg  \n",
            " extracting: train/images/cid_0_fr_495_ts_00-00-16-516_jpg.rf.d9dd0cedf189ef1da32b6f3b817dcc47.jpg  \n",
            " extracting: train/images/cid_0_fr_4980_ts_00-03-19-200_jpg.rf.7b8a33815ec40969e4f41a8023bb236c.jpg  \n",
            " extracting: train/images/cid_0_fr_5005_ts_00-03-28-750_jpg.rf.baec52a4e2ee400d2addc2604e03699d.jpg  \n",
            " extracting: train/images/cid_0_fr_5067_ts_00-03-31-336_jpg.rf.a151b34ee229c25ddd7784196d41e67e.jpg  \n",
            " extracting: train/images/cid_0_fr_5073_ts_00-03-31-586_jpg.rf.a8631936b2216f92194c43a7c9cea3bb.jpg  \n",
            " extracting: train/images/cid_0_fr_5093_ts_00-03-32-420_jpg.rf.2ecde45bd45d0b57b4d2f15d95cd8cb9.jpg  \n",
            " extracting: train/images/cid_0_fr_5101_ts_00-03-32-541_jpg.rf.22f63da48077df6b6528e2f125cdb852.jpg  \n",
            " extracting: train/images/cid_0_fr_5101_ts_00-03-32-754_jpg.rf.5bfb70435de3c22a4b1c5cb28afbcf08.jpg  \n",
            " extracting: train/images/cid_0_fr_5111_ts_00-03-33-171_jpg.rf.0a3d480435bc5ee90d58a6eeee3e323f.jpg  \n",
            " extracting: train/images/cid_0_fr_5113_ts_00-03-33-254_jpg.rf.0adb435b65a6bfcf39143e66b772521b.jpg  \n",
            " extracting: train/images/cid_0_fr_5117_ts_00-03-33-421_jpg.rf.d6f5f5f04125151a5c523bd1cdc0df62.jpg  \n",
            " extracting: train/images/cid_0_fr_5126_ts_00-03-33-796_jpg.rf.5fc0ca126458cdb9862dec683dec7811.jpg  \n",
            " extracting: train/images/cid_0_fr_5169_ts_00-03-35-590_jpg.rf.c4a724bc34d757a0a0736075ff95eb79.jpg  \n",
            " extracting: train/images/cid_0_fr_521_ts_00-00-20-840_jpg.rf.2a870a8594e127565b93b837d49db4d0.jpg  \n",
            " extracting: train/images/cid_0_fr_5225_ts_00-03-37-926_jpg.rf.6332c5c28b133b6431e15ed2159cb23d.jpg  \n",
            " extracting: train/images/cid_0_fr_5234_ts_00-03-29-360_jpg.rf.d17bf39288473c429d4fc3ad1aba4e70.jpg  \n",
            " extracting: train/images/cid_0_fr_5310_ts_00-03-41-471_jpg.rf.150ce9510144722f917e1a270440363a.jpg  \n",
            " extracting: train/images/cid_0_fr_5328_ts_00-03-42-222_jpg.rf.6d095c26ae2a2f48bbc37d99a7d2c9ff.jpg  \n",
            " extracting: train/images/cid_0_fr_5346_ts_00-03-42-972_jpg.rf.38944a68909f1aed11bc4d7b180dbd20.jpg  \n",
            " extracting: train/images/cid_0_fr_534_ts_00-00-22-272_jpg.rf.00c7e7ec5ffb0a804fe72fb0516f67eb.jpg  \n",
            " extracting: train/images/cid_0_fr_5361_ts_00-03-43-598_jpg.rf.94502145a751536eb3b4aa0a0029e928.jpg  \n",
            " extracting: train/images/cid_0_fr_5396_ts_00-03-45-058_jpg.rf.79c2cb31163e47951c71672abc9cd8fc.jpg  \n",
            " extracting: train/images/cid_0_fr_5443_ts_00-03-37-720_jpg.rf.5359cbdaf425f9dcbe94da7f3b8e7396.jpg  \n",
            " extracting: train/images/cid_0_fr_5470_ts_00-03-48-144_jpg.rf.b32c4d24de5968c0576ac7f0f1b72580.jpg  \n",
            " extracting: train/images/cid_0_fr_5472_ts_00-03-48-228_jpg.rf.57ca241de3bb47145e50eb2eb9b3a6a9.jpg  \n",
            " extracting: train/images/cid_0_fr_5485_ts_00-03-48-770_jpg.rf.6bfbe11892cfa024d139d7a74158e9b2.jpg  \n",
            " extracting: train/images/cid_0_fr_5525_ts_00-03-41-000_jpg.rf.a51d6adb5a7d2c7d01a78f183f292bc9.jpg  \n",
            " extracting: train/images/cid_0_fr_553_ts_00-00-23-064_jpg.rf.3cf181272c9b12b9bb277822e54b1c6f.jpg  \n",
            " extracting: train/images/cid_0_fr_5541_ts_00-03-51-105_jpg.rf.020d21e7ebd76c9a289ed67f2591b9a4.jpg  \n",
            " extracting: train/images/cid_0_fr_5547_ts_00-03-41-880_jpg.rf.e173dfc103893c4654457a8f9dcc5195.jpg  \n",
            " extracting: train/images/cid_0_fr_5555_ts_00-03-42-200_jpg.rf.c3736f0b35f0cc451ff8413e2340d84c.jpg  \n",
            " extracting: train/images/cid_0_fr_5560_ts_00-03-42-400_jpg.rf.dcfb1fa51b2098b8cc793c51b73b321b.jpg  \n",
            " extracting: train/images/cid_0_fr_5571_ts_00-03-42-840_jpg.rf.df3f94b9ed35c0d2042818b7633197d3.jpg  \n",
            " extracting: train/images/cid_0_fr_5586_ts_00-03-43-440_jpg.rf.cae2fd90accca745274b67d4bc408bd5.jpg  \n",
            " extracting: train/images/cid_0_fr_5598_ts_00-03-43-920_jpg.rf.2a1224f7e06982da4b458323645bce8b.jpg  \n",
            " extracting: train/images/cid_0_fr_559_ts_00-00-18-651_jpg.rf.3c195b301c7e80ebc609f6098b226bf7.jpg  \n",
            " extracting: train/images/cid_0_fr_5684_ts_00-03-57-070_jpg.rf.bdd798f6b2c40d326a8c6699f090edd0.jpg  \n",
            " extracting: train/images/cid_0_fr_572_ts_00-00-22-880_jpg.rf.a078447e51d1f59126b0ec13518cbb9f.jpg  \n",
            " extracting: train/images/cid_0_fr_5736_ts_00-03-49-440_jpg.rf.81efab5ac0c28a58d149367e867264df.jpg  \n",
            " extracting: train/images/cid_0_fr_575_ts_00-00-19-185_jpg.rf.901e8e5cec156b7fa74ab97848ae902e.jpg  \n",
            " extracting: train/images/cid_0_fr_5817_ts_00-04-02-617_jpg.rf.d1bdc6b6b132c54e3341698d48713ff9.jpg  \n",
            " extracting: train/images/cid_0_fr_581_ts_00-00-24-232_jpg.rf.42690cdbdb2e0f5d4710a0cf55d52dea.jpg  \n",
            " extracting: train/images/cid_0_fr_5934_ts_00-04-07-497_jpg.rf.e8e3e51b7a0cf67c4214a1362e3e9bdb.jpg  \n",
            " extracting: train/images/cid_0_fr_5949_ts_00-04-08-122_jpg.rf.d976b7689d9cba74ec9698de322145fb.jpg  \n",
            " extracting: train/images/cid_0_fr_5965_ts_00-03-58-600_jpg.rf.364ad8aeb70b3e19440bc226f0048402.jpg  \n",
            " extracting: train/images/cid_0_fr_6014_ts_00-04-10-833_jpg.rf.dea6fb741a9ce0a4976a257a9051741f.jpg  \n",
            " extracting: train/images/cid_0_fr_6023_ts_00-04-00-920_jpg.rf.008f3d70ad3ecad784c1c9b3ddfdeb53.jpg  \n",
            " extracting: train/images/cid_0_fr_6035_ts_00-04-11-709_jpg.rf.f8147693efaa40736a8c4daa893774e8.jpg  \n",
            " extracting: train/images/cid_0_fr_6043_ts_00-04-12-043_jpg.rf.c3a3d23dd755c48021572cba8d6b5afc.jpg  \n",
            " extracting: train/images/cid_0_fr_6048_ts_00-04-01-920_jpg.rf.1af63faf1f22b383a5c8a58a0f5054f6.jpg  \n",
            " extracting: train/images/cid_0_fr_6066_ts_00-04-02-640_jpg.rf.68b2dc6b34d2cdf05ce63b0763aa52f2.jpg  \n",
            " extracting: train/images/cid_0_fr_6114_ts_00-04-04-560_jpg.rf.1d7a92b35f81c7ef5008ccc1de99aca0.jpg  \n",
            " extracting: train/images/cid_0_fr_6129_ts_00-04-15-630_jpg.rf.2b8c3daaa6b0b4218dae1e21ee27c801.jpg  \n",
            " extracting: train/images/cid_0_fr_6207_ts_00-04-18-883_jpg.rf.dd3659f42dfab91a40ccd8708badf03d.jpg  \n",
            " extracting: train/images/cid_0_fr_6240_ts_00-04-09-600_jpg.rf.c754367d1d6aad95e20175b4013ba826.jpg  \n",
            " extracting: train/images/cid_0_fr_6244_ts_00-04-09-760_jpg.rf.c4d8b7f4342acdc098bf4686f69f9d4f.jpg  \n",
            " extracting: train/images/cid_0_fr_6248_ts_00-04-09-920_jpg.rf.9b538a63ce35f02a1ccb95df7ca25828.jpg  \n",
            " extracting: train/images/cid_0_fr_6254_ts_00-04-20-843_jpg.rf.1759d333406d448783695cafce67e8c2.jpg  \n",
            " extracting: train/images/cid_0_fr_6270_ts_00-04-21-511_jpg.rf.bcf5572d770d546d5b400b1d61b5d849.jpg  \n",
            " extracting: train/images/cid_0_fr_6273_ts_00-04-21-636_jpg.rf.1d9ab1cb45790582098ec39e27e4c7eb.jpg  \n",
            " extracting: train/images/cid_0_fr_628_ts_00-00-26-192_jpg.rf.2108b11bfae22b220f01ce62dbd0e8a6.jpg  \n",
            " extracting: train/images/cid_0_fr_6296_ts_00-04-22-595_jpg.rf.74e8225921ff7b6ee3ff093497fd3cb4.jpg  \n",
            " extracting: train/images/cid_0_fr_629_ts_00-00-25-160_jpg.rf.2b1e05593cc5d237a44561c69f13af36.jpg  \n",
            " extracting: train/images/cid_0_fr_6306_ts_00-04-23-012_jpg.rf.dbf3aa05643b5795df0370d7575e100b.jpg  \n",
            " extracting: train/images/cid_0_fr_6311_ts_00-04-23-221_jpg.rf.1b635852294bb2af8a0596ac790a4c69.jpg  \n",
            " extracting: train/images/cid_0_fr_6321_ts_00-04-23-638_jpg.rf.5472719ac2cb1b7d5824ef39dd500a98.jpg  \n",
            " extracting: train/images/cid_0_fr_6345_ts_00-04-24-639_jpg.rf.c902836ddf1f84fc59c9e30216e54667.jpg  \n",
            " extracting: train/images/cid_0_fr_634_ts_00-00-26-443_jpg.rf.80ae2a952f3163a4a04de4939644d4cd.jpg  \n",
            " extracting: train/images/cid_0_fr_6391_ts_00-04-26-557_jpg.rf.e3070eaf5edd644435310a5d97bd2981.jpg  \n",
            " extracting: train/images/cid_0_fr_6460_ts_00-04-29-435_jpg.rf.88b493115ef0028bc9d1b36e09a9e941.jpg  \n",
            " extracting: train/images/cid_0_fr_6462_ts_00-04-29-519_jpg.rf.13f8c98f734a8036ce15e0bd1ae6950d.jpg  \n",
            " extracting: train/images/cid_0_fr_6501_ts_00-04-31-145_jpg.rf.62cad6e65d1860864c2f462a4cd2f4d6.jpg  \n",
            " extracting: train/images/cid_0_fr_6539_ts_00-04-32-730_jpg.rf.1bb9fb1ea098e43ff354e9aab4587aff.jpg  \n",
            " extracting: train/images/cid_0_fr_6553_ts_00-04-33-314_jpg.rf.17013a862901aa743574efb3f619eb25.jpg  \n",
            " extracting: train/images/cid_0_fr_655_ts_00-00-27-318_jpg.rf.9bd5c8733d974d0c33c606bc8688ffde.jpg  \n",
            " extracting: train/images/cid_0_fr_6588_ts_00-04-34-774_jpg.rf.9de15ead35b2418deedbe6f6b68312e3.jpg  \n",
            " extracting: train/images/cid_0_fr_6593_ts_00-04-34-983_jpg.rf.3edfbb197b5ba8d651958b7707ee8918.jpg  \n",
            " extracting: train/images/cid_0_fr_6739_ts_00-04-41-072_jpg.rf.c6e720c9972725fe7b3c752a4dd96e71.jpg  \n",
            " extracting: train/images/cid_0_fr_676_ts_00-00-27-040_jpg.rf.e712c217bc029dafc6b871e8127c3da4.jpg  \n",
            " extracting: train/images/cid_0_fr_683_ts_00-00-28-486_jpg.rf.152f1a1698f7aa7fd931d92cd1f50918.jpg  \n",
            " extracting: train/images/cid_0_fr_69_ts_00-00-02-877_jpg.rf.f04d9e0643d3f011011fbdf905b127b6.jpg  \n",
            " extracting: train/images/cid_0_fr_701_ts_00-00-29-237_jpg.rf.04fff6e6906ef64448e5eb4bec77aa86.jpg  \n",
            " extracting: train/images/cid_0_fr_701_ts_00-00-29-237_jpg.rf.d77dfe2e1e7d61759f3db230f233ff8e.jpg  \n",
            " extracting: train/images/cid_0_fr_7130_ts_00-04-57-380_jpg.rf.b3b7b8b99132e2d089fa1032bd025c67.jpg  \n",
            " extracting: train/images/cid_0_fr_713_ts_00-00-29-738_jpg.rf.3cef09c8f63317472da4564aa6ad49f9.jpg  \n",
            " extracting: train/images/cid_0_fr_72_ts_00-00-02-402_jpg.rf.d05240468f6f14dff2408b6142d883e2.jpg  \n",
            " extracting: train/images/cid_0_fr_730_ts_00-00-30-447_jpg.rf.c182207dc0cce3d12891791893db0abb.jpg  \n",
            " extracting: train/images/cid_0_fr_7311_ts_00-05-04-929_jpg.rf.cc3f8ca25f6a24dab8a20d889b764e8c.jpg  \n",
            " extracting: train/images/cid_0_fr_737_ts_00-00-29-480_jpg.rf.d40df93f1899eee08e11e04a0eeaa517.jpg  \n",
            " extracting: train/images/cid_0_fr_746_ts_00-00-31-114_jpg.rf.d745fc23e061842a39b0e6ac9cdc4d0b.jpg  \n",
            " extracting: train/images/cid_0_fr_751_ts_00-00-31-322_jpg.rf.221b595f56e96875f73e1ccafcb501bd.jpg  \n",
            " extracting: train/images/cid_0_fr_753_ts_00-00-31-406_jpg.rf.b2dfb11f7f68db9080f91f670dc0fdf2.jpg  \n",
            " extracting: train/images/cid_0_fr_7562_ts_00-05-15-398_jpg.rf.78ef3d20e8d60ef6320dbce2853e424e.jpg  \n",
            " extracting: train/images/cid_0_fr_759_ts_00-00-31-656_jpg.rf.2f75bd70e71493b693961f986f9be75c.jpg  \n",
            " extracting: train/images/cid_0_fr_7644_ts_00-05-18-818_jpg.rf.eefeffa1bb387c9340f2253c7cb53c18.jpg  \n",
            " extracting: train/images/cid_0_fr_766_ts_00-00-31-948-copy_jpg.rf.e094428c71eb5652b80a938bd19ba085.jpg  \n",
            " extracting: train/images/cid_0_fr_772_ts_00-00-32-198_jpg.rf.911518830e4b2534303ef9d6d118d944.jpg  \n",
            " extracting: train/images/cid_0_fr_7945_ts_00-05-31-372_jpg.rf.bc58923124f013c39afde4912172a9d7.jpg  \n",
            " extracting: train/images/cid_0_fr_804_ts_00-00-33-533_jpg.rf.a92620b5e2e7ec76acd3e1a2322431d9.jpg  \n",
            " extracting: train/images/cid_0_fr_8082_ts_00-05-37-086_jpg.rf.2a6a9e47bc67257fd6560850baf84862.jpg  \n",
            " extracting: train/images/cid_0_fr_816_ts_00-00-32-640_jpg.rf.92de6207c305582b47ee66ca21ea4a13.jpg  \n",
            " extracting: train/images/cid_0_fr_8308_ts_00-05-46-512_jpg.rf.3805fdd477d6e097ba0369f3080d0e20.jpg  \n",
            " extracting: train/images/cid_0_fr_8554_ts_00-05-56-773_jpg.rf.0a43a2fcf179c9a262a0cf19efe24f12.jpg  \n",
            " extracting: train/images/cid_0_fr_887_ts_00-00-36-995_jpg.rf.5628378f6e1b036a1241b256b20ef0ce.jpg  \n",
            " extracting: train/images/cid_0_fr_8987_ts_00-06-14-832_jpg.rf.f6dfd300d1754602acb68333b44e9621.jpg  \n",
            " extracting: train/images/cid_0_fr_907_ts_00-00-30-263_jpg.rf.e34babde02728988652ac96ebb7c101c.jpg  \n",
            " extracting: train/images/cid_0_fr_912_ts_00-00-38-038_jpg.rf.56ffb435d4ea2b66e1c70c92fbf72661.jpg  \n",
            " extracting: train/images/cid_0_fr_915_ts_00-00-38-163_jpg.rf.5ff4a8294d734203e49e1ac10f2cbb09.jpg  \n",
            " extracting: train/images/cid_0_fr_9343_ts_00-06-29-680_jpg.rf.faa7f0cb2d459668318cfe09387904cd.jpg  \n",
            " extracting: train/images/cid_0_fr_961_ts_00-00-38-440_jpg.rf.ba6ce1e745a7d71880be55197a0514f4.jpg  \n",
            " extracting: train/images/cid_0_fr_962_ts_00-00-40-123_jpg.rf.d4be16c8c2512e4579d70b98df0cd6e6.jpg  \n",
            " extracting: train/images/cid_0_fr_969_ts_00-00-40-415_jpg.rf.64e941b57cfc3610239677aa1a4d3554.jpg  \n",
            " extracting: train/images/cid_0_fr_9735_ts_00-06-45-625_jpg.rf.f20643b197095b9af7a680f5e3f5d6e7.jpg  \n",
            " extracting: train/images/cid_0_fr_986_ts_00-00-41-124_jpg.rf.ce3bfe31ccef236c920ec9ed7aa2609a.jpg  \n",
            " extracting: train/images/cid_0_fr_995_ts_00-00-41-499_jpg.rf.780c76b5fe5d3b7438d087fd7444d26f.jpg  \n",
            " extracting: train/images/cid_0_fr_9961_ts_00-06-55-456_jpg.rf.c2c9a0d33b2994a5d1c35f741cf2c557.jpg  \n",
            " extracting: train/images/dentist15_cid_0_fr_1052_ts_00-00-35-101_jpg.rf.ad6a3665b25acda0099a3a0497b62638.jpg  \n",
            " extracting: train/images/dentist15_cid_0_fr_1117_ts_00-00-37-270_jpg.rf.639a1d13f02fdc9403c026908d376a94.jpg  \n",
            " extracting: train/images/dentist15_cid_0_fr_1135_ts_00-00-37-871_jpg.rf.e5db5e0ef0302bce885f56749c3dcae4.jpg  \n",
            " extracting: train/images/dentist15_cid_0_fr_1153_ts_00-00-38-471_jpg.rf.491e342e00d5eae615be83c3b5012ba9.jpg  \n",
            " extracting: train/images/dentist15_cid_0_fr_1185_ts_00-00-39-539_jpg.rf.00050d8d65bedddf3abace28b81572a8.jpg  \n",
            " extracting: train/images/dentist15_cid_0_fr_1225_ts_00-00-40-874_jpg.rf.0abfe453b073a6cdc16dbe117350cd0f.jpg  \n",
            " extracting: train/images/dentist15_cid_0_fr_1258_ts_00-00-41-975_jpg.rf.98f227dcabe62c0c0097e27cdd390ad4.jpg  \n",
            " extracting: train/images/dentist15_cid_0_fr_1296_ts_00-00-43-243_jpg.rf.18ea63537effbc891be7da694fd9476b.jpg  \n",
            " extracting: train/images/dentist15_cid_0_fr_1348_ts_00-00-44-978_jpg.rf.8e86c8607425e7f2ab2bf93439192254.jpg  \n",
            " extracting: train/images/dentist15_cid_0_fr_1375_ts_00-00-45-879_jpg.rf.677db4dfbad966f7bc0aa7f3750333d7.jpg  \n",
            " extracting: train/images/dentist15_cid_0_fr_1428_ts_00-00-47-647_jpg.rf.53b1b4db876ae5cadefe517bbb1283fa.jpg  \n",
            " extracting: train/images/dentist15_cid_0_fr_1449_ts_00-00-48-348_jpg.rf.62b6237c0ef6394d6ea9ff89691f4f3d.jpg  \n",
            " extracting: train/images/dentist15_cid_0_fr_1483_ts_00-00-49-482_jpg.rf.74b217ea6d44d8408094be88c5c9d476.jpg  \n",
            " extracting: train/images/dentist15_cid_0_fr_1613_ts_00-00-53-820_jpg.rf.323b77b5e0f14dd72da404779caa87f8.jpg  \n",
            " extracting: train/images/dentist15_cid_0_fr_1649_ts_00-00-55-021_jpg.rf.384e015e0923ebf2f7ae6873175583ae.jpg  \n",
            " extracting: train/images/dentist15_cid_0_fr_1685_ts_00-00-56-222_jpg.rf.e57aa97b8c488df7e305e54118ff5518.jpg  \n",
            " extracting: train/images/dentist15_cid_0_fr_1725_ts_00-00-57-557_jpg.rf.405970fbf1aecd86230944dfebe05720.jpg  \n",
            " extracting: train/images/dentist15_cid_0_fr_1841_ts_00-01-01-428_jpg.rf.d62df156a027add13520f2e1732257d3.jpg  \n",
            " extracting: train/images/dentist15_cid_0_fr_1875_ts_00-01-02-562_jpg.rf.ea6ab0ebc0cd9bc41913fef24a9ef70f.jpg  \n",
            " extracting: train/images/dentist15_cid_0_fr_1888_ts_00-01-02-996_jpg.rf.23d55c25a43448f2a80a463a825163a2.jpg  \n",
            " extracting: train/images/dentist15_cid_0_fr_1889_ts_00-01-03-029_jpg.rf.8d4c47160af9b49e5a25392edbf597be.jpg  \n",
            " extracting: train/images/dentist15_cid_0_fr_1891_ts_00-01-03-096_jpg.rf.71f50cbcbc3da4812460dcb45238841c.jpg  \n",
            " extracting: train/images/dentist15_cid_0_fr_1893_ts_00-01-03-163_jpg.rf.619b775f7c663a551b3f051c3d4e9826.jpg  \n",
            " extracting: train/images/dentist15_cid_0_fr_1909_ts_00-01-03-696_jpg.rf.a4fd14a96144b2aee4f7f96d9f849b22.jpg  \n",
            " extracting: train/images/dentist15_cid_0_fr_1911_ts_00-01-03-763_jpg.rf.fd16f7fccf0135ea10637c8d691b62f4.jpg  \n",
            " extracting: train/images/dentist15_cid_0_fr_1936_ts_00-01-04-597_jpg.rf.30ee8249f52622ff06ab73902e1b4e60.jpg  \n",
            " extracting: train/images/dentist15_cid_0_fr_1948_ts_00-01-04-998_jpg.rf.7da77a220e393fd72a86b6ace1743b9c.jpg  \n",
            " extracting: train/images/dentist15_cid_0_fr_1959_ts_00-01-05-365_jpg.rf.b8f7be0c7d128c2a113b14189ca10f76.jpg  \n",
            " extracting: train/images/dentist15_cid_0_fr_195_ts_00-00-06-506_jpg.rf.263ec6e691bf3c1e52882dc535deeabf.jpg  \n",
            " extracting: train/images/dentist15_cid_0_fr_1999_ts_00-01-06-699_jpg.rf.5b22b5e0999c64ff04c481287fdb81ab.jpg  \n",
            " extracting: train/images/dentist15_cid_0_fr_2029_ts_00-01-07-700_jpg.rf.5245f5158f71098999780121be0ec5fd.jpg  \n",
            " extracting: train/images/dentist15_cid_0_fr_2042_ts_00-01-08-134_jpg.rf.3ed635d9f9d9337acc547cc3552c1134.jpg  \n",
            " extracting: train/images/dentist15_cid_0_fr_2048_ts_00-01-08-334_jpg.rf.528c37c2ddcfda4af15188fe5288dcfc.jpg  \n",
            " extracting: train/images/dentist15_cid_0_fr_2054_ts_00-01-08-535_jpg.rf.01d4a3f0d0a3bae1bd187c18b2150042.jpg  \n",
            " extracting: train/images/dentist15_cid_0_fr_2055_ts_00-01-08-568_jpg.rf.c3cf9250922410dd9dfda0604cce1441.jpg  \n",
            " extracting: train/images/dentist15_cid_0_fr_2078_ts_00-01-09-335_jpg.rf.d12f00bb00f84f53c36f87a3e200bf3f.jpg  \n",
            " extracting: train/images/dentist15_cid_0_fr_215_ts_00-00-07-173_jpg.rf.5d395a7c2deff7e88aec087aa60c038e.jpg  \n",
            " extracting: train/images/dentist15_cid_0_fr_2170_ts_00-01-12-405_jpg.rf.cb7859cd20cf2056082f574a3c80babe.jpg  \n",
            " extracting: train/images/dentist15_cid_0_fr_2201_ts_00-01-13-440_jpg.rf.905f70bdcedecdb789a91314175a6541.jpg  \n",
            " extracting: train/images/dentist15_cid_0_fr_2232_ts_00-01-14-474_jpg.rf.47edaaed64741f98ae603941223f90fe.jpg  \n",
            " extracting: train/images/dentist15_cid_0_fr_2261_ts_00-01-15-442_jpg.rf.b49040d2eb2f4450d55c438ebce9eee6.jpg  \n",
            " extracting: train/images/dentist15_cid_0_fr_2272_ts_00-01-15-809_jpg.rf.0e0755249fb30bb7bb9e1e3198bcafc8.jpg  \n",
            " extracting: train/images/dentist15_cid_0_fr_2290_ts_00-01-16-409_jpg.rf.8235925206e1cc0ae0bdca57423891d3.jpg  \n",
            " extracting: train/images/dentist15_cid_0_fr_2315_ts_00-01-17-243_jpg.rf.9725c6cb6e024e181faaa8db3e73d433.jpg  \n",
            " extracting: train/images/dentist15_cid_0_fr_2340_ts_00-01-18-078_jpg.rf.b1fe8ec7d86357c3d7b135c2b1d4be6d.jpg  \n",
            " extracting: train/images/dentist15_cid_0_fr_2450_ts_00-01-21-748_jpg.rf.98cc77c54053e93473cbde7b1553b4f8.jpg  \n",
            " extracting: train/images/dentist15_cid_0_fr_2512_ts_00-01-23-817_jpg.rf.1a6c67c52011cbc640da881ae41b0d99.jpg  \n",
            " extracting: train/images/dentist15_cid_0_fr_2525_ts_00-01-24-250_jpg.rf.afd524bb246c4227602a950e75fcf99b.jpg  \n",
            " extracting: train/images/dentist15_cid_0_fr_2526_ts_00-01-24-284_jpg.rf.2ef134e5a54d5ff6bb01b06d7ccaf9ce.jpg  \n",
            " extracting: train/images/dentist15_cid_0_fr_258_ts_00-00-08-608_jpg.rf.265679627d684fa32abddf47fb351e32.jpg  \n",
            " extracting: train/images/dentist15_cid_0_fr_2590_ts_00-01-26-419_jpg.rf.dc30209a7b37e66c2f39aeab081178f0.jpg  \n",
            " extracting: train/images/dentist15_cid_0_fr_2613_ts_00-01-27-187_jpg.rf.06119301b89614d9a60e0adf83d93fc0.jpg  \n",
            " extracting: train/images/dentist15_cid_0_fr_2616_ts_00-01-27-287_jpg.rf.d62895e939ee4925f96e134728af9341.jpg  \n",
            " extracting: train/images/dentist15_cid_0_fr_2631_ts_00-01-27-787_jpg.rf.b13c4d4077c2db28e759733476e922c8.jpg  \n",
            " extracting: train/images/dentist15_cid_0_fr_2638_ts_00-01-28-021_jpg.rf.1cddc105b453a8e75f8c7409e96e9927.jpg  \n",
            " extracting: train/images/dentist15_cid_0_fr_267_ts_00-00-08-908_jpg.rf.fc77ee69d2ac9311effc1e0d428b5ee9.jpg  \n",
            " extracting: train/images/dentist15_cid_0_fr_2696_ts_00-01-29-956_jpg.rf.6f55879a81123b1b50fdd049ea939570.jpg  \n",
            " extracting: train/images/dentist15_cid_0_fr_2721_ts_00-01-30-790_jpg.rf.e44d5dbac9fad98d1508b4ce622ad935.jpg  \n",
            " extracting: train/images/dentist15_cid_0_fr_2723_ts_00-01-30-857_jpg.rf.ed69ab9aa592c42539321005f368dbc7.jpg  \n",
            " extracting: train/images/dentist15_cid_0_fr_2725_ts_00-01-30-924_jpg.rf.94ed17d30ab857fca4f4068974363298.jpg  \n",
            " extracting: train/images/dentist15_cid_0_fr_2734_ts_00-01-31-224_jpg.rf.341b111011c8235c0fd4c6995a04c34d.jpg  \n",
            " extracting: train/images/dentist15_cid_0_fr_2749_ts_00-01-31-724_jpg.rf.85a5c7fde36c576f6c0e34cc46630800.jpg  \n",
            " extracting: train/images/dentist15_cid_0_fr_274_ts_00-00-09-142_jpg.rf.85e2e54fed6da29648a63578751e200f.jpg  \n",
            " extracting: train/images/dentist15_cid_0_fr_2786_ts_00-01-32-959_jpg.rf.738a437b136fd30f1bf8aa35bb756c78.jpg  \n",
            " extracting: train/images/dentist15_cid_0_fr_282_ts_00-00-09-409_jpg.rf.618540a16aaa9c55c44c295669d7cc26.jpg  \n",
            " extracting: train/images/dentist15_cid_0_fr_2839_ts_00-01-34-727_jpg.rf.f58a959f76ef38b08db40ff635ce4708.jpg  \n",
            " extracting: train/images/dentist15_cid_0_fr_2976_ts_00-01-39-299_jpg.rf.044c650356273d240b24010b631a48fb.jpg  \n",
            " extracting: train/images/dentist15_cid_0_fr_3043_ts_00-01-41-534_jpg.rf.1bd51c862aabb7762ec802ee0a0d28d7.jpg  \n",
            " extracting: train/images/dentist15_cid_0_fr_304_ts_00-00-10-143_jpg.rf.ba69d6734320fc71520c20f569cbf308.jpg  \n",
            " extracting: train/images/dentist15_cid_0_fr_3060_ts_00-01-42-102_jpg.rf.b2aeb2ade31c1efa205047529042a745.jpg  \n",
            " extracting: train/images/dentist15_cid_0_fr_3096_ts_00-01-43-303_jpg.rf.2293cb83296a272616c0ab443891020b.jpg  \n",
            " extracting: train/images/dentist15_cid_0_fr_3107_ts_00-01-43-670_jpg.rf.9e7151f8b559df114d48aa8e91335c6e.jpg  \n",
            " extracting: train/images/dentist15_cid_0_fr_3132_ts_00-01-44-504_jpg.rf.7d596e7f7b78e2afc4143fe0a813ce43.jpg  \n",
            " extracting: train/images/dentist15_cid_0_fr_3190_ts_00-01-46-439_jpg.rf.288dfc84391aeccecb84621ba0afcd18.jpg  \n",
            " extracting: train/images/dentist15_cid_0_fr_3439_ts_00-01-54-747_jpg.rf.66d204bf1922ff387c47b0d82d73da0a.jpg  \n",
            " extracting: train/images/dentist15_cid_0_fr_3547_ts_00-01-58-351_jpg.rf.5120d912fa1b9016d5449b3ff5bcc870.jpg  \n",
            " extracting: train/images/dentist15_cid_0_fr_3558_ts_00-01-58-718_jpg.rf.7f65371cd422d1efc3c103b8690e52ef.jpg  \n",
            " extracting: train/images/dentist15_cid_0_fr_362_ts_00-00-12-078_jpg.rf.d2080465d6eb6825f794ec4e0ae9f44b.jpg  \n",
            " extracting: train/images/dentist15_cid_0_fr_374_ts_00-00-12-479_jpg.rf.79b4477479f95b0ba1d62415df6f8b5b.jpg  \n",
            " extracting: train/images/dentist15_cid_0_fr_415_ts_00-00-13-847_jpg.rf.8136f6b19ac9a9afeff1d3f055bee466.jpg  \n",
            " extracting: train/images/dentist15_cid_0_fr_436_ts_00-00-14-547_jpg.rf.a960896065d1305d1c8de16f1ed6e632.jpg  \n",
            " extracting: train/images/dentist15_cid_0_fr_484_ts_00-00-16-149_jpg.rf.24db25d4d80d5c895904a7949196fa32.jpg  \n",
            " extracting: train/images/dentist15_cid_0_fr_534_ts_00-00-17-817_jpg.rf.7e6c29fbe45a03e8eb7740b87c327595.jpg  \n",
            " extracting: train/images/dentist15_cid_0_fr_540_ts_00-00-18-018_jpg.rf.2048fa5c56989395c11b8a3fcb39792f.jpg  \n",
            " extracting: train/images/dentist15_cid_0_fr_542_ts_00-00-18-084_jpg.rf.2d628fb700d99c7100733309dc0de071.jpg  \n",
            " extracting: train/images/dentist15_cid_0_fr_546_ts_00-00-18-218_jpg.rf.e54bb07af4dc18ed25cbf326a172574f.jpg  \n",
            " extracting: train/images/dentist15_cid_0_fr_580_ts_00-00-19-352_jpg.rf.b613e4efdbed235fb14be12088e07238.jpg  \n",
            " extracting: train/images/dentist15_cid_0_fr_584_ts_00-00-19-486_jpg.rf.f25e8196227824fda209f52974056c89.jpg  \n",
            " extracting: train/images/dentist15_cid_0_fr_622_ts_00-00-20-754_jpg.rf.a60fa14e1aabb6902f6087b55e91bc20.jpg  \n",
            " extracting: train/images/dentist15_cid_0_fr_630_ts_00-00-21-021_jpg.rf.4df0ecf67d2eda6d7ca821b017857a07.jpg  \n",
            " extracting: train/images/dentist15_cid_0_fr_676_ts_00-00-22-555_jpg.rf.0ae9ed84342148a6b0c000e405ae0f02.jpg  \n",
            " extracting: train/images/dentist15_cid_0_fr_710_ts_00-00-23-690_jpg.rf.c2e85aaebdcee7ae2472ace0983d3a1e.jpg  \n",
            " extracting: train/images/dentist15_cid_0_fr_724_ts_00-00-24-157_jpg.rf.bbf6326edbee4e039d14dbb849e9c867.jpg  \n",
            " extracting: train/images/dentist15_cid_0_fr_791_ts_00-00-26-393_jpg.rf.18ac30367fda0e35b017955637192943.jpg  \n",
            " extracting: train/images/dentist15_cid_0_fr_817_ts_00-00-27-260_jpg.rf.e0c6797572303e26e1b27ebcf0cf6948.jpg  \n",
            " extracting: train/images/dentist_items_0_jpg.rf.10cdf499174a86253adbdbc380f4e65c.jpg  \n",
            " extracting: train/images/dentist_items_1003_jpg.rf.ae800b9380c148a48cd2ee6340efc7a4.jpg  \n",
            " extracting: train/images/dentist_items_1004_jpg.rf.15a23c2f4fff60cdcc6b05db45286b3b.jpg  \n",
            " extracting: train/images/dentist_items_1006_jpg.rf.f8741f12c3df09725709d2767b98e472.jpg  \n",
            " extracting: train/images/dentist_items_1007_jpg.rf.0d3b5b1ff60030e7bdf256626920ee4e.jpg  \n",
            " extracting: train/images/dentist_items_1008_jpg.rf.f3b4faa35a93186a9f6f25c53b6e9f95.jpg  \n",
            " extracting: train/images/dentist_items_1009_jpg.rf.99c575f6799c74c6736ad77064b652ef.jpg  \n",
            " extracting: train/images/dentist_items_100_jpg.rf.275ba01921b1147ac758cb5c304eff36.jpg  \n",
            " extracting: train/images/dentist_items_1010_jpg.rf.22875b8e01f16e8f712e3e74010aadc6.jpg  \n",
            " extracting: train/images/dentist_items_1012_jpg.rf.d46d214ec94f0f144586cd3447bf8a92.jpg  \n",
            " extracting: train/images/dentist_items_1013_jpg.rf.9d4f3c3c8c24044f9117569f187489d2.jpg  \n",
            " extracting: train/images/dentist_items_1018_jpg.rf.9d6654265958bcb1ed6b1cb8c06861b7.jpg  \n",
            " extracting: train/images/dentist_items_101_jpg.rf.ce782c5bbe36537ce632bde87dd2dbd6.jpg  \n",
            " extracting: train/images/dentist_items_1022_jpg.rf.b46cee5715f9dd23e47da1bfea743ed1.jpg  \n",
            " extracting: train/images/dentist_items_1024_jpg.rf.f467b24aa4a859adb6084340d790035e.jpg  \n",
            " extracting: train/images/dentist_items_1025_jpg.rf.9104bde9ea80234e7d9cfe95338c6210.jpg  \n",
            " extracting: train/images/dentist_items_1026_jpg.rf.451abff26241319ca2c6ea3dad2c35fc.jpg  \n",
            " extracting: train/images/dentist_items_1027_jpg.rf.9d9d733bed7be5739194f34aa8a80013.jpg  \n",
            " extracting: train/images/dentist_items_1028_jpg.rf.5740dbe423ed61adadc9098d24845ee6.jpg  \n",
            " extracting: train/images/dentist_items_102_jpg.rf.66092e4511b8458d505e7f202fd8cc71.jpg  \n",
            " extracting: train/images/dentist_items_1030_jpg.rf.b3dafc879fd15d5d8004269c67cd32f7.jpg  \n",
            " extracting: train/images/dentist_items_1031_jpg.rf.010687202432f35fa51235888b702cdf.jpg  \n",
            " extracting: train/images/dentist_items_1032_jpg.rf.072c4efd20ec368863a3f88f075d94f9.jpg  \n",
            " extracting: train/images/dentist_items_1033_jpg.rf.75ae7904b8fbc810bc36d87f7179e452.jpg  \n",
            " extracting: train/images/dentist_items_1034_jpg.rf.fa7e4e3b9045079b88f88b191fee5602.jpg  \n",
            " extracting: train/images/dentist_items_1035_jpg.rf.e4856f60e5143d78ca3542905084f33d.jpg  \n",
            " extracting: train/images/dentist_items_1036_jpg.rf.429e0b5589315dea7163bbe7f1b536a7.jpg  \n",
            " extracting: train/images/dentist_items_1037_jpg.rf.918d4682a62821b18d05f2ace960b091.jpg  \n",
            " extracting: train/images/dentist_items_1038_jpg.rf.165a96a3cffe898c751a49c121f3a1c1.jpg  \n",
            " extracting: train/images/dentist_items_1039_jpg.rf.c78ca195b77bbaadd8330b7918b0de17.jpg  \n",
            " extracting: train/images/dentist_items_103_jpg.rf.af5826437e7070e808a7cb19163741b6.jpg  \n",
            " extracting: train/images/dentist_items_1040_jpg.rf.4796df727e71684b9b74d528349e190d.jpg  \n",
            " extracting: train/images/dentist_items_1042_jpg.rf.33d2d434a0bef91d734d7330aa7b6807.jpg  \n",
            " extracting: train/images/dentist_items_1043_jpg.rf.93e30b11ff7cca54906ebf1ecee5f22e.jpg  \n",
            " extracting: train/images/dentist_items_1044_jpg.rf.55cdd4d6bd77e968313d036d1cb69be6.jpg  \n",
            " extracting: train/images/dentist_items_1045_jpg.rf.9778d46d2ecc9e7994300b69b05758c4.jpg  \n",
            " extracting: train/images/dentist_items_1046_jpg.rf.463e058ab8028dd94afeb5f5f110ba68.jpg  \n",
            " extracting: train/images/dentist_items_1047_jpg.rf.75d2da3fa00998579c57582472b45c65.jpg  \n",
            " extracting: train/images/dentist_items_1048_jpg.rf.ee0b9d6a9dd2a3fa18439c9347b0fd30.jpg  \n",
            " extracting: train/images/dentist_items_1049_jpg.rf.b5077054a026fbc36fd62cf0d1b1236d.jpg  \n",
            " extracting: train/images/dentist_items_104_jpg.rf.0f895e72e5b0f64e40525ff828e45690.jpg  \n",
            " extracting: train/images/dentist_items_1050_jpg.rf.74ceed0e1c70ce3d03a2ee4688be00d1.jpg  \n",
            " extracting: train/images/dentist_items_1051_jpg.rf.9a0af0357a139319ab0017552d243d73.jpg  \n",
            " extracting: train/images/dentist_items_1052_jpg.rf.bac8661ceb329b98ca435862f6687ed0.jpg  \n",
            " extracting: train/images/dentist_items_1053_jpg.rf.14670deae937a5e918e5437219a8de96.jpg  \n",
            " extracting: train/images/dentist_items_1054_jpg.rf.f49f48dfdc8daf75787ea178b88b5a5c.jpg  \n",
            " extracting: train/images/dentist_items_1055_jpg.rf.fb486773fa1fd8a13a650ce643d997fd.jpg  \n",
            " extracting: train/images/dentist_items_1056_jpg.rf.d6f4c613e7932750fa51850fd6799b07.jpg  \n",
            " extracting: train/images/dentist_items_1057_jpg.rf.d078e20955709f4e40e0f20bf7f3081b.jpg  \n",
            " extracting: train/images/dentist_items_1058_jpg.rf.f2794cb967d58e6aa18df4b2c86c63a1.jpg  \n",
            " extracting: train/images/dentist_items_1059_jpg.rf.d16e9d9567bd8061c7d6e504d319f6c5.jpg  \n",
            " extracting: train/images/dentist_items_105_jpg.rf.5e0ee4814f0ae3d758565dedfbb42d70.jpg  \n",
            " extracting: train/images/dentist_items_1060_jpg.rf.6ab88136ed0f0bcb40c887d308f48489.jpg  \n",
            " extracting: train/images/dentist_items_1061_jpg.rf.bca4f9226b0fc41addff50344cab6f9a.jpg  \n",
            " extracting: train/images/dentist_items_1062_jpg.rf.52d95b306ea3c08c60386551da2431d0.jpg  \n",
            " extracting: train/images/dentist_items_1063_jpg.rf.3e215ee106c3e02fe5eb156fbe0cb912.jpg  \n",
            " extracting: train/images/dentist_items_1064_jpg.rf.f7ed65e5d9db1652ceca95f06579b331.jpg  \n",
            " extracting: train/images/dentist_items_1065_jpg.rf.07a4b5809e1b2b2c6bb1bd563ddbbecb.jpg  \n",
            " extracting: train/images/dentist_items_1066_jpg.rf.059677561aa51c38a6207f4a9875e54a.jpg  \n",
            " extracting: train/images/dentist_items_1067_jpg.rf.3bedadf5d03935d93aa094a3b3f9ff7d.jpg  \n",
            " extracting: train/images/dentist_items_1068_jpg.rf.18a04c05e1583d6961ca489b7ad9ae5b.jpg  \n",
            " extracting: train/images/dentist_items_1069_jpg.rf.23785934df389d3f4afd2441db1f10cb.jpg  \n",
            " extracting: train/images/dentist_items_106_jpg.rf.c7cdcae50daa6b0d77a05312152f50b8.jpg  \n",
            " extracting: train/images/dentist_items_1070_jpg.rf.19fad0d1d94cf9b3212a82c8c0e32ba0.jpg  \n",
            " extracting: train/images/dentist_items_1071_jpg.rf.005949a683f1f4fc90e206369fbcdf40.jpg  \n",
            " extracting: train/images/dentist_items_1072_jpg.rf.751e0d9b0a3de6dbdf191b8a2552a6ec.jpg  \n",
            " extracting: train/images/dentist_items_1073_jpg.rf.98c066e7fcd2e0223067da25866d092b.jpg  \n",
            " extracting: train/images/dentist_items_1074_jpg.rf.828d6640e163f301eca7261144fc44c3.jpg  \n",
            " extracting: train/images/dentist_items_1078_jpg.rf.6d78966ee2abac52ae8e8f85603a6ca5.jpg  \n",
            " extracting: train/images/dentist_items_107_jpg.rf.78bb8fb459deb954b5db49305f16f44c.jpg  \n",
            " extracting: train/images/dentist_items_1080_jpg.rf.ea70e69717ee162949984931086292ae.jpg  \n",
            " extracting: train/images/dentist_items_1082_jpg.rf.438352a3c8f4427f7ef25b48f40498bb.jpg  \n",
            " extracting: train/images/dentist_items_1083_jpg.rf.2db644e9a14da1e965fbb7acb6935cc8.jpg  \n",
            " extracting: train/images/dentist_items_1084_jpg.rf.a40acd0d83cc1a69e82b886d7d90bf4c.jpg  \n",
            " extracting: train/images/dentist_items_1085_jpg.rf.c9bb69f34a8d8328a85166a9b0dc9f0f.jpg  \n",
            " extracting: train/images/dentist_items_1086_jpg.rf.b175d7ffe2af3ecc258008646d307c6f.jpg  \n",
            " extracting: train/images/dentist_items_1087_jpg.rf.e85c356d2add0b2648c38a978268db87.jpg  \n",
            " extracting: train/images/dentist_items_1088_jpg.rf.63f9f651b27221b57dd200f45c6515a8.jpg  \n",
            " extracting: train/images/dentist_items_1089_jpg.rf.88ed35cff8139ce8beec634bc71fc535.jpg  \n",
            " extracting: train/images/dentist_items_108_jpg.rf.19e2f9854a28fac7dc8ade5fa077dfc4.jpg  \n",
            " extracting: train/images/dentist_items_1090_jpg.rf.59e46bba91abaa0d9549ce48c96f87dd.jpg  \n",
            " extracting: train/images/dentist_items_1091_jpg.rf.9677a9bded713cafde65e83066359198.jpg  \n",
            " extracting: train/images/dentist_items_1093_jpg.rf.7e1f4e05f6d29a09768fba6943a7ff18.jpg  \n",
            " extracting: train/images/dentist_items_1094_jpg.rf.da979995020b31cdcfe6741dec059038.jpg  \n",
            " extracting: train/images/dentist_items_1095_jpg.rf.84fa9f6d0d10606822990fef562f26f4.jpg  \n",
            " extracting: train/images/dentist_items_1096_jpg.rf.5648a28b37119f96876ad78c7aad1b93.jpg  \n",
            " extracting: train/images/dentist_items_1097_jpg.rf.1d495ff7a5b8275c27cb17913765ba94.jpg  \n",
            " extracting: train/images/dentist_items_1098_jpg.rf.b3b98f6727835419c0d520b743176530.jpg  \n",
            " extracting: train/images/dentist_items_1099_jpg.rf.114c37c9739acdb3cf55fa97afccd092.jpg  \n",
            " extracting: train/images/dentist_items_109_jpg.rf.bd7b83098c7bf4f00e854286b29d131e.jpg  \n",
            " extracting: train/images/dentist_items_10_jpg.rf.f7b96fbd9299ec93fd946857e2d9a8f4.jpg  \n",
            " extracting: train/images/dentist_items_1100_jpg.rf.15e5b651cd1fd090cce5b664803f855d.jpg  \n",
            " extracting: train/images/dentist_items_1101_jpg.rf.94ca976e68d260e226a2f4bd7b98bc89.jpg  \n",
            " extracting: train/images/dentist_items_1102_jpg.rf.bf65ebb6dc4ca364cd8a803cda257202.jpg  \n",
            " extracting: train/images/dentist_items_1103_jpg.rf.19a3be5b03583228738159e97b1a4e03.jpg  \n",
            " extracting: train/images/dentist_items_1104_jpg.rf.7c4151f00a6a0865c921872588d76abb.jpg  \n",
            " extracting: train/images/dentist_items_1105_jpg.rf.1c3ff6648e167055f43f10b81de25981.jpg  \n",
            " extracting: train/images/dentist_items_1106_jpg.rf.8371ead771b33e6c82c1766b3de09312.jpg  \n",
            " extracting: train/images/dentist_items_1107_jpg.rf.330480f3e6f39e84394a982cba5572e1.jpg  \n",
            " extracting: train/images/dentist_items_1108_jpg.rf.133fb6164342d7bc8e2b61f037ce541a.jpg  \n",
            " extracting: train/images/dentist_items_1109_jpg.rf.53bad7e3457608725073fd71080fd5c0.jpg  \n",
            " extracting: train/images/dentist_items_110_jpg.rf.6e3f827554515c1caf1ac41569cce0f6.jpg  \n",
            " extracting: train/images/dentist_items_1110_jpg.rf.fae0b714faa2bc536e54f9de66daeb28.jpg  \n",
            " extracting: train/images/dentist_items_1111_jpg.rf.3cb1a6221b3231b7c255eaf691b0130e.jpg  \n",
            " extracting: train/images/dentist_items_1112_jpg.rf.663f3fd5a42f1e1e9a3e4e7e04414a10.jpg  \n",
            " extracting: train/images/dentist_items_1113_jpg.rf.27e54c94b9dfb139755d9cf0fe409b10.jpg  \n",
            " extracting: train/images/dentist_items_1114_jpg.rf.658bd4f253ff7caebab6dff2200389b7.jpg  \n",
            " extracting: train/images/dentist_items_1115_jpg.rf.bbc706647ae5223469b4b4f41a08b73b.jpg  \n",
            " extracting: train/images/dentist_items_1116_jpg.rf.722535d7877b5fa2fcda5408e4078b11.jpg  \n",
            " extracting: train/images/dentist_items_1117_jpg.rf.37fde2f41420cc344e43dd6026bd1c4b.jpg  \n",
            " extracting: train/images/dentist_items_1118_jpg.rf.59fdd64083d6b20435237e7d5feaeae2.jpg  \n",
            " extracting: train/images/dentist_items_1119_jpg.rf.2e53c5bb7e6095ec7b603123e482cf4e.jpg  \n",
            " extracting: train/images/dentist_items_111_jpg.rf.3f20119787ed60c4e84b0a6fc6ebf95e.jpg  \n",
            " extracting: train/images/dentist_items_1120_jpg.rf.acbfe47ccb1a2be8ecee3b15e8bae256.jpg  \n",
            " extracting: train/images/dentist_items_1121_jpg.rf.16e55c4731f5ebcb7efc73ff179ed43b.jpg  \n",
            " extracting: train/images/dentist_items_1122_jpg.rf.c6b6fb6833bdf8af83aaca0c45e0d53a.jpg  \n",
            " extracting: train/images/dentist_items_1123_jpg.rf.961e5546ee540f84894d69e47ed4aa9b.jpg  \n",
            " extracting: train/images/dentist_items_1124_jpg.rf.8a791cf078efb705a5f323f6d4f746f4.jpg  \n",
            " extracting: train/images/dentist_items_1125_jpg.rf.c7b2bedb49884e44bccb0d9440c89307.jpg  \n",
            " extracting: train/images/dentist_items_1126_jpg.rf.79f06a8e9f7302189a83ee80216ee017.jpg  \n",
            " extracting: train/images/dentist_items_1127_jpg.rf.53c001935fcb75f84d1b6ad0af2b1d20.jpg  \n",
            " extracting: train/images/dentist_items_1128_jpg.rf.71f9566cd3764f3eec90ea1a4cac5745.jpg  \n",
            " extracting: train/images/dentist_items_1129_jpg.rf.d0b578044a8048f62e8848edd035faab.jpg  \n",
            " extracting: train/images/dentist_items_112_jpg.rf.3aae241041872fe8a48131650ff7da71.jpg  \n",
            " extracting: train/images/dentist_items_1130_jpg.rf.6ece27bf2c83b99861a897c99d0470d9.jpg  \n",
            " extracting: train/images/dentist_items_1131_jpg.rf.a0add7ac6f23044bcd1442bdd1427cf6.jpg  \n",
            " extracting: train/images/dentist_items_1132_jpg.rf.a64185aaae5dd173cf767ebdaa3277ee.jpg  \n",
            " extracting: train/images/dentist_items_1133_jpg.rf.ea866b64708ddd4fc644149ec57f3188.jpg  \n",
            " extracting: train/images/dentist_items_1134_jpg.rf.c63dc108b8a370ee1516778947ea558d.jpg  \n",
            " extracting: train/images/dentist_items_1135_jpg.rf.13fd651715a33f0d07adfe5f8b7ff1d7.jpg  \n",
            " extracting: train/images/dentist_items_1136_jpg.rf.9154629e6f4973c89dfa5ddefe679b6b.jpg  \n",
            " extracting: train/images/dentist_items_1137_jpg.rf.f9b07c3d489396629ec9f361df894d75.jpg  \n",
            " extracting: train/images/dentist_items_1138_jpg.rf.3f025bdc42d24e89c3db816bae8e7696.jpg  \n",
            " extracting: train/images/dentist_items_1139_jpg.rf.62c2854459eba45bdf751a481a600c08.jpg  \n",
            " extracting: train/images/dentist_items_113_jpg.rf.3e433559a0db92d3ef2855b844b0e2f6.jpg  \n",
            " extracting: train/images/dentist_items_1140_jpg.rf.7141ceceb9c163c0dada47cdcb4ee575.jpg  \n",
            " extracting: train/images/dentist_items_1141_jpg.rf.497b4358f2d04fe958015aa1922d5777.jpg  \n",
            " extracting: train/images/dentist_items_1142_jpg.rf.fadf5d20e49824f12e9492c97b80b039.jpg  \n",
            " extracting: train/images/dentist_items_1143_jpg.rf.f3744b0aacdac018e97391941826bedf.jpg  \n",
            " extracting: train/images/dentist_items_1144_jpg.rf.c812f23170099a70c905e0d2ed462ec3.jpg  \n",
            " extracting: train/images/dentist_items_1145_jpg.rf.061ad99fc20ae8e3b96d0ea7fc1ca52f.jpg  \n",
            " extracting: train/images/dentist_items_1146_jpg.rf.9ec4e84bae018998056c39f58f73c3bb.jpg  \n",
            " extracting: train/images/dentist_items_1147_jpg.rf.17f3f7db299149e85831c13cc9abb709.jpg  \n",
            " extracting: train/images/dentist_items_1148_jpg.rf.9a732dba43c8718133e425602094894b.jpg  \n",
            " extracting: train/images/dentist_items_1149_jpg.rf.72d1bb293e0cdb85b4927536e68d5548.jpg  \n",
            " extracting: train/images/dentist_items_114_jpg.rf.104b64e1aa32b9db3d0babf3df2c5ac0.jpg  \n",
            " extracting: train/images/dentist_items_1150_jpg.rf.1ce20812604a708a8418ed117bfda83f.jpg  \n",
            " extracting: train/images/dentist_items_1151_jpg.rf.4f149b7b3a5cc509bd5da1fea0247550.jpg  \n",
            " extracting: train/images/dentist_items_1152_jpg.rf.9b90d026964be24949e1f00c4b926edf.jpg  \n",
            " extracting: train/images/dentist_items_1153_jpg.rf.d6e3cc4b895f7f069e82773cb4b6a23b.jpg  \n",
            " extracting: train/images/dentist_items_1154_jpg.rf.3a7186a213568bc964a74eb64f058854.jpg  \n",
            " extracting: train/images/dentist_items_1155_jpg.rf.e49e0d09b91d5ecc379b490937eb1fc0.jpg  \n",
            " extracting: train/images/dentist_items_1156_jpg.rf.fdb858bc8f2808e314780eb5de7582c6.jpg  \n",
            " extracting: train/images/dentist_items_1157_jpg.rf.b5ec098481ea6d7d0748ec6a34a39c41.jpg  \n",
            " extracting: train/images/dentist_items_1158_jpg.rf.7c2ebdfdfbb4e8f1f40706fc41afde50.jpg  \n",
            " extracting: train/images/dentist_items_1159_jpg.rf.d0010918757c9f198c8b2661448dc319.jpg  \n",
            " extracting: train/images/dentist_items_115_jpg.rf.5462232ea72265ca50f132d25c2d36c4.jpg  \n",
            " extracting: train/images/dentist_items_1160_jpg.rf.b6759481741294f7dab41bb96e036fee.jpg  \n",
            " extracting: train/images/dentist_items_1161_jpg.rf.1dfa8b546c4ff11d735c4e4e82c55588.jpg  \n",
            " extracting: train/images/dentist_items_1162_jpg.rf.e0003e95059981518e1bc982969e0971.jpg  \n",
            " extracting: train/images/dentist_items_1163_jpg.rf.9a329db16240c8b9d2374c1e9b53ab91.jpg  \n",
            " extracting: train/images/dentist_items_1164_jpg.rf.c60b9d0509be6c430416963e43b32735.jpg  \n",
            " extracting: train/images/dentist_items_1165_jpg.rf.0cedf56518cb3ccb98f43bfbb62cb4da.jpg  \n",
            " extracting: train/images/dentist_items_1166_jpg.rf.b54319ebd2564bfa920a8965768c9278.jpg  \n",
            " extracting: train/images/dentist_items_1167_jpg.rf.1e81d0998b20b2e86fe8bf5ef19547a6.jpg  \n",
            " extracting: train/images/dentist_items_1168_jpg.rf.ac3483ed421180eff3dd2263e49ad874.jpg  \n",
            " extracting: train/images/dentist_items_1169_jpg.rf.38f14f244f782402467a0e339a3c8e68.jpg  \n",
            " extracting: train/images/dentist_items_116_jpg.rf.07170df81a2da633747639530a16849a.jpg  \n",
            " extracting: train/images/dentist_items_1171_jpg.rf.618a15b217195daa7d3d287700d75a6a.jpg  \n",
            " extracting: train/images/dentist_items_1172_jpg.rf.d68b63c503f5f25b425b5ae221c1e4d9.jpg  \n",
            " extracting: train/images/dentist_items_1175_jpg.rf.e0c6a4b2923e25e758e5f6f6e226ed44.jpg  \n",
            " extracting: train/images/dentist_items_1176_jpg.rf.7242230a20407cb6b7be95730752d590.jpg  \n",
            " extracting: train/images/dentist_items_1177_jpg.rf.630ddaa9fe51e4215983b53efec0810e.jpg  \n",
            " extracting: train/images/dentist_items_1178_jpg.rf.ed34bd4e9d8580ac563a992dd0b14b37.jpg  \n",
            " extracting: train/images/dentist_items_1179_jpg.rf.d31f7b82ed2728de406bfedea967e70c.jpg  \n",
            " extracting: train/images/dentist_items_117_jpg.rf.43d4a6db1093c7d33f1f2727ce584c6b.jpg  \n",
            " extracting: train/images/dentist_items_1180_jpg.rf.0ef3d152e8859aed0b80361a012b9998.jpg  \n",
            " extracting: train/images/dentist_items_1181_jpg.rf.e45409bc9ffd51c79ff6f5b9665f2d3d.jpg  \n",
            " extracting: train/images/dentist_items_1182_jpg.rf.75b595d385205005c2b5358f11f7296d.jpg  \n",
            " extracting: train/images/dentist_items_1183_jpg.rf.e387500946391530c44c6d72552c145d.jpg  \n",
            " extracting: train/images/dentist_items_1184_jpg.rf.c846271494cdbf8854eaec33d6c450f9.jpg  \n",
            " extracting: train/images/dentist_items_1185_jpg.rf.40830ef8a7dbcc0fa3e66dd81bc1356c.jpg  \n",
            " extracting: train/images/dentist_items_1186_jpg.rf.bfff37f7570bd1d57b793a3fc11e4384.jpg  \n",
            " extracting: train/images/dentist_items_1187_jpg.rf.9cc00ea5488548734cb15c3a3b5e5039.jpg  \n",
            " extracting: train/images/dentist_items_1188_jpg.rf.d1164e92c3a4e4ac0d0afb90d5dd01b2.jpg  \n",
            " extracting: train/images/dentist_items_1189_jpg.rf.ba7d190633b981a2f705f026530dd55a.jpg  \n",
            " extracting: train/images/dentist_items_118_jpg.rf.8dc7df8741113f671bc3bfd04ce0a2f7.jpg  \n",
            " extracting: train/images/dentist_items_1190_jpg.rf.506cae85affbffa4ba8e95ac52fb349c.jpg  \n",
            " extracting: train/images/dentist_items_1192_jpg.rf.725940be3a2f0de07d3dfdd7d574b1e9.jpg  \n",
            " extracting: train/images/dentist_items_1193_jpg.rf.6670f76d8333063beebd4c57b300993a.jpg  \n",
            " extracting: train/images/dentist_items_1194_jpg.rf.53e0fbfb0de2a0190ae4af64ae3ba139.jpg  \n",
            " extracting: train/images/dentist_items_1195_jpg.rf.0a5a36de611aaf00d8806d2a103618ab.jpg  \n",
            " extracting: train/images/dentist_items_1196_jpg.rf.772144a99e8b78757f119d7c054a29ff.jpg  \n",
            " extracting: train/images/dentist_items_1197_jpg.rf.fc05abc6cb4e6b74bee4b5c6cc8b5f41.jpg  \n",
            " extracting: train/images/dentist_items_1198_jpg.rf.41588ce7f7ad9ca6a989af15bfa70fba.jpg  \n",
            " extracting: train/images/dentist_items_1199_jpg.rf.80bd97096408717f0c1380f2b9b2045c.jpg  \n",
            " extracting: train/images/dentist_items_119_jpg.rf.acb2e6ed839e841194d0aeed39b0db6d.jpg  \n",
            " extracting: train/images/dentist_items_11_jpg.rf.aea09e4bc26cedbee572235e48db20ec.jpg  \n",
            " extracting: train/images/dentist_items_1200_jpg.rf.d3cdb45e068445d1c3e1d62556678387.jpg  \n",
            " extracting: train/images/dentist_items_1201_jpg.rf.b4147ed543a876e01d048e6348f00bb8.jpg  \n",
            " extracting: train/images/dentist_items_1202_jpg.rf.4e231d6941ae44912765bcc345488160.jpg  \n",
            " extracting: train/images/dentist_items_1203_jpg.rf.9e1315270f9fcfd4be2c2410ac30c0f2.jpg  \n",
            " extracting: train/images/dentist_items_1204_jpg.rf.b82fcc816bd688a966dac49afbe2a12c.jpg  \n",
            " extracting: train/images/dentist_items_1207_jpg.rf.c439add9e7a8da866a9f13bb8ddcff3f.jpg  \n",
            " extracting: train/images/dentist_items_1208_jpg.rf.07eaa14ab8eadd360e4716385bbe2c24.jpg  \n",
            " extracting: train/images/dentist_items_1209_jpg.rf.638a6229c20b3fa57bc574128e40b227.jpg  \n",
            " extracting: train/images/dentist_items_120_jpg.rf.ef8046f86c51eea76fdd56428522af4d.jpg  \n",
            " extracting: train/images/dentist_items_1210_jpg.rf.586005f673ae1ab8d0961b713c6ac0ca.jpg  \n",
            " extracting: train/images/dentist_items_1211_jpg.rf.db75493e5d84615507e112dcca0022b2.jpg  \n",
            " extracting: train/images/dentist_items_1212_jpg.rf.e787fc51d78f2b14b0141eb7eed20ec4.jpg  \n",
            " extracting: train/images/dentist_items_1213_jpg.rf.402e242c6b7662878899544fa0f28e11.jpg  \n",
            " extracting: train/images/dentist_items_1214_jpg.rf.de939c8494c6789aaeb9f57012fd63c2.jpg  \n",
            " extracting: train/images/dentist_items_1215_jpg.rf.43b7068a4746fbc698ed7122e26f9b55.jpg  \n",
            " extracting: train/images/dentist_items_1216_jpg.rf.582035581a83011b9cc3ef9df2d1cfc7.jpg  \n",
            " extracting: train/images/dentist_items_1217_jpg.rf.928e0966b05f521fd9f3a45f335e1201.jpg  \n",
            " extracting: train/images/dentist_items_1219_jpg.rf.32c53fd40bad09f96411b76b9646f76e.jpg  \n",
            " extracting: train/images/dentist_items_121_jpg.rf.7271f845307817a7f2017e75fa34ceda.jpg  \n",
            " extracting: train/images/dentist_items_1220_jpg.rf.2191a05c3ec4d273ef5463c73c0fc99a.jpg  \n",
            " extracting: train/images/dentist_items_1221_jpg.rf.8968592ae45fca38028a63b0000b18fa.jpg  \n",
            " extracting: train/images/dentist_items_1223_jpg.rf.37098b7a89f8d5b39ac0041a4e25b7ad.jpg  \n",
            " extracting: train/images/dentist_items_1224_jpg.rf.4a950f85abe5ad74c52fd17084df95c6.jpg  \n",
            " extracting: train/images/dentist_items_1225_jpg.rf.55d2fe69d6399690254d754ee69d9be4.jpg  \n",
            " extracting: train/images/dentist_items_1226_jpg.rf.3bc45724b094022bdf6383f90fffc464.jpg  \n",
            " extracting: train/images/dentist_items_1227_jpg.rf.f78dad09b79d1bd18d02285bd4ab9972.jpg  \n",
            " extracting: train/images/dentist_items_1228_jpg.rf.34108e87d06df155c642278d1bb5658b.jpg  \n",
            " extracting: train/images/dentist_items_1229_jpg.rf.4040a742e59996459665629226cb0e88.jpg  \n",
            " extracting: train/images/dentist_items_122_jpg.rf.a845faeec78de1cc37c56daf3371a953.jpg  \n",
            " extracting: train/images/dentist_items_1230_jpg.rf.9db4988a9eae33e8da4a18c16c6050ea.jpg  \n",
            " extracting: train/images/dentist_items_1231_jpg.rf.d434b62406a4e6a0bf8ac836dfd5b203.jpg  \n",
            " extracting: train/images/dentist_items_1232_jpg.rf.3ad3243bda61ac1c89abb36d7d14038a.jpg  \n",
            " extracting: train/images/dentist_items_1233_jpg.rf.0d362c4bf663732e03e342741a4e01e3.jpg  \n",
            " extracting: train/images/dentist_items_1234_jpg.rf.d9bba52837e2402fa0ec9f80cc216bd9.jpg  \n",
            " extracting: train/images/dentist_items_1235_jpg.rf.793c75b22bee47331b392d03be167fc1.jpg  \n",
            " extracting: train/images/dentist_items_1236_jpg.rf.a7ae8708087979580609daf505402877.jpg  \n",
            " extracting: train/images/dentist_items_1237_jpg.rf.7d7b3fdcab8f36c3b2e9cef3913bd11d.jpg  \n",
            " extracting: train/images/dentist_items_1238_jpg.rf.4d7258db460bfda38a617c87571ae3c8.jpg  \n",
            " extracting: train/images/dentist_items_1239_jpg.rf.87849a4df0b50d5cc353681268299d44.jpg  \n",
            " extracting: train/images/dentist_items_123_jpg.rf.64e5d849153466e211528d44b2f76b9b.jpg  \n",
            " extracting: train/images/dentist_items_1240_jpg.rf.c6c118b7bfcea6a35101d65a297f5e60.jpg  \n",
            " extracting: train/images/dentist_items_1241_jpg.rf.0ebb0d67f092ae074d689263ba0169b5.jpg  \n",
            " extracting: train/images/dentist_items_1242_jpg.rf.133f56eee274219d31daa2a5e69716b5.jpg  \n",
            " extracting: train/images/dentist_items_1243_jpg.rf.722ca23700843021b30f5f78d05fa67e.jpg  \n",
            " extracting: train/images/dentist_items_1244_jpg.rf.90d6d61293e118fe169c38bde073916f.jpg  \n",
            " extracting: train/images/dentist_items_1245_jpg.rf.68db83f17d205f3797e061b866d38c29.jpg  \n",
            " extracting: train/images/dentist_items_1246_jpg.rf.69f2f63a7a251826174e9b38e787d713.jpg  \n",
            " extracting: train/images/dentist_items_1247_jpg.rf.c80f8c23e7eec9a352cf26f96f16af06.jpg  \n",
            " extracting: train/images/dentist_items_1248_jpg.rf.9b032e90ae8272841dacb13c3b62cb30.jpg  \n",
            " extracting: train/images/dentist_items_124_jpg.rf.a1303d76bce66b0d435bfbc3dd68a7a1.jpg  \n",
            " extracting: train/images/dentist_items_1251_jpg.rf.fcb7cf87f7112f9ccade85e4bad60703.jpg  \n",
            " extracting: train/images/dentist_items_1252_jpg.rf.2ee0c6dbdd2c47ee199b773c6bec9067.jpg  \n",
            " extracting: train/images/dentist_items_1253_jpg.rf.f79823f9e1cf83384983fa785115b058.jpg  \n",
            " extracting: train/images/dentist_items_1254_jpg.rf.de9e0f7102ce5eedfea20933ca6cb51a.jpg  \n",
            " extracting: train/images/dentist_items_1255_jpg.rf.c666baea96fee65e2d4ac95ab9140878.jpg  \n",
            " extracting: train/images/dentist_items_1256_jpg.rf.df87ff45cd234cae8ed2765e156377ac.jpg  \n",
            " extracting: train/images/dentist_items_1257_jpg.rf.36d468cd492bf62659c06fce811f712c.jpg  \n",
            " extracting: train/images/dentist_items_1259_jpg.rf.4ac99e145b9b70cca729b1156cb23f0e.jpg  \n",
            " extracting: train/images/dentist_items_125_jpg.rf.eafe5d7160a929839f997de7315d8a78.jpg  \n",
            " extracting: train/images/dentist_items_1260_jpg.rf.e9ed3f27c099a94747d5e0ec4e43a491.jpg  \n",
            " extracting: train/images/dentist_items_1261_jpg.rf.71952e7bbae2252122fe45a851200812.jpg  \n",
            " extracting: train/images/dentist_items_1262_jpg.rf.71b4436098a9b940bf2cf027b3c41ea3.jpg  \n",
            " extracting: train/images/dentist_items_1263_jpg.rf.8a4f35bcc59ea158247ac4965d9f9a63.jpg  \n",
            " extracting: train/images/dentist_items_1264_jpg.rf.a32182d7e073b0c328a477884516a691.jpg  \n",
            " extracting: train/images/dentist_items_1265_jpg.rf.95e0e66c7acb6ce4c4a4557389ab36be.jpg  \n",
            " extracting: train/images/dentist_items_1266_jpg.rf.14c7c9aef23e74f09787469e891e747f.jpg  \n",
            " extracting: train/images/dentist_items_1267_jpg.rf.1e250095fb135202881d347ef258c016.jpg  \n",
            " extracting: train/images/dentist_items_1268_jpg.rf.8c4b77365371f0173818244d9a3b5553.jpg  \n",
            " extracting: train/images/dentist_items_1269_jpg.rf.bcc94582fe327c8aaedd4a8da1767796.jpg  \n",
            " extracting: train/images/dentist_items_126_jpg.rf.070483a02448eda3c69714fc69adddc5.jpg  \n",
            " extracting: train/images/dentist_items_1270_jpg.rf.e522fc4d115b0e5ebc74f14ecc05cf05.jpg  \n",
            " extracting: train/images/dentist_items_1271_jpg.rf.be6a425d3b43af9027ac16c8be0803d8.jpg  \n",
            " extracting: train/images/dentist_items_1272_jpg.rf.4eb10f1896c2bdb4e84ed066db9c542a.jpg  \n",
            " extracting: train/images/dentist_items_1273_jpg.rf.e4202071fe6c7151d91f1f6e0e1ecdb7.jpg  \n",
            " extracting: train/images/dentist_items_1274_jpg.rf.e6188b76fb1562c4747716b6f76d8a0b.jpg  \n",
            " extracting: train/images/dentist_items_1275_jpg.rf.46126030335ab3b54ba7aeac80767e92.jpg  \n",
            " extracting: train/images/dentist_items_1276_jpg.rf.56595593181b52ae2ef59e28e78c319d.jpg  \n",
            " extracting: train/images/dentist_items_1277_jpg.rf.5cd1ffcc232fb3ab1069ee0c32c0b0f9.jpg  \n",
            " extracting: train/images/dentist_items_1278_jpg.rf.856691dbcb0ea1c4fd5aacfd8ed71c28.jpg  \n",
            " extracting: train/images/dentist_items_1279_jpg.rf.2b6ef83cf386eabd8ae4ac172e872644.jpg  \n",
            " extracting: train/images/dentist_items_127_jpg.rf.090035f6ecd97e7d05dbec16e7e454d0.jpg  \n",
            " extracting: train/images/dentist_items_1280_jpg.rf.81046dd25c9a0ff39813c57a1dc300df.jpg  \n",
            " extracting: train/images/dentist_items_1281_jpg.rf.535c6eea6d66addffa60f751c3598ae4.jpg  \n",
            " extracting: train/images/dentist_items_1282_jpg.rf.580816bc16cc6e387c64d0822a64ac86.jpg  \n",
            " extracting: train/images/dentist_items_1283_jpg.rf.b7a7809736ca5bd152c29cee43084b1b.jpg  \n",
            " extracting: train/images/dentist_items_1284_jpg.rf.4b7c364478a79f8b568816d31e5c86d3.jpg  \n",
            " extracting: train/images/dentist_items_1285_jpg.rf.27d6cc21f873a322c865a26d0b91303d.jpg  \n",
            " extracting: train/images/dentist_items_1286_jpg.rf.7bf4bdab59510683c49a5d313f37c112.jpg  \n",
            " extracting: train/images/dentist_items_1287_jpg.rf.ac820d5f95b2872f101d00f194ba7bad.jpg  \n",
            " extracting: train/images/dentist_items_1288_jpg.rf.9a1f850bfb7769a72d158cda06c2c5f9.jpg  \n",
            " extracting: train/images/dentist_items_1289_jpg.rf.4c1b7d803508cb20ebcb7384649c83d6.jpg  \n",
            " extracting: train/images/dentist_items_128_jpg.rf.88d83611f864c7fdb6688eda30bc2c27.jpg  \n",
            " extracting: train/images/dentist_items_1290_jpg.rf.51905c3c3aa884dbaf05f670960f0e24.jpg  \n",
            " extracting: train/images/dentist_items_1291_jpg.rf.d6dffc60e452e7739807b16c7cc8330f.jpg  \n",
            " extracting: train/images/dentist_items_1292_jpg.rf.7fcc72187e54187c1893d754f5be9bde.jpg  \n",
            " extracting: train/images/dentist_items_1293_jpg.rf.9ab8ff7d2abfc409fe9572db5d428427.jpg  \n",
            " extracting: train/images/dentist_items_1294_jpg.rf.391aa5f64ba0950ebd1c85262ba0d205.jpg  \n",
            " extracting: train/images/dentist_items_1295_jpg.rf.06e94ba8bc4ee3ce66a7c7a57d5bf52d.jpg  \n",
            " extracting: train/images/dentist_items_1296_jpg.rf.ac6182fe4256ca566c286606fefac0c3.jpg  \n",
            " extracting: train/images/dentist_items_1297_jpg.rf.82d64255aa5f9f96dc69d16ee9ddb1aa.jpg  \n",
            " extracting: train/images/dentist_items_1298_jpg.rf.a6ae3fc1737e8ae65830dc15d9f401f1.jpg  \n",
            " extracting: train/images/dentist_items_1299_jpg.rf.eed4284f745c74e9172c07564383e33e.jpg  \n",
            " extracting: train/images/dentist_items_129_jpg.rf.1f0239c757f5544ff6383f9cddd10db5.jpg  \n",
            " extracting: train/images/dentist_items_12_jpg.rf.dbcb70fe7765f37e4fc7582840afe844.jpg  \n",
            " extracting: train/images/dentist_items_1300_jpg.rf.b521f7901146ddc15d371f345c341657.jpg  \n",
            " extracting: train/images/dentist_items_1301_jpg.rf.1a728eac0622177b2e94e05b0a16e1cd.jpg  \n",
            " extracting: train/images/dentist_items_1302_jpg.rf.e245a6263c4d321e1a3c10628fd550b8.jpg  \n",
            " extracting: train/images/dentist_items_1303_jpg.rf.4be1f0cd96a3574e8b44dc5d6643e5c0.jpg  \n",
            " extracting: train/images/dentist_items_1304_jpg.rf.72dbe683f35969b4d052889eaa85efbc.jpg  \n",
            " extracting: train/images/dentist_items_1305_jpg.rf.229143b796427c9d2b84ff82c9b11012.jpg  \n",
            " extracting: train/images/dentist_items_1306_jpg.rf.2a3e8bb2576481fe0af28430f9c01aa6.jpg  \n",
            " extracting: train/images/dentist_items_1307_jpg.rf.d3bfa9b07b81ece10e51b1cc3f151ac1.jpg  \n",
            " extracting: train/images/dentist_items_1308_jpg.rf.4a0ef99834bde62396a517a16622359d.jpg  \n",
            " extracting: train/images/dentist_items_1309_jpg.rf.72aff2f3ca21ccb4a068b82c50008a16.jpg  \n",
            " extracting: train/images/dentist_items_130_jpg.rf.c68cd8be0c06b04d1704cd91b12642f5.jpg  \n",
            " extracting: train/images/dentist_items_1310_jpg.rf.c28b9db450e03468d25a91bee9701e38.jpg  \n",
            " extracting: train/images/dentist_items_1311_jpg.rf.7c8d60863efbb14abd75d3a9931d7f82.jpg  \n",
            " extracting: train/images/dentist_items_1312_jpg.rf.615a18c59cee87786b001754b75cc222.jpg  \n",
            " extracting: train/images/dentist_items_1313_jpg.rf.a927319e4cdd0b8f8fc67858d24b9abd.jpg  \n",
            " extracting: train/images/dentist_items_1314_jpg.rf.492c2a6a094223c669968d2a804f3897.jpg  \n",
            " extracting: train/images/dentist_items_1315_jpg.rf.fde98edbc0901f978e4e07b6bb2a07d1.jpg  \n",
            " extracting: train/images/dentist_items_1316_jpg.rf.0aed579a07b82c51dd7e59c550a41cf8.jpg  \n",
            " extracting: train/images/dentist_items_1317_jpg.rf.5c23a1da09fa6a47420ebd410e5289cb.jpg  \n",
            " extracting: train/images/dentist_items_1318_jpg.rf.59c7a14d68e829851754ed4e485d9eee.jpg  \n",
            " extracting: train/images/dentist_items_131_jpg.rf.f2dfa9f0c0781fe680cf61b44cd2fef8.jpg  \n",
            " extracting: train/images/dentist_items_1320_jpg.rf.fcc94bd8fbd214bf6cadf06a8e5dd842.jpg  \n",
            " extracting: train/images/dentist_items_1321_jpg.rf.96fe687a7a39440a06044e97e857ee95.jpg  \n",
            " extracting: train/images/dentist_items_1322_jpg.rf.cddc888a8a6054fa1f70de3d5ebf3a5e.jpg  \n",
            " extracting: train/images/dentist_items_1323_jpg.rf.04cf22e0fa6b6d174ce5e7e2c936c162.jpg  \n",
            " extracting: train/images/dentist_items_1324_jpg.rf.fcda551eb6e821823afc21d5dc9a0375.jpg  \n",
            " extracting: train/images/dentist_items_1325_jpg.rf.95e2637b3593d4a9edbbc7c0d1d4238b.jpg  \n",
            " extracting: train/images/dentist_items_1326_jpg.rf.94159eea44b74642d2ce00d805390dd3.jpg  \n",
            " extracting: train/images/dentist_items_1327_jpg.rf.4269dd6980a6fd89ae9697d1a0160bb1.jpg  \n",
            " extracting: train/images/dentist_items_1328_jpg.rf.5a89d3561a1940e3ba10bdf48f7b270f.jpg  \n",
            " extracting: train/images/dentist_items_1329_jpg.rf.fa40b8a4c8703e43ce471a1050de5d04.jpg  \n",
            " extracting: train/images/dentist_items_132_jpg.rf.063e13effa2527cc5df3890b732b331a.jpg  \n",
            " extracting: train/images/dentist_items_1330_jpg.rf.e87721b38a6e8d447c66436c8ba1ca4b.jpg  \n",
            " extracting: train/images/dentist_items_1331_jpg.rf.84883ef51868510d7e305fe68fe9bd76.jpg  \n",
            " extracting: train/images/dentist_items_1332_jpg.rf.b4fdcf089152ac2c31d68e00122370cb.jpg  \n",
            " extracting: train/images/dentist_items_1333_jpg.rf.c22e3cbf8f455cbf16be9d465c4a7f6f.jpg  \n",
            " extracting: train/images/dentist_items_1334_jpg.rf.bdac7236d2fcd79ecee99e7cc960ade9.jpg  \n",
            " extracting: train/images/dentist_items_1335_jpg.rf.711665bf1ea230aea9a9cb4521659786.jpg  \n",
            " extracting: train/images/dentist_items_1336_jpg.rf.d931b8e2a8c2af9767ad803040833c50.jpg  \n",
            " extracting: train/images/dentist_items_1337_jpg.rf.da486250896d8d35d2bdf3531fac98bc.jpg  \n",
            " extracting: train/images/dentist_items_1338_jpg.rf.4c6eb8fbf15ec35ac3f946649485374b.jpg  \n",
            " extracting: train/images/dentist_items_1339_jpg.rf.6ba835ccdcfb6055d03f47efd93018a8.jpg  \n",
            " extracting: train/images/dentist_items_133_jpg.rf.fd6fc108519fcdab90de32090912dde4.jpg  \n",
            " extracting: train/images/dentist_items_1340_jpg.rf.ea0e67d05fa63ad827f3e385129f4b38.jpg  \n",
            " extracting: train/images/dentist_items_1342_jpg.rf.eb0b49e219e9e71db1c3b8be8594568e.jpg  \n",
            " extracting: train/images/dentist_items_1343_jpg.rf.47968ff1b612f8c1aa4680d90e5108b1.jpg  \n",
            " extracting: train/images/dentist_items_1344_jpg.rf.5c21337860cdb47db0d440921454bf06.jpg  \n",
            " extracting: train/images/dentist_items_1345_jpg.rf.c81f982e0c8dee1168b32a3c5e4f0032.jpg  \n",
            " extracting: train/images/dentist_items_1346_jpg.rf.3884ea338d21813adc7b3f0e3ce395a9.jpg  \n",
            " extracting: train/images/dentist_items_1347_jpg.rf.1b215e01f1ea185f605e9d2a5f4dc6fa.jpg  \n",
            " extracting: train/images/dentist_items_1348_jpg.rf.b26746f7f71861b173644ea067e2e58e.jpg  \n",
            " extracting: train/images/dentist_items_1349_jpg.rf.f2136ad5ad232d2699744bb13b960259.jpg  \n",
            " extracting: train/images/dentist_items_134_jpg.rf.83dee48e1ad918e61362aa7e952b997f.jpg  \n",
            " extracting: train/images/dentist_items_1350_jpg.rf.6fed45290682c8cc5c22442721780ed7.jpg  \n",
            " extracting: train/images/dentist_items_1351_jpg.rf.96d6de9c1afb14156c6057bc09c0a6d5.jpg  \n",
            " extracting: train/images/dentist_items_1352_jpg.rf.ee3e67e723f808c37bea9c2935ccff26.jpg  \n",
            " extracting: train/images/dentist_items_1353_jpg.rf.6a39197d88b6cb3a7caf208d949ed6dc.jpg  \n",
            " extracting: train/images/dentist_items_1354_jpg.rf.7679dfb368583dba4ead59a3e004ecd2.jpg  \n",
            " extracting: train/images/dentist_items_1355_jpg.rf.5643aa831bf2e67c57baf6f7488f8f83.jpg  \n",
            " extracting: train/images/dentist_items_1357_jpg.rf.5518fdeec5b245f1f7f38caaa81850e6.jpg  \n",
            " extracting: train/images/dentist_items_1358_jpg.rf.199b2ec9c52bf29f9a61e2e50e742dbe.jpg  \n",
            " extracting: train/images/dentist_items_1359_jpg.rf.01a63ae4566baa13fb4646a7bb101ec7.jpg  \n",
            " extracting: train/images/dentist_items_135_jpg.rf.3e53af22796438f331976c4bc2287358.jpg  \n",
            " extracting: train/images/dentist_items_1360_jpg.rf.5667535e4a7ab42795c7b81e1bbdef3b.jpg  \n",
            " extracting: train/images/dentist_items_1361_jpg.rf.2c97d4d485b3e64136d4d10dd9a1ecd0.jpg  \n",
            " extracting: train/images/dentist_items_1362_jpg.rf.fa005fb5101913d077c1b7f8d4633e88.jpg  \n",
            " extracting: train/images/dentist_items_1363_jpg.rf.4fd846dfeda3bdf65e781d1ea8af4f98.jpg  \n",
            " extracting: train/images/dentist_items_1364_jpg.rf.da15c5cdc711a80f13d80ddae23a9f3c.jpg  \n",
            " extracting: train/images/dentist_items_1365_jpg.rf.6a2624c31623fe164023e7e688d1b72e.jpg  \n",
            " extracting: train/images/dentist_items_1366_jpg.rf.a06618ee7ba5f1316549d1d546fb36fa.jpg  \n",
            " extracting: train/images/dentist_items_1367_jpg.rf.09c8732cfc583b8df37ed723824284e2.jpg  \n",
            " extracting: train/images/dentist_items_1368_jpg.rf.38cd9025369cf3eedd5ed319135e41e6.jpg  \n",
            " extracting: train/images/dentist_items_1369_jpg.rf.6447f00dcc8b2957f3b8dcdfdc86bf61.jpg  \n",
            " extracting: train/images/dentist_items_136_jpg.rf.22829b6b721adfe9877ad85e5acd5d51.jpg  \n",
            " extracting: train/images/dentist_items_1370_jpg.rf.614b4bb757ef73c6b137a822719d3845.jpg  \n",
            " extracting: train/images/dentist_items_1371_jpg.rf.492c013ac99f28de5884bd40302072fd.jpg  \n",
            " extracting: train/images/dentist_items_1372_jpg.rf.63505b7f44b47273d09cf17e9b725886.jpg  \n",
            " extracting: train/images/dentist_items_1374_jpg.rf.b2c657a2dc259a45169ddb77cb06499c.jpg  \n",
            " extracting: train/images/dentist_items_1375_jpg.rf.bd3217114f6e98bbcdc4de8f014bd8ce.jpg  \n",
            " extracting: train/images/dentist_items_1376_jpg.rf.ac9439c3346e5655735903d96ca130cd.jpg  \n",
            " extracting: train/images/dentist_items_1377_jpg.rf.e44cc86025259bef162a1405e980cc7f.jpg  \n",
            " extracting: train/images/dentist_items_1378_jpg.rf.5572c6cc1ed6185827826a8eab473102.jpg  \n",
            " extracting: train/images/dentist_items_1379_jpg.rf.8751e8a5cd5722ea156c235120c93cfa.jpg  \n",
            " extracting: train/images/dentist_items_137_jpg.rf.2a2e1367e67e8bfd03c1fbe430cbb525.jpg  \n",
            " extracting: train/images/dentist_items_1380_jpg.rf.1a6789e841fcca330edf1791e0013f84.jpg  \n",
            " extracting: train/images/dentist_items_1381_jpg.rf.8dee2f14bbd521e89b3d2547a852429a.jpg  \n",
            " extracting: train/images/dentist_items_1382_jpg.rf.5e29b4a901bd2824b9afca7fd6a6a47b.jpg  \n",
            " extracting: train/images/dentist_items_1383_jpg.rf.e4938470a085ea728b7e06631b647c4a.jpg  \n",
            " extracting: train/images/dentist_items_1384_jpg.rf.e0e7a55982cd43653301ea964556a53a.jpg  \n",
            " extracting: train/images/dentist_items_1386_jpg.rf.e19520cb95bc507ff89efb1584899995.jpg  \n",
            " extracting: train/images/dentist_items_1387_jpg.rf.7f92b354206e8b227b476635883b1417.jpg  \n",
            " extracting: train/images/dentist_items_1388_jpg.rf.de0ffd5a71e04d970c6bc9e8a427ea6c.jpg  \n",
            " extracting: train/images/dentist_items_1389_jpg.rf.f40f06b49a7930eedb49602f9d5e03b9.jpg  \n",
            " extracting: train/images/dentist_items_138_jpg.rf.e81f7ca696e2b29d914a37956c99fba9.jpg  \n",
            " extracting: train/images/dentist_items_1390_jpg.rf.ced96be30bafbb2663bfd2fdebfa1c95.jpg  \n",
            " extracting: train/images/dentist_items_1391_jpg.rf.cc3073f8d6ba144064bd1926d533fc8c.jpg  \n",
            " extracting: train/images/dentist_items_1392_jpg.rf.83b4e4b9cdf7ca8ae8616df341d1a246.jpg  \n",
            " extracting: train/images/dentist_items_1393_jpg.rf.6bd7649bc25f53b77f849a501b67e1d3.jpg  \n",
            " extracting: train/images/dentist_items_1395_jpg.rf.7e13d3a7d2db7b765ba8b1111e7d5e15.jpg  \n",
            " extracting: train/images/dentist_items_1396_jpg.rf.9868557c7b02d3256bc9b6324e9ac50d.jpg  \n",
            " extracting: train/images/dentist_items_1397_jpg.rf.58d4f60bdb90da9f50cb3c9b074b423e.jpg  \n",
            " extracting: train/images/dentist_items_1398_jpg.rf.911d1c577fe4896538c7e14164715aad.jpg  \n",
            " extracting: train/images/dentist_items_139_jpg.rf.50eddba4a403a58119396db9e5991935.jpg  \n",
            " extracting: train/images/dentist_items_13_jpg.rf.aeacf8c92c19c518a37255997de52a09.jpg  \n",
            " extracting: train/images/dentist_items_1400_jpg.rf.0d2576f2bb0a7ea4f9f7d6103baca0bd.jpg  \n",
            " extracting: train/images/dentist_items_1401_jpg.rf.270c7fc313aaaa790f2fb69ea5ff4c68.jpg  \n",
            " extracting: train/images/dentist_items_1402_jpg.rf.c87d11cf612f48c3915bd0b396131891.jpg  \n",
            " extracting: train/images/dentist_items_1403_jpg.rf.ccc1b6d3431c082c8a8a083d2202dd7a.jpg  \n",
            " extracting: train/images/dentist_items_1404_jpg.rf.047dea09c86ed12316630908d2b99c61.jpg  \n",
            " extracting: train/images/dentist_items_1405_jpg.rf.4e0c06d4f0120ff1c013b18e78b45634.jpg  \n",
            " extracting: train/images/dentist_items_1406_jpg.rf.2f253d84d609ee03d3fc4d7d52328587.jpg  \n",
            " extracting: train/images/dentist_items_1407_jpg.rf.3a187f5e7171a3e87cd251049185624c.jpg  \n",
            " extracting: train/images/dentist_items_1408_jpg.rf.044238ea69c245bd7434fbdac6efd04f.jpg  \n",
            " extracting: train/images/dentist_items_140_jpg.rf.7914e549e140e6d611c2350530edb6d5.jpg  \n",
            " extracting: train/images/dentist_items_1410_jpg.rf.8b0d3c84947183b7cd38faf51e8eb332.jpg  \n",
            " extracting: train/images/dentist_items_1412_jpg.rf.9f55861b2c7117d97707f7687e5e1ba8.jpg  \n",
            " extracting: train/images/dentist_items_1413_jpg.rf.caac114e89d702a8b59b0452f578ad4e.jpg  \n",
            " extracting: train/images/dentist_items_1414_jpg.rf.8099c5d912049365c4bc969e99fe3753.jpg  \n",
            " extracting: train/images/dentist_items_1415_jpg.rf.665a27d82f878574115a32129cc70da0.jpg  \n",
            " extracting: train/images/dentist_items_1416_jpg.rf.6be3b577f4077e679d50c50e9e7f02e9.jpg  \n",
            " extracting: train/images/dentist_items_1417_jpg.rf.295858bdb7e5d2c506c0c111cbbb445b.jpg  \n",
            " extracting: train/images/dentist_items_1418_jpg.rf.8bdcf8d8d1625df3dc2bd26e97b6ac67.jpg  \n",
            " extracting: train/images/dentist_items_141_jpg.rf.1449a6c3588197007563f76eea876217.jpg  \n",
            " extracting: train/images/dentist_items_1420_jpg.rf.ef297ae43b076f0c51457fd66841d5f2.jpg  \n",
            " extracting: train/images/dentist_items_1421_jpg.rf.aef331fa73d5885bd4dab69ec88421d2.jpg  \n",
            " extracting: train/images/dentist_items_1422_jpg.rf.e5ecd298df12c7bccc10183935d106c4.jpg  \n",
            " extracting: train/images/dentist_items_1423_jpg.rf.068e36ec6cc6877785a203304433050e.jpg  \n",
            " extracting: train/images/dentist_items_1424_jpg.rf.aee9bf26af925527ce60cc90dbf455f0.jpg  \n",
            " extracting: train/images/dentist_items_1425_jpg.rf.329505a9ee7994feea962e7103657c5d.jpg  \n",
            " extracting: train/images/dentist_items_1426_jpg.rf.57f8ecc00eeec249a05ff72f49154069.jpg  \n",
            " extracting: train/images/dentist_items_1427_jpg.rf.c96303df4affb0153b1000675f2dc502.jpg  \n",
            " extracting: train/images/dentist_items_1429_jpg.rf.d1ac155a96a5b1855c83fa96240320d4.jpg  \n",
            " extracting: train/images/dentist_items_142_jpg.rf.c332dbf4e2bd83d05bdcabb3e110fd67.jpg  \n",
            " extracting: train/images/dentist_items_1430_jpg.rf.04b607561fa1c2a5972f6eb8c4b105d3.jpg  \n",
            " extracting: train/images/dentist_items_1431_jpg.rf.71a746ca5668434910509023cb04b797.jpg  \n",
            " extracting: train/images/dentist_items_1432_jpg.rf.ce91ebce22b736999f6cba707374df02.jpg  \n",
            " extracting: train/images/dentist_items_1433_jpg.rf.7e3fd02f97b59a3920cf00e81ecb4f59.jpg  \n",
            " extracting: train/images/dentist_items_1434_jpg.rf.fa486433f7049550d5d72185a0fd4a7f.jpg  \n",
            " extracting: train/images/dentist_items_1436_jpg.rf.d6c2869f4d9fa2950e734d9fd16292c3.jpg  \n",
            " extracting: train/images/dentist_items_1437_jpg.rf.5031ce2ca0ce5888be9fc690081c8edd.jpg  \n",
            " extracting: train/images/dentist_items_1438_jpg.rf.a2eae9ececb441c12c6d9e75040fb1cc.jpg  \n",
            " extracting: train/images/dentist_items_1439_jpg.rf.299bab1fa46f36dcbfe7f1f7858ce46a.jpg  \n",
            " extracting: train/images/dentist_items_143_jpg.rf.7c80646345c7ef4ceafe73b85d2ebce4.jpg  \n",
            " extracting: train/images/dentist_items_1440_jpg.rf.78bf7dc9e140bf6856ced7ef05338936.jpg  \n",
            " extracting: train/images/dentist_items_1441_jpg.rf.c4488fad367012b05c20e1df7ecc58ea.jpg  \n",
            " extracting: train/images/dentist_items_1442_jpg.rf.648c80378ad788c75d414cecdfbc8e8e.jpg  \n",
            " extracting: train/images/dentist_items_1443_jpg.rf.3925e5a1850c73d2cb29eddef539850c.jpg  \n",
            " extracting: train/images/dentist_items_1444_jpg.rf.f20d22f2e9000b43814749fd38b433d4.jpg  \n",
            " extracting: train/images/dentist_items_1446_jpg.rf.74d599e2020c54190721757de7d2fbaa.jpg  \n",
            " extracting: train/images/dentist_items_1448_jpg.rf.3d4419d28bd3fcead7b894fc6deceda3.jpg  \n",
            " extracting: train/images/dentist_items_1449_jpg.rf.3c882edb5a3eb9692271378cfeb061eb.jpg  \n",
            " extracting: train/images/dentist_items_144_jpg.rf.fd44653ea83e609a49a73245d0dd3a9d.jpg  \n",
            " extracting: train/images/dentist_items_1450_jpg.rf.4cbabebc3019a238507c52be57ad2305.jpg  \n",
            " extracting: train/images/dentist_items_1451_jpg.rf.bf8a0847ed0e399f80ba7958aefaaa57.jpg  \n",
            " extracting: train/images/dentist_items_1452_jpg.rf.e7c498b92f336b6321267f3eca16fe6b.jpg  \n",
            " extracting: train/images/dentist_items_1454_jpg.rf.5a1fb56229e63ac149a3d113cdde8051.jpg  \n",
            " extracting: train/images/dentist_items_1455_jpg.rf.b635b1619d7f1c46a36f61ec4b912fc7.jpg  \n",
            " extracting: train/images/dentist_items_1456_jpg.rf.100fe2eee7d2ecc2fc653bfa25a674bb.jpg  \n",
            " extracting: train/images/dentist_items_1457_jpg.rf.14d2a64bed53fcc77a27ee53a2f57fe7.jpg  \n",
            " extracting: train/images/dentist_items_1458_jpg.rf.c43de1ecea71e89b9fd379ddfc01c633.jpg  \n",
            " extracting: train/images/dentist_items_145_jpg.rf.55a5bec9d4bcca2c16b4e025b271d8f8.jpg  \n",
            " extracting: train/images/dentist_items_1460_jpg.rf.ccbbb8cc689f80bf9e938dc5c50ae784.jpg  \n",
            " extracting: train/images/dentist_items_1461_jpg.rf.69e7ba10a881a53af4075027fe05c736.jpg  \n",
            " extracting: train/images/dentist_items_1462_jpg.rf.96320e44e3f93c907997ac195df3f383.jpg  \n",
            " extracting: train/images/dentist_items_1463_jpg.rf.b78bb84edb0106a00a8c544512aca535.jpg  \n",
            " extracting: train/images/dentist_items_1464_jpg.rf.1f7e0ef4d2f55bc82b628217098f9c88.jpg  \n",
            " extracting: train/images/dentist_items_1465_jpg.rf.52c41a8d9974e0a91a1d83246e58a310.jpg  \n",
            " extracting: train/images/dentist_items_1466_jpg.rf.e382eb9c181db5c9b92913bfdfc22d20.jpg  \n",
            " extracting: train/images/dentist_items_1467_jpg.rf.7ccb9cf94438691a35ba7c731c968856.jpg  \n",
            " extracting: train/images/dentist_items_1468_jpg.rf.8a17623cb3d9eee22b546a3788742f2e.jpg  \n",
            " extracting: train/images/dentist_items_146_jpg.rf.a1da1166d26dc76de8223d9141c04118.jpg  \n",
            " extracting: train/images/dentist_items_1470_jpg.rf.3fb4e8037170199178036e27aa6c9617.jpg  \n",
            " extracting: train/images/dentist_items_1471_jpg.rf.816f1a59180be07966c873c75db75553.jpg  \n",
            " extracting: train/images/dentist_items_1472_jpg.rf.62569bf60a65e166ddd667dd0675755e.jpg  \n",
            " extracting: train/images/dentist_items_1473_jpg.rf.8c0e4ed923c5e919f0d04514f9b774f4.jpg  \n",
            " extracting: train/images/dentist_items_1474_jpg.rf.6072c9580bd09c7a87e6758dd29131cf.jpg  \n",
            " extracting: train/images/dentist_items_1475_jpg.rf.200012e89c87d8aac7245485126623f3.jpg  \n",
            " extracting: train/images/dentist_items_1476_jpg.rf.09d704021ace90ca3b1cf94a0205ebbd.jpg  \n",
            " extracting: train/images/dentist_items_1477_jpg.rf.1c79064f1c1bbab79204ebb213f50461.jpg  \n",
            " extracting: train/images/dentist_items_1478_jpg.rf.40d5b69742256c109c3d3a1a6b6bdc6e.jpg  \n",
            " extracting: train/images/dentist_items_1479_jpg.rf.09d3ee2ffdf19c6b7a164567ad95448b.jpg  \n",
            " extracting: train/images/dentist_items_147_jpg.rf.57f2a99aad2565139695208e85bbe972.jpg  \n",
            " extracting: train/images/dentist_items_1480_jpg.rf.3899d262525f807842e0ef502b684503.jpg  \n",
            " extracting: train/images/dentist_items_1481_jpg.rf.c0f26742c16130f05cce515bb86a4bc8.jpg  \n",
            " extracting: train/images/dentist_items_1482_jpg.rf.21533023540ce8392e1762e6a49710e1.jpg  \n",
            " extracting: train/images/dentist_items_1484_jpg.rf.cea48c0bad0748892cda92e17c1e44b8.jpg  \n",
            " extracting: train/images/dentist_items_1485_jpg.rf.e8d0382aca047f86aac25e07b3767a23.jpg  \n",
            " extracting: train/images/dentist_items_1486_jpg.rf.03c6dc97395792d9a4b87ebe6b6b8c08.jpg  \n",
            " extracting: train/images/dentist_items_1487_jpg.rf.022daf11757f2dacf46a3edd04594789.jpg  \n",
            " extracting: train/images/dentist_items_1488_jpg.rf.218e8f014a48871237c8b982e0a08bcb.jpg  \n",
            " extracting: train/images/dentist_items_1489_jpg.rf.e5ce838ebd030a24687c2e75b0659cae.jpg  \n",
            " extracting: train/images/dentist_items_148_jpg.rf.973328bd4e575de674e33125fea3e8e3.jpg  \n",
            " extracting: train/images/dentist_items_1491_jpg.rf.8b0a1e9647642e637c356087bcd941ac.jpg  \n",
            " extracting: train/images/dentist_items_1492_jpg.rf.236978b5e67ae05ec9b1a9933984adb6.jpg  \n",
            " extracting: train/images/dentist_items_1493_jpg.rf.0c99c2ee446292dde3c10ef76614bfc3.jpg  \n",
            " extracting: train/images/dentist_items_1494_jpg.rf.950a93c2b894cc14a29f7bda6877a515.jpg  \n",
            " extracting: train/images/dentist_items_1495_jpg.rf.f50c94226eda5aa4ba5435086410943f.jpg  \n",
            " extracting: train/images/dentist_items_1496_jpg.rf.30434cdc7c2f40dd150e6c91e6a15b59.jpg  \n",
            " extracting: train/images/dentist_items_1497_jpg.rf.7d09bb4bddcd82d02a5facda325d58ec.jpg  \n",
            " extracting: train/images/dentist_items_1498_jpg.rf.2809a261cb17ed91207fa96c081c031e.jpg  \n",
            " extracting: train/images/dentist_items_1499_jpg.rf.809cb8820ef95d930a9f47ec69fa3467.jpg  \n",
            " extracting: train/images/dentist_items_149_jpg.rf.3c8e7ceb214a34cd2e7f7d81b07d5823.jpg  \n",
            " extracting: train/images/dentist_items_14_jpg.rf.39685b7f11b7a559e9a8b980645f341a.jpg  \n",
            " extracting: train/images/dentist_items_1501_jpg.rf.1cfa1702b9cd6c075732b56498f73366.jpg  \n",
            " extracting: train/images/dentist_items_1502_jpg.rf.4b7feb69bc3d365105bc35ed0cf19495.jpg  \n",
            " extracting: train/images/dentist_items_1503_jpg.rf.f092f3e9f5ccf4d3c45579512834eb63.jpg  \n",
            " extracting: train/images/dentist_items_1504_jpg.rf.1b12c9ecccf61fb828dd10f5354ed62b.jpg  \n",
            " extracting: train/images/dentist_items_1506_jpg.rf.ddb1e53a1d3853e7dfedd1e0fe47d0ca.jpg  \n",
            " extracting: train/images/dentist_items_1507_jpg.rf.2f4721535bc604ab619ad907a8058851.jpg  \n",
            " extracting: train/images/dentist_items_1508_jpg.rf.717eaa71309fab3e1948c1db7b54e8aa.jpg  \n",
            " extracting: train/images/dentist_items_150_jpg.rf.78f0b858646495c62ca195607bd60b34.jpg  \n",
            " extracting: train/images/dentist_items_1510_jpg.rf.4e266207d56b5b6252e1830e5724c73a.jpg  \n",
            " extracting: train/images/dentist_items_1511_jpg.rf.dceecea62e64f2bb704fbc9eb878fb90.jpg  \n",
            " extracting: train/images/dentist_items_1512_jpg.rf.5c34c6b28d3df62afd1e00d5040c872b.jpg  \n",
            " extracting: train/images/dentist_items_1513_jpg.rf.ba3604661ac30de1aedda54c075d3d09.jpg  \n",
            " extracting: train/images/dentist_items_1514_jpg.rf.d1c261d8953573db567fb5507b4d5c0b.jpg  \n",
            " extracting: train/images/dentist_items_1515_jpg.rf.21469f9be581aeb34e9377748e92a2b3.jpg  \n",
            " extracting: train/images/dentist_items_1516_jpg.rf.1a2b07fa9dc1a0dbbf4fcd488a9ea5f1.jpg  \n",
            " extracting: train/images/dentist_items_1517_jpg.rf.15b2cbccbcdc60e7f28d5ede34ff780b.jpg  \n",
            " extracting: train/images/dentist_items_1518_jpg.rf.96f1923f8bc26b826c76e2af00628684.jpg  \n",
            " extracting: train/images/dentist_items_1519_jpg.rf.599fbcb8024963667ad2ba3816634ef5.jpg  \n",
            " extracting: train/images/dentist_items_151_jpg.rf.6a119b3c8803e1e7644b46009a60da6c.jpg  \n",
            " extracting: train/images/dentist_items_1520_jpg.rf.d3118d498d710049f27a692f01e96faa.jpg  \n",
            " extracting: train/images/dentist_items_1521_jpg.rf.81a521963cf840c4a18ff4d2788d9ace.jpg  \n",
            " extracting: train/images/dentist_items_1522_jpg.rf.34caa551be9ebef4ac0f11b71120498c.jpg  \n",
            " extracting: train/images/dentist_items_1523_jpg.rf.21e351da215609c72d59c237eea16755.jpg  \n",
            " extracting: train/images/dentist_items_1524_jpg.rf.97d72fc08d8a98d7c547d0a7d560d77c.jpg  \n",
            " extracting: train/images/dentist_items_1525_jpg.rf.2ad238d5810f8723ac61f47200bb1060.jpg  \n",
            " extracting: train/images/dentist_items_1526_jpg.rf.b5fc28bc5e12e21929a1eb1881113e97.jpg  \n",
            " extracting: train/images/dentist_items_1527_jpg.rf.a9f8ffe99c435ed39ff9eb36f173f38b.jpg  \n",
            " extracting: train/images/dentist_items_1528_jpg.rf.432ab61f00de6dcaeb6dbed66ecc43ac.jpg  \n",
            " extracting: train/images/dentist_items_1529_jpg.rf.0bf811d1a4424a3d5ec1e7f719fd336e.jpg  \n",
            " extracting: train/images/dentist_items_1530_jpg.rf.b6bfd4a0e0ac123767dd94c04106dfff.jpg  \n",
            " extracting: train/images/dentist_items_1531_jpg.rf.8c0e954c8bc8e29c696e82f8ddab501b.jpg  \n",
            " extracting: train/images/dentist_items_1532_jpg.rf.7d9fbe65d74c326955f2d37788ff5be4.jpg  \n",
            " extracting: train/images/dentist_items_1533_jpg.rf.cd400cc684407882677c4d0bd2634f44.jpg  \n",
            " extracting: train/images/dentist_items_1534_jpg.rf.8c146513baa0626aea0698998a16c349.jpg  \n",
            " extracting: train/images/dentist_items_1535_jpg.rf.4878a01f605a49a343437a2a16b998a5.jpg  \n",
            " extracting: train/images/dentist_items_1536_jpg.rf.3965cc22b9f96cc99ee4b92772745ca9.jpg  \n",
            " extracting: train/images/dentist_items_1537_jpg.rf.ba589e261135508db24fb780051add5a.jpg  \n",
            " extracting: train/images/dentist_items_1538_jpg.rf.84e9c60f68bb0428fff0ea41cf8aa4f0.jpg  \n",
            " extracting: train/images/dentist_items_1539_jpg.rf.38bd2aab4df363285dc664d4ba33f02e.jpg  \n",
            " extracting: train/images/dentist_items_153_jpg.rf.85a417482c475d5540f5e2a6d0c3bdfa.jpg  \n",
            " extracting: train/images/dentist_items_1540_jpg.rf.2551d203fab2f93d67dee64600ab2d4d.jpg  \n",
            " extracting: train/images/dentist_items_1541_jpg.rf.0ea5f8736aa6d222afc3007b0d05ba4c.jpg  \n",
            " extracting: train/images/dentist_items_1542_jpg.rf.d3750a2526b3f9bfd41484c85fcdc505.jpg  \n",
            " extracting: train/images/dentist_items_1546_jpg.rf.84cf2c28b715ae701294bfae2a2a95d3.jpg  \n",
            " extracting: train/images/dentist_items_1547_jpg.rf.c0efb339ad9cc4f0ad8b5a74e7a1eae7.jpg  \n",
            " extracting: train/images/dentist_items_1548_jpg.rf.aa6a6ead1479290591c54ff6427c6fde.jpg  \n",
            " extracting: train/images/dentist_items_1549_jpg.rf.18bdd3632340487f14c1a528eeba140e.jpg  \n",
            " extracting: train/images/dentist_items_1550_jpg.rf.6c8ce1aa67799a72b063eb4b901a147c.jpg  \n",
            " extracting: train/images/dentist_items_1551_jpg.rf.6cc480ab682ee6ac0399b41047230dee.jpg  \n",
            " extracting: train/images/dentist_items_1552_jpg.rf.ff8e9a0d049091696b27959d419b9386.jpg  \n",
            " extracting: train/images/dentist_items_1553_jpg.rf.3614cebc40d5a1c48d1b69e118c66722.jpg  \n",
            " extracting: train/images/dentist_items_1555_jpg.rf.1982249903bc1ff691621253f424ab19.jpg  \n",
            " extracting: train/images/dentist_items_1556_jpg.rf.d7218db490b2df3115f4a3de63c65bd3.jpg  \n",
            " extracting: train/images/dentist_items_1557_jpg.rf.6758bea062ed905d61954c660d26b1f8.jpg  \n",
            " extracting: train/images/dentist_items_1558_jpg.rf.5d5c1d74dc404080555cf1eb5caf8dd5.jpg  \n",
            " extracting: train/images/dentist_items_1559_jpg.rf.36a2669c45e2b30b78df0578a45fd684.jpg  \n",
            " extracting: train/images/dentist_items_1560_jpg.rf.2daaec5a16657937d620bec0fe0ed070.jpg  \n",
            " extracting: train/images/dentist_items_1561_jpg.rf.9b986a72250b42d376d0c3be50afeec1.jpg  \n",
            " extracting: train/images/dentist_items_1562_jpg.rf.0be31819cd5178efd65ab80f0a7944d3.jpg  \n",
            " extracting: train/images/dentist_items_1563_jpg.rf.079a0de14c8d21ac6062550b477e1372.jpg  \n",
            " extracting: train/images/dentist_items_1564_jpg.rf.39ef90fc630f4c7b51c42f943afacc38.jpg  \n",
            " extracting: train/images/dentist_items_1566_jpg.rf.fd3de3c494e5355a1f78e6fb2052da9d.jpg  \n",
            " extracting: train/images/dentist_items_1567_jpg.rf.c6f399382ae484c73d8ca253b0efb483.jpg  \n",
            " extracting: train/images/dentist_items_1568_jpg.rf.1055b92325b46d8a2d65bfac257f6965.jpg  \n",
            " extracting: train/images/dentist_items_1569_jpg.rf.9dd0f5d8758ffe8d6ae3eb16b8d58f2a.jpg  \n",
            " extracting: train/images/dentist_items_156_jpg.rf.f374268080db8e0eb67975debb5ca23b.jpg  \n",
            " extracting: train/images/dentist_items_1570_jpg.rf.0f44cc7f0a20af885884e047e8084cc3.jpg  \n",
            " extracting: train/images/dentist_items_1571_jpg.rf.292e379817943b01c5332ae34e19de8a.jpg  \n",
            " extracting: train/images/dentist_items_1572_jpg.rf.4af4f181e47a7967e1ff2c2ccfd6b0b2.jpg  \n",
            " extracting: train/images/dentist_items_1573_jpg.rf.f0e36eb1d653aab56f7c8d42cd15de0c.jpg  \n",
            " extracting: train/images/dentist_items_1574_jpg.rf.da07d8ee1a641fed1d493837e3e64c91.jpg  \n",
            " extracting: train/images/dentist_items_1575_jpg.rf.0d3a0cc41a333c91af0f2a190ab497e5.jpg  \n",
            " extracting: train/images/dentist_items_1576_jpg.rf.fd0f1db7b2e79896b86199d7310a52a5.jpg  \n",
            " extracting: train/images/dentist_items_1578_jpg.rf.6414639043b5d8797fa57e5936300f58.jpg  \n",
            " extracting: train/images/dentist_items_1580_jpg.rf.38f80cda7e4ed26e82ab2ac306a59d75.jpg  \n",
            " extracting: train/images/dentist_items_1581_jpg.rf.f7926d8005cff04a4dc15a658eb36878.jpg  \n",
            " extracting: train/images/dentist_items_1582_jpg.rf.e3deb6b1659cec68beb0276cd3838fec.jpg  \n",
            " extracting: train/images/dentist_items_1583_jpg.rf.cf7ff0c83e2ba999d3a40eb0217efc6e.jpg  \n",
            " extracting: train/images/dentist_items_1584_jpg.rf.30b7cfe033a7f80e69d61d48b4716a09.jpg  \n",
            " extracting: train/images/dentist_items_1585_jpg.rf.603cde0ee3501ebfb50f3276ce208733.jpg  \n",
            " extracting: train/images/dentist_items_1586_jpg.rf.7b670dbb49e5dd84e0f7b5d239e3477d.jpg  \n",
            " extracting: train/images/dentist_items_1587_jpg.rf.8c8a1e86a02b805936a88e8c736e9cb6.jpg  \n",
            " extracting: train/images/dentist_items_1588_jpg.rf.d8855168a73f912bd63e4430bef67e1b.jpg  \n",
            " extracting: train/images/dentist_items_1589_jpg.rf.f7aa576f5ee2474526b17c8fc621129f.jpg  \n",
            " extracting: train/images/dentist_items_158_jpg.rf.fbb57964b40ec2dd9a9ead557838c397.jpg  \n",
            " extracting: train/images/dentist_items_1590_jpg.rf.490b6953ad96c2966a2432670f61a831.jpg  \n",
            " extracting: train/images/dentist_items_1591_jpg.rf.7c2792b5021c2a1d9e29ff2b964c2887.jpg  \n",
            " extracting: train/images/dentist_items_1592_jpg.rf.c25f451edc428e9514c0434a2ed2e2c7.jpg  \n",
            " extracting: train/images/dentist_items_1593_jpg.rf.55ffc4dc4842cb8287770713aa885c99.jpg  \n",
            " extracting: train/images/dentist_items_1594_jpg.rf.327cffd4eab325a29e4a5ade85039432.jpg  \n",
            " extracting: train/images/dentist_items_1595_jpg.rf.a0add2a64d4a3e539666943551b57d4e.jpg  \n",
            " extracting: train/images/dentist_items_1596_jpg.rf.4d14684635306a88d19cf745d2ef6a10.jpg  \n",
            " extracting: train/images/dentist_items_1599_jpg.rf.78853ada4cfa01fdaf1f820fd1fb4c62.jpg  \n",
            " extracting: train/images/dentist_items_159_jpg.rf.fe47a9c24797189830aed2a4da6ccd54.jpg  \n",
            " extracting: train/images/dentist_items_15_jpg.rf.ae92eb84c4bfe3722fb2036dbe5a7d6f.jpg  \n",
            " extracting: train/images/dentist_items_1600_jpg.rf.d614d6307f8f7b23b7388545f08676df.jpg  \n",
            " extracting: train/images/dentist_items_1601_jpg.rf.67a008d3f8daca6235d98f6d403bca81.jpg  \n",
            " extracting: train/images/dentist_items_1602_jpg.rf.f53169de481318f6acd344748e18fc96.jpg  \n",
            " extracting: train/images/dentist_items_1603_jpg.rf.0f483f8261a98ffc7761732bd4977c33.jpg  \n",
            " extracting: train/images/dentist_items_1604_jpg.rf.098c53214eeab229aac10db6c97cfe86.jpg  \n",
            " extracting: train/images/dentist_items_1605_jpg.rf.9346ac0a302fa3f188281a50d6852df7.jpg  \n",
            " extracting: train/images/dentist_items_1606_jpg.rf.060590200b52e3d53c189595d509e3a3.jpg  \n",
            " extracting: train/images/dentist_items_1607_jpg.rf.dd6cb391f953c983599399292ddecccf.jpg  \n",
            " extracting: train/images/dentist_items_1608_jpg.rf.768196e50ede798e88222c805d1c26b1.jpg  \n",
            " extracting: train/images/dentist_items_1609_jpg.rf.e08e9795f9879becde2fd3c8f3a14bfd.jpg  \n",
            " extracting: train/images/dentist_items_160_jpg.rf.07a19c094a7a381302c829bbd46bbf94.jpg  \n",
            " extracting: train/images/dentist_items_1610_jpg.rf.24f622cb719c1e017899e32f4e6e3a05.jpg  \n",
            " extracting: train/images/dentist_items_1611_jpg.rf.590a6aef0d867a30039e9a2ddfbb8957.jpg  \n",
            " extracting: train/images/dentist_items_1612_jpg.rf.6683702525ca962a15e965e1539abe93.jpg  \n",
            " extracting: train/images/dentist_items_1613_jpg.rf.c96b72ebe301aaa2b1c1b470df2cbcab.jpg  \n",
            " extracting: train/images/dentist_items_1614_jpg.rf.6739df88dd83b5b36e37c737608474e6.jpg  \n",
            " extracting: train/images/dentist_items_1615_jpg.rf.dc3504213423750d057f50122ab9dcd6.jpg  \n",
            " extracting: train/images/dentist_items_1616_jpg.rf.4c762d84570dc15840d292dbf0f4c19f.jpg  \n",
            " extracting: train/images/dentist_items_1617_jpg.rf.08fde105ff665922920dac07a9ec6cb1.jpg  \n",
            " extracting: train/images/dentist_items_1618_jpg.rf.a059f2d5feb4b5208f11444c86bd58f9.jpg  \n",
            " extracting: train/images/dentist_items_1619_jpg.rf.c6f53e7b17510ae3b9dae1a6733aec94.jpg  \n",
            " extracting: train/images/dentist_items_161_jpg.rf.2d5fb818fe0d9a1410df487923de2eb4.jpg  \n",
            " extracting: train/images/dentist_items_1620_jpg.rf.3ee3eca45bba4b12135e43a6383540de.jpg  \n",
            " extracting: train/images/dentist_items_1621_jpg.rf.f2f85efc8ecad348dfba432003adf451.jpg  \n",
            " extracting: train/images/dentist_items_1622_jpg.rf.2fe468f7aea5ad2b9641613bd7a42def.jpg  \n",
            " extracting: train/images/dentist_items_1623_jpg.rf.9e699346a0f8e5e8b7fa64a6d9b61afd.jpg  \n",
            " extracting: train/images/dentist_items_1624_jpg.rf.90a58e8957ae84838b4cee09f19813c0.jpg  \n",
            " extracting: train/images/dentist_items_1625_jpg.rf.f4b09ee2ade0353caa3d93f472bd2f7b.jpg  \n",
            " extracting: train/images/dentist_items_1626_jpg.rf.f5db4aa7a2c49a293a9cd9bdcdf0ecf0.jpg  \n",
            " extracting: train/images/dentist_items_1627_jpg.rf.ebbc455fc417f247ba91f5940bb19092.jpg  \n",
            " extracting: train/images/dentist_items_1628_jpg.rf.ebefdd01c99c4a94c11124cbccef9eab.jpg  \n",
            " extracting: train/images/dentist_items_1629_jpg.rf.17827be6644422d1d98a07bc76aa889c.jpg  \n",
            " extracting: train/images/dentist_items_162_jpg.rf.88a241110f03c7155897fc2e20468a87.jpg  \n",
            " extracting: train/images/dentist_items_1630_jpg.rf.6c09438147cbb190db6335c56791d623.jpg  \n",
            " extracting: train/images/dentist_items_1631_jpg.rf.5c79c68096063f38a1c3a87aea364110.jpg  \n",
            " extracting: train/images/dentist_items_1632_jpg.rf.e091ffc34f508321cd5c852d73af2c15.jpg  \n",
            " extracting: train/images/dentist_items_1633_jpg.rf.fc876782a2f00929b3ce5d54682ea523.jpg  \n",
            " extracting: train/images/dentist_items_1634_jpg.rf.4f828de6b3a4978defd81e274d001405.jpg  \n",
            " extracting: train/images/dentist_items_1635_jpg.rf.ecec8f8f0a761e4734a27a3820bff122.jpg  \n",
            " extracting: train/images/dentist_items_1636_jpg.rf.3a7fe1c6ec1228a60781dff6f5e1de17.jpg  \n",
            " extracting: train/images/dentist_items_1637_jpg.rf.fa936f581e5e960216cf7dfb1b3df7e3.jpg  \n",
            " extracting: train/images/dentist_items_1638_jpg.rf.c4cdfe2bfc71b92c8ac90c6f9158dfec.jpg  \n",
            " extracting: train/images/dentist_items_1639_jpg.rf.b5ae9b4958cf58b197957b1f5a4dd63d.jpg  \n",
            " extracting: train/images/dentist_items_163_jpg.rf.fb4bb2dd5bc93d57cd5472bf1047d231.jpg  \n",
            " extracting: train/images/dentist_items_1640_jpg.rf.b9c6f910d688219d47fb6836845bdf2b.jpg  \n",
            " extracting: train/images/dentist_items_1641_jpg.rf.3faa65d0ff58280f438b613a3ccdbda3.jpg  \n",
            " extracting: train/images/dentist_items_1642_jpg.rf.676a8c150ad2e7df140b905af2c53905.jpg  \n",
            " extracting: train/images/dentist_items_1643_jpg.rf.7e866374bcfdf9aac49d4b25d6636571.jpg  \n",
            " extracting: train/images/dentist_items_1644_jpg.rf.148e095e78a506f5a3add5b38d7974a8.jpg  \n",
            " extracting: train/images/dentist_items_1645_jpg.rf.787f72d5a73585502ccd42552619ca0c.jpg  \n",
            " extracting: train/images/dentist_items_1646_jpg.rf.f7729d53ada19204d3671bc92b4da1dd.jpg  \n",
            " extracting: train/images/dentist_items_1647_jpg.rf.a5a3abfdfa048c24da66db56d1d30a7d.jpg  \n",
            " extracting: train/images/dentist_items_1648_jpg.rf.d4c0ca6d1d979a25566f1e41c9378c4f.jpg  \n",
            " extracting: train/images/dentist_items_1649_jpg.rf.1f66336a6615cc3586516a8c58c047be.jpg  \n",
            " extracting: train/images/dentist_items_164_jpg.rf.cb535575a88fe9a9d698d93e15e3116d.jpg  \n",
            " extracting: train/images/dentist_items_1650_jpg.rf.8cca1fd96e4a4ab041abaf19c96eb0ff.jpg  \n",
            " extracting: train/images/dentist_items_1651_jpg.rf.3955326dad0a6886770b3a4db329c95f.jpg  \n",
            " extracting: train/images/dentist_items_1652_jpg.rf.05691626f3ac780932582c439cc77414.jpg  \n",
            " extracting: train/images/dentist_items_1653_jpg.rf.852f49e496b59f69ec16f5aaf5903276.jpg  \n",
            " extracting: train/images/dentist_items_1654_jpg.rf.7a21c2c5ff2626a3cc2595fb09c65b62.jpg  \n",
            " extracting: train/images/dentist_items_1655_jpg.rf.0be02c817c40226df9c69f19a3148a9d.jpg  \n",
            " extracting: train/images/dentist_items_1656_jpg.rf.748daea81c16d425ffdedb3fc7d4feda.jpg  \n",
            " extracting: train/images/dentist_items_1657_jpg.rf.1bcc173115d7cd488929de80b765bf8f.jpg  \n",
            " extracting: train/images/dentist_items_1658_jpg.rf.4299bb51fce6d9d4e695eda55af95190.jpg  \n",
            " extracting: train/images/dentist_items_1659_jpg.rf.ec214d57d1fb4f2197d6fe20c488de59.jpg  \n",
            " extracting: train/images/dentist_items_165_jpg.rf.a2ca1ac01a9f9de9edbc6daef5ed085d.jpg  \n",
            " extracting: train/images/dentist_items_1660_jpg.rf.b359582bf82f28ecfa94daaf7590ee53.jpg  \n",
            " extracting: train/images/dentist_items_1661_jpg.rf.7caef64b999adcb6dfdcdb5099a2ef01.jpg  \n",
            " extracting: train/images/dentist_items_1662_jpg.rf.d160ef42daa9f84fe8cfbcea5d906a64.jpg  \n",
            " extracting: train/images/dentist_items_1663_jpg.rf.1223ec5fee50579bfb1d4111999bd9d1.jpg  \n",
            " extracting: train/images/dentist_items_1664_jpg.rf.7db99a9ae1a1bd873ece0a560ccc19be.jpg  \n",
            " extracting: train/images/dentist_items_1665_jpg.rf.db62344819b25681fd4237991834a96a.jpg  \n",
            " extracting: train/images/dentist_items_1666_jpg.rf.b0e2925e8cf2a80aba538ae159bbf1bc.jpg  \n",
            " extracting: train/images/dentist_items_1667_jpg.rf.f3d4a2c824e0266ae0f3ee17abe461fc.jpg  \n",
            " extracting: train/images/dentist_items_1668_jpg.rf.06f94e38653476f5c244a9bb40ac28fd.jpg  \n",
            " extracting: train/images/dentist_items_1669_jpg.rf.913c5eca97b3b2f6b5d9d19c53fe10e6.jpg  \n",
            " extracting: train/images/dentist_items_166_jpg.rf.0ffebebe874e3bca96b5b265e92a3121.jpg  \n",
            " extracting: train/images/dentist_items_1675_jpg.rf.14fd64bf374297d7d9312ebe022df9b2.jpg  \n",
            " extracting: train/images/dentist_items_1679_jpg.rf.ff54cbf41092be5bbdd5a41ef6871e48.jpg  \n",
            " extracting: train/images/dentist_items_167_jpg.rf.ef235074ab236b0ee76a1363de2e0a12.jpg  \n",
            " extracting: train/images/dentist_items_1680_jpg.rf.e1aa0e3763aea6b04839b7995723d9cb.jpg  \n",
            " extracting: train/images/dentist_items_1681_jpg.rf.08d28cc4d4c8e85d4f5e5caca76d77f1.jpg  \n",
            " extracting: train/images/dentist_items_1685_jpg.rf.040d1d89469649b971fa7242628f580d.jpg  \n",
            " extracting: train/images/dentist_items_1690_jpg.rf.6a3782526f2f838bd4041f1e317aa383.jpg  \n",
            " extracting: train/images/dentist_items_1691_jpg.rf.9525565bb72f5d6aed63f571a3e8e7e6.jpg  \n",
            " extracting: train/images/dentist_items_1692_jpg.rf.2e314066a72e0caa9779112243858dc6.jpg  \n",
            " extracting: train/images/dentist_items_1693_jpg.rf.db89aed33ba99f4c42fffc6e362ee3f4.jpg  \n",
            " extracting: train/images/dentist_items_1698_jpg.rf.8c2ce0037d9f71442e370f293552d5b8.jpg  \n",
            " extracting: train/images/dentist_items_1699_jpg.rf.4a8d1b9fe1687304182ff6d97a178a24.jpg  \n",
            " extracting: train/images/dentist_items_169_jpg.rf.89ffcb577d4ca46df747f86d66f3ccb9.jpg  \n",
            " extracting: train/images/dentist_items_16_jpg.rf.563defbf5b44c99f2a8095bfca1c0d26.jpg  \n",
            " extracting: train/images/dentist_items_1700_jpg.rf.249b8e62dac5ec2dbb2fcd989603a80f.jpg  \n",
            " extracting: train/images/dentist_items_1703_jpg.rf.d4d05fd25f58b44feb3baacfc2cfb216.jpg  \n",
            " extracting: train/images/dentist_items_1709_jpg.rf.9c02d1713ae20176fd6c8c6a9d682ee5.jpg  \n",
            " extracting: train/images/dentist_items_170_jpg.rf.5740e8e70009dd36b35fdc2059b496fe.jpg  \n",
            " extracting: train/images/dentist_items_1711_jpg.rf.888b17eb927fe2c62e28e44328f100a2.jpg  \n",
            " extracting: train/images/dentist_items_1712_jpg.rf.e4491f19342839dddd66745fb0df1d6f.jpg  \n",
            " extracting: train/images/dentist_items_1713_jpg.rf.4a3ee08fd7847ca70b9aa58c1ca47a92.jpg  \n",
            " extracting: train/images/dentist_items_1716_jpg.rf.fe7a0f27e9a794fc8a8f4aff22226d36.jpg  \n",
            " extracting: train/images/dentist_items_1718_jpg.rf.379a4ccc7af5927df8306deee03bb4c6.jpg  \n",
            " extracting: train/images/dentist_items_171_jpg.rf.33fdfaae4428c333d6b1cd137d91f073.jpg  \n",
            " extracting: train/images/dentist_items_1720_jpg.rf.044626c47b8e0c8e94f1a1037ca5999a.jpg  \n",
            " extracting: train/images/dentist_items_1724_jpg.rf.61b80f8531a93cf67957b8751bef55e3.jpg  \n",
            " extracting: train/images/dentist_items_1727_jpg.rf.233c7ccdeef63cb8b03033419ea3d091.jpg  \n",
            " extracting: train/images/dentist_items_1728_jpg.rf.e7f9c8822beed1eed8af22c610ebf035.jpg  \n",
            " extracting: train/images/dentist_items_1729_jpg.rf.ca2ea4ab31b9aed4a0fc71803530053b.jpg  \n",
            " extracting: train/images/dentist_items_172_jpg.rf.b062cc16b0955a9c47cf7876431fd1e6.jpg  \n",
            " extracting: train/images/dentist_items_1730_jpg.rf.0097caad110610cdffbe75dacdd27688.jpg  \n",
            " extracting: train/images/dentist_items_1731_jpg.rf.1a2e505617dfa5d45622df473ef2f0c8.jpg  \n",
            " extracting: train/images/dentist_items_1742_jpg.rf.1a315d40abe5c0d4643914b92d611394.jpg  \n",
            " extracting: train/images/dentist_items_1743_jpg.rf.45c6209bdf0b85542e6cf91370e79ce4.jpg  \n",
            " extracting: train/images/dentist_items_1744_jpg.rf.467116ab137ee917a17b772b45312e15.jpg  \n",
            " extracting: train/images/dentist_items_1745_jpg.rf.45c7543a8207eb14af009e3c502afd33.jpg  \n",
            " extracting: train/images/dentist_items_1746_jpg.rf.8d0c92c3a5ebc6f7638e8854d205d495.jpg  \n",
            " extracting: train/images/dentist_items_1749_jpg.rf.0a6fa3e8dbca02f8ed799e3bc8aad0c7.jpg  \n",
            " extracting: train/images/dentist_items_174_jpg.rf.a0d71ce9d81ec34dfe2c191932c5ff05.jpg  \n",
            " extracting: train/images/dentist_items_1750_jpg.rf.2b1a9796a9e5e4fd8f1d0a3dc2e9e050.jpg  \n",
            " extracting: train/images/dentist_items_1751_jpg.rf.eec38eefa58cf2d74b994067e53cb8bc.jpg  \n",
            " extracting: train/images/dentist_items_1752_jpg.rf.82e0f1eb559dc6385ce8137c1bb5b99c.jpg  \n",
            " extracting: train/images/dentist_items_1753_jpg.rf.063d6bb31e2f854fe122cd1c66c355f2.jpg  \n",
            " extracting: train/images/dentist_items_1754_jpg.rf.e40cbe97f3b3f966c6f77dded953f27a.jpg  \n",
            " extracting: train/images/dentist_items_1756_jpg.rf.d99cd11ea27550723268fc3dda7adbb7.jpg  \n",
            " extracting: train/images/dentist_items_1757_jpg.rf.172a697c873647dbec48b5b69136b311.jpg  \n",
            " extracting: train/images/dentist_items_1758_jpg.rf.416c83bc894e3c6f3f7c5a8c3565dd31.jpg  \n",
            " extracting: train/images/dentist_items_1767_jpg.rf.e153414e3c7b53e334a1b2dd2f6cef4e.jpg  \n",
            " extracting: train/images/dentist_items_177_jpg.rf.46d39a22be49843df8d0700154b5d0e5.jpg  \n",
            " extracting: train/images/dentist_items_178_jpg.rf.9f192e625991b2e78933b1d8f5d9b6d4.jpg  \n",
            " extracting: train/images/dentist_items_17_jpg.rf.af51cb60b2a87756f402c893b92bd2de.jpg  \n",
            " extracting: train/images/dentist_items_181_jpg.rf.a8160e6d85c9b90c9434ff8459973491.jpg  \n",
            " extracting: train/images/dentist_items_183_jpg.rf.e98cbad267e490d572ba053cf159e6e4.jpg  \n",
            " extracting: train/images/dentist_items_184_jpg.rf.981d92d5996a98b521b6810ccf3fc96f.jpg  \n",
            " extracting: train/images/dentist_items_185_jpg.rf.56b570ad7f9cf03f4192fa69216659e1.jpg  \n",
            " extracting: train/images/dentist_items_186_jpg.rf.4b6874d49da6477f71fbd40b6552e73f.jpg  \n",
            " extracting: train/images/dentist_items_187_jpg.rf.13f8120823f3ea6e95af65035b6b2ecb.jpg  \n",
            " extracting: train/images/dentist_items_189_jpg.rf.35f93d6110967529a6780adef51a8807.jpg  \n",
            " extracting: train/images/dentist_items_18_jpg.rf.aef68518acdcc1917d54b14dbf6a14cd.jpg  \n",
            " extracting: train/images/dentist_items_190_jpg.rf.1c3f19456d7d48c84c73c34094e8f77c.jpg  \n",
            " extracting: train/images/dentist_items_191_jpg.rf.32138ce997eaea5445a4f3877eb222aa.jpg  \n",
            " extracting: train/images/dentist_items_192_jpg.rf.4a3189d95c093f9c60f813ec82292ccc.jpg  \n",
            " extracting: train/images/dentist_items_194_jpg.rf.60b96688be46b9389d7eb70c1578f826.jpg  \n",
            " extracting: train/images/dentist_items_195_jpg.rf.1cdeccaa180e96230e06c09f3bac5798.jpg  \n",
            " extracting: train/images/dentist_items_196_jpg.rf.98bb4ea0dd8bf86fac81c15d6a6d98f7.jpg  \n",
            " extracting: train/images/dentist_items_197_jpg.rf.881405b09136ca1c749916acb2ccb6da.jpg  \n",
            " extracting: train/images/dentist_items_199_jpg.rf.05487615cb38d25de4fa0b929e0644ef.jpg  \n",
            " extracting: train/images/dentist_items_19_jpg.rf.46beba8376a2f8800ccdbeceb9083da4.jpg  \n",
            " extracting: train/images/dentist_items_200_jpg.rf.00cd2d514d2baa77f6f4b402af9a4c1a.jpg  \n",
            " extracting: train/images/dentist_items_201_jpg.rf.fe4514172c93c576a3e2cbc6413e1053.jpg  \n",
            " extracting: train/images/dentist_items_203_jpg.rf.feba3eca5ab07ef2ff06dce2f8028fc8.jpg  \n",
            " extracting: train/images/dentist_items_204_jpg.rf.46090db77b2ae5c4d9a082cd10716ead.jpg  \n",
            " extracting: train/images/dentist_items_206_jpg.rf.11eb7e790faf51016e0e5a8d5071dfc3.jpg  \n",
            " extracting: train/images/dentist_items_207_jpg.rf.81101acb7888731a2caa92e8a3b55ba4.jpg  \n",
            " extracting: train/images/dentist_items_208_jpg.rf.3b2487001650782c5ad7ed2a71456910.jpg  \n",
            " extracting: train/images/dentist_items_209_jpg.rf.b0185dae10317fb63cfea597ce8ce5e2.jpg  \n",
            " extracting: train/images/dentist_items_20_jpg.rf.56f74cc1f6b184c079ee93b913642ca8.jpg  \n",
            " extracting: train/images/dentist_items_212_jpg.rf.a459458f92be89aea2d02b0350960b22.jpg  \n",
            " extracting: train/images/dentist_items_215_jpg.rf.cf5a2d13436f0b16de3ae57bbdfa8187.jpg  \n",
            " extracting: train/images/dentist_items_216_jpg.rf.fef0fdd2c663330f4c025343af54d524.jpg  \n",
            " extracting: train/images/dentist_items_217_jpg.rf.e4d9a2b617f791df90003e0b30d5b2a0.jpg  \n",
            " extracting: train/images/dentist_items_218_jpg.rf.9de560eba0301cab713eabdd94751dfe.jpg  \n",
            " extracting: train/images/dentist_items_219_jpg.rf.5e68b45d7f1fcb810f1dfcab9bce7700.jpg  \n",
            " extracting: train/images/dentist_items_21_jpg.rf.26c94de6444db4b834c15e7fda2cb312.jpg  \n",
            " extracting: train/images/dentist_items_220_jpg.rf.23d398c937cab7d1a58420fb81de6d3b.jpg  \n",
            " extracting: train/images/dentist_items_223_jpg.rf.b0feb96c98268e34605305957064c592.jpg  \n",
            " extracting: train/images/dentist_items_224_jpg.rf.c5daa19925ff87932baec10140984766.jpg  \n",
            " extracting: train/images/dentist_items_227_jpg.rf.2793e314d66974c856003bed872a8d1f.jpg  \n",
            " extracting: train/images/dentist_items_228_jpg.rf.be5185030e60b3db641c63812ccf0346.jpg  \n",
            " extracting: train/images/dentist_items_229_jpg.rf.e8bbd62c4d569a6e37e9153897e3e79c.jpg  \n",
            " extracting: train/images/dentist_items_22_jpg.rf.6369185f31ef0c461d9e8043866d86eb.jpg  \n",
            " extracting: train/images/dentist_items_230_jpg.rf.78904c7e190ba7249792d622067e528f.jpg  \n",
            " extracting: train/images/dentist_items_231_jpg.rf.2110cb1bbd96630cb396cb905dc4f063.jpg  \n",
            " extracting: train/images/dentist_items_232_jpg.rf.d4f050bc5d97ebfdcab772af31fc2de5.jpg  \n",
            " extracting: train/images/dentist_items_233_jpg.rf.d780c347f14fc6e66063f52123f68f64.jpg  \n",
            " extracting: train/images/dentist_items_234_jpg.rf.233679d8c2440f482264725798a90504.jpg  \n",
            " extracting: train/images/dentist_items_235_jpg.rf.09abc7201fddc58edf678cc386ba9261.jpg  \n",
            " extracting: train/images/dentist_items_236_jpg.rf.3f4a7971d9a4efbd126cf53815ab68d0.jpg  \n",
            " extracting: train/images/dentist_items_237_jpg.rf.595e5a09dc99c922796bdfa62c6604a8.jpg  \n",
            " extracting: train/images/dentist_items_238_jpg.rf.7048fdf7547198feed9a54a6b8efc722.jpg  \n",
            " extracting: train/images/dentist_items_239_jpg.rf.8d6403210f853edd4300306b2b2a6b67.jpg  \n",
            " extracting: train/images/dentist_items_23_jpg.rf.711555512934894c5c7a22fca62042a6.jpg  \n",
            " extracting: train/images/dentist_items_240_jpg.rf.b7a5261e67c9e57c61ce71fbd20474ca.jpg  \n",
            " extracting: train/images/dentist_items_242_jpg.rf.e2adddf27e2221403e34ca822793b610.jpg  \n",
            " extracting: train/images/dentist_items_243_jpg.rf.278ce6056e7eca7bd2e8a1b4c56a0820.jpg  \n",
            " extracting: train/images/dentist_items_245_jpg.rf.bebb472c8756357fd2e7483517140626.jpg  \n",
            " extracting: train/images/dentist_items_247_jpg.rf.588645fe18fa8d976e88b60e6d9a1eac.jpg  \n",
            " extracting: train/images/dentist_items_248_jpg.rf.e4c5707a2b0ebf169cc0f6e7b046f4b8.jpg  \n",
            " extracting: train/images/dentist_items_249_jpg.rf.50c7163bd005a527b621fadc8f873b97.jpg  \n",
            " extracting: train/images/dentist_items_24_jpg.rf.4251cb49ae644745a4a1f232b5f443c1.jpg  \n",
            " extracting: train/images/dentist_items_250_jpg.rf.3d8f1c9f6049b71181e20aa637c54201.jpg  \n",
            " extracting: train/images/dentist_items_251_jpg.rf.8f2504fe7194d6b444024cd7b23930b1.jpg  \n",
            " extracting: train/images/dentist_items_252_jpg.rf.af718dbe81ec55c2012c9f693a978b42.jpg  \n",
            " extracting: train/images/dentist_items_253_jpg.rf.b1b2364538a8812508b74aa9ba4a8fc5.jpg  \n",
            " extracting: train/images/dentist_items_254_jpg.rf.a1f75494b9ee6bc52216a8badc74c01f.jpg  \n",
            " extracting: train/images/dentist_items_255_jpg.rf.3affb1b6e2d84f46ff5391c087967aaa.jpg  \n",
            " extracting: train/images/dentist_items_256_jpg.rf.93a56789045141d4b65d3b568f9ee216.jpg  \n",
            " extracting: train/images/dentist_items_257_jpg.rf.5a56e45a9dcc77ac27691ece0b6f58dd.jpg  \n",
            " extracting: train/images/dentist_items_258_jpg.rf.8491be1db6cae21f5272568e0564bb07.jpg  \n",
            " extracting: train/images/dentist_items_259_jpg.rf.232ed832eb2397c4f55a71a3523a7b8e.jpg  \n",
            " extracting: train/images/dentist_items_25_jpg.rf.9c37500c2b96796b2af0b4855a7df6a0.jpg  \n",
            " extracting: train/images/dentist_items_260_jpg.rf.17e7ba111f992edadab59de660cd6352.jpg  \n",
            " extracting: train/images/dentist_items_261_jpg.rf.4f5a7774696edb2013a8b04786feb963.jpg  \n",
            " extracting: train/images/dentist_items_262_jpg.rf.891889c7a453f458c78397a86813ba5e.jpg  \n",
            " extracting: train/images/dentist_items_263_jpg.rf.f7cc97c4a30dc1841d4176251b988edb.jpg  \n",
            " extracting: train/images/dentist_items_264_jpg.rf.feec5bba2855213595cb2898cad1b0ca.jpg  \n",
            " extracting: train/images/dentist_items_265_jpg.rf.c005c414089ea4d242e2bb142a62798e.jpg  \n",
            " extracting: train/images/dentist_items_266_jpg.rf.e05dda936bee330c2a5f68181b6e27cc.jpg  \n",
            " extracting: train/images/dentist_items_267_jpg.rf.bee71ca230882a125095791fd97ebab9.jpg  \n",
            " extracting: train/images/dentist_items_268_jpg.rf.8794f7ed65ecadb4e6d10ff69d6ae54d.jpg  \n",
            " extracting: train/images/dentist_items_269_jpg.rf.5d9e969a8787672f0eba11be4dc96685.jpg  \n",
            " extracting: train/images/dentist_items_26_jpg.rf.2280d60816fd141fbf8f92b82392c328.jpg  \n",
            " extracting: train/images/dentist_items_270_jpg.rf.13092377a5d467be13578cb226ba02d0.jpg  \n",
            " extracting: train/images/dentist_items_271_jpg.rf.1f628ad0bea7f8027c1922466b83db52.jpg  \n",
            " extracting: train/images/dentist_items_272_jpg.rf.3414c40cc24cf90bb31c81bf202e5ce2.jpg  \n",
            " extracting: train/images/dentist_items_273_jpg.rf.7c165ae3a56b6269e1b8a7fd120fc1f1.jpg  \n",
            " extracting: train/images/dentist_items_274_jpg.rf.277f21f38520edb125f08397589c5ad7.jpg  \n",
            " extracting: train/images/dentist_items_275_jpg.rf.7c23e6530156861cc1512faf135dadc9.jpg  \n",
            " extracting: train/images/dentist_items_276_jpg.rf.8340d8d76e55c1a7470aa7a5f23ff7a9.jpg  \n",
            " extracting: train/images/dentist_items_277_jpg.rf.a450a4a07318c81d362d9cbf62392a59.jpg  \n",
            " extracting: train/images/dentist_items_278_jpg.rf.76ef1d3ce992af52ea3c0f3e72d50bb7.jpg  \n",
            " extracting: train/images/dentist_items_279_jpg.rf.9a2284c1c3dd3ec6dc8ad3c1f5cdff03.jpg  \n",
            " extracting: train/images/dentist_items_280_jpg.rf.bfbb62751235369587281460f1d2c7fa.jpg  \n",
            " extracting: train/images/dentist_items_281_jpg.rf.6b44b5134c342e66b4b70ad8cc1cfe65.jpg  \n",
            " extracting: train/images/dentist_items_282_jpg.rf.114d4d60e4ae5afeaf41775d884c3cdf.jpg  \n",
            " extracting: train/images/dentist_items_283_jpg.rf.a4d7c0c367c9a6d71cdf1709ee674b16.jpg  \n",
            " extracting: train/images/dentist_items_284_jpg.rf.839b5c579c50c04e376c8e8f593c7c39.jpg  \n",
            " extracting: train/images/dentist_items_285_jpg.rf.71695c28c481fe835d5bf1fbf4d90f1a.jpg  \n",
            " extracting: train/images/dentist_items_286_jpg.rf.8329ea7a57d6398388e054dfdadd3aea.jpg  \n",
            " extracting: train/images/dentist_items_287_jpg.rf.76f2e5f945ecb6beb7a596757db5b7f6.jpg  \n",
            " extracting: train/images/dentist_items_288_jpg.rf.1838f0b4ffc09493aefa4d919d0b44eb.jpg  \n",
            " extracting: train/images/dentist_items_289_jpg.rf.5c4fa43c79c264b8bba19ec50501cc4c.jpg  \n",
            " extracting: train/images/dentist_items_28_jpg.rf.e277ea7830e212bf4d831139e4472cab.jpg  \n",
            " extracting: train/images/dentist_items_290_jpg.rf.cd62a2b6152f795dfa2dcdec22119705.jpg  \n",
            " extracting: train/images/dentist_items_291_jpg.rf.f8e7bc23a0855c2028a904bacbd05ae8.jpg  \n",
            " extracting: train/images/dentist_items_292_jpg.rf.fe91f060137c05851349960ee7be5761.jpg  \n",
            " extracting: train/images/dentist_items_293_jpg.rf.c55c31a4c429673994513d20b795e9fd.jpg  \n",
            " extracting: train/images/dentist_items_294_jpg.rf.bda264fe4dc58e19aed770dc80914d98.jpg  \n",
            " extracting: train/images/dentist_items_295_jpg.rf.8d6fea327020eed22680c35c0a775f18.jpg  \n",
            " extracting: train/images/dentist_items_296_jpg.rf.0ff74286a223f62ca3aaa8ac5ac2e22d.jpg  \n",
            " extracting: train/images/dentist_items_297_jpg.rf.9ff3b0b0414abf7b1d0aa80016d43397.jpg  \n",
            " extracting: train/images/dentist_items_298_jpg.rf.00e215f6f4b140fbe79b1ba72ff66cd2.jpg  \n",
            " extracting: train/images/dentist_items_299_jpg.rf.626c5e101fb7962b38928d92b0559447.jpg  \n",
            " extracting: train/images/dentist_items_29_jpg.rf.5f40476816e6ab04fa76f7cf0b42d789.jpg  \n",
            " extracting: train/images/dentist_items_300_jpg.rf.f38906c64f235ebd701155274d5466c6.jpg  \n",
            " extracting: train/images/dentist_items_301_jpg.rf.b67fbdc36eb861448a776c465ce1df21.jpg  \n",
            " extracting: train/images/dentist_items_302_jpg.rf.c9f0c307dfe809ad7f1de30d8665e135.jpg  \n",
            " extracting: train/images/dentist_items_303_jpg.rf.b915f2c19e543b3d54e3d69cba298675.jpg  \n",
            " extracting: train/images/dentist_items_304_jpg.rf.58607bb8f186de2249e923dc5d2b1a9e.jpg  \n",
            " extracting: train/images/dentist_items_305_jpg.rf.17f46ba2b601e9d9b53ddf726f4f5b18.jpg  \n",
            " extracting: train/images/dentist_items_306_jpg.rf.abfc7ccc617d3ce35be9705b48fdc0a6.jpg  \n",
            " extracting: train/images/dentist_items_307_jpg.rf.14c02654f144ba4523d40a02baaa43b2.jpg  \n",
            " extracting: train/images/dentist_items_308_jpg.rf.9c045c07c7f870dece61251a138d9d23.jpg  \n",
            " extracting: train/images/dentist_items_309_jpg.rf.f435d6c5bc6e1fdd5beca4d776364059.jpg  \n",
            " extracting: train/images/dentist_items_30_jpg.rf.d487b6b0ef7d7c60702c7247bbdc45da.jpg  \n",
            " extracting: train/images/dentist_items_310_jpg.rf.6d70c86358c941b05aedbf9966ad62b5.jpg  \n",
            " extracting: train/images/dentist_items_311_jpg.rf.1e102bb7e1086ba10cfc65288ad67414.jpg  \n",
            " extracting: train/images/dentist_items_312_jpg.rf.a77703c16a8176d7fdf57e6b23660544.jpg  \n",
            " extracting: train/images/dentist_items_313_jpg.rf.8ffcf067e30b77704d6944dd2dab5c8f.jpg  \n",
            " extracting: train/images/dentist_items_314_jpg.rf.85019017c32fad1f2e860472bfe96d7d.jpg  \n",
            " extracting: train/images/dentist_items_315_jpg.rf.16daaf30db2305978842602bdc54e28e.jpg  \n",
            " extracting: train/images/dentist_items_316_jpg.rf.56d4b72315542158d38958b010a773bb.jpg  \n",
            " extracting: train/images/dentist_items_317_jpg.rf.25748f27fab698abbd16aa7bfe775b11.jpg  \n",
            " extracting: train/images/dentist_items_318_jpg.rf.ff1cabdae9cf6ac8bf9886bec8790fd9.jpg  \n",
            " extracting: train/images/dentist_items_319_jpg.rf.a37962e531ffb7a5f8e9d12300f99739.jpg  \n",
            " extracting: train/images/dentist_items_31_jpg.rf.ff4003d6dde125ac795aee6f5313a90e.jpg  \n",
            " extracting: train/images/dentist_items_320_jpg.rf.639d1897b81b7f42fd9a378012e20454.jpg  \n",
            " extracting: train/images/dentist_items_321_jpg.rf.04f1bbdede713117a839c04f4765f17c.jpg  \n",
            " extracting: train/images/dentist_items_322_jpg.rf.1be11da063c75842c7ef00b42f6f4987.jpg  \n",
            " extracting: train/images/dentist_items_323_jpg.rf.c08776950d23bb6246a6a134a0c8db95.jpg  \n",
            " extracting: train/images/dentist_items_324_jpg.rf.c526d569e76a375391503d74a0a045d0.jpg  \n",
            " extracting: train/images/dentist_items_325_jpg.rf.969a84cef05485bcedbdc7da753f5f55.jpg  \n",
            " extracting: train/images/dentist_items_326_jpg.rf.7889df7ef80415016b2c8e23b143b89b.jpg  \n",
            " extracting: train/images/dentist_items_327_jpg.rf.3e6a6b5ec1e03a6d993c49f6c012dcb2.jpg  \n",
            " extracting: train/images/dentist_items_328_jpg.rf.8ab4e65bd9b9ef1f56663ce82fcf5627.jpg  \n",
            " extracting: train/images/dentist_items_329_jpg.rf.2a87921bc7db9b7dce8e40650cc8f85e.jpg  \n",
            " extracting: train/images/dentist_items_32_jpg.rf.497e03ceba5e49a0b00c440c7e26ae5b.jpg  \n",
            " extracting: train/images/dentist_items_330_jpg.rf.06f6daadaa49b734648dac9be3625975.jpg  \n",
            " extracting: train/images/dentist_items_331_jpg.rf.4e2a99ea7098cc83daab16313ad89e0a.jpg  \n",
            " extracting: train/images/dentist_items_332_jpg.rf.aff403ffa97778bf05f823a0d74adb23.jpg  \n",
            " extracting: train/images/dentist_items_333_jpg.rf.ad5402f5aa1e8d413074d3471e2ae443.jpg  \n",
            " extracting: train/images/dentist_items_334_jpg.rf.70406a2153a9f80234a0850123ba79f6.jpg  \n",
            " extracting: train/images/dentist_items_335_jpg.rf.8b1c5afdd193adc42edef9defeb06db1.jpg  \n",
            " extracting: train/images/dentist_items_336_jpg.rf.9ee1ac7a4733ac29e1f2aae7e5653352.jpg  \n",
            " extracting: train/images/dentist_items_337_jpg.rf.e716451294f3a6f8f3dd332122003b53.jpg  \n",
            " extracting: train/images/dentist_items_338_jpg.rf.306fcfe1db3dfc9e5e22abef89660cdd.jpg  \n",
            " extracting: train/images/dentist_items_339_jpg.rf.3fedd45542b8bcaad5f7bc21ff66d65c.jpg  \n",
            " extracting: train/images/dentist_items_33_jpg.rf.c4c0bd2bcc988fd2f0977f030bc34ea0.jpg  \n",
            " extracting: train/images/dentist_items_340_jpg.rf.c0ae5dbfe40f4b204dcc0b46f0157ee1.jpg  \n",
            " extracting: train/images/dentist_items_341_jpg.rf.bb0b594e5a0c7a5384c0967bcdfc44d7.jpg  \n",
            " extracting: train/images/dentist_items_342_jpg.rf.74bda1a3e2ad4e9fa19f6a35ccf93557.jpg  \n",
            " extracting: train/images/dentist_items_343_jpg.rf.c333508529fe477abb88981f3bbc4400.jpg  \n",
            " extracting: train/images/dentist_items_344_jpg.rf.30c232e135852d2ffaae70fe1e74d655.jpg  \n",
            " extracting: train/images/dentist_items_345_jpg.rf.8b2815aec50e85a73bdbb3e6d7aed9f5.jpg  \n",
            " extracting: train/images/dentist_items_346_jpg.rf.98fc6762b60b9a5b14c7732560aa269c.jpg  \n",
            " extracting: train/images/dentist_items_347_jpg.rf.dde4b55842ec19992061ea600e5b8476.jpg  \n",
            " extracting: train/images/dentist_items_348_jpg.rf.772a54dec5142d32fdc08c45004f5835.jpg  \n",
            " extracting: train/images/dentist_items_349_jpg.rf.e4cd33bf6b888ebd6982a94f2d18ec77.jpg  \n",
            " extracting: train/images/dentist_items_34_jpg.rf.03827a478c17e1b75184fdf669e56cad.jpg  \n",
            " extracting: train/images/dentist_items_350_jpg.rf.ba6d29960caca6561516acf0d8016e04.jpg  \n",
            " extracting: train/images/dentist_items_351_jpg.rf.b522de11b9ffe15a47d5f2918442354c.jpg  \n",
            " extracting: train/images/dentist_items_352_jpg.rf.c0b0f9af6a917aebeb971c05353e51cf.jpg  \n",
            " extracting: train/images/dentist_items_353_jpg.rf.de5fb0cecadba69473403e80f5d76c8c.jpg  \n",
            " extracting: train/images/dentist_items_354_jpg.rf.1b077cb2553b4a6c994407268ef43194.jpg  \n",
            " extracting: train/images/dentist_items_355_jpg.rf.ba606044ecccca9c35306e1cd3f3e9d9.jpg  \n",
            " extracting: train/images/dentist_items_356_jpg.rf.38739065b236302917fe12d7b682cad6.jpg  \n",
            " extracting: train/images/dentist_items_357_jpg.rf.8ae927c676b9652033a333a45a86b758.jpg  \n",
            " extracting: train/images/dentist_items_358_jpg.rf.2f8198718a2ee83fc90e4d10148ff286.jpg  \n",
            " extracting: train/images/dentist_items_359_jpg.rf.706f429336a090ea6594ddea3f5c4a40.jpg  \n",
            " extracting: train/images/dentist_items_35_jpg.rf.dddcd1a40676cef066c94181dc3039b1.jpg  \n",
            " extracting: train/images/dentist_items_360_jpg.rf.55f7ace7cef5c938f4a64247cbb8cdfd.jpg  \n",
            " extracting: train/images/dentist_items_361_jpg.rf.7c85989c0fd70e2b8b175b2adb550ebc.jpg  \n",
            " extracting: train/images/dentist_items_362_jpg.rf.4b30108e78c5ea1eecbcc8585f9e422d.jpg  \n",
            " extracting: train/images/dentist_items_363_jpg.rf.9e356b6f8c10747b49df2f28f7918dbd.jpg  \n",
            " extracting: train/images/dentist_items_364_jpg.rf.e3b87df56d0ff05fad6ba1ec76384b47.jpg  \n",
            " extracting: train/images/dentist_items_365_jpg.rf.9de3ea2394c822df0ccb11114bd93559.jpg  \n",
            " extracting: train/images/dentist_items_366_jpg.rf.c41566d8f1e43afb040273b16229c934.jpg  \n",
            " extracting: train/images/dentist_items_367_jpg.rf.aafca2c32c0da935d181c8161a7f21ef.jpg  \n",
            " extracting: train/images/dentist_items_368_jpg.rf.49a09a0c0db21a0c36e10ac2198a0e22.jpg  \n",
            " extracting: train/images/dentist_items_369_jpg.rf.aa65640c0a2b0d098388b14a5aafb423.jpg  \n",
            " extracting: train/images/dentist_items_36_jpg.rf.e2d50bc8d1cb67cd87a19e397b982119.jpg  \n",
            " extracting: train/images/dentist_items_370_jpg.rf.3a3ef4995ee95c03d57badbca100484c.jpg  \n",
            " extracting: train/images/dentist_items_371_jpg.rf.160ae8ded0031e8bf075a217ea2fe087.jpg  \n",
            " extracting: train/images/dentist_items_372_jpg.rf.dd05f5670cb3ea7d130087eea630f5bc.jpg  \n",
            " extracting: train/images/dentist_items_373_jpg.rf.15470c6364261ce062ea58dd9f62eebc.jpg  \n",
            " extracting: train/images/dentist_items_374_jpg.rf.c059f15f6c56ad8659c4794d6c311428.jpg  \n",
            " extracting: train/images/dentist_items_375_jpg.rf.12020237631fe2a9c13f717e9628903e.jpg  \n",
            " extracting: train/images/dentist_items_376_jpg.rf.205a2449d4fcaced43ac5742fdf3c10e.jpg  \n",
            " extracting: train/images/dentist_items_377_jpg.rf.01c30c1719e0dba4542c00623df69b84.jpg  \n",
            " extracting: train/images/dentist_items_378_jpg.rf.939e0c35b4d569e717ae527487d4208e.jpg  \n",
            " extracting: train/images/dentist_items_379_jpg.rf.423b2c9875e23403638745afa44d4487.jpg  \n",
            " extracting: train/images/dentist_items_37_jpg.rf.8d513d053318444a2d482978e5b4f4b3.jpg  \n",
            " extracting: train/images/dentist_items_380_jpg.rf.5d69b1855617b8eabea9be04a968cd2b.jpg  \n",
            " extracting: train/images/dentist_items_381_jpg.rf.f1dde36b49ad48529e4705c96ea0a127.jpg  \n",
            " extracting: train/images/dentist_items_382_jpg.rf.4d38c99ef0aff0afc54424697884bf5f.jpg  \n",
            " extracting: train/images/dentist_items_383_jpg.rf.6ec9040f435f4b0c5f9162034cfcbae6.jpg  \n",
            " extracting: train/images/dentist_items_384_jpg.rf.3eb59071f0478b5aa94ef7c0cfc811b1.jpg  \n",
            " extracting: train/images/dentist_items_385_jpg.rf.ecc7d2c585b8a74c2108e55bbf23d319.jpg  \n",
            " extracting: train/images/dentist_items_386_jpg.rf.073c5331f96a72947d00bffe6f961367.jpg  \n",
            " extracting: train/images/dentist_items_387_jpg.rf.7969655a81b9677eb7c2bae600466220.jpg  \n",
            " extracting: train/images/dentist_items_388_jpg.rf.84c8462c879383be3864d946f8fd50d4.jpg  \n",
            " extracting: train/images/dentist_items_389_jpg.rf.140ea2fa8cce08b5d698fb0b2c006cec.jpg  \n",
            " extracting: train/images/dentist_items_38_jpg.rf.6c7a32c043811d9fd937ffe525ef5454.jpg  \n",
            " extracting: train/images/dentist_items_390_jpg.rf.d700519fda96bd0ab4e2730daa4e742c.jpg  \n",
            " extracting: train/images/dentist_items_391_jpg.rf.fae6d742d12b74a38d7f448f8e037a28.jpg  \n",
            " extracting: train/images/dentist_items_392_jpg.rf.7f4826270a6b24359d5de0f89066b671.jpg  \n",
            " extracting: train/images/dentist_items_393_jpg.rf.e9810c0783e9a1086f8b36c98cdc248c.jpg  \n",
            " extracting: train/images/dentist_items_394_jpg.rf.0e55d92b35e69932b57978b4e7e5bc99.jpg  \n",
            " extracting: train/images/dentist_items_395_jpg.rf.ae7521168404f98639b3679530283ddd.jpg  \n",
            " extracting: train/images/dentist_items_396_jpg.rf.e078ceb10fa5fc224e831690edf1864f.jpg  \n",
            " extracting: train/images/dentist_items_397_jpg.rf.8048866dfa450b61ea68526b5b27e8dd.jpg  \n",
            " extracting: train/images/dentist_items_398_jpg.rf.605012edee81c381f2586d09be2df5c3.jpg  \n",
            " extracting: train/images/dentist_items_399_jpg.rf.da87cada55f5a8d761dbaad4dc60464e.jpg  \n",
            " extracting: train/images/dentist_items_39_jpg.rf.7009f08f6e89391c52cf744d1f7930a0.jpg  \n",
            " extracting: train/images/dentist_items_3_jpg.rf.6397f008a35b8bca3017b4711feb6ee5.jpg  \n",
            " extracting: train/images/dentist_items_400_jpg.rf.9373cb3eaf23f38ab97cdc775a01b44b.jpg  \n",
            " extracting: train/images/dentist_items_401_jpg.rf.c3c021c22fca6ec11ab281379ca378fe.jpg  \n",
            " extracting: train/images/dentist_items_402_jpg.rf.b32bc00473166029189d0827b981db34.jpg  \n",
            " extracting: train/images/dentist_items_403_jpg.rf.cf115dd3f8e81debac78d317f2c0f1ce.jpg  \n",
            " extracting: train/images/dentist_items_404_jpg.rf.92980c23500c079884d1cde7c7a93ebe.jpg  \n",
            " extracting: train/images/dentist_items_405_jpg.rf.1c6262db05007f19420af400c7cdcfad.jpg  \n",
            " extracting: train/images/dentist_items_406_jpg.rf.d532ef5c35874798774a4449a489a839.jpg  \n",
            " extracting: train/images/dentist_items_407_jpg.rf.6e4e6206be23ae1b069e0e24d1bc4fcd.jpg  \n",
            " extracting: train/images/dentist_items_408_jpg.rf.99b6d0b9bfcbc2e201c8fc4df68a94b6.jpg  \n",
            " extracting: train/images/dentist_items_409_jpg.rf.b5bd12fa8196990ee79cb9830dfa83d2.jpg  \n",
            " extracting: train/images/dentist_items_40_jpg.rf.5080c231b7c7449d3b4916b1d486ffa1.jpg  \n",
            " extracting: train/images/dentist_items_410_jpg.rf.d837468fd6748970699fd08a4b6c01b6.jpg  \n",
            " extracting: train/images/dentist_items_411_jpg.rf.fde8d4b16fef5e69f3113d31d9b72254.jpg  \n",
            " extracting: train/images/dentist_items_412_jpg.rf.398cbeb6b5a416a67a3d869776fd5145.jpg  \n",
            " extracting: train/images/dentist_items_413_jpg.rf.161a3f83214c9ab2e489a9f0b7b136e9.jpg  \n",
            " extracting: train/images/dentist_items_414_jpg.rf.b20885416f0cf5792b72b2aba29212b9.jpg  \n",
            " extracting: train/images/dentist_items_415_jpg.rf.f5ef5074931fbf838b328045450a1042.jpg  \n",
            " extracting: train/images/dentist_items_416_jpg.rf.e743b252a15a4fe91df64270d61d4f9b.jpg  \n",
            " extracting: train/images/dentist_items_417_jpg.rf.16d5ad93e4e4f63a217f16b6ebf8ac6f.jpg  \n",
            " extracting: train/images/dentist_items_418_jpg.rf.0b28485d1d97ac40773fbe142a43b0a2.jpg  \n",
            " extracting: train/images/dentist_items_419_jpg.rf.9092c48d0c62304a078df7561d70cdb9.jpg  \n",
            " extracting: train/images/dentist_items_41_jpg.rf.5e7ec389c0ed0b4afd98b523186fabea.jpg  \n",
            " extracting: train/images/dentist_items_420_jpg.rf.0df5b339f1bd9763271cee658b725110.jpg  \n",
            " extracting: train/images/dentist_items_421_jpg.rf.92eff4a0f9bc458965d3503dff1e3b25.jpg  \n",
            " extracting: train/images/dentist_items_422_jpg.rf.c319fa9202ecf21a1126117fd98dc7c9.jpg  \n",
            " extracting: train/images/dentist_items_423_jpg.rf.648e24d47a0a46b2caf26aff68c2fefa.jpg  \n",
            " extracting: train/images/dentist_items_424_jpg.rf.8b24eca4c48394c169c49ca686db0935.jpg  \n",
            " extracting: train/images/dentist_items_425_jpg.rf.68eab2b7f4f277a7c400e976fc204197.jpg  \n",
            " extracting: train/images/dentist_items_426_jpg.rf.337bde77ebb4ed5fbb07af8f8a7f7093.jpg  \n",
            " extracting: train/images/dentist_items_427_jpg.rf.57003d0875cf38457f2dc7b6f1d0af0a.jpg  \n",
            " extracting: train/images/dentist_items_429_jpg.rf.cbf57172266fa07e34744cb72e340a4a.jpg  \n",
            " extracting: train/images/dentist_items_42_jpg.rf.25c8faa47340bb9db9c321023a0cdc32.jpg  \n",
            " extracting: train/images/dentist_items_430_jpg.rf.11b972ba5a63640d7b71a3b0a9e8eb84.jpg  \n",
            " extracting: train/images/dentist_items_431_jpg.rf.80eb00d1fdef1af45adc26a3b376b9d7.jpg  \n",
            " extracting: train/images/dentist_items_432_jpg.rf.728fef728aadb3c82d49fbc9a8cbd0ac.jpg  \n",
            " extracting: train/images/dentist_items_434_jpg.rf.70051b1604d74af8e291b987bf063902.jpg  \n",
            " extracting: train/images/dentist_items_435_jpg.rf.3eecb028d6577487ef01bc9ee00daccf.jpg  \n",
            " extracting: train/images/dentist_items_436_jpg.rf.62ce8242bb88ee2bd93cf41b62304a14.jpg  \n",
            " extracting: train/images/dentist_items_437_jpg.rf.74c98b877956208ac31543533dfba1af.jpg  \n",
            " extracting: train/images/dentist_items_438_jpg.rf.9836a87c53fec7af34b278a9cd05a472.jpg  \n",
            " extracting: train/images/dentist_items_439_jpg.rf.a2e5b40843b965d27b89ca1047d2874f.jpg  \n",
            " extracting: train/images/dentist_items_43_jpg.rf.3b4d8a383914e107dc4edefa7c6d99d5.jpg  \n",
            " extracting: train/images/dentist_items_440_jpg.rf.d61a0706c7255b02ffc3704be09f84e7.jpg  \n",
            " extracting: train/images/dentist_items_441_jpg.rf.12151b2956e82e2131dd1e6275d6002c.jpg  \n",
            " extracting: train/images/dentist_items_442_jpg.rf.4ef42882d23c63ea0f7cf447bf7c03e4.jpg  \n",
            " extracting: train/images/dentist_items_443_jpg.rf.9cd3ef54c9abd7dc0d98b7f1a3931e59.jpg  \n",
            " extracting: train/images/dentist_items_444_jpg.rf.cac43d5ada2618b354edcec021589696.jpg  \n",
            " extracting: train/images/dentist_items_445_jpg.rf.d656eed30bb311ec5ffa939ffb17914c.jpg  \n",
            " extracting: train/images/dentist_items_446_jpg.rf.6f2c93678cd9d190527a923e8834dd4c.jpg  \n",
            " extracting: train/images/dentist_items_447_jpg.rf.c7403fd70778514baf8b2bf971caf65b.jpg  \n",
            " extracting: train/images/dentist_items_449_jpg.rf.cfc5c3b562a56d2046b263030585afe6.jpg  \n",
            " extracting: train/images/dentist_items_44_jpg.rf.54d73e674c2f5cc02e62ace5ccae4b4b.jpg  \n",
            " extracting: train/images/dentist_items_450_jpg.rf.a27128386702413f10e7240edce88faa.jpg  \n",
            " extracting: train/images/dentist_items_451_jpg.rf.2e897d2b6f5a222688d8175f66f39995.jpg  \n",
            " extracting: train/images/dentist_items_453_jpg.rf.cde2fd944094c2798a35c1c738d2bdd9.jpg  \n",
            " extracting: train/images/dentist_items_454_jpg.rf.b953bafcd76c5042cae6762be37d9f02.jpg  \n",
            " extracting: train/images/dentist_items_455_jpg.rf.92609baa3d9189067c107cda1008d8f7.jpg  \n",
            " extracting: train/images/dentist_items_456_jpg.rf.905473011386c76b0c85acd9448a35bc.jpg  \n",
            " extracting: train/images/dentist_items_457_jpg.rf.fb67eb76730d556871c056bbb888511d.jpg  \n",
            " extracting: train/images/dentist_items_458_jpg.rf.5f3e6a6c6e93ee86c47f75755c711f56.jpg  \n",
            " extracting: train/images/dentist_items_459_jpg.rf.46a09d37aaa99c3cc11401130971272f.jpg  \n",
            " extracting: train/images/dentist_items_45_jpg.rf.0dffc409afb15d5531607adc1b910bb5.jpg  \n",
            " extracting: train/images/dentist_items_461_jpg.rf.8c155b7f6aecf9647ec175dcc2958ffa.jpg  \n",
            " extracting: train/images/dentist_items_462_jpg.rf.9ff96ecca662d0d4336a47217dcd9193.jpg  \n",
            " extracting: train/images/dentist_items_463_jpg.rf.512700c977f773b28759d6bcfbc21404.jpg  \n",
            " extracting: train/images/dentist_items_465_jpg.rf.c74d5a77acaa9b0b4e7339062ab21dd8.jpg  \n",
            " extracting: train/images/dentist_items_466_jpg.rf.905cc0dfc88bab48ffc83cf2791fcc04.jpg  \n",
            " extracting: train/images/dentist_items_468_jpg.rf.d58bbf39e91803f23cf29a37d690a98a.jpg  \n",
            " extracting: train/images/dentist_items_46_jpg.rf.ee341a1a58ff880e3b198466a4586950.jpg  \n",
            " extracting: train/images/dentist_items_470_jpg.rf.c27c9feca902db8464d7556b79a07ec4.jpg  \n",
            " extracting: train/images/dentist_items_471_jpg.rf.bcead902ccfa6c518c3f36d9951826a3.jpg  \n",
            " extracting: train/images/dentist_items_472_jpg.rf.7a087d26282d830ee22fbb5e849fe636.jpg  \n",
            " extracting: train/images/dentist_items_473_jpg.rf.6a6f93cebee197471b3325d39de6c836.jpg  \n",
            " extracting: train/images/dentist_items_475_jpg.rf.a620723cde6d50ae1d48db1307cb2560.jpg  \n",
            " extracting: train/images/dentist_items_476_jpg.rf.2fd1f3f2231a33dae1b2658bd2bfdf64.jpg  \n",
            " extracting: train/images/dentist_items_477_jpg.rf.68bf245de2d23026fbb945ba9b1fc949.jpg  \n",
            " extracting: train/images/dentist_items_478_jpg.rf.52fca7180cbafc6ac76f2c7ef5314a87.jpg  \n",
            " extracting: train/images/dentist_items_479_jpg.rf.f5808a73185f7915d3cfafc8dc799bc2.jpg  \n",
            " extracting: train/images/dentist_items_47_jpg.rf.06665db39d973bbc48dac8580af3c67a.jpg  \n",
            " extracting: train/images/dentist_items_480_jpg.rf.364823c91e10dc469d7b68c37194ff9a.jpg  \n",
            " extracting: train/images/dentist_items_482_jpg.rf.c0b411067ddf51a289e4b9052edbdf01.jpg  \n",
            " extracting: train/images/dentist_items_483_jpg.rf.12218f7e31b5d0e7c5cb145b7a01416b.jpg  \n",
            " extracting: train/images/dentist_items_484_jpg.rf.bda6dba7db788d8a32caa44cdfaee6c6.jpg  \n",
            " extracting: train/images/dentist_items_485_jpg.rf.fafce6c0ad9ff68f52bd90c708817529.jpg  \n",
            " extracting: train/images/dentist_items_486_jpg.rf.93b29439cd2df4a906905f1914a54da0.jpg  \n",
            " extracting: train/images/dentist_items_487_jpg.rf.ea60a3e0dd67e69769456c1576c5d2e4.jpg  \n",
            " extracting: train/images/dentist_items_488_jpg.rf.f8f5259dbf2de530d74e3f77198a08e9.jpg  \n",
            " extracting: train/images/dentist_items_489_jpg.rf.e331be5b6e54ce0b256cbeafadde858f.jpg  \n",
            " extracting: train/images/dentist_items_490_jpg.rf.fab88a96e1360a9d20e32c622f62bb4f.jpg  \n",
            " extracting: train/images/dentist_items_492_jpg.rf.0209a4362f49c9b0d1abd093c22f3136.jpg  \n",
            " extracting: train/images/dentist_items_493_jpg.rf.187394d0f1601c7c616bcaa31104bc17.jpg  \n",
            " extracting: train/images/dentist_items_494_jpg.rf.ea2cd042c97ee3fcf153282c244859a7.jpg  \n",
            " extracting: train/images/dentist_items_495_jpg.rf.17544bbe3cd98b08332416be4bbee2f9.jpg  \n",
            " extracting: train/images/dentist_items_496_jpg.rf.104ca1d1a782f496010784952c7536b9.jpg  \n",
            " extracting: train/images/dentist_items_497_jpg.rf.1a4edaf8455df284732ee3c78541466c.jpg  \n",
            " extracting: train/images/dentist_items_498_jpg.rf.1654addc9fa2cac8500f15fa54040901.jpg  \n",
            " extracting: train/images/dentist_items_49_jpg.rf.9c31452e83e54b41edde84529e7cae15.jpg  \n",
            " extracting: train/images/dentist_items_4_jpg.rf.bbd1af1e985f249711c55c1f56946959.jpg  \n",
            " extracting: train/images/dentist_items_500_jpg.rf.47c7506b6fa8046fd4eeace262060d30.jpg  \n",
            " extracting: train/images/dentist_items_503_jpg.rf.ea45c336f82f1172287e5475e418858e.jpg  \n",
            " extracting: train/images/dentist_items_504_jpg.rf.79144f3208722e344b24fb03dbd86546.jpg  \n",
            " extracting: train/images/dentist_items_505_jpg.rf.a7973cdb9a6d13ceff056ea171009a0a.jpg  \n",
            " extracting: train/images/dentist_items_506_jpg.rf.d22e52c3679c056309c7147a3624460b.jpg  \n",
            " extracting: train/images/dentist_items_507_jpg.rf.c2ae03670ebb2f57265d244ed89428a1.jpg  \n",
            " extracting: train/images/dentist_items_50_jpg.rf.4d4692442f84aeafe63ab3ae75d028a9.jpg  \n",
            " extracting: train/images/dentist_items_510_jpg.rf.8adcc5a20ef79ca85993668a944a2a44.jpg  \n",
            " extracting: train/images/dentist_items_513_jpg.rf.37eca27f415008cbf1c28503d9b2071f.jpg  \n",
            " extracting: train/images/dentist_items_514_jpg.rf.7abf00224a48d0bb4805b4031d3f7231.jpg  \n",
            " extracting: train/images/dentist_items_515_jpg.rf.0c29983fa3d1d7dda763e38226992b43.jpg  \n",
            " extracting: train/images/dentist_items_516_jpg.rf.eb3685e910f222ddbf2b229587c87a91.jpg  \n",
            " extracting: train/images/dentist_items_518_jpg.rf.52129ea3daa8921199da0446f904eed4.jpg  \n",
            " extracting: train/images/dentist_items_51_jpg.rf.718b3def5cfb8dbbe60d6c26caaffbf4.jpg  \n",
            " extracting: train/images/dentist_items_520_jpg.rf.da7fb2267d628cc1bfe2ba1eee819a7c.jpg  \n",
            " extracting: train/images/dentist_items_521_jpg.rf.57212d3cf4d2b7519a4089255754872c.jpg  \n",
            " extracting: train/images/dentist_items_523_jpg.rf.02993744283e491f2b1f098290777b06.jpg  \n",
            " extracting: train/images/dentist_items_524_jpg.rf.0cbe9acca6b441005d8c4714d4105a0b.jpg  \n",
            " extracting: train/images/dentist_items_525_jpg.rf.c2c278be6483bb12c4ffb2de9966753e.jpg  \n",
            " extracting: train/images/dentist_items_526_jpg.rf.5ab6258205afebe3575fa66f3d9a9e2d.jpg  \n",
            " extracting: train/images/dentist_items_528_jpg.rf.8ffd6bda91e400d1d5abb9f5be6e6107.jpg  \n",
            " extracting: train/images/dentist_items_52_jpg.rf.da29d1a1f4fcebdb3e2cc653711913e8.jpg  \n",
            " extracting: train/images/dentist_items_530_jpg.rf.d6905021c4dead10ec522fd26cae30c8.jpg  \n",
            " extracting: train/images/dentist_items_531_jpg.rf.d1ed969bef7588552d338773e48b6198.jpg  \n",
            " extracting: train/images/dentist_items_532_jpg.rf.777884cf93cc09110ce4e77e8d99f9b7.jpg  \n",
            " extracting: train/images/dentist_items_534_jpg.rf.2189c14ec0225e9cf9025d66e8351541.jpg  \n",
            " extracting: train/images/dentist_items_535_jpg.rf.307cbafcc451f361fd3ee2c6e703e0ec.jpg  \n",
            " extracting: train/images/dentist_items_536_jpg.rf.ea2ac743d9b59d8982cd509da0d55ece.jpg  \n",
            " extracting: train/images/dentist_items_537_jpg.rf.827247889d5ec77eda1b5dbde25baa4d.jpg  \n",
            " extracting: train/images/dentist_items_539_jpg.rf.e6f5d7cc25f826020ec3000f63d6d644.jpg  \n",
            " extracting: train/images/dentist_items_53_jpg.rf.e9af4fc5f1cb11e2ff76af2d233224d0.jpg  \n",
            " extracting: train/images/dentist_items_540_jpg.rf.8f28b0c223783478a7a031714f38baa9.jpg  \n",
            " extracting: train/images/dentist_items_541_jpg.rf.b2e9a1497847b33c5cf7ec0dc1fe4e44.jpg  \n",
            " extracting: train/images/dentist_items_542_jpg.rf.4907c193bc5d2d683de1a6deca739aac.jpg  \n",
            " extracting: train/images/dentist_items_545_jpg.rf.4e6c03e698ab48e3e5d17498e0fa8149.jpg  \n",
            " extracting: train/images/dentist_items_546_jpg.rf.170aeb327318e353b99aa87bef7371b9.jpg  \n",
            " extracting: train/images/dentist_items_547_jpg.rf.e70acd658d41d6994fd0052542f1bc22.jpg  \n",
            " extracting: train/images/dentist_items_548_jpg.rf.f3e3732d8876894a4940565e290c6fe7.jpg  \n",
            " extracting: train/images/dentist_items_549_jpg.rf.423c7f24557262e8bbf3fe734a3833da.jpg  \n",
            " extracting: train/images/dentist_items_54_jpg.rf.01c9d0e2b1352922547a84ac10ac47aa.jpg  \n",
            " extracting: train/images/dentist_items_550_jpg.rf.05f29acdbad02db4e4018fbf8ea9f858.jpg  \n",
            " extracting: train/images/dentist_items_551_jpg.rf.a98055bfeb950e923addbf82bcd63cb9.jpg  \n",
            " extracting: train/images/dentist_items_552_jpg.rf.a4124048cf62d931404cf815c0e04ba6.jpg  \n",
            " extracting: train/images/dentist_items_553_jpg.rf.8022571f031ca21141e6c7b3e5c709a5.jpg  \n",
            " extracting: train/images/dentist_items_554_jpg.rf.89faea3c147c6a204e5cc74308ed98fb.jpg  \n",
            " extracting: train/images/dentist_items_555_jpg.rf.e8adf71d7b1acb9f6a758c20cbf0a34c.jpg  \n",
            " extracting: train/images/dentist_items_556_jpg.rf.f3df9d6bf6f52d675207c713a1f4c9a1.jpg  \n",
            " extracting: train/images/dentist_items_557_jpg.rf.fce1f81e2026b701a13683d741f7d73a.jpg  \n",
            " extracting: train/images/dentist_items_559_jpg.rf.d6934334f4cd858fafa1aa975ff6ef6f.jpg  \n",
            " extracting: train/images/dentist_items_55_jpg.rf.a4e306ec7e1e817ae4898540b1b9d0a4.jpg  \n",
            " extracting: train/images/dentist_items_561_jpg.rf.824c383218837706b52eab44a2d21ad1.jpg  \n",
            " extracting: train/images/dentist_items_562_jpg.rf.6c29513908548ad6d2973e8b48590ab6.jpg  \n",
            " extracting: train/images/dentist_items_563_jpg.rf.e952e8aa719be50edf9c1a4f25b5e8ab.jpg  \n",
            " extracting: train/images/dentist_items_566_jpg.rf.e35384274a8157658cf695e1bace7b85.jpg  \n",
            " extracting: train/images/dentist_items_567_jpg.rf.d74f500f8747ef0c1865910bbf60032f.jpg  \n",
            " extracting: train/images/dentist_items_569_jpg.rf.583f9b77dc70d3abac9bb0ccf202b2f2.jpg  \n",
            " extracting: train/images/dentist_items_56_jpg.rf.6fdea865fc2d42b1e3652f728ae56c62.jpg  \n",
            " extracting: train/images/dentist_items_570_jpg.rf.856f621de2eb3bed88bf44c4cacbc20c.jpg  \n",
            " extracting: train/images/dentist_items_571_jpg.rf.ddc7a95d0c4b5024dc6a3ee1171ee293.jpg  \n",
            " extracting: train/images/dentist_items_572_jpg.rf.dd87a1a1c0bc3d2301e672342c18d72a.jpg  \n",
            " extracting: train/images/dentist_items_574_jpg.rf.d61de596ebe7a52e085b789f20499de4.jpg  \n",
            " extracting: train/images/dentist_items_575_jpg.rf.96a8be3144ad8669d2de884e18d771c6.jpg  \n",
            " extracting: train/images/dentist_items_578_jpg.rf.b93840ea21bd1c6d5eb8658c2d8b6954.jpg  \n",
            " extracting: train/images/dentist_items_57_jpg.rf.82905e70daea54763ef386d9cb1aad6d.jpg  \n",
            " extracting: train/images/dentist_items_580_jpg.rf.bcc1ce1501e4c211a4f7aae2ee77d890.jpg  \n",
            " extracting: train/images/dentist_items_582_jpg.rf.0e33a4da25f517f43b6cd60deb633fce.jpg  \n",
            " extracting: train/images/dentist_items_583_jpg.rf.3c63bd0336f25bb38f608256d5a053a2.jpg  \n",
            " extracting: train/images/dentist_items_584_jpg.rf.3ed8fa22b8475573354ac254bc91a610.jpg  \n",
            " extracting: train/images/dentist_items_585_jpg.rf.62133ba29fa313700570f20dbeec54b7.jpg  \n",
            " extracting: train/images/dentist_items_586_jpg.rf.35e2d8d3812bbb2ce85833c1d9882e38.jpg  \n",
            " extracting: train/images/dentist_items_587_jpg.rf.53a0c755ea4b3160d4734b8c9a358193.jpg  \n",
            " extracting: train/images/dentist_items_588_jpg.rf.f3b6380008c392f62838cd933f2bd155.jpg  \n",
            " extracting: train/images/dentist_items_589_jpg.rf.676963d75b2b7e0d5f16a0a52d1a2e78.jpg  \n",
            " extracting: train/images/dentist_items_58_jpg.rf.46d813d15642eee1e91548b91f8274a1.jpg  \n",
            " extracting: train/images/dentist_items_590_jpg.rf.6c5510be74eafbd2a2a635bcefd6b69f.jpg  \n",
            " extracting: train/images/dentist_items_591_jpg.rf.a6e112d9032e93a0a01ad99e68db6f02.jpg  \n",
            " extracting: train/images/dentist_items_592_jpg.rf.ceb35dec3beb841f41ed690ff92c5e32.jpg  \n",
            " extracting: train/images/dentist_items_593_jpg.rf.96ffaa663cce04cc4cf6070c68908756.jpg  \n",
            " extracting: train/images/dentist_items_594_jpg.rf.d96b4394c52dc4ac5d81f650c1678e8e.jpg  \n",
            " extracting: train/images/dentist_items_595_jpg.rf.ea7b908d6cd0dcb43c8cc95aa8c27250.jpg  \n",
            " extracting: train/images/dentist_items_597_jpg.rf.ba433a8615417e3500bccc32c56dcc7e.jpg  \n",
            " extracting: train/images/dentist_items_598_jpg.rf.5da56a9093e38ec7aa889aaec81b7438.jpg  \n",
            " extracting: train/images/dentist_items_599_jpg.rf.9a5ef8cdcbb73553ed0b594fc37062df.jpg  \n",
            " extracting: train/images/dentist_items_59_jpg.rf.9a41ebb3cd9b1ff8b8199cd73f4197cc.jpg  \n",
            " extracting: train/images/dentist_items_5_jpg.rf.5d9fa1b2310740a90589720b353366ab.jpg  \n",
            " extracting: train/images/dentist_items_601_jpg.rf.7e5b3c48960a602fa1789f8b075eb818.jpg  \n",
            " extracting: train/images/dentist_items_602_jpg.rf.a980e3edccab77b7c73f8712815978f1.jpg  \n",
            " extracting: train/images/dentist_items_603_jpg.rf.3e05b10474242b0f356b95211edac67d.jpg  \n",
            " extracting: train/images/dentist_items_604_jpg.rf.27a1244fe47e3782813cc1fd6e145f5c.jpg  \n",
            " extracting: train/images/dentist_items_606_jpg.rf.74dbf4e9f3e14bea5f58bc5aa86fb728.jpg  \n",
            " extracting: train/images/dentist_items_607_jpg.rf.14cc3fa05576e21727bc2c79c68ea96b.jpg  \n",
            " extracting: train/images/dentist_items_608_jpg.rf.d601f4aaa1df2b7d2a9f1006c1a915ae.jpg  \n",
            " extracting: train/images/dentist_items_609_jpg.rf.100d3bd9f09c45b91c41928b9ec17fbc.jpg  \n",
            " extracting: train/images/dentist_items_611_jpg.rf.8a94bb4bb5a1b8d3b339a76046c32a3e.jpg  \n",
            " extracting: train/images/dentist_items_612_jpg.rf.ab422d07f59452fef83dd68ff474a2ec.jpg  \n",
            " extracting: train/images/dentist_items_614_jpg.rf.18e8346cce8f16ea5ef48d75b46a9c5b.jpg  \n",
            " extracting: train/images/dentist_items_615_jpg.rf.ebc38b47330557b960f04f77fec658a1.jpg  \n",
            " extracting: train/images/dentist_items_616_jpg.rf.88687abc2aaa04c2bc0297ea56b4d724.jpg  \n",
            " extracting: train/images/dentist_items_617_jpg.rf.b42a911155bac0a00553fb0d5c4e36b9.jpg  \n",
            " extracting: train/images/dentist_items_618_jpg.rf.e9f1174742af45c1829f9943dee2d14b.jpg  \n",
            " extracting: train/images/dentist_items_61_jpg.rf.885fc028e7274761105394e3164b5ffb.jpg  \n",
            " extracting: train/images/dentist_items_621_jpg.rf.5f22320c9cd7fcda92c6cf59b08af0f0.jpg  \n",
            " extracting: train/images/dentist_items_622_jpg.rf.e55a37c2d42d13c7ae6ca44517331b75.jpg  \n",
            " extracting: train/images/dentist_items_623_jpg.rf.518ae12973b7875e43ba9e7dd4413a5c.jpg  \n",
            " extracting: train/images/dentist_items_624_jpg.rf.c150629f7e5d6c828ef183088072c668.jpg  \n",
            " extracting: train/images/dentist_items_625_jpg.rf.ad1e794de71b044866156eb4b7b79c16.jpg  \n",
            " extracting: train/images/dentist_items_626_jpg.rf.1676aadc9b3458c522d1f20a3a7468d1.jpg  \n",
            " extracting: train/images/dentist_items_628_jpg.rf.b99331dd5fa576cad12d87cee5c7f971.jpg  \n",
            " extracting: train/images/dentist_items_629_jpg.rf.37c35f015f2ef6c666a8771a897636d1.jpg  \n",
            " extracting: train/images/dentist_items_62_jpg.rf.09b92945cd57fcc4df145343adb26d7f.jpg  \n",
            " extracting: train/images/dentist_items_630_jpg.rf.f9cd5c6ca681371870cf28969a7dcdd7.jpg  \n",
            " extracting: train/images/dentist_items_631_jpg.rf.ab1a5fc46223ba61ae67b213aaba68b2.jpg  \n",
            " extracting: train/images/dentist_items_632_jpg.rf.d7ca241ca60097fccc3d7b2b05034b45.jpg  \n",
            " extracting: train/images/dentist_items_633_jpg.rf.74055c2b5d25be1fe184a4ccb399d754.jpg  \n",
            " extracting: train/images/dentist_items_634_jpg.rf.d7e17cda8a4e7f75468e30623349a28c.jpg  \n",
            " extracting: train/images/dentist_items_638_jpg.rf.b291234419bf99da47e6a3dc4fa0274b.jpg  \n",
            " extracting: train/images/dentist_items_639_jpg.rf.6b858bf63241e2463437fc7b4ed3d6bd.jpg  \n",
            " extracting: train/images/dentist_items_63_jpg.rf.fe484d8e4624818e2ef59ebfd1ff2be8.jpg  \n",
            " extracting: train/images/dentist_items_641_jpg.rf.a0d4423253c7003a28376a7572a8d3cf.jpg  \n",
            " extracting: train/images/dentist_items_642_jpg.rf.514112915466640bff9c2684a88c53f5.jpg  \n",
            " extracting: train/images/dentist_items_643_jpg.rf.d68c81bc817a552915ce0a87c046825c.jpg  \n",
            " extracting: train/images/dentist_items_644_jpg.rf.562f64a3ed655240f876c654b0166e3e.jpg  \n",
            " extracting: train/images/dentist_items_646_jpg.rf.625cb51fa99eaa003700d7f455ca0269.jpg  \n",
            " extracting: train/images/dentist_items_647_jpg.rf.d71f60cd98259aac501561ca35cfa455.jpg  \n",
            " extracting: train/images/dentist_items_648_jpg.rf.010ff08e0027edf421fca989b8bed55b.jpg  \n",
            " extracting: train/images/dentist_items_649_jpg.rf.da252cb4a56904a3a97964855bf4d6a4.jpg  \n",
            " extracting: train/images/dentist_items_64_jpg.rf.563575499d64c47333ed66151a64cdbe.jpg  \n",
            " extracting: train/images/dentist_items_650_jpg.rf.126ef651bf4aa7335ff9de04d5c1274c.jpg  \n",
            " extracting: train/images/dentist_items_652_jpg.rf.61706cab2f0223a507161aa64a011555.jpg  \n",
            " extracting: train/images/dentist_items_654_jpg.rf.084b082669704aaac17ed6c0699ded5b.jpg  \n",
            " extracting: train/images/dentist_items_655_jpg.rf.4f9e19ad9aedf9c86c00fcf3c80cb820.jpg  \n",
            " extracting: train/images/dentist_items_656_jpg.rf.b30488b3f07098c59b577925a9ae9ae6.jpg  \n",
            " extracting: train/images/dentist_items_657_jpg.rf.4eade29b32cd922707108d2e3e773bb1.jpg  \n",
            " extracting: train/images/dentist_items_658_jpg.rf.d9b9e6be13c996ea5950bd303bfcb596.jpg  \n",
            " extracting: train/images/dentist_items_659_jpg.rf.329f9eddcd70698faecb972b930cda3d.jpg  \n",
            " extracting: train/images/dentist_items_660_jpg.rf.d7968a484f7d5652e46486fcc291e97f.jpg  \n",
            " extracting: train/images/dentist_items_662_jpg.rf.8a0713b715ab58ff5427c753ae4693c9.jpg  \n",
            " extracting: train/images/dentist_items_663_jpg.rf.c76896c8cf13e246cdf05b65798b2957.jpg  \n",
            " extracting: train/images/dentist_items_664_jpg.rf.db5ac4be3cd52b4a8828e686cc62737a.jpg  \n",
            " extracting: train/images/dentist_items_666_jpg.rf.c23e22f0c6570e344e70182554db4a99.jpg  \n",
            " extracting: train/images/dentist_items_667_jpg.rf.d3e4f889d3e20e0a0bb999bbb491f8ef.jpg  \n",
            " extracting: train/images/dentist_items_668_jpg.rf.dbeb77182a494e62911811d13821f1d7.jpg  \n",
            " extracting: train/images/dentist_items_669_jpg.rf.de103537a377b905891aee63bfb913e0.jpg  \n",
            " extracting: train/images/dentist_items_66_jpg.rf.3ee4d9d7380efbb2dc6d03d20f2003f0.jpg  \n",
            " extracting: train/images/dentist_items_670_jpg.rf.0c622ac4ad9b23860b8f60264d73b493.jpg  \n",
            " extracting: train/images/dentist_items_671_jpg.rf.96f27a4572b10a7f5e2436affd8d957b.jpg  \n",
            " extracting: train/images/dentist_items_672_jpg.rf.4176975158070d9798a15b26cf15df4d.jpg  \n",
            " extracting: train/images/dentist_items_673_jpg.rf.36373dfc84dd30865e5ac9e8c979797e.jpg  \n",
            " extracting: train/images/dentist_items_674_jpg.rf.222514670e369e07de3c287796060923.jpg  \n",
            " extracting: train/images/dentist_items_675_jpg.rf.b4374a41989271a936b4eb5048b0b02d.jpg  \n",
            " extracting: train/images/dentist_items_676_jpg.rf.9b03804813b8624803a7c855044e9c63.jpg  \n",
            " extracting: train/images/dentist_items_677_jpg.rf.18cd41d32556d813adc52f5bc82ad1a3.jpg  \n",
            " extracting: train/images/dentist_items_678_jpg.rf.3466d3d4ec200ed86e9543c0a300047c.jpg  \n",
            " extracting: train/images/dentist_items_67_jpg.rf.54e2d831dff5b0ca07b74e47e7a6185b.jpg  \n",
            " extracting: train/images/dentist_items_680_jpg.rf.9ccf93fb9742f89da4ba9c94f384e03a.jpg  \n",
            " extracting: train/images/dentist_items_681_jpg.rf.51c3fb6acf33992bd7dc9c00fcc02e87.jpg  \n",
            " extracting: train/images/dentist_items_683_jpg.rf.cc45584f3a7a3b7990a9315f97bad3bb.jpg  \n",
            " extracting: train/images/dentist_items_684_jpg.rf.98287003c0666ce56e478517ccdee4af.jpg  \n",
            " extracting: train/images/dentist_items_685_jpg.rf.21ba4c739730db5e130a762a4557adf2.jpg  \n",
            " extracting: train/images/dentist_items_686_jpg.rf.84d5dd72dfe7fd8afd3e9fad9dc7525b.jpg  \n",
            " extracting: train/images/dentist_items_687_jpg.rf.498f63a8a3dba05f47ef2f930fa4d6de.jpg  \n",
            " extracting: train/images/dentist_items_68_jpg.rf.27ad2c9ffa7e3cbc74a4bbe5b4c23d8b.jpg  \n",
            " extracting: train/images/dentist_items_690_jpg.rf.217a93e55f41e1aa7e015cd75c7a71f1.jpg  \n",
            " extracting: train/images/dentist_items_691_jpg.rf.e10a54614a86561650c1744a336c0ec5.jpg  \n",
            " extracting: train/images/dentist_items_692_jpg.rf.f1c0851961c60ab4b18e0534189fcf05.jpg  \n",
            " extracting: train/images/dentist_items_693_jpg.rf.cc69abf58b50b2db615baef8afaff6bb.jpg  \n",
            " extracting: train/images/dentist_items_694_jpg.rf.fb9ec6c0b09a3fe51a470bbea43b75ca.jpg  \n",
            " extracting: train/images/dentist_items_695_jpg.rf.29e7d9602aedfc0e66c7225d3536f79a.jpg  \n",
            " extracting: train/images/dentist_items_696_jpg.rf.85af4938d40dc55e0968892cb4482085.jpg  \n",
            " extracting: train/images/dentist_items_697_jpg.rf.83eb791099abeea0442444d90d171259.jpg  \n",
            " extracting: train/images/dentist_items_698_jpg.rf.7ef6ee25bcb254ac0e4aa9b46c8ab6a4.jpg  \n",
            " extracting: train/images/dentist_items_69_jpg.rf.e4795d1798a826b41751a0dc18c7d878.jpg  \n",
            " extracting: train/images/dentist_items_6_jpg.rf.1d8b13a329649a139023c12f873f4e1d.jpg  \n",
            " extracting: train/images/dentist_items_700_jpg.rf.0ee2fbcef04fd3fcbf44a6dd6db9af5c.jpg  \n",
            " extracting: train/images/dentist_items_701_jpg.rf.6eb7f3fefc2eeca98dd89fdd2f3fcfa2.jpg  \n",
            " extracting: train/images/dentist_items_702_jpg.rf.80e56534d3f463f826fe63a47d1d89b8.jpg  \n",
            " extracting: train/images/dentist_items_703_jpg.rf.0144af7c0c8049cbdd0d59f6337076c3.jpg  \n",
            " extracting: train/images/dentist_items_704_jpg.rf.bd4230c785ed7fd71264588d2661121d.jpg  \n",
            " extracting: train/images/dentist_items_706_jpg.rf.9e1fb3b5972902595187ef9778bb9590.jpg  \n",
            " extracting: train/images/dentist_items_707_jpg.rf.b547bbc0d3aee86156ff4b3b3cdf582a.jpg  \n",
            " extracting: train/images/dentist_items_70_jpg.rf.0b54b71ac1c069a3f472b4b10bc9ede7.jpg  \n",
            " extracting: train/images/dentist_items_710_jpg.rf.c288941a00b98d583e6ba722a65ce412.jpg  \n",
            " extracting: train/images/dentist_items_712_jpg.rf.b17bf6bd92780e10a71f7ad16e4e9f67.jpg  \n",
            " extracting: train/images/dentist_items_713_jpg.rf.a63cc3f1520021e8357b66999e660e2d.jpg  \n",
            " extracting: train/images/dentist_items_714_jpg.rf.ff8c48f9b24797172279dd47b03c6c43.jpg  \n",
            " extracting: train/images/dentist_items_715_jpg.rf.2b521779827f1ca7ed6f8a14e0d8167c.jpg  \n",
            " extracting: train/images/dentist_items_716_jpg.rf.d3cd7553c2b252e38c1c06e2f8156d15.jpg  \n",
            " extracting: train/images/dentist_items_717_jpg.rf.10cbd6fee7dbe36f2950cf23106b8734.jpg  \n",
            " extracting: train/images/dentist_items_718_jpg.rf.9239f780566f6e85b5692014f908ec91.jpg  \n",
            " extracting: train/images/dentist_items_71_jpg.rf.9d085af0a8d1e4db7c7ed73338652dfc.jpg  \n",
            " extracting: train/images/dentist_items_720_jpg.rf.9a53b01add87737953533334e89ca5b2.jpg  \n",
            " extracting: train/images/dentist_items_721_jpg.rf.8517646646e8e4f6be1ecacac40dc7d6.jpg  \n",
            " extracting: train/images/dentist_items_722_jpg.rf.14a6cc74a9691e8645c15f3ed3656053.jpg  \n",
            " extracting: train/images/dentist_items_723_jpg.rf.68112c8da8a5784778f8eaabb6cf0127.jpg  \n",
            " extracting: train/images/dentist_items_724_jpg.rf.2acf8724536bb7cdde13470212894a7f.jpg  \n",
            " extracting: train/images/dentist_items_725_jpg.rf.f1cd5b56f5aa612bed365ce838547125.jpg  \n",
            " extracting: train/images/dentist_items_726_jpg.rf.ae2643af5675caaf0d68e71bb3a8ce9d.jpg  \n",
            " extracting: train/images/dentist_items_727_jpg.rf.45054716733a5dcadd923909f30f5f9d.jpg  \n",
            " extracting: train/images/dentist_items_728_jpg.rf.70f361c3e86937ed4a94d5aac1578527.jpg  \n",
            " extracting: train/images/dentist_items_72_jpg.rf.257572739ee5fd0081f6e3e87e427fb2.jpg  \n",
            " extracting: train/images/dentist_items_731_jpg.rf.7b2cd27f8421c192753ae08a2ef0c3db.jpg  \n",
            " extracting: train/images/dentist_items_732_jpg.rf.536fd0049a7b5946722b4f600369775d.jpg  \n",
            " extracting: train/images/dentist_items_733_jpg.rf.862bc5e0e1071e75c7e791c0b558cce0.jpg  \n",
            " extracting: train/images/dentist_items_734_jpg.rf.89019a10d39f7a56ceb74fe5ff221c42.jpg  \n",
            " extracting: train/images/dentist_items_736_jpg.rf.c302a0fc3d904bc529ae34edbe5c4411.jpg  \n",
            " extracting: train/images/dentist_items_737_jpg.rf.069e9446a1ef24ef086dfe1cecb204f3.jpg  \n",
            " extracting: train/images/dentist_items_738_jpg.rf.7a776e8d405cfe46ca892c77b17e9d93.jpg  \n",
            " extracting: train/images/dentist_items_739_jpg.rf.16c494baf8acad67d7f369185a34d915.jpg  \n",
            " extracting: train/images/dentist_items_740_jpg.rf.9dda2b2f4dd12c9e93bc3c86c055c314.jpg  \n",
            " extracting: train/images/dentist_items_741_jpg.rf.6c8566c08c695c60147c833b05dd0d5a.jpg  \n",
            " extracting: train/images/dentist_items_742_jpg.rf.283b80452d04287715933e48933244a4.jpg  \n",
            " extracting: train/images/dentist_items_743_jpg.rf.4f73cab2ced74352156027dc83c6d958.jpg  \n",
            " extracting: train/images/dentist_items_744_jpg.rf.765742bf2d5837d0f28edd7a4ace644a.jpg  \n",
            " extracting: train/images/dentist_items_745_jpg.rf.77070dda8195379be9e79952ded1570b.jpg  \n",
            " extracting: train/images/dentist_items_746_jpg.rf.28ec27fde0f017907231e74e17dc362e.jpg  \n",
            " extracting: train/images/dentist_items_747_jpg.rf.3f57d2b58f32ee49b01d218084723435.jpg  \n",
            " extracting: train/images/dentist_items_748_jpg.rf.26ee6f731b5ed0e68246952626ebcbc0.jpg  \n",
            " extracting: train/images/dentist_items_750_jpg.rf.0c7a6660d3af33a47190dc725b20f5bf.jpg  \n",
            " extracting: train/images/dentist_items_751_jpg.rf.26d05de3fc09a9227fa8eecf0b4c2aa4.jpg  \n",
            " extracting: train/images/dentist_items_752_jpg.rf.6907c8484bfd1fda2538d78656b4b3d1.jpg  \n",
            " extracting: train/images/dentist_items_753_jpg.rf.fb45d6a3de8c18aa27a523c353baacc3.jpg  \n",
            " extracting: train/images/dentist_items_754_jpg.rf.36558b66f8720f3cb60468b252e14579.jpg  \n",
            " extracting: train/images/dentist_items_755_jpg.rf.fe70e3be1e4de102a74488b5d21a25e8.jpg  \n",
            " extracting: train/images/dentist_items_756_jpg.rf.5121d03707f7cd7a7aff40bcbddef91c.jpg  \n",
            " extracting: train/images/dentist_items_757_jpg.rf.106c4a1c398666e60e7a2f7223bfe77e.jpg  \n",
            " extracting: train/images/dentist_items_758_jpg.rf.c723bb081e55b1c59a2e43c74053a0f9.jpg  \n",
            " extracting: train/images/dentist_items_759_jpg.rf.e1bda3d23d016886bd15a4dc149d5667.jpg  \n",
            " extracting: train/images/dentist_items_760_jpg.rf.0fb4c51c4765617a6da5afc0b0639792.jpg  \n",
            " extracting: train/images/dentist_items_761_jpg.rf.058fd75d288994ff4624a23190476268.jpg  \n",
            " extracting: train/images/dentist_items_762_jpg.rf.57838e37c729c34a49a9e856e258d77a.jpg  \n",
            " extracting: train/images/dentist_items_763_jpg.rf.79dbe955009f180e1bd6f717f40b5912.jpg  \n",
            " extracting: train/images/dentist_items_764_jpg.rf.16d178a8c0beb133f52be3d2c934841a.jpg  \n",
            " extracting: train/images/dentist_items_765_jpg.rf.0b31e841d03dc1db3a15a90a6931fe74.jpg  \n",
            " extracting: train/images/dentist_items_766_jpg.rf.6d3be518ee841a5d4710ea745a1f0af0.jpg  \n",
            " extracting: train/images/dentist_items_767_jpg.rf.00d4b0a4d17944df91c3792f4f4e885d.jpg  \n",
            " extracting: train/images/dentist_items_768_jpg.rf.52fc3b0d41fb8fb4f99c4632f3d2a3b5.jpg  \n",
            " extracting: train/images/dentist_items_76_jpg.rf.ee43070d47a216935ef93ab6f1fbb7da.jpg  \n",
            " extracting: train/images/dentist_items_771_jpg.rf.75fa92783fb39b00fb441911c01bb421.jpg  \n",
            " extracting: train/images/dentist_items_772_jpg.rf.e931383897a60110c4e214a84cf162a4.jpg  \n",
            " extracting: train/images/dentist_items_773_jpg.rf.160b997108a2b145f6ee421b70eb4698.jpg  \n",
            " extracting: train/images/dentist_items_774_jpg.rf.2c44a231cc15b190edcb1300cb50874e.jpg  \n",
            " extracting: train/images/dentist_items_775_jpg.rf.acb2bf1047a6e06082e0c63cea75b478.jpg  \n",
            " extracting: train/images/dentist_items_776_jpg.rf.b432b6a48fede024453e5044c9cab673.jpg  \n",
            " extracting: train/images/dentist_items_777_jpg.rf.f6103f33a348e77d22999307cb39a7cf.jpg  \n",
            " extracting: train/images/dentist_items_778_jpg.rf.cbcdaad8861f61cfb4db41e94bf8f497.jpg  \n",
            " extracting: train/images/dentist_items_779_jpg.rf.f3fa613db2bedfc14c266cc5574be00f.jpg  \n",
            " extracting: train/images/dentist_items_77_jpg.rf.a081f699d040526f9c982f643e002b6d.jpg  \n",
            " extracting: train/images/dentist_items_780_jpg.rf.9ffb4cc3cb5f052b066d7313c75bb70a.jpg  \n",
            " extracting: train/images/dentist_items_781_jpg.rf.668716ece4b5fb51fdb82e83372bf08e.jpg  \n",
            " extracting: train/images/dentist_items_782_jpg.rf.7a841b32d921440f6f154906cdc463f8.jpg  \n",
            " extracting: train/images/dentist_items_783_jpg.rf.b47b0c4374ee5dee76f4f055df77b7c4.jpg  \n",
            " extracting: train/images/dentist_items_784_jpg.rf.4f3c650ff44615f802be080cf5b90e01.jpg  \n",
            " extracting: train/images/dentist_items_785_jpg.rf.18711bba7e5289ea7a723543bc098167.jpg  \n",
            " extracting: train/images/dentist_items_786_jpg.rf.213b78ac680272c6918b9292b54c79b8.jpg  \n",
            " extracting: train/images/dentist_items_787_jpg.rf.9273f91df2a4654241483ba1ea74a950.jpg  \n",
            " extracting: train/images/dentist_items_788_jpg.rf.fea09aaea0d4ddd8dd9751481192e160.jpg  \n",
            " extracting: train/images/dentist_items_789_jpg.rf.6ee56d7a0dcd8558a01227ab3cf972c3.jpg  \n",
            " extracting: train/images/dentist_items_78_jpg.rf.a1712120abe27a733947c5a61114cf24.jpg  \n",
            " extracting: train/images/dentist_items_790_jpg.rf.14e58d26928d7f5c122ddfdda033fb72.jpg  \n",
            " extracting: train/images/dentist_items_791_jpg.rf.3983aa5ba8b55b11ab7663e30f0aea0a.jpg  \n",
            " extracting: train/images/dentist_items_792_jpg.rf.d548abb86250d06bc134c7b02f05640d.jpg  \n",
            " extracting: train/images/dentist_items_793_jpg.rf.98b866581b0dcfdf8bb07d977046d461.jpg  \n",
            " extracting: train/images/dentist_items_794_jpg.rf.cf1ea3b6f7970c85884ffb1603ae9a63.jpg  \n",
            " extracting: train/images/dentist_items_795_jpg.rf.c726076fcbae2cb576b69c4aca8ce00e.jpg  \n",
            " extracting: train/images/dentist_items_796_jpg.rf.f2cd0abe8852da293bfe64935d6f708a.jpg  \n",
            " extracting: train/images/dentist_items_797_jpg.rf.0aba2b195e7b9950756cc93957a98216.jpg  \n",
            " extracting: train/images/dentist_items_798_jpg.rf.f7cbae5a37f0d325800baa9b910eacf7.jpg  \n",
            " extracting: train/images/dentist_items_799_jpg.rf.4202dffacf63dc5c50be41c6aefa7e19.jpg  \n",
            " extracting: train/images/dentist_items_79_jpg.rf.d0908904e734b419ab68314ba13a18ea.jpg  \n",
            " extracting: train/images/dentist_items_7_jpg.rf.2a77dc2cba708017e63ba4dc39c5397a.jpg  \n",
            " extracting: train/images/dentist_items_800_jpg.rf.fcd1cf6c85c116033ee6a66c6d4f3791.jpg  \n",
            " extracting: train/images/dentist_items_801_jpg.rf.c4a9dbe4f2dd04eead99f410de53d8a5.jpg  \n",
            " extracting: train/images/dentist_items_802_jpg.rf.837d556f0ecf85eb0a1a3790b7700b00.jpg  \n",
            " extracting: train/images/dentist_items_803_jpg.rf.a38b921a0e706c225965e532497ff469.jpg  \n",
            " extracting: train/images/dentist_items_804_jpg.rf.1dac36db67d2f89d93b055b805ba033f.jpg  \n",
            " extracting: train/images/dentist_items_805_jpg.rf.dc87497e1cd2c591259acbe78ffe81ce.jpg  \n",
            " extracting: train/images/dentist_items_806_jpg.rf.679be30c6d0aee0f5537007fdfaa734b.jpg  \n",
            " extracting: train/images/dentist_items_807_jpg.rf.09797c4d99c916644570ee96cad61346.jpg  \n",
            " extracting: train/images/dentist_items_808_jpg.rf.556b3c501dc60cf41bad61d923acb8d9.jpg  \n",
            " extracting: train/images/dentist_items_809_jpg.rf.b631465d16d3045ff61780076379dc56.jpg  \n",
            " extracting: train/images/dentist_items_80_jpg.rf.e1785cbb4e0303a02b9a647788752c85.jpg  \n",
            " extracting: train/images/dentist_items_810_jpg.rf.8d173d40f77185da44e39b72e7dbbcd8.jpg  \n",
            " extracting: train/images/dentist_items_811_jpg.rf.e2252fd959c42b82f4ec7b4c613f3fef.jpg  \n",
            " extracting: train/images/dentist_items_812_jpg.rf.86123447da6af68e060a4ec046c72203.jpg  \n",
            " extracting: train/images/dentist_items_813_jpg.rf.885eb94cd1fdcf5dfa37eefdb447877b.jpg  \n",
            " extracting: train/images/dentist_items_814_jpg.rf.fee8d009da51faa219ac7e33cf3d54d0.jpg  \n",
            " extracting: train/images/dentist_items_815_jpg.rf.988354e7f8e7a89a2f79403eac52f319.jpg  \n",
            " extracting: train/images/dentist_items_816_jpg.rf.2da4880bbf664ce3185c693909cabe3d.jpg  \n",
            " extracting: train/images/dentist_items_817_jpg.rf.12de49c13478e2234655af0ba6e0d385.jpg  \n",
            " extracting: train/images/dentist_items_818_jpg.rf.24ed067fd54a8e0f799ef06fe598415f.jpg  \n",
            " extracting: train/images/dentist_items_819_jpg.rf.0b6036ab504670a17aeb1763e3eb2a4a.jpg  \n",
            " extracting: train/images/dentist_items_81_jpg.rf.b3bc883f326727686be9fc28db909460.jpg  \n",
            " extracting: train/images/dentist_items_820_jpg.rf.59cdb378f8d4c02c8cfe22d5b9e96668.jpg  \n",
            " extracting: train/images/dentist_items_821_jpg.rf.e5aca586f7ac2b625de87c0b87fac895.jpg  \n",
            " extracting: train/images/dentist_items_822_jpg.rf.1a3135dab0311c45fd212cca51037c5c.jpg  \n",
            " extracting: train/images/dentist_items_824_jpg.rf.4b7fbf1d1a634cd9b40cc47f98ead150.jpg  \n",
            " extracting: train/images/dentist_items_825_jpg.rf.3f2d4627260e7f672d888dad37016ec4.jpg  \n",
            " extracting: train/images/dentist_items_827_jpg.rf.6e2041a73da2e75dffb67190797514a7.jpg  \n",
            " extracting: train/images/dentist_items_828_jpg.rf.f7256ba7e0fee8daae97036bab82baf5.jpg  \n",
            " extracting: train/images/dentist_items_829_jpg.rf.ba9a4491768dd3c29b16c4920909aff6.jpg  \n",
            " extracting: train/images/dentist_items_830_jpg.rf.60126ea8b28ccd21a97adeb816bb4616.jpg  \n",
            " extracting: train/images/dentist_items_831_jpg.rf.4dab37677762ae05ad24e0a0791d7f0d.jpg  \n",
            " extracting: train/images/dentist_items_832_jpg.rf.3c6fa2dc75629d59959d8eb1897e776e.jpg  \n",
            " extracting: train/images/dentist_items_833_jpg.rf.9dcd0f4d85b2b09cc8cacd9602bf004a.jpg  \n",
            " extracting: train/images/dentist_items_834_jpg.rf.45929a7c889d34abdb27b3785e88eadb.jpg  \n",
            " extracting: train/images/dentist_items_835_jpg.rf.8a35439c3d3d75179db2d2683ca36535.jpg  \n",
            " extracting: train/images/dentist_items_836_jpg.rf.c2f4a851c4b8a6bde7e713a0f37bbbef.jpg  \n",
            " extracting: train/images/dentist_items_837_jpg.rf.48b516f351855f591929d614ba7123a1.jpg  \n",
            " extracting: train/images/dentist_items_838_jpg.rf.953ee44d773797f86901e59407c2d990.jpg  \n",
            " extracting: train/images/dentist_items_839_jpg.rf.98f4d748d53d4fdb5a68b034e595e221.jpg  \n",
            " extracting: train/images/dentist_items_83_jpg.rf.9b1788f498ff6c6e35fd36e9c921292a.jpg  \n",
            " extracting: train/images/dentist_items_840_jpg.rf.b7ed6b98c79a6564933ffac3e868c817.jpg  \n",
            " extracting: train/images/dentist_items_841_jpg.rf.07a7ed242d2d7d0724d3301c5e5a9fbb.jpg  \n",
            " extracting: train/images/dentist_items_843_jpg.rf.0d2bbcb6bf81d067cb688cce09721c32.jpg  \n",
            " extracting: train/images/dentist_items_844_jpg.rf.b790b0489e1c8888cd2914f4dbe4177a.jpg  \n",
            " extracting: train/images/dentist_items_845_jpg.rf.87923169e2c8221cb9f3fddfdb476544.jpg  \n",
            " extracting: train/images/dentist_items_846_jpg.rf.775be37d356e7400479814a60c95959e.jpg  \n",
            " extracting: train/images/dentist_items_847_jpg.rf.748417aae806a64c5a70144d8208b0c1.jpg  \n",
            " extracting: train/images/dentist_items_848_jpg.rf.beef8dbdf52eb5b800cdbeffb3919ce0.jpg  \n",
            " extracting: train/images/dentist_items_849_jpg.rf.1f3d7553eae86fc44fae8d00bdb1b954.jpg  \n",
            " extracting: train/images/dentist_items_84_jpg.rf.a40b827b539b5359826a9749592b927b.jpg  \n",
            " extracting: train/images/dentist_items_850_jpg.rf.af409a019bb432ec2666b8e7b51dd511.jpg  \n",
            " extracting: train/images/dentist_items_851_jpg.rf.619e40acfa005aedbe663e6d106727e6.jpg  \n",
            " extracting: train/images/dentist_items_852_jpg.rf.e8a6fdf35967484d23cb9e00ab0801ab.jpg  \n",
            " extracting: train/images/dentist_items_853_jpg.rf.0dea85c045adf4efe821a1e76fe31bcd.jpg  \n",
            " extracting: train/images/dentist_items_854_jpg.rf.83136280fbc47fa51beee9cf7adee6cd.jpg  \n",
            " extracting: train/images/dentist_items_855_jpg.rf.04540638c629e4b8539fad973c3350fc.jpg  \n",
            " extracting: train/images/dentist_items_856_jpg.rf.d6a435dfe7a36705d86d16891f3ef5fc.jpg  \n",
            " extracting: train/images/dentist_items_857_jpg.rf.e8102e7624dfdefa15ab276dec0cd855.jpg  \n",
            " extracting: train/images/dentist_items_858_jpg.rf.34f7fe22aef420d16dd150ed290e3789.jpg  \n",
            " extracting: train/images/dentist_items_859_jpg.rf.af938e596095d12d94707fe58ae5ac59.jpg  \n",
            " extracting: train/images/dentist_items_85_jpg.rf.50d3143371315683cc0f28835428485f.jpg  \n",
            " extracting: train/images/dentist_items_860_jpg.rf.a6d35f12abbcca026ef24e12e539184e.jpg  \n",
            " extracting: train/images/dentist_items_861_jpg.rf.a9088b3f88ace550a02f31c651d70c9a.jpg  \n",
            " extracting: train/images/dentist_items_862_jpg.rf.9156c9a0228777e0f6da7be6dd115b8a.jpg  \n",
            " extracting: train/images/dentist_items_863_jpg.rf.02a83ff877bb3636848d2c177c01719f.jpg  \n",
            " extracting: train/images/dentist_items_864_jpg.rf.9ec26c87ae6c41ff9de8795e69ad7d36.jpg  \n",
            " extracting: train/images/dentist_items_865_jpg.rf.7f96c212154c148655de9658b884930b.jpg  \n",
            " extracting: train/images/dentist_items_866_jpg.rf.fdb88daee5559d6e24e4f6df41ba7ab5.jpg  \n",
            " extracting: train/images/dentist_items_867_jpg.rf.bdc2c38f31dfc28bd39305c0794e813b.jpg  \n",
            " extracting: train/images/dentist_items_868_jpg.rf.1cbed5b19b2a50d64291d28c550a0f9c.jpg  \n",
            " extracting: train/images/dentist_items_869_jpg.rf.5d4ee30a5f045ca84d62e93e51de9d3e.jpg  \n",
            " extracting: train/images/dentist_items_86_jpg.rf.9a5789b3ba54950234012c0f8368a429.jpg  \n",
            " extracting: train/images/dentist_items_870_jpg.rf.d2b9ff012d56100976f6500255674d3b.jpg  \n",
            " extracting: train/images/dentist_items_871_jpg.rf.f503709ea2fa2a6b44561750ea87f291.jpg  \n",
            " extracting: train/images/dentist_items_872_jpg.rf.974479d82c780311b0ca340759f1ea18.jpg  \n",
            " extracting: train/images/dentist_items_873_jpg.rf.13415be75adcbe96a6fbc4fe59ea8feb.jpg  \n",
            " extracting: train/images/dentist_items_874_jpg.rf.e46aebc5ff0b9f0ba24a5c1885cd8934.jpg  \n",
            " extracting: train/images/dentist_items_875_jpg.rf.a3f5f25a8c4b6ec0930f72425109b246.jpg  \n",
            " extracting: train/images/dentist_items_876_jpg.rf.25e2fc6f2ff02e223304db9f24f8732f.jpg  \n",
            " extracting: train/images/dentist_items_878_jpg.rf.6f375a12d6defd5cdda679fbac7631a0.jpg  \n",
            " extracting: train/images/dentist_items_879_jpg.rf.c35a66906cab889b87bc8da02baf0a80.jpg  \n",
            " extracting: train/images/dentist_items_87_jpg.rf.3ea4ede5e4f4adaa9c0a187c1a73f226.jpg  \n",
            " extracting: train/images/dentist_items_880_jpg.rf.85c19d5769e2f72b128bfaa123d6e120.jpg  \n",
            " extracting: train/images/dentist_items_881_jpg.rf.44d65f99c3cc6bc320ff9031e4888a38.jpg  \n",
            " extracting: train/images/dentist_items_882_jpg.rf.6dd90ac1cf9b82e85e3a1b13dfd86942.jpg  \n",
            " extracting: train/images/dentist_items_883_jpg.rf.32447fe0ae7b1134834c1cf5653eeb5c.jpg  \n",
            " extracting: train/images/dentist_items_884_jpg.rf.dfa10a09efb3f07b26394bd69f1d548a.jpg  \n",
            " extracting: train/images/dentist_items_885_jpg.rf.54499e3d7d09f74b35bad67ee3751144.jpg  \n",
            " extracting: train/images/dentist_items_886_jpg.rf.d0e1352002d4646e56c367673fea3b06.jpg  \n",
            " extracting: train/images/dentist_items_887_jpg.rf.30cf47041d8b68d4a79bf3a09ec80068.jpg  \n",
            " extracting: train/images/dentist_items_888_jpg.rf.22bf73d776738271ef3134d9f7011398.jpg  \n",
            " extracting: train/images/dentist_items_889_jpg.rf.f7e7193ea7870c7b5c4966bc73e6c1ff.jpg  \n",
            " extracting: train/images/dentist_items_88_jpg.rf.a019cc8948764925d7550c8010aba623.jpg  \n",
            " extracting: train/images/dentist_items_890_jpg.rf.c0ec9ad649d68c1d08354a8e7abb3902.jpg  \n",
            " extracting: train/images/dentist_items_891_jpg.rf.610b986003fc49d72836e6c1922389fa.jpg  \n",
            " extracting: train/images/dentist_items_892_jpg.rf.6eaefb51d7013738a03cd8bc2b9917d5.jpg  \n",
            " extracting: train/images/dentist_items_893_jpg.rf.a521e5c73f80963a1a5c68a08b507647.jpg  \n",
            " extracting: train/images/dentist_items_894_jpg.rf.5067ee2e4918ede0f719ab743e9e305f.jpg  \n",
            " extracting: train/images/dentist_items_895_jpg.rf.08c8364f6e4e414d934612747e67b694.jpg  \n",
            " extracting: train/images/dentist_items_896_jpg.rf.cb2b267cb8fb976b904d6e43124ca252.jpg  \n",
            " extracting: train/images/dentist_items_897_jpg.rf.afd972af4f17d078eac6ba51d0875aba.jpg  \n",
            " extracting: train/images/dentist_items_898_jpg.rf.4804a91c800242d0d2739b6a0edc6fc0.jpg  \n",
            " extracting: train/images/dentist_items_899_jpg.rf.ffd6ad7917884cdfb6f47cdb87aa1b47.jpg  \n",
            " extracting: train/images/dentist_items_89_jpg.rf.a9f80827b73729f76ea4148ac36d8d99.jpg  \n",
            " extracting: train/images/dentist_items_8_jpg.rf.c8504a61fd670b641985e5153b737913.jpg  \n",
            " extracting: train/images/dentist_items_900_jpg.rf.e69d5454f5f774de615aff806109bcef.jpg  \n",
            " extracting: train/images/dentist_items_901_jpg.rf.c2e9fa9a17c0b1df3c3a7b107f2168f6.jpg  \n",
            " extracting: train/images/dentist_items_902_jpg.rf.6c9ed75da1c8abbf83672a9f4add2eae.jpg  \n",
            " extracting: train/images/dentist_items_903_jpg.rf.cf0c88e0ba9717f4a7ef394cd5eaf12e.jpg  \n",
            " extracting: train/images/dentist_items_905_jpg.rf.ce844379a4f1b1e11b6da7ad7121f9d1.jpg  \n",
            " extracting: train/images/dentist_items_906_jpg.rf.28a968082dd88caba7aecbf529f3e93a.jpg  \n",
            " extracting: train/images/dentist_items_907_jpg.rf.40175f0e5446b62f8fb1d81dfb201191.jpg  \n",
            " extracting: train/images/dentist_items_908_jpg.rf.0a516540fd65cc1d4a8fcf34b211f0e5.jpg  \n",
            " extracting: train/images/dentist_items_909_jpg.rf.e256a5eed6878d430820753181da9290.jpg  \n",
            " extracting: train/images/dentist_items_910_jpg.rf.afa9110f2aafb8e6362d378f8c4a709b.jpg  \n",
            " extracting: train/images/dentist_items_911_jpg.rf.9d11a1ae1af2c902b8a0e19ac7a75174.jpg  \n",
            " extracting: train/images/dentist_items_912_jpg.rf.6c30f05644eb3a33870ce6bcf6e4f5c5.jpg  \n",
            " extracting: train/images/dentist_items_913_jpg.rf.3a2d92894adfa1b4a63240b54f20b994.jpg  \n",
            " extracting: train/images/dentist_items_914_jpg.rf.43ba219a75cd4e915dc679f089df14c2.jpg  \n",
            " extracting: train/images/dentist_items_915_jpg.rf.d13d3197066980a00c491b81fca1aa6b.jpg  \n",
            " extracting: train/images/dentist_items_916_jpg.rf.259d404825625c8a42c60773df9c7ee2.jpg  \n",
            " extracting: train/images/dentist_items_917_jpg.rf.15a7a201b6028fea5be7c939824bff18.jpg  \n",
            " extracting: train/images/dentist_items_918_jpg.rf.b1234ea71670d76761b8eb0c993e6dd0.jpg  \n",
            " extracting: train/images/dentist_items_919_jpg.rf.f6f59fa244895634b70ed8deaed335b3.jpg  \n",
            " extracting: train/images/dentist_items_91_jpg.rf.b844cd2e11e05d9cb790da4394de8f74.jpg  \n",
            " extracting: train/images/dentist_items_920_jpg.rf.dbafae6bd0a4725ca0ef2b38b8ff45fc.jpg  \n",
            " extracting: train/images/dentist_items_921_jpg.rf.102d7747e4441b583b5f3f2c647725ee.jpg  \n",
            " extracting: train/images/dentist_items_922_jpg.rf.fb2bfb5e7635abc0b9465835886567a5.jpg  \n",
            " extracting: train/images/dentist_items_924_jpg.rf.696d46e277dc67f936542e01c02dc9b0.jpg  \n",
            " extracting: train/images/dentist_items_925_jpg.rf.6770b54c062ad8b96824cb712fbd95d4.jpg  \n",
            " extracting: train/images/dentist_items_926_jpg.rf.9a3e6e4bb2a87d94eda6529b7e6e33cb.jpg  \n",
            " extracting: train/images/dentist_items_927_jpg.rf.b31cea4d6cf42318f6f87d2efe58b95a.jpg  \n",
            " extracting: train/images/dentist_items_928_jpg.rf.e694672c179a645fc831b4405aeea932.jpg  \n",
            " extracting: train/images/dentist_items_929_jpg.rf.1cc78fc273d60c0b62b73a208f243bac.jpg  \n",
            " extracting: train/images/dentist_items_92_jpg.rf.5855b699acfdbc7be10848c4e77e848a.jpg  \n",
            " extracting: train/images/dentist_items_930_jpg.rf.c12b1274b8310ad8d3f3f4d2a0c29fe0.jpg  \n",
            " extracting: train/images/dentist_items_931_jpg.rf.efc481073b4103fdcf11489a29d2e7a1.jpg  \n",
            " extracting: train/images/dentist_items_932_jpg.rf.7ef015ed78d9dd4d3e9e82541a32ea2e.jpg  \n",
            " extracting: train/images/dentist_items_933_jpg.rf.9f5f33e1a9877f2bdd8557bfff78f0d6.jpg  \n",
            " extracting: train/images/dentist_items_934_jpg.rf.70329fa10d1356ed39dd8207e45a5c3a.jpg  \n",
            " extracting: train/images/dentist_items_935_jpg.rf.5b8ef6e5d2073fb3fa0e7a091c87de52.jpg  \n",
            " extracting: train/images/dentist_items_936_jpg.rf.76c78537e08364d84955548ef6e541e3.jpg  \n",
            " extracting: train/images/dentist_items_937_jpg.rf.5c1f67d153db2e805eb1fdf3784aaf2b.jpg  \n",
            " extracting: train/images/dentist_items_939_jpg.rf.156559f4625e9a2db740d249dd9637f4.jpg  \n",
            " extracting: train/images/dentist_items_940_jpg.rf.b8dea1a85878c9eecbbf1cf6b1593e60.jpg  \n",
            " extracting: train/images/dentist_items_941_jpg.rf.88f15bea4ef3997a590b167b0b6738dc.jpg  \n",
            " extracting: train/images/dentist_items_942_jpg.rf.9e979d34e8b0d4d766257f38a41f8be0.jpg  \n",
            " extracting: train/images/dentist_items_943_jpg.rf.1a7e3d87ad0d421a9c83a25abecb6d91.jpg  \n",
            " extracting: train/images/dentist_items_944_jpg.rf.46f23d42c609f6404f469283a185537e.jpg  \n",
            " extracting: train/images/dentist_items_945_jpg.rf.22b31ea58210eea47cedd9bfaaa58fff.jpg  \n",
            " extracting: train/images/dentist_items_946_jpg.rf.f9ffb5ece97976d34b38ba35ada3e058.jpg  \n",
            " extracting: train/images/dentist_items_947_jpg.rf.8b38e6addeb98f9de0c27c7e06dd08ba.jpg  \n",
            " extracting: train/images/dentist_items_948_jpg.rf.978ec8893e937c44bdfc5c199689e36f.jpg  \n",
            " extracting: train/images/dentist_items_949_jpg.rf.f56217b31e8738ff5afb213235a33821.jpg  \n",
            " extracting: train/images/dentist_items_94_jpg.rf.0b6e4dc06d42e92b4cf220ca3d6ea429.jpg  \n",
            " extracting: train/images/dentist_items_950_jpg.rf.91b238cb522dcb956a4301ce92f683d1.jpg  \n",
            " extracting: train/images/dentist_items_951_jpg.rf.9d07bb2929c82e2a305971b8b63c73f7.jpg  \n",
            " extracting: train/images/dentist_items_952_jpg.rf.c6da7cb4ac8c7b93589ff78d431b4bfc.jpg  \n",
            " extracting: train/images/dentist_items_953_jpg.rf.65a314acc8cfca6959bd35c636b2586a.jpg  \n",
            " extracting: train/images/dentist_items_954_jpg.rf.cff2b35eee054c6dc6278518990fc482.jpg  \n",
            " extracting: train/images/dentist_items_955_jpg.rf.d273aa0937e844dd6c37d902fa9961b5.jpg  \n",
            " extracting: train/images/dentist_items_956_jpg.rf.44b55f4e090b1e63d3dfb3a5435b936b.jpg  \n",
            " extracting: train/images/dentist_items_957_jpg.rf.cd88f0e8a7966fc4a09c9d92ded243fa.jpg  \n",
            " extracting: train/images/dentist_items_958_jpg.rf.4de8fe569f83d48e12618d943cb497aa.jpg  \n",
            " extracting: train/images/dentist_items_959_jpg.rf.071a2c7bccd22cc568a61e597ddd0ba5.jpg  \n",
            " extracting: train/images/dentist_items_960_jpg.rf.ef1755a7f40d7694b5651685bc665fb5.jpg  \n",
            " extracting: train/images/dentist_items_961_jpg.rf.4f4056b4c514513c7b72c3dafb9b0a67.jpg  \n",
            " extracting: train/images/dentist_items_962_jpg.rf.a6c2642b129c175eb9000e99ead55ff7.jpg  \n",
            " extracting: train/images/dentist_items_963_jpg.rf.a079c7335ff2c538517783ef3f941c9e.jpg  \n",
            " extracting: train/images/dentist_items_964_jpg.rf.11c78aa716e1bc965f251dcabc72974d.jpg  \n",
            " extracting: train/images/dentist_items_965_jpg.rf.fd8ea3cb9d5a0051668da5adee6d2ece.jpg  \n",
            " extracting: train/images/dentist_items_966_jpg.rf.15f60f708cee675106dff61e5735177a.jpg  \n",
            " extracting: train/images/dentist_items_967_jpg.rf.12b9c487123711834f03b4bd71f56b6f.jpg  \n",
            " extracting: train/images/dentist_items_968_jpg.rf.7cfb1e88e8c86bc4bf0819afe826fb1f.jpg  \n",
            " extracting: train/images/dentist_items_969_jpg.rf.6102d3bead3950d91eae500de2f36442.jpg  \n",
            " extracting: train/images/dentist_items_96_jpg.rf.e215191fef8baf1b8bb21d034f08cd28.jpg  \n",
            " extracting: train/images/dentist_items_970_jpg.rf.aadd311382cb677c2338615a8632dba9.jpg  \n",
            " extracting: train/images/dentist_items_971_jpg.rf.cb56a1cd2af892a3a228b835e591af25.jpg  \n",
            " extracting: train/images/dentist_items_972_jpg.rf.80246a7777ac0b2d8f59ac397820ff6d.jpg  \n",
            " extracting: train/images/dentist_items_973_jpg.rf.8c761bf2d245dcf9ff37af40319caf4f.jpg  \n",
            " extracting: train/images/dentist_items_974_jpg.rf.3721c13d220d26addf8cc93e43d9d4e1.jpg  \n",
            " extracting: train/images/dentist_items_975_jpg.rf.61ae108f953de5f2c2478253bf147e96.jpg  \n",
            " extracting: train/images/dentist_items_976_jpg.rf.bb45816431a9f72e70430b543443ca72.jpg  \n",
            " extracting: train/images/dentist_items_977_jpg.rf.b40e75b6808dab2b6a6ccc411d1d2127.jpg  \n",
            " extracting: train/images/dentist_items_978_jpg.rf.7b0b64d81fdcc081e154ed51864a17ca.jpg  \n",
            " extracting: train/images/dentist_items_979_jpg.rf.ad281b074382b8630c14e31b88fbb6d3.jpg  \n",
            " extracting: train/images/dentist_items_97_jpg.rf.bc5a9b0927e1a437eae2407be6dcd449.jpg  \n",
            " extracting: train/images/dentist_items_980_jpg.rf.91050a4e91e82f04320ef3b3f79f9dc3.jpg  \n",
            " extracting: train/images/dentist_items_981_jpg.rf.cecbfbaecec2e16099d220543adbd28b.jpg  \n",
            " extracting: train/images/dentist_items_982_jpg.rf.575c72c072cd8b4bb8a5d024ea834a15.jpg  \n",
            " extracting: train/images/dentist_items_983_jpg.rf.e1f28c1d993fda96c7c2996d28862961.jpg  \n",
            " extracting: train/images/dentist_items_987_jpg.rf.d491d6b256158f5fca3dfac66480c960.jpg  \n",
            " extracting: train/images/dentist_items_988_jpg.rf.73a5fae2ea9c022b185bd9aca46fd9fc.jpg  \n",
            " extracting: train/images/dentist_items_989_jpg.rf.b94b9228e912ca31ea782e49ef21a6e4.jpg  \n",
            " extracting: train/images/dentist_items_98_jpg.rf.40a4aec0609c7c475c5bb3dcb69d5f3b.jpg  \n",
            " extracting: train/images/dentist_items_990_jpg.rf.6ffffe785bb96936fb190e485e3d23c9.jpg  \n",
            " extracting: train/images/dentist_items_991_jpg.rf.32cbdefa4fafb3c756738ebf33ac01de.jpg  \n",
            " extracting: train/images/dentist_items_992_jpg.rf.20328698c8d7c4d5419054347ec5ce41.jpg  \n",
            " extracting: train/images/dentist_items_993_jpg.rf.cf552b7d1acf77a820db7eeff88cf7b9.jpg  \n",
            " extracting: train/images/dentist_items_997_jpg.rf.279ac2cbce4a1e7e7ba3d229ef17205e.jpg  \n",
            " extracting: train/images/dentist_items_998_jpg.rf.d7a716a8fb87b855dd1c33b707b196d1.jpg  \n",
            " extracting: train/images/dentist_items_99_jpg.rf.5446c098c4d5b0744d1470abca6ef9e0.jpg  \n",
            " extracting: train/images/dentist_items_9_jpg.rf.53f506bd4b59f2e1c4560cd26d9d47dc.jpg  \n",
            " extracting: train/images/dentist_videos_01_09_0_cid_0_fr_190_ts_00-00-06-333_jpg.rf.2c7802813ab793fcdedfa56cdaa6fe1d.jpg  \n",
            " extracting: train/images/dentist_videos_01_09_0_cid_0_fr_340_ts_00-00-11-333_jpg.rf.95552081d1b821a2e06dffe32e2b2d15.jpg  \n",
            " extracting: train/images/dentist_videos_01_09_0_cid_0_fr_97_ts_00-00-03-233_jpg.rf.f2dcda9d128d64ae6b65de66d3702439.jpg  \n",
            " extracting: train/images/dentist_videos_01_09_10_cid_0_fr_1266_ts_00-00-42-200_jpg.rf.2e3f8eee30aa466f9df06645f95a10a0.jpg  \n",
            " extracting: train/images/dentist_videos_01_09_10_cid_0_fr_1760_ts_00-00-58-666_jpg.rf.37c0567780709c7b155c3d49e445695e.jpg  \n",
            " extracting: train/images/dentist_videos_01_09_10_cid_0_fr_282_ts_00-00-09-400_jpg.rf.c39c2412918b225a57a0c76af1f23840.jpg  \n",
            " extracting: train/images/dentist_videos_01_09_10_cid_0_fr_336_ts_00-00-11-200_jpg.rf.9c110d73672f6a2994d6110fe487289e.jpg  \n",
            " extracting: train/images/dentist_videos_01_09_10_cid_0_fr_403_ts_00-00-13-433_jpg.rf.c4e2e8580fd618eef642877563806135.jpg  \n",
            " extracting: train/images/dentist_videos_01_09_10_cid_0_fr_4520_ts_00-02-30-666_jpg.rf.0964576cbb987fcd49cb53f3e67ac4c6.jpg  \n",
            " extracting: train/images/dentist_videos_01_09_10_cid_0_fr_5475_ts_00-03-02-500_jpg.rf.f15061b6ea84eef65fcb9b4fe84b821b.jpg  \n",
            " extracting: train/images/dentist_videos_01_09_10_cid_0_fr_54_ts_00-00-01-800_jpg.rf.a5fcba246f61d848ff7f1cebe05cd780.jpg  \n",
            " extracting: train/images/dentist_videos_01_09_10_cid_0_fr_5570_ts_00-03-05-666_jpg.rf.884640f31d71e9e47d12f4ef5b7ee8e7.jpg  \n",
            " extracting: train/images/dentist_videos_01_09_10_cid_0_fr_57_ts_00-00-01-900_jpg.rf.21f905038527471926157b02308a4c83.jpg  \n",
            " extracting: train/images/dentist_videos_01_09_10_cid_0_fr_5930_ts_00-03-17-666_jpg.rf.491997f45f3ee60fe746863074e3bcbf.jpg  \n",
            " extracting: train/images/dentist_videos_01_09_10_cid_0_fr_6350_ts_00-03-31-666_jpg.rf.1ce8be5d18a1bbd5e812946990546459.jpg  \n",
            " extracting: train/images/dentist_videos_01_09_10_cid_0_fr_7153_ts_00-03-58-433_jpg.rf.59c4bb6dd9b5370e6f6fdd566f2f75e7.jpg  \n",
            " extracting: train/images/dentist_videos_01_09_10_cid_0_fr_7160_ts_00-03-58-666_jpg.rf.ec2d43f8db0a9055825000d30108c76e.jpg  \n",
            " extracting: train/images/dentist_videos_01_09_10_cid_0_fr_7550_ts_00-04-11-666_jpg.rf.20a3da17e575778d8fe59c222f2efa33.jpg  \n",
            " extracting: train/images/dentist_videos_01_09_10_cid_0_fr_7810_ts_00-04-20-333_jpg.rf.adc29e10c15e833f4f5e5dcf4db689d4.jpg  \n",
            " extracting: train/images/dentist_videos_01_09_10_cid_0_fr_789_ts_00-00-26-300_jpg.rf.87c8358210ff8a5513bfa63b7a2a32ee.jpg  \n",
            " extracting: train/images/dentist_videos_01_09_10_cid_0_fr_796_ts_00-00-26-533_jpg.rf.91760928705752d522990e10959185d0.jpg  \n",
            " extracting: train/images/dentist_videos_01_09_10_cid_0_fr_812_ts_00-00-27-066_jpg.rf.bf5ee08cb5f0f473304e328a8db9bb94.jpg  \n",
            " extracting: train/images/dentist_videos_01_09_10_cid_0_fr_846_ts_00-00-28-200_jpg.rf.3ca5ceaddb313fc8fdec15e2dc2173cc.jpg  \n",
            " extracting: train/images/dentist_videos_01_09_10_cid_0_fr_8620_ts_00-04-47-333_jpg.rf.2767683b06a21533c8b67e1babee4505.jpg  \n",
            " extracting: train/images/dentist_videos_01_09_10_cid_0_fr_867_ts_00-00-28-900_jpg.rf.d9cd73b95eaf54f93a2a440280169e7a.jpg  \n",
            " extracting: train/images/dentist_videos_01_09_10_cid_0_fr_878_ts_00-00-29-266_jpg.rf.a58711189192ec08fa6ee27b888d8501.jpg  \n",
            " extracting: train/images/dentist_videos_01_09_11_cid_0_fr_1180_ts_00-00-39-372_jpg.rf.614801107ed0f68b84055db6e1210be0.jpg  \n",
            " extracting: train/images/dentist_videos_01_09_11_cid_0_fr_1384_ts_00-00-46-179_jpg.rf.a05558a63ca2fffd0170ce11552cf327.jpg  \n",
            " extracting: train/images/dentist_videos_01_09_11_cid_0_fr_14_ts_00-00-00-467_jpg.rf.8e432e1d92257a41ac40353d919df3a6.jpg  \n",
            " extracting: train/images/dentist_videos_01_09_11_cid_0_fr_1510_ts_00-00-50-383_jpg.rf.b04024171200f0c49da518e9c336212c.jpg  \n",
            " extracting: train/images/dentist_videos_01_09_11_cid_0_fr_1676_ts_00-00-55-922_jpg.rf.01660c002f23eab16bae064773b15331.jpg  \n",
            " extracting: train/images/dentist_videos_01_09_11_cid_0_fr_1734_ts_00-00-57-857_jpg.rf.378f4ccb94b684f8c09f737f56286892.jpg  \n",
            " extracting: train/images/dentist_videos_01_09_11_cid_0_fr_1988_ts_00-01-06-332_jpg.rf.ca0b8311d9d782e97cd9f9dfdce4d77e.jpg  \n",
            " extracting: train/images/dentist_videos_01_09_11_cid_0_fr_2970_ts_00-01-39-099_jpg.rf.530023f6680e92858317fa8f87426224.jpg  \n",
            " extracting: train/images/dentist_videos_01_09_11_cid_0_fr_2983_ts_00-01-39-532_jpg.rf.3db33d5dfb2889ff1a72611a2d6d6070.jpg  \n",
            " extracting: train/images/dentist_videos_01_09_11_cid_0_fr_308_ts_00-00-10-276_jpg.rf.d0240de54569123673df2f6233cdea30.jpg  \n",
            " extracting: train/images/dentist_videos_01_09_11_cid_0_fr_3284_ts_00-01-49-576_jpg.rf.42fad24d8d2b9d97a904bee7c2a7e419.jpg  \n",
            " extracting: train/images/dentist_videos_01_09_11_cid_0_fr_3310_ts_00-01-50-443_jpg.rf.8ba7c10abc6d26991f6e155a33812037.jpg  \n",
            " extracting: train/images/dentist_videos_01_09_11_cid_0_fr_3470_ts_00-01-55-782_jpg.rf.b5e77c09fe447b1259a87a5bc484a9f0.jpg  \n",
            " extracting: train/images/dentist_videos_01_09_11_cid_0_fr_353_ts_00-00-11-778_jpg.rf.754853dec33efaacea6e1dae58e01271.jpg  \n",
            " extracting: train/images/dentist_videos_01_09_11_cid_0_fr_3680_ts_00-02-02-789_jpg.rf.e50ae274f5e8fce9524a83f7e7f7c187.jpg  \n",
            " extracting: train/images/dentist_videos_01_09_11_cid_0_fr_403_ts_00-00-13-446_jpg.rf.d4cf327ebf7669927d2d846cae377418.jpg  \n",
            " extracting: train/images/dentist_videos_01_09_11_cid_0_fr_4370_ts_00-02-25-812_jpg.rf.bbef7821248df21118f75c758944396e.jpg  \n",
            " extracting: train/images/dentist_videos_01_09_11_cid_0_fr_4549_ts_00-02-31-784_jpg.rf.dc070060e240e33f00c79e4c57d42291.jpg  \n",
            " extracting: train/images/dentist_videos_01_09_11_cid_0_fr_4590_ts_00-02-33-153_jpg.rf.28f85e06e49efef634b1da3b6fea78d3.jpg  \n",
            " extracting: train/images/dentist_videos_01_09_11_cid_0_fr_4990_ts_00-02-46-499_jpg.rf.159c055a603339c7f42d33676499f762.jpg  \n",
            " extracting: train/images/dentist_videos_01_09_11_cid_0_fr_4_ts_00-00-00-133_jpg.rf.3a167294aaab6c931b818a1ba1597954.jpg  \n",
            " extracting: train/images/dentist_videos_01_09_11_cid_0_fr_5046_ts_00-02-48-368_jpg.rf.91e646f5cd58adee1da9ad4d1443fdba.jpg  \n",
            " extracting: train/images/dentist_videos_01_09_11_cid_0_fr_5390_ts_00-02-59-846_jpg.rf.786255348539fd017dcbd0ca67221d6c.jpg  \n",
            " extracting: train/images/dentist_videos_01_09_11_cid_0_fr_5490_ts_00-03-03-183_jpg.rf.7dfe5adf01003707e27babe997d5d438.jpg  \n",
            " extracting: train/images/dentist_videos_01_09_11_cid_0_fr_5750_ts_00-03-11-858_jpg.rf.fbd46f5863bce3d9037f541c61df52b2.jpg  \n",
            " extracting: train/images/dentist_videos_01_09_11_cid_0_fr_578_ts_00-00-19-285_jpg.rf.2d9c12e2b52a100c362b35106426cbf6.jpg  \n",
            " extracting: train/images/dentist_videos_01_09_11_cid_0_fr_585_ts_00-00-19-519_jpg.rf.160c09c5672609eb593329cd94a5e4fa.jpg  \n",
            " extracting: train/images/dentist_videos_01_09_11_cid_0_fr_5_ts_00-00-00-166_jpg.rf.4039bb1945b9a6e74e9e0dbf0a6aa5a7.jpg  \n",
            " extracting: train/images/dentist_videos_01_09_11_cid_0_fr_610_ts_00-00-20-353_jpg.rf.afa7ecb9b3b0186915838b7fd2bb073a.jpg  \n",
            " extracting: train/images/dentist_videos_01_09_11_cid_0_fr_645_ts_00-00-21-521_jpg.rf.3f4681f86a872073eca9687b519aa080.jpg  \n",
            " extracting: train/images/dentist_videos_01_09_11_cid_0_fr_7120_ts_00-03-57-570_jpg.rf.ed949cbb2ccb6c38f4fea16f6439add1.jpg  \n",
            " extracting: train/images/dentist_videos_01_09_11_cid_0_fr_7258_ts_00-04-02-175_jpg.rf.d63a4b1723b4ac8b00d0c258a9c3d3fa.jpg  \n",
            " extracting: train/images/dentist_videos_01_09_11_cid_0_fr_7470_ts_00-04-09-249_jpg.rf.5c6ce85b95b92ab75f96d32d14e3d190.jpg  \n",
            " extracting: train/images/dentist_videos_01_09_11_cid_0_fr_7520_ts_00-04-10-917_jpg.rf.62fd016deb0c2708f09d97dbc5fb69db.jpg  \n",
            " extracting: train/images/dentist_videos_01_09_11_cid_0_fr_7600_ts_00-04-13-586_jpg.rf.bc09c2df2039e206c07ce28d4c974b62.jpg  \n",
            " extracting: train/images/dentist_videos_01_09_11_cid_0_fr_7825_ts_00-04-21-094_jpg.rf.01ffac17bacac56a14da0d426e7a5df2.jpg  \n",
            " extracting: train/images/dentist_videos_01_09_11_cid_0_fr_8117_ts_00-04-30-837_jpg.rf.ade8a806a9c8b944ad1a93abbde51523.jpg  \n",
            " extracting: train/images/dentist_videos_01_09_11_cid_0_fr_8220_ts_00-04-34-274_jpg.rf.f8d29a7953e3a4889def4f657d854c0c.jpg  \n",
            " extracting: train/images/dentist_videos_01_09_11_cid_0_fr_8390_ts_00-04-39-946_jpg.rf.811d29cf87aa9e2733b2bd77648db53d.jpg  \n",
            " extracting: train/images/dentist_videos_01_09_11_cid_0_fr_8929_ts_00-04-57-930_jpg.rf.6d2a4bf344bc258ecbd8485fbf9ced6b.jpg  \n",
            " extracting: train/images/dentist_videos_01_09_11_cid_0_fr_9540_ts_00-05-18-318_jpg.rf.4d5e0c5ebab695d2dd879b68ca1050fb.jpg  \n",
            " extracting: train/images/dentist_videos_01_09_12_cid_0_fr_1010_ts_00-00-33-700_jpg.rf.a094945c2f90635cb138f020e7455fb2.jpg  \n",
            " extracting: train/images/dentist_videos_01_09_12_cid_0_fr_1170_ts_00-00-39-039_jpg.rf.39e161af6c0298c3fdc34c126c516933.jpg  \n",
            " extracting: train/images/dentist_videos_01_09_12_cid_0_fr_1230_ts_00-00-41-041_jpg.rf.e27cf90c30d13462f8014386e3371a3f.jpg  \n",
            " extracting: train/images/dentist_videos_01_09_12_cid_0_fr_1361_ts_00-00-45-412_jpg.rf.9600805255af5b2f7b401db2e45bdd64.jpg  \n",
            " extracting: train/images/dentist_videos_01_09_12_cid_0_fr_1440_ts_00-00-48-048_jpg.rf.1151c439beabce745f368596bd278c0c.jpg  \n",
            " extracting: train/images/dentist_videos_01_09_12_cid_0_fr_1870_ts_00-01-02-395_jpg.rf.a2119ef5afd533abe2c084c05044a549.jpg  \n",
            " extracting: train/images/dentist_videos_01_09_12_cid_0_fr_1880_ts_00-01-02-729_jpg.rf.4e24c8fa113f64b28147e1398d014fa3.jpg  \n",
            " extracting: train/images/dentist_videos_01_09_12_cid_0_fr_1910_ts_00-01-03-730_jpg.rf.b07348ee965cadef53da502048bf0b30.jpg  \n",
            " extracting: train/images/dentist_videos_01_09_12_cid_0_fr_1983_ts_00-01-06-166_jpg.rf.7e7db6b02adabe40b9d60f8aabaedaa2.jpg  \n",
            " extracting: train/images/dentist_videos_01_09_12_cid_0_fr_2233_ts_00-01-14-507_jpg.rf.b1638c170796b21be37d3deef70918d6.jpg  \n",
            " extracting: train/images/dentist_videos_01_09_12_cid_0_fr_2350_ts_00-01-18-411_jpg.rf.777ae8c761cefa0c7a1e25190f73216c.jpg  \n",
            " extracting: train/images/dentist_videos_01_09_12_cid_0_fr_2399_ts_00-01-20-046_jpg.rf.f864141c6ea839098b85bff41889b590.jpg  \n",
            " extracting: train/images/dentist_videos_01_09_12_cid_0_fr_2550_ts_00-01-25-085_jpg.rf.cf4f1d5a515576550ac1dddf6df95e63.jpg  \n",
            " extracting: train/images/dentist_videos_01_09_12_cid_0_fr_3490_ts_00-01-56-449_jpg.rf.b5c257ac53b24ff73376610c58e01c69.jpg  \n",
            " extracting: train/images/dentist_videos_01_09_12_cid_0_fr_3690_ts_00-02-03-123_jpg.rf.914c21a22f44aa409c4da096546e3576.jpg  \n",
            " extracting: train/images/dentist_videos_01_09_12_cid_0_fr_3712_ts_00-02-03-857_jpg.rf.c20aefc2e238a22f666d35a89102a9f7.jpg  \n",
            " extracting: train/images/dentist_videos_01_09_12_cid_0_fr_3788_ts_00-02-06-392_jpg.rf.6e4c15f853f87b8e868b17149c9fb9ff.jpg  \n",
            " extracting: train/images/dentist_videos_01_09_12_cid_0_fr_3980_ts_00-02-12-799_jpg.rf.8d360a7da613e558bae0396b67910bad.jpg  \n",
            " extracting: train/images/dentist_videos_01_09_12_cid_0_fr_4410_ts_00-02-27-147_jpg.rf.7a5498e350d0b2d197ba835b784629e7.jpg  \n",
            " extracting: train/images/dentist_videos_01_09_12_cid_0_fr_4520_ts_00-02-30-817_jpg.rf.f28ee12a15fba0d474df0ce27b1f3e4d.jpg  \n",
            " extracting: train/images/dentist_videos_01_09_12_cid_0_fr_4540_ts_00-02-31-484_jpg.rf.a2e13e3bcb404c638cf99f9a3c026c92.jpg  \n",
            " extracting: train/images/dentist_videos_01_09_12_cid_0_fr_900_ts_00-00-30-030_jpg.rf.0c398de4aea411b652f85e2a1ee96991.jpg  \n",
            " extracting: train/images/dentist_videos_01_09_12_cid_0_fr_990_ts_00-00-33-033_jpg.rf.a8563afaaa947c004ea47c1af04de928.jpg  \n",
            " extracting: train/images/dentist_videos_01_09_14_cid_0_fr_0_ts_00-00-00-000_jpg.rf.5266312e846ad9cbe5a6a453a8158ec9.jpg  \n",
            " extracting: train/images/dentist_videos_01_09_14_cid_0_fr_10960_ts_00-06-07-415_jpg.rf.9987ad1a150a6e0a0524c780a9707272.jpg  \n",
            " extracting: train/images/dentist_videos_01_09_14_cid_0_fr_11130_ts_00-06-13-114_jpg.rf.20b45607e04316b3766ede70ade29179.jpg  \n",
            " extracting: train/images/dentist_videos_01_09_14_cid_0_fr_1146_ts_00-00-38-417_jpg.rf.0f8a1c247770be81ffa1c9d3b401805e.jpg  \n",
            " extracting: train/images/dentist_videos_01_09_14_cid_0_fr_11950_ts_00-06-40-603_jpg.rf.9e661ab9c39c69053c66df8e4c493fe9.jpg  \n",
            " extracting: train/images/dentist_videos_01_09_14_cid_0_fr_12167_ts_00-06-47-877_jpg.rf.8b92c09f5d896bb66efe38d02c2672b7.jpg  \n",
            " extracting: train/images/dentist_videos_01_09_14_cid_0_fr_12320_ts_00-06-53-007_jpg.rf.be9bde6ecbeba18bda6b9e5fbdc58508.jpg  \n",
            " extracting: train/images/dentist_videos_01_09_14_cid_0_fr_1302_ts_00-00-43-647_jpg.rf.ea0da067ae1d9326a9c6ed9ac5d2d7cf.jpg  \n",
            " extracting: train/images/dentist_videos_01_09_14_cid_0_fr_13120_ts_00-07-19-825_jpg.rf.d8b447f4ba20d9d29147334edfe42038.jpg  \n",
            " extracting: train/images/dentist_videos_01_09_14_cid_0_fr_14115_ts_00-07-53-181_jpg.rf.b3ea2c086adba73b5bd767c701e5f5d6.jpg  \n",
            " extracting: train/images/dentist_videos_01_09_14_cid_0_fr_14300_ts_00-07-59-383_jpg.rf.b7ca09c99529f5bc86eadd3ab130645a.jpg  \n",
            " extracting: train/images/dentist_videos_01_09_14_cid_0_fr_15049_ts_00-08-24-492_jpg.rf.8efa5a19029c56ff4f2d90c6d2ef884c.jpg  \n",
            " extracting: train/images/dentist_videos_01_09_14_cid_0_fr_15300_ts_00-08-32-906_jpg.rf.2c7440155a4a550367d0fb8d7eebefb8.jpg  \n",
            " extracting: train/images/dentist_videos_01_09_14_cid_0_fr_15494_ts_00-08-39-409_jpg.rf.e49281973a4f49bda906310a393e8e38.jpg  \n",
            " extracting: train/images/dentist_videos_01_09_14_cid_0_fr_1554_ts_00-00-52-095_jpg.rf.92b71c0021136a19f86a753bca89675d.jpg  \n",
            " extracting: train/images/dentist_videos_01_09_14_cid_0_fr_15920_ts_00-08-53-690_jpg.rf.22eb451d62b478a83d6020fccac7641f.jpg  \n",
            " extracting: train/images/dentist_videos_01_09_14_cid_0_fr_1614_ts_00-00-54-106_jpg.rf.a45607d79a16ca141972754173f4abd1.jpg  \n",
            " extracting: train/images/dentist_videos_01_09_14_cid_0_fr_16240_ts_00-09-04-418_jpg.rf.7932b3a35ac5b60ddb9989b70d732ac0.jpg  \n",
            " extracting: train/images/dentist_videos_01_09_14_cid_0_fr_1836_ts_00-01-01-548_jpg.rf.a521f43949cf87a4656d5f930cbc38ef.jpg  \n",
            " extracting: train/images/dentist_videos_01_09_14_cid_0_fr_19545_ts_00-10-55-212_jpg.rf.78a98244aa3b6e1bbc55db280dc67643.jpg  \n",
            " extracting: train/images/dentist_videos_01_09_14_cid_0_fr_19759_ts_00-11-02-386_jpg.rf.7a2b5afc8d76b5358fe1575979c21b6b.jpg  \n",
            " extracting: train/images/dentist_videos_01_09_14_cid_0_fr_21389_ts_00-11-57-029_jpg.rf.522684695658c12359b69d10d60e6970.jpg  \n",
            " extracting: train/images/dentist_videos_01_09_14_cid_0_fr_21960_ts_00-12-16-171_jpg.rf.ab17cb95db845eb1a556471c2b941e6d.jpg  \n",
            " extracting: train/images/dentist_videos_01_09_14_cid_0_fr_22070_ts_00-12-19-859_jpg.rf.c3dff1a6f6167a1ad07a111475c5a5a2.jpg  \n",
            " extracting: train/images/dentist_videos_01_09_14_cid_0_fr_23029_ts_00-12-52-008_jpg.rf.4dc656ead2b1a0644fc78b0819353995.jpg  \n",
            " extracting: train/images/dentist_videos_01_09_14_cid_0_fr_2330_ts_00-01-18-109_jpg.rf.6aecf52c6b6c5e665927b6bc2868b714.jpg  \n",
            " extracting: train/images/dentist_videos_01_09_1_cid_0_fr_10280_ts_00-05-42-666_jpg.rf.8dabec0be5a4ca538ff12f7bcd7ea21f.jpg  \n",
            " extracting: train/images/dentist_videos_01_09_1_cid_0_fr_149_ts_00-00-04-966_jpg.rf.d12859cae51233753f52ae4ff9263377.jpg  \n",
            " extracting: train/images/dentist_videos_01_09_1_cid_0_fr_16_ts_00-00-00-533_jpg.rf.1714c5c0a8a95c216f6684ac7f492a41.jpg  \n",
            " extracting: train/images/dentist_videos_01_09_1_cid_0_fr_2255_ts_00-01-15-166_jpg.rf.cb27584c58f6f6d7ac888f4308dad9b4.jpg  \n",
            " extracting: train/images/dentist_videos_01_09_1_cid_0_fr_23_ts_00-00-00-766_jpg.rf.e18a358589ae3f93a60112737508c31c.jpg  \n",
            " extracting: train/images/dentist_videos_01_09_1_cid_0_fr_2560_ts_00-01-25-333_jpg.rf.a4a63fb49dc71773f41c0c4464bc6568.jpg  \n",
            " extracting: train/images/dentist_videos_01_09_1_cid_0_fr_3440_ts_00-01-54-666_jpg.rf.997040e83387090d338de88a046a8f58.jpg  \n",
            " extracting: train/images/dentist_videos_01_09_1_cid_0_fr_5269_ts_00-02-55-633_jpg.rf.a6cc898d64f1c27f81ed2527ca129039.jpg  \n",
            " extracting: train/images/dentist_videos_01_09_1_cid_0_fr_5290_ts_00-02-56-333_jpg.rf.914fee545d4cd7b2958e2a42b9bfdfd3.jpg  \n",
            " extracting: train/images/dentist_videos_01_09_1_cid_0_fr_575_ts_00-00-19-166_jpg.rf.a1ab7215405de9c622cdad588f38bf84.jpg  \n",
            " extracting: train/images/dentist_videos_01_09_1_cid_0_fr_6200_ts_00-03-26-666_jpg.rf.aa9ed56979580fb2e09f786f7614233c.jpg  \n",
            " extracting: train/images/dentist_videos_01_09_1_cid_0_fr_6443_ts_00-03-34-766_jpg.rf.b1fc32b6924c2703cf01c387d5d3af07.jpg  \n",
            " extracting: train/images/dentist_videos_01_09_1_cid_0_fr_7200_ts_00-04-00-000_jpg.rf.88dcfb16e06a2382b2e73f8cba34eaf2.jpg  \n",
            " extracting: train/images/dentist_videos_01_09_1_cid_0_fr_8076_ts_00-04-29-200_jpg.rf.1219f53593745ed409d41a622ac6c50b.jpg  \n",
            " extracting: train/images/dentist_videos_01_09_1_cid_0_fr_8270_ts_00-04-35-666_jpg.rf.1550eb29bcd6493ebc894eee4e8f5c9a.jpg  \n",
            " extracting: train/images/istockphoto-470454993-1024x1024_jpg.rf.cd75b0590713bf34557d2c67387c829c.jpg  \n",
            " extracting: train/images/s300_Surgical_instruments_and_tools_including_scalpels__forceps_and_tweezers_by_Dario_Lo_Presti_at_Shutterstock_jpg.rf.e3b53575bbbb99f7ed6eb38dd7ce87cf.jpg  \n",
            " extracting: train/images/ytuty_jpg.rf.0993302570668a5661746b352d44a7e2.jpg  \n",
            "   creating: train/labels/\n",
            " extracting: train/labels/0706010001-08-Repair-tools-Pliers_jpg.rf.3353922089e1d553cf5951db2e4ae133.txt  \n",
            " extracting: train/labels/Person-Changing-Drill-Bit-of-Drill-Press-Drilling-Machine-14-0706010001_jpg.rf.604ce1bd2c277471e374da77fa838b38.txt  \n",
            " extracting: train/labels/Person-Cutting-Wooden-plank-on-Table-Saw-13-0706010001_jpg.rf.9133bc2617f2552f693f10e399aab1fe.txt  \n",
            " extracting: train/labels/Repair-Tools-Claw-Head-Hammer-02-0706010001_jpg.rf.85ec8249b5849200f716889a3ff2ad33.txt  \n",
            " extracting: train/labels/Repair-Tools-Power-hand-tools-04-0706010001_jpg.rf.d43f442611c19a4dac79cd3eb91568cc.txt  \n",
            " extracting: train/labels/Repair-Tools-Ratchet-wrench-or-Open-Ended-spanner-07-0706010001_jpg.rf.8881b3e3ddd058076405deb0efe93bc9.txt  \n",
            " extracting: train/labels/Repair-Tools-Slotted-and-Phillips-type-screwdrivers-06-0706010001_jpg.rf.b10f885766475e8007e97c0aca873a15.txt  \n",
            " extracting: train/labels/bb_jpg.rf.0464907816717adaa0f5f09d36479e80.txt  \n",
            " extracting: train/labels/bic_2_jpg.rf.7881b6b99cee9999498dd1a7d870acdb.txt  \n",
            " extracting: train/labels/bic_3_jpg.rf.52b1be93c0e2c4b81247daada3bcf424.txt  \n",
            " extracting: train/labels/bic_4_jpg.rf.41034965d6d6992f0c0baeb07061d871.txt  \n",
            " extracting: train/labels/bicak_1_jpg.rf.e06396d96a0eca4a3d1470a2191b027f.txt  \n",
            " extracting: train/labels/cid_0_fr_0_ts_00-00-00-000-copy-3_jpg.rf.8872a54ad2af7f703bd3ba9eac6bda97.txt  \n",
            " extracting: train/labels/cid_0_fr_10081_ts_00-07-00-461_jpg.rf.1a8dcb7d57d04a88cc2d2c3912cb3d30.txt  \n",
            " extracting: train/labels/cid_0_fr_10336_ts_00-07-11-097_jpg.rf.9161ed905ce3fa63c65a73092de1e5d5.txt  \n",
            " extracting: train/labels/cid_0_fr_10393_ts_00-07-13-474_jpg.rf.3abc6750c6ec728428cf832bc089b9d7.txt  \n",
            " extracting: train/labels/cid_0_fr_10447_ts_00-07-15-291_jpg.rf.e06c4b32779dde88ada4840a1c049ec6.txt  \n",
            " extracting: train/labels/cid_0_fr_10461_ts_00-07-15-875_jpg.rf.afc9ac7465b4d4ed72e3423fb6dc2a70.txt  \n",
            " extracting: train/labels/cid_0_fr_10470_ts_00-07-16-686_jpg.rf.5d45f4156d50ea52fb1f10d7c0cd27bb.txt  \n",
            " extracting: train/labels/cid_0_fr_1049_ts_00-00-41-960_jpg.rf.380406cd99b66237fd76b177883fb1ff.txt  \n",
            " extracting: train/labels/cid_0_fr_104_ts_00-00-04-337_jpg.rf.c84c489979c30a5bc9d456570cb452b6.txt  \n",
            " extracting: train/labels/cid_0_fr_10565_ts_00-07-20-648_jpg.rf.caebec8ea8dde0323d838ebe6bc29ed5.txt  \n",
            " extracting: train/labels/cid_0_fr_10860_ts_00-07-32-500_jpg.rf.d124664004a4f891e66b724e0796d402.txt  \n",
            " extracting: train/labels/cid_0_fr_11000_ts_00-07-38-791_jpg.rf.e7c16fc84c15392af0163be8688a649c.txt  \n",
            " extracting: train/labels/cid_0_fr_1101_ts_00-00-44-040_jpg.rf.930f4fb0680e3c30e230a21b663f15b9.txt  \n",
            " extracting: train/labels/cid_0_fr_11023_ts_00-07-39-750_jpg.rf.934f7f48a79c3ac2c9d4c1ac6c47fb7c.txt  \n",
            " extracting: train/labels/cid_0_fr_1120_ts_00-00-46-713_jpg.rf.2f3fb46813bf407f3c5d54496f10a140.txt  \n",
            " extracting: train/labels/cid_0_fr_1133_ts_00-00-47-208_jpg.rf.476631c84cc80fa9205dae1fa979b26e.txt  \n",
            " extracting: train/labels/cid_0_fr_11345_ts_00-07-53-181_jpg.rf.823fe1075f696c04c8df2b28f11ddd91.txt  \n",
            " extracting: train/labels/cid_0_fr_1140_ts_00-00-47-547_jpg.rf.e3f3704871ebd881a13d31e7427b9961.txt  \n",
            " extracting: train/labels/cid_0_fr_11505_ts_00-07-59-375_jpg.rf.5b8dd9280525b028ad9d8a75dfb1a82a.txt  \n",
            " extracting: train/labels/cid_0_fr_11525_ts_00-08-00-688_jpg.rf.c847f830a2e4bbf6d70ba1e61ceaee52.txt  \n",
            " extracting: train/labels/cid_0_fr_11638_ts_00-08-04-916_jpg.rf.f774b391edc4902a75f77ff845ede86d.txt  \n",
            " extracting: train/labels/cid_0_fr_1203_ts_00-00-50-175_jpg.rf.86b436d7a661804aad3dcc76db214d7e.txt  \n",
            " extracting: train/labels/cid_0_fr_1207_ts_00-00-50-341_jpg.rf.d84811aa627fde1b7ddeb71fbb72d15a.txt  \n",
            " extracting: train/labels/cid_0_fr_1212_ts_00-00-50-550_jpg.rf.af6e8488bd73454a8e9b49291b5f183a.txt  \n",
            " extracting: train/labels/cid_0_fr_1216_ts_00-00-50-717_jpg.rf.c826b87d5110958205ef14d7d1d2d39f.txt  \n",
            " extracting: train/labels/cid_0_fr_121_ts_00-00-05-046_jpg.rf.6c8a6d3b43ea41caaa2d1ad1ab80ffbd.txt  \n",
            " extracting: train/labels/cid_0_fr_1240_ts_00-00-51-718_jpg.rf.85401b6b87761a1b667404b3ea71100e.txt  \n",
            " extracting: train/labels/cid_0_fr_1247_ts_00-00-51-958_jpg.rf.50f5b925af1b2fcaaa6458f85cfd3c4c.txt  \n",
            " extracting: train/labels/cid_0_fr_1248_ts_00-00-52-052_jpg.rf.63f3e65dc0c0ee7665334cab28b9f587.txt  \n",
            " extracting: train/labels/cid_0_fr_1291_ts_00-00-53-845_jpg.rf.16818e92bc69ff125a9caa80cf2b3cf4.txt  \n",
            " extracting: train/labels/cid_0_fr_1296_ts_00-00-54-054_jpg.rf.23df79b492e85bee9dad3ef56f2a4ee4.txt  \n",
            " extracting: train/labels/cid_0_fr_130_ts_00-00-05-422_jpg.rf.7c96028e46fd7de6f5894143819bd9f3.txt  \n",
            " extracting: train/labels/cid_0_fr_1348_ts_00-00-56-222_jpg.rf.120daf9ecb32dc4db9cdb296e95bf61f.txt  \n",
            " extracting: train/labels/cid_0_fr_1357_ts_00-00-56-598_jpg.rf.89ca80bf8cf27ab8b49814d31c8ff4d2.txt  \n",
            " extracting: train/labels/cid_0_fr_135_ts_00-00-05-630_jpg.rf.1d0d9863787fd84bfea7cdff844d68e0.txt  \n",
            " extracting: train/labels/cid_0_fr_1388_ts_00-00-55-520_jpg.rf.941c8e2cd436c0bae5f74bb57d3eec19.txt  \n",
            " extracting: train/labels/cid_0_fr_1390_ts_00-00-57-974_jpg.rf.e053af06a92aaebe0ca9859446a4a7b5.txt  \n",
            " extracting: train/labels/cid_0_fr_1398_ts_00-00-58-308_jpg.rf.9b22fdf25d3139596f41cf079e83b098.txt  \n",
            " extracting: train/labels/cid_0_fr_1400_ts_00-00-56-000_jpg.rf.8b860bda65acf2e5c687b5122b8c1bd4.txt  \n",
            " extracting: train/labels/cid_0_fr_1405_ts_00-00-58-600_jpg.rf.c235483fb9b9451b2910131d3e611aaf.txt  \n",
            " extracting: train/labels/cid_0_fr_1416_ts_00-00-59-059_jpg.rf.e7b83c1629421ef27fb503f97ebe6832.txt  \n",
            " extracting: train/labels/cid_0_fr_1429_ts_00-00-59-601_jpg.rf.0d359a02afae0797d7e2dcfa9b07f73d.txt  \n",
            " extracting: train/labels/cid_0_fr_1472_ts_00-01-01-394_jpg.rf.ece16988a0cdb24197185e95c6e98f77.txt  \n",
            " extracting: train/labels/cid_0_fr_1485_ts_00-01-01-936_jpg.rf.08ff85ba7c9cb9ecc4997796843d4efb.txt  \n",
            " extracting: train/labels/cid_0_fr_1552_ts_00-01-04-731_jpg.rf.14416a126de0e2657989e2559d57f572.txt  \n",
            " extracting: train/labels/cid_0_fr_1555_ts_00-01-04-856_jpg.rf.039c1e626af80f456d68ed339f8de86a.txt  \n",
            " extracting: train/labels/cid_0_fr_1559_ts_00-01-05-023_jpg.rf.6b6e49621553e9f60b250bc4694da01d.txt  \n",
            " extracting: train/labels/cid_0_fr_159_ts_00-00-06-631_jpg.rf.4f66edc149a318f1bfa07d3ada0ffd3c.txt  \n",
            " extracting: train/labels/cid_0_fr_15_ts_00-00-00-625_jpg.rf.d08fb9496d2b6dd11f1567de2a90bb1f.txt  \n",
            " extracting: train/labels/cid_0_fr_1632_ts_00-01-08-068_jpg.rf.bcd086cc06a5953af3f38c110f4920a4.txt  \n",
            " extracting: train/labels/cid_0_fr_1633_ts_00-01-08-109_jpg.rf.980f62990bd9148603cd5e1696ebe2b8.txt  \n",
            " extracting: train/labels/cid_0_fr_1648_ts_00-01-08-735_jpg.rf.21ed99a7b26e2349f22a8bce2223caa1.txt  \n",
            " extracting: train/labels/cid_0_fr_1658_ts_00-01-06-320_jpg.rf.63c70519d0e94e157556028c3ac45082.txt  \n",
            " extracting: train/labels/cid_0_fr_1666_ts_00-01-06-640_jpg.rf.08de683a8fb35617c3ab5cb7bfeafe84.txt  \n",
            " extracting: train/labels/cid_0_fr_1737_ts_00-01-12-447_jpg.rf.e154ee71ba74d104d8f5a0270a3b0663.txt  \n",
            " extracting: train/labels/cid_0_fr_1744_ts_00-01-12-739_jpg.rf.34abd6892b0210fc4f7b9a59d917ffe6.txt  \n",
            " extracting: train/labels/cid_0_fr_1748_ts_00-01-12-906_jpg.rf.a57428a1d7a99d6eef389049e59936c5.txt  \n",
            " extracting: train/labels/cid_0_fr_1751_ts_00-01-13-031_jpg.rf.d38afe110f340860d07f8d566c472be0.txt  \n",
            " extracting: train/labels/cid_0_fr_1757_ts_00-01-13-281_jpg.rf.005abe3b9f829820bb3ef3c3acb7476e.txt  \n",
            " extracting: train/labels/cid_0_fr_1777_ts_00-01-11-080_jpg.rf.a028c2abe51377b945cf4b29ec91f009.txt  \n",
            " extracting: train/labels/cid_0_fr_1780_ts_00-01-14-166_jpg.rf.9ddccb24a2bc8aafcee0b714d21e956c.txt  \n",
            " extracting: train/labels/cid_0_fr_1835_ts_00-01-16-534_jpg.rf.dc99ce32ff5c33d2124705d2c88f63c1.txt  \n",
            " extracting: train/labels/cid_0_fr_1842_ts_00-01-16-826_jpg.rf.d4abf2fb61051b525c7e216a1a483db9.txt  \n",
            " extracting: train/labels/cid_0_fr_1850_ts_00-01-14-000_jpg.rf.0d7aba718aebf7238a734c4431117f87.txt  \n",
            " extracting: train/labels/cid_0_fr_1850_ts_00-01-17-160_jpg.rf.cdfa688f6780734a2aa05a59b375f528.txt  \n",
            " extracting: train/labels/cid_0_fr_1862_ts_00-01-17-660_jpg.rf.f48d7274769f9b134fb23f773bd584c9.txt  \n",
            " extracting: train/labels/cid_0_fr_1894_ts_00-01-18-995_jpg.rf.5916b94ca1b28a2e8c83813f6f29bc08.txt  \n",
            " extracting: train/labels/cid_0_fr_1918_ts_00-01-19-996_jpg.rf.4b5602b8a0186b43da88ddedb856e282.txt  \n",
            " extracting: train/labels/cid_0_fr_1922_ts_00-01-20-163_jpg.rf.bff3963652e49b89f874827b85bb5c31.txt  \n",
            " extracting: train/labels/cid_0_fr_1945_ts_00-01-17-800_jpg.rf.b1a7a83bcf307f9f27ab3c8c08a189b7.txt  \n",
            " extracting: train/labels/cid_0_fr_1958_ts_00-01-21-664_jpg.rf.69c4ada55b7aa75cc1c8348a6e155540.txt  \n",
            " extracting: train/labels/cid_0_fr_2005_ts_00-01-23-625_jpg.rf.fe19c3ad776518e267a67b653b3417b4.txt  \n",
            " extracting: train/labels/cid_0_fr_2021_ts_00-01-20-840_jpg.rf.c7e9f6d5d026b1b4351fae53ba392677.txt  \n",
            " extracting: train/labels/cid_0_fr_2025_ts_00-01-24-459_jpg.rf.10d862c7376bc31a777739f3ee314a0b.txt  \n",
            " extracting: train/labels/cid_0_fr_2065_ts_00-01-26-127_jpg.rf.1a06f28302494f4eafd305c1eb1135b8.txt  \n",
            " extracting: train/labels/cid_0_fr_2070_ts_00-01-26-336_jpg.rf.839d13b1f45202cfea64f09ef0ba6099.txt  \n",
            " extracting: train/labels/cid_0_fr_2090_ts_00-01-23-600_jpg.rf.1a6e0da656d31a8f9457b9e1a4ef8c07.txt  \n",
            " extracting: train/labels/cid_0_fr_2125_ts_00-01-25-000_jpg.rf.312ae80bd3b079c25a688d29486a8bc6.txt  \n",
            " extracting: train/labels/cid_0_fr_2131_ts_00-01-25-240_jpg.rf.57e75553028f2825e09d0f5484ca3e71.txt  \n",
            " extracting: train/labels/cid_0_fr_2136_ts_00-01-29-089_jpg.rf.6c71353ea38610447bbaa9494b7c771f.txt  \n",
            " extracting: train/labels/cid_0_fr_2141_ts_00-01-29-297_jpg.rf.899cf709a456c984d54df5dbae6e3b2c.txt  \n",
            " extracting: train/labels/cid_0_fr_2155_ts_00-01-29-881_jpg.rf.008e58001a24580dd6eac6ed56ca5909.txt  \n",
            " extracting: train/labels/cid_0_fr_2164_ts_00-01-26-560_jpg.rf.de71a4a0c0f8ad8b85fb37ca40bdb584.txt  \n",
            " extracting: train/labels/cid_0_fr_2170_ts_00-01-30-507_jpg.rf.79a11efd00c878f57d4a010202502503.txt  \n",
            " extracting: train/labels/cid_0_fr_2172_ts_00-01-30-590_jpg.rf.05c8f304d7034c7feacd42dd41494e85.txt  \n",
            " extracting: train/labels/cid_0_fr_223_ts_00-00-09-300_jpg.rf.ad85f8c36ad0cc43da4fb01cd6334f35.txt  \n",
            " extracting: train/labels/cid_0_fr_2241_ts_00-01-33-468_jpg.rf.10c6a51393b99f785cc1b9027194fec5.txt  \n",
            " extracting: train/labels/cid_0_fr_228_ts_00-00-09-509_jpg.rf.236ff6c777bfcb50b40bff6858b5f8b4.txt  \n",
            " extracting: train/labels/cid_0_fr_2302_ts_00-01-36-012_jpg.rf.3e8da592a4c7ac7a38236112dab39621.txt  \n",
            " extracting: train/labels/cid_0_fr_2331_ts_00-01-37-222-copy_jpg.rf.082c0c5306867c8a4e5d318f66c011f2.txt  \n",
            " extracting: train/labels/cid_0_fr_2398_ts_00-01-40-016_jpg.rf.ddb689666076b2f17d12b1894760040c.txt  \n",
            " extracting: train/labels/cid_0_fr_2408_ts_00-01-36-320_jpg.rf.86419fa47f911bc59eedb46b8c05d16b.txt  \n",
            " extracting: train/labels/cid_0_fr_2458_ts_00-01-42-519_jpg.rf.ce6cbe4db011339f9e13d6ec79768335.txt  \n",
            " extracting: train/labels/cid_0_fr_245_ts_00-00-08-174_jpg.rf.f44ba4a40cf8bda45488de9caa36009d.txt  \n",
            " extracting: train/labels/cid_0_fr_2465_ts_00-01-42-811_jpg.rf.5c4959c3a0e84f67f1720062202da83a.txt  \n",
            " extracting: train/labels/cid_0_fr_2501_ts_00-01-44-312_jpg.rf.8b5dfe6fa9607549e5cb7faf5b235c03.txt  \n",
            " extracting: train/labels/cid_0_fr_2524_ts_00-01-45-271_jpg.rf.f81ca4b70437d8fb26e4861a125a2122.txt  \n",
            " extracting: train/labels/cid_0_fr_2530_ts_00-01-41-200_jpg.rf.b4b349bcf232f12e359237e444813e0e.txt  \n",
            " extracting: train/labels/cid_0_fr_2533_ts_00-01-45-541_jpg.rf.703f38cfad4a7ce93998a5936a4f455a.txt  \n",
            " extracting: train/labels/cid_0_fr_2546_ts_00-01-46-189_jpg.rf.e3fcb1642ed123a330fb7bf045fe9c66.txt  \n",
            " extracting: train/labels/cid_0_fr_2563_ts_00-01-46-898_jpg.rf.1d9644adda38b63fb8e634b4cc791f5a.txt  \n",
            " extracting: train/labels/cid_0_fr_2565_ts_00-01-42-600_jpg.rf.775d6e5b9884e3ba3fa8484a84513b1a.txt  \n",
            " extracting: train/labels/cid_0_fr_2570_ts_00-01-47-190_jpg.rf.df5f93cf9098f369f6b92e0b71168e05.txt  \n",
            " extracting: train/labels/cid_0_fr_2572_ts_00-01-47-273_jpg.rf.b1a73fd2d2a02b500c5f2162e8dec6cf.txt  \n",
            " extracting: train/labels/cid_0_fr_2591_ts_00-01-48-066_jpg.rf.66ba7f97572591585b31ad7d5705ecfc.txt  \n",
            " extracting: train/labels/cid_0_fr_2593_ts_00-01-48-149_jpg.rf.ea4edeeaecd69f4df62710b8756ec423.txt  \n",
            " extracting: train/labels/cid_0_fr_2614_ts_00-01-49-025_jpg.rf.f7a8707c691d73aaddac40f8defed95d.txt  \n",
            " extracting: train/labels/cid_0_fr_2648_ts_00-01-45-920_jpg.rf.3a3a8078b5761fb7b83bad6b2d18ce04.txt  \n",
            " extracting: train/labels/cid_0_fr_2651_ts_00-01-50-568_jpg.rf.577ebd7e494524441c2c1b094ad8a509.txt  \n",
            " extracting: train/labels/cid_0_fr_2668_ts_00-01-46-720_jpg.rf.d404bc96842ecaefa00bf4d3c461b2ca.txt  \n",
            " extracting: train/labels/cid_0_fr_266_ts_00-00-11-094_jpg.rf.095a22a8276550571a2a1c8cf47ed48f.txt  \n",
            " extracting: train/labels/cid_0_fr_2734_ts_00-01-49-360_jpg.rf.564441be2b1012f3f212efe54487d099.txt  \n",
            " extracting: train/labels/cid_0_fr_2756_ts_00-01-54-948_jpg.rf.446e3dfca461d63952c1b9fa0772f999.txt  \n",
            " extracting: train/labels/cid_0_fr_2757_ts_00-01-54-989_jpg.rf.868812c00dfa73c4d03466ad6c6bcf0f.txt  \n",
            " extracting: train/labels/cid_0_fr_275_ts_00-00-09-175_jpg.rf.57934bc2304b56730685c3093248e3fd.txt  \n",
            " extracting: train/labels/cid_0_fr_2767_ts_00-01-55-406_jpg.rf.c1a05457d3c528bdba14fe60b0b6d1a0.txt  \n",
            " extracting: train/labels/cid_0_fr_2776_ts_00-01-55-782_jpg.rf.d772ed8745dfef66a612efb3eb997f17.txt  \n",
            " extracting: train/labels/cid_0_fr_2777_ts_00-01-55-824_jpg.rf.301e0ce06f7c627c6e4026f48695a2d6.txt  \n",
            " extracting: train/labels/cid_0_fr_2788_ts_00-01-56-282_jpg.rf.1dab4ef11ec89bdf6cb4d16ed3d9f8a8.txt  \n",
            " extracting: train/labels/cid_0_fr_2818_ts_00-01-57-534_jpg.rf.482ebf333ecd837de2350066ef5dc6f9.txt  \n",
            " extracting: train/labels/cid_0_fr_281_ts_00-00-11-720_jpg.rf.550a27d538c7ac6aa90e05ee2b74383b.txt  \n",
            " extracting: train/labels/cid_0_fr_2825_ts_00-01-57-826_jpg.rf.4cfa9b47557b3f05b02a8c307026aec7.txt  \n",
            " extracting: train/labels/cid_0_fr_2849_ts_00-01-58-708_jpg.rf.fce0e201cd0bc6fb341a739a67d2c83a.txt  \n",
            " extracting: train/labels/cid_0_fr_2856_ts_00-01-59-119_jpg.rf.f007586e68aeccea5974209707ef1ce8.txt  \n",
            " extracting: train/labels/cid_0_fr_286_ts_00-00-11-440_jpg.rf.63915d3769e845cc6b157967e60d74b9.txt  \n",
            " extracting: train/labels/cid_0_fr_2889_ts_00-01-55-560_jpg.rf.6e8ffa9f709fbf3fc2cabc0f9f7f0462.txt  \n",
            " extracting: train/labels/cid_0_fr_294_ts_00-00-09-809_jpg.rf.c0abe16ac768fbee190c1ef7b5b672b3.txt  \n",
            " extracting: train/labels/cid_0_fr_295_ts_00-00-12-303_jpg.rf.c934253997cd661e42e722890d1f5231.txt  \n",
            " extracting: train/labels/cid_0_fr_3001_ts_00-02-00-040_jpg.rf.dcf0e8d24cb53759bbc7df01a8ada03f.txt  \n",
            " extracting: train/labels/cid_0_fr_3041_ts_00-02-06-835_jpg.rf.eaf088e5e19fe0ef50d791300e1098eb.txt  \n",
            " extracting: train/labels/cid_0_fr_307_ts_00-00-12-804_jpg.rf.8aa86c847c40df8366d723b82c7ffd01.txt  \n",
            " extracting: train/labels/cid_0_fr_30_ts_00-00-01-251_jpg.rf.dc631bbae8563fd051ef50aa0f4a0774.txt  \n",
            " extracting: train/labels/cid_0_fr_3120_ts_00-02-10-130_jpg.rf.9bee1ea77fe1308bf854c224277405e0.txt  \n",
            " extracting: train/labels/cid_0_fr_3141_ts_00-02-11-005_jpg.rf.f3049c2ae4449fb384510fa7c549ceac.txt  \n",
            " extracting: train/labels/cid_0_fr_314_ts_00-00-13-096_jpg.rf.a115b1b5d395d6ff2739bae69edaf15b.txt  \n",
            " extracting: train/labels/cid_0_fr_3155_ts_00-02-06-200_jpg.rf.2478fb62a3d6aa1ffe36322629e3052a.txt  \n",
            " extracting: train/labels/cid_0_fr_315_ts_00-00-12-600_jpg.rf.a17cef0c6af2bd1aff2e4487acfad393.txt  \n",
            " extracting: train/labels/cid_0_fr_3189_ts_00-02-07-560_jpg.rf.b6271f9a8df0e54ca4caca2f873c05fb.txt  \n",
            " extracting: train/labels/cid_0_fr_3194_ts_00-02-13-216_jpg.rf.46acda50b7f17cf87233f434b9c223e5.txt  \n",
            " extracting: train/labels/cid_0_fr_3198_ts_00-02-13-250_jpg.rf.2e0e46299ac390fe28a605f8e7e1737c.txt  \n",
            " extracting: train/labels/cid_0_fr_31_ts_00-00-01-292_jpg.rf.422d44a58fe696aa84eea78acbb51cc6.txt  \n",
            " extracting: train/labels/cid_0_fr_3208_ts_00-02-13-800_jpg.rf.1be82f35a8c211c1be288202091634ca.txt  \n",
            " extracting: train/labels/cid_0_fr_3257_ts_00-02-15-844_jpg.rf.35b506564837df4ee9218b661b5f4a65.txt  \n",
            " extracting: train/labels/cid_0_fr_3278_ts_00-02-16-583_jpg.rf.3a587f59a8b222d7271a9d09b1f3828e.txt  \n",
            " extracting: train/labels/cid_0_fr_328_ts_00-00-13-680_jpg.rf.6fec17e9d627d65ca72e860c49d51772.txt  \n",
            " extracting: train/labels/cid_0_fr_333_ts_00-00-13-888_jpg.rf.2c4763eba3e32555084b32af782ad92e.txt  \n",
            " extracting: train/labels/cid_0_fr_348_ts_00-00-11-611_jpg.rf.781e64f4b138671c18034dbe72bbf6d7.txt  \n",
            " extracting: train/labels/cid_0_fr_3498_ts_00-02-25-895_jpg.rf.d1bcaa5f416dba68a60dce7f5ed14c11.txt  \n",
            " extracting: train/labels/cid_0_fr_3601_ts_00-02-30-191_jpg.rf.60974f94dfbbabe4314f1130804c6f89.txt  \n",
            " extracting: train/labels/cid_0_fr_3621_ts_00-02-24-840_jpg.rf.456f65e7e347bfded38ace0bc00156de.txt  \n",
            " extracting: train/labels/cid_0_fr_3628_ts_00-02-31-166_jpg.rf.8613a592cefc5113748c3e50633ffea6.txt  \n",
            " extracting: train/labels/cid_0_fr_3640_ts_00-02-25-600_jpg.rf.225c1cef1634b5ca92b1114027d3257e.txt  \n",
            " extracting: train/labels/cid_0_fr_364_ts_00-00-15-181_jpg.rf.916c0b79e99808a7a9c0101f22bfa155.txt  \n",
            " extracting: train/labels/cid_0_fr_3672_ts_00-02-26-880_jpg.rf.4af4699d739b699024e40eca5400804c.txt  \n",
            " extracting: train/labels/cid_0_fr_3677_ts_00-02-27-080_jpg.rf.ce4488d38618522e292ac9831c6b07a8.txt  \n",
            " extracting: train/labels/cid_0_fr_3703_ts_00-02-34-445_jpg.rf.06304a6dd29893ed72adae3d98c66621.txt  \n",
            " extracting: train/labels/cid_0_fr_3714_ts_00-02-34-904_jpg.rf.a46b4febe398bb47ac4fd76f23577039.txt  \n",
            " extracting: train/labels/cid_0_fr_3727_ts_00-02-35-446_jpg.rf.3be1c9bc0eb4b0a745b67e529afe0c0c.txt  \n",
            " extracting: train/labels/cid_0_fr_3758_ts_00-02-30-320_jpg.rf.632372971521c5aacf09aaf810326410.txt  \n",
            " extracting: train/labels/cid_0_fr_3774_ts_00-02-37-407_jpg.rf.a5c6a4c1da16c6e137c577ae9afb877e.txt  \n",
            " extracting: train/labels/cid_0_fr_3784_ts_00-02-37-666_jpg.rf.19fdd251c51c7083c95267089b3b9dab.txt  \n",
            " extracting: train/labels/cid_0_fr_378_ts_00-00-15-765_jpg.rf.91e6d3b522758646409bb3af020852d8.txt  \n",
            " extracting: train/labels/cid_0_fr_3799_ts_00-02-31-960_jpg.rf.c60ae4286d5af0ce9ab96f8110a39b96.txt  \n",
            " extracting: train/labels/cid_0_fr_3824_ts_00-02-39-492_jpg.rf.23188434f3692b48a3304c09395ea282.txt  \n",
            " extracting: train/labels/cid_0_fr_3841_ts_00-02-33-640_jpg.rf.b195e88cf2fbe95169cb0479f4733294.txt  \n",
            " extracting: train/labels/cid_0_fr_3846_ts_00-02-33-840_jpg.rf.498ab7f9b9c4533e985c472950c0fd17.txt  \n",
            " extracting: train/labels/cid_0_fr_384_ts_00-00-16-016_jpg.rf.c1b155acb552390113c5ca5c632577cc.txt  \n",
            " extracting: train/labels/cid_0_fr_3851_ts_00-02-34-040_jpg.rf.5206e7bd7a73213f4d011cc8d60dc0df.txt  \n",
            " extracting: train/labels/cid_0_fr_3870_ts_00-02-41-250_jpg.rf.b7bbdea8e0b2945f588e791d7573e8c8.txt  \n",
            " extracting: train/labels/cid_0_fr_3937_ts_00-02-44-205_jpg.rf.b718d9d96aa251f8663380f1f55559da.txt  \n",
            " extracting: train/labels/cid_0_fr_3946_ts_00-02-44-581_jpg.rf.28092859afee66d4f5f8eeb126f20465.txt  \n",
            " extracting: train/labels/cid_0_fr_3959_ts_00-02-44-958_jpg.rf.a47d811dd624de05adc14059c5cf9f75.txt  \n",
            " extracting: train/labels/cid_0_fr_395_ts_00-00-16-474-copy_jpg.rf.c6fbbb41b91c4ed52988e539fa6175e4.txt  \n",
            " extracting: train/labels/cid_0_fr_395_ts_00-00-16-474_jpg.rf.63ca1d61668d554713c6e19dd4a18e28.txt  \n",
            " extracting: train/labels/cid_0_fr_3982_ts_00-02-46-082_jpg.rf.34a78c7ad20b0b25f08f53640543c3b4.txt  \n",
            " extracting: train/labels/cid_0_fr_3986_ts_00-02-39-440_jpg.rf.c2d10e36f9ee2e54c7d2219b8513a96d.txt  \n",
            " extracting: train/labels/cid_0_fr_3999_ts_00-02-46-791_jpg.rf.aa8978cdd4a017061c063ab73a55a4fb.txt  \n",
            " extracting: train/labels/cid_0_fr_400_ts_00-00-13-346_jpg.rf.8907434318275460b5c2ce73c3164226.txt  \n",
            " extracting: train/labels/cid_0_fr_4029_ts_00-02-48-042_jpg.rf.0542eca1b9878eb3ef684c14a1013ea2.txt  \n",
            " extracting: train/labels/cid_0_fr_40_ts_00-00-01-668_jpg.rf.931be58bffaa2d146625c0314113a271.txt  \n",
            " extracting: train/labels/cid_0_fr_4121_ts_00-02-44-840_jpg.rf.ee44323e9ddb02bb58b6804837192c65.txt  \n",
            " extracting: train/labels/cid_0_fr_413_ts_00-00-17-225_jpg.rf.68d67136bd41eee42216f39e1edc1e33.txt  \n",
            " extracting: train/labels/cid_0_fr_4147_ts_00-02-45-880_jpg.rf.dc55a4e86f96fb637e9860ad3c01d96a.txt  \n",
            " extracting: train/labels/cid_0_fr_4150_ts_00-02-46-000_jpg.rf.be9c0929c78851c2a0c4cbe70f443b1d.txt  \n",
            " extracting: train/labels/cid_0_fr_4171_ts_00-02-46-840_jpg.rf.6923ebf7c20c5b135b8105065586250a.txt  \n",
            " extracting: train/labels/cid_0_fr_419_ts_00-00-17-475_jpg.rf.a6b70ab19ad9995d05d865d94f7b9169.txt  \n",
            " extracting: train/labels/cid_0_fr_4200_ts_00-02-48-000_jpg.rf.f78dc79dcfe4956701c3b0dc7e70b56a.txt  \n",
            " extracting: train/labels/cid_0_fr_420_ts_00-00-14-014_jpg.rf.30bf85a6885b9aea00ab9f60e6ec46f1.txt  \n",
            " extracting: train/labels/cid_0_fr_4225_ts_00-02-56-217_jpg.rf.234ce9b8423bcb43a6854d291f36c19d.txt  \n",
            " extracting: train/labels/cid_0_fr_4235_ts_00-02-49-400_jpg.rf.006b75409da3151731dcd308ab90333e.txt  \n",
            " extracting: train/labels/cid_0_fr_4260_ts_00-02-57-677_jpg.rf.80f55ef8ea7da6cdae091c6c143a1919.txt  \n",
            " extracting: train/labels/cid_0_fr_426_ts_00-00-17-767_jpg.rf.881420ab5bdfffaea04394ebe1d42a6f.txt  \n",
            " extracting: train/labels/cid_0_fr_4341_ts_00-02-53-640_jpg.rf.2346ca5be8e0cd460b97d4ccdf3fa312.txt  \n",
            " extracting: train/labels/cid_0_fr_4364_ts_00-02-54-560_jpg.rf.d3b7045dd3a19119c2fdaebf7f4f5b08.txt  \n",
            " extracting: train/labels/cid_0_fr_43_ts_00-00-01-793_jpg.rf.887e78202da786e226355571a6f114f2.txt  \n",
            " extracting: train/labels/cid_0_fr_444_ts_00-00-18-518_jpg.rf.f45fbea0bafefc181458195b73b6beac.txt  \n",
            " extracting: train/labels/cid_0_fr_4450_ts_00-02-58-000_jpg.rf.135ff36de5052540ba9cbadfdc6eb8c0.txt  \n",
            " extracting: train/labels/cid_0_fr_4459_ts_00-02-58-360_jpg.rf.dae849630d86e36540eb51eff91f36d5.txt  \n",
            " extracting: train/labels/cid_0_fr_4466_ts_00-02-58-640_jpg.rf.b88e704791ed74478f61b1d052ead498.txt  \n",
            " extracting: train/labels/cid_0_fr_4478_ts_00-02-59-120_jpg.rf.57102c109fa9673781c87e446efe7df0.txt  \n",
            " extracting: train/labels/cid_0_fr_4485_ts_00-03-07-061_jpg.rf.814d94d26d59106b56c72ad52fe99586.txt  \n",
            " extracting: train/labels/cid_0_fr_4486_ts_00-03-07-103_jpg.rf.f6298354dd4b8bc5ca78c487930b560e.txt  \n",
            " extracting: train/labels/cid_0_fr_4503_ts_00-03-07-812_jpg.rf.373df5e21bac3f4a8b45871a2c33774a.txt  \n",
            " extracting: train/labels/cid_0_fr_450_ts_00-00-18-768_jpg.rf.92439ab02f34e458a63bcf0686359763.txt  \n",
            " extracting: train/labels/cid_0_fr_4517_ts_00-03-00-680_jpg.rf.9920ac8bc4d97fe14e9aadc2368d8533.txt  \n",
            " extracting: train/labels/cid_0_fr_458_ts_00-00-19-102_jpg.rf.d0ace24efc8c7a95bc78a3ac78043162.txt  \n",
            " extracting: train/labels/cid_0_fr_4626_ts_00-03-12-942_jpg.rf.122651029ef0e691e00c43c9a09688ad.txt  \n",
            " extracting: train/labels/cid_0_fr_4627_ts_00-03-12-984_jpg.rf.c3239ba8c4e5491fad03c52cf04ba450.txt  \n",
            " extracting: train/labels/cid_0_fr_4655_ts_00-03-14-152_jpg.rf.da48d1a12ea4a769bdca7469ee4f4b2c.txt  \n",
            " extracting: train/labels/cid_0_fr_4669_ts_00-03-14-541_jpg.rf.05147f6f2a758210912474b7202b343a.txt  \n",
            " extracting: train/labels/cid_0_fr_4689_ts_00-03-15-570_jpg.rf.1abc5f08b304ea6fdf056964f8f08285.txt  \n",
            " extracting: train/labels/cid_0_fr_469_ts_00-00-19-561_jpg.rf.53dbb18ad4bf41f6cf38272734eb543d.txt  \n",
            " extracting: train/labels/cid_0_fr_4704_ts_00-03-16-196_jpg.rf.8b281fad104f7ac5701c7066acd4b5e0.txt  \n",
            " extracting: train/labels/cid_0_fr_472_ts_00-00-19-686_jpg.rf.d375223bc9f905d2bf21627746d804ec.txt  \n",
            " extracting: train/labels/cid_0_fr_479_ts_00-00-19-978_jpg.rf.58ac00fe8411a65668ec48e91f2c8e5e.txt  \n",
            " extracting: train/labels/cid_0_fr_481_ts_00-00-20-061_jpg.rf.f40fdc68f2a6509c58fdccd56c7b6604.txt  \n",
            " extracting: train/labels/cid_0_fr_4850_ts_00-03-22-285_jpg.rf.a5b85ecabfaa4b55379eb68a2c2cd052.txt  \n",
            " extracting: train/labels/cid_0_fr_485_ts_00-00-16-182_jpg.rf.53ed032528f82f2647d3e98df3636e30.txt  \n",
            " extracting: train/labels/cid_0_fr_492_ts_00-00-20-520_jpg.rf.c8df25df22415fc83791b6308694c528.txt  \n",
            " extracting: train/labels/cid_0_fr_495_ts_00-00-16-516_jpg.rf.d9dd0cedf189ef1da32b6f3b817dcc47.txt  \n",
            " extracting: train/labels/cid_0_fr_4980_ts_00-03-19-200_jpg.rf.7b8a33815ec40969e4f41a8023bb236c.txt  \n",
            " extracting: train/labels/cid_0_fr_5005_ts_00-03-28-750_jpg.rf.baec52a4e2ee400d2addc2604e03699d.txt  \n",
            " extracting: train/labels/cid_0_fr_5067_ts_00-03-31-336_jpg.rf.a151b34ee229c25ddd7784196d41e67e.txt  \n",
            " extracting: train/labels/cid_0_fr_5073_ts_00-03-31-586_jpg.rf.a8631936b2216f92194c43a7c9cea3bb.txt  \n",
            " extracting: train/labels/cid_0_fr_5093_ts_00-03-32-420_jpg.rf.2ecde45bd45d0b57b4d2f15d95cd8cb9.txt  \n",
            " extracting: train/labels/cid_0_fr_5101_ts_00-03-32-541_jpg.rf.22f63da48077df6b6528e2f125cdb852.txt  \n",
            " extracting: train/labels/cid_0_fr_5101_ts_00-03-32-754_jpg.rf.5bfb70435de3c22a4b1c5cb28afbcf08.txt  \n",
            " extracting: train/labels/cid_0_fr_5111_ts_00-03-33-171_jpg.rf.0a3d480435bc5ee90d58a6eeee3e323f.txt  \n",
            " extracting: train/labels/cid_0_fr_5113_ts_00-03-33-254_jpg.rf.0adb435b65a6bfcf39143e66b772521b.txt  \n",
            " extracting: train/labels/cid_0_fr_5117_ts_00-03-33-421_jpg.rf.d6f5f5f04125151a5c523bd1cdc0df62.txt  \n",
            " extracting: train/labels/cid_0_fr_5126_ts_00-03-33-796_jpg.rf.5fc0ca126458cdb9862dec683dec7811.txt  \n",
            " extracting: train/labels/cid_0_fr_5169_ts_00-03-35-590_jpg.rf.c4a724bc34d757a0a0736075ff95eb79.txt  \n",
            " extracting: train/labels/cid_0_fr_521_ts_00-00-20-840_jpg.rf.2a870a8594e127565b93b837d49db4d0.txt  \n",
            " extracting: train/labels/cid_0_fr_5225_ts_00-03-37-926_jpg.rf.6332c5c28b133b6431e15ed2159cb23d.txt  \n",
            " extracting: train/labels/cid_0_fr_5234_ts_00-03-29-360_jpg.rf.d17bf39288473c429d4fc3ad1aba4e70.txt  \n",
            " extracting: train/labels/cid_0_fr_5310_ts_00-03-41-471_jpg.rf.150ce9510144722f917e1a270440363a.txt  \n",
            " extracting: train/labels/cid_0_fr_5328_ts_00-03-42-222_jpg.rf.6d095c26ae2a2f48bbc37d99a7d2c9ff.txt  \n",
            " extracting: train/labels/cid_0_fr_5346_ts_00-03-42-972_jpg.rf.38944a68909f1aed11bc4d7b180dbd20.txt  \n",
            " extracting: train/labels/cid_0_fr_534_ts_00-00-22-272_jpg.rf.00c7e7ec5ffb0a804fe72fb0516f67eb.txt  \n",
            " extracting: train/labels/cid_0_fr_5361_ts_00-03-43-598_jpg.rf.94502145a751536eb3b4aa0a0029e928.txt  \n",
            " extracting: train/labels/cid_0_fr_5396_ts_00-03-45-058_jpg.rf.79c2cb31163e47951c71672abc9cd8fc.txt  \n",
            " extracting: train/labels/cid_0_fr_5443_ts_00-03-37-720_jpg.rf.5359cbdaf425f9dcbe94da7f3b8e7396.txt  \n",
            " extracting: train/labels/cid_0_fr_5470_ts_00-03-48-144_jpg.rf.b32c4d24de5968c0576ac7f0f1b72580.txt  \n",
            " extracting: train/labels/cid_0_fr_5472_ts_00-03-48-228_jpg.rf.57ca241de3bb47145e50eb2eb9b3a6a9.txt  \n",
            " extracting: train/labels/cid_0_fr_5485_ts_00-03-48-770_jpg.rf.6bfbe11892cfa024d139d7a74158e9b2.txt  \n",
            " extracting: train/labels/cid_0_fr_5525_ts_00-03-41-000_jpg.rf.a51d6adb5a7d2c7d01a78f183f292bc9.txt  \n",
            " extracting: train/labels/cid_0_fr_553_ts_00-00-23-064_jpg.rf.3cf181272c9b12b9bb277822e54b1c6f.txt  \n",
            " extracting: train/labels/cid_0_fr_5541_ts_00-03-51-105_jpg.rf.020d21e7ebd76c9a289ed67f2591b9a4.txt  \n",
            " extracting: train/labels/cid_0_fr_5547_ts_00-03-41-880_jpg.rf.e173dfc103893c4654457a8f9dcc5195.txt  \n",
            " extracting: train/labels/cid_0_fr_5555_ts_00-03-42-200_jpg.rf.c3736f0b35f0cc451ff8413e2340d84c.txt  \n",
            " extracting: train/labels/cid_0_fr_5560_ts_00-03-42-400_jpg.rf.dcfb1fa51b2098b8cc793c51b73b321b.txt  \n",
            " extracting: train/labels/cid_0_fr_5571_ts_00-03-42-840_jpg.rf.df3f94b9ed35c0d2042818b7633197d3.txt  \n",
            " extracting: train/labels/cid_0_fr_5586_ts_00-03-43-440_jpg.rf.cae2fd90accca745274b67d4bc408bd5.txt  \n",
            " extracting: train/labels/cid_0_fr_5598_ts_00-03-43-920_jpg.rf.2a1224f7e06982da4b458323645bce8b.txt  \n",
            " extracting: train/labels/cid_0_fr_559_ts_00-00-18-651_jpg.rf.3c195b301c7e80ebc609f6098b226bf7.txt  \n",
            " extracting: train/labels/cid_0_fr_5684_ts_00-03-57-070_jpg.rf.bdd798f6b2c40d326a8c6699f090edd0.txt  \n",
            " extracting: train/labels/cid_0_fr_572_ts_00-00-22-880_jpg.rf.a078447e51d1f59126b0ec13518cbb9f.txt  \n",
            " extracting: train/labels/cid_0_fr_5736_ts_00-03-49-440_jpg.rf.81efab5ac0c28a58d149367e867264df.txt  \n",
            " extracting: train/labels/cid_0_fr_575_ts_00-00-19-185_jpg.rf.901e8e5cec156b7fa74ab97848ae902e.txt  \n",
            " extracting: train/labels/cid_0_fr_5817_ts_00-04-02-617_jpg.rf.d1bdc6b6b132c54e3341698d48713ff9.txt  \n",
            " extracting: train/labels/cid_0_fr_581_ts_00-00-24-232_jpg.rf.42690cdbdb2e0f5d4710a0cf55d52dea.txt  \n",
            " extracting: train/labels/cid_0_fr_5934_ts_00-04-07-497_jpg.rf.e8e3e51b7a0cf67c4214a1362e3e9bdb.txt  \n",
            " extracting: train/labels/cid_0_fr_5949_ts_00-04-08-122_jpg.rf.d976b7689d9cba74ec9698de322145fb.txt  \n",
            " extracting: train/labels/cid_0_fr_5965_ts_00-03-58-600_jpg.rf.364ad8aeb70b3e19440bc226f0048402.txt  \n",
            " extracting: train/labels/cid_0_fr_6014_ts_00-04-10-833_jpg.rf.dea6fb741a9ce0a4976a257a9051741f.txt  \n",
            " extracting: train/labels/cid_0_fr_6023_ts_00-04-00-920_jpg.rf.008f3d70ad3ecad784c1c9b3ddfdeb53.txt  \n",
            " extracting: train/labels/cid_0_fr_6035_ts_00-04-11-709_jpg.rf.f8147693efaa40736a8c4daa893774e8.txt  \n",
            " extracting: train/labels/cid_0_fr_6043_ts_00-04-12-043_jpg.rf.c3a3d23dd755c48021572cba8d6b5afc.txt  \n",
            " extracting: train/labels/cid_0_fr_6048_ts_00-04-01-920_jpg.rf.1af63faf1f22b383a5c8a58a0f5054f6.txt  \n",
            " extracting: train/labels/cid_0_fr_6066_ts_00-04-02-640_jpg.rf.68b2dc6b34d2cdf05ce63b0763aa52f2.txt  \n",
            " extracting: train/labels/cid_0_fr_6114_ts_00-04-04-560_jpg.rf.1d7a92b35f81c7ef5008ccc1de99aca0.txt  \n",
            " extracting: train/labels/cid_0_fr_6129_ts_00-04-15-630_jpg.rf.2b8c3daaa6b0b4218dae1e21ee27c801.txt  \n",
            " extracting: train/labels/cid_0_fr_6207_ts_00-04-18-883_jpg.rf.dd3659f42dfab91a40ccd8708badf03d.txt  \n",
            " extracting: train/labels/cid_0_fr_6240_ts_00-04-09-600_jpg.rf.c754367d1d6aad95e20175b4013ba826.txt  \n",
            " extracting: train/labels/cid_0_fr_6244_ts_00-04-09-760_jpg.rf.c4d8b7f4342acdc098bf4686f69f9d4f.txt  \n",
            " extracting: train/labels/cid_0_fr_6248_ts_00-04-09-920_jpg.rf.9b538a63ce35f02a1ccb95df7ca25828.txt  \n",
            " extracting: train/labels/cid_0_fr_6254_ts_00-04-20-843_jpg.rf.1759d333406d448783695cafce67e8c2.txt  \n",
            " extracting: train/labels/cid_0_fr_6270_ts_00-04-21-511_jpg.rf.bcf5572d770d546d5b400b1d61b5d849.txt  \n",
            " extracting: train/labels/cid_0_fr_6273_ts_00-04-21-636_jpg.rf.1d9ab1cb45790582098ec39e27e4c7eb.txt  \n",
            " extracting: train/labels/cid_0_fr_628_ts_00-00-26-192_jpg.rf.2108b11bfae22b220f01ce62dbd0e8a6.txt  \n",
            " extracting: train/labels/cid_0_fr_6296_ts_00-04-22-595_jpg.rf.74e8225921ff7b6ee3ff093497fd3cb4.txt  \n",
            " extracting: train/labels/cid_0_fr_629_ts_00-00-25-160_jpg.rf.2b1e05593cc5d237a44561c69f13af36.txt  \n",
            " extracting: train/labels/cid_0_fr_6306_ts_00-04-23-012_jpg.rf.dbf3aa05643b5795df0370d7575e100b.txt  \n",
            " extracting: train/labels/cid_0_fr_6311_ts_00-04-23-221_jpg.rf.1b635852294bb2af8a0596ac790a4c69.txt  \n",
            " extracting: train/labels/cid_0_fr_6321_ts_00-04-23-638_jpg.rf.5472719ac2cb1b7d5824ef39dd500a98.txt  \n",
            " extracting: train/labels/cid_0_fr_6345_ts_00-04-24-639_jpg.rf.c902836ddf1f84fc59c9e30216e54667.txt  \n",
            " extracting: train/labels/cid_0_fr_634_ts_00-00-26-443_jpg.rf.80ae2a952f3163a4a04de4939644d4cd.txt  \n",
            " extracting: train/labels/cid_0_fr_6391_ts_00-04-26-557_jpg.rf.e3070eaf5edd644435310a5d97bd2981.txt  \n",
            " extracting: train/labels/cid_0_fr_6460_ts_00-04-29-435_jpg.rf.88b493115ef0028bc9d1b36e09a9e941.txt  \n",
            " extracting: train/labels/cid_0_fr_6462_ts_00-04-29-519_jpg.rf.13f8c98f734a8036ce15e0bd1ae6950d.txt  \n",
            " extracting: train/labels/cid_0_fr_6501_ts_00-04-31-145_jpg.rf.62cad6e65d1860864c2f462a4cd2f4d6.txt  \n",
            " extracting: train/labels/cid_0_fr_6539_ts_00-04-32-730_jpg.rf.1bb9fb1ea098e43ff354e9aab4587aff.txt  \n",
            " extracting: train/labels/cid_0_fr_6553_ts_00-04-33-314_jpg.rf.17013a862901aa743574efb3f619eb25.txt  \n",
            " extracting: train/labels/cid_0_fr_655_ts_00-00-27-318_jpg.rf.9bd5c8733d974d0c33c606bc8688ffde.txt  \n",
            " extracting: train/labels/cid_0_fr_6588_ts_00-04-34-774_jpg.rf.9de15ead35b2418deedbe6f6b68312e3.txt  \n",
            " extracting: train/labels/cid_0_fr_6593_ts_00-04-34-983_jpg.rf.3edfbb197b5ba8d651958b7707ee8918.txt  \n",
            " extracting: train/labels/cid_0_fr_6739_ts_00-04-41-072_jpg.rf.c6e720c9972725fe7b3c752a4dd96e71.txt  \n",
            " extracting: train/labels/cid_0_fr_676_ts_00-00-27-040_jpg.rf.e712c217bc029dafc6b871e8127c3da4.txt  \n",
            " extracting: train/labels/cid_0_fr_683_ts_00-00-28-486_jpg.rf.152f1a1698f7aa7fd931d92cd1f50918.txt  \n",
            " extracting: train/labels/cid_0_fr_69_ts_00-00-02-877_jpg.rf.f04d9e0643d3f011011fbdf905b127b6.txt  \n",
            " extracting: train/labels/cid_0_fr_701_ts_00-00-29-237_jpg.rf.04fff6e6906ef64448e5eb4bec77aa86.txt  \n",
            " extracting: train/labels/cid_0_fr_701_ts_00-00-29-237_jpg.rf.d77dfe2e1e7d61759f3db230f233ff8e.txt  \n",
            " extracting: train/labels/cid_0_fr_7130_ts_00-04-57-380_jpg.rf.b3b7b8b99132e2d089fa1032bd025c67.txt  \n",
            " extracting: train/labels/cid_0_fr_713_ts_00-00-29-738_jpg.rf.3cef09c8f63317472da4564aa6ad49f9.txt  \n",
            " extracting: train/labels/cid_0_fr_72_ts_00-00-02-402_jpg.rf.d05240468f6f14dff2408b6142d883e2.txt  \n",
            " extracting: train/labels/cid_0_fr_730_ts_00-00-30-447_jpg.rf.c182207dc0cce3d12891791893db0abb.txt  \n",
            " extracting: train/labels/cid_0_fr_7311_ts_00-05-04-929_jpg.rf.cc3f8ca25f6a24dab8a20d889b764e8c.txt  \n",
            " extracting: train/labels/cid_0_fr_737_ts_00-00-29-480_jpg.rf.d40df93f1899eee08e11e04a0eeaa517.txt  \n",
            " extracting: train/labels/cid_0_fr_746_ts_00-00-31-114_jpg.rf.d745fc23e061842a39b0e6ac9cdc4d0b.txt  \n",
            " extracting: train/labels/cid_0_fr_751_ts_00-00-31-322_jpg.rf.221b595f56e96875f73e1ccafcb501bd.txt  \n",
            " extracting: train/labels/cid_0_fr_753_ts_00-00-31-406_jpg.rf.b2dfb11f7f68db9080f91f670dc0fdf2.txt  \n",
            " extracting: train/labels/cid_0_fr_7562_ts_00-05-15-398_jpg.rf.78ef3d20e8d60ef6320dbce2853e424e.txt  \n",
            " extracting: train/labels/cid_0_fr_759_ts_00-00-31-656_jpg.rf.2f75bd70e71493b693961f986f9be75c.txt  \n",
            " extracting: train/labels/cid_0_fr_7644_ts_00-05-18-818_jpg.rf.eefeffa1bb387c9340f2253c7cb53c18.txt  \n",
            " extracting: train/labels/cid_0_fr_766_ts_00-00-31-948-copy_jpg.rf.e094428c71eb5652b80a938bd19ba085.txt  \n",
            " extracting: train/labels/cid_0_fr_772_ts_00-00-32-198_jpg.rf.911518830e4b2534303ef9d6d118d944.txt  \n",
            " extracting: train/labels/cid_0_fr_7945_ts_00-05-31-372_jpg.rf.bc58923124f013c39afde4912172a9d7.txt  \n",
            " extracting: train/labels/cid_0_fr_804_ts_00-00-33-533_jpg.rf.a92620b5e2e7ec76acd3e1a2322431d9.txt  \n",
            " extracting: train/labels/cid_0_fr_8082_ts_00-05-37-086_jpg.rf.2a6a9e47bc67257fd6560850baf84862.txt  \n",
            " extracting: train/labels/cid_0_fr_816_ts_00-00-32-640_jpg.rf.92de6207c305582b47ee66ca21ea4a13.txt  \n",
            " extracting: train/labels/cid_0_fr_8308_ts_00-05-46-512_jpg.rf.3805fdd477d6e097ba0369f3080d0e20.txt  \n",
            " extracting: train/labels/cid_0_fr_8554_ts_00-05-56-773_jpg.rf.0a43a2fcf179c9a262a0cf19efe24f12.txt  \n",
            " extracting: train/labels/cid_0_fr_887_ts_00-00-36-995_jpg.rf.5628378f6e1b036a1241b256b20ef0ce.txt  \n",
            " extracting: train/labels/cid_0_fr_8987_ts_00-06-14-832_jpg.rf.f6dfd300d1754602acb68333b44e9621.txt  \n",
            " extracting: train/labels/cid_0_fr_907_ts_00-00-30-263_jpg.rf.e34babde02728988652ac96ebb7c101c.txt  \n",
            " extracting: train/labels/cid_0_fr_912_ts_00-00-38-038_jpg.rf.56ffb435d4ea2b66e1c70c92fbf72661.txt  \n",
            " extracting: train/labels/cid_0_fr_915_ts_00-00-38-163_jpg.rf.5ff4a8294d734203e49e1ac10f2cbb09.txt  \n",
            " extracting: train/labels/cid_0_fr_9343_ts_00-06-29-680_jpg.rf.faa7f0cb2d459668318cfe09387904cd.txt  \n",
            " extracting: train/labels/cid_0_fr_961_ts_00-00-38-440_jpg.rf.ba6ce1e745a7d71880be55197a0514f4.txt  \n",
            " extracting: train/labels/cid_0_fr_962_ts_00-00-40-123_jpg.rf.d4be16c8c2512e4579d70b98df0cd6e6.txt  \n",
            " extracting: train/labels/cid_0_fr_969_ts_00-00-40-415_jpg.rf.64e941b57cfc3610239677aa1a4d3554.txt  \n",
            " extracting: train/labels/cid_0_fr_9735_ts_00-06-45-625_jpg.rf.f20643b197095b9af7a680f5e3f5d6e7.txt  \n",
            " extracting: train/labels/cid_0_fr_986_ts_00-00-41-124_jpg.rf.ce3bfe31ccef236c920ec9ed7aa2609a.txt  \n",
            " extracting: train/labels/cid_0_fr_995_ts_00-00-41-499_jpg.rf.780c76b5fe5d3b7438d087fd7444d26f.txt  \n",
            " extracting: train/labels/cid_0_fr_9961_ts_00-06-55-456_jpg.rf.c2c9a0d33b2994a5d1c35f741cf2c557.txt  \n",
            " extracting: train/labels/dentist15_cid_0_fr_1052_ts_00-00-35-101_jpg.rf.ad6a3665b25acda0099a3a0497b62638.txt  \n",
            " extracting: train/labels/dentist15_cid_0_fr_1117_ts_00-00-37-270_jpg.rf.639a1d13f02fdc9403c026908d376a94.txt  \n",
            " extracting: train/labels/dentist15_cid_0_fr_1135_ts_00-00-37-871_jpg.rf.e5db5e0ef0302bce885f56749c3dcae4.txt  \n",
            " extracting: train/labels/dentist15_cid_0_fr_1153_ts_00-00-38-471_jpg.rf.491e342e00d5eae615be83c3b5012ba9.txt  \n",
            " extracting: train/labels/dentist15_cid_0_fr_1185_ts_00-00-39-539_jpg.rf.00050d8d65bedddf3abace28b81572a8.txt  \n",
            " extracting: train/labels/dentist15_cid_0_fr_1225_ts_00-00-40-874_jpg.rf.0abfe453b073a6cdc16dbe117350cd0f.txt  \n",
            " extracting: train/labels/dentist15_cid_0_fr_1258_ts_00-00-41-975_jpg.rf.98f227dcabe62c0c0097e27cdd390ad4.txt  \n",
            " extracting: train/labels/dentist15_cid_0_fr_1296_ts_00-00-43-243_jpg.rf.18ea63537effbc891be7da694fd9476b.txt  \n",
            " extracting: train/labels/dentist15_cid_0_fr_1348_ts_00-00-44-978_jpg.rf.8e86c8607425e7f2ab2bf93439192254.txt  \n",
            " extracting: train/labels/dentist15_cid_0_fr_1375_ts_00-00-45-879_jpg.rf.677db4dfbad966f7bc0aa7f3750333d7.txt  \n",
            " extracting: train/labels/dentist15_cid_0_fr_1428_ts_00-00-47-647_jpg.rf.53b1b4db876ae5cadefe517bbb1283fa.txt  \n",
            " extracting: train/labels/dentist15_cid_0_fr_1449_ts_00-00-48-348_jpg.rf.62b6237c0ef6394d6ea9ff89691f4f3d.txt  \n",
            " extracting: train/labels/dentist15_cid_0_fr_1483_ts_00-00-49-482_jpg.rf.74b217ea6d44d8408094be88c5c9d476.txt  \n",
            " extracting: train/labels/dentist15_cid_0_fr_1613_ts_00-00-53-820_jpg.rf.323b77b5e0f14dd72da404779caa87f8.txt  \n",
            " extracting: train/labels/dentist15_cid_0_fr_1649_ts_00-00-55-021_jpg.rf.384e015e0923ebf2f7ae6873175583ae.txt  \n",
            " extracting: train/labels/dentist15_cid_0_fr_1685_ts_00-00-56-222_jpg.rf.e57aa97b8c488df7e305e54118ff5518.txt  \n",
            " extracting: train/labels/dentist15_cid_0_fr_1725_ts_00-00-57-557_jpg.rf.405970fbf1aecd86230944dfebe05720.txt  \n",
            " extracting: train/labels/dentist15_cid_0_fr_1841_ts_00-01-01-428_jpg.rf.d62df156a027add13520f2e1732257d3.txt  \n",
            " extracting: train/labels/dentist15_cid_0_fr_1875_ts_00-01-02-562_jpg.rf.ea6ab0ebc0cd9bc41913fef24a9ef70f.txt  \n",
            " extracting: train/labels/dentist15_cid_0_fr_1888_ts_00-01-02-996_jpg.rf.23d55c25a43448f2a80a463a825163a2.txt  \n",
            " extracting: train/labels/dentist15_cid_0_fr_1889_ts_00-01-03-029_jpg.rf.8d4c47160af9b49e5a25392edbf597be.txt  \n",
            " extracting: train/labels/dentist15_cid_0_fr_1891_ts_00-01-03-096_jpg.rf.71f50cbcbc3da4812460dcb45238841c.txt  \n",
            " extracting: train/labels/dentist15_cid_0_fr_1893_ts_00-01-03-163_jpg.rf.619b775f7c663a551b3f051c3d4e9826.txt  \n",
            " extracting: train/labels/dentist15_cid_0_fr_1909_ts_00-01-03-696_jpg.rf.a4fd14a96144b2aee4f7f96d9f849b22.txt  \n",
            " extracting: train/labels/dentist15_cid_0_fr_1911_ts_00-01-03-763_jpg.rf.fd16f7fccf0135ea10637c8d691b62f4.txt  \n",
            " extracting: train/labels/dentist15_cid_0_fr_1936_ts_00-01-04-597_jpg.rf.30ee8249f52622ff06ab73902e1b4e60.txt  \n",
            " extracting: train/labels/dentist15_cid_0_fr_1948_ts_00-01-04-998_jpg.rf.7da77a220e393fd72a86b6ace1743b9c.txt  \n",
            " extracting: train/labels/dentist15_cid_0_fr_1959_ts_00-01-05-365_jpg.rf.b8f7be0c7d128c2a113b14189ca10f76.txt  \n",
            " extracting: train/labels/dentist15_cid_0_fr_195_ts_00-00-06-506_jpg.rf.263ec6e691bf3c1e52882dc535deeabf.txt  \n",
            " extracting: train/labels/dentist15_cid_0_fr_1999_ts_00-01-06-699_jpg.rf.5b22b5e0999c64ff04c481287fdb81ab.txt  \n",
            " extracting: train/labels/dentist15_cid_0_fr_2029_ts_00-01-07-700_jpg.rf.5245f5158f71098999780121be0ec5fd.txt  \n",
            " extracting: train/labels/dentist15_cid_0_fr_2042_ts_00-01-08-134_jpg.rf.3ed635d9f9d9337acc547cc3552c1134.txt  \n",
            " extracting: train/labels/dentist15_cid_0_fr_2048_ts_00-01-08-334_jpg.rf.528c37c2ddcfda4af15188fe5288dcfc.txt  \n",
            " extracting: train/labels/dentist15_cid_0_fr_2054_ts_00-01-08-535_jpg.rf.01d4a3f0d0a3bae1bd187c18b2150042.txt  \n",
            " extracting: train/labels/dentist15_cid_0_fr_2055_ts_00-01-08-568_jpg.rf.c3cf9250922410dd9dfda0604cce1441.txt  \n",
            " extracting: train/labels/dentist15_cid_0_fr_2078_ts_00-01-09-335_jpg.rf.d12f00bb00f84f53c36f87a3e200bf3f.txt  \n",
            " extracting: train/labels/dentist15_cid_0_fr_215_ts_00-00-07-173_jpg.rf.5d395a7c2deff7e88aec087aa60c038e.txt  \n",
            " extracting: train/labels/dentist15_cid_0_fr_2170_ts_00-01-12-405_jpg.rf.cb7859cd20cf2056082f574a3c80babe.txt  \n",
            " extracting: train/labels/dentist15_cid_0_fr_2201_ts_00-01-13-440_jpg.rf.905f70bdcedecdb789a91314175a6541.txt  \n",
            " extracting: train/labels/dentist15_cid_0_fr_2232_ts_00-01-14-474_jpg.rf.47edaaed64741f98ae603941223f90fe.txt  \n",
            " extracting: train/labels/dentist15_cid_0_fr_2261_ts_00-01-15-442_jpg.rf.b49040d2eb2f4450d55c438ebce9eee6.txt  \n",
            " extracting: train/labels/dentist15_cid_0_fr_2272_ts_00-01-15-809_jpg.rf.0e0755249fb30bb7bb9e1e3198bcafc8.txt  \n",
            " extracting: train/labels/dentist15_cid_0_fr_2290_ts_00-01-16-409_jpg.rf.8235925206e1cc0ae0bdca57423891d3.txt  \n",
            " extracting: train/labels/dentist15_cid_0_fr_2315_ts_00-01-17-243_jpg.rf.9725c6cb6e024e181faaa8db3e73d433.txt  \n",
            " extracting: train/labels/dentist15_cid_0_fr_2340_ts_00-01-18-078_jpg.rf.b1fe8ec7d86357c3d7b135c2b1d4be6d.txt  \n",
            " extracting: train/labels/dentist15_cid_0_fr_2450_ts_00-01-21-748_jpg.rf.98cc77c54053e93473cbde7b1553b4f8.txt  \n",
            " extracting: train/labels/dentist15_cid_0_fr_2512_ts_00-01-23-817_jpg.rf.1a6c67c52011cbc640da881ae41b0d99.txt  \n",
            " extracting: train/labels/dentist15_cid_0_fr_2525_ts_00-01-24-250_jpg.rf.afd524bb246c4227602a950e75fcf99b.txt  \n",
            " extracting: train/labels/dentist15_cid_0_fr_2526_ts_00-01-24-284_jpg.rf.2ef134e5a54d5ff6bb01b06d7ccaf9ce.txt  \n",
            " extracting: train/labels/dentist15_cid_0_fr_258_ts_00-00-08-608_jpg.rf.265679627d684fa32abddf47fb351e32.txt  \n",
            " extracting: train/labels/dentist15_cid_0_fr_2590_ts_00-01-26-419_jpg.rf.dc30209a7b37e66c2f39aeab081178f0.txt  \n",
            " extracting: train/labels/dentist15_cid_0_fr_2613_ts_00-01-27-187_jpg.rf.06119301b89614d9a60e0adf83d93fc0.txt  \n",
            " extracting: train/labels/dentist15_cid_0_fr_2616_ts_00-01-27-287_jpg.rf.d62895e939ee4925f96e134728af9341.txt  \n",
            " extracting: train/labels/dentist15_cid_0_fr_2631_ts_00-01-27-787_jpg.rf.b13c4d4077c2db28e759733476e922c8.txt  \n",
            " extracting: train/labels/dentist15_cid_0_fr_2638_ts_00-01-28-021_jpg.rf.1cddc105b453a8e75f8c7409e96e9927.txt  \n",
            " extracting: train/labels/dentist15_cid_0_fr_267_ts_00-00-08-908_jpg.rf.fc77ee69d2ac9311effc1e0d428b5ee9.txt  \n",
            " extracting: train/labels/dentist15_cid_0_fr_2696_ts_00-01-29-956_jpg.rf.6f55879a81123b1b50fdd049ea939570.txt  \n",
            " extracting: train/labels/dentist15_cid_0_fr_2721_ts_00-01-30-790_jpg.rf.e44d5dbac9fad98d1508b4ce622ad935.txt  \n",
            " extracting: train/labels/dentist15_cid_0_fr_2723_ts_00-01-30-857_jpg.rf.ed69ab9aa592c42539321005f368dbc7.txt  \n",
            " extracting: train/labels/dentist15_cid_0_fr_2725_ts_00-01-30-924_jpg.rf.94ed17d30ab857fca4f4068974363298.txt  \n",
            " extracting: train/labels/dentist15_cid_0_fr_2734_ts_00-01-31-224_jpg.rf.341b111011c8235c0fd4c6995a04c34d.txt  \n",
            " extracting: train/labels/dentist15_cid_0_fr_2749_ts_00-01-31-724_jpg.rf.85a5c7fde36c576f6c0e34cc46630800.txt  \n",
            " extracting: train/labels/dentist15_cid_0_fr_274_ts_00-00-09-142_jpg.rf.85e2e54fed6da29648a63578751e200f.txt  \n",
            " extracting: train/labels/dentist15_cid_0_fr_2786_ts_00-01-32-959_jpg.rf.738a437b136fd30f1bf8aa35bb756c78.txt  \n",
            " extracting: train/labels/dentist15_cid_0_fr_282_ts_00-00-09-409_jpg.rf.618540a16aaa9c55c44c295669d7cc26.txt  \n",
            " extracting: train/labels/dentist15_cid_0_fr_2839_ts_00-01-34-727_jpg.rf.f58a959f76ef38b08db40ff635ce4708.txt  \n",
            " extracting: train/labels/dentist15_cid_0_fr_2976_ts_00-01-39-299_jpg.rf.044c650356273d240b24010b631a48fb.txt  \n",
            " extracting: train/labels/dentist15_cid_0_fr_3043_ts_00-01-41-534_jpg.rf.1bd51c862aabb7762ec802ee0a0d28d7.txt  \n",
            " extracting: train/labels/dentist15_cid_0_fr_304_ts_00-00-10-143_jpg.rf.ba69d6734320fc71520c20f569cbf308.txt  \n",
            " extracting: train/labels/dentist15_cid_0_fr_3060_ts_00-01-42-102_jpg.rf.b2aeb2ade31c1efa205047529042a745.txt  \n",
            " extracting: train/labels/dentist15_cid_0_fr_3096_ts_00-01-43-303_jpg.rf.2293cb83296a272616c0ab443891020b.txt  \n",
            " extracting: train/labels/dentist15_cid_0_fr_3107_ts_00-01-43-670_jpg.rf.9e7151f8b559df114d48aa8e91335c6e.txt  \n",
            " extracting: train/labels/dentist15_cid_0_fr_3132_ts_00-01-44-504_jpg.rf.7d596e7f7b78e2afc4143fe0a813ce43.txt  \n",
            " extracting: train/labels/dentist15_cid_0_fr_3190_ts_00-01-46-439_jpg.rf.288dfc84391aeccecb84621ba0afcd18.txt  \n",
            " extracting: train/labels/dentist15_cid_0_fr_3439_ts_00-01-54-747_jpg.rf.66d204bf1922ff387c47b0d82d73da0a.txt  \n",
            " extracting: train/labels/dentist15_cid_0_fr_3547_ts_00-01-58-351_jpg.rf.5120d912fa1b9016d5449b3ff5bcc870.txt  \n",
            " extracting: train/labels/dentist15_cid_0_fr_3558_ts_00-01-58-718_jpg.rf.7f65371cd422d1efc3c103b8690e52ef.txt  \n",
            " extracting: train/labels/dentist15_cid_0_fr_362_ts_00-00-12-078_jpg.rf.d2080465d6eb6825f794ec4e0ae9f44b.txt  \n",
            " extracting: train/labels/dentist15_cid_0_fr_374_ts_00-00-12-479_jpg.rf.79b4477479f95b0ba1d62415df6f8b5b.txt  \n",
            " extracting: train/labels/dentist15_cid_0_fr_415_ts_00-00-13-847_jpg.rf.8136f6b19ac9a9afeff1d3f055bee466.txt  \n",
            " extracting: train/labels/dentist15_cid_0_fr_436_ts_00-00-14-547_jpg.rf.a960896065d1305d1c8de16f1ed6e632.txt  \n",
            " extracting: train/labels/dentist15_cid_0_fr_484_ts_00-00-16-149_jpg.rf.24db25d4d80d5c895904a7949196fa32.txt  \n",
            " extracting: train/labels/dentist15_cid_0_fr_534_ts_00-00-17-817_jpg.rf.7e6c29fbe45a03e8eb7740b87c327595.txt  \n",
            " extracting: train/labels/dentist15_cid_0_fr_540_ts_00-00-18-018_jpg.rf.2048fa5c56989395c11b8a3fcb39792f.txt  \n",
            " extracting: train/labels/dentist15_cid_0_fr_542_ts_00-00-18-084_jpg.rf.2d628fb700d99c7100733309dc0de071.txt  \n",
            " extracting: train/labels/dentist15_cid_0_fr_546_ts_00-00-18-218_jpg.rf.e54bb07af4dc18ed25cbf326a172574f.txt  \n",
            " extracting: train/labels/dentist15_cid_0_fr_580_ts_00-00-19-352_jpg.rf.b613e4efdbed235fb14be12088e07238.txt  \n",
            " extracting: train/labels/dentist15_cid_0_fr_584_ts_00-00-19-486_jpg.rf.f25e8196227824fda209f52974056c89.txt  \n",
            " extracting: train/labels/dentist15_cid_0_fr_622_ts_00-00-20-754_jpg.rf.a60fa14e1aabb6902f6087b55e91bc20.txt  \n",
            " extracting: train/labels/dentist15_cid_0_fr_630_ts_00-00-21-021_jpg.rf.4df0ecf67d2eda6d7ca821b017857a07.txt  \n",
            " extracting: train/labels/dentist15_cid_0_fr_676_ts_00-00-22-555_jpg.rf.0ae9ed84342148a6b0c000e405ae0f02.txt  \n",
            " extracting: train/labels/dentist15_cid_0_fr_710_ts_00-00-23-690_jpg.rf.c2e85aaebdcee7ae2472ace0983d3a1e.txt  \n",
            " extracting: train/labels/dentist15_cid_0_fr_724_ts_00-00-24-157_jpg.rf.bbf6326edbee4e039d14dbb849e9c867.txt  \n",
            " extracting: train/labels/dentist15_cid_0_fr_791_ts_00-00-26-393_jpg.rf.18ac30367fda0e35b017955637192943.txt  \n",
            " extracting: train/labels/dentist15_cid_0_fr_817_ts_00-00-27-260_jpg.rf.e0c6797572303e26e1b27ebcf0cf6948.txt  \n",
            " extracting: train/labels/dentist_items_0_jpg.rf.10cdf499174a86253adbdbc380f4e65c.txt  \n",
            " extracting: train/labels/dentist_items_1003_jpg.rf.ae800b9380c148a48cd2ee6340efc7a4.txt  \n",
            " extracting: train/labels/dentist_items_1004_jpg.rf.15a23c2f4fff60cdcc6b05db45286b3b.txt  \n",
            " extracting: train/labels/dentist_items_1006_jpg.rf.f8741f12c3df09725709d2767b98e472.txt  \n",
            " extracting: train/labels/dentist_items_1007_jpg.rf.0d3b5b1ff60030e7bdf256626920ee4e.txt  \n",
            " extracting: train/labels/dentist_items_1008_jpg.rf.f3b4faa35a93186a9f6f25c53b6e9f95.txt  \n",
            " extracting: train/labels/dentist_items_1009_jpg.rf.99c575f6799c74c6736ad77064b652ef.txt  \n",
            " extracting: train/labels/dentist_items_100_jpg.rf.275ba01921b1147ac758cb5c304eff36.txt  \n",
            " extracting: train/labels/dentist_items_1010_jpg.rf.22875b8e01f16e8f712e3e74010aadc6.txt  \n",
            " extracting: train/labels/dentist_items_1012_jpg.rf.d46d214ec94f0f144586cd3447bf8a92.txt  \n",
            " extracting: train/labels/dentist_items_1013_jpg.rf.9d4f3c3c8c24044f9117569f187489d2.txt  \n",
            " extracting: train/labels/dentist_items_1018_jpg.rf.9d6654265958bcb1ed6b1cb8c06861b7.txt  \n",
            " extracting: train/labels/dentist_items_101_jpg.rf.ce782c5bbe36537ce632bde87dd2dbd6.txt  \n",
            " extracting: train/labels/dentist_items_1022_jpg.rf.b46cee5715f9dd23e47da1bfea743ed1.txt  \n",
            " extracting: train/labels/dentist_items_1024_jpg.rf.f467b24aa4a859adb6084340d790035e.txt  \n",
            " extracting: train/labels/dentist_items_1025_jpg.rf.9104bde9ea80234e7d9cfe95338c6210.txt  \n",
            " extracting: train/labels/dentist_items_1026_jpg.rf.451abff26241319ca2c6ea3dad2c35fc.txt  \n",
            " extracting: train/labels/dentist_items_1027_jpg.rf.9d9d733bed7be5739194f34aa8a80013.txt  \n",
            " extracting: train/labels/dentist_items_1028_jpg.rf.5740dbe423ed61adadc9098d24845ee6.txt  \n",
            " extracting: train/labels/dentist_items_102_jpg.rf.66092e4511b8458d505e7f202fd8cc71.txt  \n",
            " extracting: train/labels/dentist_items_1030_jpg.rf.b3dafc879fd15d5d8004269c67cd32f7.txt  \n",
            " extracting: train/labels/dentist_items_1031_jpg.rf.010687202432f35fa51235888b702cdf.txt  \n",
            " extracting: train/labels/dentist_items_1032_jpg.rf.072c4efd20ec368863a3f88f075d94f9.txt  \n",
            " extracting: train/labels/dentist_items_1033_jpg.rf.75ae7904b8fbc810bc36d87f7179e452.txt  \n",
            " extracting: train/labels/dentist_items_1034_jpg.rf.fa7e4e3b9045079b88f88b191fee5602.txt  \n",
            " extracting: train/labels/dentist_items_1035_jpg.rf.e4856f60e5143d78ca3542905084f33d.txt  \n",
            " extracting: train/labels/dentist_items_1036_jpg.rf.429e0b5589315dea7163bbe7f1b536a7.txt  \n",
            " extracting: train/labels/dentist_items_1037_jpg.rf.918d4682a62821b18d05f2ace960b091.txt  \n",
            " extracting: train/labels/dentist_items_1038_jpg.rf.165a96a3cffe898c751a49c121f3a1c1.txt  \n",
            " extracting: train/labels/dentist_items_1039_jpg.rf.c78ca195b77bbaadd8330b7918b0de17.txt  \n",
            " extracting: train/labels/dentist_items_103_jpg.rf.af5826437e7070e808a7cb19163741b6.txt  \n",
            " extracting: train/labels/dentist_items_1040_jpg.rf.4796df727e71684b9b74d528349e190d.txt  \n",
            " extracting: train/labels/dentist_items_1042_jpg.rf.33d2d434a0bef91d734d7330aa7b6807.txt  \n",
            " extracting: train/labels/dentist_items_1043_jpg.rf.93e30b11ff7cca54906ebf1ecee5f22e.txt  \n",
            " extracting: train/labels/dentist_items_1044_jpg.rf.55cdd4d6bd77e968313d036d1cb69be6.txt  \n",
            " extracting: train/labels/dentist_items_1045_jpg.rf.9778d46d2ecc9e7994300b69b05758c4.txt  \n",
            " extracting: train/labels/dentist_items_1046_jpg.rf.463e058ab8028dd94afeb5f5f110ba68.txt  \n",
            " extracting: train/labels/dentist_items_1047_jpg.rf.75d2da3fa00998579c57582472b45c65.txt  \n",
            " extracting: train/labels/dentist_items_1048_jpg.rf.ee0b9d6a9dd2a3fa18439c9347b0fd30.txt  \n",
            " extracting: train/labels/dentist_items_1049_jpg.rf.b5077054a026fbc36fd62cf0d1b1236d.txt  \n",
            " extracting: train/labels/dentist_items_104_jpg.rf.0f895e72e5b0f64e40525ff828e45690.txt  \n",
            " extracting: train/labels/dentist_items_1050_jpg.rf.74ceed0e1c70ce3d03a2ee4688be00d1.txt  \n",
            " extracting: train/labels/dentist_items_1051_jpg.rf.9a0af0357a139319ab0017552d243d73.txt  \n",
            " extracting: train/labels/dentist_items_1052_jpg.rf.bac8661ceb329b98ca435862f6687ed0.txt  \n",
            " extracting: train/labels/dentist_items_1053_jpg.rf.14670deae937a5e918e5437219a8de96.txt  \n",
            " extracting: train/labels/dentist_items_1054_jpg.rf.f49f48dfdc8daf75787ea178b88b5a5c.txt  \n",
            " extracting: train/labels/dentist_items_1055_jpg.rf.fb486773fa1fd8a13a650ce643d997fd.txt  \n",
            " extracting: train/labels/dentist_items_1056_jpg.rf.d6f4c613e7932750fa51850fd6799b07.txt  \n",
            " extracting: train/labels/dentist_items_1057_jpg.rf.d078e20955709f4e40e0f20bf7f3081b.txt  \n",
            " extracting: train/labels/dentist_items_1058_jpg.rf.f2794cb967d58e6aa18df4b2c86c63a1.txt  \n",
            " extracting: train/labels/dentist_items_1059_jpg.rf.d16e9d9567bd8061c7d6e504d319f6c5.txt  \n",
            " extracting: train/labels/dentist_items_105_jpg.rf.5e0ee4814f0ae3d758565dedfbb42d70.txt  \n",
            " extracting: train/labels/dentist_items_1060_jpg.rf.6ab88136ed0f0bcb40c887d308f48489.txt  \n",
            " extracting: train/labels/dentist_items_1061_jpg.rf.bca4f9226b0fc41addff50344cab6f9a.txt  \n",
            " extracting: train/labels/dentist_items_1062_jpg.rf.52d95b306ea3c08c60386551da2431d0.txt  \n",
            " extracting: train/labels/dentist_items_1063_jpg.rf.3e215ee106c3e02fe5eb156fbe0cb912.txt  \n",
            " extracting: train/labels/dentist_items_1064_jpg.rf.f7ed65e5d9db1652ceca95f06579b331.txt  \n",
            " extracting: train/labels/dentist_items_1065_jpg.rf.07a4b5809e1b2b2c6bb1bd563ddbbecb.txt  \n",
            " extracting: train/labels/dentist_items_1066_jpg.rf.059677561aa51c38a6207f4a9875e54a.txt  \n",
            " extracting: train/labels/dentist_items_1067_jpg.rf.3bedadf5d03935d93aa094a3b3f9ff7d.txt  \n",
            " extracting: train/labels/dentist_items_1068_jpg.rf.18a04c05e1583d6961ca489b7ad9ae5b.txt  \n",
            " extracting: train/labels/dentist_items_1069_jpg.rf.23785934df389d3f4afd2441db1f10cb.txt  \n",
            " extracting: train/labels/dentist_items_106_jpg.rf.c7cdcae50daa6b0d77a05312152f50b8.txt  \n",
            " extracting: train/labels/dentist_items_1070_jpg.rf.19fad0d1d94cf9b3212a82c8c0e32ba0.txt  \n",
            " extracting: train/labels/dentist_items_1071_jpg.rf.005949a683f1f4fc90e206369fbcdf40.txt  \n",
            " extracting: train/labels/dentist_items_1072_jpg.rf.751e0d9b0a3de6dbdf191b8a2552a6ec.txt  \n",
            " extracting: train/labels/dentist_items_1073_jpg.rf.98c066e7fcd2e0223067da25866d092b.txt  \n",
            " extracting: train/labels/dentist_items_1074_jpg.rf.828d6640e163f301eca7261144fc44c3.txt  \n",
            " extracting: train/labels/dentist_items_1078_jpg.rf.6d78966ee2abac52ae8e8f85603a6ca5.txt  \n",
            " extracting: train/labels/dentist_items_107_jpg.rf.78bb8fb459deb954b5db49305f16f44c.txt  \n",
            " extracting: train/labels/dentist_items_1080_jpg.rf.ea70e69717ee162949984931086292ae.txt  \n",
            " extracting: train/labels/dentist_items_1082_jpg.rf.438352a3c8f4427f7ef25b48f40498bb.txt  \n",
            " extracting: train/labels/dentist_items_1083_jpg.rf.2db644e9a14da1e965fbb7acb6935cc8.txt  \n",
            " extracting: train/labels/dentist_items_1084_jpg.rf.a40acd0d83cc1a69e82b886d7d90bf4c.txt  \n",
            " extracting: train/labels/dentist_items_1085_jpg.rf.c9bb69f34a8d8328a85166a9b0dc9f0f.txt  \n",
            " extracting: train/labels/dentist_items_1086_jpg.rf.b175d7ffe2af3ecc258008646d307c6f.txt  \n",
            " extracting: train/labels/dentist_items_1087_jpg.rf.e85c356d2add0b2648c38a978268db87.txt  \n",
            " extracting: train/labels/dentist_items_1088_jpg.rf.63f9f651b27221b57dd200f45c6515a8.txt  \n",
            " extracting: train/labels/dentist_items_1089_jpg.rf.88ed35cff8139ce8beec634bc71fc535.txt  \n",
            " extracting: train/labels/dentist_items_108_jpg.rf.19e2f9854a28fac7dc8ade5fa077dfc4.txt  \n",
            " extracting: train/labels/dentist_items_1090_jpg.rf.59e46bba91abaa0d9549ce48c96f87dd.txt  \n",
            " extracting: train/labels/dentist_items_1091_jpg.rf.9677a9bded713cafde65e83066359198.txt  \n",
            " extracting: train/labels/dentist_items_1093_jpg.rf.7e1f4e05f6d29a09768fba6943a7ff18.txt  \n",
            " extracting: train/labels/dentist_items_1094_jpg.rf.da979995020b31cdcfe6741dec059038.txt  \n",
            " extracting: train/labels/dentist_items_1095_jpg.rf.84fa9f6d0d10606822990fef562f26f4.txt  \n",
            " extracting: train/labels/dentist_items_1096_jpg.rf.5648a28b37119f96876ad78c7aad1b93.txt  \n",
            " extracting: train/labels/dentist_items_1097_jpg.rf.1d495ff7a5b8275c27cb17913765ba94.txt  \n",
            " extracting: train/labels/dentist_items_1098_jpg.rf.b3b98f6727835419c0d520b743176530.txt  \n",
            " extracting: train/labels/dentist_items_1099_jpg.rf.114c37c9739acdb3cf55fa97afccd092.txt  \n",
            " extracting: train/labels/dentist_items_109_jpg.rf.bd7b83098c7bf4f00e854286b29d131e.txt  \n",
            " extracting: train/labels/dentist_items_10_jpg.rf.f7b96fbd9299ec93fd946857e2d9a8f4.txt  \n",
            " extracting: train/labels/dentist_items_1100_jpg.rf.15e5b651cd1fd090cce5b664803f855d.txt  \n",
            " extracting: train/labels/dentist_items_1101_jpg.rf.94ca976e68d260e226a2f4bd7b98bc89.txt  \n",
            " extracting: train/labels/dentist_items_1102_jpg.rf.bf65ebb6dc4ca364cd8a803cda257202.txt  \n",
            " extracting: train/labels/dentist_items_1103_jpg.rf.19a3be5b03583228738159e97b1a4e03.txt  \n",
            " extracting: train/labels/dentist_items_1104_jpg.rf.7c4151f00a6a0865c921872588d76abb.txt  \n",
            " extracting: train/labels/dentist_items_1105_jpg.rf.1c3ff6648e167055f43f10b81de25981.txt  \n",
            " extracting: train/labels/dentist_items_1106_jpg.rf.8371ead771b33e6c82c1766b3de09312.txt  \n",
            " extracting: train/labels/dentist_items_1107_jpg.rf.330480f3e6f39e84394a982cba5572e1.txt  \n",
            " extracting: train/labels/dentist_items_1108_jpg.rf.133fb6164342d7bc8e2b61f037ce541a.txt  \n",
            " extracting: train/labels/dentist_items_1109_jpg.rf.53bad7e3457608725073fd71080fd5c0.txt  \n",
            " extracting: train/labels/dentist_items_110_jpg.rf.6e3f827554515c1caf1ac41569cce0f6.txt  \n",
            " extracting: train/labels/dentist_items_1110_jpg.rf.fae0b714faa2bc536e54f9de66daeb28.txt  \n",
            " extracting: train/labels/dentist_items_1111_jpg.rf.3cb1a6221b3231b7c255eaf691b0130e.txt  \n",
            " extracting: train/labels/dentist_items_1112_jpg.rf.663f3fd5a42f1e1e9a3e4e7e04414a10.txt  \n",
            " extracting: train/labels/dentist_items_1113_jpg.rf.27e54c94b9dfb139755d9cf0fe409b10.txt  \n",
            " extracting: train/labels/dentist_items_1114_jpg.rf.658bd4f253ff7caebab6dff2200389b7.txt  \n",
            " extracting: train/labels/dentist_items_1115_jpg.rf.bbc706647ae5223469b4b4f41a08b73b.txt  \n",
            " extracting: train/labels/dentist_items_1116_jpg.rf.722535d7877b5fa2fcda5408e4078b11.txt  \n",
            " extracting: train/labels/dentist_items_1117_jpg.rf.37fde2f41420cc344e43dd6026bd1c4b.txt  \n",
            " extracting: train/labels/dentist_items_1118_jpg.rf.59fdd64083d6b20435237e7d5feaeae2.txt  \n",
            " extracting: train/labels/dentist_items_1119_jpg.rf.2e53c5bb7e6095ec7b603123e482cf4e.txt  \n",
            " extracting: train/labels/dentist_items_111_jpg.rf.3f20119787ed60c4e84b0a6fc6ebf95e.txt  \n",
            " extracting: train/labels/dentist_items_1120_jpg.rf.acbfe47ccb1a2be8ecee3b15e8bae256.txt  \n",
            " extracting: train/labels/dentist_items_1121_jpg.rf.16e55c4731f5ebcb7efc73ff179ed43b.txt  \n",
            " extracting: train/labels/dentist_items_1122_jpg.rf.c6b6fb6833bdf8af83aaca0c45e0d53a.txt  \n",
            " extracting: train/labels/dentist_items_1123_jpg.rf.961e5546ee540f84894d69e47ed4aa9b.txt  \n",
            " extracting: train/labels/dentist_items_1124_jpg.rf.8a791cf078efb705a5f323f6d4f746f4.txt  \n",
            " extracting: train/labels/dentist_items_1125_jpg.rf.c7b2bedb49884e44bccb0d9440c89307.txt  \n",
            " extracting: train/labels/dentist_items_1126_jpg.rf.79f06a8e9f7302189a83ee80216ee017.txt  \n",
            " extracting: train/labels/dentist_items_1127_jpg.rf.53c001935fcb75f84d1b6ad0af2b1d20.txt  \n",
            " extracting: train/labels/dentist_items_1128_jpg.rf.71f9566cd3764f3eec90ea1a4cac5745.txt  \n",
            " extracting: train/labels/dentist_items_1129_jpg.rf.d0b578044a8048f62e8848edd035faab.txt  \n",
            " extracting: train/labels/dentist_items_112_jpg.rf.3aae241041872fe8a48131650ff7da71.txt  \n",
            " extracting: train/labels/dentist_items_1130_jpg.rf.6ece27bf2c83b99861a897c99d0470d9.txt  \n",
            " extracting: train/labels/dentist_items_1131_jpg.rf.a0add7ac6f23044bcd1442bdd1427cf6.txt  \n",
            " extracting: train/labels/dentist_items_1132_jpg.rf.a64185aaae5dd173cf767ebdaa3277ee.txt  \n",
            " extracting: train/labels/dentist_items_1133_jpg.rf.ea866b64708ddd4fc644149ec57f3188.txt  \n",
            " extracting: train/labels/dentist_items_1134_jpg.rf.c63dc108b8a370ee1516778947ea558d.txt  \n",
            " extracting: train/labels/dentist_items_1135_jpg.rf.13fd651715a33f0d07adfe5f8b7ff1d7.txt  \n",
            " extracting: train/labels/dentist_items_1136_jpg.rf.9154629e6f4973c89dfa5ddefe679b6b.txt  \n",
            " extracting: train/labels/dentist_items_1137_jpg.rf.f9b07c3d489396629ec9f361df894d75.txt  \n",
            " extracting: train/labels/dentist_items_1138_jpg.rf.3f025bdc42d24e89c3db816bae8e7696.txt  \n",
            " extracting: train/labels/dentist_items_1139_jpg.rf.62c2854459eba45bdf751a481a600c08.txt  \n",
            " extracting: train/labels/dentist_items_113_jpg.rf.3e433559a0db92d3ef2855b844b0e2f6.txt  \n",
            " extracting: train/labels/dentist_items_1140_jpg.rf.7141ceceb9c163c0dada47cdcb4ee575.txt  \n",
            " extracting: train/labels/dentist_items_1141_jpg.rf.497b4358f2d04fe958015aa1922d5777.txt  \n",
            " extracting: train/labels/dentist_items_1142_jpg.rf.fadf5d20e49824f12e9492c97b80b039.txt  \n",
            " extracting: train/labels/dentist_items_1143_jpg.rf.f3744b0aacdac018e97391941826bedf.txt  \n",
            " extracting: train/labels/dentist_items_1144_jpg.rf.c812f23170099a70c905e0d2ed462ec3.txt  \n",
            " extracting: train/labels/dentist_items_1145_jpg.rf.061ad99fc20ae8e3b96d0ea7fc1ca52f.txt  \n",
            " extracting: train/labels/dentist_items_1146_jpg.rf.9ec4e84bae018998056c39f58f73c3bb.txt  \n",
            " extracting: train/labels/dentist_items_1147_jpg.rf.17f3f7db299149e85831c13cc9abb709.txt  \n",
            " extracting: train/labels/dentist_items_1148_jpg.rf.9a732dba43c8718133e425602094894b.txt  \n",
            " extracting: train/labels/dentist_items_1149_jpg.rf.72d1bb293e0cdb85b4927536e68d5548.txt  \n",
            " extracting: train/labels/dentist_items_114_jpg.rf.104b64e1aa32b9db3d0babf3df2c5ac0.txt  \n",
            " extracting: train/labels/dentist_items_1150_jpg.rf.1ce20812604a708a8418ed117bfda83f.txt  \n",
            " extracting: train/labels/dentist_items_1151_jpg.rf.4f149b7b3a5cc509bd5da1fea0247550.txt  \n",
            " extracting: train/labels/dentist_items_1152_jpg.rf.9b90d026964be24949e1f00c4b926edf.txt  \n",
            " extracting: train/labels/dentist_items_1153_jpg.rf.d6e3cc4b895f7f069e82773cb4b6a23b.txt  \n",
            " extracting: train/labels/dentist_items_1154_jpg.rf.3a7186a213568bc964a74eb64f058854.txt  \n",
            " extracting: train/labels/dentist_items_1155_jpg.rf.e49e0d09b91d5ecc379b490937eb1fc0.txt  \n",
            " extracting: train/labels/dentist_items_1156_jpg.rf.fdb858bc8f2808e314780eb5de7582c6.txt  \n",
            " extracting: train/labels/dentist_items_1157_jpg.rf.b5ec098481ea6d7d0748ec6a34a39c41.txt  \n",
            " extracting: train/labels/dentist_items_1158_jpg.rf.7c2ebdfdfbb4e8f1f40706fc41afde50.txt  \n",
            " extracting: train/labels/dentist_items_1159_jpg.rf.d0010918757c9f198c8b2661448dc319.txt  \n",
            " extracting: train/labels/dentist_items_115_jpg.rf.5462232ea72265ca50f132d25c2d36c4.txt  \n",
            " extracting: train/labels/dentist_items_1160_jpg.rf.b6759481741294f7dab41bb96e036fee.txt  \n",
            " extracting: train/labels/dentist_items_1161_jpg.rf.1dfa8b546c4ff11d735c4e4e82c55588.txt  \n",
            " extracting: train/labels/dentist_items_1162_jpg.rf.e0003e95059981518e1bc982969e0971.txt  \n",
            " extracting: train/labels/dentist_items_1163_jpg.rf.9a329db16240c8b9d2374c1e9b53ab91.txt  \n",
            " extracting: train/labels/dentist_items_1164_jpg.rf.c60b9d0509be6c430416963e43b32735.txt  \n",
            " extracting: train/labels/dentist_items_1165_jpg.rf.0cedf56518cb3ccb98f43bfbb62cb4da.txt  \n",
            " extracting: train/labels/dentist_items_1166_jpg.rf.b54319ebd2564bfa920a8965768c9278.txt  \n",
            " extracting: train/labels/dentist_items_1167_jpg.rf.1e81d0998b20b2e86fe8bf5ef19547a6.txt  \n",
            " extracting: train/labels/dentist_items_1168_jpg.rf.ac3483ed421180eff3dd2263e49ad874.txt  \n",
            " extracting: train/labels/dentist_items_1169_jpg.rf.38f14f244f782402467a0e339a3c8e68.txt  \n",
            " extracting: train/labels/dentist_items_116_jpg.rf.07170df81a2da633747639530a16849a.txt  \n",
            " extracting: train/labels/dentist_items_1171_jpg.rf.618a15b217195daa7d3d287700d75a6a.txt  \n",
            " extracting: train/labels/dentist_items_1172_jpg.rf.d68b63c503f5f25b425b5ae221c1e4d9.txt  \n",
            " extracting: train/labels/dentist_items_1175_jpg.rf.e0c6a4b2923e25e758e5f6f6e226ed44.txt  \n",
            " extracting: train/labels/dentist_items_1176_jpg.rf.7242230a20407cb6b7be95730752d590.txt  \n",
            " extracting: train/labels/dentist_items_1177_jpg.rf.630ddaa9fe51e4215983b53efec0810e.txt  \n",
            " extracting: train/labels/dentist_items_1178_jpg.rf.ed34bd4e9d8580ac563a992dd0b14b37.txt  \n",
            " extracting: train/labels/dentist_items_1179_jpg.rf.d31f7b82ed2728de406bfedea967e70c.txt  \n",
            " extracting: train/labels/dentist_items_117_jpg.rf.43d4a6db1093c7d33f1f2727ce584c6b.txt  \n",
            " extracting: train/labels/dentist_items_1180_jpg.rf.0ef3d152e8859aed0b80361a012b9998.txt  \n",
            " extracting: train/labels/dentist_items_1181_jpg.rf.e45409bc9ffd51c79ff6f5b9665f2d3d.txt  \n",
            " extracting: train/labels/dentist_items_1182_jpg.rf.75b595d385205005c2b5358f11f7296d.txt  \n",
            " extracting: train/labels/dentist_items_1183_jpg.rf.e387500946391530c44c6d72552c145d.txt  \n",
            " extracting: train/labels/dentist_items_1184_jpg.rf.c846271494cdbf8854eaec33d6c450f9.txt  \n",
            " extracting: train/labels/dentist_items_1185_jpg.rf.40830ef8a7dbcc0fa3e66dd81bc1356c.txt  \n",
            " extracting: train/labels/dentist_items_1186_jpg.rf.bfff37f7570bd1d57b793a3fc11e4384.txt  \n",
            " extracting: train/labels/dentist_items_1187_jpg.rf.9cc00ea5488548734cb15c3a3b5e5039.txt  \n",
            " extracting: train/labels/dentist_items_1188_jpg.rf.d1164e92c3a4e4ac0d0afb90d5dd01b2.txt  \n",
            " extracting: train/labels/dentist_items_1189_jpg.rf.ba7d190633b981a2f705f026530dd55a.txt  \n",
            " extracting: train/labels/dentist_items_118_jpg.rf.8dc7df8741113f671bc3bfd04ce0a2f7.txt  \n",
            " extracting: train/labels/dentist_items_1190_jpg.rf.506cae85affbffa4ba8e95ac52fb349c.txt  \n",
            " extracting: train/labels/dentist_items_1192_jpg.rf.725940be3a2f0de07d3dfdd7d574b1e9.txt  \n",
            " extracting: train/labels/dentist_items_1193_jpg.rf.6670f76d8333063beebd4c57b300993a.txt  \n",
            " extracting: train/labels/dentist_items_1194_jpg.rf.53e0fbfb0de2a0190ae4af64ae3ba139.txt  \n",
            " extracting: train/labels/dentist_items_1195_jpg.rf.0a5a36de611aaf00d8806d2a103618ab.txt  \n",
            " extracting: train/labels/dentist_items_1196_jpg.rf.772144a99e8b78757f119d7c054a29ff.txt  \n",
            " extracting: train/labels/dentist_items_1197_jpg.rf.fc05abc6cb4e6b74bee4b5c6cc8b5f41.txt  \n",
            " extracting: train/labels/dentist_items_1198_jpg.rf.41588ce7f7ad9ca6a989af15bfa70fba.txt  \n",
            " extracting: train/labels/dentist_items_1199_jpg.rf.80bd97096408717f0c1380f2b9b2045c.txt  \n",
            " extracting: train/labels/dentist_items_119_jpg.rf.acb2e6ed839e841194d0aeed39b0db6d.txt  \n",
            " extracting: train/labels/dentist_items_11_jpg.rf.aea09e4bc26cedbee572235e48db20ec.txt  \n",
            " extracting: train/labels/dentist_items_1200_jpg.rf.d3cdb45e068445d1c3e1d62556678387.txt  \n",
            " extracting: train/labels/dentist_items_1201_jpg.rf.b4147ed543a876e01d048e6348f00bb8.txt  \n",
            " extracting: train/labels/dentist_items_1202_jpg.rf.4e231d6941ae44912765bcc345488160.txt  \n",
            " extracting: train/labels/dentist_items_1203_jpg.rf.9e1315270f9fcfd4be2c2410ac30c0f2.txt  \n",
            " extracting: train/labels/dentist_items_1204_jpg.rf.b82fcc816bd688a966dac49afbe2a12c.txt  \n",
            " extracting: train/labels/dentist_items_1207_jpg.rf.c439add9e7a8da866a9f13bb8ddcff3f.txt  \n",
            " extracting: train/labels/dentist_items_1208_jpg.rf.07eaa14ab8eadd360e4716385bbe2c24.txt  \n",
            " extracting: train/labels/dentist_items_1209_jpg.rf.638a6229c20b3fa57bc574128e40b227.txt  \n",
            " extracting: train/labels/dentist_items_120_jpg.rf.ef8046f86c51eea76fdd56428522af4d.txt  \n",
            " extracting: train/labels/dentist_items_1210_jpg.rf.586005f673ae1ab8d0961b713c6ac0ca.txt  \n",
            " extracting: train/labels/dentist_items_1211_jpg.rf.db75493e5d84615507e112dcca0022b2.txt  \n",
            " extracting: train/labels/dentist_items_1212_jpg.rf.e787fc51d78f2b14b0141eb7eed20ec4.txt  \n",
            " extracting: train/labels/dentist_items_1213_jpg.rf.402e242c6b7662878899544fa0f28e11.txt  \n",
            " extracting: train/labels/dentist_items_1214_jpg.rf.de939c8494c6789aaeb9f57012fd63c2.txt  \n",
            " extracting: train/labels/dentist_items_1215_jpg.rf.43b7068a4746fbc698ed7122e26f9b55.txt  \n",
            " extracting: train/labels/dentist_items_1216_jpg.rf.582035581a83011b9cc3ef9df2d1cfc7.txt  \n",
            " extracting: train/labels/dentist_items_1217_jpg.rf.928e0966b05f521fd9f3a45f335e1201.txt  \n",
            " extracting: train/labels/dentist_items_1219_jpg.rf.32c53fd40bad09f96411b76b9646f76e.txt  \n",
            " extracting: train/labels/dentist_items_121_jpg.rf.7271f845307817a7f2017e75fa34ceda.txt  \n",
            " extracting: train/labels/dentist_items_1220_jpg.rf.2191a05c3ec4d273ef5463c73c0fc99a.txt  \n",
            " extracting: train/labels/dentist_items_1221_jpg.rf.8968592ae45fca38028a63b0000b18fa.txt  \n",
            " extracting: train/labels/dentist_items_1223_jpg.rf.37098b7a89f8d5b39ac0041a4e25b7ad.txt  \n",
            " extracting: train/labels/dentist_items_1224_jpg.rf.4a950f85abe5ad74c52fd17084df95c6.txt  \n",
            " extracting: train/labels/dentist_items_1225_jpg.rf.55d2fe69d6399690254d754ee69d9be4.txt  \n",
            " extracting: train/labels/dentist_items_1226_jpg.rf.3bc45724b094022bdf6383f90fffc464.txt  \n",
            " extracting: train/labels/dentist_items_1227_jpg.rf.f78dad09b79d1bd18d02285bd4ab9972.txt  \n",
            " extracting: train/labels/dentist_items_1228_jpg.rf.34108e87d06df155c642278d1bb5658b.txt  \n",
            " extracting: train/labels/dentist_items_1229_jpg.rf.4040a742e59996459665629226cb0e88.txt  \n",
            " extracting: train/labels/dentist_items_122_jpg.rf.a845faeec78de1cc37c56daf3371a953.txt  \n",
            " extracting: train/labels/dentist_items_1230_jpg.rf.9db4988a9eae33e8da4a18c16c6050ea.txt  \n",
            " extracting: train/labels/dentist_items_1231_jpg.rf.d434b62406a4e6a0bf8ac836dfd5b203.txt  \n",
            " extracting: train/labels/dentist_items_1232_jpg.rf.3ad3243bda61ac1c89abb36d7d14038a.txt  \n",
            " extracting: train/labels/dentist_items_1233_jpg.rf.0d362c4bf663732e03e342741a4e01e3.txt  \n",
            " extracting: train/labels/dentist_items_1234_jpg.rf.d9bba52837e2402fa0ec9f80cc216bd9.txt  \n",
            " extracting: train/labels/dentist_items_1235_jpg.rf.793c75b22bee47331b392d03be167fc1.txt  \n",
            " extracting: train/labels/dentist_items_1236_jpg.rf.a7ae8708087979580609daf505402877.txt  \n",
            " extracting: train/labels/dentist_items_1237_jpg.rf.7d7b3fdcab8f36c3b2e9cef3913bd11d.txt  \n",
            " extracting: train/labels/dentist_items_1238_jpg.rf.4d7258db460bfda38a617c87571ae3c8.txt  \n",
            " extracting: train/labels/dentist_items_1239_jpg.rf.87849a4df0b50d5cc353681268299d44.txt  \n",
            " extracting: train/labels/dentist_items_123_jpg.rf.64e5d849153466e211528d44b2f76b9b.txt  \n",
            " extracting: train/labels/dentist_items_1240_jpg.rf.c6c118b7bfcea6a35101d65a297f5e60.txt  \n",
            " extracting: train/labels/dentist_items_1241_jpg.rf.0ebb0d67f092ae074d689263ba0169b5.txt  \n",
            " extracting: train/labels/dentist_items_1242_jpg.rf.133f56eee274219d31daa2a5e69716b5.txt  \n",
            " extracting: train/labels/dentist_items_1243_jpg.rf.722ca23700843021b30f5f78d05fa67e.txt  \n",
            " extracting: train/labels/dentist_items_1244_jpg.rf.90d6d61293e118fe169c38bde073916f.txt  \n",
            " extracting: train/labels/dentist_items_1245_jpg.rf.68db83f17d205f3797e061b866d38c29.txt  \n",
            " extracting: train/labels/dentist_items_1246_jpg.rf.69f2f63a7a251826174e9b38e787d713.txt  \n",
            " extracting: train/labels/dentist_items_1247_jpg.rf.c80f8c23e7eec9a352cf26f96f16af06.txt  \n",
            " extracting: train/labels/dentist_items_1248_jpg.rf.9b032e90ae8272841dacb13c3b62cb30.txt  \n",
            " extracting: train/labels/dentist_items_124_jpg.rf.a1303d76bce66b0d435bfbc3dd68a7a1.txt  \n",
            " extracting: train/labels/dentist_items_1251_jpg.rf.fcb7cf87f7112f9ccade85e4bad60703.txt  \n",
            " extracting: train/labels/dentist_items_1252_jpg.rf.2ee0c6dbdd2c47ee199b773c6bec9067.txt  \n",
            " extracting: train/labels/dentist_items_1253_jpg.rf.f79823f9e1cf83384983fa785115b058.txt  \n",
            " extracting: train/labels/dentist_items_1254_jpg.rf.de9e0f7102ce5eedfea20933ca6cb51a.txt  \n",
            " extracting: train/labels/dentist_items_1255_jpg.rf.c666baea96fee65e2d4ac95ab9140878.txt  \n",
            " extracting: train/labels/dentist_items_1256_jpg.rf.df87ff45cd234cae8ed2765e156377ac.txt  \n",
            " extracting: train/labels/dentist_items_1257_jpg.rf.36d468cd492bf62659c06fce811f712c.txt  \n",
            " extracting: train/labels/dentist_items_1259_jpg.rf.4ac99e145b9b70cca729b1156cb23f0e.txt  \n",
            " extracting: train/labels/dentist_items_125_jpg.rf.eafe5d7160a929839f997de7315d8a78.txt  \n",
            " extracting: train/labels/dentist_items_1260_jpg.rf.e9ed3f27c099a94747d5e0ec4e43a491.txt  \n",
            " extracting: train/labels/dentist_items_1261_jpg.rf.71952e7bbae2252122fe45a851200812.txt  \n",
            " extracting: train/labels/dentist_items_1262_jpg.rf.71b4436098a9b940bf2cf027b3c41ea3.txt  \n",
            " extracting: train/labels/dentist_items_1263_jpg.rf.8a4f35bcc59ea158247ac4965d9f9a63.txt  \n",
            " extracting: train/labels/dentist_items_1264_jpg.rf.a32182d7e073b0c328a477884516a691.txt  \n",
            " extracting: train/labels/dentist_items_1265_jpg.rf.95e0e66c7acb6ce4c4a4557389ab36be.txt  \n",
            " extracting: train/labels/dentist_items_1266_jpg.rf.14c7c9aef23e74f09787469e891e747f.txt  \n",
            " extracting: train/labels/dentist_items_1267_jpg.rf.1e250095fb135202881d347ef258c016.txt  \n",
            " extracting: train/labels/dentist_items_1268_jpg.rf.8c4b77365371f0173818244d9a3b5553.txt  \n",
            " extracting: train/labels/dentist_items_1269_jpg.rf.bcc94582fe327c8aaedd4a8da1767796.txt  \n",
            " extracting: train/labels/dentist_items_126_jpg.rf.070483a02448eda3c69714fc69adddc5.txt  \n",
            " extracting: train/labels/dentist_items_1270_jpg.rf.e522fc4d115b0e5ebc74f14ecc05cf05.txt  \n",
            " extracting: train/labels/dentist_items_1271_jpg.rf.be6a425d3b43af9027ac16c8be0803d8.txt  \n",
            " extracting: train/labels/dentist_items_1272_jpg.rf.4eb10f1896c2bdb4e84ed066db9c542a.txt  \n",
            " extracting: train/labels/dentist_items_1273_jpg.rf.e4202071fe6c7151d91f1f6e0e1ecdb7.txt  \n",
            " extracting: train/labels/dentist_items_1274_jpg.rf.e6188b76fb1562c4747716b6f76d8a0b.txt  \n",
            " extracting: train/labels/dentist_items_1275_jpg.rf.46126030335ab3b54ba7aeac80767e92.txt  \n",
            " extracting: train/labels/dentist_items_1276_jpg.rf.56595593181b52ae2ef59e28e78c319d.txt  \n",
            " extracting: train/labels/dentist_items_1277_jpg.rf.5cd1ffcc232fb3ab1069ee0c32c0b0f9.txt  \n",
            " extracting: train/labels/dentist_items_1278_jpg.rf.856691dbcb0ea1c4fd5aacfd8ed71c28.txt  \n",
            " extracting: train/labels/dentist_items_1279_jpg.rf.2b6ef83cf386eabd8ae4ac172e872644.txt  \n",
            " extracting: train/labels/dentist_items_127_jpg.rf.090035f6ecd97e7d05dbec16e7e454d0.txt  \n",
            " extracting: train/labels/dentist_items_1280_jpg.rf.81046dd25c9a0ff39813c57a1dc300df.txt  \n",
            " extracting: train/labels/dentist_items_1281_jpg.rf.535c6eea6d66addffa60f751c3598ae4.txt  \n",
            " extracting: train/labels/dentist_items_1282_jpg.rf.580816bc16cc6e387c64d0822a64ac86.txt  \n",
            " extracting: train/labels/dentist_items_1283_jpg.rf.b7a7809736ca5bd152c29cee43084b1b.txt  \n",
            " extracting: train/labels/dentist_items_1284_jpg.rf.4b7c364478a79f8b568816d31e5c86d3.txt  \n",
            " extracting: train/labels/dentist_items_1285_jpg.rf.27d6cc21f873a322c865a26d0b91303d.txt  \n",
            " extracting: train/labels/dentist_items_1286_jpg.rf.7bf4bdab59510683c49a5d313f37c112.txt  \n",
            " extracting: train/labels/dentist_items_1287_jpg.rf.ac820d5f95b2872f101d00f194ba7bad.txt  \n",
            " extracting: train/labels/dentist_items_1288_jpg.rf.9a1f850bfb7769a72d158cda06c2c5f9.txt  \n",
            " extracting: train/labels/dentist_items_1289_jpg.rf.4c1b7d803508cb20ebcb7384649c83d6.txt  \n",
            " extracting: train/labels/dentist_items_128_jpg.rf.88d83611f864c7fdb6688eda30bc2c27.txt  \n",
            " extracting: train/labels/dentist_items_1290_jpg.rf.51905c3c3aa884dbaf05f670960f0e24.txt  \n",
            " extracting: train/labels/dentist_items_1291_jpg.rf.d6dffc60e452e7739807b16c7cc8330f.txt  \n",
            " extracting: train/labels/dentist_items_1292_jpg.rf.7fcc72187e54187c1893d754f5be9bde.txt  \n",
            " extracting: train/labels/dentist_items_1293_jpg.rf.9ab8ff7d2abfc409fe9572db5d428427.txt  \n",
            " extracting: train/labels/dentist_items_1294_jpg.rf.391aa5f64ba0950ebd1c85262ba0d205.txt  \n",
            " extracting: train/labels/dentist_items_1295_jpg.rf.06e94ba8bc4ee3ce66a7c7a57d5bf52d.txt  \n",
            " extracting: train/labels/dentist_items_1296_jpg.rf.ac6182fe4256ca566c286606fefac0c3.txt  \n",
            " extracting: train/labels/dentist_items_1297_jpg.rf.82d64255aa5f9f96dc69d16ee9ddb1aa.txt  \n",
            " extracting: train/labels/dentist_items_1298_jpg.rf.a6ae3fc1737e8ae65830dc15d9f401f1.txt  \n",
            " extracting: train/labels/dentist_items_1299_jpg.rf.eed4284f745c74e9172c07564383e33e.txt  \n",
            " extracting: train/labels/dentist_items_129_jpg.rf.1f0239c757f5544ff6383f9cddd10db5.txt  \n",
            " extracting: train/labels/dentist_items_12_jpg.rf.dbcb70fe7765f37e4fc7582840afe844.txt  \n",
            " extracting: train/labels/dentist_items_1300_jpg.rf.b521f7901146ddc15d371f345c341657.txt  \n",
            " extracting: train/labels/dentist_items_1301_jpg.rf.1a728eac0622177b2e94e05b0a16e1cd.txt  \n",
            " extracting: train/labels/dentist_items_1302_jpg.rf.e245a6263c4d321e1a3c10628fd550b8.txt  \n",
            " extracting: train/labels/dentist_items_1303_jpg.rf.4be1f0cd96a3574e8b44dc5d6643e5c0.txt  \n",
            " extracting: train/labels/dentist_items_1304_jpg.rf.72dbe683f35969b4d052889eaa85efbc.txt  \n",
            " extracting: train/labels/dentist_items_1305_jpg.rf.229143b796427c9d2b84ff82c9b11012.txt  \n",
            " extracting: train/labels/dentist_items_1306_jpg.rf.2a3e8bb2576481fe0af28430f9c01aa6.txt  \n",
            " extracting: train/labels/dentist_items_1307_jpg.rf.d3bfa9b07b81ece10e51b1cc3f151ac1.txt  \n",
            " extracting: train/labels/dentist_items_1308_jpg.rf.4a0ef99834bde62396a517a16622359d.txt  \n",
            " extracting: train/labels/dentist_items_1309_jpg.rf.72aff2f3ca21ccb4a068b82c50008a16.txt  \n",
            " extracting: train/labels/dentist_items_130_jpg.rf.c68cd8be0c06b04d1704cd91b12642f5.txt  \n",
            " extracting: train/labels/dentist_items_1310_jpg.rf.c28b9db450e03468d25a91bee9701e38.txt  \n",
            " extracting: train/labels/dentist_items_1311_jpg.rf.7c8d60863efbb14abd75d3a9931d7f82.txt  \n",
            " extracting: train/labels/dentist_items_1312_jpg.rf.615a18c59cee87786b001754b75cc222.txt  \n",
            " extracting: train/labels/dentist_items_1313_jpg.rf.a927319e4cdd0b8f8fc67858d24b9abd.txt  \n",
            " extracting: train/labels/dentist_items_1314_jpg.rf.492c2a6a094223c669968d2a804f3897.txt  \n",
            " extracting: train/labels/dentist_items_1315_jpg.rf.fde98edbc0901f978e4e07b6bb2a07d1.txt  \n",
            " extracting: train/labels/dentist_items_1316_jpg.rf.0aed579a07b82c51dd7e59c550a41cf8.txt  \n",
            " extracting: train/labels/dentist_items_1317_jpg.rf.5c23a1da09fa6a47420ebd410e5289cb.txt  \n",
            " extracting: train/labels/dentist_items_1318_jpg.rf.59c7a14d68e829851754ed4e485d9eee.txt  \n",
            " extracting: train/labels/dentist_items_131_jpg.rf.f2dfa9f0c0781fe680cf61b44cd2fef8.txt  \n",
            " extracting: train/labels/dentist_items_1320_jpg.rf.fcc94bd8fbd214bf6cadf06a8e5dd842.txt  \n",
            " extracting: train/labels/dentist_items_1321_jpg.rf.96fe687a7a39440a06044e97e857ee95.txt  \n",
            " extracting: train/labels/dentist_items_1322_jpg.rf.cddc888a8a6054fa1f70de3d5ebf3a5e.txt  \n",
            " extracting: train/labels/dentist_items_1323_jpg.rf.04cf22e0fa6b6d174ce5e7e2c936c162.txt  \n",
            " extracting: train/labels/dentist_items_1324_jpg.rf.fcda551eb6e821823afc21d5dc9a0375.txt  \n",
            " extracting: train/labels/dentist_items_1325_jpg.rf.95e2637b3593d4a9edbbc7c0d1d4238b.txt  \n",
            " extracting: train/labels/dentist_items_1326_jpg.rf.94159eea44b74642d2ce00d805390dd3.txt  \n",
            " extracting: train/labels/dentist_items_1327_jpg.rf.4269dd6980a6fd89ae9697d1a0160bb1.txt  \n",
            " extracting: train/labels/dentist_items_1328_jpg.rf.5a89d3561a1940e3ba10bdf48f7b270f.txt  \n",
            " extracting: train/labels/dentist_items_1329_jpg.rf.fa40b8a4c8703e43ce471a1050de5d04.txt  \n",
            " extracting: train/labels/dentist_items_132_jpg.rf.063e13effa2527cc5df3890b732b331a.txt  \n",
            " extracting: train/labels/dentist_items_1330_jpg.rf.e87721b38a6e8d447c66436c8ba1ca4b.txt  \n",
            " extracting: train/labels/dentist_items_1331_jpg.rf.84883ef51868510d7e305fe68fe9bd76.txt  \n",
            " extracting: train/labels/dentist_items_1332_jpg.rf.b4fdcf089152ac2c31d68e00122370cb.txt  \n",
            " extracting: train/labels/dentist_items_1333_jpg.rf.c22e3cbf8f455cbf16be9d465c4a7f6f.txt  \n",
            " extracting: train/labels/dentist_items_1334_jpg.rf.bdac7236d2fcd79ecee99e7cc960ade9.txt  \n",
            " extracting: train/labels/dentist_items_1335_jpg.rf.711665bf1ea230aea9a9cb4521659786.txt  \n",
            " extracting: train/labels/dentist_items_1336_jpg.rf.d931b8e2a8c2af9767ad803040833c50.txt  \n",
            " extracting: train/labels/dentist_items_1337_jpg.rf.da486250896d8d35d2bdf3531fac98bc.txt  \n",
            " extracting: train/labels/dentist_items_1338_jpg.rf.4c6eb8fbf15ec35ac3f946649485374b.txt  \n",
            " extracting: train/labels/dentist_items_1339_jpg.rf.6ba835ccdcfb6055d03f47efd93018a8.txt  \n",
            " extracting: train/labels/dentist_items_133_jpg.rf.fd6fc108519fcdab90de32090912dde4.txt  \n",
            " extracting: train/labels/dentist_items_1340_jpg.rf.ea0e67d05fa63ad827f3e385129f4b38.txt  \n",
            " extracting: train/labels/dentist_items_1342_jpg.rf.eb0b49e219e9e71db1c3b8be8594568e.txt  \n",
            " extracting: train/labels/dentist_items_1343_jpg.rf.47968ff1b612f8c1aa4680d90e5108b1.txt  \n",
            " extracting: train/labels/dentist_items_1344_jpg.rf.5c21337860cdb47db0d440921454bf06.txt  \n",
            " extracting: train/labels/dentist_items_1345_jpg.rf.c81f982e0c8dee1168b32a3c5e4f0032.txt  \n",
            " extracting: train/labels/dentist_items_1346_jpg.rf.3884ea338d21813adc7b3f0e3ce395a9.txt  \n",
            " extracting: train/labels/dentist_items_1347_jpg.rf.1b215e01f1ea185f605e9d2a5f4dc6fa.txt  \n",
            " extracting: train/labels/dentist_items_1348_jpg.rf.b26746f7f71861b173644ea067e2e58e.txt  \n",
            " extracting: train/labels/dentist_items_1349_jpg.rf.f2136ad5ad232d2699744bb13b960259.txt  \n",
            " extracting: train/labels/dentist_items_134_jpg.rf.83dee48e1ad918e61362aa7e952b997f.txt  \n",
            " extracting: train/labels/dentist_items_1350_jpg.rf.6fed45290682c8cc5c22442721780ed7.txt  \n",
            " extracting: train/labels/dentist_items_1351_jpg.rf.96d6de9c1afb14156c6057bc09c0a6d5.txt  \n",
            " extracting: train/labels/dentist_items_1352_jpg.rf.ee3e67e723f808c37bea9c2935ccff26.txt  \n",
            " extracting: train/labels/dentist_items_1353_jpg.rf.6a39197d88b6cb3a7caf208d949ed6dc.txt  \n",
            " extracting: train/labels/dentist_items_1354_jpg.rf.7679dfb368583dba4ead59a3e004ecd2.txt  \n",
            " extracting: train/labels/dentist_items_1355_jpg.rf.5643aa831bf2e67c57baf6f7488f8f83.txt  \n",
            " extracting: train/labels/dentist_items_1357_jpg.rf.5518fdeec5b245f1f7f38caaa81850e6.txt  \n",
            " extracting: train/labels/dentist_items_1358_jpg.rf.199b2ec9c52bf29f9a61e2e50e742dbe.txt  \n",
            " extracting: train/labels/dentist_items_1359_jpg.rf.01a63ae4566baa13fb4646a7bb101ec7.txt  \n",
            " extracting: train/labels/dentist_items_135_jpg.rf.3e53af22796438f331976c4bc2287358.txt  \n",
            " extracting: train/labels/dentist_items_1360_jpg.rf.5667535e4a7ab42795c7b81e1bbdef3b.txt  \n",
            " extracting: train/labels/dentist_items_1361_jpg.rf.2c97d4d485b3e64136d4d10dd9a1ecd0.txt  \n",
            " extracting: train/labels/dentist_items_1362_jpg.rf.fa005fb5101913d077c1b7f8d4633e88.txt  \n",
            " extracting: train/labels/dentist_items_1363_jpg.rf.4fd846dfeda3bdf65e781d1ea8af4f98.txt  \n",
            " extracting: train/labels/dentist_items_1364_jpg.rf.da15c5cdc711a80f13d80ddae23a9f3c.txt  \n",
            " extracting: train/labels/dentist_items_1365_jpg.rf.6a2624c31623fe164023e7e688d1b72e.txt  \n",
            " extracting: train/labels/dentist_items_1366_jpg.rf.a06618ee7ba5f1316549d1d546fb36fa.txt  \n",
            " extracting: train/labels/dentist_items_1367_jpg.rf.09c8732cfc583b8df37ed723824284e2.txt  \n",
            " extracting: train/labels/dentist_items_1368_jpg.rf.38cd9025369cf3eedd5ed319135e41e6.txt  \n",
            " extracting: train/labels/dentist_items_1369_jpg.rf.6447f00dcc8b2957f3b8dcdfdc86bf61.txt  \n",
            " extracting: train/labels/dentist_items_136_jpg.rf.22829b6b721adfe9877ad85e5acd5d51.txt  \n",
            " extracting: train/labels/dentist_items_1370_jpg.rf.614b4bb757ef73c6b137a822719d3845.txt  \n",
            " extracting: train/labels/dentist_items_1371_jpg.rf.492c013ac99f28de5884bd40302072fd.txt  \n",
            " extracting: train/labels/dentist_items_1372_jpg.rf.63505b7f44b47273d09cf17e9b725886.txt  \n",
            " extracting: train/labels/dentist_items_1374_jpg.rf.b2c657a2dc259a45169ddb77cb06499c.txt  \n",
            " extracting: train/labels/dentist_items_1375_jpg.rf.bd3217114f6e98bbcdc4de8f014bd8ce.txt  \n",
            " extracting: train/labels/dentist_items_1376_jpg.rf.ac9439c3346e5655735903d96ca130cd.txt  \n",
            " extracting: train/labels/dentist_items_1377_jpg.rf.e44cc86025259bef162a1405e980cc7f.txt  \n",
            " extracting: train/labels/dentist_items_1378_jpg.rf.5572c6cc1ed6185827826a8eab473102.txt  \n",
            " extracting: train/labels/dentist_items_1379_jpg.rf.8751e8a5cd5722ea156c235120c93cfa.txt  \n",
            " extracting: train/labels/dentist_items_137_jpg.rf.2a2e1367e67e8bfd03c1fbe430cbb525.txt  \n",
            " extracting: train/labels/dentist_items_1380_jpg.rf.1a6789e841fcca330edf1791e0013f84.txt  \n",
            " extracting: train/labels/dentist_items_1381_jpg.rf.8dee2f14bbd521e89b3d2547a852429a.txt  \n",
            " extracting: train/labels/dentist_items_1382_jpg.rf.5e29b4a901bd2824b9afca7fd6a6a47b.txt  \n",
            " extracting: train/labels/dentist_items_1383_jpg.rf.e4938470a085ea728b7e06631b647c4a.txt  \n",
            " extracting: train/labels/dentist_items_1384_jpg.rf.e0e7a55982cd43653301ea964556a53a.txt  \n",
            " extracting: train/labels/dentist_items_1386_jpg.rf.e19520cb95bc507ff89efb1584899995.txt  \n",
            " extracting: train/labels/dentist_items_1387_jpg.rf.7f92b354206e8b227b476635883b1417.txt  \n",
            " extracting: train/labels/dentist_items_1388_jpg.rf.de0ffd5a71e04d970c6bc9e8a427ea6c.txt  \n",
            " extracting: train/labels/dentist_items_1389_jpg.rf.f40f06b49a7930eedb49602f9d5e03b9.txt  \n",
            " extracting: train/labels/dentist_items_138_jpg.rf.e81f7ca696e2b29d914a37956c99fba9.txt  \n",
            " extracting: train/labels/dentist_items_1390_jpg.rf.ced96be30bafbb2663bfd2fdebfa1c95.txt  \n",
            " extracting: train/labels/dentist_items_1391_jpg.rf.cc3073f8d6ba144064bd1926d533fc8c.txt  \n",
            " extracting: train/labels/dentist_items_1392_jpg.rf.83b4e4b9cdf7ca8ae8616df341d1a246.txt  \n",
            " extracting: train/labels/dentist_items_1393_jpg.rf.6bd7649bc25f53b77f849a501b67e1d3.txt  \n",
            " extracting: train/labels/dentist_items_1395_jpg.rf.7e13d3a7d2db7b765ba8b1111e7d5e15.txt  \n",
            " extracting: train/labels/dentist_items_1396_jpg.rf.9868557c7b02d3256bc9b6324e9ac50d.txt  \n",
            " extracting: train/labels/dentist_items_1397_jpg.rf.58d4f60bdb90da9f50cb3c9b074b423e.txt  \n",
            " extracting: train/labels/dentist_items_1398_jpg.rf.911d1c577fe4896538c7e14164715aad.txt  \n",
            " extracting: train/labels/dentist_items_139_jpg.rf.50eddba4a403a58119396db9e5991935.txt  \n",
            " extracting: train/labels/dentist_items_13_jpg.rf.aeacf8c92c19c518a37255997de52a09.txt  \n",
            " extracting: train/labels/dentist_items_1400_jpg.rf.0d2576f2bb0a7ea4f9f7d6103baca0bd.txt  \n",
            " extracting: train/labels/dentist_items_1401_jpg.rf.270c7fc313aaaa790f2fb69ea5ff4c68.txt  \n",
            " extracting: train/labels/dentist_items_1402_jpg.rf.c87d11cf612f48c3915bd0b396131891.txt  \n",
            " extracting: train/labels/dentist_items_1403_jpg.rf.ccc1b6d3431c082c8a8a083d2202dd7a.txt  \n",
            " extracting: train/labels/dentist_items_1404_jpg.rf.047dea09c86ed12316630908d2b99c61.txt  \n",
            " extracting: train/labels/dentist_items_1405_jpg.rf.4e0c06d4f0120ff1c013b18e78b45634.txt  \n",
            " extracting: train/labels/dentist_items_1406_jpg.rf.2f253d84d609ee03d3fc4d7d52328587.txt  \n",
            " extracting: train/labels/dentist_items_1407_jpg.rf.3a187f5e7171a3e87cd251049185624c.txt  \n",
            " extracting: train/labels/dentist_items_1408_jpg.rf.044238ea69c245bd7434fbdac6efd04f.txt  \n",
            " extracting: train/labels/dentist_items_140_jpg.rf.7914e549e140e6d611c2350530edb6d5.txt  \n",
            " extracting: train/labels/dentist_items_1410_jpg.rf.8b0d3c84947183b7cd38faf51e8eb332.txt  \n",
            " extracting: train/labels/dentist_items_1412_jpg.rf.9f55861b2c7117d97707f7687e5e1ba8.txt  \n",
            " extracting: train/labels/dentist_items_1413_jpg.rf.caac114e89d702a8b59b0452f578ad4e.txt  \n",
            " extracting: train/labels/dentist_items_1414_jpg.rf.8099c5d912049365c4bc969e99fe3753.txt  \n",
            " extracting: train/labels/dentist_items_1415_jpg.rf.665a27d82f878574115a32129cc70da0.txt  \n",
            " extracting: train/labels/dentist_items_1416_jpg.rf.6be3b577f4077e679d50c50e9e7f02e9.txt  \n",
            " extracting: train/labels/dentist_items_1417_jpg.rf.295858bdb7e5d2c506c0c111cbbb445b.txt  \n",
            " extracting: train/labels/dentist_items_1418_jpg.rf.8bdcf8d8d1625df3dc2bd26e97b6ac67.txt  \n",
            " extracting: train/labels/dentist_items_141_jpg.rf.1449a6c3588197007563f76eea876217.txt  \n",
            " extracting: train/labels/dentist_items_1420_jpg.rf.ef297ae43b076f0c51457fd66841d5f2.txt  \n",
            " extracting: train/labels/dentist_items_1421_jpg.rf.aef331fa73d5885bd4dab69ec88421d2.txt  \n",
            " extracting: train/labels/dentist_items_1422_jpg.rf.e5ecd298df12c7bccc10183935d106c4.txt  \n",
            " extracting: train/labels/dentist_items_1423_jpg.rf.068e36ec6cc6877785a203304433050e.txt  \n",
            " extracting: train/labels/dentist_items_1424_jpg.rf.aee9bf26af925527ce60cc90dbf455f0.txt  \n",
            " extracting: train/labels/dentist_items_1425_jpg.rf.329505a9ee7994feea962e7103657c5d.txt  \n",
            " extracting: train/labels/dentist_items_1426_jpg.rf.57f8ecc00eeec249a05ff72f49154069.txt  \n",
            " extracting: train/labels/dentist_items_1427_jpg.rf.c96303df4affb0153b1000675f2dc502.txt  \n",
            " extracting: train/labels/dentist_items_1429_jpg.rf.d1ac155a96a5b1855c83fa96240320d4.txt  \n",
            " extracting: train/labels/dentist_items_142_jpg.rf.c332dbf4e2bd83d05bdcabb3e110fd67.txt  \n",
            " extracting: train/labels/dentist_items_1430_jpg.rf.04b607561fa1c2a5972f6eb8c4b105d3.txt  \n",
            " extracting: train/labels/dentist_items_1431_jpg.rf.71a746ca5668434910509023cb04b797.txt  \n",
            " extracting: train/labels/dentist_items_1432_jpg.rf.ce91ebce22b736999f6cba707374df02.txt  \n",
            " extracting: train/labels/dentist_items_1433_jpg.rf.7e3fd02f97b59a3920cf00e81ecb4f59.txt  \n",
            " extracting: train/labels/dentist_items_1434_jpg.rf.fa486433f7049550d5d72185a0fd4a7f.txt  \n",
            " extracting: train/labels/dentist_items_1436_jpg.rf.d6c2869f4d9fa2950e734d9fd16292c3.txt  \n",
            " extracting: train/labels/dentist_items_1437_jpg.rf.5031ce2ca0ce5888be9fc690081c8edd.txt  \n",
            " extracting: train/labels/dentist_items_1438_jpg.rf.a2eae9ececb441c12c6d9e75040fb1cc.txt  \n",
            " extracting: train/labels/dentist_items_1439_jpg.rf.299bab1fa46f36dcbfe7f1f7858ce46a.txt  \n",
            " extracting: train/labels/dentist_items_143_jpg.rf.7c80646345c7ef4ceafe73b85d2ebce4.txt  \n",
            " extracting: train/labels/dentist_items_1440_jpg.rf.78bf7dc9e140bf6856ced7ef05338936.txt  \n",
            " extracting: train/labels/dentist_items_1441_jpg.rf.c4488fad367012b05c20e1df7ecc58ea.txt  \n",
            " extracting: train/labels/dentist_items_1442_jpg.rf.648c80378ad788c75d414cecdfbc8e8e.txt  \n",
            " extracting: train/labels/dentist_items_1443_jpg.rf.3925e5a1850c73d2cb29eddef539850c.txt  \n",
            " extracting: train/labels/dentist_items_1444_jpg.rf.f20d22f2e9000b43814749fd38b433d4.txt  \n",
            " extracting: train/labels/dentist_items_1446_jpg.rf.74d599e2020c54190721757de7d2fbaa.txt  \n",
            " extracting: train/labels/dentist_items_1448_jpg.rf.3d4419d28bd3fcead7b894fc6deceda3.txt  \n",
            " extracting: train/labels/dentist_items_1449_jpg.rf.3c882edb5a3eb9692271378cfeb061eb.txt  \n",
            " extracting: train/labels/dentist_items_144_jpg.rf.fd44653ea83e609a49a73245d0dd3a9d.txt  \n",
            " extracting: train/labels/dentist_items_1450_jpg.rf.4cbabebc3019a238507c52be57ad2305.txt  \n",
            " extracting: train/labels/dentist_items_1451_jpg.rf.bf8a0847ed0e399f80ba7958aefaaa57.txt  \n",
            " extracting: train/labels/dentist_items_1452_jpg.rf.e7c498b92f336b6321267f3eca16fe6b.txt  \n",
            " extracting: train/labels/dentist_items_1454_jpg.rf.5a1fb56229e63ac149a3d113cdde8051.txt  \n",
            " extracting: train/labels/dentist_items_1455_jpg.rf.b635b1619d7f1c46a36f61ec4b912fc7.txt  \n",
            " extracting: train/labels/dentist_items_1456_jpg.rf.100fe2eee7d2ecc2fc653bfa25a674bb.txt  \n",
            " extracting: train/labels/dentist_items_1457_jpg.rf.14d2a64bed53fcc77a27ee53a2f57fe7.txt  \n",
            " extracting: train/labels/dentist_items_1458_jpg.rf.c43de1ecea71e89b9fd379ddfc01c633.txt  \n",
            " extracting: train/labels/dentist_items_145_jpg.rf.55a5bec9d4bcca2c16b4e025b271d8f8.txt  \n",
            " extracting: train/labels/dentist_items_1460_jpg.rf.ccbbb8cc689f80bf9e938dc5c50ae784.txt  \n",
            " extracting: train/labels/dentist_items_1461_jpg.rf.69e7ba10a881a53af4075027fe05c736.txt  \n",
            " extracting: train/labels/dentist_items_1462_jpg.rf.96320e44e3f93c907997ac195df3f383.txt  \n",
            " extracting: train/labels/dentist_items_1463_jpg.rf.b78bb84edb0106a00a8c544512aca535.txt  \n",
            " extracting: train/labels/dentist_items_1464_jpg.rf.1f7e0ef4d2f55bc82b628217098f9c88.txt  \n",
            " extracting: train/labels/dentist_items_1465_jpg.rf.52c41a8d9974e0a91a1d83246e58a310.txt  \n",
            " extracting: train/labels/dentist_items_1466_jpg.rf.e382eb9c181db5c9b92913bfdfc22d20.txt  \n",
            " extracting: train/labels/dentist_items_1467_jpg.rf.7ccb9cf94438691a35ba7c731c968856.txt  \n",
            " extracting: train/labels/dentist_items_1468_jpg.rf.8a17623cb3d9eee22b546a3788742f2e.txt  \n",
            " extracting: train/labels/dentist_items_146_jpg.rf.a1da1166d26dc76de8223d9141c04118.txt  \n",
            " extracting: train/labels/dentist_items_1470_jpg.rf.3fb4e8037170199178036e27aa6c9617.txt  \n",
            " extracting: train/labels/dentist_items_1471_jpg.rf.816f1a59180be07966c873c75db75553.txt  \n",
            " extracting: train/labels/dentist_items_1472_jpg.rf.62569bf60a65e166ddd667dd0675755e.txt  \n",
            " extracting: train/labels/dentist_items_1473_jpg.rf.8c0e4ed923c5e919f0d04514f9b774f4.txt  \n",
            " extracting: train/labels/dentist_items_1474_jpg.rf.6072c9580bd09c7a87e6758dd29131cf.txt  \n",
            " extracting: train/labels/dentist_items_1475_jpg.rf.200012e89c87d8aac7245485126623f3.txt  \n",
            " extracting: train/labels/dentist_items_1476_jpg.rf.09d704021ace90ca3b1cf94a0205ebbd.txt  \n",
            " extracting: train/labels/dentist_items_1477_jpg.rf.1c79064f1c1bbab79204ebb213f50461.txt  \n",
            " extracting: train/labels/dentist_items_1478_jpg.rf.40d5b69742256c109c3d3a1a6b6bdc6e.txt  \n",
            " extracting: train/labels/dentist_items_1479_jpg.rf.09d3ee2ffdf19c6b7a164567ad95448b.txt  \n",
            " extracting: train/labels/dentist_items_147_jpg.rf.57f2a99aad2565139695208e85bbe972.txt  \n",
            " extracting: train/labels/dentist_items_1480_jpg.rf.3899d262525f807842e0ef502b684503.txt  \n",
            " extracting: train/labels/dentist_items_1481_jpg.rf.c0f26742c16130f05cce515bb86a4bc8.txt  \n",
            " extracting: train/labels/dentist_items_1482_jpg.rf.21533023540ce8392e1762e6a49710e1.txt  \n",
            " extracting: train/labels/dentist_items_1484_jpg.rf.cea48c0bad0748892cda92e17c1e44b8.txt  \n",
            " extracting: train/labels/dentist_items_1485_jpg.rf.e8d0382aca047f86aac25e07b3767a23.txt  \n",
            " extracting: train/labels/dentist_items_1486_jpg.rf.03c6dc97395792d9a4b87ebe6b6b8c08.txt  \n",
            " extracting: train/labels/dentist_items_1487_jpg.rf.022daf11757f2dacf46a3edd04594789.txt  \n",
            " extracting: train/labels/dentist_items_1488_jpg.rf.218e8f014a48871237c8b982e0a08bcb.txt  \n",
            " extracting: train/labels/dentist_items_1489_jpg.rf.e5ce838ebd030a24687c2e75b0659cae.txt  \n",
            " extracting: train/labels/dentist_items_148_jpg.rf.973328bd4e575de674e33125fea3e8e3.txt  \n",
            " extracting: train/labels/dentist_items_1491_jpg.rf.8b0a1e9647642e637c356087bcd941ac.txt  \n",
            " extracting: train/labels/dentist_items_1492_jpg.rf.236978b5e67ae05ec9b1a9933984adb6.txt  \n",
            " extracting: train/labels/dentist_items_1493_jpg.rf.0c99c2ee446292dde3c10ef76614bfc3.txt  \n",
            " extracting: train/labels/dentist_items_1494_jpg.rf.950a93c2b894cc14a29f7bda6877a515.txt  \n",
            " extracting: train/labels/dentist_items_1495_jpg.rf.f50c94226eda5aa4ba5435086410943f.txt  \n",
            " extracting: train/labels/dentist_items_1496_jpg.rf.30434cdc7c2f40dd150e6c91e6a15b59.txt  \n",
            " extracting: train/labels/dentist_items_1497_jpg.rf.7d09bb4bddcd82d02a5facda325d58ec.txt  \n",
            " extracting: train/labels/dentist_items_1498_jpg.rf.2809a261cb17ed91207fa96c081c031e.txt  \n",
            " extracting: train/labels/dentist_items_1499_jpg.rf.809cb8820ef95d930a9f47ec69fa3467.txt  \n",
            " extracting: train/labels/dentist_items_149_jpg.rf.3c8e7ceb214a34cd2e7f7d81b07d5823.txt  \n",
            " extracting: train/labels/dentist_items_14_jpg.rf.39685b7f11b7a559e9a8b980645f341a.txt  \n",
            " extracting: train/labels/dentist_items_1501_jpg.rf.1cfa1702b9cd6c075732b56498f73366.txt  \n",
            " extracting: train/labels/dentist_items_1502_jpg.rf.4b7feb69bc3d365105bc35ed0cf19495.txt  \n",
            " extracting: train/labels/dentist_items_1503_jpg.rf.f092f3e9f5ccf4d3c45579512834eb63.txt  \n",
            " extracting: train/labels/dentist_items_1504_jpg.rf.1b12c9ecccf61fb828dd10f5354ed62b.txt  \n",
            " extracting: train/labels/dentist_items_1506_jpg.rf.ddb1e53a1d3853e7dfedd1e0fe47d0ca.txt  \n",
            " extracting: train/labels/dentist_items_1507_jpg.rf.2f4721535bc604ab619ad907a8058851.txt  \n",
            " extracting: train/labels/dentist_items_1508_jpg.rf.717eaa71309fab3e1948c1db7b54e8aa.txt  \n",
            " extracting: train/labels/dentist_items_150_jpg.rf.78f0b858646495c62ca195607bd60b34.txt  \n",
            " extracting: train/labels/dentist_items_1510_jpg.rf.4e266207d56b5b6252e1830e5724c73a.txt  \n",
            " extracting: train/labels/dentist_items_1511_jpg.rf.dceecea62e64f2bb704fbc9eb878fb90.txt  \n",
            " extracting: train/labels/dentist_items_1512_jpg.rf.5c34c6b28d3df62afd1e00d5040c872b.txt  \n",
            " extracting: train/labels/dentist_items_1513_jpg.rf.ba3604661ac30de1aedda54c075d3d09.txt  \n",
            " extracting: train/labels/dentist_items_1514_jpg.rf.d1c261d8953573db567fb5507b4d5c0b.txt  \n",
            " extracting: train/labels/dentist_items_1515_jpg.rf.21469f9be581aeb34e9377748e92a2b3.txt  \n",
            " extracting: train/labels/dentist_items_1516_jpg.rf.1a2b07fa9dc1a0dbbf4fcd488a9ea5f1.txt  \n",
            " extracting: train/labels/dentist_items_1517_jpg.rf.15b2cbccbcdc60e7f28d5ede34ff780b.txt  \n",
            " extracting: train/labels/dentist_items_1518_jpg.rf.96f1923f8bc26b826c76e2af00628684.txt  \n",
            " extracting: train/labels/dentist_items_1519_jpg.rf.599fbcb8024963667ad2ba3816634ef5.txt  \n",
            " extracting: train/labels/dentist_items_151_jpg.rf.6a119b3c8803e1e7644b46009a60da6c.txt  \n",
            " extracting: train/labels/dentist_items_1520_jpg.rf.d3118d498d710049f27a692f01e96faa.txt  \n",
            " extracting: train/labels/dentist_items_1521_jpg.rf.81a521963cf840c4a18ff4d2788d9ace.txt  \n",
            " extracting: train/labels/dentist_items_1522_jpg.rf.34caa551be9ebef4ac0f11b71120498c.txt  \n",
            " extracting: train/labels/dentist_items_1523_jpg.rf.21e351da215609c72d59c237eea16755.txt  \n",
            " extracting: train/labels/dentist_items_1524_jpg.rf.97d72fc08d8a98d7c547d0a7d560d77c.txt  \n",
            " extracting: train/labels/dentist_items_1525_jpg.rf.2ad238d5810f8723ac61f47200bb1060.txt  \n",
            " extracting: train/labels/dentist_items_1526_jpg.rf.b5fc28bc5e12e21929a1eb1881113e97.txt  \n",
            " extracting: train/labels/dentist_items_1527_jpg.rf.a9f8ffe99c435ed39ff9eb36f173f38b.txt  \n",
            " extracting: train/labels/dentist_items_1528_jpg.rf.432ab61f00de6dcaeb6dbed66ecc43ac.txt  \n",
            " extracting: train/labels/dentist_items_1529_jpg.rf.0bf811d1a4424a3d5ec1e7f719fd336e.txt  \n",
            " extracting: train/labels/dentist_items_1530_jpg.rf.b6bfd4a0e0ac123767dd94c04106dfff.txt  \n",
            " extracting: train/labels/dentist_items_1531_jpg.rf.8c0e954c8bc8e29c696e82f8ddab501b.txt  \n",
            " extracting: train/labels/dentist_items_1532_jpg.rf.7d9fbe65d74c326955f2d37788ff5be4.txt  \n",
            " extracting: train/labels/dentist_items_1533_jpg.rf.cd400cc684407882677c4d0bd2634f44.txt  \n",
            " extracting: train/labels/dentist_items_1534_jpg.rf.8c146513baa0626aea0698998a16c349.txt  \n",
            " extracting: train/labels/dentist_items_1535_jpg.rf.4878a01f605a49a343437a2a16b998a5.txt  \n",
            " extracting: train/labels/dentist_items_1536_jpg.rf.3965cc22b9f96cc99ee4b92772745ca9.txt  \n",
            " extracting: train/labels/dentist_items_1537_jpg.rf.ba589e261135508db24fb780051add5a.txt  \n",
            " extracting: train/labels/dentist_items_1538_jpg.rf.84e9c60f68bb0428fff0ea41cf8aa4f0.txt  \n",
            " extracting: train/labels/dentist_items_1539_jpg.rf.38bd2aab4df363285dc664d4ba33f02e.txt  \n",
            " extracting: train/labels/dentist_items_153_jpg.rf.85a417482c475d5540f5e2a6d0c3bdfa.txt  \n",
            " extracting: train/labels/dentist_items_1540_jpg.rf.2551d203fab2f93d67dee64600ab2d4d.txt  \n",
            " extracting: train/labels/dentist_items_1541_jpg.rf.0ea5f8736aa6d222afc3007b0d05ba4c.txt  \n",
            " extracting: train/labels/dentist_items_1542_jpg.rf.d3750a2526b3f9bfd41484c85fcdc505.txt  \n",
            " extracting: train/labels/dentist_items_1546_jpg.rf.84cf2c28b715ae701294bfae2a2a95d3.txt  \n",
            " extracting: train/labels/dentist_items_1547_jpg.rf.c0efb339ad9cc4f0ad8b5a74e7a1eae7.txt  \n",
            " extracting: train/labels/dentist_items_1548_jpg.rf.aa6a6ead1479290591c54ff6427c6fde.txt  \n",
            " extracting: train/labels/dentist_items_1549_jpg.rf.18bdd3632340487f14c1a528eeba140e.txt  \n",
            " extracting: train/labels/dentist_items_1550_jpg.rf.6c8ce1aa67799a72b063eb4b901a147c.txt  \n",
            " extracting: train/labels/dentist_items_1551_jpg.rf.6cc480ab682ee6ac0399b41047230dee.txt  \n",
            " extracting: train/labels/dentist_items_1552_jpg.rf.ff8e9a0d049091696b27959d419b9386.txt  \n",
            " extracting: train/labels/dentist_items_1553_jpg.rf.3614cebc40d5a1c48d1b69e118c66722.txt  \n",
            " extracting: train/labels/dentist_items_1555_jpg.rf.1982249903bc1ff691621253f424ab19.txt  \n",
            " extracting: train/labels/dentist_items_1556_jpg.rf.d7218db490b2df3115f4a3de63c65bd3.txt  \n",
            " extracting: train/labels/dentist_items_1557_jpg.rf.6758bea062ed905d61954c660d26b1f8.txt  \n",
            " extracting: train/labels/dentist_items_1558_jpg.rf.5d5c1d74dc404080555cf1eb5caf8dd5.txt  \n",
            " extracting: train/labels/dentist_items_1559_jpg.rf.36a2669c45e2b30b78df0578a45fd684.txt  \n",
            " extracting: train/labels/dentist_items_1560_jpg.rf.2daaec5a16657937d620bec0fe0ed070.txt  \n",
            " extracting: train/labels/dentist_items_1561_jpg.rf.9b986a72250b42d376d0c3be50afeec1.txt  \n",
            " extracting: train/labels/dentist_items_1562_jpg.rf.0be31819cd5178efd65ab80f0a7944d3.txt  \n",
            " extracting: train/labels/dentist_items_1563_jpg.rf.079a0de14c8d21ac6062550b477e1372.txt  \n",
            " extracting: train/labels/dentist_items_1564_jpg.rf.39ef90fc630f4c7b51c42f943afacc38.txt  \n",
            " extracting: train/labels/dentist_items_1566_jpg.rf.fd3de3c494e5355a1f78e6fb2052da9d.txt  \n",
            " extracting: train/labels/dentist_items_1567_jpg.rf.c6f399382ae484c73d8ca253b0efb483.txt  \n",
            " extracting: train/labels/dentist_items_1568_jpg.rf.1055b92325b46d8a2d65bfac257f6965.txt  \n",
            " extracting: train/labels/dentist_items_1569_jpg.rf.9dd0f5d8758ffe8d6ae3eb16b8d58f2a.txt  \n",
            " extracting: train/labels/dentist_items_156_jpg.rf.f374268080db8e0eb67975debb5ca23b.txt  \n",
            " extracting: train/labels/dentist_items_1570_jpg.rf.0f44cc7f0a20af885884e047e8084cc3.txt  \n",
            " extracting: train/labels/dentist_items_1571_jpg.rf.292e379817943b01c5332ae34e19de8a.txt  \n",
            " extracting: train/labels/dentist_items_1572_jpg.rf.4af4f181e47a7967e1ff2c2ccfd6b0b2.txt  \n",
            " extracting: train/labels/dentist_items_1573_jpg.rf.f0e36eb1d653aab56f7c8d42cd15de0c.txt  \n",
            " extracting: train/labels/dentist_items_1574_jpg.rf.da07d8ee1a641fed1d493837e3e64c91.txt  \n",
            " extracting: train/labels/dentist_items_1575_jpg.rf.0d3a0cc41a333c91af0f2a190ab497e5.txt  \n",
            " extracting: train/labels/dentist_items_1576_jpg.rf.fd0f1db7b2e79896b86199d7310a52a5.txt  \n",
            " extracting: train/labels/dentist_items_1578_jpg.rf.6414639043b5d8797fa57e5936300f58.txt  \n",
            " extracting: train/labels/dentist_items_1580_jpg.rf.38f80cda7e4ed26e82ab2ac306a59d75.txt  \n",
            " extracting: train/labels/dentist_items_1581_jpg.rf.f7926d8005cff04a4dc15a658eb36878.txt  \n",
            " extracting: train/labels/dentist_items_1582_jpg.rf.e3deb6b1659cec68beb0276cd3838fec.txt  \n",
            " extracting: train/labels/dentist_items_1583_jpg.rf.cf7ff0c83e2ba999d3a40eb0217efc6e.txt  \n",
            " extracting: train/labels/dentist_items_1584_jpg.rf.30b7cfe033a7f80e69d61d48b4716a09.txt  \n",
            " extracting: train/labels/dentist_items_1585_jpg.rf.603cde0ee3501ebfb50f3276ce208733.txt  \n",
            " extracting: train/labels/dentist_items_1586_jpg.rf.7b670dbb49e5dd84e0f7b5d239e3477d.txt  \n",
            " extracting: train/labels/dentist_items_1587_jpg.rf.8c8a1e86a02b805936a88e8c736e9cb6.txt  \n",
            " extracting: train/labels/dentist_items_1588_jpg.rf.d8855168a73f912bd63e4430bef67e1b.txt  \n",
            " extracting: train/labels/dentist_items_1589_jpg.rf.f7aa576f5ee2474526b17c8fc621129f.txt  \n",
            " extracting: train/labels/dentist_items_158_jpg.rf.fbb57964b40ec2dd9a9ead557838c397.txt  \n",
            " extracting: train/labels/dentist_items_1590_jpg.rf.490b6953ad96c2966a2432670f61a831.txt  \n",
            " extracting: train/labels/dentist_items_1591_jpg.rf.7c2792b5021c2a1d9e29ff2b964c2887.txt  \n",
            " extracting: train/labels/dentist_items_1592_jpg.rf.c25f451edc428e9514c0434a2ed2e2c7.txt  \n",
            " extracting: train/labels/dentist_items_1593_jpg.rf.55ffc4dc4842cb8287770713aa885c99.txt  \n",
            " extracting: train/labels/dentist_items_1594_jpg.rf.327cffd4eab325a29e4a5ade85039432.txt  \n",
            " extracting: train/labels/dentist_items_1595_jpg.rf.a0add2a64d4a3e539666943551b57d4e.txt  \n",
            " extracting: train/labels/dentist_items_1596_jpg.rf.4d14684635306a88d19cf745d2ef6a10.txt  \n",
            " extracting: train/labels/dentist_items_1599_jpg.rf.78853ada4cfa01fdaf1f820fd1fb4c62.txt  \n",
            " extracting: train/labels/dentist_items_159_jpg.rf.fe47a9c24797189830aed2a4da6ccd54.txt  \n",
            " extracting: train/labels/dentist_items_15_jpg.rf.ae92eb84c4bfe3722fb2036dbe5a7d6f.txt  \n",
            " extracting: train/labels/dentist_items_1600_jpg.rf.d614d6307f8f7b23b7388545f08676df.txt  \n",
            " extracting: train/labels/dentist_items_1601_jpg.rf.67a008d3f8daca6235d98f6d403bca81.txt  \n",
            " extracting: train/labels/dentist_items_1602_jpg.rf.f53169de481318f6acd344748e18fc96.txt  \n",
            " extracting: train/labels/dentist_items_1603_jpg.rf.0f483f8261a98ffc7761732bd4977c33.txt  \n",
            " extracting: train/labels/dentist_items_1604_jpg.rf.098c53214eeab229aac10db6c97cfe86.txt  \n",
            " extracting: train/labels/dentist_items_1605_jpg.rf.9346ac0a302fa3f188281a50d6852df7.txt  \n",
            " extracting: train/labels/dentist_items_1606_jpg.rf.060590200b52e3d53c189595d509e3a3.txt  \n",
            " extracting: train/labels/dentist_items_1607_jpg.rf.dd6cb391f953c983599399292ddecccf.txt  \n",
            " extracting: train/labels/dentist_items_1608_jpg.rf.768196e50ede798e88222c805d1c26b1.txt  \n",
            " extracting: train/labels/dentist_items_1609_jpg.rf.e08e9795f9879becde2fd3c8f3a14bfd.txt  \n",
            " extracting: train/labels/dentist_items_160_jpg.rf.07a19c094a7a381302c829bbd46bbf94.txt  \n",
            " extracting: train/labels/dentist_items_1610_jpg.rf.24f622cb719c1e017899e32f4e6e3a05.txt  \n",
            " extracting: train/labels/dentist_items_1611_jpg.rf.590a6aef0d867a30039e9a2ddfbb8957.txt  \n",
            " extracting: train/labels/dentist_items_1612_jpg.rf.6683702525ca962a15e965e1539abe93.txt  \n",
            " extracting: train/labels/dentist_items_1613_jpg.rf.c96b72ebe301aaa2b1c1b470df2cbcab.txt  \n",
            " extracting: train/labels/dentist_items_1614_jpg.rf.6739df88dd83b5b36e37c737608474e6.txt  \n",
            " extracting: train/labels/dentist_items_1615_jpg.rf.dc3504213423750d057f50122ab9dcd6.txt  \n",
            " extracting: train/labels/dentist_items_1616_jpg.rf.4c762d84570dc15840d292dbf0f4c19f.txt  \n",
            " extracting: train/labels/dentist_items_1617_jpg.rf.08fde105ff665922920dac07a9ec6cb1.txt  \n",
            " extracting: train/labels/dentist_items_1618_jpg.rf.a059f2d5feb4b5208f11444c86bd58f9.txt  \n",
            " extracting: train/labels/dentist_items_1619_jpg.rf.c6f53e7b17510ae3b9dae1a6733aec94.txt  \n",
            " extracting: train/labels/dentist_items_161_jpg.rf.2d5fb818fe0d9a1410df487923de2eb4.txt  \n",
            " extracting: train/labels/dentist_items_1620_jpg.rf.3ee3eca45bba4b12135e43a6383540de.txt  \n",
            " extracting: train/labels/dentist_items_1621_jpg.rf.f2f85efc8ecad348dfba432003adf451.txt  \n",
            " extracting: train/labels/dentist_items_1622_jpg.rf.2fe468f7aea5ad2b9641613bd7a42def.txt  \n",
            " extracting: train/labels/dentist_items_1623_jpg.rf.9e699346a0f8e5e8b7fa64a6d9b61afd.txt  \n",
            " extracting: train/labels/dentist_items_1624_jpg.rf.90a58e8957ae84838b4cee09f19813c0.txt  \n",
            " extracting: train/labels/dentist_items_1625_jpg.rf.f4b09ee2ade0353caa3d93f472bd2f7b.txt  \n",
            " extracting: train/labels/dentist_items_1626_jpg.rf.f5db4aa7a2c49a293a9cd9bdcdf0ecf0.txt  \n",
            " extracting: train/labels/dentist_items_1627_jpg.rf.ebbc455fc417f247ba91f5940bb19092.txt  \n",
            " extracting: train/labels/dentist_items_1628_jpg.rf.ebefdd01c99c4a94c11124cbccef9eab.txt  \n",
            " extracting: train/labels/dentist_items_1629_jpg.rf.17827be6644422d1d98a07bc76aa889c.txt  \n",
            " extracting: train/labels/dentist_items_162_jpg.rf.88a241110f03c7155897fc2e20468a87.txt  \n",
            " extracting: train/labels/dentist_items_1630_jpg.rf.6c09438147cbb190db6335c56791d623.txt  \n",
            " extracting: train/labels/dentist_items_1631_jpg.rf.5c79c68096063f38a1c3a87aea364110.txt  \n",
            " extracting: train/labels/dentist_items_1632_jpg.rf.e091ffc34f508321cd5c852d73af2c15.txt  \n",
            " extracting: train/labels/dentist_items_1633_jpg.rf.fc876782a2f00929b3ce5d54682ea523.txt  \n",
            " extracting: train/labels/dentist_items_1634_jpg.rf.4f828de6b3a4978defd81e274d001405.txt  \n",
            " extracting: train/labels/dentist_items_1635_jpg.rf.ecec8f8f0a761e4734a27a3820bff122.txt  \n",
            " extracting: train/labels/dentist_items_1636_jpg.rf.3a7fe1c6ec1228a60781dff6f5e1de17.txt  \n",
            " extracting: train/labels/dentist_items_1637_jpg.rf.fa936f581e5e960216cf7dfb1b3df7e3.txt  \n",
            " extracting: train/labels/dentist_items_1638_jpg.rf.c4cdfe2bfc71b92c8ac90c6f9158dfec.txt  \n",
            " extracting: train/labels/dentist_items_1639_jpg.rf.b5ae9b4958cf58b197957b1f5a4dd63d.txt  \n",
            " extracting: train/labels/dentist_items_163_jpg.rf.fb4bb2dd5bc93d57cd5472bf1047d231.txt  \n",
            " extracting: train/labels/dentist_items_1640_jpg.rf.b9c6f910d688219d47fb6836845bdf2b.txt  \n",
            " extracting: train/labels/dentist_items_1641_jpg.rf.3faa65d0ff58280f438b613a3ccdbda3.txt  \n",
            " extracting: train/labels/dentist_items_1642_jpg.rf.676a8c150ad2e7df140b905af2c53905.txt  \n",
            " extracting: train/labels/dentist_items_1643_jpg.rf.7e866374bcfdf9aac49d4b25d6636571.txt  \n",
            " extracting: train/labels/dentist_items_1644_jpg.rf.148e095e78a506f5a3add5b38d7974a8.txt  \n",
            " extracting: train/labels/dentist_items_1645_jpg.rf.787f72d5a73585502ccd42552619ca0c.txt  \n",
            " extracting: train/labels/dentist_items_1646_jpg.rf.f7729d53ada19204d3671bc92b4da1dd.txt  \n",
            " extracting: train/labels/dentist_items_1647_jpg.rf.a5a3abfdfa048c24da66db56d1d30a7d.txt  \n",
            " extracting: train/labels/dentist_items_1648_jpg.rf.d4c0ca6d1d979a25566f1e41c9378c4f.txt  \n",
            " extracting: train/labels/dentist_items_1649_jpg.rf.1f66336a6615cc3586516a8c58c047be.txt  \n",
            " extracting: train/labels/dentist_items_164_jpg.rf.cb535575a88fe9a9d698d93e15e3116d.txt  \n",
            " extracting: train/labels/dentist_items_1650_jpg.rf.8cca1fd96e4a4ab041abaf19c96eb0ff.txt  \n",
            " extracting: train/labels/dentist_items_1651_jpg.rf.3955326dad0a6886770b3a4db329c95f.txt  \n",
            " extracting: train/labels/dentist_items_1652_jpg.rf.05691626f3ac780932582c439cc77414.txt  \n",
            " extracting: train/labels/dentist_items_1653_jpg.rf.852f49e496b59f69ec16f5aaf5903276.txt  \n",
            " extracting: train/labels/dentist_items_1654_jpg.rf.7a21c2c5ff2626a3cc2595fb09c65b62.txt  \n",
            " extracting: train/labels/dentist_items_1655_jpg.rf.0be02c817c40226df9c69f19a3148a9d.txt  \n",
            " extracting: train/labels/dentist_items_1656_jpg.rf.748daea81c16d425ffdedb3fc7d4feda.txt  \n",
            " extracting: train/labels/dentist_items_1657_jpg.rf.1bcc173115d7cd488929de80b765bf8f.txt  \n",
            " extracting: train/labels/dentist_items_1658_jpg.rf.4299bb51fce6d9d4e695eda55af95190.txt  \n",
            " extracting: train/labels/dentist_items_1659_jpg.rf.ec214d57d1fb4f2197d6fe20c488de59.txt  \n",
            " extracting: train/labels/dentist_items_165_jpg.rf.a2ca1ac01a9f9de9edbc6daef5ed085d.txt  \n",
            " extracting: train/labels/dentist_items_1660_jpg.rf.b359582bf82f28ecfa94daaf7590ee53.txt  \n",
            " extracting: train/labels/dentist_items_1661_jpg.rf.7caef64b999adcb6dfdcdb5099a2ef01.txt  \n",
            " extracting: train/labels/dentist_items_1662_jpg.rf.d160ef42daa9f84fe8cfbcea5d906a64.txt  \n",
            " extracting: train/labels/dentist_items_1663_jpg.rf.1223ec5fee50579bfb1d4111999bd9d1.txt  \n",
            " extracting: train/labels/dentist_items_1664_jpg.rf.7db99a9ae1a1bd873ece0a560ccc19be.txt  \n",
            " extracting: train/labels/dentist_items_1665_jpg.rf.db62344819b25681fd4237991834a96a.txt  \n",
            " extracting: train/labels/dentist_items_1666_jpg.rf.b0e2925e8cf2a80aba538ae159bbf1bc.txt  \n",
            " extracting: train/labels/dentist_items_1667_jpg.rf.f3d4a2c824e0266ae0f3ee17abe461fc.txt  \n",
            " extracting: train/labels/dentist_items_1668_jpg.rf.06f94e38653476f5c244a9bb40ac28fd.txt  \n",
            " extracting: train/labels/dentist_items_1669_jpg.rf.913c5eca97b3b2f6b5d9d19c53fe10e6.txt  \n",
            " extracting: train/labels/dentist_items_166_jpg.rf.0ffebebe874e3bca96b5b265e92a3121.txt  \n",
            " extracting: train/labels/dentist_items_1675_jpg.rf.14fd64bf374297d7d9312ebe022df9b2.txt  \n",
            " extracting: train/labels/dentist_items_1679_jpg.rf.ff54cbf41092be5bbdd5a41ef6871e48.txt  \n",
            " extracting: train/labels/dentist_items_167_jpg.rf.ef235074ab236b0ee76a1363de2e0a12.txt  \n",
            " extracting: train/labels/dentist_items_1680_jpg.rf.e1aa0e3763aea6b04839b7995723d9cb.txt  \n",
            " extracting: train/labels/dentist_items_1681_jpg.rf.08d28cc4d4c8e85d4f5e5caca76d77f1.txt  \n",
            " extracting: train/labels/dentist_items_1685_jpg.rf.040d1d89469649b971fa7242628f580d.txt  \n",
            " extracting: train/labels/dentist_items_1690_jpg.rf.6a3782526f2f838bd4041f1e317aa383.txt  \n",
            " extracting: train/labels/dentist_items_1691_jpg.rf.9525565bb72f5d6aed63f571a3e8e7e6.txt  \n",
            " extracting: train/labels/dentist_items_1692_jpg.rf.2e314066a72e0caa9779112243858dc6.txt  \n",
            " extracting: train/labels/dentist_items_1693_jpg.rf.db89aed33ba99f4c42fffc6e362ee3f4.txt  \n",
            " extracting: train/labels/dentist_items_1698_jpg.rf.8c2ce0037d9f71442e370f293552d5b8.txt  \n",
            " extracting: train/labels/dentist_items_1699_jpg.rf.4a8d1b9fe1687304182ff6d97a178a24.txt  \n",
            " extracting: train/labels/dentist_items_169_jpg.rf.89ffcb577d4ca46df747f86d66f3ccb9.txt  \n",
            " extracting: train/labels/dentist_items_16_jpg.rf.563defbf5b44c99f2a8095bfca1c0d26.txt  \n",
            " extracting: train/labels/dentist_items_1700_jpg.rf.249b8e62dac5ec2dbb2fcd989603a80f.txt  \n",
            " extracting: train/labels/dentist_items_1703_jpg.rf.d4d05fd25f58b44feb3baacfc2cfb216.txt  \n",
            " extracting: train/labels/dentist_items_1709_jpg.rf.9c02d1713ae20176fd6c8c6a9d682ee5.txt  \n",
            " extracting: train/labels/dentist_items_170_jpg.rf.5740e8e70009dd36b35fdc2059b496fe.txt  \n",
            " extracting: train/labels/dentist_items_1711_jpg.rf.888b17eb927fe2c62e28e44328f100a2.txt  \n",
            " extracting: train/labels/dentist_items_1712_jpg.rf.e4491f19342839dddd66745fb0df1d6f.txt  \n",
            " extracting: train/labels/dentist_items_1713_jpg.rf.4a3ee08fd7847ca70b9aa58c1ca47a92.txt  \n",
            " extracting: train/labels/dentist_items_1716_jpg.rf.fe7a0f27e9a794fc8a8f4aff22226d36.txt  \n",
            " extracting: train/labels/dentist_items_1718_jpg.rf.379a4ccc7af5927df8306deee03bb4c6.txt  \n",
            " extracting: train/labels/dentist_items_171_jpg.rf.33fdfaae4428c333d6b1cd137d91f073.txt  \n",
            " extracting: train/labels/dentist_items_1720_jpg.rf.044626c47b8e0c8e94f1a1037ca5999a.txt  \n",
            " extracting: train/labels/dentist_items_1724_jpg.rf.61b80f8531a93cf67957b8751bef55e3.txt  \n",
            " extracting: train/labels/dentist_items_1727_jpg.rf.233c7ccdeef63cb8b03033419ea3d091.txt  \n",
            " extracting: train/labels/dentist_items_1728_jpg.rf.e7f9c8822beed1eed8af22c610ebf035.txt  \n",
            " extracting: train/labels/dentist_items_1729_jpg.rf.ca2ea4ab31b9aed4a0fc71803530053b.txt  \n",
            " extracting: train/labels/dentist_items_172_jpg.rf.b062cc16b0955a9c47cf7876431fd1e6.txt  \n",
            " extracting: train/labels/dentist_items_1730_jpg.rf.0097caad110610cdffbe75dacdd27688.txt  \n",
            " extracting: train/labels/dentist_items_1731_jpg.rf.1a2e505617dfa5d45622df473ef2f0c8.txt  \n",
            " extracting: train/labels/dentist_items_1742_jpg.rf.1a315d40abe5c0d4643914b92d611394.txt  \n",
            " extracting: train/labels/dentist_items_1743_jpg.rf.45c6209bdf0b85542e6cf91370e79ce4.txt  \n",
            " extracting: train/labels/dentist_items_1744_jpg.rf.467116ab137ee917a17b772b45312e15.txt  \n",
            " extracting: train/labels/dentist_items_1745_jpg.rf.45c7543a8207eb14af009e3c502afd33.txt  \n",
            " extracting: train/labels/dentist_items_1746_jpg.rf.8d0c92c3a5ebc6f7638e8854d205d495.txt  \n",
            " extracting: train/labels/dentist_items_1749_jpg.rf.0a6fa3e8dbca02f8ed799e3bc8aad0c7.txt  \n",
            " extracting: train/labels/dentist_items_174_jpg.rf.a0d71ce9d81ec34dfe2c191932c5ff05.txt  \n",
            " extracting: train/labels/dentist_items_1750_jpg.rf.2b1a9796a9e5e4fd8f1d0a3dc2e9e050.txt  \n",
            " extracting: train/labels/dentist_items_1751_jpg.rf.eec38eefa58cf2d74b994067e53cb8bc.txt  \n",
            " extracting: train/labels/dentist_items_1752_jpg.rf.82e0f1eb559dc6385ce8137c1bb5b99c.txt  \n",
            " extracting: train/labels/dentist_items_1753_jpg.rf.063d6bb31e2f854fe122cd1c66c355f2.txt  \n",
            " extracting: train/labels/dentist_items_1754_jpg.rf.e40cbe97f3b3f966c6f77dded953f27a.txt  \n",
            " extracting: train/labels/dentist_items_1756_jpg.rf.d99cd11ea27550723268fc3dda7adbb7.txt  \n",
            " extracting: train/labels/dentist_items_1757_jpg.rf.172a697c873647dbec48b5b69136b311.txt  \n",
            " extracting: train/labels/dentist_items_1758_jpg.rf.416c83bc894e3c6f3f7c5a8c3565dd31.txt  \n",
            " extracting: train/labels/dentist_items_1767_jpg.rf.e153414e3c7b53e334a1b2dd2f6cef4e.txt  \n",
            " extracting: train/labels/dentist_items_177_jpg.rf.46d39a22be49843df8d0700154b5d0e5.txt  \n",
            " extracting: train/labels/dentist_items_178_jpg.rf.9f192e625991b2e78933b1d8f5d9b6d4.txt  \n",
            " extracting: train/labels/dentist_items_17_jpg.rf.af51cb60b2a87756f402c893b92bd2de.txt  \n",
            " extracting: train/labels/dentist_items_181_jpg.rf.a8160e6d85c9b90c9434ff8459973491.txt  \n",
            " extracting: train/labels/dentist_items_183_jpg.rf.e98cbad267e490d572ba053cf159e6e4.txt  \n",
            " extracting: train/labels/dentist_items_184_jpg.rf.981d92d5996a98b521b6810ccf3fc96f.txt  \n",
            " extracting: train/labels/dentist_items_185_jpg.rf.56b570ad7f9cf03f4192fa69216659e1.txt  \n",
            " extracting: train/labels/dentist_items_186_jpg.rf.4b6874d49da6477f71fbd40b6552e73f.txt  \n",
            " extracting: train/labels/dentist_items_187_jpg.rf.13f8120823f3ea6e95af65035b6b2ecb.txt  \n",
            " extracting: train/labels/dentist_items_189_jpg.rf.35f93d6110967529a6780adef51a8807.txt  \n",
            " extracting: train/labels/dentist_items_18_jpg.rf.aef68518acdcc1917d54b14dbf6a14cd.txt  \n",
            " extracting: train/labels/dentist_items_190_jpg.rf.1c3f19456d7d48c84c73c34094e8f77c.txt  \n",
            " extracting: train/labels/dentist_items_191_jpg.rf.32138ce997eaea5445a4f3877eb222aa.txt  \n",
            " extracting: train/labels/dentist_items_192_jpg.rf.4a3189d95c093f9c60f813ec82292ccc.txt  \n",
            " extracting: train/labels/dentist_items_194_jpg.rf.60b96688be46b9389d7eb70c1578f826.txt  \n",
            " extracting: train/labels/dentist_items_195_jpg.rf.1cdeccaa180e96230e06c09f3bac5798.txt  \n",
            " extracting: train/labels/dentist_items_196_jpg.rf.98bb4ea0dd8bf86fac81c15d6a6d98f7.txt  \n",
            " extracting: train/labels/dentist_items_197_jpg.rf.881405b09136ca1c749916acb2ccb6da.txt  \n",
            " extracting: train/labels/dentist_items_199_jpg.rf.05487615cb38d25de4fa0b929e0644ef.txt  \n",
            " extracting: train/labels/dentist_items_19_jpg.rf.46beba8376a2f8800ccdbeceb9083da4.txt  \n",
            " extracting: train/labels/dentist_items_200_jpg.rf.00cd2d514d2baa77f6f4b402af9a4c1a.txt  \n",
            " extracting: train/labels/dentist_items_201_jpg.rf.fe4514172c93c576a3e2cbc6413e1053.txt  \n",
            " extracting: train/labels/dentist_items_203_jpg.rf.feba3eca5ab07ef2ff06dce2f8028fc8.txt  \n",
            " extracting: train/labels/dentist_items_204_jpg.rf.46090db77b2ae5c4d9a082cd10716ead.txt  \n",
            " extracting: train/labels/dentist_items_206_jpg.rf.11eb7e790faf51016e0e5a8d5071dfc3.txt  \n",
            " extracting: train/labels/dentist_items_207_jpg.rf.81101acb7888731a2caa92e8a3b55ba4.txt  \n",
            " extracting: train/labels/dentist_items_208_jpg.rf.3b2487001650782c5ad7ed2a71456910.txt  \n",
            " extracting: train/labels/dentist_items_209_jpg.rf.b0185dae10317fb63cfea597ce8ce5e2.txt  \n",
            " extracting: train/labels/dentist_items_20_jpg.rf.56f74cc1f6b184c079ee93b913642ca8.txt  \n",
            " extracting: train/labels/dentist_items_212_jpg.rf.a459458f92be89aea2d02b0350960b22.txt  \n",
            " extracting: train/labels/dentist_items_215_jpg.rf.cf5a2d13436f0b16de3ae57bbdfa8187.txt  \n",
            " extracting: train/labels/dentist_items_216_jpg.rf.fef0fdd2c663330f4c025343af54d524.txt  \n",
            " extracting: train/labels/dentist_items_217_jpg.rf.e4d9a2b617f791df90003e0b30d5b2a0.txt  \n",
            " extracting: train/labels/dentist_items_218_jpg.rf.9de560eba0301cab713eabdd94751dfe.txt  \n",
            " extracting: train/labels/dentist_items_219_jpg.rf.5e68b45d7f1fcb810f1dfcab9bce7700.txt  \n",
            " extracting: train/labels/dentist_items_21_jpg.rf.26c94de6444db4b834c15e7fda2cb312.txt  \n",
            " extracting: train/labels/dentist_items_220_jpg.rf.23d398c937cab7d1a58420fb81de6d3b.txt  \n",
            " extracting: train/labels/dentist_items_223_jpg.rf.b0feb96c98268e34605305957064c592.txt  \n",
            " extracting: train/labels/dentist_items_224_jpg.rf.c5daa19925ff87932baec10140984766.txt  \n",
            " extracting: train/labels/dentist_items_227_jpg.rf.2793e314d66974c856003bed872a8d1f.txt  \n",
            " extracting: train/labels/dentist_items_228_jpg.rf.be5185030e60b3db641c63812ccf0346.txt  \n",
            " extracting: train/labels/dentist_items_229_jpg.rf.e8bbd62c4d569a6e37e9153897e3e79c.txt  \n",
            " extracting: train/labels/dentist_items_22_jpg.rf.6369185f31ef0c461d9e8043866d86eb.txt  \n",
            " extracting: train/labels/dentist_items_230_jpg.rf.78904c7e190ba7249792d622067e528f.txt  \n",
            " extracting: train/labels/dentist_items_231_jpg.rf.2110cb1bbd96630cb396cb905dc4f063.txt  \n",
            " extracting: train/labels/dentist_items_232_jpg.rf.d4f050bc5d97ebfdcab772af31fc2de5.txt  \n",
            " extracting: train/labels/dentist_items_233_jpg.rf.d780c347f14fc6e66063f52123f68f64.txt  \n",
            " extracting: train/labels/dentist_items_234_jpg.rf.233679d8c2440f482264725798a90504.txt  \n",
            " extracting: train/labels/dentist_items_235_jpg.rf.09abc7201fddc58edf678cc386ba9261.txt  \n",
            " extracting: train/labels/dentist_items_236_jpg.rf.3f4a7971d9a4efbd126cf53815ab68d0.txt  \n",
            " extracting: train/labels/dentist_items_237_jpg.rf.595e5a09dc99c922796bdfa62c6604a8.txt  \n",
            " extracting: train/labels/dentist_items_238_jpg.rf.7048fdf7547198feed9a54a6b8efc722.txt  \n",
            " extracting: train/labels/dentist_items_239_jpg.rf.8d6403210f853edd4300306b2b2a6b67.txt  \n",
            " extracting: train/labels/dentist_items_23_jpg.rf.711555512934894c5c7a22fca62042a6.txt  \n",
            " extracting: train/labels/dentist_items_240_jpg.rf.b7a5261e67c9e57c61ce71fbd20474ca.txt  \n",
            " extracting: train/labels/dentist_items_242_jpg.rf.e2adddf27e2221403e34ca822793b610.txt  \n",
            " extracting: train/labels/dentist_items_243_jpg.rf.278ce6056e7eca7bd2e8a1b4c56a0820.txt  \n",
            " extracting: train/labels/dentist_items_245_jpg.rf.bebb472c8756357fd2e7483517140626.txt  \n",
            " extracting: train/labels/dentist_items_247_jpg.rf.588645fe18fa8d976e88b60e6d9a1eac.txt  \n",
            " extracting: train/labels/dentist_items_248_jpg.rf.e4c5707a2b0ebf169cc0f6e7b046f4b8.txt  \n",
            " extracting: train/labels/dentist_items_249_jpg.rf.50c7163bd005a527b621fadc8f873b97.txt  \n",
            " extracting: train/labels/dentist_items_24_jpg.rf.4251cb49ae644745a4a1f232b5f443c1.txt  \n",
            " extracting: train/labels/dentist_items_250_jpg.rf.3d8f1c9f6049b71181e20aa637c54201.txt  \n",
            " extracting: train/labels/dentist_items_251_jpg.rf.8f2504fe7194d6b444024cd7b23930b1.txt  \n",
            " extracting: train/labels/dentist_items_252_jpg.rf.af718dbe81ec55c2012c9f693a978b42.txt  \n",
            " extracting: train/labels/dentist_items_253_jpg.rf.b1b2364538a8812508b74aa9ba4a8fc5.txt  \n",
            " extracting: train/labels/dentist_items_254_jpg.rf.a1f75494b9ee6bc52216a8badc74c01f.txt  \n",
            " extracting: train/labels/dentist_items_255_jpg.rf.3affb1b6e2d84f46ff5391c087967aaa.txt  \n",
            " extracting: train/labels/dentist_items_256_jpg.rf.93a56789045141d4b65d3b568f9ee216.txt  \n",
            " extracting: train/labels/dentist_items_257_jpg.rf.5a56e45a9dcc77ac27691ece0b6f58dd.txt  \n",
            " extracting: train/labels/dentist_items_258_jpg.rf.8491be1db6cae21f5272568e0564bb07.txt  \n",
            " extracting: train/labels/dentist_items_259_jpg.rf.232ed832eb2397c4f55a71a3523a7b8e.txt  \n",
            " extracting: train/labels/dentist_items_25_jpg.rf.9c37500c2b96796b2af0b4855a7df6a0.txt  \n",
            " extracting: train/labels/dentist_items_260_jpg.rf.17e7ba111f992edadab59de660cd6352.txt  \n",
            " extracting: train/labels/dentist_items_261_jpg.rf.4f5a7774696edb2013a8b04786feb963.txt  \n",
            " extracting: train/labels/dentist_items_262_jpg.rf.891889c7a453f458c78397a86813ba5e.txt  \n",
            " extracting: train/labels/dentist_items_263_jpg.rf.f7cc97c4a30dc1841d4176251b988edb.txt  \n",
            " extracting: train/labels/dentist_items_264_jpg.rf.feec5bba2855213595cb2898cad1b0ca.txt  \n",
            " extracting: train/labels/dentist_items_265_jpg.rf.c005c414089ea4d242e2bb142a62798e.txt  \n",
            " extracting: train/labels/dentist_items_266_jpg.rf.e05dda936bee330c2a5f68181b6e27cc.txt  \n",
            " extracting: train/labels/dentist_items_267_jpg.rf.bee71ca230882a125095791fd97ebab9.txt  \n",
            " extracting: train/labels/dentist_items_268_jpg.rf.8794f7ed65ecadb4e6d10ff69d6ae54d.txt  \n",
            " extracting: train/labels/dentist_items_269_jpg.rf.5d9e969a8787672f0eba11be4dc96685.txt  \n",
            " extracting: train/labels/dentist_items_26_jpg.rf.2280d60816fd141fbf8f92b82392c328.txt  \n",
            " extracting: train/labels/dentist_items_270_jpg.rf.13092377a5d467be13578cb226ba02d0.txt  \n",
            " extracting: train/labels/dentist_items_271_jpg.rf.1f628ad0bea7f8027c1922466b83db52.txt  \n",
            " extracting: train/labels/dentist_items_272_jpg.rf.3414c40cc24cf90bb31c81bf202e5ce2.txt  \n",
            " extracting: train/labels/dentist_items_273_jpg.rf.7c165ae3a56b6269e1b8a7fd120fc1f1.txt  \n",
            " extracting: train/labels/dentist_items_274_jpg.rf.277f21f38520edb125f08397589c5ad7.txt  \n",
            " extracting: train/labels/dentist_items_275_jpg.rf.7c23e6530156861cc1512faf135dadc9.txt  \n",
            " extracting: train/labels/dentist_items_276_jpg.rf.8340d8d76e55c1a7470aa7a5f23ff7a9.txt  \n",
            " extracting: train/labels/dentist_items_277_jpg.rf.a450a4a07318c81d362d9cbf62392a59.txt  \n",
            " extracting: train/labels/dentist_items_278_jpg.rf.76ef1d3ce992af52ea3c0f3e72d50bb7.txt  \n",
            " extracting: train/labels/dentist_items_279_jpg.rf.9a2284c1c3dd3ec6dc8ad3c1f5cdff03.txt  \n",
            " extracting: train/labels/dentist_items_280_jpg.rf.bfbb62751235369587281460f1d2c7fa.txt  \n",
            " extracting: train/labels/dentist_items_281_jpg.rf.6b44b5134c342e66b4b70ad8cc1cfe65.txt  \n",
            " extracting: train/labels/dentist_items_282_jpg.rf.114d4d60e4ae5afeaf41775d884c3cdf.txt  \n",
            " extracting: train/labels/dentist_items_283_jpg.rf.a4d7c0c367c9a6d71cdf1709ee674b16.txt  \n",
            " extracting: train/labels/dentist_items_284_jpg.rf.839b5c579c50c04e376c8e8f593c7c39.txt  \n",
            " extracting: train/labels/dentist_items_285_jpg.rf.71695c28c481fe835d5bf1fbf4d90f1a.txt  \n",
            " extracting: train/labels/dentist_items_286_jpg.rf.8329ea7a57d6398388e054dfdadd3aea.txt  \n",
            " extracting: train/labels/dentist_items_287_jpg.rf.76f2e5f945ecb6beb7a596757db5b7f6.txt  \n",
            " extracting: train/labels/dentist_items_288_jpg.rf.1838f0b4ffc09493aefa4d919d0b44eb.txt  \n",
            " extracting: train/labels/dentist_items_289_jpg.rf.5c4fa43c79c264b8bba19ec50501cc4c.txt  \n",
            " extracting: train/labels/dentist_items_28_jpg.rf.e277ea7830e212bf4d831139e4472cab.txt  \n",
            " extracting: train/labels/dentist_items_290_jpg.rf.cd62a2b6152f795dfa2dcdec22119705.txt  \n",
            " extracting: train/labels/dentist_items_291_jpg.rf.f8e7bc23a0855c2028a904bacbd05ae8.txt  \n",
            " extracting: train/labels/dentist_items_292_jpg.rf.fe91f060137c05851349960ee7be5761.txt  \n",
            " extracting: train/labels/dentist_items_293_jpg.rf.c55c31a4c429673994513d20b795e9fd.txt  \n",
            " extracting: train/labels/dentist_items_294_jpg.rf.bda264fe4dc58e19aed770dc80914d98.txt  \n",
            " extracting: train/labels/dentist_items_295_jpg.rf.8d6fea327020eed22680c35c0a775f18.txt  \n",
            " extracting: train/labels/dentist_items_296_jpg.rf.0ff74286a223f62ca3aaa8ac5ac2e22d.txt  \n",
            " extracting: train/labels/dentist_items_297_jpg.rf.9ff3b0b0414abf7b1d0aa80016d43397.txt  \n",
            " extracting: train/labels/dentist_items_298_jpg.rf.00e215f6f4b140fbe79b1ba72ff66cd2.txt  \n",
            " extracting: train/labels/dentist_items_299_jpg.rf.626c5e101fb7962b38928d92b0559447.txt  \n",
            " extracting: train/labels/dentist_items_29_jpg.rf.5f40476816e6ab04fa76f7cf0b42d789.txt  \n",
            " extracting: train/labels/dentist_items_300_jpg.rf.f38906c64f235ebd701155274d5466c6.txt  \n",
            " extracting: train/labels/dentist_items_301_jpg.rf.b67fbdc36eb861448a776c465ce1df21.txt  \n",
            " extracting: train/labels/dentist_items_302_jpg.rf.c9f0c307dfe809ad7f1de30d8665e135.txt  \n",
            " extracting: train/labels/dentist_items_303_jpg.rf.b915f2c19e543b3d54e3d69cba298675.txt  \n",
            " extracting: train/labels/dentist_items_304_jpg.rf.58607bb8f186de2249e923dc5d2b1a9e.txt  \n",
            " extracting: train/labels/dentist_items_305_jpg.rf.17f46ba2b601e9d9b53ddf726f4f5b18.txt  \n",
            " extracting: train/labels/dentist_items_306_jpg.rf.abfc7ccc617d3ce35be9705b48fdc0a6.txt  \n",
            " extracting: train/labels/dentist_items_307_jpg.rf.14c02654f144ba4523d40a02baaa43b2.txt  \n",
            " extracting: train/labels/dentist_items_308_jpg.rf.9c045c07c7f870dece61251a138d9d23.txt  \n",
            " extracting: train/labels/dentist_items_309_jpg.rf.f435d6c5bc6e1fdd5beca4d776364059.txt  \n",
            " extracting: train/labels/dentist_items_30_jpg.rf.d487b6b0ef7d7c60702c7247bbdc45da.txt  \n",
            " extracting: train/labels/dentist_items_310_jpg.rf.6d70c86358c941b05aedbf9966ad62b5.txt  \n",
            " extracting: train/labels/dentist_items_311_jpg.rf.1e102bb7e1086ba10cfc65288ad67414.txt  \n",
            " extracting: train/labels/dentist_items_312_jpg.rf.a77703c16a8176d7fdf57e6b23660544.txt  \n",
            " extracting: train/labels/dentist_items_313_jpg.rf.8ffcf067e30b77704d6944dd2dab5c8f.txt  \n",
            " extracting: train/labels/dentist_items_314_jpg.rf.85019017c32fad1f2e860472bfe96d7d.txt  \n",
            " extracting: train/labels/dentist_items_315_jpg.rf.16daaf30db2305978842602bdc54e28e.txt  \n",
            " extracting: train/labels/dentist_items_316_jpg.rf.56d4b72315542158d38958b010a773bb.txt  \n",
            " extracting: train/labels/dentist_items_317_jpg.rf.25748f27fab698abbd16aa7bfe775b11.txt  \n",
            " extracting: train/labels/dentist_items_318_jpg.rf.ff1cabdae9cf6ac8bf9886bec8790fd9.txt  \n",
            " extracting: train/labels/dentist_items_319_jpg.rf.a37962e531ffb7a5f8e9d12300f99739.txt  \n",
            " extracting: train/labels/dentist_items_31_jpg.rf.ff4003d6dde125ac795aee6f5313a90e.txt  \n",
            " extracting: train/labels/dentist_items_320_jpg.rf.639d1897b81b7f42fd9a378012e20454.txt  \n",
            " extracting: train/labels/dentist_items_321_jpg.rf.04f1bbdede713117a839c04f4765f17c.txt  \n",
            " extracting: train/labels/dentist_items_322_jpg.rf.1be11da063c75842c7ef00b42f6f4987.txt  \n",
            " extracting: train/labels/dentist_items_323_jpg.rf.c08776950d23bb6246a6a134a0c8db95.txt  \n",
            " extracting: train/labels/dentist_items_324_jpg.rf.c526d569e76a375391503d74a0a045d0.txt  \n",
            " extracting: train/labels/dentist_items_325_jpg.rf.969a84cef05485bcedbdc7da753f5f55.txt  \n",
            " extracting: train/labels/dentist_items_326_jpg.rf.7889df7ef80415016b2c8e23b143b89b.txt  \n",
            " extracting: train/labels/dentist_items_327_jpg.rf.3e6a6b5ec1e03a6d993c49f6c012dcb2.txt  \n",
            " extracting: train/labels/dentist_items_328_jpg.rf.8ab4e65bd9b9ef1f56663ce82fcf5627.txt  \n",
            " extracting: train/labels/dentist_items_329_jpg.rf.2a87921bc7db9b7dce8e40650cc8f85e.txt  \n",
            " extracting: train/labels/dentist_items_32_jpg.rf.497e03ceba5e49a0b00c440c7e26ae5b.txt  \n",
            " extracting: train/labels/dentist_items_330_jpg.rf.06f6daadaa49b734648dac9be3625975.txt  \n",
            " extracting: train/labels/dentist_items_331_jpg.rf.4e2a99ea7098cc83daab16313ad89e0a.txt  \n",
            " extracting: train/labels/dentist_items_332_jpg.rf.aff403ffa97778bf05f823a0d74adb23.txt  \n",
            " extracting: train/labels/dentist_items_333_jpg.rf.ad5402f5aa1e8d413074d3471e2ae443.txt  \n",
            " extracting: train/labels/dentist_items_334_jpg.rf.70406a2153a9f80234a0850123ba79f6.txt  \n",
            " extracting: train/labels/dentist_items_335_jpg.rf.8b1c5afdd193adc42edef9defeb06db1.txt  \n",
            " extracting: train/labels/dentist_items_336_jpg.rf.9ee1ac7a4733ac29e1f2aae7e5653352.txt  \n",
            " extracting: train/labels/dentist_items_337_jpg.rf.e716451294f3a6f8f3dd332122003b53.txt  \n",
            " extracting: train/labels/dentist_items_338_jpg.rf.306fcfe1db3dfc9e5e22abef89660cdd.txt  \n",
            " extracting: train/labels/dentist_items_339_jpg.rf.3fedd45542b8bcaad5f7bc21ff66d65c.txt  \n",
            " extracting: train/labels/dentist_items_33_jpg.rf.c4c0bd2bcc988fd2f0977f030bc34ea0.txt  \n",
            " extracting: train/labels/dentist_items_340_jpg.rf.c0ae5dbfe40f4b204dcc0b46f0157ee1.txt  \n",
            " extracting: train/labels/dentist_items_341_jpg.rf.bb0b594e5a0c7a5384c0967bcdfc44d7.txt  \n",
            " extracting: train/labels/dentist_items_342_jpg.rf.74bda1a3e2ad4e9fa19f6a35ccf93557.txt  \n",
            " extracting: train/labels/dentist_items_343_jpg.rf.c333508529fe477abb88981f3bbc4400.txt  \n",
            " extracting: train/labels/dentist_items_344_jpg.rf.30c232e135852d2ffaae70fe1e74d655.txt  \n",
            " extracting: train/labels/dentist_items_345_jpg.rf.8b2815aec50e85a73bdbb3e6d7aed9f5.txt  \n",
            " extracting: train/labels/dentist_items_346_jpg.rf.98fc6762b60b9a5b14c7732560aa269c.txt  \n",
            " extracting: train/labels/dentist_items_347_jpg.rf.dde4b55842ec19992061ea600e5b8476.txt  \n",
            " extracting: train/labels/dentist_items_348_jpg.rf.772a54dec5142d32fdc08c45004f5835.txt  \n",
            " extracting: train/labels/dentist_items_349_jpg.rf.e4cd33bf6b888ebd6982a94f2d18ec77.txt  \n",
            " extracting: train/labels/dentist_items_34_jpg.rf.03827a478c17e1b75184fdf669e56cad.txt  \n",
            " extracting: train/labels/dentist_items_350_jpg.rf.ba6d29960caca6561516acf0d8016e04.txt  \n",
            " extracting: train/labels/dentist_items_351_jpg.rf.b522de11b9ffe15a47d5f2918442354c.txt  \n",
            " extracting: train/labels/dentist_items_352_jpg.rf.c0b0f9af6a917aebeb971c05353e51cf.txt  \n",
            " extracting: train/labels/dentist_items_353_jpg.rf.de5fb0cecadba69473403e80f5d76c8c.txt  \n",
            " extracting: train/labels/dentist_items_354_jpg.rf.1b077cb2553b4a6c994407268ef43194.txt  \n",
            " extracting: train/labels/dentist_items_355_jpg.rf.ba606044ecccca9c35306e1cd3f3e9d9.txt  \n",
            " extracting: train/labels/dentist_items_356_jpg.rf.38739065b236302917fe12d7b682cad6.txt  \n",
            " extracting: train/labels/dentist_items_357_jpg.rf.8ae927c676b9652033a333a45a86b758.txt  \n",
            " extracting: train/labels/dentist_items_358_jpg.rf.2f8198718a2ee83fc90e4d10148ff286.txt  \n",
            " extracting: train/labels/dentist_items_359_jpg.rf.706f429336a090ea6594ddea3f5c4a40.txt  \n",
            " extracting: train/labels/dentist_items_35_jpg.rf.dddcd1a40676cef066c94181dc3039b1.txt  \n",
            " extracting: train/labels/dentist_items_360_jpg.rf.55f7ace7cef5c938f4a64247cbb8cdfd.txt  \n",
            " extracting: train/labels/dentist_items_361_jpg.rf.7c85989c0fd70e2b8b175b2adb550ebc.txt  \n",
            " extracting: train/labels/dentist_items_362_jpg.rf.4b30108e78c5ea1eecbcc8585f9e422d.txt  \n",
            " extracting: train/labels/dentist_items_363_jpg.rf.9e356b6f8c10747b49df2f28f7918dbd.txt  \n",
            " extracting: train/labels/dentist_items_364_jpg.rf.e3b87df56d0ff05fad6ba1ec76384b47.txt  \n",
            " extracting: train/labels/dentist_items_365_jpg.rf.9de3ea2394c822df0ccb11114bd93559.txt  \n",
            " extracting: train/labels/dentist_items_366_jpg.rf.c41566d8f1e43afb040273b16229c934.txt  \n",
            " extracting: train/labels/dentist_items_367_jpg.rf.aafca2c32c0da935d181c8161a7f21ef.txt  \n",
            " extracting: train/labels/dentist_items_368_jpg.rf.49a09a0c0db21a0c36e10ac2198a0e22.txt  \n",
            " extracting: train/labels/dentist_items_369_jpg.rf.aa65640c0a2b0d098388b14a5aafb423.txt  \n",
            " extracting: train/labels/dentist_items_36_jpg.rf.e2d50bc8d1cb67cd87a19e397b982119.txt  \n",
            " extracting: train/labels/dentist_items_370_jpg.rf.3a3ef4995ee95c03d57badbca100484c.txt  \n",
            " extracting: train/labels/dentist_items_371_jpg.rf.160ae8ded0031e8bf075a217ea2fe087.txt  \n",
            " extracting: train/labels/dentist_items_372_jpg.rf.dd05f5670cb3ea7d130087eea630f5bc.txt  \n",
            " extracting: train/labels/dentist_items_373_jpg.rf.15470c6364261ce062ea58dd9f62eebc.txt  \n",
            " extracting: train/labels/dentist_items_374_jpg.rf.c059f15f6c56ad8659c4794d6c311428.txt  \n",
            " extracting: train/labels/dentist_items_375_jpg.rf.12020237631fe2a9c13f717e9628903e.txt  \n",
            " extracting: train/labels/dentist_items_376_jpg.rf.205a2449d4fcaced43ac5742fdf3c10e.txt  \n",
            " extracting: train/labels/dentist_items_377_jpg.rf.01c30c1719e0dba4542c00623df69b84.txt  \n",
            " extracting: train/labels/dentist_items_378_jpg.rf.939e0c35b4d569e717ae527487d4208e.txt  \n",
            " extracting: train/labels/dentist_items_379_jpg.rf.423b2c9875e23403638745afa44d4487.txt  \n",
            " extracting: train/labels/dentist_items_37_jpg.rf.8d513d053318444a2d482978e5b4f4b3.txt  \n",
            " extracting: train/labels/dentist_items_380_jpg.rf.5d69b1855617b8eabea9be04a968cd2b.txt  \n",
            " extracting: train/labels/dentist_items_381_jpg.rf.f1dde36b49ad48529e4705c96ea0a127.txt  \n",
            " extracting: train/labels/dentist_items_382_jpg.rf.4d38c99ef0aff0afc54424697884bf5f.txt  \n",
            " extracting: train/labels/dentist_items_383_jpg.rf.6ec9040f435f4b0c5f9162034cfcbae6.txt  \n",
            " extracting: train/labels/dentist_items_384_jpg.rf.3eb59071f0478b5aa94ef7c0cfc811b1.txt  \n",
            " extracting: train/labels/dentist_items_385_jpg.rf.ecc7d2c585b8a74c2108e55bbf23d319.txt  \n",
            " extracting: train/labels/dentist_items_386_jpg.rf.073c5331f96a72947d00bffe6f961367.txt  \n",
            " extracting: train/labels/dentist_items_387_jpg.rf.7969655a81b9677eb7c2bae600466220.txt  \n",
            " extracting: train/labels/dentist_items_388_jpg.rf.84c8462c879383be3864d946f8fd50d4.txt  \n",
            " extracting: train/labels/dentist_items_389_jpg.rf.140ea2fa8cce08b5d698fb0b2c006cec.txt  \n",
            " extracting: train/labels/dentist_items_38_jpg.rf.6c7a32c043811d9fd937ffe525ef5454.txt  \n",
            " extracting: train/labels/dentist_items_390_jpg.rf.d700519fda96bd0ab4e2730daa4e742c.txt  \n",
            " extracting: train/labels/dentist_items_391_jpg.rf.fae6d742d12b74a38d7f448f8e037a28.txt  \n",
            " extracting: train/labels/dentist_items_392_jpg.rf.7f4826270a6b24359d5de0f89066b671.txt  \n",
            " extracting: train/labels/dentist_items_393_jpg.rf.e9810c0783e9a1086f8b36c98cdc248c.txt  \n",
            " extracting: train/labels/dentist_items_394_jpg.rf.0e55d92b35e69932b57978b4e7e5bc99.txt  \n",
            " extracting: train/labels/dentist_items_395_jpg.rf.ae7521168404f98639b3679530283ddd.txt  \n",
            " extracting: train/labels/dentist_items_396_jpg.rf.e078ceb10fa5fc224e831690edf1864f.txt  \n",
            " extracting: train/labels/dentist_items_397_jpg.rf.8048866dfa450b61ea68526b5b27e8dd.txt  \n",
            " extracting: train/labels/dentist_items_398_jpg.rf.605012edee81c381f2586d09be2df5c3.txt  \n",
            " extracting: train/labels/dentist_items_399_jpg.rf.da87cada55f5a8d761dbaad4dc60464e.txt  \n",
            " extracting: train/labels/dentist_items_39_jpg.rf.7009f08f6e89391c52cf744d1f7930a0.txt  \n",
            " extracting: train/labels/dentist_items_3_jpg.rf.6397f008a35b8bca3017b4711feb6ee5.txt  \n",
            " extracting: train/labels/dentist_items_400_jpg.rf.9373cb3eaf23f38ab97cdc775a01b44b.txt  \n",
            " extracting: train/labels/dentist_items_401_jpg.rf.c3c021c22fca6ec11ab281379ca378fe.txt  \n",
            " extracting: train/labels/dentist_items_402_jpg.rf.b32bc00473166029189d0827b981db34.txt  \n",
            " extracting: train/labels/dentist_items_403_jpg.rf.cf115dd3f8e81debac78d317f2c0f1ce.txt  \n",
            " extracting: train/labels/dentist_items_404_jpg.rf.92980c23500c079884d1cde7c7a93ebe.txt  \n",
            " extracting: train/labels/dentist_items_405_jpg.rf.1c6262db05007f19420af400c7cdcfad.txt  \n",
            " extracting: train/labels/dentist_items_406_jpg.rf.d532ef5c35874798774a4449a489a839.txt  \n",
            " extracting: train/labels/dentist_items_407_jpg.rf.6e4e6206be23ae1b069e0e24d1bc4fcd.txt  \n",
            " extracting: train/labels/dentist_items_408_jpg.rf.99b6d0b9bfcbc2e201c8fc4df68a94b6.txt  \n",
            " extracting: train/labels/dentist_items_409_jpg.rf.b5bd12fa8196990ee79cb9830dfa83d2.txt  \n",
            " extracting: train/labels/dentist_items_40_jpg.rf.5080c231b7c7449d3b4916b1d486ffa1.txt  \n",
            " extracting: train/labels/dentist_items_410_jpg.rf.d837468fd6748970699fd08a4b6c01b6.txt  \n",
            " extracting: train/labels/dentist_items_411_jpg.rf.fde8d4b16fef5e69f3113d31d9b72254.txt  \n",
            " extracting: train/labels/dentist_items_412_jpg.rf.398cbeb6b5a416a67a3d869776fd5145.txt  \n",
            " extracting: train/labels/dentist_items_413_jpg.rf.161a3f83214c9ab2e489a9f0b7b136e9.txt  \n",
            " extracting: train/labels/dentist_items_414_jpg.rf.b20885416f0cf5792b72b2aba29212b9.txt  \n",
            " extracting: train/labels/dentist_items_415_jpg.rf.f5ef5074931fbf838b328045450a1042.txt  \n",
            " extracting: train/labels/dentist_items_416_jpg.rf.e743b252a15a4fe91df64270d61d4f9b.txt  \n",
            " extracting: train/labels/dentist_items_417_jpg.rf.16d5ad93e4e4f63a217f16b6ebf8ac6f.txt  \n",
            " extracting: train/labels/dentist_items_418_jpg.rf.0b28485d1d97ac40773fbe142a43b0a2.txt  \n",
            " extracting: train/labels/dentist_items_419_jpg.rf.9092c48d0c62304a078df7561d70cdb9.txt  \n",
            " extracting: train/labels/dentist_items_41_jpg.rf.5e7ec389c0ed0b4afd98b523186fabea.txt  \n",
            " extracting: train/labels/dentist_items_420_jpg.rf.0df5b339f1bd9763271cee658b725110.txt  \n",
            " extracting: train/labels/dentist_items_421_jpg.rf.92eff4a0f9bc458965d3503dff1e3b25.txt  \n",
            " extracting: train/labels/dentist_items_422_jpg.rf.c319fa9202ecf21a1126117fd98dc7c9.txt  \n",
            " extracting: train/labels/dentist_items_423_jpg.rf.648e24d47a0a46b2caf26aff68c2fefa.txt  \n",
            " extracting: train/labels/dentist_items_424_jpg.rf.8b24eca4c48394c169c49ca686db0935.txt  \n",
            " extracting: train/labels/dentist_items_425_jpg.rf.68eab2b7f4f277a7c400e976fc204197.txt  \n",
            " extracting: train/labels/dentist_items_426_jpg.rf.337bde77ebb4ed5fbb07af8f8a7f7093.txt  \n",
            " extracting: train/labels/dentist_items_427_jpg.rf.57003d0875cf38457f2dc7b6f1d0af0a.txt  \n",
            " extracting: train/labels/dentist_items_429_jpg.rf.cbf57172266fa07e34744cb72e340a4a.txt  \n",
            " extracting: train/labels/dentist_items_42_jpg.rf.25c8faa47340bb9db9c321023a0cdc32.txt  \n",
            " extracting: train/labels/dentist_items_430_jpg.rf.11b972ba5a63640d7b71a3b0a9e8eb84.txt  \n",
            " extracting: train/labels/dentist_items_431_jpg.rf.80eb00d1fdef1af45adc26a3b376b9d7.txt  \n",
            " extracting: train/labels/dentist_items_432_jpg.rf.728fef728aadb3c82d49fbc9a8cbd0ac.txt  \n",
            " extracting: train/labels/dentist_items_434_jpg.rf.70051b1604d74af8e291b987bf063902.txt  \n",
            " extracting: train/labels/dentist_items_435_jpg.rf.3eecb028d6577487ef01bc9ee00daccf.txt  \n",
            " extracting: train/labels/dentist_items_436_jpg.rf.62ce8242bb88ee2bd93cf41b62304a14.txt  \n",
            " extracting: train/labels/dentist_items_437_jpg.rf.74c98b877956208ac31543533dfba1af.txt  \n",
            " extracting: train/labels/dentist_items_438_jpg.rf.9836a87c53fec7af34b278a9cd05a472.txt  \n",
            " extracting: train/labels/dentist_items_439_jpg.rf.a2e5b40843b965d27b89ca1047d2874f.txt  \n",
            " extracting: train/labels/dentist_items_43_jpg.rf.3b4d8a383914e107dc4edefa7c6d99d5.txt  \n",
            " extracting: train/labels/dentist_items_440_jpg.rf.d61a0706c7255b02ffc3704be09f84e7.txt  \n",
            " extracting: train/labels/dentist_items_441_jpg.rf.12151b2956e82e2131dd1e6275d6002c.txt  \n",
            " extracting: train/labels/dentist_items_442_jpg.rf.4ef42882d23c63ea0f7cf447bf7c03e4.txt  \n",
            " extracting: train/labels/dentist_items_443_jpg.rf.9cd3ef54c9abd7dc0d98b7f1a3931e59.txt  \n",
            " extracting: train/labels/dentist_items_444_jpg.rf.cac43d5ada2618b354edcec021589696.txt  \n",
            " extracting: train/labels/dentist_items_445_jpg.rf.d656eed30bb311ec5ffa939ffb17914c.txt  \n",
            " extracting: train/labels/dentist_items_446_jpg.rf.6f2c93678cd9d190527a923e8834dd4c.txt  \n",
            " extracting: train/labels/dentist_items_447_jpg.rf.c7403fd70778514baf8b2bf971caf65b.txt  \n",
            " extracting: train/labels/dentist_items_449_jpg.rf.cfc5c3b562a56d2046b263030585afe6.txt  \n",
            " extracting: train/labels/dentist_items_44_jpg.rf.54d73e674c2f5cc02e62ace5ccae4b4b.txt  \n",
            " extracting: train/labels/dentist_items_450_jpg.rf.a27128386702413f10e7240edce88faa.txt  \n",
            " extracting: train/labels/dentist_items_451_jpg.rf.2e897d2b6f5a222688d8175f66f39995.txt  \n",
            " extracting: train/labels/dentist_items_453_jpg.rf.cde2fd944094c2798a35c1c738d2bdd9.txt  \n",
            " extracting: train/labels/dentist_items_454_jpg.rf.b953bafcd76c5042cae6762be37d9f02.txt  \n",
            " extracting: train/labels/dentist_items_455_jpg.rf.92609baa3d9189067c107cda1008d8f7.txt  \n",
            " extracting: train/labels/dentist_items_456_jpg.rf.905473011386c76b0c85acd9448a35bc.txt  \n",
            " extracting: train/labels/dentist_items_457_jpg.rf.fb67eb76730d556871c056bbb888511d.txt  \n",
            " extracting: train/labels/dentist_items_458_jpg.rf.5f3e6a6c6e93ee86c47f75755c711f56.txt  \n",
            " extracting: train/labels/dentist_items_459_jpg.rf.46a09d37aaa99c3cc11401130971272f.txt  \n",
            " extracting: train/labels/dentist_items_45_jpg.rf.0dffc409afb15d5531607adc1b910bb5.txt  \n",
            " extracting: train/labels/dentist_items_461_jpg.rf.8c155b7f6aecf9647ec175dcc2958ffa.txt  \n",
            " extracting: train/labels/dentist_items_462_jpg.rf.9ff96ecca662d0d4336a47217dcd9193.txt  \n",
            " extracting: train/labels/dentist_items_463_jpg.rf.512700c977f773b28759d6bcfbc21404.txt  \n",
            " extracting: train/labels/dentist_items_465_jpg.rf.c74d5a77acaa9b0b4e7339062ab21dd8.txt  \n",
            " extracting: train/labels/dentist_items_466_jpg.rf.905cc0dfc88bab48ffc83cf2791fcc04.txt  \n",
            " extracting: train/labels/dentist_items_468_jpg.rf.d58bbf39e91803f23cf29a37d690a98a.txt  \n",
            " extracting: train/labels/dentist_items_46_jpg.rf.ee341a1a58ff880e3b198466a4586950.txt  \n",
            " extracting: train/labels/dentist_items_470_jpg.rf.c27c9feca902db8464d7556b79a07ec4.txt  \n",
            " extracting: train/labels/dentist_items_471_jpg.rf.bcead902ccfa6c518c3f36d9951826a3.txt  \n",
            " extracting: train/labels/dentist_items_472_jpg.rf.7a087d26282d830ee22fbb5e849fe636.txt  \n",
            " extracting: train/labels/dentist_items_473_jpg.rf.6a6f93cebee197471b3325d39de6c836.txt  \n",
            " extracting: train/labels/dentist_items_475_jpg.rf.a620723cde6d50ae1d48db1307cb2560.txt  \n",
            " extracting: train/labels/dentist_items_476_jpg.rf.2fd1f3f2231a33dae1b2658bd2bfdf64.txt  \n",
            " extracting: train/labels/dentist_items_477_jpg.rf.68bf245de2d23026fbb945ba9b1fc949.txt  \n",
            " extracting: train/labels/dentist_items_478_jpg.rf.52fca7180cbafc6ac76f2c7ef5314a87.txt  \n",
            " extracting: train/labels/dentist_items_479_jpg.rf.f5808a73185f7915d3cfafc8dc799bc2.txt  \n",
            " extracting: train/labels/dentist_items_47_jpg.rf.06665db39d973bbc48dac8580af3c67a.txt  \n",
            " extracting: train/labels/dentist_items_480_jpg.rf.364823c91e10dc469d7b68c37194ff9a.txt  \n",
            " extracting: train/labels/dentist_items_482_jpg.rf.c0b411067ddf51a289e4b9052edbdf01.txt  \n",
            " extracting: train/labels/dentist_items_483_jpg.rf.12218f7e31b5d0e7c5cb145b7a01416b.txt  \n",
            " extracting: train/labels/dentist_items_484_jpg.rf.bda6dba7db788d8a32caa44cdfaee6c6.txt  \n",
            " extracting: train/labels/dentist_items_485_jpg.rf.fafce6c0ad9ff68f52bd90c708817529.txt  \n",
            " extracting: train/labels/dentist_items_486_jpg.rf.93b29439cd2df4a906905f1914a54da0.txt  \n",
            " extracting: train/labels/dentist_items_487_jpg.rf.ea60a3e0dd67e69769456c1576c5d2e4.txt  \n",
            " extracting: train/labels/dentist_items_488_jpg.rf.f8f5259dbf2de530d74e3f77198a08e9.txt  \n",
            " extracting: train/labels/dentist_items_489_jpg.rf.e331be5b6e54ce0b256cbeafadde858f.txt  \n",
            " extracting: train/labels/dentist_items_490_jpg.rf.fab88a96e1360a9d20e32c622f62bb4f.txt  \n",
            " extracting: train/labels/dentist_items_492_jpg.rf.0209a4362f49c9b0d1abd093c22f3136.txt  \n",
            " extracting: train/labels/dentist_items_493_jpg.rf.187394d0f1601c7c616bcaa31104bc17.txt  \n",
            " extracting: train/labels/dentist_items_494_jpg.rf.ea2cd042c97ee3fcf153282c244859a7.txt  \n",
            " extracting: train/labels/dentist_items_495_jpg.rf.17544bbe3cd98b08332416be4bbee2f9.txt  \n",
            " extracting: train/labels/dentist_items_496_jpg.rf.104ca1d1a782f496010784952c7536b9.txt  \n",
            " extracting: train/labels/dentist_items_497_jpg.rf.1a4edaf8455df284732ee3c78541466c.txt  \n",
            " extracting: train/labels/dentist_items_498_jpg.rf.1654addc9fa2cac8500f15fa54040901.txt  \n",
            " extracting: train/labels/dentist_items_49_jpg.rf.9c31452e83e54b41edde84529e7cae15.txt  \n",
            " extracting: train/labels/dentist_items_4_jpg.rf.bbd1af1e985f249711c55c1f56946959.txt  \n",
            " extracting: train/labels/dentist_items_500_jpg.rf.47c7506b6fa8046fd4eeace262060d30.txt  \n",
            " extracting: train/labels/dentist_items_503_jpg.rf.ea45c336f82f1172287e5475e418858e.txt  \n",
            " extracting: train/labels/dentist_items_504_jpg.rf.79144f3208722e344b24fb03dbd86546.txt  \n",
            " extracting: train/labels/dentist_items_505_jpg.rf.a7973cdb9a6d13ceff056ea171009a0a.txt  \n",
            " extracting: train/labels/dentist_items_506_jpg.rf.d22e52c3679c056309c7147a3624460b.txt  \n",
            " extracting: train/labels/dentist_items_507_jpg.rf.c2ae03670ebb2f57265d244ed89428a1.txt  \n",
            " extracting: train/labels/dentist_items_50_jpg.rf.4d4692442f84aeafe63ab3ae75d028a9.txt  \n",
            " extracting: train/labels/dentist_items_510_jpg.rf.8adcc5a20ef79ca85993668a944a2a44.txt  \n",
            " extracting: train/labels/dentist_items_513_jpg.rf.37eca27f415008cbf1c28503d9b2071f.txt  \n",
            " extracting: train/labels/dentist_items_514_jpg.rf.7abf00224a48d0bb4805b4031d3f7231.txt  \n",
            " extracting: train/labels/dentist_items_515_jpg.rf.0c29983fa3d1d7dda763e38226992b43.txt  \n",
            " extracting: train/labels/dentist_items_516_jpg.rf.eb3685e910f222ddbf2b229587c87a91.txt  \n",
            " extracting: train/labels/dentist_items_518_jpg.rf.52129ea3daa8921199da0446f904eed4.txt  \n",
            " extracting: train/labels/dentist_items_51_jpg.rf.718b3def5cfb8dbbe60d6c26caaffbf4.txt  \n",
            " extracting: train/labels/dentist_items_520_jpg.rf.da7fb2267d628cc1bfe2ba1eee819a7c.txt  \n",
            " extracting: train/labels/dentist_items_521_jpg.rf.57212d3cf4d2b7519a4089255754872c.txt  \n",
            " extracting: train/labels/dentist_items_523_jpg.rf.02993744283e491f2b1f098290777b06.txt  \n",
            " extracting: train/labels/dentist_items_524_jpg.rf.0cbe9acca6b441005d8c4714d4105a0b.txt  \n",
            " extracting: train/labels/dentist_items_525_jpg.rf.c2c278be6483bb12c4ffb2de9966753e.txt  \n",
            " extracting: train/labels/dentist_items_526_jpg.rf.5ab6258205afebe3575fa66f3d9a9e2d.txt  \n",
            " extracting: train/labels/dentist_items_528_jpg.rf.8ffd6bda91e400d1d5abb9f5be6e6107.txt  \n",
            " extracting: train/labels/dentist_items_52_jpg.rf.da29d1a1f4fcebdb3e2cc653711913e8.txt  \n",
            " extracting: train/labels/dentist_items_530_jpg.rf.d6905021c4dead10ec522fd26cae30c8.txt  \n",
            " extracting: train/labels/dentist_items_531_jpg.rf.d1ed969bef7588552d338773e48b6198.txt  \n",
            " extracting: train/labels/dentist_items_532_jpg.rf.777884cf93cc09110ce4e77e8d99f9b7.txt  \n",
            " extracting: train/labels/dentist_items_534_jpg.rf.2189c14ec0225e9cf9025d66e8351541.txt  \n",
            " extracting: train/labels/dentist_items_535_jpg.rf.307cbafcc451f361fd3ee2c6e703e0ec.txt  \n",
            " extracting: train/labels/dentist_items_536_jpg.rf.ea2ac743d9b59d8982cd509da0d55ece.txt  \n",
            " extracting: train/labels/dentist_items_537_jpg.rf.827247889d5ec77eda1b5dbde25baa4d.txt  \n",
            " extracting: train/labels/dentist_items_539_jpg.rf.e6f5d7cc25f826020ec3000f63d6d644.txt  \n",
            " extracting: train/labels/dentist_items_53_jpg.rf.e9af4fc5f1cb11e2ff76af2d233224d0.txt  \n",
            " extracting: train/labels/dentist_items_540_jpg.rf.8f28b0c223783478a7a031714f38baa9.txt  \n",
            " extracting: train/labels/dentist_items_541_jpg.rf.b2e9a1497847b33c5cf7ec0dc1fe4e44.txt  \n",
            " extracting: train/labels/dentist_items_542_jpg.rf.4907c193bc5d2d683de1a6deca739aac.txt  \n",
            " extracting: train/labels/dentist_items_545_jpg.rf.4e6c03e698ab48e3e5d17498e0fa8149.txt  \n",
            " extracting: train/labels/dentist_items_546_jpg.rf.170aeb327318e353b99aa87bef7371b9.txt  \n",
            " extracting: train/labels/dentist_items_547_jpg.rf.e70acd658d41d6994fd0052542f1bc22.txt  \n",
            " extracting: train/labels/dentist_items_548_jpg.rf.f3e3732d8876894a4940565e290c6fe7.txt  \n",
            " extracting: train/labels/dentist_items_549_jpg.rf.423c7f24557262e8bbf3fe734a3833da.txt  \n",
            " extracting: train/labels/dentist_items_54_jpg.rf.01c9d0e2b1352922547a84ac10ac47aa.txt  \n",
            " extracting: train/labels/dentist_items_550_jpg.rf.05f29acdbad02db4e4018fbf8ea9f858.txt  \n",
            " extracting: train/labels/dentist_items_551_jpg.rf.a98055bfeb950e923addbf82bcd63cb9.txt  \n",
            " extracting: train/labels/dentist_items_552_jpg.rf.a4124048cf62d931404cf815c0e04ba6.txt  \n",
            " extracting: train/labels/dentist_items_553_jpg.rf.8022571f031ca21141e6c7b3e5c709a5.txt  \n",
            " extracting: train/labels/dentist_items_554_jpg.rf.89faea3c147c6a204e5cc74308ed98fb.txt  \n",
            " extracting: train/labels/dentist_items_555_jpg.rf.e8adf71d7b1acb9f6a758c20cbf0a34c.txt  \n",
            " extracting: train/labels/dentist_items_556_jpg.rf.f3df9d6bf6f52d675207c713a1f4c9a1.txt  \n",
            " extracting: train/labels/dentist_items_557_jpg.rf.fce1f81e2026b701a13683d741f7d73a.txt  \n",
            " extracting: train/labels/dentist_items_559_jpg.rf.d6934334f4cd858fafa1aa975ff6ef6f.txt  \n",
            " extracting: train/labels/dentist_items_55_jpg.rf.a4e306ec7e1e817ae4898540b1b9d0a4.txt  \n",
            " extracting: train/labels/dentist_items_561_jpg.rf.824c383218837706b52eab44a2d21ad1.txt  \n",
            " extracting: train/labels/dentist_items_562_jpg.rf.6c29513908548ad6d2973e8b48590ab6.txt  \n",
            " extracting: train/labels/dentist_items_563_jpg.rf.e952e8aa719be50edf9c1a4f25b5e8ab.txt  \n",
            " extracting: train/labels/dentist_items_566_jpg.rf.e35384274a8157658cf695e1bace7b85.txt  \n",
            " extracting: train/labels/dentist_items_567_jpg.rf.d74f500f8747ef0c1865910bbf60032f.txt  \n",
            " extracting: train/labels/dentist_items_569_jpg.rf.583f9b77dc70d3abac9bb0ccf202b2f2.txt  \n",
            " extracting: train/labels/dentist_items_56_jpg.rf.6fdea865fc2d42b1e3652f728ae56c62.txt  \n",
            " extracting: train/labels/dentist_items_570_jpg.rf.856f621de2eb3bed88bf44c4cacbc20c.txt  \n",
            " extracting: train/labels/dentist_items_571_jpg.rf.ddc7a95d0c4b5024dc6a3ee1171ee293.txt  \n",
            " extracting: train/labels/dentist_items_572_jpg.rf.dd87a1a1c0bc3d2301e672342c18d72a.txt  \n",
            " extracting: train/labels/dentist_items_574_jpg.rf.d61de596ebe7a52e085b789f20499de4.txt  \n",
            " extracting: train/labels/dentist_items_575_jpg.rf.96a8be3144ad8669d2de884e18d771c6.txt  \n",
            " extracting: train/labels/dentist_items_578_jpg.rf.b93840ea21bd1c6d5eb8658c2d8b6954.txt  \n",
            " extracting: train/labels/dentist_items_57_jpg.rf.82905e70daea54763ef386d9cb1aad6d.txt  \n",
            " extracting: train/labels/dentist_items_580_jpg.rf.bcc1ce1501e4c211a4f7aae2ee77d890.txt  \n",
            " extracting: train/labels/dentist_items_582_jpg.rf.0e33a4da25f517f43b6cd60deb633fce.txt  \n",
            " extracting: train/labels/dentist_items_583_jpg.rf.3c63bd0336f25bb38f608256d5a053a2.txt  \n",
            " extracting: train/labels/dentist_items_584_jpg.rf.3ed8fa22b8475573354ac254bc91a610.txt  \n",
            " extracting: train/labels/dentist_items_585_jpg.rf.62133ba29fa313700570f20dbeec54b7.txt  \n",
            " extracting: train/labels/dentist_items_586_jpg.rf.35e2d8d3812bbb2ce85833c1d9882e38.txt  \n",
            " extracting: train/labels/dentist_items_587_jpg.rf.53a0c755ea4b3160d4734b8c9a358193.txt  \n",
            " extracting: train/labels/dentist_items_588_jpg.rf.f3b6380008c392f62838cd933f2bd155.txt  \n",
            " extracting: train/labels/dentist_items_589_jpg.rf.676963d75b2b7e0d5f16a0a52d1a2e78.txt  \n",
            " extracting: train/labels/dentist_items_58_jpg.rf.46d813d15642eee1e91548b91f8274a1.txt  \n",
            " extracting: train/labels/dentist_items_590_jpg.rf.6c5510be74eafbd2a2a635bcefd6b69f.txt  \n",
            " extracting: train/labels/dentist_items_591_jpg.rf.a6e112d9032e93a0a01ad99e68db6f02.txt  \n",
            " extracting: train/labels/dentist_items_592_jpg.rf.ceb35dec3beb841f41ed690ff92c5e32.txt  \n",
            " extracting: train/labels/dentist_items_593_jpg.rf.96ffaa663cce04cc4cf6070c68908756.txt  \n",
            " extracting: train/labels/dentist_items_594_jpg.rf.d96b4394c52dc4ac5d81f650c1678e8e.txt  \n",
            " extracting: train/labels/dentist_items_595_jpg.rf.ea7b908d6cd0dcb43c8cc95aa8c27250.txt  \n",
            " extracting: train/labels/dentist_items_597_jpg.rf.ba433a8615417e3500bccc32c56dcc7e.txt  \n",
            " extracting: train/labels/dentist_items_598_jpg.rf.5da56a9093e38ec7aa889aaec81b7438.txt  \n",
            " extracting: train/labels/dentist_items_599_jpg.rf.9a5ef8cdcbb73553ed0b594fc37062df.txt  \n",
            " extracting: train/labels/dentist_items_59_jpg.rf.9a41ebb3cd9b1ff8b8199cd73f4197cc.txt  \n",
            " extracting: train/labels/dentist_items_5_jpg.rf.5d9fa1b2310740a90589720b353366ab.txt  \n",
            " extracting: train/labels/dentist_items_601_jpg.rf.7e5b3c48960a602fa1789f8b075eb818.txt  \n",
            " extracting: train/labels/dentist_items_602_jpg.rf.a980e3edccab77b7c73f8712815978f1.txt  \n",
            " extracting: train/labels/dentist_items_603_jpg.rf.3e05b10474242b0f356b95211edac67d.txt  \n",
            " extracting: train/labels/dentist_items_604_jpg.rf.27a1244fe47e3782813cc1fd6e145f5c.txt  \n",
            " extracting: train/labels/dentist_items_606_jpg.rf.74dbf4e9f3e14bea5f58bc5aa86fb728.txt  \n",
            " extracting: train/labels/dentist_items_607_jpg.rf.14cc3fa05576e21727bc2c79c68ea96b.txt  \n",
            " extracting: train/labels/dentist_items_608_jpg.rf.d601f4aaa1df2b7d2a9f1006c1a915ae.txt  \n",
            " extracting: train/labels/dentist_items_609_jpg.rf.100d3bd9f09c45b91c41928b9ec17fbc.txt  \n",
            " extracting: train/labels/dentist_items_611_jpg.rf.8a94bb4bb5a1b8d3b339a76046c32a3e.txt  \n",
            " extracting: train/labels/dentist_items_612_jpg.rf.ab422d07f59452fef83dd68ff474a2ec.txt  \n",
            " extracting: train/labels/dentist_items_614_jpg.rf.18e8346cce8f16ea5ef48d75b46a9c5b.txt  \n",
            " extracting: train/labels/dentist_items_615_jpg.rf.ebc38b47330557b960f04f77fec658a1.txt  \n",
            " extracting: train/labels/dentist_items_616_jpg.rf.88687abc2aaa04c2bc0297ea56b4d724.txt  \n",
            " extracting: train/labels/dentist_items_617_jpg.rf.b42a911155bac0a00553fb0d5c4e36b9.txt  \n",
            " extracting: train/labels/dentist_items_618_jpg.rf.e9f1174742af45c1829f9943dee2d14b.txt  \n",
            " extracting: train/labels/dentist_items_61_jpg.rf.885fc028e7274761105394e3164b5ffb.txt  \n",
            " extracting: train/labels/dentist_items_621_jpg.rf.5f22320c9cd7fcda92c6cf59b08af0f0.txt  \n",
            " extracting: train/labels/dentist_items_622_jpg.rf.e55a37c2d42d13c7ae6ca44517331b75.txt  \n",
            " extracting: train/labels/dentist_items_623_jpg.rf.518ae12973b7875e43ba9e7dd4413a5c.txt  \n",
            " extracting: train/labels/dentist_items_624_jpg.rf.c150629f7e5d6c828ef183088072c668.txt  \n",
            " extracting: train/labels/dentist_items_625_jpg.rf.ad1e794de71b044866156eb4b7b79c16.txt  \n",
            " extracting: train/labels/dentist_items_626_jpg.rf.1676aadc9b3458c522d1f20a3a7468d1.txt  \n",
            " extracting: train/labels/dentist_items_628_jpg.rf.b99331dd5fa576cad12d87cee5c7f971.txt  \n",
            " extracting: train/labels/dentist_items_629_jpg.rf.37c35f015f2ef6c666a8771a897636d1.txt  \n",
            " extracting: train/labels/dentist_items_62_jpg.rf.09b92945cd57fcc4df145343adb26d7f.txt  \n",
            " extracting: train/labels/dentist_items_630_jpg.rf.f9cd5c6ca681371870cf28969a7dcdd7.txt  \n",
            " extracting: train/labels/dentist_items_631_jpg.rf.ab1a5fc46223ba61ae67b213aaba68b2.txt  \n",
            " extracting: train/labels/dentist_items_632_jpg.rf.d7ca241ca60097fccc3d7b2b05034b45.txt  \n",
            " extracting: train/labels/dentist_items_633_jpg.rf.74055c2b5d25be1fe184a4ccb399d754.txt  \n",
            " extracting: train/labels/dentist_items_634_jpg.rf.d7e17cda8a4e7f75468e30623349a28c.txt  \n",
            " extracting: train/labels/dentist_items_638_jpg.rf.b291234419bf99da47e6a3dc4fa0274b.txt  \n",
            " extracting: train/labels/dentist_items_639_jpg.rf.6b858bf63241e2463437fc7b4ed3d6bd.txt  \n",
            " extracting: train/labels/dentist_items_63_jpg.rf.fe484d8e4624818e2ef59ebfd1ff2be8.txt  \n",
            " extracting: train/labels/dentist_items_641_jpg.rf.a0d4423253c7003a28376a7572a8d3cf.txt  \n",
            " extracting: train/labels/dentist_items_642_jpg.rf.514112915466640bff9c2684a88c53f5.txt  \n",
            " extracting: train/labels/dentist_items_643_jpg.rf.d68c81bc817a552915ce0a87c046825c.txt  \n",
            " extracting: train/labels/dentist_items_644_jpg.rf.562f64a3ed655240f876c654b0166e3e.txt  \n",
            " extracting: train/labels/dentist_items_646_jpg.rf.625cb51fa99eaa003700d7f455ca0269.txt  \n",
            " extracting: train/labels/dentist_items_647_jpg.rf.d71f60cd98259aac501561ca35cfa455.txt  \n",
            " extracting: train/labels/dentist_items_648_jpg.rf.010ff08e0027edf421fca989b8bed55b.txt  \n",
            " extracting: train/labels/dentist_items_649_jpg.rf.da252cb4a56904a3a97964855bf4d6a4.txt  \n",
            " extracting: train/labels/dentist_items_64_jpg.rf.563575499d64c47333ed66151a64cdbe.txt  \n",
            " extracting: train/labels/dentist_items_650_jpg.rf.126ef651bf4aa7335ff9de04d5c1274c.txt  \n",
            " extracting: train/labels/dentist_items_652_jpg.rf.61706cab2f0223a507161aa64a011555.txt  \n",
            " extracting: train/labels/dentist_items_654_jpg.rf.084b082669704aaac17ed6c0699ded5b.txt  \n",
            " extracting: train/labels/dentist_items_655_jpg.rf.4f9e19ad9aedf9c86c00fcf3c80cb820.txt  \n",
            " extracting: train/labels/dentist_items_656_jpg.rf.b30488b3f07098c59b577925a9ae9ae6.txt  \n",
            " extracting: train/labels/dentist_items_657_jpg.rf.4eade29b32cd922707108d2e3e773bb1.txt  \n",
            " extracting: train/labels/dentist_items_658_jpg.rf.d9b9e6be13c996ea5950bd303bfcb596.txt  \n",
            " extracting: train/labels/dentist_items_659_jpg.rf.329f9eddcd70698faecb972b930cda3d.txt  \n",
            " extracting: train/labels/dentist_items_660_jpg.rf.d7968a484f7d5652e46486fcc291e97f.txt  \n",
            " extracting: train/labels/dentist_items_662_jpg.rf.8a0713b715ab58ff5427c753ae4693c9.txt  \n",
            " extracting: train/labels/dentist_items_663_jpg.rf.c76896c8cf13e246cdf05b65798b2957.txt  \n",
            " extracting: train/labels/dentist_items_664_jpg.rf.db5ac4be3cd52b4a8828e686cc62737a.txt  \n",
            " extracting: train/labels/dentist_items_666_jpg.rf.c23e22f0c6570e344e70182554db4a99.txt  \n",
            " extracting: train/labels/dentist_items_667_jpg.rf.d3e4f889d3e20e0a0bb999bbb491f8ef.txt  \n",
            " extracting: train/labels/dentist_items_668_jpg.rf.dbeb77182a494e62911811d13821f1d7.txt  \n",
            " extracting: train/labels/dentist_items_669_jpg.rf.de103537a377b905891aee63bfb913e0.txt  \n",
            " extracting: train/labels/dentist_items_66_jpg.rf.3ee4d9d7380efbb2dc6d03d20f2003f0.txt  \n",
            " extracting: train/labels/dentist_items_670_jpg.rf.0c622ac4ad9b23860b8f60264d73b493.txt  \n",
            " extracting: train/labels/dentist_items_671_jpg.rf.96f27a4572b10a7f5e2436affd8d957b.txt  \n",
            " extracting: train/labels/dentist_items_672_jpg.rf.4176975158070d9798a15b26cf15df4d.txt  \n",
            " extracting: train/labels/dentist_items_673_jpg.rf.36373dfc84dd30865e5ac9e8c979797e.txt  \n",
            " extracting: train/labels/dentist_items_674_jpg.rf.222514670e369e07de3c287796060923.txt  \n",
            " extracting: train/labels/dentist_items_675_jpg.rf.b4374a41989271a936b4eb5048b0b02d.txt  \n",
            " extracting: train/labels/dentist_items_676_jpg.rf.9b03804813b8624803a7c855044e9c63.txt  \n",
            " extracting: train/labels/dentist_items_677_jpg.rf.18cd41d32556d813adc52f5bc82ad1a3.txt  \n",
            " extracting: train/labels/dentist_items_678_jpg.rf.3466d3d4ec200ed86e9543c0a300047c.txt  \n",
            " extracting: train/labels/dentist_items_67_jpg.rf.54e2d831dff5b0ca07b74e47e7a6185b.txt  \n",
            " extracting: train/labels/dentist_items_680_jpg.rf.9ccf93fb9742f89da4ba9c94f384e03a.txt  \n",
            " extracting: train/labels/dentist_items_681_jpg.rf.51c3fb6acf33992bd7dc9c00fcc02e87.txt  \n",
            " extracting: train/labels/dentist_items_683_jpg.rf.cc45584f3a7a3b7990a9315f97bad3bb.txt  \n",
            " extracting: train/labels/dentist_items_684_jpg.rf.98287003c0666ce56e478517ccdee4af.txt  \n",
            " extracting: train/labels/dentist_items_685_jpg.rf.21ba4c739730db5e130a762a4557adf2.txt  \n",
            " extracting: train/labels/dentist_items_686_jpg.rf.84d5dd72dfe7fd8afd3e9fad9dc7525b.txt  \n",
            " extracting: train/labels/dentist_items_687_jpg.rf.498f63a8a3dba05f47ef2f930fa4d6de.txt  \n",
            " extracting: train/labels/dentist_items_68_jpg.rf.27ad2c9ffa7e3cbc74a4bbe5b4c23d8b.txt  \n",
            " extracting: train/labels/dentist_items_690_jpg.rf.217a93e55f41e1aa7e015cd75c7a71f1.txt  \n",
            " extracting: train/labels/dentist_items_691_jpg.rf.e10a54614a86561650c1744a336c0ec5.txt  \n",
            " extracting: train/labels/dentist_items_692_jpg.rf.f1c0851961c60ab4b18e0534189fcf05.txt  \n",
            " extracting: train/labels/dentist_items_693_jpg.rf.cc69abf58b50b2db615baef8afaff6bb.txt  \n",
            " extracting: train/labels/dentist_items_694_jpg.rf.fb9ec6c0b09a3fe51a470bbea43b75ca.txt  \n",
            " extracting: train/labels/dentist_items_695_jpg.rf.29e7d9602aedfc0e66c7225d3536f79a.txt  \n",
            " extracting: train/labels/dentist_items_696_jpg.rf.85af4938d40dc55e0968892cb4482085.txt  \n",
            " extracting: train/labels/dentist_items_697_jpg.rf.83eb791099abeea0442444d90d171259.txt  \n",
            " extracting: train/labels/dentist_items_698_jpg.rf.7ef6ee25bcb254ac0e4aa9b46c8ab6a4.txt  \n",
            " extracting: train/labels/dentist_items_69_jpg.rf.e4795d1798a826b41751a0dc18c7d878.txt  \n",
            " extracting: train/labels/dentist_items_6_jpg.rf.1d8b13a329649a139023c12f873f4e1d.txt  \n",
            " extracting: train/labels/dentist_items_700_jpg.rf.0ee2fbcef04fd3fcbf44a6dd6db9af5c.txt  \n",
            " extracting: train/labels/dentist_items_701_jpg.rf.6eb7f3fefc2eeca98dd89fdd2f3fcfa2.txt  \n",
            " extracting: train/labels/dentist_items_702_jpg.rf.80e56534d3f463f826fe63a47d1d89b8.txt  \n",
            " extracting: train/labels/dentist_items_703_jpg.rf.0144af7c0c8049cbdd0d59f6337076c3.txt  \n",
            " extracting: train/labels/dentist_items_704_jpg.rf.bd4230c785ed7fd71264588d2661121d.txt  \n",
            " extracting: train/labels/dentist_items_706_jpg.rf.9e1fb3b5972902595187ef9778bb9590.txt  \n",
            " extracting: train/labels/dentist_items_707_jpg.rf.b547bbc0d3aee86156ff4b3b3cdf582a.txt  \n",
            " extracting: train/labels/dentist_items_70_jpg.rf.0b54b71ac1c069a3f472b4b10bc9ede7.txt  \n",
            " extracting: train/labels/dentist_items_710_jpg.rf.c288941a00b98d583e6ba722a65ce412.txt  \n",
            " extracting: train/labels/dentist_items_712_jpg.rf.b17bf6bd92780e10a71f7ad16e4e9f67.txt  \n",
            " extracting: train/labels/dentist_items_713_jpg.rf.a63cc3f1520021e8357b66999e660e2d.txt  \n",
            " extracting: train/labels/dentist_items_714_jpg.rf.ff8c48f9b24797172279dd47b03c6c43.txt  \n",
            " extracting: train/labels/dentist_items_715_jpg.rf.2b521779827f1ca7ed6f8a14e0d8167c.txt  \n",
            " extracting: train/labels/dentist_items_716_jpg.rf.d3cd7553c2b252e38c1c06e2f8156d15.txt  \n",
            " extracting: train/labels/dentist_items_717_jpg.rf.10cbd6fee7dbe36f2950cf23106b8734.txt  \n",
            " extracting: train/labels/dentist_items_718_jpg.rf.9239f780566f6e85b5692014f908ec91.txt  \n",
            " extracting: train/labels/dentist_items_71_jpg.rf.9d085af0a8d1e4db7c7ed73338652dfc.txt  \n",
            " extracting: train/labels/dentist_items_720_jpg.rf.9a53b01add87737953533334e89ca5b2.txt  \n",
            " extracting: train/labels/dentist_items_721_jpg.rf.8517646646e8e4f6be1ecacac40dc7d6.txt  \n",
            " extracting: train/labels/dentist_items_722_jpg.rf.14a6cc74a9691e8645c15f3ed3656053.txt  \n",
            " extracting: train/labels/dentist_items_723_jpg.rf.68112c8da8a5784778f8eaabb6cf0127.txt  \n",
            " extracting: train/labels/dentist_items_724_jpg.rf.2acf8724536bb7cdde13470212894a7f.txt  \n",
            " extracting: train/labels/dentist_items_725_jpg.rf.f1cd5b56f5aa612bed365ce838547125.txt  \n",
            " extracting: train/labels/dentist_items_726_jpg.rf.ae2643af5675caaf0d68e71bb3a8ce9d.txt  \n",
            " extracting: train/labels/dentist_items_727_jpg.rf.45054716733a5dcadd923909f30f5f9d.txt  \n",
            " extracting: train/labels/dentist_items_728_jpg.rf.70f361c3e86937ed4a94d5aac1578527.txt  \n",
            " extracting: train/labels/dentist_items_72_jpg.rf.257572739ee5fd0081f6e3e87e427fb2.txt  \n",
            " extracting: train/labels/dentist_items_731_jpg.rf.7b2cd27f8421c192753ae08a2ef0c3db.txt  \n",
            " extracting: train/labels/dentist_items_732_jpg.rf.536fd0049a7b5946722b4f600369775d.txt  \n",
            " extracting: train/labels/dentist_items_733_jpg.rf.862bc5e0e1071e75c7e791c0b558cce0.txt  \n",
            " extracting: train/labels/dentist_items_734_jpg.rf.89019a10d39f7a56ceb74fe5ff221c42.txt  \n",
            " extracting: train/labels/dentist_items_736_jpg.rf.c302a0fc3d904bc529ae34edbe5c4411.txt  \n",
            " extracting: train/labels/dentist_items_737_jpg.rf.069e9446a1ef24ef086dfe1cecb204f3.txt  \n",
            " extracting: train/labels/dentist_items_738_jpg.rf.7a776e8d405cfe46ca892c77b17e9d93.txt  \n",
            " extracting: train/labels/dentist_items_739_jpg.rf.16c494baf8acad67d7f369185a34d915.txt  \n",
            " extracting: train/labels/dentist_items_740_jpg.rf.9dda2b2f4dd12c9e93bc3c86c055c314.txt  \n",
            " extracting: train/labels/dentist_items_741_jpg.rf.6c8566c08c695c60147c833b05dd0d5a.txt  \n",
            " extracting: train/labels/dentist_items_742_jpg.rf.283b80452d04287715933e48933244a4.txt  \n",
            " extracting: train/labels/dentist_items_743_jpg.rf.4f73cab2ced74352156027dc83c6d958.txt  \n",
            " extracting: train/labels/dentist_items_744_jpg.rf.765742bf2d5837d0f28edd7a4ace644a.txt  \n",
            " extracting: train/labels/dentist_items_745_jpg.rf.77070dda8195379be9e79952ded1570b.txt  \n",
            " extracting: train/labels/dentist_items_746_jpg.rf.28ec27fde0f017907231e74e17dc362e.txt  \n",
            " extracting: train/labels/dentist_items_747_jpg.rf.3f57d2b58f32ee49b01d218084723435.txt  \n",
            " extracting: train/labels/dentist_items_748_jpg.rf.26ee6f731b5ed0e68246952626ebcbc0.txt  \n",
            " extracting: train/labels/dentist_items_750_jpg.rf.0c7a6660d3af33a47190dc725b20f5bf.txt  \n",
            " extracting: train/labels/dentist_items_751_jpg.rf.26d05de3fc09a9227fa8eecf0b4c2aa4.txt  \n",
            " extracting: train/labels/dentist_items_752_jpg.rf.6907c8484bfd1fda2538d78656b4b3d1.txt  \n",
            " extracting: train/labels/dentist_items_753_jpg.rf.fb45d6a3de8c18aa27a523c353baacc3.txt  \n",
            " extracting: train/labels/dentist_items_754_jpg.rf.36558b66f8720f3cb60468b252e14579.txt  \n",
            " extracting: train/labels/dentist_items_755_jpg.rf.fe70e3be1e4de102a74488b5d21a25e8.txt  \n",
            " extracting: train/labels/dentist_items_756_jpg.rf.5121d03707f7cd7a7aff40bcbddef91c.txt  \n",
            " extracting: train/labels/dentist_items_757_jpg.rf.106c4a1c398666e60e7a2f7223bfe77e.txt  \n",
            " extracting: train/labels/dentist_items_758_jpg.rf.c723bb081e55b1c59a2e43c74053a0f9.txt  \n",
            " extracting: train/labels/dentist_items_759_jpg.rf.e1bda3d23d016886bd15a4dc149d5667.txt  \n",
            " extracting: train/labels/dentist_items_760_jpg.rf.0fb4c51c4765617a6da5afc0b0639792.txt  \n",
            " extracting: train/labels/dentist_items_761_jpg.rf.058fd75d288994ff4624a23190476268.txt  \n",
            " extracting: train/labels/dentist_items_762_jpg.rf.57838e37c729c34a49a9e856e258d77a.txt  \n",
            " extracting: train/labels/dentist_items_763_jpg.rf.79dbe955009f180e1bd6f717f40b5912.txt  \n",
            " extracting: train/labels/dentist_items_764_jpg.rf.16d178a8c0beb133f52be3d2c934841a.txt  \n",
            " extracting: train/labels/dentist_items_765_jpg.rf.0b31e841d03dc1db3a15a90a6931fe74.txt  \n",
            " extracting: train/labels/dentist_items_766_jpg.rf.6d3be518ee841a5d4710ea745a1f0af0.txt  \n",
            " extracting: train/labels/dentist_items_767_jpg.rf.00d4b0a4d17944df91c3792f4f4e885d.txt  \n",
            " extracting: train/labels/dentist_items_768_jpg.rf.52fc3b0d41fb8fb4f99c4632f3d2a3b5.txt  \n",
            " extracting: train/labels/dentist_items_76_jpg.rf.ee43070d47a216935ef93ab6f1fbb7da.txt  \n",
            " extracting: train/labels/dentist_items_771_jpg.rf.75fa92783fb39b00fb441911c01bb421.txt  \n",
            " extracting: train/labels/dentist_items_772_jpg.rf.e931383897a60110c4e214a84cf162a4.txt  \n",
            " extracting: train/labels/dentist_items_773_jpg.rf.160b997108a2b145f6ee421b70eb4698.txt  \n",
            " extracting: train/labels/dentist_items_774_jpg.rf.2c44a231cc15b190edcb1300cb50874e.txt  \n",
            " extracting: train/labels/dentist_items_775_jpg.rf.acb2bf1047a6e06082e0c63cea75b478.txt  \n",
            " extracting: train/labels/dentist_items_776_jpg.rf.b432b6a48fede024453e5044c9cab673.txt  \n",
            " extracting: train/labels/dentist_items_777_jpg.rf.f6103f33a348e77d22999307cb39a7cf.txt  \n",
            " extracting: train/labels/dentist_items_778_jpg.rf.cbcdaad8861f61cfb4db41e94bf8f497.txt  \n",
            " extracting: train/labels/dentist_items_779_jpg.rf.f3fa613db2bedfc14c266cc5574be00f.txt  \n",
            " extracting: train/labels/dentist_items_77_jpg.rf.a081f699d040526f9c982f643e002b6d.txt  \n",
            " extracting: train/labels/dentist_items_780_jpg.rf.9ffb4cc3cb5f052b066d7313c75bb70a.txt  \n",
            " extracting: train/labels/dentist_items_781_jpg.rf.668716ece4b5fb51fdb82e83372bf08e.txt  \n",
            " extracting: train/labels/dentist_items_782_jpg.rf.7a841b32d921440f6f154906cdc463f8.txt  \n",
            " extracting: train/labels/dentist_items_783_jpg.rf.b47b0c4374ee5dee76f4f055df77b7c4.txt  \n",
            " extracting: train/labels/dentist_items_784_jpg.rf.4f3c650ff44615f802be080cf5b90e01.txt  \n",
            " extracting: train/labels/dentist_items_785_jpg.rf.18711bba7e5289ea7a723543bc098167.txt  \n",
            " extracting: train/labels/dentist_items_786_jpg.rf.213b78ac680272c6918b9292b54c79b8.txt  \n",
            " extracting: train/labels/dentist_items_787_jpg.rf.9273f91df2a4654241483ba1ea74a950.txt  \n",
            " extracting: train/labels/dentist_items_788_jpg.rf.fea09aaea0d4ddd8dd9751481192e160.txt  \n",
            " extracting: train/labels/dentist_items_789_jpg.rf.6ee56d7a0dcd8558a01227ab3cf972c3.txt  \n",
            " extracting: train/labels/dentist_items_78_jpg.rf.a1712120abe27a733947c5a61114cf24.txt  \n",
            " extracting: train/labels/dentist_items_790_jpg.rf.14e58d26928d7f5c122ddfdda033fb72.txt  \n",
            " extracting: train/labels/dentist_items_791_jpg.rf.3983aa5ba8b55b11ab7663e30f0aea0a.txt  \n",
            " extracting: train/labels/dentist_items_792_jpg.rf.d548abb86250d06bc134c7b02f05640d.txt  \n",
            " extracting: train/labels/dentist_items_793_jpg.rf.98b866581b0dcfdf8bb07d977046d461.txt  \n",
            " extracting: train/labels/dentist_items_794_jpg.rf.cf1ea3b6f7970c85884ffb1603ae9a63.txt  \n",
            " extracting: train/labels/dentist_items_795_jpg.rf.c726076fcbae2cb576b69c4aca8ce00e.txt  \n",
            " extracting: train/labels/dentist_items_796_jpg.rf.f2cd0abe8852da293bfe64935d6f708a.txt  \n",
            " extracting: train/labels/dentist_items_797_jpg.rf.0aba2b195e7b9950756cc93957a98216.txt  \n",
            " extracting: train/labels/dentist_items_798_jpg.rf.f7cbae5a37f0d325800baa9b910eacf7.txt  \n",
            " extracting: train/labels/dentist_items_799_jpg.rf.4202dffacf63dc5c50be41c6aefa7e19.txt  \n",
            " extracting: train/labels/dentist_items_79_jpg.rf.d0908904e734b419ab68314ba13a18ea.txt  \n",
            " extracting: train/labels/dentist_items_7_jpg.rf.2a77dc2cba708017e63ba4dc39c5397a.txt  \n",
            " extracting: train/labels/dentist_items_800_jpg.rf.fcd1cf6c85c116033ee6a66c6d4f3791.txt  \n",
            " extracting: train/labels/dentist_items_801_jpg.rf.c4a9dbe4f2dd04eead99f410de53d8a5.txt  \n",
            " extracting: train/labels/dentist_items_802_jpg.rf.837d556f0ecf85eb0a1a3790b7700b00.txt  \n",
            " extracting: train/labels/dentist_items_803_jpg.rf.a38b921a0e706c225965e532497ff469.txt  \n",
            " extracting: train/labels/dentist_items_804_jpg.rf.1dac36db67d2f89d93b055b805ba033f.txt  \n",
            " extracting: train/labels/dentist_items_805_jpg.rf.dc87497e1cd2c591259acbe78ffe81ce.txt  \n",
            " extracting: train/labels/dentist_items_806_jpg.rf.679be30c6d0aee0f5537007fdfaa734b.txt  \n",
            " extracting: train/labels/dentist_items_807_jpg.rf.09797c4d99c916644570ee96cad61346.txt  \n",
            " extracting: train/labels/dentist_items_808_jpg.rf.556b3c501dc60cf41bad61d923acb8d9.txt  \n",
            " extracting: train/labels/dentist_items_809_jpg.rf.b631465d16d3045ff61780076379dc56.txt  \n",
            " extracting: train/labels/dentist_items_80_jpg.rf.e1785cbb4e0303a02b9a647788752c85.txt  \n",
            " extracting: train/labels/dentist_items_810_jpg.rf.8d173d40f77185da44e39b72e7dbbcd8.txt  \n",
            " extracting: train/labels/dentist_items_811_jpg.rf.e2252fd959c42b82f4ec7b4c613f3fef.txt  \n",
            " extracting: train/labels/dentist_items_812_jpg.rf.86123447da6af68e060a4ec046c72203.txt  \n",
            " extracting: train/labels/dentist_items_813_jpg.rf.885eb94cd1fdcf5dfa37eefdb447877b.txt  \n",
            " extracting: train/labels/dentist_items_814_jpg.rf.fee8d009da51faa219ac7e33cf3d54d0.txt  \n",
            " extracting: train/labels/dentist_items_815_jpg.rf.988354e7f8e7a89a2f79403eac52f319.txt  \n",
            " extracting: train/labels/dentist_items_816_jpg.rf.2da4880bbf664ce3185c693909cabe3d.txt  \n",
            " extracting: train/labels/dentist_items_817_jpg.rf.12de49c13478e2234655af0ba6e0d385.txt  \n",
            " extracting: train/labels/dentist_items_818_jpg.rf.24ed067fd54a8e0f799ef06fe598415f.txt  \n",
            " extracting: train/labels/dentist_items_819_jpg.rf.0b6036ab504670a17aeb1763e3eb2a4a.txt  \n",
            " extracting: train/labels/dentist_items_81_jpg.rf.b3bc883f326727686be9fc28db909460.txt  \n",
            " extracting: train/labels/dentist_items_820_jpg.rf.59cdb378f8d4c02c8cfe22d5b9e96668.txt  \n",
            " extracting: train/labels/dentist_items_821_jpg.rf.e5aca586f7ac2b625de87c0b87fac895.txt  \n",
            " extracting: train/labels/dentist_items_822_jpg.rf.1a3135dab0311c45fd212cca51037c5c.txt  \n",
            " extracting: train/labels/dentist_items_824_jpg.rf.4b7fbf1d1a634cd9b40cc47f98ead150.txt  \n",
            " extracting: train/labels/dentist_items_825_jpg.rf.3f2d4627260e7f672d888dad37016ec4.txt  \n",
            " extracting: train/labels/dentist_items_827_jpg.rf.6e2041a73da2e75dffb67190797514a7.txt  \n",
            " extracting: train/labels/dentist_items_828_jpg.rf.f7256ba7e0fee8daae97036bab82baf5.txt  \n",
            " extracting: train/labels/dentist_items_829_jpg.rf.ba9a4491768dd3c29b16c4920909aff6.txt  \n",
            " extracting: train/labels/dentist_items_830_jpg.rf.60126ea8b28ccd21a97adeb816bb4616.txt  \n",
            " extracting: train/labels/dentist_items_831_jpg.rf.4dab37677762ae05ad24e0a0791d7f0d.txt  \n",
            " extracting: train/labels/dentist_items_832_jpg.rf.3c6fa2dc75629d59959d8eb1897e776e.txt  \n",
            " extracting: train/labels/dentist_items_833_jpg.rf.9dcd0f4d85b2b09cc8cacd9602bf004a.txt  \n",
            " extracting: train/labels/dentist_items_834_jpg.rf.45929a7c889d34abdb27b3785e88eadb.txt  \n",
            " extracting: train/labels/dentist_items_835_jpg.rf.8a35439c3d3d75179db2d2683ca36535.txt  \n",
            " extracting: train/labels/dentist_items_836_jpg.rf.c2f4a851c4b8a6bde7e713a0f37bbbef.txt  \n",
            " extracting: train/labels/dentist_items_837_jpg.rf.48b516f351855f591929d614ba7123a1.txt  \n",
            " extracting: train/labels/dentist_items_838_jpg.rf.953ee44d773797f86901e59407c2d990.txt  \n",
            " extracting: train/labels/dentist_items_839_jpg.rf.98f4d748d53d4fdb5a68b034e595e221.txt  \n",
            " extracting: train/labels/dentist_items_83_jpg.rf.9b1788f498ff6c6e35fd36e9c921292a.txt  \n",
            " extracting: train/labels/dentist_items_840_jpg.rf.b7ed6b98c79a6564933ffac3e868c817.txt  \n",
            " extracting: train/labels/dentist_items_841_jpg.rf.07a7ed242d2d7d0724d3301c5e5a9fbb.txt  \n",
            " extracting: train/labels/dentist_items_843_jpg.rf.0d2bbcb6bf81d067cb688cce09721c32.txt  \n",
            " extracting: train/labels/dentist_items_844_jpg.rf.b790b0489e1c8888cd2914f4dbe4177a.txt  \n",
            " extracting: train/labels/dentist_items_845_jpg.rf.87923169e2c8221cb9f3fddfdb476544.txt  \n",
            " extracting: train/labels/dentist_items_846_jpg.rf.775be37d356e7400479814a60c95959e.txt  \n",
            " extracting: train/labels/dentist_items_847_jpg.rf.748417aae806a64c5a70144d8208b0c1.txt  \n",
            " extracting: train/labels/dentist_items_848_jpg.rf.beef8dbdf52eb5b800cdbeffb3919ce0.txt  \n",
            " extracting: train/labels/dentist_items_849_jpg.rf.1f3d7553eae86fc44fae8d00bdb1b954.txt  \n",
            " extracting: train/labels/dentist_items_84_jpg.rf.a40b827b539b5359826a9749592b927b.txt  \n",
            " extracting: train/labels/dentist_items_850_jpg.rf.af409a019bb432ec2666b8e7b51dd511.txt  \n",
            " extracting: train/labels/dentist_items_851_jpg.rf.619e40acfa005aedbe663e6d106727e6.txt  \n",
            " extracting: train/labels/dentist_items_852_jpg.rf.e8a6fdf35967484d23cb9e00ab0801ab.txt  \n",
            " extracting: train/labels/dentist_items_853_jpg.rf.0dea85c045adf4efe821a1e76fe31bcd.txt  \n",
            " extracting: train/labels/dentist_items_854_jpg.rf.83136280fbc47fa51beee9cf7adee6cd.txt  \n",
            " extracting: train/labels/dentist_items_855_jpg.rf.04540638c629e4b8539fad973c3350fc.txt  \n",
            " extracting: train/labels/dentist_items_856_jpg.rf.d6a435dfe7a36705d86d16891f3ef5fc.txt  \n",
            " extracting: train/labels/dentist_items_857_jpg.rf.e8102e7624dfdefa15ab276dec0cd855.txt  \n",
            " extracting: train/labels/dentist_items_858_jpg.rf.34f7fe22aef420d16dd150ed290e3789.txt  \n",
            " extracting: train/labels/dentist_items_859_jpg.rf.af938e596095d12d94707fe58ae5ac59.txt  \n",
            " extracting: train/labels/dentist_items_85_jpg.rf.50d3143371315683cc0f28835428485f.txt  \n",
            " extracting: train/labels/dentist_items_860_jpg.rf.a6d35f12abbcca026ef24e12e539184e.txt  \n",
            " extracting: train/labels/dentist_items_861_jpg.rf.a9088b3f88ace550a02f31c651d70c9a.txt  \n",
            " extracting: train/labels/dentist_items_862_jpg.rf.9156c9a0228777e0f6da7be6dd115b8a.txt  \n",
            " extracting: train/labels/dentist_items_863_jpg.rf.02a83ff877bb3636848d2c177c01719f.txt  \n",
            " extracting: train/labels/dentist_items_864_jpg.rf.9ec26c87ae6c41ff9de8795e69ad7d36.txt  \n",
            " extracting: train/labels/dentist_items_865_jpg.rf.7f96c212154c148655de9658b884930b.txt  \n",
            " extracting: train/labels/dentist_items_866_jpg.rf.fdb88daee5559d6e24e4f6df41ba7ab5.txt  \n",
            " extracting: train/labels/dentist_items_867_jpg.rf.bdc2c38f31dfc28bd39305c0794e813b.txt  \n",
            " extracting: train/labels/dentist_items_868_jpg.rf.1cbed5b19b2a50d64291d28c550a0f9c.txt  \n",
            " extracting: train/labels/dentist_items_869_jpg.rf.5d4ee30a5f045ca84d62e93e51de9d3e.txt  \n",
            " extracting: train/labels/dentist_items_86_jpg.rf.9a5789b3ba54950234012c0f8368a429.txt  \n",
            " extracting: train/labels/dentist_items_870_jpg.rf.d2b9ff012d56100976f6500255674d3b.txt  \n",
            " extracting: train/labels/dentist_items_871_jpg.rf.f503709ea2fa2a6b44561750ea87f291.txt  \n",
            " extracting: train/labels/dentist_items_872_jpg.rf.974479d82c780311b0ca340759f1ea18.txt  \n",
            " extracting: train/labels/dentist_items_873_jpg.rf.13415be75adcbe96a6fbc4fe59ea8feb.txt  \n",
            " extracting: train/labels/dentist_items_874_jpg.rf.e46aebc5ff0b9f0ba24a5c1885cd8934.txt  \n",
            " extracting: train/labels/dentist_items_875_jpg.rf.a3f5f25a8c4b6ec0930f72425109b246.txt  \n",
            " extracting: train/labels/dentist_items_876_jpg.rf.25e2fc6f2ff02e223304db9f24f8732f.txt  \n",
            " extracting: train/labels/dentist_items_878_jpg.rf.6f375a12d6defd5cdda679fbac7631a0.txt  \n",
            " extracting: train/labels/dentist_items_879_jpg.rf.c35a66906cab889b87bc8da02baf0a80.txt  \n",
            " extracting: train/labels/dentist_items_87_jpg.rf.3ea4ede5e4f4adaa9c0a187c1a73f226.txt  \n",
            " extracting: train/labels/dentist_items_880_jpg.rf.85c19d5769e2f72b128bfaa123d6e120.txt  \n",
            " extracting: train/labels/dentist_items_881_jpg.rf.44d65f99c3cc6bc320ff9031e4888a38.txt  \n",
            " extracting: train/labels/dentist_items_882_jpg.rf.6dd90ac1cf9b82e85e3a1b13dfd86942.txt  \n",
            " extracting: train/labels/dentist_items_883_jpg.rf.32447fe0ae7b1134834c1cf5653eeb5c.txt  \n",
            " extracting: train/labels/dentist_items_884_jpg.rf.dfa10a09efb3f07b26394bd69f1d548a.txt  \n",
            " extracting: train/labels/dentist_items_885_jpg.rf.54499e3d7d09f74b35bad67ee3751144.txt  \n",
            " extracting: train/labels/dentist_items_886_jpg.rf.d0e1352002d4646e56c367673fea3b06.txt  \n",
            " extracting: train/labels/dentist_items_887_jpg.rf.30cf47041d8b68d4a79bf3a09ec80068.txt  \n",
            " extracting: train/labels/dentist_items_888_jpg.rf.22bf73d776738271ef3134d9f7011398.txt  \n",
            " extracting: train/labels/dentist_items_889_jpg.rf.f7e7193ea7870c7b5c4966bc73e6c1ff.txt  \n",
            " extracting: train/labels/dentist_items_88_jpg.rf.a019cc8948764925d7550c8010aba623.txt  \n",
            " extracting: train/labels/dentist_items_890_jpg.rf.c0ec9ad649d68c1d08354a8e7abb3902.txt  \n",
            " extracting: train/labels/dentist_items_891_jpg.rf.610b986003fc49d72836e6c1922389fa.txt  \n",
            " extracting: train/labels/dentist_items_892_jpg.rf.6eaefb51d7013738a03cd8bc2b9917d5.txt  \n",
            " extracting: train/labels/dentist_items_893_jpg.rf.a521e5c73f80963a1a5c68a08b507647.txt  \n",
            " extracting: train/labels/dentist_items_894_jpg.rf.5067ee2e4918ede0f719ab743e9e305f.txt  \n",
            " extracting: train/labels/dentist_items_895_jpg.rf.08c8364f6e4e414d934612747e67b694.txt  \n",
            " extracting: train/labels/dentist_items_896_jpg.rf.cb2b267cb8fb976b904d6e43124ca252.txt  \n",
            " extracting: train/labels/dentist_items_897_jpg.rf.afd972af4f17d078eac6ba51d0875aba.txt  \n",
            " extracting: train/labels/dentist_items_898_jpg.rf.4804a91c800242d0d2739b6a0edc6fc0.txt  \n",
            " extracting: train/labels/dentist_items_899_jpg.rf.ffd6ad7917884cdfb6f47cdb87aa1b47.txt  \n",
            " extracting: train/labels/dentist_items_89_jpg.rf.a9f80827b73729f76ea4148ac36d8d99.txt  \n",
            " extracting: train/labels/dentist_items_8_jpg.rf.c8504a61fd670b641985e5153b737913.txt  \n",
            " extracting: train/labels/dentist_items_900_jpg.rf.e69d5454f5f774de615aff806109bcef.txt  \n",
            " extracting: train/labels/dentist_items_901_jpg.rf.c2e9fa9a17c0b1df3c3a7b107f2168f6.txt  \n",
            " extracting: train/labels/dentist_items_902_jpg.rf.6c9ed75da1c8abbf83672a9f4add2eae.txt  \n",
            " extracting: train/labels/dentist_items_903_jpg.rf.cf0c88e0ba9717f4a7ef394cd5eaf12e.txt  \n",
            " extracting: train/labels/dentist_items_905_jpg.rf.ce844379a4f1b1e11b6da7ad7121f9d1.txt  \n",
            " extracting: train/labels/dentist_items_906_jpg.rf.28a968082dd88caba7aecbf529f3e93a.txt  \n",
            " extracting: train/labels/dentist_items_907_jpg.rf.40175f0e5446b62f8fb1d81dfb201191.txt  \n",
            " extracting: train/labels/dentist_items_908_jpg.rf.0a516540fd65cc1d4a8fcf34b211f0e5.txt  \n",
            " extracting: train/labels/dentist_items_909_jpg.rf.e256a5eed6878d430820753181da9290.txt  \n",
            " extracting: train/labels/dentist_items_910_jpg.rf.afa9110f2aafb8e6362d378f8c4a709b.txt  \n",
            " extracting: train/labels/dentist_items_911_jpg.rf.9d11a1ae1af2c902b8a0e19ac7a75174.txt  \n",
            " extracting: train/labels/dentist_items_912_jpg.rf.6c30f05644eb3a33870ce6bcf6e4f5c5.txt  \n",
            " extracting: train/labels/dentist_items_913_jpg.rf.3a2d92894adfa1b4a63240b54f20b994.txt  \n",
            " extracting: train/labels/dentist_items_914_jpg.rf.43ba219a75cd4e915dc679f089df14c2.txt  \n",
            " extracting: train/labels/dentist_items_915_jpg.rf.d13d3197066980a00c491b81fca1aa6b.txt  \n",
            " extracting: train/labels/dentist_items_916_jpg.rf.259d404825625c8a42c60773df9c7ee2.txt  \n",
            " extracting: train/labels/dentist_items_917_jpg.rf.15a7a201b6028fea5be7c939824bff18.txt  \n",
            " extracting: train/labels/dentist_items_918_jpg.rf.b1234ea71670d76761b8eb0c993e6dd0.txt  \n",
            " extracting: train/labels/dentist_items_919_jpg.rf.f6f59fa244895634b70ed8deaed335b3.txt  \n",
            " extracting: train/labels/dentist_items_91_jpg.rf.b844cd2e11e05d9cb790da4394de8f74.txt  \n",
            " extracting: train/labels/dentist_items_920_jpg.rf.dbafae6bd0a4725ca0ef2b38b8ff45fc.txt  \n",
            " extracting: train/labels/dentist_items_921_jpg.rf.102d7747e4441b583b5f3f2c647725ee.txt  \n",
            " extracting: train/labels/dentist_items_922_jpg.rf.fb2bfb5e7635abc0b9465835886567a5.txt  \n",
            " extracting: train/labels/dentist_items_924_jpg.rf.696d46e277dc67f936542e01c02dc9b0.txt  \n",
            " extracting: train/labels/dentist_items_925_jpg.rf.6770b54c062ad8b96824cb712fbd95d4.txt  \n",
            " extracting: train/labels/dentist_items_926_jpg.rf.9a3e6e4bb2a87d94eda6529b7e6e33cb.txt  \n",
            " extracting: train/labels/dentist_items_927_jpg.rf.b31cea4d6cf42318f6f87d2efe58b95a.txt  \n",
            " extracting: train/labels/dentist_items_928_jpg.rf.e694672c179a645fc831b4405aeea932.txt  \n",
            " extracting: train/labels/dentist_items_929_jpg.rf.1cc78fc273d60c0b62b73a208f243bac.txt  \n",
            " extracting: train/labels/dentist_items_92_jpg.rf.5855b699acfdbc7be10848c4e77e848a.txt  \n",
            " extracting: train/labels/dentist_items_930_jpg.rf.c12b1274b8310ad8d3f3f4d2a0c29fe0.txt  \n",
            " extracting: train/labels/dentist_items_931_jpg.rf.efc481073b4103fdcf11489a29d2e7a1.txt  \n",
            " extracting: train/labels/dentist_items_932_jpg.rf.7ef015ed78d9dd4d3e9e82541a32ea2e.txt  \n",
            " extracting: train/labels/dentist_items_933_jpg.rf.9f5f33e1a9877f2bdd8557bfff78f0d6.txt  \n",
            " extracting: train/labels/dentist_items_934_jpg.rf.70329fa10d1356ed39dd8207e45a5c3a.txt  \n",
            " extracting: train/labels/dentist_items_935_jpg.rf.5b8ef6e5d2073fb3fa0e7a091c87de52.txt  \n",
            " extracting: train/labels/dentist_items_936_jpg.rf.76c78537e08364d84955548ef6e541e3.txt  \n",
            " extracting: train/labels/dentist_items_937_jpg.rf.5c1f67d153db2e805eb1fdf3784aaf2b.txt  \n",
            " extracting: train/labels/dentist_items_939_jpg.rf.156559f4625e9a2db740d249dd9637f4.txt  \n",
            " extracting: train/labels/dentist_items_940_jpg.rf.b8dea1a85878c9eecbbf1cf6b1593e60.txt  \n",
            " extracting: train/labels/dentist_items_941_jpg.rf.88f15bea4ef3997a590b167b0b6738dc.txt  \n",
            " extracting: train/labels/dentist_items_942_jpg.rf.9e979d34e8b0d4d766257f38a41f8be0.txt  \n",
            " extracting: train/labels/dentist_items_943_jpg.rf.1a7e3d87ad0d421a9c83a25abecb6d91.txt  \n",
            " extracting: train/labels/dentist_items_944_jpg.rf.46f23d42c609f6404f469283a185537e.txt  \n",
            " extracting: train/labels/dentist_items_945_jpg.rf.22b31ea58210eea47cedd9bfaaa58fff.txt  \n",
            " extracting: train/labels/dentist_items_946_jpg.rf.f9ffb5ece97976d34b38ba35ada3e058.txt  \n",
            " extracting: train/labels/dentist_items_947_jpg.rf.8b38e6addeb98f9de0c27c7e06dd08ba.txt  \n",
            " extracting: train/labels/dentist_items_948_jpg.rf.978ec8893e937c44bdfc5c199689e36f.txt  \n",
            " extracting: train/labels/dentist_items_949_jpg.rf.f56217b31e8738ff5afb213235a33821.txt  \n",
            " extracting: train/labels/dentist_items_94_jpg.rf.0b6e4dc06d42e92b4cf220ca3d6ea429.txt  \n",
            " extracting: train/labels/dentist_items_950_jpg.rf.91b238cb522dcb956a4301ce92f683d1.txt  \n",
            " extracting: train/labels/dentist_items_951_jpg.rf.9d07bb2929c82e2a305971b8b63c73f7.txt  \n",
            " extracting: train/labels/dentist_items_952_jpg.rf.c6da7cb4ac8c7b93589ff78d431b4bfc.txt  \n",
            " extracting: train/labels/dentist_items_953_jpg.rf.65a314acc8cfca6959bd35c636b2586a.txt  \n",
            " extracting: train/labels/dentist_items_954_jpg.rf.cff2b35eee054c6dc6278518990fc482.txt  \n",
            " extracting: train/labels/dentist_items_955_jpg.rf.d273aa0937e844dd6c37d902fa9961b5.txt  \n",
            " extracting: train/labels/dentist_items_956_jpg.rf.44b55f4e090b1e63d3dfb3a5435b936b.txt  \n",
            " extracting: train/labels/dentist_items_957_jpg.rf.cd88f0e8a7966fc4a09c9d92ded243fa.txt  \n",
            " extracting: train/labels/dentist_items_958_jpg.rf.4de8fe569f83d48e12618d943cb497aa.txt  \n",
            " extracting: train/labels/dentist_items_959_jpg.rf.071a2c7bccd22cc568a61e597ddd0ba5.txt  \n",
            " extracting: train/labels/dentist_items_960_jpg.rf.ef1755a7f40d7694b5651685bc665fb5.txt  \n",
            " extracting: train/labels/dentist_items_961_jpg.rf.4f4056b4c514513c7b72c3dafb9b0a67.txt  \n",
            " extracting: train/labels/dentist_items_962_jpg.rf.a6c2642b129c175eb9000e99ead55ff7.txt  \n",
            " extracting: train/labels/dentist_items_963_jpg.rf.a079c7335ff2c538517783ef3f941c9e.txt  \n",
            " extracting: train/labels/dentist_items_964_jpg.rf.11c78aa716e1bc965f251dcabc72974d.txt  \n",
            " extracting: train/labels/dentist_items_965_jpg.rf.fd8ea3cb9d5a0051668da5adee6d2ece.txt  \n",
            " extracting: train/labels/dentist_items_966_jpg.rf.15f60f708cee675106dff61e5735177a.txt  \n",
            " extracting: train/labels/dentist_items_967_jpg.rf.12b9c487123711834f03b4bd71f56b6f.txt  \n",
            " extracting: train/labels/dentist_items_968_jpg.rf.7cfb1e88e8c86bc4bf0819afe826fb1f.txt  \n",
            " extracting: train/labels/dentist_items_969_jpg.rf.6102d3bead3950d91eae500de2f36442.txt  \n",
            " extracting: train/labels/dentist_items_96_jpg.rf.e215191fef8baf1b8bb21d034f08cd28.txt  \n",
            " extracting: train/labels/dentist_items_970_jpg.rf.aadd311382cb677c2338615a8632dba9.txt  \n",
            " extracting: train/labels/dentist_items_971_jpg.rf.cb56a1cd2af892a3a228b835e591af25.txt  \n",
            " extracting: train/labels/dentist_items_972_jpg.rf.80246a7777ac0b2d8f59ac397820ff6d.txt  \n",
            " extracting: train/labels/dentist_items_973_jpg.rf.8c761bf2d245dcf9ff37af40319caf4f.txt  \n",
            " extracting: train/labels/dentist_items_974_jpg.rf.3721c13d220d26addf8cc93e43d9d4e1.txt  \n",
            " extracting: train/labels/dentist_items_975_jpg.rf.61ae108f953de5f2c2478253bf147e96.txt  \n",
            " extracting: train/labels/dentist_items_976_jpg.rf.bb45816431a9f72e70430b543443ca72.txt  \n",
            " extracting: train/labels/dentist_items_977_jpg.rf.b40e75b6808dab2b6a6ccc411d1d2127.txt  \n",
            " extracting: train/labels/dentist_items_978_jpg.rf.7b0b64d81fdcc081e154ed51864a17ca.txt  \n",
            " extracting: train/labels/dentist_items_979_jpg.rf.ad281b074382b8630c14e31b88fbb6d3.txt  \n",
            " extracting: train/labels/dentist_items_97_jpg.rf.bc5a9b0927e1a437eae2407be6dcd449.txt  \n",
            " extracting: train/labels/dentist_items_980_jpg.rf.91050a4e91e82f04320ef3b3f79f9dc3.txt  \n",
            " extracting: train/labels/dentist_items_981_jpg.rf.cecbfbaecec2e16099d220543adbd28b.txt  \n",
            " extracting: train/labels/dentist_items_982_jpg.rf.575c72c072cd8b4bb8a5d024ea834a15.txt  \n",
            " extracting: train/labels/dentist_items_983_jpg.rf.e1f28c1d993fda96c7c2996d28862961.txt  \n",
            " extracting: train/labels/dentist_items_987_jpg.rf.d491d6b256158f5fca3dfac66480c960.txt  \n",
            " extracting: train/labels/dentist_items_988_jpg.rf.73a5fae2ea9c022b185bd9aca46fd9fc.txt  \n",
            " extracting: train/labels/dentist_items_989_jpg.rf.b94b9228e912ca31ea782e49ef21a6e4.txt  \n",
            " extracting: train/labels/dentist_items_98_jpg.rf.40a4aec0609c7c475c5bb3dcb69d5f3b.txt  \n",
            " extracting: train/labels/dentist_items_990_jpg.rf.6ffffe785bb96936fb190e485e3d23c9.txt  \n",
            " extracting: train/labels/dentist_items_991_jpg.rf.32cbdefa4fafb3c756738ebf33ac01de.txt  \n",
            " extracting: train/labels/dentist_items_992_jpg.rf.20328698c8d7c4d5419054347ec5ce41.txt  \n",
            " extracting: train/labels/dentist_items_993_jpg.rf.cf552b7d1acf77a820db7eeff88cf7b9.txt  \n",
            " extracting: train/labels/dentist_items_997_jpg.rf.279ac2cbce4a1e7e7ba3d229ef17205e.txt  \n",
            " extracting: train/labels/dentist_items_998_jpg.rf.d7a716a8fb87b855dd1c33b707b196d1.txt  \n",
            " extracting: train/labels/dentist_items_99_jpg.rf.5446c098c4d5b0744d1470abca6ef9e0.txt  \n",
            " extracting: train/labels/dentist_items_9_jpg.rf.53f506bd4b59f2e1c4560cd26d9d47dc.txt  \n",
            " extracting: train/labels/dentist_videos_01_09_0_cid_0_fr_190_ts_00-00-06-333_jpg.rf.2c7802813ab793fcdedfa56cdaa6fe1d.txt  \n",
            " extracting: train/labels/dentist_videos_01_09_0_cid_0_fr_340_ts_00-00-11-333_jpg.rf.95552081d1b821a2e06dffe32e2b2d15.txt  \n",
            " extracting: train/labels/dentist_videos_01_09_0_cid_0_fr_97_ts_00-00-03-233_jpg.rf.f2dcda9d128d64ae6b65de66d3702439.txt  \n",
            " extracting: train/labels/dentist_videos_01_09_10_cid_0_fr_1266_ts_00-00-42-200_jpg.rf.2e3f8eee30aa466f9df06645f95a10a0.txt  \n",
            " extracting: train/labels/dentist_videos_01_09_10_cid_0_fr_1760_ts_00-00-58-666_jpg.rf.37c0567780709c7b155c3d49e445695e.txt  \n",
            " extracting: train/labels/dentist_videos_01_09_10_cid_0_fr_282_ts_00-00-09-400_jpg.rf.c39c2412918b225a57a0c76af1f23840.txt  \n",
            " extracting: train/labels/dentist_videos_01_09_10_cid_0_fr_336_ts_00-00-11-200_jpg.rf.9c110d73672f6a2994d6110fe487289e.txt  \n",
            " extracting: train/labels/dentist_videos_01_09_10_cid_0_fr_403_ts_00-00-13-433_jpg.rf.c4e2e8580fd618eef642877563806135.txt  \n",
            " extracting: train/labels/dentist_videos_01_09_10_cid_0_fr_4520_ts_00-02-30-666_jpg.rf.0964576cbb987fcd49cb53f3e67ac4c6.txt  \n",
            " extracting: train/labels/dentist_videos_01_09_10_cid_0_fr_5475_ts_00-03-02-500_jpg.rf.f15061b6ea84eef65fcb9b4fe84b821b.txt  \n",
            " extracting: train/labels/dentist_videos_01_09_10_cid_0_fr_54_ts_00-00-01-800_jpg.rf.a5fcba246f61d848ff7f1cebe05cd780.txt  \n",
            " extracting: train/labels/dentist_videos_01_09_10_cid_0_fr_5570_ts_00-03-05-666_jpg.rf.884640f31d71e9e47d12f4ef5b7ee8e7.txt  \n",
            " extracting: train/labels/dentist_videos_01_09_10_cid_0_fr_57_ts_00-00-01-900_jpg.rf.21f905038527471926157b02308a4c83.txt  \n",
            " extracting: train/labels/dentist_videos_01_09_10_cid_0_fr_5930_ts_00-03-17-666_jpg.rf.491997f45f3ee60fe746863074e3bcbf.txt  \n",
            " extracting: train/labels/dentist_videos_01_09_10_cid_0_fr_6350_ts_00-03-31-666_jpg.rf.1ce8be5d18a1bbd5e812946990546459.txt  \n",
            " extracting: train/labels/dentist_videos_01_09_10_cid_0_fr_7153_ts_00-03-58-433_jpg.rf.59c4bb6dd9b5370e6f6fdd566f2f75e7.txt  \n",
            " extracting: train/labels/dentist_videos_01_09_10_cid_0_fr_7160_ts_00-03-58-666_jpg.rf.ec2d43f8db0a9055825000d30108c76e.txt  \n",
            " extracting: train/labels/dentist_videos_01_09_10_cid_0_fr_7550_ts_00-04-11-666_jpg.rf.20a3da17e575778d8fe59c222f2efa33.txt  \n",
            " extracting: train/labels/dentist_videos_01_09_10_cid_0_fr_7810_ts_00-04-20-333_jpg.rf.adc29e10c15e833f4f5e5dcf4db689d4.txt  \n",
            " extracting: train/labels/dentist_videos_01_09_10_cid_0_fr_789_ts_00-00-26-300_jpg.rf.87c8358210ff8a5513bfa63b7a2a32ee.txt  \n",
            " extracting: train/labels/dentist_videos_01_09_10_cid_0_fr_796_ts_00-00-26-533_jpg.rf.91760928705752d522990e10959185d0.txt  \n",
            " extracting: train/labels/dentist_videos_01_09_10_cid_0_fr_812_ts_00-00-27-066_jpg.rf.bf5ee08cb5f0f473304e328a8db9bb94.txt  \n",
            " extracting: train/labels/dentist_videos_01_09_10_cid_0_fr_846_ts_00-00-28-200_jpg.rf.3ca5ceaddb313fc8fdec15e2dc2173cc.txt  \n",
            " extracting: train/labels/dentist_videos_01_09_10_cid_0_fr_8620_ts_00-04-47-333_jpg.rf.2767683b06a21533c8b67e1babee4505.txt  \n",
            " extracting: train/labels/dentist_videos_01_09_10_cid_0_fr_867_ts_00-00-28-900_jpg.rf.d9cd73b95eaf54f93a2a440280169e7a.txt  \n",
            " extracting: train/labels/dentist_videos_01_09_10_cid_0_fr_878_ts_00-00-29-266_jpg.rf.a58711189192ec08fa6ee27b888d8501.txt  \n",
            " extracting: train/labels/dentist_videos_01_09_11_cid_0_fr_1180_ts_00-00-39-372_jpg.rf.614801107ed0f68b84055db6e1210be0.txt  \n",
            " extracting: train/labels/dentist_videos_01_09_11_cid_0_fr_1384_ts_00-00-46-179_jpg.rf.a05558a63ca2fffd0170ce11552cf327.txt  \n",
            " extracting: train/labels/dentist_videos_01_09_11_cid_0_fr_14_ts_00-00-00-467_jpg.rf.8e432e1d92257a41ac40353d919df3a6.txt  \n",
            " extracting: train/labels/dentist_videos_01_09_11_cid_0_fr_1510_ts_00-00-50-383_jpg.rf.b04024171200f0c49da518e9c336212c.txt  \n",
            " extracting: train/labels/dentist_videos_01_09_11_cid_0_fr_1676_ts_00-00-55-922_jpg.rf.01660c002f23eab16bae064773b15331.txt  \n",
            " extracting: train/labels/dentist_videos_01_09_11_cid_0_fr_1734_ts_00-00-57-857_jpg.rf.378f4ccb94b684f8c09f737f56286892.txt  \n",
            " extracting: train/labels/dentist_videos_01_09_11_cid_0_fr_1988_ts_00-01-06-332_jpg.rf.ca0b8311d9d782e97cd9f9dfdce4d77e.txt  \n",
            " extracting: train/labels/dentist_videos_01_09_11_cid_0_fr_2970_ts_00-01-39-099_jpg.rf.530023f6680e92858317fa8f87426224.txt  \n",
            " extracting: train/labels/dentist_videos_01_09_11_cid_0_fr_2983_ts_00-01-39-532_jpg.rf.3db33d5dfb2889ff1a72611a2d6d6070.txt  \n",
            " extracting: train/labels/dentist_videos_01_09_11_cid_0_fr_308_ts_00-00-10-276_jpg.rf.d0240de54569123673df2f6233cdea30.txt  \n",
            " extracting: train/labels/dentist_videos_01_09_11_cid_0_fr_3284_ts_00-01-49-576_jpg.rf.42fad24d8d2b9d97a904bee7c2a7e419.txt  \n",
            " extracting: train/labels/dentist_videos_01_09_11_cid_0_fr_3310_ts_00-01-50-443_jpg.rf.8ba7c10abc6d26991f6e155a33812037.txt  \n",
            " extracting: train/labels/dentist_videos_01_09_11_cid_0_fr_3470_ts_00-01-55-782_jpg.rf.b5e77c09fe447b1259a87a5bc484a9f0.txt  \n",
            " extracting: train/labels/dentist_videos_01_09_11_cid_0_fr_353_ts_00-00-11-778_jpg.rf.754853dec33efaacea6e1dae58e01271.txt  \n",
            " extracting: train/labels/dentist_videos_01_09_11_cid_0_fr_3680_ts_00-02-02-789_jpg.rf.e50ae274f5e8fce9524a83f7e7f7c187.txt  \n",
            " extracting: train/labels/dentist_videos_01_09_11_cid_0_fr_403_ts_00-00-13-446_jpg.rf.d4cf327ebf7669927d2d846cae377418.txt  \n",
            " extracting: train/labels/dentist_videos_01_09_11_cid_0_fr_4370_ts_00-02-25-812_jpg.rf.bbef7821248df21118f75c758944396e.txt  \n",
            " extracting: train/labels/dentist_videos_01_09_11_cid_0_fr_4549_ts_00-02-31-784_jpg.rf.dc070060e240e33f00c79e4c57d42291.txt  \n",
            " extracting: train/labels/dentist_videos_01_09_11_cid_0_fr_4590_ts_00-02-33-153_jpg.rf.28f85e06e49efef634b1da3b6fea78d3.txt  \n",
            " extracting: train/labels/dentist_videos_01_09_11_cid_0_fr_4990_ts_00-02-46-499_jpg.rf.159c055a603339c7f42d33676499f762.txt  \n",
            " extracting: train/labels/dentist_videos_01_09_11_cid_0_fr_4_ts_00-00-00-133_jpg.rf.3a167294aaab6c931b818a1ba1597954.txt  \n",
            " extracting: train/labels/dentist_videos_01_09_11_cid_0_fr_5046_ts_00-02-48-368_jpg.rf.91e646f5cd58adee1da9ad4d1443fdba.txt  \n",
            " extracting: train/labels/dentist_videos_01_09_11_cid_0_fr_5390_ts_00-02-59-846_jpg.rf.786255348539fd017dcbd0ca67221d6c.txt  \n",
            " extracting: train/labels/dentist_videos_01_09_11_cid_0_fr_5490_ts_00-03-03-183_jpg.rf.7dfe5adf01003707e27babe997d5d438.txt  \n",
            " extracting: train/labels/dentist_videos_01_09_11_cid_0_fr_5750_ts_00-03-11-858_jpg.rf.fbd46f5863bce3d9037f541c61df52b2.txt  \n",
            " extracting: train/labels/dentist_videos_01_09_11_cid_0_fr_578_ts_00-00-19-285_jpg.rf.2d9c12e2b52a100c362b35106426cbf6.txt  \n",
            " extracting: train/labels/dentist_videos_01_09_11_cid_0_fr_585_ts_00-00-19-519_jpg.rf.160c09c5672609eb593329cd94a5e4fa.txt  \n",
            " extracting: train/labels/dentist_videos_01_09_11_cid_0_fr_5_ts_00-00-00-166_jpg.rf.4039bb1945b9a6e74e9e0dbf0a6aa5a7.txt  \n",
            " extracting: train/labels/dentist_videos_01_09_11_cid_0_fr_610_ts_00-00-20-353_jpg.rf.afa7ecb9b3b0186915838b7fd2bb073a.txt  \n",
            " extracting: train/labels/dentist_videos_01_09_11_cid_0_fr_645_ts_00-00-21-521_jpg.rf.3f4681f86a872073eca9687b519aa080.txt  \n",
            " extracting: train/labels/dentist_videos_01_09_11_cid_0_fr_7120_ts_00-03-57-570_jpg.rf.ed949cbb2ccb6c38f4fea16f6439add1.txt  \n",
            " extracting: train/labels/dentist_videos_01_09_11_cid_0_fr_7258_ts_00-04-02-175_jpg.rf.d63a4b1723b4ac8b00d0c258a9c3d3fa.txt  \n",
            " extracting: train/labels/dentist_videos_01_09_11_cid_0_fr_7470_ts_00-04-09-249_jpg.rf.5c6ce85b95b92ab75f96d32d14e3d190.txt  \n",
            " extracting: train/labels/dentist_videos_01_09_11_cid_0_fr_7520_ts_00-04-10-917_jpg.rf.62fd016deb0c2708f09d97dbc5fb69db.txt  \n",
            " extracting: train/labels/dentist_videos_01_09_11_cid_0_fr_7600_ts_00-04-13-586_jpg.rf.bc09c2df2039e206c07ce28d4c974b62.txt  \n",
            " extracting: train/labels/dentist_videos_01_09_11_cid_0_fr_7825_ts_00-04-21-094_jpg.rf.01ffac17bacac56a14da0d426e7a5df2.txt  \n",
            " extracting: train/labels/dentist_videos_01_09_11_cid_0_fr_8117_ts_00-04-30-837_jpg.rf.ade8a806a9c8b944ad1a93abbde51523.txt  \n",
            " extracting: train/labels/dentist_videos_01_09_11_cid_0_fr_8220_ts_00-04-34-274_jpg.rf.f8d29a7953e3a4889def4f657d854c0c.txt  \n",
            " extracting: train/labels/dentist_videos_01_09_11_cid_0_fr_8390_ts_00-04-39-946_jpg.rf.811d29cf87aa9e2733b2bd77648db53d.txt  \n",
            " extracting: train/labels/dentist_videos_01_09_11_cid_0_fr_8929_ts_00-04-57-930_jpg.rf.6d2a4bf344bc258ecbd8485fbf9ced6b.txt  \n",
            " extracting: train/labels/dentist_videos_01_09_11_cid_0_fr_9540_ts_00-05-18-318_jpg.rf.4d5e0c5ebab695d2dd879b68ca1050fb.txt  \n",
            " extracting: train/labels/dentist_videos_01_09_12_cid_0_fr_1010_ts_00-00-33-700_jpg.rf.a094945c2f90635cb138f020e7455fb2.txt  \n",
            " extracting: train/labels/dentist_videos_01_09_12_cid_0_fr_1170_ts_00-00-39-039_jpg.rf.39e161af6c0298c3fdc34c126c516933.txt  \n",
            " extracting: train/labels/dentist_videos_01_09_12_cid_0_fr_1230_ts_00-00-41-041_jpg.rf.e27cf90c30d13462f8014386e3371a3f.txt  \n",
            " extracting: train/labels/dentist_videos_01_09_12_cid_0_fr_1361_ts_00-00-45-412_jpg.rf.9600805255af5b2f7b401db2e45bdd64.txt  \n",
            " extracting: train/labels/dentist_videos_01_09_12_cid_0_fr_1440_ts_00-00-48-048_jpg.rf.1151c439beabce745f368596bd278c0c.txt  \n",
            " extracting: train/labels/dentist_videos_01_09_12_cid_0_fr_1870_ts_00-01-02-395_jpg.rf.a2119ef5afd533abe2c084c05044a549.txt  \n",
            " extracting: train/labels/dentist_videos_01_09_12_cid_0_fr_1880_ts_00-01-02-729_jpg.rf.4e24c8fa113f64b28147e1398d014fa3.txt  \n",
            " extracting: train/labels/dentist_videos_01_09_12_cid_0_fr_1910_ts_00-01-03-730_jpg.rf.b07348ee965cadef53da502048bf0b30.txt  \n",
            " extracting: train/labels/dentist_videos_01_09_12_cid_0_fr_1983_ts_00-01-06-166_jpg.rf.7e7db6b02adabe40b9d60f8aabaedaa2.txt  \n",
            " extracting: train/labels/dentist_videos_01_09_12_cid_0_fr_2233_ts_00-01-14-507_jpg.rf.b1638c170796b21be37d3deef70918d6.txt  \n",
            " extracting: train/labels/dentist_videos_01_09_12_cid_0_fr_2350_ts_00-01-18-411_jpg.rf.777ae8c761cefa0c7a1e25190f73216c.txt  \n",
            " extracting: train/labels/dentist_videos_01_09_12_cid_0_fr_2399_ts_00-01-20-046_jpg.rf.f864141c6ea839098b85bff41889b590.txt  \n",
            " extracting: train/labels/dentist_videos_01_09_12_cid_0_fr_2550_ts_00-01-25-085_jpg.rf.cf4f1d5a515576550ac1dddf6df95e63.txt  \n",
            " extracting: train/labels/dentist_videos_01_09_12_cid_0_fr_3490_ts_00-01-56-449_jpg.rf.b5c257ac53b24ff73376610c58e01c69.txt  \n",
            " extracting: train/labels/dentist_videos_01_09_12_cid_0_fr_3690_ts_00-02-03-123_jpg.rf.914c21a22f44aa409c4da096546e3576.txt  \n",
            " extracting: train/labels/dentist_videos_01_09_12_cid_0_fr_3712_ts_00-02-03-857_jpg.rf.c20aefc2e238a22f666d35a89102a9f7.txt  \n",
            " extracting: train/labels/dentist_videos_01_09_12_cid_0_fr_3788_ts_00-02-06-392_jpg.rf.6e4c15f853f87b8e868b17149c9fb9ff.txt  \n",
            " extracting: train/labels/dentist_videos_01_09_12_cid_0_fr_3980_ts_00-02-12-799_jpg.rf.8d360a7da613e558bae0396b67910bad.txt  \n",
            " extracting: train/labels/dentist_videos_01_09_12_cid_0_fr_4410_ts_00-02-27-147_jpg.rf.7a5498e350d0b2d197ba835b784629e7.txt  \n",
            " extracting: train/labels/dentist_videos_01_09_12_cid_0_fr_4520_ts_00-02-30-817_jpg.rf.f28ee12a15fba0d474df0ce27b1f3e4d.txt  \n",
            " extracting: train/labels/dentist_videos_01_09_12_cid_0_fr_4540_ts_00-02-31-484_jpg.rf.a2e13e3bcb404c638cf99f9a3c026c92.txt  \n",
            " extracting: train/labels/dentist_videos_01_09_12_cid_0_fr_900_ts_00-00-30-030_jpg.rf.0c398de4aea411b652f85e2a1ee96991.txt  \n",
            " extracting: train/labels/dentist_videos_01_09_12_cid_0_fr_990_ts_00-00-33-033_jpg.rf.a8563afaaa947c004ea47c1af04de928.txt  \n",
            " extracting: train/labels/dentist_videos_01_09_14_cid_0_fr_0_ts_00-00-00-000_jpg.rf.5266312e846ad9cbe5a6a453a8158ec9.txt  \n",
            " extracting: train/labels/dentist_videos_01_09_14_cid_0_fr_10960_ts_00-06-07-415_jpg.rf.9987ad1a150a6e0a0524c780a9707272.txt  \n",
            " extracting: train/labels/dentist_videos_01_09_14_cid_0_fr_11130_ts_00-06-13-114_jpg.rf.20b45607e04316b3766ede70ade29179.txt  \n",
            " extracting: train/labels/dentist_videos_01_09_14_cid_0_fr_1146_ts_00-00-38-417_jpg.rf.0f8a1c247770be81ffa1c9d3b401805e.txt  \n",
            " extracting: train/labels/dentist_videos_01_09_14_cid_0_fr_11950_ts_00-06-40-603_jpg.rf.9e661ab9c39c69053c66df8e4c493fe9.txt  \n",
            " extracting: train/labels/dentist_videos_01_09_14_cid_0_fr_12167_ts_00-06-47-877_jpg.rf.8b92c09f5d896bb66efe38d02c2672b7.txt  \n",
            " extracting: train/labels/dentist_videos_01_09_14_cid_0_fr_12320_ts_00-06-53-007_jpg.rf.be9bde6ecbeba18bda6b9e5fbdc58508.txt  \n",
            " extracting: train/labels/dentist_videos_01_09_14_cid_0_fr_1302_ts_00-00-43-647_jpg.rf.ea0da067ae1d9326a9c6ed9ac5d2d7cf.txt  \n",
            " extracting: train/labels/dentist_videos_01_09_14_cid_0_fr_13120_ts_00-07-19-825_jpg.rf.d8b447f4ba20d9d29147334edfe42038.txt  \n",
            " extracting: train/labels/dentist_videos_01_09_14_cid_0_fr_14115_ts_00-07-53-181_jpg.rf.b3ea2c086adba73b5bd767c701e5f5d6.txt  \n",
            " extracting: train/labels/dentist_videos_01_09_14_cid_0_fr_14300_ts_00-07-59-383_jpg.rf.b7ca09c99529f5bc86eadd3ab130645a.txt  \n",
            " extracting: train/labels/dentist_videos_01_09_14_cid_0_fr_15049_ts_00-08-24-492_jpg.rf.8efa5a19029c56ff4f2d90c6d2ef884c.txt  \n",
            " extracting: train/labels/dentist_videos_01_09_14_cid_0_fr_15300_ts_00-08-32-906_jpg.rf.2c7440155a4a550367d0fb8d7eebefb8.txt  \n",
            " extracting: train/labels/dentist_videos_01_09_14_cid_0_fr_15494_ts_00-08-39-409_jpg.rf.e49281973a4f49bda906310a393e8e38.txt  \n",
            " extracting: train/labels/dentist_videos_01_09_14_cid_0_fr_1554_ts_00-00-52-095_jpg.rf.92b71c0021136a19f86a753bca89675d.txt  \n",
            " extracting: train/labels/dentist_videos_01_09_14_cid_0_fr_15920_ts_00-08-53-690_jpg.rf.22eb451d62b478a83d6020fccac7641f.txt  \n",
            " extracting: train/labels/dentist_videos_01_09_14_cid_0_fr_1614_ts_00-00-54-106_jpg.rf.a45607d79a16ca141972754173f4abd1.txt  \n",
            " extracting: train/labels/dentist_videos_01_09_14_cid_0_fr_16240_ts_00-09-04-418_jpg.rf.7932b3a35ac5b60ddb9989b70d732ac0.txt  \n",
            " extracting: train/labels/dentist_videos_01_09_14_cid_0_fr_1836_ts_00-01-01-548_jpg.rf.a521f43949cf87a4656d5f930cbc38ef.txt  \n",
            " extracting: train/labels/dentist_videos_01_09_14_cid_0_fr_19545_ts_00-10-55-212_jpg.rf.78a98244aa3b6e1bbc55db280dc67643.txt  \n",
            " extracting: train/labels/dentist_videos_01_09_14_cid_0_fr_19759_ts_00-11-02-386_jpg.rf.7a2b5afc8d76b5358fe1575979c21b6b.txt  \n",
            " extracting: train/labels/dentist_videos_01_09_14_cid_0_fr_21389_ts_00-11-57-029_jpg.rf.522684695658c12359b69d10d60e6970.txt  \n",
            " extracting: train/labels/dentist_videos_01_09_14_cid_0_fr_21960_ts_00-12-16-171_jpg.rf.ab17cb95db845eb1a556471c2b941e6d.txt  \n",
            " extracting: train/labels/dentist_videos_01_09_14_cid_0_fr_22070_ts_00-12-19-859_jpg.rf.c3dff1a6f6167a1ad07a111475c5a5a2.txt  \n",
            " extracting: train/labels/dentist_videos_01_09_14_cid_0_fr_23029_ts_00-12-52-008_jpg.rf.4dc656ead2b1a0644fc78b0819353995.txt  \n",
            " extracting: train/labels/dentist_videos_01_09_14_cid_0_fr_2330_ts_00-01-18-109_jpg.rf.6aecf52c6b6c5e665927b6bc2868b714.txt  \n",
            " extracting: train/labels/dentist_videos_01_09_1_cid_0_fr_10280_ts_00-05-42-666_jpg.rf.8dabec0be5a4ca538ff12f7bcd7ea21f.txt  \n",
            " extracting: train/labels/dentist_videos_01_09_1_cid_0_fr_149_ts_00-00-04-966_jpg.rf.d12859cae51233753f52ae4ff9263377.txt  \n",
            " extracting: train/labels/dentist_videos_01_09_1_cid_0_fr_16_ts_00-00-00-533_jpg.rf.1714c5c0a8a95c216f6684ac7f492a41.txt  \n",
            " extracting: train/labels/dentist_videos_01_09_1_cid_0_fr_2255_ts_00-01-15-166_jpg.rf.cb27584c58f6f6d7ac888f4308dad9b4.txt  \n",
            " extracting: train/labels/dentist_videos_01_09_1_cid_0_fr_23_ts_00-00-00-766_jpg.rf.e18a358589ae3f93a60112737508c31c.txt  \n",
            " extracting: train/labels/dentist_videos_01_09_1_cid_0_fr_2560_ts_00-01-25-333_jpg.rf.a4a63fb49dc71773f41c0c4464bc6568.txt  \n",
            " extracting: train/labels/dentist_videos_01_09_1_cid_0_fr_3440_ts_00-01-54-666_jpg.rf.997040e83387090d338de88a046a8f58.txt  \n",
            " extracting: train/labels/dentist_videos_01_09_1_cid_0_fr_5269_ts_00-02-55-633_jpg.rf.a6cc898d64f1c27f81ed2527ca129039.txt  \n",
            " extracting: train/labels/dentist_videos_01_09_1_cid_0_fr_5290_ts_00-02-56-333_jpg.rf.914fee545d4cd7b2958e2a42b9bfdfd3.txt  \n",
            " extracting: train/labels/dentist_videos_01_09_1_cid_0_fr_575_ts_00-00-19-166_jpg.rf.a1ab7215405de9c622cdad588f38bf84.txt  \n",
            " extracting: train/labels/dentist_videos_01_09_1_cid_0_fr_6200_ts_00-03-26-666_jpg.rf.aa9ed56979580fb2e09f786f7614233c.txt  \n",
            " extracting: train/labels/dentist_videos_01_09_1_cid_0_fr_6443_ts_00-03-34-766_jpg.rf.b1fc32b6924c2703cf01c387d5d3af07.txt  \n",
            " extracting: train/labels/dentist_videos_01_09_1_cid_0_fr_7200_ts_00-04-00-000_jpg.rf.88dcfb16e06a2382b2e73f8cba34eaf2.txt  \n",
            " extracting: train/labels/dentist_videos_01_09_1_cid_0_fr_8076_ts_00-04-29-200_jpg.rf.1219f53593745ed409d41a622ac6c50b.txt  \n",
            " extracting: train/labels/dentist_videos_01_09_1_cid_0_fr_8270_ts_00-04-35-666_jpg.rf.1550eb29bcd6493ebc894eee4e8f5c9a.txt  \n",
            " extracting: train/labels/istockphoto-470454993-1024x1024_jpg.rf.cd75b0590713bf34557d2c67387c829c.txt  \n",
            " extracting: train/labels/s300_Surgical_instruments_and_tools_including_scalpels__forceps_and_tweezers_by_Dario_Lo_Presti_at_Shutterstock_jpg.rf.e3b53575bbbb99f7ed6eb38dd7ce87cf.txt  \n",
            " extracting: train/labels/ytuty_jpg.rf.0993302570668a5661746b352d44a7e2.txt  \n",
            "   creating: valid/\n",
            "   creating: valid/images/\n",
            " extracting: valid/images/abc_jpg.rf.2eed5d5f689e27433e743f6e160e0e82.jpg  \n",
            " extracting: valid/images/cid_0_fr_0_ts_00-00-00-000-copy-2_jpg.rf.32dfd5ca2fecdb9435f83b432235f3bf.jpg  \n",
            " extracting: valid/images/cid_0_fr_0_ts_00-00-00-000-copy_jpg.rf.e8842f3266b5129f8aba3910db3437af.jpg  \n",
            " extracting: valid/images/cid_0_fr_1008_ts_00-00-40-320_jpg.rf.5d50e1c558c999373cef116f7172d6d9.jpg  \n",
            " extracting: valid/images/cid_0_fr_10199_ts_00-07-05-383_jpg.rf.ac70b30cd4b0e08b8011580148b04b66.jpg  \n",
            " extracting: valid/images/cid_0_fr_10308_ts_00-07-09-929_jpg.rf.821873b9e8ce63d21603aa4b8544bb6b.jpg  \n",
            " extracting: valid/images/cid_0_fr_1041_ts_00-00-43-418_jpg.rf.21ea49e2a0ae71c6038f8a9765926254.jpg  \n",
            " extracting: valid/images/cid_0_fr_1048_ts_00-00-43-710_jpg.rf.33b253b0139bba16493901ff3cbc0c57.jpg  \n",
            " extracting: valid/images/cid_0_fr_1054_ts_00-00-42-160_jpg.rf.8278e72715a5d49ff7b5376bd8fcf7b5.jpg  \n",
            " extracting: valid/images/cid_0_fr_10755_ts_00-07-28-573_jpg.rf.c23218986b96a93f410f799bb23184f4.jpg  \n",
            " extracting: valid/images/cid_0_fr_10837_ts_00-07-31-993_jpg.rf.0021acca74f445c8cf91bf2b87bffe58.jpg  \n",
            " extracting: valid/images/cid_0_fr_1105_ts_00-00-46-087_jpg.rf.d54d1f10756df5a5c0726d9f5bd22d45.jpg  \n",
            " extracting: valid/images/cid_0_fr_11096_ts_00-07-42-795_jpg.rf.ca67565252627e465c4cf64a62807d4b.jpg  \n",
            " extracting: valid/images/cid_0_fr_11315_ts_00-07-51-929_jpg.rf.f913aff001d6376e09c437211e941e94.jpg  \n",
            " extracting: valid/images/cid_0_fr_1132_ts_00-00-47-213_jpg.rf.604a9d34f5b6c3fb856b746ab5b291e2.jpg  \n",
            " extracting: valid/images/cid_0_fr_11356_ts_00-07-53-639_jpg.rf.bf13eb47acbe2c04d030a903df68837a.jpg  \n",
            " extracting: valid/images/cid_0_fr_1152_ts_00-00-48-048_jpg.rf.77a022c97530a695866cc41a3bd43475.jpg  \n",
            " extracting: valid/images/cid_0_fr_1153_ts_00-00-48-089_jpg.rf.b4c5585a0322339c8e325a2b628f7986.jpg  \n",
            " extracting: valid/images/cid_0_fr_1157_ts_00-00-46-280_jpg.rf.450e22d7b06d6354821babd9941aa62c.jpg  \n",
            " extracting: valid/images/cid_0_fr_11920_ts_00-08-17-163_jpg.rf.9fba274c6829215e99491091ad6533e2.jpg  \n",
            " extracting: valid/images/cid_0_fr_1235_ts_00-00-51-509_jpg.rf.68bf160242460ab1e85a581bfa67b7ff.jpg  \n",
            " extracting: valid/images/cid_0_fr_1261_ts_00-00-50-440_jpg.rf.3950593e0ce06888e9334a04d6f90133.jpg  \n",
            " extracting: valid/images/cid_0_fr_1277_ts_00-00-53-261_jpg.rf.f038eba2658c3b5a53d6a75154b88063.jpg  \n",
            " extracting: valid/images/cid_0_fr_1284_ts_00-00-53-553_jpg.rf.6427ab5b1d0e18917d00bf95e2fd648d.jpg  \n",
            " extracting: valid/images/cid_0_fr_1306_ts_00-00-54-471_jpg.rf.4e3cb5e733bcbb84c433cb09dd6b9c90.jpg  \n",
            " extracting: valid/images/cid_0_fr_1315_ts_00-00-54-846_jpg.rf.61011a3127e78be48d72f4bb9145a0f1.jpg  \n",
            " extracting: valid/images/cid_0_fr_1324_ts_00-00-55-221_jpg.rf.4dc44e27bca48033ef04ce1d54f81450.jpg  \n",
            " extracting: valid/images/cid_0_fr_1330_ts_00-00-53-200_jpg.rf.ea3771037c37821dbfee67b76dacf16b.jpg  \n",
            " extracting: valid/images/cid_0_fr_1331_ts_00-00-55-513_jpg.rf.f0cee9df6823afce98e1a2fcec289e07.jpg  \n",
            " extracting: valid/images/cid_0_fr_1347_ts_00-00-56-181_jpg.rf.99f09f3049503d2aecdb43c919280fb8.jpg  \n",
            " extracting: valid/images/cid_0_fr_1360_ts_00-00-56-723_jpg.rf.61e66cdf49d1dcc09c85e9356cc3e352.jpg  \n",
            " extracting: valid/images/cid_0_fr_1368_ts_00-00-57-057_jpg.rf.2ebc4875b6dfe8a35be0f55f126205a8.jpg  \n",
            " extracting: valid/images/cid_0_fr_136_ts_00-00-04-537_jpg.rf.5f105a089ebb81edc355310d5e8efd4a.jpg  \n",
            " extracting: valid/images/cid_0_fr_1373_ts_00-00-57-265_jpg.rf.ccd0ae7ca36dcb02b0b80387e4755f1d.jpg  \n",
            " extracting: valid/images/cid_0_fr_1381_ts_00-00-57-599_jpg.rf.f1c8fe4b0266ae6cb597b54fd8dfc2c9.jpg  \n",
            " extracting: valid/images/cid_0_fr_1384_ts_00-00-57-724_jpg.rf.14107b8f36cc9d44a288e0bcf0449f98.jpg  \n",
            " extracting: valid/images/cid_0_fr_1397_ts_00-00-58-266_jpg.rf.cfc56b65cb8282757baa24c3de6108a5.jpg  \n",
            " extracting: valid/images/cid_0_fr_1437_ts_00-00-59-934_jpg.rf.3ccc13c635469455602f1dd49c96c2d4.jpg  \n",
            " extracting: valid/images/cid_0_fr_1490_ts_00-01-02-145_jpg.rf.f89c3e2687979bc43d27d240f221db67.jpg  \n",
            " extracting: valid/images/cid_0_fr_150_ts_00-00-06-256_jpg.rf.d2066c53c23f5222b7cddc5d674fd21c.jpg  \n",
            " extracting: valid/images/cid_0_fr_1568_ts_00-01-05-398_jpg.rf.e3a101623984bb9c978fdecd8933eba4.jpg  \n",
            " extracting: valid/images/cid_0_fr_1590_ts_00-01-06-316_jpg.rf.059add2471e8baa9acfdf2c77389c091.jpg  \n",
            " extracting: valid/images/cid_0_fr_1623_ts_00-01-07-692_jpg.rf.bf57c402579a56f4e36125077d7909e4.jpg  \n",
            " extracting: valid/images/cid_0_fr_1641_ts_00-01-05-640_jpg.rf.b965de300a871578423bf88e9ea943c5.jpg  \n",
            " extracting: valid/images/cid_0_fr_1649_ts_00-01-05-960_jpg.rf.60e66c17a582c53066965ca4978725be.jpg  \n",
            " extracting: valid/images/cid_0_fr_1666_ts_00-01-09-486_jpg.rf.452aac3a21ca258fc174dd9e26969acd.jpg  \n",
            " extracting: valid/images/cid_0_fr_1672_ts_00-01-06-880_jpg.rf.5591da21e2a43cea78263da6d47e411e.jpg  \n",
            " extracting: valid/images/cid_0_fr_1686_ts_00-01-07-440_jpg.rf.3a43edca6db721b6d2bd291ae70fddc0.jpg  \n",
            " extracting: valid/images/cid_0_fr_1719_ts_00-01-11-696_jpg.rf.70471cdbff7d5cd79a49bf54e6795b83.jpg  \n",
            " extracting: valid/images/cid_0_fr_1765_ts_00-01-13-615_jpg.rf.e96a207405df01a80f802ba8add574bb.jpg  \n",
            " extracting: valid/images/cid_0_fr_1767_ts_00-01-10-680_jpg.rf.918d5498b47278bf3738d144580782c1.jpg  \n",
            " extracting: valid/images/cid_0_fr_1791_ts_00-01-14-699_jpg.rf.522fdf8492108c3f67f0143ab16f5e21.jpg  \n",
            " extracting: valid/images/cid_0_fr_1799_ts_00-01-11-960_jpg.rf.0d22483088de6697bdf9f68ebf7c72d8.jpg  \n",
            " extracting: valid/images/cid_0_fr_1839_ts_00-01-16-701_jpg.rf.21bb438d6319ac51ec0e5ebb133a7634.jpg  \n",
            " extracting: valid/images/cid_0_fr_1841_ts_00-01-13-640_jpg.rf.fdf43cc417a3c2bc9843a1d8c2e68396.jpg  \n",
            " extracting: valid/images/cid_0_fr_1917_ts_00-01-19-954_jpg.rf.5abf27910525cdfc860c5a9d80058b79.jpg  \n",
            " extracting: valid/images/cid_0_fr_1931_ts_00-01-20-538_jpg.rf.ff1784f41f37d710a5e8e135b7bd857c.jpg  \n",
            " extracting: valid/images/cid_0_fr_1956_ts_00-01-21-581_jpg.rf.46ad4667c875cbd790f9e0eb3e4602a4.jpg  \n",
            " extracting: valid/images/cid_0_fr_1960_ts_00-01-21-748_jpg.rf.0bb2e669f2cfd1487e8786ed19c011cd.jpg  \n",
            " extracting: valid/images/cid_0_fr_1975_ts_00-01-19-000_jpg.rf.2612c50e0bd26b303d21ac844c117b16.jpg  \n",
            " extracting: valid/images/cid_0_fr_1995_ts_00-01-19-800_jpg.rf.de6d55e01927fbeb5d950616c9f66f93.jpg  \n",
            " extracting: valid/images/cid_0_fr_199_ts_00-00-07-960_jpg.rf.fc5105151ae7c7816a2688681aee21cc.jpg  \n",
            " extracting: valid/images/cid_0_fr_2103_ts_00-01-24-120_jpg.rf.594defa4a8f337243594cd412ce52842.jpg  \n",
            " extracting: valid/images/cid_0_fr_2111_ts_00-01-24-440_jpg.rf.db418e58ce0cbf19747c9251c3b98ff6.jpg  \n",
            " extracting: valid/images/cid_0_fr_2121_ts_00-01-24-840_jpg.rf.70db1fb1d0035f6f638b60127f865dc2.jpg  \n",
            " extracting: valid/images/cid_0_fr_2126_ts_00-01-25-040_jpg.rf.890aaf6ef3c354670c9e5ec663b79097.jpg  \n",
            " extracting: valid/images/cid_0_fr_2127_ts_00-01-28-713_jpg.rf.4eea97628d48e43ea8c021fa08f59254.jpg  \n",
            " extracting: valid/images/cid_0_fr_2143_ts_00-01-29-380_jpg.rf.93b0d02761e16afffbcd42a7a4c18f0b.jpg  \n",
            " extracting: valid/images/cid_0_fr_2154_ts_00-01-29-839_jpg.rf.55edd83acae866b65604323652cd5af6.jpg  \n",
            " extracting: valid/images/cid_0_fr_2157_ts_00-01-26-280_jpg.rf.d0a141ca44d3c48757b69da828f3e034.jpg  \n",
            " extracting: valid/images/cid_0_fr_2183_ts_00-01-27-320_jpg.rf.1a0baa8679eae1736ced2c7dd7bff893.jpg  \n",
            " extracting: valid/images/cid_0_fr_2207_ts_00-01-28-280_jpg.rf.baa3da3ed7bc82ada87240676d25f5d3.jpg  \n",
            " extracting: valid/images/cid_0_fr_2234_ts_00-01-33-176_jpg.rf.6434d74d619b33eb91b020a9fb0b1565.jpg  \n",
            " extracting: valid/images/cid_0_fr_2316_ts_00-01-36-596-copy_jpg.rf.d68d9251b5974e509d81dc7c95fe7387.jpg  \n",
            " extracting: valid/images/cid_0_fr_2324_ts_00-01-36-930_jpg.rf.e970473d5eb92edc4750272e736f1040.jpg  \n",
            " extracting: valid/images/cid_0_fr_2344_ts_00-01-37-764_jpg.rf.5848c7fae069e1d1b0623d9b717c7f46.jpg  \n",
            " extracting: valid/images/cid_0_fr_2377_ts_00-01-39-140_jpg.rf.03857e3b349cf50885998f4f816f3a5f.jpg  \n",
            " extracting: valid/images/cid_0_fr_2385_ts_00-01-39-474_jpg.rf.09169d822c3f665b55d616726f014cc6.jpg  \n",
            " extracting: valid/images/cid_0_fr_2398_ts_00-01-40-016_jpg.rf.8a345f526a5322c3bfe2676e8fefea7b.jpg  \n",
            " extracting: valid/images/cid_0_fr_2418_ts_00-01-40-850_jpg.rf.e4d33f174983a1a4493a8c33d03f2756.jpg  \n",
            " extracting: valid/images/cid_0_fr_2462_ts_00-01-42-685_jpg.rf.f1322f7ecd3125abf4a9aac7e00fd9ec.jpg  \n",
            " extracting: valid/images/cid_0_fr_2488_ts_00-01-39-520_jpg.rf.647b388fdabbd0d1f6efc75122ee90d0.jpg  \n",
            " extracting: valid/images/cid_0_fr_2538_ts_00-01-45-855_jpg.rf.9597d7dcf753a1cc839fe064a507c2ae.jpg  \n",
            " extracting: valid/images/cid_0_fr_2557_ts_00-01-46-648_jpg.rf.4ef3c09774db7f66a8bf8b951655011d.jpg  \n",
            " extracting: valid/images/cid_0_fr_2580_ts_00-01-47-607_jpg.rf.e6e1d725e70d7b0c7aacd1337bee137f.jpg  \n",
            " extracting: valid/images/cid_0_fr_2657_ts_00-01-46-280_jpg.rf.21b2f2e3f521716334f42c7a4c0d7792.jpg  \n",
            " extracting: valid/images/cid_0_fr_2657_ts_00-01-50-819_jpg.rf.f63152e270ab7b7ffc5251a7b6b12618.jpg  \n",
            " extracting: valid/images/cid_0_fr_2679_ts_00-01-47-160_jpg.rf.0897f8de7d9609a01b448dd13ae752d3.jpg  \n",
            " extracting: valid/images/cid_0_fr_2696_ts_00-01-52-445_jpg.rf.b92b6d2281c58315dd78f205d33afa6a.jpg  \n",
            " extracting: valid/images/cid_0_fr_2726_ts_00-01-53-696_jpg.rf.988dc949799db77777b03cf2f90fc2e6.jpg  \n",
            " extracting: valid/images/cid_0_fr_2732_ts_00-01-53-947_jpg.rf.ea48d3b2e46835cc488cbb3c1d240b6c.jpg  \n",
            " extracting: valid/images/cid_0_fr_2735_ts_00-01-54-072_jpg.rf.a35548c9e90c93c3e19c4f73b9bd2524.jpg  \n",
            " extracting: valid/images/cid_0_fr_2737_ts_00-01-49-480_jpg.rf.0ac054086dd4facef52e09b628588f77.jpg  \n",
            " extracting: valid/images/cid_0_fr_2751_ts_00-01-54-739_jpg.rf.79955973fa83a1ee4fc5d03ff9cc8f3f.jpg  \n",
            " extracting: valid/images/cid_0_fr_2760_ts_00-01-55-115_jpg.rf.dfff9d05dd76bbefa315caf0b09778c0.jpg  \n",
            " extracting: valid/images/cid_0_fr_276_ts_00-00-11-040_jpg.rf.58378c863c861f03406e540650633c2a.jpg  \n",
            " extracting: valid/images/cid_0_fr_2789_ts_00-01-56-324_jpg.rf.e50b4c16ff3c34720abaf20123640ef2.jpg  \n",
            " extracting: valid/images/cid_0_fr_2795_ts_00-01-51-800_jpg.rf.5a8a7f0fb82f025b7f1416144941a478.jpg  \n",
            " extracting: valid/images/cid_0_fr_2796_ts_00-01-56-616_jpg.rf.446bcfdc900e4ff233202e2bb9032c34.jpg  \n",
            " extracting: valid/images/cid_0_fr_2802_ts_00-01-56-866_jpg.rf.8476316bdc62214fe438651ab550a3bb.jpg  \n",
            " extracting: valid/images/cid_0_fr_2810_ts_00-01-57-200_jpg.rf.0c78283b00d28dcf32c2dba0192efc79.jpg  \n",
            " extracting: valid/images/cid_0_fr_282_ts_00-00-11-280_jpg.rf.395db61e1e0dc8b0a13d51cc1862128d.jpg  \n",
            " extracting: valid/images/cid_0_fr_2836_ts_00-01-58-284_jpg.rf.9dbfa78344c8f799a7af04ea4241adba.jpg  \n",
            " extracting: valid/images/cid_0_fr_2837_ts_00-01-53-480_jpg.rf.76736bf8fc0af942bd47f09916ff3511.jpg  \n",
            " extracting: valid/images/cid_0_fr_2841_ts_00-01-58-493_jpg.rf.8c46d439d2a1d1a41b4e923b21d262d2.jpg  \n",
            " extracting: valid/images/cid_0_fr_2870_ts_00-01-59-702_jpg.rf.c586eba972f97edc7f1f47bade9d3368.jpg  \n",
            " extracting: valid/images/cid_0_fr_287_ts_00-00-11-970_jpg.rf.9aadb45bafead0884451574b873327f3.jpg  \n",
            " extracting: valid/images/cid_0_fr_2884_ts_00-02-00-286_jpg.rf.2294b947fe82992b03091a08afbacdb0.jpg  \n",
            " extracting: valid/images/cid_0_fr_2908_ts_00-02-01-287_jpg.rf.32f54cd7a638d720dff30551f7e6ba47.jpg  \n",
            " extracting: valid/images/cid_0_fr_2960_ts_00-02-03-456_jpg.rf.25d2b178fead0907952050bc8c3ddbf9.jpg  \n",
            " extracting: valid/images/cid_0_fr_2970_ts_00-02-03-873_jpg.rf.36631609b89ec6fa39b83e96c056c297.jpg  \n",
            " extracting: valid/images/cid_0_fr_297_ts_00-00-12-387_jpg.rf.20c5366962f70faaa677e61045289ef1.jpg  \n",
            " extracting: valid/images/cid_0_fr_2988_ts_00-02-04-624_jpg.rf.d0a7dd4e366b4049b48bb4861c599be4.jpg  \n",
            " extracting: valid/images/cid_0_fr_3030_ts_00-02-01-200_jpg.rf.ec17cdfafef3b6340329993197cf9254.jpg  \n",
            " extracting: valid/images/cid_0_fr_3208_ts_00-02-08-320_jpg.rf.8e31a823d61eefd01b8d7626d483a950.jpg  \n",
            " extracting: valid/images/cid_0_fr_327_ts_00-00-10-910_jpg.rf.0ce454035872140d3fd56fd5942fcc4a.jpg  \n",
            " extracting: valid/images/cid_0_fr_341_ts_00-00-13-640_jpg.rf.cedf2e54c9bf9940d374003e8aa506e3.jpg  \n",
            " extracting: valid/images/cid_0_fr_3501_ts_00-02-26-020_jpg.rf.53f669f5f8d93170cfbffcee5efe7678.jpg  \n",
            " extracting: valid/images/cid_0_fr_3660_ts_00-02-26-400_jpg.rf.f100827b3c62d504c099b2e47b3ea047.jpg  \n",
            " extracting: valid/images/cid_0_fr_3683_ts_00-02-27-320_jpg.rf.98274486e90952c1f6b837cbec5a5259.jpg  \n",
            " extracting: valid/images/cid_0_fr_3769_ts_00-02-37-198_jpg.rf.657e3708eb53be4678ebabb38270df92.jpg  \n",
            " extracting: valid/images/cid_0_fr_3774_ts_00-02-30-960_jpg.rf.528c595c3484594dbd143b7bb3883b1a.jpg  \n",
            " extracting: valid/images/cid_0_fr_3784_ts_00-02-31-360_jpg.rf.626e86efa8bc050a00b4d3c5e3afec65.jpg  \n",
            " extracting: valid/images/cid_0_fr_3789_ts_00-02-31-560_jpg.rf.13779676937f342b05f633bad439e97c.jpg  \n",
            " extracting: valid/images/cid_0_fr_3810_ts_00-02-32-400_jpg.rf.a9c337e105cca652acec620c6c10c288.jpg  \n",
            " extracting: valid/images/cid_0_fr_3817_ts_00-02-32-680_jpg.rf.e4c17392709a3891432e2cdfa6527947.jpg  \n",
            " extracting: valid/images/cid_0_fr_3824_ts_00-02-39-492_jpg.rf.0c7ff9839807076f9464cb13205e17f1.jpg  \n",
            " extracting: valid/images/cid_0_fr_3867_ts_00-02-34-680_jpg.rf.9b81cce7e7e9993985e3b0989bcfffd6.jpg  \n",
            " extracting: valid/images/cid_0_fr_3966_ts_00-02-38-640_jpg.rf.349447aa2b5a3f3595fd12fd5ebf65fb.jpg  \n",
            " extracting: valid/images/cid_0_fr_402_ts_00-00-16-766_jpg.rf.778de0260fde74dee6ed2f62ac3adf29.jpg  \n",
            " extracting: valid/images/cid_0_fr_405_ts_00-00-16-891_jpg.rf.1394e492a0ef222dc33836644f6063ff.jpg  \n",
            " extracting: valid/images/cid_0_fr_4296_ts_00-02-51-840_jpg.rf.0cbd24048d661b10e7e0bf0914f60fa2.jpg  \n",
            " extracting: valid/images/cid_0_fr_429_ts_00-00-17-160_jpg.rf.7d5f88d360945a65d03c70464981fbb1.jpg  \n",
            " extracting: valid/images/cid_0_fr_4303_ts_00-02-52-120_jpg.rf.5cc894cb98523c2fef4b66f4a79b2fb5.jpg  \n",
            " extracting: valid/images/cid_0_fr_4327_ts_00-03-00-471_jpg.rf.59e0aa5d565e801f20133900b9859f44.jpg  \n",
            " extracting: valid/images/cid_0_fr_435_ts_00-00-17-400_jpg.rf.f9a1cb49b89015f323c0ae44719ea4b4.jpg  \n",
            " extracting: valid/images/cid_0_fr_4395_ts_00-03-03-308_jpg.rf.a4c4253e6105e0f253ad7a596b700802.jpg  \n",
            " extracting: valid/images/cid_0_fr_4496_ts_00-02-59-840_jpg.rf.8839b45d984a2887f5fa9873842a3d57.jpg  \n",
            " extracting: valid/images/cid_0_fr_4581_ts_00-03-11-065_jpg.rf.c9f9ed5091448e4e1fd9fa31bb6d6e57.jpg  \n",
            " extracting: valid/images/cid_0_fr_459_ts_00-00-19-144_jpg.rf.dbb94eface1292c2c6697d04a7e09eb5.jpg  \n",
            " extracting: valid/images/cid_0_fr_4615_ts_00-03-12-483_jpg.rf.766a5a0ce6648411a0fd7baa3495e6c2.jpg  \n",
            " extracting: valid/images/cid_0_fr_4637_ts_00-03-05-480_jpg.rf.5b0906c7a3413ff394689a8ace7fd8af.jpg  \n",
            " extracting: valid/images/cid_0_fr_4792_ts_00-03-19-866_jpg.rf.4414eb58c8dfbff60ec876d09f6d38a8.jpg  \n",
            " extracting: valid/images/cid_0_fr_489_ts_00-00-19-560_jpg.rf.9d925432e7978627ca4d2463e11a47b6.jpg  \n",
            " extracting: valid/images/cid_0_fr_4_ts_00-00-00-133_jpg.rf.c4d57b97cb483a835ae5bd378260218a.jpg  \n",
            " extracting: valid/images/cid_0_fr_500_ts_00-00-16-683_jpg.rf.6309b1afef8afd252456f8c4ff7b47e1.jpg  \n",
            " extracting: valid/images/cid_0_fr_5028_ts_00-03-29-709_jpg.rf.851515300a4bb07a9a80af6a579702a9.jpg  \n",
            " extracting: valid/images/cid_0_fr_505_ts_00-00-21-062_jpg.rf.62a4cbf293bceb8ea4bc68ba60dfb6ba.jpg  \n",
            " extracting: valid/images/cid_0_fr_5061_ts_00-03-31-085_jpg.rf.fadb4a4d1fad5b5c21f7ac5c7654ee04.jpg  \n",
            " extracting: valid/images/cid_0_fr_50_ts_00-00-02-085_jpg.rf.4c93abfe9bef2fe7758716dae4efcc70.jpg  \n",
            " extracting: valid/images/cid_0_fr_5108_ts_00-03-33-046_jpg.rf.e6960b5b516da87a14d33aa17a9c3214.jpg  \n",
            " extracting: valid/images/cid_0_fr_5115_ts_00-03-33-338_jpg.rf.7b4486f4ad947124a15de0e72dac884d.jpg  \n",
            " extracting: valid/images/cid_0_fr_5120_ts_00-03-33-546_jpg.rf.e76f470e0177a6a2bae37f11fad01434.jpg  \n",
            " extracting: valid/images/cid_0_fr_5130_ts_00-03-33-963_jpg.rf.610ac5f84b350f1039add8d106da8299.jpg  \n",
            " extracting: valid/images/cid_0_fr_5154_ts_00-03-26-160_jpg.rf.978e6832a451df561273b37cd8ae550e.jpg  \n",
            " extracting: valid/images/cid_0_fr_517_ts_00-00-21-563-copy_jpg.rf.1100228de11ae9aee34ea96feb5568ff.jpg  \n",
            " extracting: valid/images/cid_0_fr_5203_ts_00-03-28-120_jpg.rf.1cea0843bcca1363620fe260dc3d5aab.jpg  \n",
            " extracting: valid/images/cid_0_fr_524_ts_00-00-21-855_jpg.rf.9a92922b2d8c41eec1f7f7c0bc22e6ac.jpg  \n",
            " extracting: valid/images/cid_0_fr_5288_ts_00-03-40-553_jpg.rf.171c6c1ac051e4833a11d19c17b47fda.jpg  \n",
            " extracting: valid/images/cid_0_fr_5303_ts_00-03-41-179_jpg.rf.238c6978924e5d7a68694efc8734167a.jpg  \n",
            " extracting: valid/images/cid_0_fr_5350_ts_00-03-43-139_jpg.rf.f6a4cf409b0b60ef46b42fb340c4a911.jpg  \n",
            " extracting: valid/images/cid_0_fr_5355_ts_00-03-43-348_jpg.rf.a4129df71098268504456a2213ac1ea4.jpg  \n",
            " extracting: valid/images/cid_0_fr_5371_ts_00-03-44-015_jpg.rf.5735012d8124fa9769af56c301712569.jpg  \n",
            " extracting: valid/images/cid_0_fr_540_ts_00-00-22-522_jpg.rf.54d5c4d136403d883d926c879241e803.jpg  \n",
            " extracting: valid/images/cid_0_fr_5515_ts_00-03-40-600_jpg.rf.a55c8a256bcc12d2a01ffe4b4970d487.jpg  \n",
            " extracting: valid/images/cid_0_fr_552_ts_00-00-23-023_jpg.rf.496be2f6b3bb722230b09c2c0a7497d3.jpg  \n",
            " extracting: valid/images/cid_0_fr_5539_ts_00-03-41-560_jpg.rf.35908dc1d941f356c9fc75e6450603a8.jpg  \n",
            " extracting: valid/images/cid_0_fr_5543_ts_00-03-41-720_jpg.rf.11348928f894c9a29d767fe184f15aa8.jpg  \n",
            " extracting: valid/images/cid_0_fr_5566_ts_00-03-42-640_jpg.rf.81b718219a9706a113f3f7c52ab2fa41.jpg  \n",
            " extracting: valid/images/cid_0_fr_5575_ts_00-03-43-000_jpg.rf.f85122d4aa88afe431420a615cd9be6d.jpg  \n",
            " extracting: valid/images/cid_0_fr_5582_ts_00-03-52-815_jpg.rf.af93983aedfad51013b7c69f9c4c36c4.jpg  \n",
            " extracting: valid/images/cid_0_fr_5596_ts_00-03-43-840_jpg.rf.131760f7be49668a2c7feb1ba2f7a0fc.jpg  \n",
            " extracting: valid/images/cid_0_fr_5625_ts_00-03-45-000_jpg.rf.e79c7a5c3a70ae1606af6ead7fcbbca0.jpg  \n",
            " extracting: valid/images/cid_0_fr_567_ts_00-00-23-648_jpg.rf.04c77b18e3fec10e2c8ba64d53bee7fe.jpg  \n",
            " extracting: valid/images/cid_0_fr_5696_ts_00-03-47-840_jpg.rf.a6647f4764c9b7a9829cf0d1922cfb9e.jpg  \n",
            " extracting: valid/images/cid_0_fr_5698_ts_00-03-47-920_jpg.rf.ad84a2729066841c520164637c225925.jpg  \n",
            " extracting: valid/images/cid_0_fr_570_ts_00-00-19-019_jpg.rf.d86d04982e167fbc72e16237b6eba17e.jpg  \n",
            " extracting: valid/images/cid_0_fr_5717_ts_00-03-58-446_jpg.rf.2dcfdb27e79b13f618486e9129cfd0cd.jpg  \n",
            " extracting: valid/images/cid_0_fr_577_ts_00-00-24-065_jpg.rf.57c8390347c4436b26d7fe908318295f.jpg  \n",
            " extracting: valid/images/cid_0_fr_5841_ts_00-03-53-640_jpg.rf.048b991daa7cb9371a9ae511d4616795.jpg  \n",
            " extracting: valid/images/cid_0_fr_5880_ts_00-03-55-200_jpg.rf.552084db472c945d1a37c739b8a91e58.jpg  \n",
            " extracting: valid/images/cid_0_fr_5943_ts_00-04-07-872_jpg.rf.055af9076d42465600eff499ce8ba6ae.jpg  \n",
            " extracting: valid/images/cid_0_fr_5945_ts_00-04-07-956_jpg.rf.0b6896aba4ec84d3c69b26ec7599d3c8.jpg  \n",
            " extracting: valid/images/cid_0_fr_59_ts_00-00-02-460_jpg.rf.6895c0b17e08fd5e12092c036feaa364.jpg  \n",
            " extracting: valid/images/cid_0_fr_603_ts_00-00-24-120_jpg.rf.992f9efef1d3b2cbb700493aa5650afa.jpg  \n",
            " extracting: valid/images/cid_0_fr_6141_ts_00-04-16-130_jpg.rf.68f85cefaebb36052351089c3406bca7.jpg  \n",
            " extracting: valid/images/cid_0_fr_618_ts_00-00-25-775_jpg.rf.da9e9f22bb7afdeb6eb88520f49df402.jpg  \n",
            " extracting: valid/images/cid_0_fr_619_ts_00-00-24-760_jpg.rf.80f8ed23e1540aa8f3963a02cbc335f2.jpg  \n",
            " extracting: valid/images/cid_0_fr_633_ts_00-00-26-401_jpg.rf.cebb539e35ab17606f7a70b25ad102c0.jpg  \n",
            " extracting: valid/images/cid_0_fr_6358_ts_00-04-25-181_jpg.rf.93449b9001f8dd7f3f783d4bb4597738.jpg  \n",
            " extracting: valid/images/cid_0_fr_6492_ts_00-04-30-770_jpg.rf.44352288700b1f6342cdb156a9f6df67.jpg  \n",
            " extracting: valid/images/cid_0_fr_6515_ts_00-04-31-729_jpg.rf.bb737552ae1d07dde4fb0d70d6fce84a.jpg  \n",
            " extracting: valid/images/cid_0_fr_656_ts_00-00-27-360_jpg.rf.904a59039b169f0278f9d7be94d0389a.jpg  \n",
            " extracting: valid/images/cid_0_fr_6647_ts_00-04-37-235_jpg.rf.4a9e3b11658654c76f13de21ea3c39bb.jpg  \n",
            " extracting: valid/images/cid_0_fr_6775_ts_00-04-42-573_jpg.rf.cea11fd951a3365239981cccb8f0e5f1.jpg  \n",
            " extracting: valid/images/cid_0_fr_6847_ts_00-04-45-576_jpg.rf.436435ebcea7d467de7ade54e8c3ed65.jpg  \n",
            " extracting: valid/images/cid_0_fr_699_ts_00-00-27-960_jpg.rf.e45bdd9be262325b4ac1a59eab13da9e.jpg  \n",
            " extracting: valid/images/cid_0_fr_7084_ts_00-04-55-461_jpg.rf.aabbc6d7577448f60cfa7969bdac329a.jpg  \n",
            " extracting: valid/images/cid_0_fr_712_ts_00-00-23-757_jpg.rf.e2fcf2924467170272358850d455eb4c.jpg  \n",
            " extracting: valid/images/cid_0_fr_720_ts_00-00-30-030_jpg.rf.09a5917b13bff8dc624e3f1fd2f84456.jpg  \n",
            " extracting: valid/images/cid_0_fr_7306_ts_00-05-04-721_jpg.rf.dca3f2b3f967d2e40904b35c2dbae7ef.jpg  \n",
            " extracting: valid/images/cid_0_fr_732_ts_00-00-30-530_jpg.rf.ce02a19016194e4687066e98d99a1bf7.jpg  \n",
            " extracting: valid/images/cid_0_fr_748_ts_00-00-31-197_jpg.rf.b265256003eacc56045287ec9332cf70.jpg  \n",
            " extracting: valid/images/cid_0_fr_74_ts_00-00-03-086_jpg.rf.235055043d4eff879743e0eb9c96fcdc.jpg  \n",
            " extracting: valid/images/cid_0_fr_7558_ts_00-05-15-231_jpg.rf.b5f7e08b22b3fe2f9ae0f3efa58b334b.jpg  \n",
            " extracting: valid/images/cid_0_fr_757_ts_00-00-25-258_jpg.rf.df5689f027e5c01b2ded0faff3d8dcd2.jpg  \n",
            " extracting: valid/images/cid_0_fr_766_ts_00-00-31-948_jpg.rf.96fe86b2c3136b8496627ac143e93699.jpg  \n",
            " extracting: valid/images/cid_0_fr_767_ts_00-00-31-990_jpg.rf.b42087d489bbe35dbd3f4b59ab6106e7.jpg  \n",
            " extracting: valid/images/cid_0_fr_7752_ts_00-05-23-323_jpg.rf.f12bef208dc483734e5dc7ffb6dce44b.jpg  \n",
            " extracting: valid/images/cid_0_fr_776_ts_00-00-32-365_jpg.rf.845a8ab5f1712a92a6126cd6ea80e519.jpg  \n",
            " extracting: valid/images/cid_0_fr_787_ts_00-00-32-824_jpg.rf.ffb67049d452d6375eef7a73fc6d08ad.jpg  \n",
            " extracting: valid/images/cid_0_fr_790_ts_00-00-26-359_jpg.rf.a654501352b5ac34f9598d9b9cf547ea.jpg  \n",
            " extracting: valid/images/cid_0_fr_8201_ts_00-05-42-050_jpg.rf.9eb306e0aac61d234a1575cdbb2ec2a1.jpg  \n",
            " extracting: valid/images/cid_0_fr_837_ts_00-00-33-480_jpg.rf.8eb65c0d3c1917146d841183a292d011.jpg  \n",
            " extracting: valid/images/cid_0_fr_8464_ts_00-05-53-019_jpg.rf.c1833aef3b1613b10aa910cb9b299f71.jpg  \n",
            " extracting: valid/images/cid_0_fr_8521_ts_00-05-55-396_jpg.rf.36b57609c0a6c54438f36bcecf253c86.jpg  \n",
            " extracting: valid/images/cid_0_fr_854_ts_00-00-35-618_jpg.rf.1628d59b6f38a7eb729dd97621cebb2e.jpg  \n",
            " extracting: valid/images/cid_0_fr_8628_ts_00-05-59-859_jpg.rf.5c919d072d1ad147f22332597fcee365.jpg  \n",
            " extracting: valid/images/cid_0_fr_898_ts_00-00-35-920_jpg.rf.abf9639cd8849f4d5878b62d7585b692.jpg  \n",
            " extracting: valid/images/cid_0_fr_901_ts_00-00-37-579_jpg.rf.78262933237127c94f7000743a4d0e0e.jpg  \n",
            " extracting: valid/images/cid_0_fr_9233_ts_00-06-25-093_jpg.rf.98ade2279ec3818a717e78ce77d6e0e5.jpg  \n",
            " extracting: valid/images/cid_0_fr_943_ts_00-00-39-330_jpg.rf.805af19c2cafe51f388934ef104efb8a.jpg  \n",
            " extracting: valid/images/cid_0_fr_9681_ts_00-06-43-778_jpg.rf.9f279a128c9ac5a6d8530ff1fa3479e8.jpg  \n",
            " extracting: valid/images/cid_0_fr_9867_ts_00-06-51-536_jpg.rf.7979079276713eb15e76701483d16bfe.jpg  \n",
            " extracting: valid/images/cid_0_fr_989_ts_00-00-41-249_jpg.rf.e7966e5c4a78ac7d356889893483f23e.jpg  \n",
            " extracting: valid/images/cid_0_fr_997_ts_00-00-39-880_jpg.rf.ea20d6d67e57f9bfa324bd1ed1eabe09.jpg  \n",
            " extracting: valid/images/frgr_jpg.rf.79c5e615d5865481eaa2c81cd03dd038.jpg  \n",
            "   creating: valid/labels/\n",
            " extracting: valid/labels/abc_jpg.rf.2eed5d5f689e27433e743f6e160e0e82.txt  \n",
            " extracting: valid/labels/cid_0_fr_0_ts_00-00-00-000-copy-2_jpg.rf.32dfd5ca2fecdb9435f83b432235f3bf.txt  \n",
            " extracting: valid/labels/cid_0_fr_0_ts_00-00-00-000-copy_jpg.rf.e8842f3266b5129f8aba3910db3437af.txt  \n",
            " extracting: valid/labels/cid_0_fr_1008_ts_00-00-40-320_jpg.rf.5d50e1c558c999373cef116f7172d6d9.txt  \n",
            " extracting: valid/labels/cid_0_fr_10199_ts_00-07-05-383_jpg.rf.ac70b30cd4b0e08b8011580148b04b66.txt  \n",
            " extracting: valid/labels/cid_0_fr_10308_ts_00-07-09-929_jpg.rf.821873b9e8ce63d21603aa4b8544bb6b.txt  \n",
            " extracting: valid/labels/cid_0_fr_1041_ts_00-00-43-418_jpg.rf.21ea49e2a0ae71c6038f8a9765926254.txt  \n",
            " extracting: valid/labels/cid_0_fr_1048_ts_00-00-43-710_jpg.rf.33b253b0139bba16493901ff3cbc0c57.txt  \n",
            " extracting: valid/labels/cid_0_fr_1054_ts_00-00-42-160_jpg.rf.8278e72715a5d49ff7b5376bd8fcf7b5.txt  \n",
            " extracting: valid/labels/cid_0_fr_10755_ts_00-07-28-573_jpg.rf.c23218986b96a93f410f799bb23184f4.txt  \n",
            " extracting: valid/labels/cid_0_fr_10837_ts_00-07-31-993_jpg.rf.0021acca74f445c8cf91bf2b87bffe58.txt  \n",
            " extracting: valid/labels/cid_0_fr_1105_ts_00-00-46-087_jpg.rf.d54d1f10756df5a5c0726d9f5bd22d45.txt  \n",
            " extracting: valid/labels/cid_0_fr_11096_ts_00-07-42-795_jpg.rf.ca67565252627e465c4cf64a62807d4b.txt  \n",
            " extracting: valid/labels/cid_0_fr_11315_ts_00-07-51-929_jpg.rf.f913aff001d6376e09c437211e941e94.txt  \n",
            " extracting: valid/labels/cid_0_fr_1132_ts_00-00-47-213_jpg.rf.604a9d34f5b6c3fb856b746ab5b291e2.txt  \n",
            " extracting: valid/labels/cid_0_fr_11356_ts_00-07-53-639_jpg.rf.bf13eb47acbe2c04d030a903df68837a.txt  \n",
            " extracting: valid/labels/cid_0_fr_1152_ts_00-00-48-048_jpg.rf.77a022c97530a695866cc41a3bd43475.txt  \n",
            " extracting: valid/labels/cid_0_fr_1153_ts_00-00-48-089_jpg.rf.b4c5585a0322339c8e325a2b628f7986.txt  \n",
            " extracting: valid/labels/cid_0_fr_1157_ts_00-00-46-280_jpg.rf.450e22d7b06d6354821babd9941aa62c.txt  \n",
            " extracting: valid/labels/cid_0_fr_11920_ts_00-08-17-163_jpg.rf.9fba274c6829215e99491091ad6533e2.txt  \n",
            " extracting: valid/labels/cid_0_fr_1235_ts_00-00-51-509_jpg.rf.68bf160242460ab1e85a581bfa67b7ff.txt  \n",
            " extracting: valid/labels/cid_0_fr_1261_ts_00-00-50-440_jpg.rf.3950593e0ce06888e9334a04d6f90133.txt  \n",
            " extracting: valid/labels/cid_0_fr_1277_ts_00-00-53-261_jpg.rf.f038eba2658c3b5a53d6a75154b88063.txt  \n",
            " extracting: valid/labels/cid_0_fr_1284_ts_00-00-53-553_jpg.rf.6427ab5b1d0e18917d00bf95e2fd648d.txt  \n",
            " extracting: valid/labels/cid_0_fr_1306_ts_00-00-54-471_jpg.rf.4e3cb5e733bcbb84c433cb09dd6b9c90.txt  \n",
            " extracting: valid/labels/cid_0_fr_1315_ts_00-00-54-846_jpg.rf.61011a3127e78be48d72f4bb9145a0f1.txt  \n",
            " extracting: valid/labels/cid_0_fr_1324_ts_00-00-55-221_jpg.rf.4dc44e27bca48033ef04ce1d54f81450.txt  \n",
            " extracting: valid/labels/cid_0_fr_1330_ts_00-00-53-200_jpg.rf.ea3771037c37821dbfee67b76dacf16b.txt  \n",
            " extracting: valid/labels/cid_0_fr_1331_ts_00-00-55-513_jpg.rf.f0cee9df6823afce98e1a2fcec289e07.txt  \n",
            " extracting: valid/labels/cid_0_fr_1347_ts_00-00-56-181_jpg.rf.99f09f3049503d2aecdb43c919280fb8.txt  \n",
            " extracting: valid/labels/cid_0_fr_1360_ts_00-00-56-723_jpg.rf.61e66cdf49d1dcc09c85e9356cc3e352.txt  \n",
            " extracting: valid/labels/cid_0_fr_1368_ts_00-00-57-057_jpg.rf.2ebc4875b6dfe8a35be0f55f126205a8.txt  \n",
            " extracting: valid/labels/cid_0_fr_136_ts_00-00-04-537_jpg.rf.5f105a089ebb81edc355310d5e8efd4a.txt  \n",
            " extracting: valid/labels/cid_0_fr_1373_ts_00-00-57-265_jpg.rf.ccd0ae7ca36dcb02b0b80387e4755f1d.txt  \n",
            " extracting: valid/labels/cid_0_fr_1381_ts_00-00-57-599_jpg.rf.f1c8fe4b0266ae6cb597b54fd8dfc2c9.txt  \n",
            " extracting: valid/labels/cid_0_fr_1384_ts_00-00-57-724_jpg.rf.14107b8f36cc9d44a288e0bcf0449f98.txt  \n",
            " extracting: valid/labels/cid_0_fr_1397_ts_00-00-58-266_jpg.rf.cfc56b65cb8282757baa24c3de6108a5.txt  \n",
            " extracting: valid/labels/cid_0_fr_1437_ts_00-00-59-934_jpg.rf.3ccc13c635469455602f1dd49c96c2d4.txt  \n",
            " extracting: valid/labels/cid_0_fr_1490_ts_00-01-02-145_jpg.rf.f89c3e2687979bc43d27d240f221db67.txt  \n",
            " extracting: valid/labels/cid_0_fr_150_ts_00-00-06-256_jpg.rf.d2066c53c23f5222b7cddc5d674fd21c.txt  \n",
            " extracting: valid/labels/cid_0_fr_1568_ts_00-01-05-398_jpg.rf.e3a101623984bb9c978fdecd8933eba4.txt  \n",
            " extracting: valid/labels/cid_0_fr_1590_ts_00-01-06-316_jpg.rf.059add2471e8baa9acfdf2c77389c091.txt  \n",
            " extracting: valid/labels/cid_0_fr_1623_ts_00-01-07-692_jpg.rf.bf57c402579a56f4e36125077d7909e4.txt  \n",
            " extracting: valid/labels/cid_0_fr_1641_ts_00-01-05-640_jpg.rf.b965de300a871578423bf88e9ea943c5.txt  \n",
            " extracting: valid/labels/cid_0_fr_1649_ts_00-01-05-960_jpg.rf.60e66c17a582c53066965ca4978725be.txt  \n",
            " extracting: valid/labels/cid_0_fr_1666_ts_00-01-09-486_jpg.rf.452aac3a21ca258fc174dd9e26969acd.txt  \n",
            " extracting: valid/labels/cid_0_fr_1672_ts_00-01-06-880_jpg.rf.5591da21e2a43cea78263da6d47e411e.txt  \n",
            " extracting: valid/labels/cid_0_fr_1686_ts_00-01-07-440_jpg.rf.3a43edca6db721b6d2bd291ae70fddc0.txt  \n",
            " extracting: valid/labels/cid_0_fr_1719_ts_00-01-11-696_jpg.rf.70471cdbff7d5cd79a49bf54e6795b83.txt  \n",
            " extracting: valid/labels/cid_0_fr_1765_ts_00-01-13-615_jpg.rf.e96a207405df01a80f802ba8add574bb.txt  \n",
            " extracting: valid/labels/cid_0_fr_1767_ts_00-01-10-680_jpg.rf.918d5498b47278bf3738d144580782c1.txt  \n",
            " extracting: valid/labels/cid_0_fr_1791_ts_00-01-14-699_jpg.rf.522fdf8492108c3f67f0143ab16f5e21.txt  \n",
            " extracting: valid/labels/cid_0_fr_1799_ts_00-01-11-960_jpg.rf.0d22483088de6697bdf9f68ebf7c72d8.txt  \n",
            " extracting: valid/labels/cid_0_fr_1839_ts_00-01-16-701_jpg.rf.21bb438d6319ac51ec0e5ebb133a7634.txt  \n",
            " extracting: valid/labels/cid_0_fr_1841_ts_00-01-13-640_jpg.rf.fdf43cc417a3c2bc9843a1d8c2e68396.txt  \n",
            " extracting: valid/labels/cid_0_fr_1917_ts_00-01-19-954_jpg.rf.5abf27910525cdfc860c5a9d80058b79.txt  \n",
            " extracting: valid/labels/cid_0_fr_1931_ts_00-01-20-538_jpg.rf.ff1784f41f37d710a5e8e135b7bd857c.txt  \n",
            " extracting: valid/labels/cid_0_fr_1956_ts_00-01-21-581_jpg.rf.46ad4667c875cbd790f9e0eb3e4602a4.txt  \n",
            " extracting: valid/labels/cid_0_fr_1960_ts_00-01-21-748_jpg.rf.0bb2e669f2cfd1487e8786ed19c011cd.txt  \n",
            " extracting: valid/labels/cid_0_fr_1975_ts_00-01-19-000_jpg.rf.2612c50e0bd26b303d21ac844c117b16.txt  \n",
            " extracting: valid/labels/cid_0_fr_1995_ts_00-01-19-800_jpg.rf.de6d55e01927fbeb5d950616c9f66f93.txt  \n",
            " extracting: valid/labels/cid_0_fr_199_ts_00-00-07-960_jpg.rf.fc5105151ae7c7816a2688681aee21cc.txt  \n",
            " extracting: valid/labels/cid_0_fr_2103_ts_00-01-24-120_jpg.rf.594defa4a8f337243594cd412ce52842.txt  \n",
            " extracting: valid/labels/cid_0_fr_2111_ts_00-01-24-440_jpg.rf.db418e58ce0cbf19747c9251c3b98ff6.txt  \n",
            " extracting: valid/labels/cid_0_fr_2121_ts_00-01-24-840_jpg.rf.70db1fb1d0035f6f638b60127f865dc2.txt  \n",
            " extracting: valid/labels/cid_0_fr_2126_ts_00-01-25-040_jpg.rf.890aaf6ef3c354670c9e5ec663b79097.txt  \n",
            " extracting: valid/labels/cid_0_fr_2127_ts_00-01-28-713_jpg.rf.4eea97628d48e43ea8c021fa08f59254.txt  \n",
            " extracting: valid/labels/cid_0_fr_2143_ts_00-01-29-380_jpg.rf.93b0d02761e16afffbcd42a7a4c18f0b.txt  \n",
            " extracting: valid/labels/cid_0_fr_2154_ts_00-01-29-839_jpg.rf.55edd83acae866b65604323652cd5af6.txt  \n",
            " extracting: valid/labels/cid_0_fr_2157_ts_00-01-26-280_jpg.rf.d0a141ca44d3c48757b69da828f3e034.txt  \n",
            " extracting: valid/labels/cid_0_fr_2183_ts_00-01-27-320_jpg.rf.1a0baa8679eae1736ced2c7dd7bff893.txt  \n",
            " extracting: valid/labels/cid_0_fr_2207_ts_00-01-28-280_jpg.rf.baa3da3ed7bc82ada87240676d25f5d3.txt  \n",
            " extracting: valid/labels/cid_0_fr_2234_ts_00-01-33-176_jpg.rf.6434d74d619b33eb91b020a9fb0b1565.txt  \n",
            " extracting: valid/labels/cid_0_fr_2316_ts_00-01-36-596-copy_jpg.rf.d68d9251b5974e509d81dc7c95fe7387.txt  \n",
            " extracting: valid/labels/cid_0_fr_2324_ts_00-01-36-930_jpg.rf.e970473d5eb92edc4750272e736f1040.txt  \n",
            " extracting: valid/labels/cid_0_fr_2344_ts_00-01-37-764_jpg.rf.5848c7fae069e1d1b0623d9b717c7f46.txt  \n",
            " extracting: valid/labels/cid_0_fr_2377_ts_00-01-39-140_jpg.rf.03857e3b349cf50885998f4f816f3a5f.txt  \n",
            " extracting: valid/labels/cid_0_fr_2385_ts_00-01-39-474_jpg.rf.09169d822c3f665b55d616726f014cc6.txt  \n",
            " extracting: valid/labels/cid_0_fr_2398_ts_00-01-40-016_jpg.rf.8a345f526a5322c3bfe2676e8fefea7b.txt  \n",
            " extracting: valid/labels/cid_0_fr_2418_ts_00-01-40-850_jpg.rf.e4d33f174983a1a4493a8c33d03f2756.txt  \n",
            " extracting: valid/labels/cid_0_fr_2462_ts_00-01-42-685_jpg.rf.f1322f7ecd3125abf4a9aac7e00fd9ec.txt  \n",
            " extracting: valid/labels/cid_0_fr_2488_ts_00-01-39-520_jpg.rf.647b388fdabbd0d1f6efc75122ee90d0.txt  \n",
            " extracting: valid/labels/cid_0_fr_2538_ts_00-01-45-855_jpg.rf.9597d7dcf753a1cc839fe064a507c2ae.txt  \n",
            " extracting: valid/labels/cid_0_fr_2557_ts_00-01-46-648_jpg.rf.4ef3c09774db7f66a8bf8b951655011d.txt  \n",
            " extracting: valid/labels/cid_0_fr_2580_ts_00-01-47-607_jpg.rf.e6e1d725e70d7b0c7aacd1337bee137f.txt  \n",
            " extracting: valid/labels/cid_0_fr_2657_ts_00-01-46-280_jpg.rf.21b2f2e3f521716334f42c7a4c0d7792.txt  \n",
            " extracting: valid/labels/cid_0_fr_2657_ts_00-01-50-819_jpg.rf.f63152e270ab7b7ffc5251a7b6b12618.txt  \n",
            " extracting: valid/labels/cid_0_fr_2679_ts_00-01-47-160_jpg.rf.0897f8de7d9609a01b448dd13ae752d3.txt  \n",
            " extracting: valid/labels/cid_0_fr_2696_ts_00-01-52-445_jpg.rf.b92b6d2281c58315dd78f205d33afa6a.txt  \n",
            " extracting: valid/labels/cid_0_fr_2726_ts_00-01-53-696_jpg.rf.988dc949799db77777b03cf2f90fc2e6.txt  \n",
            " extracting: valid/labels/cid_0_fr_2732_ts_00-01-53-947_jpg.rf.ea48d3b2e46835cc488cbb3c1d240b6c.txt  \n",
            " extracting: valid/labels/cid_0_fr_2735_ts_00-01-54-072_jpg.rf.a35548c9e90c93c3e19c4f73b9bd2524.txt  \n",
            " extracting: valid/labels/cid_0_fr_2737_ts_00-01-49-480_jpg.rf.0ac054086dd4facef52e09b628588f77.txt  \n",
            " extracting: valid/labels/cid_0_fr_2751_ts_00-01-54-739_jpg.rf.79955973fa83a1ee4fc5d03ff9cc8f3f.txt  \n",
            " extracting: valid/labels/cid_0_fr_2760_ts_00-01-55-115_jpg.rf.dfff9d05dd76bbefa315caf0b09778c0.txt  \n",
            " extracting: valid/labels/cid_0_fr_276_ts_00-00-11-040_jpg.rf.58378c863c861f03406e540650633c2a.txt  \n",
            " extracting: valid/labels/cid_0_fr_2789_ts_00-01-56-324_jpg.rf.e50b4c16ff3c34720abaf20123640ef2.txt  \n",
            " extracting: valid/labels/cid_0_fr_2795_ts_00-01-51-800_jpg.rf.5a8a7f0fb82f025b7f1416144941a478.txt  \n",
            " extracting: valid/labels/cid_0_fr_2796_ts_00-01-56-616_jpg.rf.446bcfdc900e4ff233202e2bb9032c34.txt  \n",
            " extracting: valid/labels/cid_0_fr_2802_ts_00-01-56-866_jpg.rf.8476316bdc62214fe438651ab550a3bb.txt  \n",
            " extracting: valid/labels/cid_0_fr_2810_ts_00-01-57-200_jpg.rf.0c78283b00d28dcf32c2dba0192efc79.txt  \n",
            " extracting: valid/labels/cid_0_fr_282_ts_00-00-11-280_jpg.rf.395db61e1e0dc8b0a13d51cc1862128d.txt  \n",
            " extracting: valid/labels/cid_0_fr_2836_ts_00-01-58-284_jpg.rf.9dbfa78344c8f799a7af04ea4241adba.txt  \n",
            " extracting: valid/labels/cid_0_fr_2837_ts_00-01-53-480_jpg.rf.76736bf8fc0af942bd47f09916ff3511.txt  \n",
            " extracting: valid/labels/cid_0_fr_2841_ts_00-01-58-493_jpg.rf.8c46d439d2a1d1a41b4e923b21d262d2.txt  \n",
            " extracting: valid/labels/cid_0_fr_2870_ts_00-01-59-702_jpg.rf.c586eba972f97edc7f1f47bade9d3368.txt  \n",
            " extracting: valid/labels/cid_0_fr_287_ts_00-00-11-970_jpg.rf.9aadb45bafead0884451574b873327f3.txt  \n",
            " extracting: valid/labels/cid_0_fr_2884_ts_00-02-00-286_jpg.rf.2294b947fe82992b03091a08afbacdb0.txt  \n",
            " extracting: valid/labels/cid_0_fr_2908_ts_00-02-01-287_jpg.rf.32f54cd7a638d720dff30551f7e6ba47.txt  \n",
            " extracting: valid/labels/cid_0_fr_2960_ts_00-02-03-456_jpg.rf.25d2b178fead0907952050bc8c3ddbf9.txt  \n",
            " extracting: valid/labels/cid_0_fr_2970_ts_00-02-03-873_jpg.rf.36631609b89ec6fa39b83e96c056c297.txt  \n",
            " extracting: valid/labels/cid_0_fr_297_ts_00-00-12-387_jpg.rf.20c5366962f70faaa677e61045289ef1.txt  \n",
            " extracting: valid/labels/cid_0_fr_2988_ts_00-02-04-624_jpg.rf.d0a7dd4e366b4049b48bb4861c599be4.txt  \n",
            " extracting: valid/labels/cid_0_fr_3030_ts_00-02-01-200_jpg.rf.ec17cdfafef3b6340329993197cf9254.txt  \n",
            " extracting: valid/labels/cid_0_fr_3208_ts_00-02-08-320_jpg.rf.8e31a823d61eefd01b8d7626d483a950.txt  \n",
            " extracting: valid/labels/cid_0_fr_327_ts_00-00-10-910_jpg.rf.0ce454035872140d3fd56fd5942fcc4a.txt  \n",
            " extracting: valid/labels/cid_0_fr_341_ts_00-00-13-640_jpg.rf.cedf2e54c9bf9940d374003e8aa506e3.txt  \n",
            " extracting: valid/labels/cid_0_fr_3501_ts_00-02-26-020_jpg.rf.53f669f5f8d93170cfbffcee5efe7678.txt  \n",
            " extracting: valid/labels/cid_0_fr_3660_ts_00-02-26-400_jpg.rf.f100827b3c62d504c099b2e47b3ea047.txt  \n",
            " extracting: valid/labels/cid_0_fr_3683_ts_00-02-27-320_jpg.rf.98274486e90952c1f6b837cbec5a5259.txt  \n",
            " extracting: valid/labels/cid_0_fr_3769_ts_00-02-37-198_jpg.rf.657e3708eb53be4678ebabb38270df92.txt  \n",
            " extracting: valid/labels/cid_0_fr_3774_ts_00-02-30-960_jpg.rf.528c595c3484594dbd143b7bb3883b1a.txt  \n",
            " extracting: valid/labels/cid_0_fr_3784_ts_00-02-31-360_jpg.rf.626e86efa8bc050a00b4d3c5e3afec65.txt  \n",
            " extracting: valid/labels/cid_0_fr_3789_ts_00-02-31-560_jpg.rf.13779676937f342b05f633bad439e97c.txt  \n",
            " extracting: valid/labels/cid_0_fr_3810_ts_00-02-32-400_jpg.rf.a9c337e105cca652acec620c6c10c288.txt  \n",
            " extracting: valid/labels/cid_0_fr_3817_ts_00-02-32-680_jpg.rf.e4c17392709a3891432e2cdfa6527947.txt  \n",
            " extracting: valid/labels/cid_0_fr_3824_ts_00-02-39-492_jpg.rf.0c7ff9839807076f9464cb13205e17f1.txt  \n",
            " extracting: valid/labels/cid_0_fr_3867_ts_00-02-34-680_jpg.rf.9b81cce7e7e9993985e3b0989bcfffd6.txt  \n",
            " extracting: valid/labels/cid_0_fr_3966_ts_00-02-38-640_jpg.rf.349447aa2b5a3f3595fd12fd5ebf65fb.txt  \n",
            " extracting: valid/labels/cid_0_fr_402_ts_00-00-16-766_jpg.rf.778de0260fde74dee6ed2f62ac3adf29.txt  \n",
            " extracting: valid/labels/cid_0_fr_405_ts_00-00-16-891_jpg.rf.1394e492a0ef222dc33836644f6063ff.txt  \n",
            " extracting: valid/labels/cid_0_fr_4296_ts_00-02-51-840_jpg.rf.0cbd24048d661b10e7e0bf0914f60fa2.txt  \n",
            " extracting: valid/labels/cid_0_fr_429_ts_00-00-17-160_jpg.rf.7d5f88d360945a65d03c70464981fbb1.txt  \n",
            " extracting: valid/labels/cid_0_fr_4303_ts_00-02-52-120_jpg.rf.5cc894cb98523c2fef4b66f4a79b2fb5.txt  \n",
            " extracting: valid/labels/cid_0_fr_4327_ts_00-03-00-471_jpg.rf.59e0aa5d565e801f20133900b9859f44.txt  \n",
            " extracting: valid/labels/cid_0_fr_435_ts_00-00-17-400_jpg.rf.f9a1cb49b89015f323c0ae44719ea4b4.txt  \n",
            " extracting: valid/labels/cid_0_fr_4395_ts_00-03-03-308_jpg.rf.a4c4253e6105e0f253ad7a596b700802.txt  \n",
            " extracting: valid/labels/cid_0_fr_4496_ts_00-02-59-840_jpg.rf.8839b45d984a2887f5fa9873842a3d57.txt  \n",
            " extracting: valid/labels/cid_0_fr_4581_ts_00-03-11-065_jpg.rf.c9f9ed5091448e4e1fd9fa31bb6d6e57.txt  \n",
            " extracting: valid/labels/cid_0_fr_459_ts_00-00-19-144_jpg.rf.dbb94eface1292c2c6697d04a7e09eb5.txt  \n",
            " extracting: valid/labels/cid_0_fr_4615_ts_00-03-12-483_jpg.rf.766a5a0ce6648411a0fd7baa3495e6c2.txt  \n",
            " extracting: valid/labels/cid_0_fr_4637_ts_00-03-05-480_jpg.rf.5b0906c7a3413ff394689a8ace7fd8af.txt  \n",
            " extracting: valid/labels/cid_0_fr_4792_ts_00-03-19-866_jpg.rf.4414eb58c8dfbff60ec876d09f6d38a8.txt  \n",
            " extracting: valid/labels/cid_0_fr_489_ts_00-00-19-560_jpg.rf.9d925432e7978627ca4d2463e11a47b6.txt  \n",
            " extracting: valid/labels/cid_0_fr_4_ts_00-00-00-133_jpg.rf.c4d57b97cb483a835ae5bd378260218a.txt  \n",
            " extracting: valid/labels/cid_0_fr_500_ts_00-00-16-683_jpg.rf.6309b1afef8afd252456f8c4ff7b47e1.txt  \n",
            " extracting: valid/labels/cid_0_fr_5028_ts_00-03-29-709_jpg.rf.851515300a4bb07a9a80af6a579702a9.txt  \n",
            " extracting: valid/labels/cid_0_fr_505_ts_00-00-21-062_jpg.rf.62a4cbf293bceb8ea4bc68ba60dfb6ba.txt  \n",
            " extracting: valid/labels/cid_0_fr_5061_ts_00-03-31-085_jpg.rf.fadb4a4d1fad5b5c21f7ac5c7654ee04.txt  \n",
            " extracting: valid/labels/cid_0_fr_50_ts_00-00-02-085_jpg.rf.4c93abfe9bef2fe7758716dae4efcc70.txt  \n",
            " extracting: valid/labels/cid_0_fr_5108_ts_00-03-33-046_jpg.rf.e6960b5b516da87a14d33aa17a9c3214.txt  \n",
            " extracting: valid/labels/cid_0_fr_5115_ts_00-03-33-338_jpg.rf.7b4486f4ad947124a15de0e72dac884d.txt  \n",
            " extracting: valid/labels/cid_0_fr_5120_ts_00-03-33-546_jpg.rf.e76f470e0177a6a2bae37f11fad01434.txt  \n",
            " extracting: valid/labels/cid_0_fr_5130_ts_00-03-33-963_jpg.rf.610ac5f84b350f1039add8d106da8299.txt  \n",
            " extracting: valid/labels/cid_0_fr_5154_ts_00-03-26-160_jpg.rf.978e6832a451df561273b37cd8ae550e.txt  \n",
            " extracting: valid/labels/cid_0_fr_517_ts_00-00-21-563-copy_jpg.rf.1100228de11ae9aee34ea96feb5568ff.txt  \n",
            " extracting: valid/labels/cid_0_fr_5203_ts_00-03-28-120_jpg.rf.1cea0843bcca1363620fe260dc3d5aab.txt  \n",
            " extracting: valid/labels/cid_0_fr_524_ts_00-00-21-855_jpg.rf.9a92922b2d8c41eec1f7f7c0bc22e6ac.txt  \n",
            " extracting: valid/labels/cid_0_fr_5288_ts_00-03-40-553_jpg.rf.171c6c1ac051e4833a11d19c17b47fda.txt  \n",
            " extracting: valid/labels/cid_0_fr_5303_ts_00-03-41-179_jpg.rf.238c6978924e5d7a68694efc8734167a.txt  \n",
            " extracting: valid/labels/cid_0_fr_5350_ts_00-03-43-139_jpg.rf.f6a4cf409b0b60ef46b42fb340c4a911.txt  \n",
            " extracting: valid/labels/cid_0_fr_5355_ts_00-03-43-348_jpg.rf.a4129df71098268504456a2213ac1ea4.txt  \n",
            " extracting: valid/labels/cid_0_fr_5371_ts_00-03-44-015_jpg.rf.5735012d8124fa9769af56c301712569.txt  \n",
            " extracting: valid/labels/cid_0_fr_540_ts_00-00-22-522_jpg.rf.54d5c4d136403d883d926c879241e803.txt  \n",
            " extracting: valid/labels/cid_0_fr_5515_ts_00-03-40-600_jpg.rf.a55c8a256bcc12d2a01ffe4b4970d487.txt  \n",
            " extracting: valid/labels/cid_0_fr_552_ts_00-00-23-023_jpg.rf.496be2f6b3bb722230b09c2c0a7497d3.txt  \n",
            " extracting: valid/labels/cid_0_fr_5539_ts_00-03-41-560_jpg.rf.35908dc1d941f356c9fc75e6450603a8.txt  \n",
            " extracting: valid/labels/cid_0_fr_5543_ts_00-03-41-720_jpg.rf.11348928f894c9a29d767fe184f15aa8.txt  \n",
            " extracting: valid/labels/cid_0_fr_5566_ts_00-03-42-640_jpg.rf.81b718219a9706a113f3f7c52ab2fa41.txt  \n",
            " extracting: valid/labels/cid_0_fr_5575_ts_00-03-43-000_jpg.rf.f85122d4aa88afe431420a615cd9be6d.txt  \n",
            " extracting: valid/labels/cid_0_fr_5582_ts_00-03-52-815_jpg.rf.af93983aedfad51013b7c69f9c4c36c4.txt  \n",
            " extracting: valid/labels/cid_0_fr_5596_ts_00-03-43-840_jpg.rf.131760f7be49668a2c7feb1ba2f7a0fc.txt  \n",
            " extracting: valid/labels/cid_0_fr_5625_ts_00-03-45-000_jpg.rf.e79c7a5c3a70ae1606af6ead7fcbbca0.txt  \n",
            " extracting: valid/labels/cid_0_fr_567_ts_00-00-23-648_jpg.rf.04c77b18e3fec10e2c8ba64d53bee7fe.txt  \n",
            " extracting: valid/labels/cid_0_fr_5696_ts_00-03-47-840_jpg.rf.a6647f4764c9b7a9829cf0d1922cfb9e.txt  \n",
            " extracting: valid/labels/cid_0_fr_5698_ts_00-03-47-920_jpg.rf.ad84a2729066841c520164637c225925.txt  \n",
            " extracting: valid/labels/cid_0_fr_570_ts_00-00-19-019_jpg.rf.d86d04982e167fbc72e16237b6eba17e.txt  \n",
            " extracting: valid/labels/cid_0_fr_5717_ts_00-03-58-446_jpg.rf.2dcfdb27e79b13f618486e9129cfd0cd.txt  \n",
            " extracting: valid/labels/cid_0_fr_577_ts_00-00-24-065_jpg.rf.57c8390347c4436b26d7fe908318295f.txt  \n",
            " extracting: valid/labels/cid_0_fr_5841_ts_00-03-53-640_jpg.rf.048b991daa7cb9371a9ae511d4616795.txt  \n",
            " extracting: valid/labels/cid_0_fr_5880_ts_00-03-55-200_jpg.rf.552084db472c945d1a37c739b8a91e58.txt  \n",
            " extracting: valid/labels/cid_0_fr_5943_ts_00-04-07-872_jpg.rf.055af9076d42465600eff499ce8ba6ae.txt  \n",
            " extracting: valid/labels/cid_0_fr_5945_ts_00-04-07-956_jpg.rf.0b6896aba4ec84d3c69b26ec7599d3c8.txt  \n",
            " extracting: valid/labels/cid_0_fr_59_ts_00-00-02-460_jpg.rf.6895c0b17e08fd5e12092c036feaa364.txt  \n",
            " extracting: valid/labels/cid_0_fr_603_ts_00-00-24-120_jpg.rf.992f9efef1d3b2cbb700493aa5650afa.txt  \n",
            " extracting: valid/labels/cid_0_fr_6141_ts_00-04-16-130_jpg.rf.68f85cefaebb36052351089c3406bca7.txt  \n",
            " extracting: valid/labels/cid_0_fr_618_ts_00-00-25-775_jpg.rf.da9e9f22bb7afdeb6eb88520f49df402.txt  \n",
            " extracting: valid/labels/cid_0_fr_619_ts_00-00-24-760_jpg.rf.80f8ed23e1540aa8f3963a02cbc335f2.txt  \n",
            " extracting: valid/labels/cid_0_fr_633_ts_00-00-26-401_jpg.rf.cebb539e35ab17606f7a70b25ad102c0.txt  \n",
            " extracting: valid/labels/cid_0_fr_6358_ts_00-04-25-181_jpg.rf.93449b9001f8dd7f3f783d4bb4597738.txt  \n",
            " extracting: valid/labels/cid_0_fr_6492_ts_00-04-30-770_jpg.rf.44352288700b1f6342cdb156a9f6df67.txt  \n",
            " extracting: valid/labels/cid_0_fr_6515_ts_00-04-31-729_jpg.rf.bb737552ae1d07dde4fb0d70d6fce84a.txt  \n",
            " extracting: valid/labels/cid_0_fr_656_ts_00-00-27-360_jpg.rf.904a59039b169f0278f9d7be94d0389a.txt  \n",
            " extracting: valid/labels/cid_0_fr_6647_ts_00-04-37-235_jpg.rf.4a9e3b11658654c76f13de21ea3c39bb.txt  \n",
            " extracting: valid/labels/cid_0_fr_6775_ts_00-04-42-573_jpg.rf.cea11fd951a3365239981cccb8f0e5f1.txt  \n",
            " extracting: valid/labels/cid_0_fr_6847_ts_00-04-45-576_jpg.rf.436435ebcea7d467de7ade54e8c3ed65.txt  \n",
            " extracting: valid/labels/cid_0_fr_699_ts_00-00-27-960_jpg.rf.e45bdd9be262325b4ac1a59eab13da9e.txt  \n",
            " extracting: valid/labels/cid_0_fr_7084_ts_00-04-55-461_jpg.rf.aabbc6d7577448f60cfa7969bdac329a.txt  \n",
            " extracting: valid/labels/cid_0_fr_712_ts_00-00-23-757_jpg.rf.e2fcf2924467170272358850d455eb4c.txt  \n",
            " extracting: valid/labels/cid_0_fr_720_ts_00-00-30-030_jpg.rf.09a5917b13bff8dc624e3f1fd2f84456.txt  \n",
            " extracting: valid/labels/cid_0_fr_7306_ts_00-05-04-721_jpg.rf.dca3f2b3f967d2e40904b35c2dbae7ef.txt  \n",
            " extracting: valid/labels/cid_0_fr_732_ts_00-00-30-530_jpg.rf.ce02a19016194e4687066e98d99a1bf7.txt  \n",
            " extracting: valid/labels/cid_0_fr_748_ts_00-00-31-197_jpg.rf.b265256003eacc56045287ec9332cf70.txt  \n",
            " extracting: valid/labels/cid_0_fr_74_ts_00-00-03-086_jpg.rf.235055043d4eff879743e0eb9c96fcdc.txt  \n",
            " extracting: valid/labels/cid_0_fr_7558_ts_00-05-15-231_jpg.rf.b5f7e08b22b3fe2f9ae0f3efa58b334b.txt  \n",
            " extracting: valid/labels/cid_0_fr_757_ts_00-00-25-258_jpg.rf.df5689f027e5c01b2ded0faff3d8dcd2.txt  \n",
            " extracting: valid/labels/cid_0_fr_766_ts_00-00-31-948_jpg.rf.96fe86b2c3136b8496627ac143e93699.txt  \n",
            " extracting: valid/labels/cid_0_fr_767_ts_00-00-31-990_jpg.rf.b42087d489bbe35dbd3f4b59ab6106e7.txt  \n",
            " extracting: valid/labels/cid_0_fr_7752_ts_00-05-23-323_jpg.rf.f12bef208dc483734e5dc7ffb6dce44b.txt  \n",
            " extracting: valid/labels/cid_0_fr_776_ts_00-00-32-365_jpg.rf.845a8ab5f1712a92a6126cd6ea80e519.txt  \n",
            " extracting: valid/labels/cid_0_fr_787_ts_00-00-32-824_jpg.rf.ffb67049d452d6375eef7a73fc6d08ad.txt  \n",
            " extracting: valid/labels/cid_0_fr_790_ts_00-00-26-359_jpg.rf.a654501352b5ac34f9598d9b9cf547ea.txt  \n",
            " extracting: valid/labels/cid_0_fr_8201_ts_00-05-42-050_jpg.rf.9eb306e0aac61d234a1575cdbb2ec2a1.txt  \n",
            " extracting: valid/labels/cid_0_fr_837_ts_00-00-33-480_jpg.rf.8eb65c0d3c1917146d841183a292d011.txt  \n",
            " extracting: valid/labels/cid_0_fr_8464_ts_00-05-53-019_jpg.rf.c1833aef3b1613b10aa910cb9b299f71.txt  \n",
            " extracting: valid/labels/cid_0_fr_8521_ts_00-05-55-396_jpg.rf.36b57609c0a6c54438f36bcecf253c86.txt  \n",
            " extracting: valid/labels/cid_0_fr_854_ts_00-00-35-618_jpg.rf.1628d59b6f38a7eb729dd97621cebb2e.txt  \n",
            " extracting: valid/labels/cid_0_fr_8628_ts_00-05-59-859_jpg.rf.5c919d072d1ad147f22332597fcee365.txt  \n",
            " extracting: valid/labels/cid_0_fr_898_ts_00-00-35-920_jpg.rf.abf9639cd8849f4d5878b62d7585b692.txt  \n",
            " extracting: valid/labels/cid_0_fr_901_ts_00-00-37-579_jpg.rf.78262933237127c94f7000743a4d0e0e.txt  \n",
            " extracting: valid/labels/cid_0_fr_9233_ts_00-06-25-093_jpg.rf.98ade2279ec3818a717e78ce77d6e0e5.txt  \n",
            " extracting: valid/labels/cid_0_fr_943_ts_00-00-39-330_jpg.rf.805af19c2cafe51f388934ef104efb8a.txt  \n",
            " extracting: valid/labels/cid_0_fr_9681_ts_00-06-43-778_jpg.rf.9f279a128c9ac5a6d8530ff1fa3479e8.txt  \n",
            " extracting: valid/labels/cid_0_fr_9867_ts_00-06-51-536_jpg.rf.7979079276713eb15e76701483d16bfe.txt  \n",
            " extracting: valid/labels/cid_0_fr_989_ts_00-00-41-249_jpg.rf.e7966e5c4a78ac7d356889893483f23e.txt  \n",
            " extracting: valid/labels/cid_0_fr_997_ts_00-00-39-880_jpg.rf.ea20d6d67e57f9bfa324bd1ed1eabe09.txt  \n",
            " extracting: valid/labels/frgr_jpg.rf.79c5e615d5865481eaa2c81cd03dd038.txt  \n"
          ]
        }
      ]
    },
    {
      "cell_type": "code",
      "source": [
        "from ultralytics import YOLO\n",
        "model = YOLO('yolov8m.pt')"
      ],
      "metadata": {
        "colab": {
          "base_uri": "https://localhost:8080/"
        },
        "id": "Cg0nM77FXAsO",
        "outputId": "8795bbf8-cbc6-4436-d3d7-16a7f0eb4dae"
      },
      "execution_count": 4,
      "outputs": [
        {
          "output_type": "stream",
          "name": "stdout",
          "text": [
            "Downloading https://github.com/ultralytics/assets/releases/download/v8.1.0/yolov8m.pt to 'yolov8m.pt'...\n"
          ]
        },
        {
          "output_type": "stream",
          "name": "stderr",
          "text": [
            "100%|██████████| 49.7M/49.7M [00:00<00:00, 206MB/s]\n"
          ]
        }
      ]
    },
    {
      "cell_type": "code",
      "source": [
        "model.train(data=\"data.yaml\", epochs=200)"
      ],
      "metadata": {
        "colab": {
          "base_uri": "https://localhost:8080/"
        },
        "id": "egta7TgMYK5v",
        "outputId": "c61411b4-840c-4c83-dd18-17ae2247f415"
      },
      "execution_count": 5,
      "outputs": [
        {
          "output_type": "stream",
          "name": "stdout",
          "text": [
            "Ultralytics YOLOv8.1.3 🚀 Python-3.10.12 torch-2.1.0+cu121 CUDA:0 (Tesla T4, 15102MiB)\n",
            "\u001b[34m\u001b[1mengine/trainer: \u001b[0mtask=detect, mode=train, model=yolov8m.pt, data=data.yaml, epochs=200, time=None, patience=50, batch=16, imgsz=640, save=True, save_period=-1, cache=False, device=None, workers=8, project=None, name=train, exist_ok=False, pretrained=True, optimizer=auto, verbose=True, seed=0, deterministic=True, single_cls=False, rect=False, cos_lr=False, close_mosaic=10, resume=False, amp=True, fraction=1.0, profile=False, freeze=None, multi_scale=False, overlap_mask=True, mask_ratio=4, dropout=0.0, val=True, split=val, save_json=False, save_hybrid=False, conf=None, iou=0.7, max_det=300, half=False, dnn=False, plots=True, source=None, vid_stride=1, stream_buffer=False, visualize=False, augment=False, agnostic_nms=False, classes=None, retina_masks=False, embed=None, show=False, save_frames=False, save_txt=False, save_conf=False, save_crop=False, show_labels=True, show_conf=True, show_boxes=True, line_width=None, format=torchscript, keras=False, optimize=False, int8=False, dynamic=False, simplify=False, opset=None, workspace=4, nms=False, lr0=0.01, lrf=0.01, momentum=0.937, weight_decay=0.0005, warmup_epochs=3.0, warmup_momentum=0.8, warmup_bias_lr=0.1, box=7.5, cls=0.5, dfl=1.5, pose=12.0, kobj=1.0, label_smoothing=0.0, nbs=64, hsv_h=0.015, hsv_s=0.7, hsv_v=0.4, degrees=0.0, translate=0.1, scale=0.5, shear=0.0, perspective=0.0, flipud=0.0, fliplr=0.5, mosaic=1.0, mixup=0.0, copy_paste=0.0, auto_augment=randaugment, erasing=0.4, crop_fraction=1.0, cfg=None, tracker=botsort.yaml, save_dir=runs/detect/train\n",
            "Downloading https://ultralytics.com/assets/Arial.ttf to '/root/.config/Ultralytics/Arial.ttf'...\n"
          ]
        },
        {
          "output_type": "stream",
          "name": "stderr",
          "text": [
            "100%|██████████| 755k/755k [00:00<00:00, 23.6MB/s]\n"
          ]
        },
        {
          "output_type": "stream",
          "name": "stdout",
          "text": [
            "Overriding model.yaml nc=80 with nc=1\n",
            "\n",
            "                   from  n    params  module                                       arguments                     \n",
            "  0                  -1  1      1392  ultralytics.nn.modules.conv.Conv             [3, 48, 3, 2]                 \n",
            "  1                  -1  1     41664  ultralytics.nn.modules.conv.Conv             [48, 96, 3, 2]                \n",
            "  2                  -1  2    111360  ultralytics.nn.modules.block.C2f             [96, 96, 2, True]             \n",
            "  3                  -1  1    166272  ultralytics.nn.modules.conv.Conv             [96, 192, 3, 2]               \n",
            "  4                  -1  4    813312  ultralytics.nn.modules.block.C2f             [192, 192, 4, True]           \n",
            "  5                  -1  1    664320  ultralytics.nn.modules.conv.Conv             [192, 384, 3, 2]              \n",
            "  6                  -1  4   3248640  ultralytics.nn.modules.block.C2f             [384, 384, 4, True]           \n",
            "  7                  -1  1   1991808  ultralytics.nn.modules.conv.Conv             [384, 576, 3, 2]              \n",
            "  8                  -1  2   3985920  ultralytics.nn.modules.block.C2f             [576, 576, 2, True]           \n",
            "  9                  -1  1    831168  ultralytics.nn.modules.block.SPPF            [576, 576, 5]                 \n",
            " 10                  -1  1         0  torch.nn.modules.upsampling.Upsample         [None, 2, 'nearest']          \n",
            " 11             [-1, 6]  1         0  ultralytics.nn.modules.conv.Concat           [1]                           \n",
            " 12                  -1  2   1993728  ultralytics.nn.modules.block.C2f             [960, 384, 2]                 \n",
            " 13                  -1  1         0  torch.nn.modules.upsampling.Upsample         [None, 2, 'nearest']          \n",
            " 14             [-1, 4]  1         0  ultralytics.nn.modules.conv.Concat           [1]                           \n",
            " 15                  -1  2    517632  ultralytics.nn.modules.block.C2f             [576, 192, 2]                 \n",
            " 16                  -1  1    332160  ultralytics.nn.modules.conv.Conv             [192, 192, 3, 2]              \n",
            " 17            [-1, 12]  1         0  ultralytics.nn.modules.conv.Concat           [1]                           \n",
            " 18                  -1  2   1846272  ultralytics.nn.modules.block.C2f             [576, 384, 2]                 \n",
            " 19                  -1  1   1327872  ultralytics.nn.modules.conv.Conv             [384, 384, 3, 2]              \n",
            " 20             [-1, 9]  1         0  ultralytics.nn.modules.conv.Concat           [1]                           \n",
            " 21                  -1  2   4207104  ultralytics.nn.modules.block.C2f             [960, 576, 2]                 \n",
            " 22        [15, 18, 21]  1   3776275  ultralytics.nn.modules.head.Detect           [1, [192, 384, 576]]          \n",
            "Model summary: 295 layers, 25856899 parameters, 25856883 gradients, 79.1 GFLOPs\n",
            "\n",
            "Transferred 469/475 items from pretrained weights\n",
            "\u001b[34m\u001b[1mTensorBoard: \u001b[0mStart with 'tensorboard --logdir runs/detect/train', view at http://localhost:6006/\n",
            "Freezing layer 'model.22.dfl.conv.weight'\n",
            "\u001b[34m\u001b[1mAMP: \u001b[0mrunning Automatic Mixed Precision (AMP) checks with YOLOv8n...\n",
            "Downloading https://github.com/ultralytics/assets/releases/download/v8.1.0/yolov8n.pt to 'yolov8n.pt'...\n"
          ]
        },
        {
          "output_type": "stream",
          "name": "stderr",
          "text": [
            "100%|██████████| 6.23M/6.23M [00:00<00:00, 107MB/s]\n"
          ]
        },
        {
          "output_type": "stream",
          "name": "stdout",
          "text": [
            "WARNING ⚠️ NMS time limit 0.550s exceeded\n",
            "\u001b[34m\u001b[1mAMP: \u001b[0mchecks passed ✅\n"
          ]
        },
        {
          "output_type": "stream",
          "name": "stderr",
          "text": [
            "\u001b[34m\u001b[1mtrain: \u001b[0mScanning /content/train/labels... 2100 images, 302 backgrounds, 0 corrupt: 100%|██████████| 2100/2100 [00:01<00:00, 1670.58it/s]\n"
          ]
        },
        {
          "output_type": "stream",
          "name": "stdout",
          "text": [
            "\u001b[34m\u001b[1mtrain: \u001b[0mNew cache created: /content/train/labels.cache\n",
            "\u001b[34m\u001b[1malbumentations: \u001b[0mBlur(p=0.01, blur_limit=(3, 7)), MedianBlur(p=0.01, blur_limit=(3, 7)), ToGray(p=0.01), CLAHE(p=0.01, clip_limit=(1, 4.0), tile_grid_size=(8, 8))\n"
          ]
        },
        {
          "output_type": "stream",
          "name": "stderr",
          "text": [
            "\u001b[34m\u001b[1mval: \u001b[0mScanning /content/valid/labels... 227 images, 98 backgrounds, 0 corrupt: 100%|██████████| 227/227 [00:00<00:00, 1079.33it/s]"
          ]
        },
        {
          "output_type": "stream",
          "name": "stdout",
          "text": [
            "\u001b[34m\u001b[1mval: \u001b[0mNew cache created: /content/valid/labels.cache\n"
          ]
        },
        {
          "output_type": "stream",
          "name": "stderr",
          "text": [
            "\n"
          ]
        },
        {
          "output_type": "stream",
          "name": "stdout",
          "text": [
            "Plotting labels to runs/detect/train/labels.jpg... \n",
            "\u001b[34m\u001b[1moptimizer:\u001b[0m 'optimizer=auto' found, ignoring 'lr0=0.01' and 'momentum=0.937' and determining best 'optimizer', 'lr0' and 'momentum' automatically... \n",
            "\u001b[34m\u001b[1moptimizer:\u001b[0m AdamW(lr=0.002, momentum=0.9) with parameter groups 77 weight(decay=0.0), 84 weight(decay=0.0005), 83 bias(decay=0.0)\n"
          ]
        },
        {
          "output_type": "stream",
          "name": "stderr",
          "text": [
            "/usr/local/lib/python3.10/dist-packages/torch/nn/functional.py:2443: TracerWarning: Converting a tensor to a Python boolean might cause the trace to be incorrect. We can't record the data flow of Python values, so this value will be treated as a constant in the future. This means that the trace might not generalize to other inputs!\n",
            "  if size_prods == 1:\n"
          ]
        },
        {
          "output_type": "stream",
          "name": "stdout",
          "text": [
            "Image sizes 640 train, 640 val\n",
            "Using 2 dataloader workers\n",
            "Logging results to \u001b[1mruns/detect/train\u001b[0m\n",
            "Starting training for 200 epochs...\n",
            "\n",
            "      Epoch    GPU_mem   box_loss   cls_loss   dfl_loss  Instances       Size\n"
          ]
        },
        {
          "output_type": "stream",
          "name": "stderr",
          "text": [
            "      1/200      7.14G      1.151       1.65      1.271         14        640: 100%|██████████| 132/132 [01:17<00:00,  1.71it/s]\n",
            "                 Class     Images  Instances      Box(P          R      mAP50  mAP50-95): 100%|██████████| 8/8 [00:04<00:00,  1.63it/s]"
          ]
        },
        {
          "output_type": "stream",
          "name": "stdout",
          "text": [
            "                   all        227        220      0.211      0.159     0.0755     0.0391\n"
          ]
        },
        {
          "output_type": "stream",
          "name": "stderr",
          "text": [
            "\n"
          ]
        },
        {
          "output_type": "stream",
          "name": "stdout",
          "text": [
            "\n",
            "      Epoch    GPU_mem   box_loss   cls_loss   dfl_loss  Instances       Size\n"
          ]
        },
        {
          "output_type": "stream",
          "name": "stderr",
          "text": [
            "      2/200      7.33G      1.479      1.811      1.496         22        640: 100%|██████████| 132/132 [01:14<00:00,  1.78it/s]\n",
            "                 Class     Images  Instances      Box(P          R      mAP50  mAP50-95): 100%|██████████| 8/8 [00:03<00:00,  2.46it/s]"
          ]
        },
        {
          "output_type": "stream",
          "name": "stdout",
          "text": [
            "                   all        227        220      0.105     0.0839     0.0459     0.0224\n"
          ]
        },
        {
          "output_type": "stream",
          "name": "stderr",
          "text": [
            "\n"
          ]
        },
        {
          "output_type": "stream",
          "name": "stdout",
          "text": [
            "\n",
            "      Epoch    GPU_mem   box_loss   cls_loss   dfl_loss  Instances       Size\n"
          ]
        },
        {
          "output_type": "stream",
          "name": "stderr",
          "text": [
            "      3/200      7.34G      1.491       1.79       1.51         15        640: 100%|██████████| 132/132 [01:13<00:00,  1.80it/s]\n",
            "                 Class     Images  Instances      Box(P          R      mAP50  mAP50-95): 100%|██████████| 8/8 [00:03<00:00,  2.48it/s]"
          ]
        },
        {
          "output_type": "stream",
          "name": "stdout",
          "text": [
            "                   all        227        220      0.298      0.191      0.131     0.0612\n"
          ]
        },
        {
          "output_type": "stream",
          "name": "stderr",
          "text": [
            "\n"
          ]
        },
        {
          "output_type": "stream",
          "name": "stdout",
          "text": [
            "\n",
            "      Epoch    GPU_mem   box_loss   cls_loss   dfl_loss  Instances       Size\n"
          ]
        },
        {
          "output_type": "stream",
          "name": "stderr",
          "text": [
            "      4/200      7.34G      1.464      1.766      1.491         24        640: 100%|██████████| 132/132 [01:13<00:00,  1.81it/s]\n",
            "                 Class     Images  Instances      Box(P          R      mAP50  mAP50-95): 100%|██████████| 8/8 [00:04<00:00,  1.89it/s]\n"
          ]
        },
        {
          "output_type": "stream",
          "name": "stdout",
          "text": [
            "                   all        227        220      0.177      0.132     0.0562     0.0308\n",
            "\n",
            "      Epoch    GPU_mem   box_loss   cls_loss   dfl_loss  Instances       Size\n"
          ]
        },
        {
          "output_type": "stream",
          "name": "stderr",
          "text": [
            "      5/200      7.37G       1.39      1.642      1.456         37        640: 100%|██████████| 132/132 [01:12<00:00,  1.82it/s]\n",
            "                 Class     Images  Instances      Box(P          R      mAP50  mAP50-95): 100%|██████████| 8/8 [00:02<00:00,  2.76it/s]"
          ]
        },
        {
          "output_type": "stream",
          "name": "stdout",
          "text": [
            "                   all        227        220      0.189      0.223      0.109     0.0572\n"
          ]
        },
        {
          "output_type": "stream",
          "name": "stderr",
          "text": [
            "\n"
          ]
        },
        {
          "output_type": "stream",
          "name": "stdout",
          "text": [
            "\n",
            "      Epoch    GPU_mem   box_loss   cls_loss   dfl_loss  Instances       Size\n"
          ]
        },
        {
          "output_type": "stream",
          "name": "stderr",
          "text": [
            "      6/200      7.36G       1.32      1.645      1.413         13        640: 100%|██████████| 132/132 [01:12<00:00,  1.81it/s]\n",
            "                 Class     Images  Instances      Box(P          R      mAP50  mAP50-95): 100%|██████████| 8/8 [00:03<00:00,  2.57it/s]"
          ]
        },
        {
          "output_type": "stream",
          "name": "stdout",
          "text": [
            "                   all        227        220      0.246      0.259      0.173       0.11\n"
          ]
        },
        {
          "output_type": "stream",
          "name": "stderr",
          "text": [
            "\n"
          ]
        },
        {
          "output_type": "stream",
          "name": "stdout",
          "text": [
            "\n",
            "      Epoch    GPU_mem   box_loss   cls_loss   dfl_loss  Instances       Size\n"
          ]
        },
        {
          "output_type": "stream",
          "name": "stderr",
          "text": [
            "      7/200      7.35G      1.274      1.522      1.378         36        640: 100%|██████████| 132/132 [01:12<00:00,  1.82it/s]\n",
            "                 Class     Images  Instances      Box(P          R      mAP50  mAP50-95): 100%|██████████| 8/8 [00:04<00:00,  1.76it/s]"
          ]
        },
        {
          "output_type": "stream",
          "name": "stdout",
          "text": [
            "                   all        227        220      0.237      0.277      0.163     0.0965\n"
          ]
        },
        {
          "output_type": "stream",
          "name": "stderr",
          "text": [
            "\n"
          ]
        },
        {
          "output_type": "stream",
          "name": "stdout",
          "text": [
            "\n",
            "      Epoch    GPU_mem   box_loss   cls_loss   dfl_loss  Instances       Size\n"
          ]
        },
        {
          "output_type": "stream",
          "name": "stderr",
          "text": [
            "      8/200      7.37G      1.238      1.475      1.357         27        640: 100%|██████████| 132/132 [01:13<00:00,  1.79it/s]\n",
            "                 Class     Images  Instances      Box(P          R      mAP50  mAP50-95): 100%|██████████| 8/8 [00:03<00:00,  2.61it/s]\n"
          ]
        },
        {
          "output_type": "stream",
          "name": "stdout",
          "text": [
            "                   all        227        220      0.178      0.182     0.0805     0.0439\n",
            "\n",
            "      Epoch    GPU_mem   box_loss   cls_loss   dfl_loss  Instances       Size\n"
          ]
        },
        {
          "output_type": "stream",
          "name": "stderr",
          "text": [
            "      9/200      7.35G      1.202      1.436      1.332         15        640: 100%|██████████| 132/132 [01:13<00:00,  1.80it/s]\n",
            "                 Class     Images  Instances      Box(P          R      mAP50  mAP50-95): 100%|██████████| 8/8 [00:03<00:00,  2.36it/s]"
          ]
        },
        {
          "output_type": "stream",
          "name": "stdout",
          "text": [
            "                   all        227        220      0.387      0.264      0.222      0.141\n"
          ]
        },
        {
          "output_type": "stream",
          "name": "stderr",
          "text": [
            "\n"
          ]
        },
        {
          "output_type": "stream",
          "name": "stdout",
          "text": [
            "\n",
            "      Epoch    GPU_mem   box_loss   cls_loss   dfl_loss  Instances       Size\n"
          ]
        },
        {
          "output_type": "stream",
          "name": "stderr",
          "text": [
            "     10/200      7.41G      1.144      1.385      1.297         27        640: 100%|██████████| 132/132 [01:13<00:00,  1.79it/s]\n",
            "                 Class     Images  Instances      Box(P          R      mAP50  mAP50-95): 100%|██████████| 8/8 [00:03<00:00,  2.07it/s]"
          ]
        },
        {
          "output_type": "stream",
          "name": "stdout",
          "text": [
            "                   all        227        220      0.423      0.255      0.251      0.146\n"
          ]
        },
        {
          "output_type": "stream",
          "name": "stderr",
          "text": [
            "\n"
          ]
        },
        {
          "output_type": "stream",
          "name": "stdout",
          "text": [
            "\n",
            "      Epoch    GPU_mem   box_loss   cls_loss   dfl_loss  Instances       Size\n"
          ]
        },
        {
          "output_type": "stream",
          "name": "stderr",
          "text": [
            "     11/200      7.37G      1.135      1.331      1.284         13        640: 100%|██████████| 132/132 [01:13<00:00,  1.79it/s]\n",
            "                 Class     Images  Instances      Box(P          R      mAP50  mAP50-95): 100%|██████████| 8/8 [00:02<00:00,  2.77it/s]"
          ]
        },
        {
          "output_type": "stream",
          "name": "stdout",
          "text": [
            "                   all        227        220      0.271        0.3      0.201      0.139\n"
          ]
        },
        {
          "output_type": "stream",
          "name": "stderr",
          "text": [
            "\n"
          ]
        },
        {
          "output_type": "stream",
          "name": "stdout",
          "text": [
            "\n",
            "      Epoch    GPU_mem   box_loss   cls_loss   dfl_loss  Instances       Size\n"
          ]
        },
        {
          "output_type": "stream",
          "name": "stderr",
          "text": [
            "     12/200      7.37G      1.127      1.349      1.283          8        640: 100%|██████████| 132/132 [01:13<00:00,  1.80it/s]\n",
            "                 Class     Images  Instances      Box(P          R      mAP50  mAP50-95): 100%|██████████| 8/8 [00:03<00:00,  2.52it/s]"
          ]
        },
        {
          "output_type": "stream",
          "name": "stdout",
          "text": [
            "                   all        227        220      0.402      0.295      0.289      0.205\n"
          ]
        },
        {
          "output_type": "stream",
          "name": "stderr",
          "text": [
            "\n"
          ]
        },
        {
          "output_type": "stream",
          "name": "stdout",
          "text": [
            "\n",
            "      Epoch    GPU_mem   box_loss   cls_loss   dfl_loss  Instances       Size\n"
          ]
        },
        {
          "output_type": "stream",
          "name": "stderr",
          "text": [
            "     13/200      7.39G      1.108       1.31      1.273          6        640: 100%|██████████| 132/132 [01:13<00:00,  1.79it/s]\n",
            "                 Class     Images  Instances      Box(P          R      mAP50  mAP50-95): 100%|██████████| 8/8 [00:03<00:00,  2.08it/s]"
          ]
        },
        {
          "output_type": "stream",
          "name": "stdout",
          "text": [
            "                   all        227        220      0.378      0.264      0.264      0.186\n"
          ]
        },
        {
          "output_type": "stream",
          "name": "stderr",
          "text": [
            "\n"
          ]
        },
        {
          "output_type": "stream",
          "name": "stdout",
          "text": [
            "\n",
            "      Epoch    GPU_mem   box_loss   cls_loss   dfl_loss  Instances       Size\n"
          ]
        },
        {
          "output_type": "stream",
          "name": "stderr",
          "text": [
            "     14/200      7.39G       1.09      1.253      1.256         25        640: 100%|██████████| 132/132 [01:13<00:00,  1.80it/s]\n",
            "                 Class     Images  Instances      Box(P          R      mAP50  mAP50-95): 100%|██████████| 8/8 [00:03<00:00,  2.60it/s]"
          ]
        },
        {
          "output_type": "stream",
          "name": "stdout",
          "text": [
            "                   all        227        220      0.423      0.323      0.318      0.228\n"
          ]
        },
        {
          "output_type": "stream",
          "name": "stderr",
          "text": [
            "\n"
          ]
        },
        {
          "output_type": "stream",
          "name": "stdout",
          "text": [
            "\n",
            "      Epoch    GPU_mem   box_loss   cls_loss   dfl_loss  Instances       Size\n"
          ]
        },
        {
          "output_type": "stream",
          "name": "stderr",
          "text": [
            "     15/200      7.38G      1.058      1.248      1.246         17        640: 100%|██████████| 132/132 [01:12<00:00,  1.81it/s]\n",
            "                 Class     Images  Instances      Box(P          R      mAP50  mAP50-95): 100%|██████████| 8/8 [00:03<00:00,  2.51it/s]"
          ]
        },
        {
          "output_type": "stream",
          "name": "stdout",
          "text": [
            "                   all        227        220       0.32      0.345      0.257      0.172\n"
          ]
        },
        {
          "output_type": "stream",
          "name": "stderr",
          "text": [
            "\n"
          ]
        },
        {
          "output_type": "stream",
          "name": "stdout",
          "text": [
            "\n",
            "      Epoch    GPU_mem   box_loss   cls_loss   dfl_loss  Instances       Size\n"
          ]
        },
        {
          "output_type": "stream",
          "name": "stderr",
          "text": [
            "     16/200      7.38G      1.043      1.222      1.233         36        640: 100%|██████████| 132/132 [01:12<00:00,  1.81it/s]\n",
            "                 Class     Images  Instances      Box(P          R      mAP50  mAP50-95): 100%|██████████| 8/8 [00:04<00:00,  1.73it/s]"
          ]
        },
        {
          "output_type": "stream",
          "name": "stdout",
          "text": [
            "                   all        227        220      0.455      0.277      0.307      0.218\n"
          ]
        },
        {
          "output_type": "stream",
          "name": "stderr",
          "text": [
            "\n"
          ]
        },
        {
          "output_type": "stream",
          "name": "stdout",
          "text": [
            "\n",
            "      Epoch    GPU_mem   box_loss   cls_loss   dfl_loss  Instances       Size\n"
          ]
        },
        {
          "output_type": "stream",
          "name": "stderr",
          "text": [
            "     17/200      7.35G      1.022      1.179      1.214         23        640: 100%|██████████| 132/132 [01:13<00:00,  1.81it/s]\n",
            "                 Class     Images  Instances      Box(P          R      mAP50  mAP50-95): 100%|██████████| 8/8 [00:03<00:00,  2.55it/s]"
          ]
        },
        {
          "output_type": "stream",
          "name": "stdout",
          "text": [
            "                   all        227        220      0.446      0.364      0.336      0.226\n"
          ]
        },
        {
          "output_type": "stream",
          "name": "stderr",
          "text": [
            "\n"
          ]
        },
        {
          "output_type": "stream",
          "name": "stdout",
          "text": [
            "\n",
            "      Epoch    GPU_mem   box_loss   cls_loss   dfl_loss  Instances       Size\n"
          ]
        },
        {
          "output_type": "stream",
          "name": "stderr",
          "text": [
            "     18/200      7.35G     0.9929      1.138      1.211         26        640: 100%|██████████| 132/132 [01:13<00:00,  1.80it/s]\n",
            "                 Class     Images  Instances      Box(P          R      mAP50  mAP50-95): 100%|██████████| 8/8 [00:03<00:00,  2.60it/s]"
          ]
        },
        {
          "output_type": "stream",
          "name": "stdout",
          "text": [
            "                   all        227        220        0.5      0.395      0.424      0.303\n"
          ]
        },
        {
          "output_type": "stream",
          "name": "stderr",
          "text": [
            "\n"
          ]
        },
        {
          "output_type": "stream",
          "name": "stdout",
          "text": [
            "\n",
            "      Epoch    GPU_mem   box_loss   cls_loss   dfl_loss  Instances       Size\n"
          ]
        },
        {
          "output_type": "stream",
          "name": "stderr",
          "text": [
            "     19/200      7.37G     0.9868      1.133      1.191         26        640: 100%|██████████| 132/132 [01:13<00:00,  1.79it/s]\n",
            "                 Class     Images  Instances      Box(P          R      mAP50  mAP50-95): 100%|██████████| 8/8 [00:03<00:00,  2.45it/s]"
          ]
        },
        {
          "output_type": "stream",
          "name": "stdout",
          "text": [
            "                   all        227        220      0.533      0.359      0.399      0.294\n"
          ]
        },
        {
          "output_type": "stream",
          "name": "stderr",
          "text": [
            "\n"
          ]
        },
        {
          "output_type": "stream",
          "name": "stdout",
          "text": [
            "\n",
            "      Epoch    GPU_mem   box_loss   cls_loss   dfl_loss  Instances       Size\n"
          ]
        },
        {
          "output_type": "stream",
          "name": "stderr",
          "text": [
            "     20/200      7.35G     0.9616      1.092      1.188         15        640: 100%|██████████| 132/132 [01:13<00:00,  1.80it/s]\n",
            "                 Class     Images  Instances      Box(P          R      mAP50  mAP50-95): 100%|██████████| 8/8 [00:04<00:00,  1.79it/s]"
          ]
        },
        {
          "output_type": "stream",
          "name": "stdout",
          "text": [
            "                   all        227        220      0.452      0.414      0.394      0.267\n"
          ]
        },
        {
          "output_type": "stream",
          "name": "stderr",
          "text": [
            "\n"
          ]
        },
        {
          "output_type": "stream",
          "name": "stdout",
          "text": [
            "\n",
            "      Epoch    GPU_mem   box_loss   cls_loss   dfl_loss  Instances       Size\n"
          ]
        },
        {
          "output_type": "stream",
          "name": "stderr",
          "text": [
            "     21/200       7.4G     0.9952      1.124      1.198         25        640: 100%|██████████| 132/132 [01:13<00:00,  1.79it/s]\n",
            "                 Class     Images  Instances      Box(P          R      mAP50  mAP50-95): 100%|██████████| 8/8 [00:03<00:00,  2.53it/s]"
          ]
        },
        {
          "output_type": "stream",
          "name": "stdout",
          "text": [
            "                   all        227        220      0.504      0.368      0.384      0.286\n"
          ]
        },
        {
          "output_type": "stream",
          "name": "stderr",
          "text": [
            "\n"
          ]
        },
        {
          "output_type": "stream",
          "name": "stdout",
          "text": [
            "\n",
            "      Epoch    GPU_mem   box_loss   cls_loss   dfl_loss  Instances       Size\n"
          ]
        },
        {
          "output_type": "stream",
          "name": "stderr",
          "text": [
            "     22/200      7.39G     0.9599      1.072      1.174         41        640: 100%|██████████| 132/132 [01:13<00:00,  1.80it/s]\n",
            "                 Class     Images  Instances      Box(P          R      mAP50  mAP50-95): 100%|██████████| 8/8 [00:03<00:00,  2.37it/s]"
          ]
        },
        {
          "output_type": "stream",
          "name": "stdout",
          "text": [
            "                   all        227        220      0.508      0.413      0.413      0.297\n"
          ]
        },
        {
          "output_type": "stream",
          "name": "stderr",
          "text": [
            "\n"
          ]
        },
        {
          "output_type": "stream",
          "name": "stdout",
          "text": [
            "\n",
            "      Epoch    GPU_mem   box_loss   cls_loss   dfl_loss  Instances       Size\n"
          ]
        },
        {
          "output_type": "stream",
          "name": "stderr",
          "text": [
            "     23/200      7.38G     0.9428      1.051      1.168         35        640: 100%|██████████| 132/132 [01:13<00:00,  1.79it/s]\n",
            "                 Class     Images  Instances      Box(P          R      mAP50  mAP50-95): 100%|██████████| 8/8 [00:04<00:00,  1.75it/s]"
          ]
        },
        {
          "output_type": "stream",
          "name": "stdout",
          "text": [
            "                   all        227        220      0.491      0.409      0.401      0.285\n"
          ]
        },
        {
          "output_type": "stream",
          "name": "stderr",
          "text": [
            "\n"
          ]
        },
        {
          "output_type": "stream",
          "name": "stdout",
          "text": [
            "\n",
            "      Epoch    GPU_mem   box_loss   cls_loss   dfl_loss  Instances       Size\n"
          ]
        },
        {
          "output_type": "stream",
          "name": "stderr",
          "text": [
            "     24/200      7.38G     0.9517      1.056      1.172         18        640: 100%|██████████| 132/132 [01:13<00:00,  1.79it/s]\n",
            "                 Class     Images  Instances      Box(P          R      mAP50  mAP50-95): 100%|██████████| 8/8 [00:02<00:00,  2.76it/s]"
          ]
        },
        {
          "output_type": "stream",
          "name": "stdout",
          "text": [
            "                   all        227        220       0.56      0.411      0.453      0.326\n"
          ]
        },
        {
          "output_type": "stream",
          "name": "stderr",
          "text": [
            "\n"
          ]
        },
        {
          "output_type": "stream",
          "name": "stdout",
          "text": [
            "\n",
            "      Epoch    GPU_mem   box_loss   cls_loss   dfl_loss  Instances       Size\n"
          ]
        },
        {
          "output_type": "stream",
          "name": "stderr",
          "text": [
            "     25/200      7.35G     0.9572      1.071      1.171         19        640: 100%|██████████| 132/132 [01:13<00:00,  1.79it/s]\n",
            "                 Class     Images  Instances      Box(P          R      mAP50  mAP50-95): 100%|██████████| 8/8 [00:03<00:00,  2.54it/s]"
          ]
        },
        {
          "output_type": "stream",
          "name": "stdout",
          "text": [
            "                   all        227        220      0.544      0.336      0.379      0.262\n"
          ]
        },
        {
          "output_type": "stream",
          "name": "stderr",
          "text": [
            "\n"
          ]
        },
        {
          "output_type": "stream",
          "name": "stdout",
          "text": [
            "\n",
            "      Epoch    GPU_mem   box_loss   cls_loss   dfl_loss  Instances       Size\n"
          ]
        },
        {
          "output_type": "stream",
          "name": "stderr",
          "text": [
            "     26/200      7.39G      0.921      1.027      1.164         11        640: 100%|██████████| 132/132 [01:13<00:00,  1.79it/s]\n",
            "                 Class     Images  Instances      Box(P          R      mAP50  mAP50-95): 100%|██████████| 8/8 [00:04<00:00,  1.75it/s]"
          ]
        },
        {
          "output_type": "stream",
          "name": "stdout",
          "text": [
            "                   all        227        220      0.574      0.332      0.396      0.301\n"
          ]
        },
        {
          "output_type": "stream",
          "name": "stderr",
          "text": [
            "\n"
          ]
        },
        {
          "output_type": "stream",
          "name": "stdout",
          "text": [
            "\n",
            "      Epoch    GPU_mem   box_loss   cls_loss   dfl_loss  Instances       Size\n"
          ]
        },
        {
          "output_type": "stream",
          "name": "stderr",
          "text": [
            "     27/200      7.36G     0.9264      1.024      1.153         22        640: 100%|██████████| 132/132 [01:13<00:00,  1.80it/s]\n",
            "                 Class     Images  Instances      Box(P          R      mAP50  mAP50-95): 100%|██████████| 8/8 [00:03<00:00,  2.63it/s]"
          ]
        },
        {
          "output_type": "stream",
          "name": "stdout",
          "text": [
            "                   all        227        220      0.502      0.468      0.449       0.33\n"
          ]
        },
        {
          "output_type": "stream",
          "name": "stderr",
          "text": [
            "\n"
          ]
        },
        {
          "output_type": "stream",
          "name": "stdout",
          "text": [
            "\n",
            "      Epoch    GPU_mem   box_loss   cls_loss   dfl_loss  Instances       Size\n"
          ]
        },
        {
          "output_type": "stream",
          "name": "stderr",
          "text": [
            "     28/200       7.4G     0.9056      1.024      1.145          8        640: 100%|██████████| 132/132 [01:13<00:00,  1.79it/s]\n",
            "                 Class     Images  Instances      Box(P          R      mAP50  mAP50-95): 100%|██████████| 8/8 [00:03<00:00,  2.63it/s]"
          ]
        },
        {
          "output_type": "stream",
          "name": "stdout",
          "text": [
            "                   all        227        220      0.411      0.514      0.459      0.349\n"
          ]
        },
        {
          "output_type": "stream",
          "name": "stderr",
          "text": [
            "\n"
          ]
        },
        {
          "output_type": "stream",
          "name": "stdout",
          "text": [
            "\n",
            "      Epoch    GPU_mem   box_loss   cls_loss   dfl_loss  Instances       Size\n"
          ]
        },
        {
          "output_type": "stream",
          "name": "stderr",
          "text": [
            "     29/200      7.38G     0.9119          1      1.141         36        640: 100%|██████████| 132/132 [01:13<00:00,  1.81it/s]\n",
            "                 Class     Images  Instances      Box(P          R      mAP50  mAP50-95): 100%|██████████| 8/8 [00:03<00:00,  2.62it/s]"
          ]
        },
        {
          "output_type": "stream",
          "name": "stdout",
          "text": [
            "                   all        227        220      0.674      0.357      0.441      0.336\n"
          ]
        },
        {
          "output_type": "stream",
          "name": "stderr",
          "text": [
            "\n"
          ]
        },
        {
          "output_type": "stream",
          "name": "stdout",
          "text": [
            "\n",
            "      Epoch    GPU_mem   box_loss   cls_loss   dfl_loss  Instances       Size\n"
          ]
        },
        {
          "output_type": "stream",
          "name": "stderr",
          "text": [
            "     30/200      7.36G     0.8915      1.005      1.139         18        640: 100%|██████████| 132/132 [01:13<00:00,  1.80it/s]\n",
            "                 Class     Images  Instances      Box(P          R      mAP50  mAP50-95): 100%|██████████| 8/8 [00:03<00:00,  2.01it/s]"
          ]
        },
        {
          "output_type": "stream",
          "name": "stdout",
          "text": [
            "                   all        227        220      0.476      0.451      0.451      0.328\n"
          ]
        },
        {
          "output_type": "stream",
          "name": "stderr",
          "text": [
            "\n"
          ]
        },
        {
          "output_type": "stream",
          "name": "stdout",
          "text": [
            "\n",
            "      Epoch    GPU_mem   box_loss   cls_loss   dfl_loss  Instances       Size\n"
          ]
        },
        {
          "output_type": "stream",
          "name": "stderr",
          "text": [
            "     31/200      7.35G     0.8764     0.9548       1.13         13        640: 100%|██████████| 132/132 [01:13<00:00,  1.79it/s]\n",
            "                 Class     Images  Instances      Box(P          R      mAP50  mAP50-95): 100%|██████████| 8/8 [00:03<00:00,  2.43it/s]"
          ]
        },
        {
          "output_type": "stream",
          "name": "stdout",
          "text": [
            "                   all        227        220      0.517      0.432      0.434      0.326\n"
          ]
        },
        {
          "output_type": "stream",
          "name": "stderr",
          "text": [
            "\n"
          ]
        },
        {
          "output_type": "stream",
          "name": "stdout",
          "text": [
            "\n",
            "      Epoch    GPU_mem   box_loss   cls_loss   dfl_loss  Instances       Size\n"
          ]
        },
        {
          "output_type": "stream",
          "name": "stderr",
          "text": [
            "     32/200      7.37G      0.856     0.9324      1.118         18        640: 100%|██████████| 132/132 [01:13<00:00,  1.80it/s]\n",
            "                 Class     Images  Instances      Box(P          R      mAP50  mAP50-95): 100%|██████████| 8/8 [00:03<00:00,  2.48it/s]"
          ]
        },
        {
          "output_type": "stream",
          "name": "stdout",
          "text": [
            "                   all        227        220      0.537      0.436      0.487      0.366\n"
          ]
        },
        {
          "output_type": "stream",
          "name": "stderr",
          "text": [
            "\n"
          ]
        },
        {
          "output_type": "stream",
          "name": "stdout",
          "text": [
            "\n",
            "      Epoch    GPU_mem   box_loss   cls_loss   dfl_loss  Instances       Size\n"
          ]
        },
        {
          "output_type": "stream",
          "name": "stderr",
          "text": [
            "     33/200      7.38G     0.8667     0.9449      1.127         16        640: 100%|██████████| 132/132 [01:14<00:00,  1.78it/s]\n",
            "                 Class     Images  Instances      Box(P          R      mAP50  mAP50-95): 100%|██████████| 8/8 [00:04<00:00,  1.99it/s]"
          ]
        },
        {
          "output_type": "stream",
          "name": "stdout",
          "text": [
            "                   all        227        220      0.549      0.377      0.443      0.326\n"
          ]
        },
        {
          "output_type": "stream",
          "name": "stderr",
          "text": [
            "\n"
          ]
        },
        {
          "output_type": "stream",
          "name": "stdout",
          "text": [
            "\n",
            "      Epoch    GPU_mem   box_loss   cls_loss   dfl_loss  Instances       Size\n"
          ]
        },
        {
          "output_type": "stream",
          "name": "stderr",
          "text": [
            "     34/200      7.36G     0.8588     0.9081      1.111         27        640: 100%|██████████| 132/132 [01:13<00:00,  1.79it/s]\n",
            "                 Class     Images  Instances      Box(P          R      mAP50  mAP50-95): 100%|██████████| 8/8 [00:03<00:00,  2.12it/s]"
          ]
        },
        {
          "output_type": "stream",
          "name": "stdout",
          "text": [
            "                   all        227        220      0.481      0.532      0.498      0.376\n"
          ]
        },
        {
          "output_type": "stream",
          "name": "stderr",
          "text": [
            "\n"
          ]
        },
        {
          "output_type": "stream",
          "name": "stdout",
          "text": [
            "\n",
            "      Epoch    GPU_mem   box_loss   cls_loss   dfl_loss  Instances       Size\n"
          ]
        },
        {
          "output_type": "stream",
          "name": "stderr",
          "text": [
            "     35/200      7.36G     0.8695     0.9168      1.117         28        640: 100%|██████████| 132/132 [01:13<00:00,  1.80it/s]\n",
            "                 Class     Images  Instances      Box(P          R      mAP50  mAP50-95): 100%|██████████| 8/8 [00:03<00:00,  2.62it/s]"
          ]
        },
        {
          "output_type": "stream",
          "name": "stdout",
          "text": [
            "                   all        227        220      0.629      0.401      0.483      0.376\n"
          ]
        },
        {
          "output_type": "stream",
          "name": "stderr",
          "text": [
            "\n"
          ]
        },
        {
          "output_type": "stream",
          "name": "stdout",
          "text": [
            "\n",
            "      Epoch    GPU_mem   box_loss   cls_loss   dfl_loss  Instances       Size\n"
          ]
        },
        {
          "output_type": "stream",
          "name": "stderr",
          "text": [
            "     36/200      7.36G     0.8403     0.8995      1.103         17        640: 100%|██████████| 132/132 [01:13<00:00,  1.81it/s]\n",
            "                 Class     Images  Instances      Box(P          R      mAP50  mAP50-95): 100%|██████████| 8/8 [00:04<00:00,  1.97it/s]"
          ]
        },
        {
          "output_type": "stream",
          "name": "stdout",
          "text": [
            "                   all        227        220      0.651      0.436      0.489      0.385\n"
          ]
        },
        {
          "output_type": "stream",
          "name": "stderr",
          "text": [
            "\n"
          ]
        },
        {
          "output_type": "stream",
          "name": "stdout",
          "text": [
            "\n",
            "      Epoch    GPU_mem   box_loss   cls_loss   dfl_loss  Instances       Size\n"
          ]
        },
        {
          "output_type": "stream",
          "name": "stderr",
          "text": [
            "     37/200      7.39G     0.8332     0.8888      1.092          8        640: 100%|██████████| 132/132 [01:12<00:00,  1.81it/s]\n",
            "                 Class     Images  Instances      Box(P          R      mAP50  mAP50-95): 100%|██████████| 8/8 [00:03<00:00,  2.02it/s]"
          ]
        },
        {
          "output_type": "stream",
          "name": "stdout",
          "text": [
            "                   all        227        220      0.599      0.474      0.486      0.367\n"
          ]
        },
        {
          "output_type": "stream",
          "name": "stderr",
          "text": [
            "\n"
          ]
        },
        {
          "output_type": "stream",
          "name": "stdout",
          "text": [
            "\n",
            "      Epoch    GPU_mem   box_loss   cls_loss   dfl_loss  Instances       Size\n"
          ]
        },
        {
          "output_type": "stream",
          "name": "stderr",
          "text": [
            "     38/200      7.34G     0.8382     0.8944      1.103         25        640: 100%|██████████| 132/132 [01:12<00:00,  1.81it/s]\n",
            "                 Class     Images  Instances      Box(P          R      mAP50  mAP50-95): 100%|██████████| 8/8 [00:03<00:00,  2.53it/s]"
          ]
        },
        {
          "output_type": "stream",
          "name": "stdout",
          "text": [
            "                   all        227        220      0.743      0.436      0.524      0.404\n"
          ]
        },
        {
          "output_type": "stream",
          "name": "stderr",
          "text": [
            "\n"
          ]
        },
        {
          "output_type": "stream",
          "name": "stdout",
          "text": [
            "\n",
            "      Epoch    GPU_mem   box_loss   cls_loss   dfl_loss  Instances       Size\n"
          ]
        },
        {
          "output_type": "stream",
          "name": "stderr",
          "text": [
            "     39/200      7.39G     0.8269      0.869      1.101          9        640: 100%|██████████| 132/132 [01:12<00:00,  1.82it/s]\n",
            "                 Class     Images  Instances      Box(P          R      mAP50  mAP50-95): 100%|██████████| 8/8 [00:03<00:00,  2.18it/s]"
          ]
        },
        {
          "output_type": "stream",
          "name": "stdout",
          "text": [
            "                   all        227        220      0.525      0.593      0.566       0.43\n"
          ]
        },
        {
          "output_type": "stream",
          "name": "stderr",
          "text": [
            "\n"
          ]
        },
        {
          "output_type": "stream",
          "name": "stdout",
          "text": [
            "\n",
            "      Epoch    GPU_mem   box_loss   cls_loss   dfl_loss  Instances       Size\n"
          ]
        },
        {
          "output_type": "stream",
          "name": "stderr",
          "text": [
            "     40/200      7.34G     0.8289     0.8727      1.104         31        640: 100%|██████████| 132/132 [01:12<00:00,  1.81it/s]\n",
            "                 Class     Images  Instances      Box(P          R      mAP50  mAP50-95): 100%|██████████| 8/8 [00:04<00:00,  1.82it/s]"
          ]
        },
        {
          "output_type": "stream",
          "name": "stdout",
          "text": [
            "                   all        227        220      0.515      0.436      0.466      0.347\n"
          ]
        },
        {
          "output_type": "stream",
          "name": "stderr",
          "text": [
            "\n"
          ]
        },
        {
          "output_type": "stream",
          "name": "stdout",
          "text": [
            "\n",
            "      Epoch    GPU_mem   box_loss   cls_loss   dfl_loss  Instances       Size\n"
          ]
        },
        {
          "output_type": "stream",
          "name": "stderr",
          "text": [
            "     41/200      7.33G      0.815     0.8746      1.089         14        640: 100%|██████████| 132/132 [01:12<00:00,  1.81it/s]\n",
            "                 Class     Images  Instances      Box(P          R      mAP50  mAP50-95): 100%|██████████| 8/8 [00:02<00:00,  2.79it/s]"
          ]
        },
        {
          "output_type": "stream",
          "name": "stdout",
          "text": [
            "                   all        227        220      0.499      0.465      0.471      0.353\n"
          ]
        },
        {
          "output_type": "stream",
          "name": "stderr",
          "text": [
            "\n"
          ]
        },
        {
          "output_type": "stream",
          "name": "stdout",
          "text": [
            "\n",
            "      Epoch    GPU_mem   box_loss   cls_loss   dfl_loss  Instances       Size\n"
          ]
        },
        {
          "output_type": "stream",
          "name": "stderr",
          "text": [
            "     42/200      7.34G     0.7965     0.8384      1.082         18        640: 100%|██████████| 132/132 [01:13<00:00,  1.80it/s]\n",
            "                 Class     Images  Instances      Box(P          R      mAP50  mAP50-95): 100%|██████████| 8/8 [00:03<00:00,  2.58it/s]"
          ]
        },
        {
          "output_type": "stream",
          "name": "stdout",
          "text": [
            "                   all        227        220      0.567      0.409      0.447       0.33\n"
          ]
        },
        {
          "output_type": "stream",
          "name": "stderr",
          "text": [
            "\n"
          ]
        },
        {
          "output_type": "stream",
          "name": "stdout",
          "text": [
            "\n",
            "      Epoch    GPU_mem   box_loss   cls_loss   dfl_loss  Instances       Size\n"
          ]
        },
        {
          "output_type": "stream",
          "name": "stderr",
          "text": [
            "     43/200      7.33G     0.8223     0.8547       1.09         22        640: 100%|██████████| 132/132 [01:12<00:00,  1.81it/s]\n",
            "                 Class     Images  Instances      Box(P          R      mAP50  mAP50-95): 100%|██████████| 8/8 [00:03<00:00,  2.14it/s]"
          ]
        },
        {
          "output_type": "stream",
          "name": "stdout",
          "text": [
            "                   all        227        220      0.699      0.436      0.476      0.361\n"
          ]
        },
        {
          "output_type": "stream",
          "name": "stderr",
          "text": [
            "\n"
          ]
        },
        {
          "output_type": "stream",
          "name": "stdout",
          "text": [
            "\n",
            "      Epoch    GPU_mem   box_loss   cls_loss   dfl_loss  Instances       Size\n"
          ]
        },
        {
          "output_type": "stream",
          "name": "stderr",
          "text": [
            "     44/200      7.39G     0.7995      0.833      1.077         18        640: 100%|██████████| 132/132 [01:12<00:00,  1.81it/s]\n",
            "                 Class     Images  Instances      Box(P          R      mAP50  mAP50-95): 100%|██████████| 8/8 [00:02<00:00,  2.69it/s]"
          ]
        },
        {
          "output_type": "stream",
          "name": "stdout",
          "text": [
            "                   all        227        220      0.672      0.441      0.502      0.383\n"
          ]
        },
        {
          "output_type": "stream",
          "name": "stderr",
          "text": [
            "\n"
          ]
        },
        {
          "output_type": "stream",
          "name": "stdout",
          "text": [
            "\n",
            "      Epoch    GPU_mem   box_loss   cls_loss   dfl_loss  Instances       Size\n"
          ]
        },
        {
          "output_type": "stream",
          "name": "stderr",
          "text": [
            "     45/200      7.38G     0.8011     0.8332       1.08         27        640: 100%|██████████| 132/132 [01:12<00:00,  1.81it/s]\n",
            "                 Class     Images  Instances      Box(P          R      mAP50  mAP50-95): 100%|██████████| 8/8 [00:03<00:00,  2.20it/s]"
          ]
        },
        {
          "output_type": "stream",
          "name": "stdout",
          "text": [
            "                   all        227        220      0.706      0.481      0.514      0.382\n"
          ]
        },
        {
          "output_type": "stream",
          "name": "stderr",
          "text": [
            "\n"
          ]
        },
        {
          "output_type": "stream",
          "name": "stdout",
          "text": [
            "\n",
            "      Epoch    GPU_mem   box_loss   cls_loss   dfl_loss  Instances       Size\n"
          ]
        },
        {
          "output_type": "stream",
          "name": "stderr",
          "text": [
            "     46/200      7.36G     0.7752     0.7955      1.074         16        640: 100%|██████████| 132/132 [01:13<00:00,  1.81it/s]\n",
            "                 Class     Images  Instances      Box(P          R      mAP50  mAP50-95): 100%|██████████| 8/8 [00:02<00:00,  2.80it/s]"
          ]
        },
        {
          "output_type": "stream",
          "name": "stdout",
          "text": [
            "                   all        227        220      0.619       0.45      0.474      0.363\n"
          ]
        },
        {
          "output_type": "stream",
          "name": "stderr",
          "text": [
            "\n"
          ]
        },
        {
          "output_type": "stream",
          "name": "stdout",
          "text": [
            "\n",
            "      Epoch    GPU_mem   box_loss   cls_loss   dfl_loss  Instances       Size\n"
          ]
        },
        {
          "output_type": "stream",
          "name": "stderr",
          "text": [
            "     47/200      7.37G     0.7851     0.7936      1.071         15        640: 100%|██████████| 132/132 [01:13<00:00,  1.80it/s]\n",
            "                 Class     Images  Instances      Box(P          R      mAP50  mAP50-95): 100%|██████████| 8/8 [00:03<00:00,  2.60it/s]"
          ]
        },
        {
          "output_type": "stream",
          "name": "stdout",
          "text": [
            "                   all        227        220      0.681      0.532      0.557      0.427\n"
          ]
        },
        {
          "output_type": "stream",
          "name": "stderr",
          "text": [
            "\n"
          ]
        },
        {
          "output_type": "stream",
          "name": "stdout",
          "text": [
            "\n",
            "      Epoch    GPU_mem   box_loss   cls_loss   dfl_loss  Instances       Size\n"
          ]
        },
        {
          "output_type": "stream",
          "name": "stderr",
          "text": [
            "     48/200      7.35G       0.78     0.7867      1.073         19        640: 100%|██████████| 132/132 [01:13<00:00,  1.80it/s]\n",
            "                 Class     Images  Instances      Box(P          R      mAP50  mAP50-95): 100%|██████████| 8/8 [00:04<00:00,  1.77it/s]"
          ]
        },
        {
          "output_type": "stream",
          "name": "stdout",
          "text": [
            "                   all        227        220      0.612      0.468      0.493      0.371\n"
          ]
        },
        {
          "output_type": "stream",
          "name": "stderr",
          "text": [
            "\n"
          ]
        },
        {
          "output_type": "stream",
          "name": "stdout",
          "text": [
            "\n",
            "      Epoch    GPU_mem   box_loss   cls_loss   dfl_loss  Instances       Size\n"
          ]
        },
        {
          "output_type": "stream",
          "name": "stderr",
          "text": [
            "     49/200      7.38G     0.7778     0.7677      1.056         32        640: 100%|██████████| 132/132 [01:13<00:00,  1.79it/s]\n",
            "                 Class     Images  Instances      Box(P          R      mAP50  mAP50-95): 100%|██████████| 8/8 [00:03<00:00,  2.26it/s]"
          ]
        },
        {
          "output_type": "stream",
          "name": "stdout",
          "text": [
            "                   all        227        220      0.648      0.495      0.552      0.426\n"
          ]
        },
        {
          "output_type": "stream",
          "name": "stderr",
          "text": [
            "\n"
          ]
        },
        {
          "output_type": "stream",
          "name": "stdout",
          "text": [
            "\n",
            "      Epoch    GPU_mem   box_loss   cls_loss   dfl_loss  Instances       Size\n"
          ]
        },
        {
          "output_type": "stream",
          "name": "stderr",
          "text": [
            "     50/200      7.38G     0.7834     0.7907      1.069         19        640: 100%|██████████| 132/132 [01:13<00:00,  1.80it/s]\n",
            "                 Class     Images  Instances      Box(P          R      mAP50  mAP50-95): 100%|██████████| 8/8 [00:03<00:00,  2.65it/s]"
          ]
        },
        {
          "output_type": "stream",
          "name": "stdout",
          "text": [
            "                   all        227        220      0.635      0.436      0.496      0.378\n"
          ]
        },
        {
          "output_type": "stream",
          "name": "stderr",
          "text": [
            "\n"
          ]
        },
        {
          "output_type": "stream",
          "name": "stdout",
          "text": [
            "\n",
            "      Epoch    GPU_mem   box_loss   cls_loss   dfl_loss  Instances       Size\n"
          ]
        },
        {
          "output_type": "stream",
          "name": "stderr",
          "text": [
            "     51/200      7.36G     0.7564     0.7427      1.052         23        640: 100%|██████████| 132/132 [01:12<00:00,  1.82it/s]\n",
            "                 Class     Images  Instances      Box(P          R      mAP50  mAP50-95): 100%|██████████| 8/8 [00:03<00:00,  2.45it/s]"
          ]
        },
        {
          "output_type": "stream",
          "name": "stdout",
          "text": [
            "                   all        227        220      0.631      0.441      0.485      0.373\n"
          ]
        },
        {
          "output_type": "stream",
          "name": "stderr",
          "text": [
            "\n"
          ]
        },
        {
          "output_type": "stream",
          "name": "stdout",
          "text": [
            "\n",
            "      Epoch    GPU_mem   box_loss   cls_loss   dfl_loss  Instances       Size\n"
          ]
        },
        {
          "output_type": "stream",
          "name": "stderr",
          "text": [
            "     52/200      7.38G     0.7503     0.7464      1.052         40        640: 100%|██████████| 132/132 [01:13<00:00,  1.81it/s]\n",
            "                 Class     Images  Instances      Box(P          R      mAP50  mAP50-95): 100%|██████████| 8/8 [00:04<00:00,  1.75it/s]"
          ]
        },
        {
          "output_type": "stream",
          "name": "stdout",
          "text": [
            "                   all        227        220       0.66      0.427      0.504      0.394\n"
          ]
        },
        {
          "output_type": "stream",
          "name": "stderr",
          "text": [
            "\n"
          ]
        },
        {
          "output_type": "stream",
          "name": "stdout",
          "text": [
            "\n",
            "      Epoch    GPU_mem   box_loss   cls_loss   dfl_loss  Instances       Size\n"
          ]
        },
        {
          "output_type": "stream",
          "name": "stderr",
          "text": [
            "     53/200      7.37G     0.7539     0.7516       1.05         20        640: 100%|██████████| 132/132 [01:12<00:00,  1.82it/s]\n",
            "                 Class     Images  Instances      Box(P          R      mAP50  mAP50-95): 100%|██████████| 8/8 [00:03<00:00,  2.60it/s]"
          ]
        },
        {
          "output_type": "stream",
          "name": "stdout",
          "text": [
            "                   all        227        220      0.707      0.518      0.567      0.434\n"
          ]
        },
        {
          "output_type": "stream",
          "name": "stderr",
          "text": [
            "\n"
          ]
        },
        {
          "output_type": "stream",
          "name": "stdout",
          "text": [
            "\n",
            "      Epoch    GPU_mem   box_loss   cls_loss   dfl_loss  Instances       Size\n"
          ]
        },
        {
          "output_type": "stream",
          "name": "stderr",
          "text": [
            "     54/200      7.34G     0.7409     0.7395      1.049         26        640: 100%|██████████| 132/132 [01:12<00:00,  1.82it/s]\n",
            "                 Class     Images  Instances      Box(P          R      mAP50  mAP50-95): 100%|██████████| 8/8 [00:03<00:00,  2.48it/s]"
          ]
        },
        {
          "output_type": "stream",
          "name": "stdout",
          "text": [
            "                   all        227        220      0.628      0.482      0.498      0.374\n"
          ]
        },
        {
          "output_type": "stream",
          "name": "stderr",
          "text": [
            "\n"
          ]
        },
        {
          "output_type": "stream",
          "name": "stdout",
          "text": [
            "\n",
            "      Epoch    GPU_mem   box_loss   cls_loss   dfl_loss  Instances       Size\n"
          ]
        },
        {
          "output_type": "stream",
          "name": "stderr",
          "text": [
            "     55/200      7.37G     0.7463     0.7297      1.042         39        640: 100%|██████████| 132/132 [01:13<00:00,  1.80it/s]\n",
            "                 Class     Images  Instances      Box(P          R      mAP50  mAP50-95): 100%|██████████| 8/8 [00:02<00:00,  2.68it/s]"
          ]
        },
        {
          "output_type": "stream",
          "name": "stdout",
          "text": [
            "                   all        227        220      0.703      0.473      0.502      0.378\n"
          ]
        },
        {
          "output_type": "stream",
          "name": "stderr",
          "text": [
            "\n"
          ]
        },
        {
          "output_type": "stream",
          "name": "stdout",
          "text": [
            "\n",
            "      Epoch    GPU_mem   box_loss   cls_loss   dfl_loss  Instances       Size\n"
          ]
        },
        {
          "output_type": "stream",
          "name": "stderr",
          "text": [
            "     56/200      7.33G     0.7463     0.7303       1.04         25        640: 100%|██████████| 132/132 [01:13<00:00,  1.78it/s]\n",
            "                 Class     Images  Instances      Box(P          R      mAP50  mAP50-95): 100%|██████████| 8/8 [00:04<00:00,  1.84it/s]"
          ]
        },
        {
          "output_type": "stream",
          "name": "stdout",
          "text": [
            "                   all        227        220      0.803      0.407       0.51      0.385\n"
          ]
        },
        {
          "output_type": "stream",
          "name": "stderr",
          "text": [
            "\n"
          ]
        },
        {
          "output_type": "stream",
          "name": "stdout",
          "text": [
            "\n",
            "      Epoch    GPU_mem   box_loss   cls_loss   dfl_loss  Instances       Size\n"
          ]
        },
        {
          "output_type": "stream",
          "name": "stderr",
          "text": [
            "     57/200      7.39G     0.7464     0.7324      1.042         27        640: 100%|██████████| 132/132 [01:13<00:00,  1.80it/s]\n",
            "                 Class     Images  Instances      Box(P          R      mAP50  mAP50-95): 100%|██████████| 8/8 [00:03<00:00,  2.46it/s]\n"
          ]
        },
        {
          "output_type": "stream",
          "name": "stdout",
          "text": [
            "                   all        227        220      0.702      0.482      0.569      0.433\n",
            "\n",
            "      Epoch    GPU_mem   box_loss   cls_loss   dfl_loss  Instances       Size\n"
          ]
        },
        {
          "output_type": "stream",
          "name": "stderr",
          "text": [
            "     58/200      7.39G     0.7365     0.7041      1.037         23        640: 100%|██████████| 132/132 [01:13<00:00,  1.79it/s]\n",
            "                 Class     Images  Instances      Box(P          R      mAP50  mAP50-95): 100%|██████████| 8/8 [00:03<00:00,  2.52it/s]"
          ]
        },
        {
          "output_type": "stream",
          "name": "stdout",
          "text": [
            "                   all        227        220      0.635      0.505      0.541      0.413\n"
          ]
        },
        {
          "output_type": "stream",
          "name": "stderr",
          "text": [
            "\n"
          ]
        },
        {
          "output_type": "stream",
          "name": "stdout",
          "text": [
            "\n",
            "      Epoch    GPU_mem   box_loss   cls_loss   dfl_loss  Instances       Size\n"
          ]
        },
        {
          "output_type": "stream",
          "name": "stderr",
          "text": [
            "     59/200      7.35G     0.7375     0.7079      1.046         34        640: 100%|██████████| 132/132 [01:13<00:00,  1.80it/s]\n",
            "                 Class     Images  Instances      Box(P          R      mAP50  mAP50-95): 100%|██████████| 8/8 [00:04<00:00,  1.96it/s]"
          ]
        },
        {
          "output_type": "stream",
          "name": "stdout",
          "text": [
            "                   all        227        220      0.683      0.473      0.506      0.387\n"
          ]
        },
        {
          "output_type": "stream",
          "name": "stderr",
          "text": [
            "\n"
          ]
        },
        {
          "output_type": "stream",
          "name": "stdout",
          "text": [
            "\n",
            "      Epoch    GPU_mem   box_loss   cls_loss   dfl_loss  Instances       Size\n"
          ]
        },
        {
          "output_type": "stream",
          "name": "stderr",
          "text": [
            "     60/200      7.38G     0.7389     0.7218      1.036         20        640: 100%|██████████| 132/132 [01:13<00:00,  1.80it/s]\n",
            "                 Class     Images  Instances      Box(P          R      mAP50  mAP50-95): 100%|██████████| 8/8 [00:03<00:00,  2.10it/s]"
          ]
        },
        {
          "output_type": "stream",
          "name": "stdout",
          "text": [
            "                   all        227        220      0.721      0.441      0.526      0.394\n"
          ]
        },
        {
          "output_type": "stream",
          "name": "stderr",
          "text": [
            "\n"
          ]
        },
        {
          "output_type": "stream",
          "name": "stdout",
          "text": [
            "\n",
            "      Epoch    GPU_mem   box_loss   cls_loss   dfl_loss  Instances       Size\n"
          ]
        },
        {
          "output_type": "stream",
          "name": "stderr",
          "text": [
            "     61/200      7.38G     0.7151     0.6828      1.035         23        640: 100%|██████████| 132/132 [01:13<00:00,  1.79it/s]\n",
            "                 Class     Images  Instances      Box(P          R      mAP50  mAP50-95): 100%|██████████| 8/8 [00:02<00:00,  2.67it/s]"
          ]
        },
        {
          "output_type": "stream",
          "name": "stdout",
          "text": [
            "                   all        227        220      0.583      0.495      0.514      0.392\n"
          ]
        },
        {
          "output_type": "stream",
          "name": "stderr",
          "text": [
            "\n"
          ]
        },
        {
          "output_type": "stream",
          "name": "stdout",
          "text": [
            "\n",
            "      Epoch    GPU_mem   box_loss   cls_loss   dfl_loss  Instances       Size\n"
          ]
        },
        {
          "output_type": "stream",
          "name": "stderr",
          "text": [
            "     62/200      7.39G     0.7249     0.7039      1.028         20        640: 100%|██████████| 132/132 [01:13<00:00,  1.80it/s]\n",
            "                 Class     Images  Instances      Box(P          R      mAP50  mAP50-95): 100%|██████████| 8/8 [00:03<00:00,  2.12it/s]"
          ]
        },
        {
          "output_type": "stream",
          "name": "stdout",
          "text": [
            "                   all        227        220      0.662      0.489      0.532      0.412\n"
          ]
        },
        {
          "output_type": "stream",
          "name": "stderr",
          "text": [
            "\n"
          ]
        },
        {
          "output_type": "stream",
          "name": "stdout",
          "text": [
            "\n",
            "      Epoch    GPU_mem   box_loss   cls_loss   dfl_loss  Instances       Size\n"
          ]
        },
        {
          "output_type": "stream",
          "name": "stderr",
          "text": [
            "     63/200       7.4G     0.7281     0.6876      1.035         22        640: 100%|██████████| 132/132 [01:13<00:00,  1.80it/s]\n",
            "                 Class     Images  Instances      Box(P          R      mAP50  mAP50-95): 100%|██████████| 8/8 [00:04<00:00,  1.97it/s]"
          ]
        },
        {
          "output_type": "stream",
          "name": "stdout",
          "text": [
            "                   all        227        220      0.631      0.491      0.518       0.39\n"
          ]
        },
        {
          "output_type": "stream",
          "name": "stderr",
          "text": [
            "\n"
          ]
        },
        {
          "output_type": "stream",
          "name": "stdout",
          "text": [
            "\n",
            "      Epoch    GPU_mem   box_loss   cls_loss   dfl_loss  Instances       Size\n"
          ]
        },
        {
          "output_type": "stream",
          "name": "stderr",
          "text": [
            "     64/200      7.39G     0.7302     0.7014       1.04          8        640: 100%|██████████| 132/132 [01:15<00:00,  1.74it/s]\n",
            "                 Class     Images  Instances      Box(P          R      mAP50  mAP50-95): 100%|██████████| 8/8 [00:03<00:00,  2.32it/s]"
          ]
        },
        {
          "output_type": "stream",
          "name": "stdout",
          "text": [
            "                   all        227        220      0.673      0.533      0.575       0.42\n"
          ]
        },
        {
          "output_type": "stream",
          "name": "stderr",
          "text": [
            "\n"
          ]
        },
        {
          "output_type": "stream",
          "name": "stdout",
          "text": [
            "\n",
            "      Epoch    GPU_mem   box_loss   cls_loss   dfl_loss  Instances       Size\n"
          ]
        },
        {
          "output_type": "stream",
          "name": "stderr",
          "text": [
            "     65/200      7.38G     0.7015     0.6649      1.017         24        640: 100%|██████████| 132/132 [01:15<00:00,  1.75it/s]\n",
            "                 Class     Images  Instances      Box(P          R      mAP50  mAP50-95): 100%|██████████| 8/8 [00:03<00:00,  2.44it/s]"
          ]
        },
        {
          "output_type": "stream",
          "name": "stdout",
          "text": [
            "                   all        227        220       0.65      0.468      0.498      0.377\n"
          ]
        },
        {
          "output_type": "stream",
          "name": "stderr",
          "text": [
            "\n"
          ]
        },
        {
          "output_type": "stream",
          "name": "stdout",
          "text": [
            "\n",
            "      Epoch    GPU_mem   box_loss   cls_loss   dfl_loss  Instances       Size\n"
          ]
        },
        {
          "output_type": "stream",
          "name": "stderr",
          "text": [
            "     66/200      7.37G     0.7008     0.6715      1.018          7        640: 100%|██████████| 132/132 [01:15<00:00,  1.75it/s]\n",
            "                 Class     Images  Instances      Box(P          R      mAP50  mAP50-95): 100%|██████████| 8/8 [00:03<00:00,  2.06it/s]"
          ]
        },
        {
          "output_type": "stream",
          "name": "stdout",
          "text": [
            "                   all        227        220      0.666      0.509      0.536       0.38\n"
          ]
        },
        {
          "output_type": "stream",
          "name": "stderr",
          "text": [
            "\n"
          ]
        },
        {
          "output_type": "stream",
          "name": "stdout",
          "text": [
            "\n",
            "      Epoch    GPU_mem   box_loss   cls_loss   dfl_loss  Instances       Size\n"
          ]
        },
        {
          "output_type": "stream",
          "name": "stderr",
          "text": [
            "     67/200      7.35G     0.7106     0.6792       1.02         20        640: 100%|██████████| 132/132 [01:16<00:00,  1.73it/s]\n",
            "                 Class     Images  Instances      Box(P          R      mAP50  mAP50-95): 100%|██████████| 8/8 [00:04<00:00,  1.99it/s]"
          ]
        },
        {
          "output_type": "stream",
          "name": "stdout",
          "text": [
            "                   all        227        220      0.641      0.468       0.51      0.377\n"
          ]
        },
        {
          "output_type": "stream",
          "name": "stderr",
          "text": [
            "\n"
          ]
        },
        {
          "output_type": "stream",
          "name": "stdout",
          "text": [
            "\n",
            "      Epoch    GPU_mem   box_loss   cls_loss   dfl_loss  Instances       Size\n"
          ]
        },
        {
          "output_type": "stream",
          "name": "stderr",
          "text": [
            "     68/200      7.42G     0.7014     0.6616      1.024         21        640: 100%|██████████| 132/132 [01:16<00:00,  1.73it/s]\n",
            "                 Class     Images  Instances      Box(P          R      mAP50  mAP50-95): 100%|██████████| 8/8 [00:03<00:00,  2.50it/s]"
          ]
        },
        {
          "output_type": "stream",
          "name": "stdout",
          "text": [
            "                   all        227        220      0.688      0.482      0.505      0.393\n"
          ]
        },
        {
          "output_type": "stream",
          "name": "stderr",
          "text": [
            "\n"
          ]
        },
        {
          "output_type": "stream",
          "name": "stdout",
          "text": [
            "\n",
            "      Epoch    GPU_mem   box_loss   cls_loss   dfl_loss  Instances       Size\n"
          ]
        },
        {
          "output_type": "stream",
          "name": "stderr",
          "text": [
            "     69/200      7.35G     0.6949     0.6616      1.023         16        640: 100%|██████████| 132/132 [01:15<00:00,  1.75it/s]\n",
            "                 Class     Images  Instances      Box(P          R      mAP50  mAP50-95): 100%|██████████| 8/8 [00:04<00:00,  1.87it/s]"
          ]
        },
        {
          "output_type": "stream",
          "name": "stdout",
          "text": [
            "                   all        227        220      0.624      0.545      0.531      0.396\n"
          ]
        },
        {
          "output_type": "stream",
          "name": "stderr",
          "text": [
            "\n"
          ]
        },
        {
          "output_type": "stream",
          "name": "stdout",
          "text": [
            "\n",
            "      Epoch    GPU_mem   box_loss   cls_loss   dfl_loss  Instances       Size\n"
          ]
        },
        {
          "output_type": "stream",
          "name": "stderr",
          "text": [
            "     70/200      7.37G     0.6871     0.6438      1.014         10        640: 100%|██████████| 132/132 [01:15<00:00,  1.75it/s]\n",
            "                 Class     Images  Instances      Box(P          R      mAP50  mAP50-95): 100%|██████████| 8/8 [00:04<00:00,  1.83it/s]"
          ]
        },
        {
          "output_type": "stream",
          "name": "stdout",
          "text": [
            "                   all        227        220      0.646      0.532      0.554      0.411\n"
          ]
        },
        {
          "output_type": "stream",
          "name": "stderr",
          "text": [
            "\n"
          ]
        },
        {
          "output_type": "stream",
          "name": "stdout",
          "text": [
            "\n",
            "      Epoch    GPU_mem   box_loss   cls_loss   dfl_loss  Instances       Size\n"
          ]
        },
        {
          "output_type": "stream",
          "name": "stderr",
          "text": [
            "     71/200      7.37G     0.6842     0.6594      1.011         30        640: 100%|██████████| 132/132 [01:12<00:00,  1.82it/s]\n",
            "                 Class     Images  Instances      Box(P          R      mAP50  mAP50-95): 100%|██████████| 8/8 [00:03<00:00,  2.55it/s]"
          ]
        },
        {
          "output_type": "stream",
          "name": "stdout",
          "text": [
            "                   all        227        220       0.69      0.536      0.568      0.427\n"
          ]
        },
        {
          "output_type": "stream",
          "name": "stderr",
          "text": [
            "\n"
          ]
        },
        {
          "output_type": "stream",
          "name": "stdout",
          "text": [
            "\n",
            "      Epoch    GPU_mem   box_loss   cls_loss   dfl_loss  Instances       Size\n"
          ]
        },
        {
          "output_type": "stream",
          "name": "stderr",
          "text": [
            "     72/200      7.36G     0.6824     0.6238      1.007         19        640: 100%|██████████| 132/132 [01:12<00:00,  1.82it/s]\n",
            "                 Class     Images  Instances      Box(P          R      mAP50  mAP50-95): 100%|██████████| 8/8 [00:04<00:00,  1.96it/s]"
          ]
        },
        {
          "output_type": "stream",
          "name": "stdout",
          "text": [
            "                   all        227        220      0.604      0.519      0.507      0.391\n"
          ]
        },
        {
          "output_type": "stream",
          "name": "stderr",
          "text": [
            "\n"
          ]
        },
        {
          "output_type": "stream",
          "name": "stdout",
          "text": [
            "\n",
            "      Epoch    GPU_mem   box_loss   cls_loss   dfl_loss  Instances       Size\n"
          ]
        },
        {
          "output_type": "stream",
          "name": "stderr",
          "text": [
            "     73/200      7.36G      0.679     0.6303      1.006         11        640: 100%|██████████| 132/132 [01:13<00:00,  1.80it/s]\n",
            "                 Class     Images  Instances      Box(P          R      mAP50  mAP50-95): 100%|██████████| 8/8 [00:02<00:00,  2.71it/s]"
          ]
        },
        {
          "output_type": "stream",
          "name": "stdout",
          "text": [
            "                   all        227        220       0.75      0.486      0.531      0.398\n"
          ]
        },
        {
          "output_type": "stream",
          "name": "stderr",
          "text": [
            "\n"
          ]
        },
        {
          "output_type": "stream",
          "name": "stdout",
          "text": [
            "\n",
            "      Epoch    GPU_mem   box_loss   cls_loss   dfl_loss  Instances       Size\n"
          ]
        },
        {
          "output_type": "stream",
          "name": "stderr",
          "text": [
            "     74/200      7.38G      0.677     0.6361     0.9997         12        640: 100%|██████████| 132/132 [01:12<00:00,  1.82it/s]\n",
            "                 Class     Images  Instances      Box(P          R      mAP50  mAP50-95): 100%|██████████| 8/8 [00:03<00:00,  2.58it/s]"
          ]
        },
        {
          "output_type": "stream",
          "name": "stdout",
          "text": [
            "                   all        227        220      0.797       0.45      0.545       0.41\n"
          ]
        },
        {
          "output_type": "stream",
          "name": "stderr",
          "text": [
            "\n"
          ]
        },
        {
          "output_type": "stream",
          "name": "stdout",
          "text": [
            "\n",
            "      Epoch    GPU_mem   box_loss   cls_loss   dfl_loss  Instances       Size\n"
          ]
        },
        {
          "output_type": "stream",
          "name": "stderr",
          "text": [
            "     75/200      7.41G     0.6796     0.6139      1.007         31        640: 100%|██████████| 132/132 [01:13<00:00,  1.81it/s]\n",
            "                 Class     Images  Instances      Box(P          R      mAP50  mAP50-95): 100%|██████████| 8/8 [00:03<00:00,  2.07it/s]"
          ]
        },
        {
          "output_type": "stream",
          "name": "stdout",
          "text": [
            "                   all        227        220      0.714      0.488      0.556       0.42\n"
          ]
        },
        {
          "output_type": "stream",
          "name": "stderr",
          "text": [
            "\n"
          ]
        },
        {
          "output_type": "stream",
          "name": "stdout",
          "text": [
            "\n",
            "      Epoch    GPU_mem   box_loss   cls_loss   dfl_loss  Instances       Size\n"
          ]
        },
        {
          "output_type": "stream",
          "name": "stderr",
          "text": [
            "     76/200      7.36G     0.6759     0.6324      1.007         23        640: 100%|██████████| 132/132 [01:12<00:00,  1.83it/s]\n",
            "                 Class     Images  Instances      Box(P          R      mAP50  mAP50-95): 100%|██████████| 8/8 [00:03<00:00,  2.61it/s]"
          ]
        },
        {
          "output_type": "stream",
          "name": "stdout",
          "text": [
            "                   all        227        220      0.697        0.5      0.542      0.421\n"
          ]
        },
        {
          "output_type": "stream",
          "name": "stderr",
          "text": [
            "\n"
          ]
        },
        {
          "output_type": "stream",
          "name": "stdout",
          "text": [
            "\n",
            "      Epoch    GPU_mem   box_loss   cls_loss   dfl_loss  Instances       Size\n"
          ]
        },
        {
          "output_type": "stream",
          "name": "stderr",
          "text": [
            "     77/200      7.38G     0.6699     0.6161      1.001         12        640: 100%|██████████| 132/132 [01:12<00:00,  1.81it/s]\n",
            "                 Class     Images  Instances      Box(P          R      mAP50  mAP50-95): 100%|██████████| 8/8 [00:03<00:00,  2.64it/s]"
          ]
        },
        {
          "output_type": "stream",
          "name": "stdout",
          "text": [
            "                   all        227        220      0.683      0.518      0.566       0.43\n"
          ]
        },
        {
          "output_type": "stream",
          "name": "stderr",
          "text": [
            "\n"
          ]
        },
        {
          "output_type": "stream",
          "name": "stdout",
          "text": [
            "\n",
            "      Epoch    GPU_mem   box_loss   cls_loss   dfl_loss  Instances       Size\n"
          ]
        },
        {
          "output_type": "stream",
          "name": "stderr",
          "text": [
            "     78/200      7.35G     0.6666     0.6116     0.9964         19        640: 100%|██████████| 132/132 [01:12<00:00,  1.83it/s]\n",
            "                 Class     Images  Instances      Box(P          R      mAP50  mAP50-95): 100%|██████████| 8/8 [00:03<00:00,  2.58it/s]"
          ]
        },
        {
          "output_type": "stream",
          "name": "stdout",
          "text": [
            "                   all        227        220      0.751      0.532      0.563      0.407\n"
          ]
        },
        {
          "output_type": "stream",
          "name": "stderr",
          "text": [
            "\n"
          ]
        },
        {
          "output_type": "stream",
          "name": "stdout",
          "text": [
            "\n",
            "      Epoch    GPU_mem   box_loss   cls_loss   dfl_loss  Instances       Size\n"
          ]
        },
        {
          "output_type": "stream",
          "name": "stderr",
          "text": [
            "     79/200      7.34G     0.6741     0.5963      1.002         23        640: 100%|██████████| 132/132 [01:13<00:00,  1.80it/s]\n",
            "                 Class     Images  Instances      Box(P          R      mAP50  mAP50-95): 100%|██████████| 8/8 [00:02<00:00,  2.74it/s]"
          ]
        },
        {
          "output_type": "stream",
          "name": "stdout",
          "text": [
            "                   all        227        220      0.703      0.462      0.532        0.4\n"
          ]
        },
        {
          "output_type": "stream",
          "name": "stderr",
          "text": [
            "\n"
          ]
        },
        {
          "output_type": "stream",
          "name": "stdout",
          "text": [
            "\n",
            "      Epoch    GPU_mem   box_loss   cls_loss   dfl_loss  Instances       Size\n"
          ]
        },
        {
          "output_type": "stream",
          "name": "stderr",
          "text": [
            "     80/200      7.36G     0.6576     0.6139      0.994         14        640: 100%|██████████| 132/132 [01:12<00:00,  1.83it/s]\n",
            "                 Class     Images  Instances      Box(P          R      mAP50  mAP50-95): 100%|██████████| 8/8 [00:03<00:00,  2.43it/s]"
          ]
        },
        {
          "output_type": "stream",
          "name": "stdout",
          "text": [
            "                   all        227        220      0.615      0.495      0.483      0.373\n"
          ]
        },
        {
          "output_type": "stream",
          "name": "stderr",
          "text": [
            "\n"
          ]
        },
        {
          "output_type": "stream",
          "name": "stdout",
          "text": [
            "\n",
            "      Epoch    GPU_mem   box_loss   cls_loss   dfl_loss  Instances       Size\n"
          ]
        },
        {
          "output_type": "stream",
          "name": "stderr",
          "text": [
            "     81/200      7.35G     0.6702     0.6006      1.002         16        640: 100%|██████████| 132/132 [01:12<00:00,  1.81it/s]\n",
            "                 Class     Images  Instances      Box(P          R      mAP50  mAP50-95): 100%|██████████| 8/8 [00:04<00:00,  1.87it/s]"
          ]
        },
        {
          "output_type": "stream",
          "name": "stdout",
          "text": [
            "                   all        227        220      0.646      0.486      0.532       0.41\n"
          ]
        },
        {
          "output_type": "stream",
          "name": "stderr",
          "text": [
            "\n"
          ]
        },
        {
          "output_type": "stream",
          "name": "stdout",
          "text": [
            "\n",
            "      Epoch    GPU_mem   box_loss   cls_loss   dfl_loss  Instances       Size\n"
          ]
        },
        {
          "output_type": "stream",
          "name": "stderr",
          "text": [
            "     82/200      7.36G     0.6484     0.5901     0.9915         13        640: 100%|██████████| 132/132 [01:12<00:00,  1.81it/s]\n",
            "                 Class     Images  Instances      Box(P          R      mAP50  mAP50-95): 100%|██████████| 8/8 [00:02<00:00,  2.67it/s]"
          ]
        },
        {
          "output_type": "stream",
          "name": "stdout",
          "text": [
            "                   all        227        220      0.667      0.482      0.517       0.39\n"
          ]
        },
        {
          "output_type": "stream",
          "name": "stderr",
          "text": [
            "\n"
          ]
        },
        {
          "output_type": "stream",
          "name": "stdout",
          "text": [
            "\n",
            "      Epoch    GPU_mem   box_loss   cls_loss   dfl_loss  Instances       Size\n"
          ]
        },
        {
          "output_type": "stream",
          "name": "stderr",
          "text": [
            "     83/200      7.37G     0.6596     0.6069     0.9951         28        640: 100%|██████████| 132/132 [01:12<00:00,  1.83it/s]\n",
            "                 Class     Images  Instances      Box(P          R      mAP50  mAP50-95): 100%|██████████| 8/8 [00:02<00:00,  2.75it/s]"
          ]
        },
        {
          "output_type": "stream",
          "name": "stdout",
          "text": [
            "                   all        227        220      0.736      0.473      0.529      0.404\n"
          ]
        },
        {
          "output_type": "stream",
          "name": "stderr",
          "text": [
            "\n"
          ]
        },
        {
          "output_type": "stream",
          "name": "stdout",
          "text": [
            "\n",
            "      Epoch    GPU_mem   box_loss   cls_loss   dfl_loss  Instances       Size\n"
          ]
        },
        {
          "output_type": "stream",
          "name": "stderr",
          "text": [
            "     84/200      7.35G     0.6536     0.5944     0.9907         19        640: 100%|██████████| 132/132 [01:12<00:00,  1.82it/s]\n",
            "                 Class     Images  Instances      Box(P          R      mAP50  mAP50-95): 100%|██████████| 8/8 [00:04<00:00,  1.75it/s]"
          ]
        },
        {
          "output_type": "stream",
          "name": "stdout",
          "text": [
            "                   all        227        220      0.697      0.533      0.562      0.411\n"
          ]
        },
        {
          "output_type": "stream",
          "name": "stderr",
          "text": [
            "\n"
          ]
        },
        {
          "output_type": "stream",
          "name": "stdout",
          "text": [
            "\n",
            "      Epoch    GPU_mem   box_loss   cls_loss   dfl_loss  Instances       Size\n"
          ]
        },
        {
          "output_type": "stream",
          "name": "stderr",
          "text": [
            "     85/200      7.39G     0.6503     0.5869     0.9888         20        640: 100%|██████████| 132/132 [01:12<00:00,  1.81it/s]\n",
            "                 Class     Images  Instances      Box(P          R      mAP50  mAP50-95): 100%|██████████| 8/8 [00:02<00:00,  2.74it/s]"
          ]
        },
        {
          "output_type": "stream",
          "name": "stdout",
          "text": [
            "                   all        227        220      0.645      0.479      0.511      0.394\n"
          ]
        },
        {
          "output_type": "stream",
          "name": "stderr",
          "text": [
            "\n"
          ]
        },
        {
          "output_type": "stream",
          "name": "stdout",
          "text": [
            "\n",
            "      Epoch    GPU_mem   box_loss   cls_loss   dfl_loss  Instances       Size\n"
          ]
        },
        {
          "output_type": "stream",
          "name": "stderr",
          "text": [
            "     86/200      7.44G     0.6418     0.5816     0.9858         36        640: 100%|██████████| 132/132 [01:12<00:00,  1.81it/s]\n",
            "                 Class     Images  Instances      Box(P          R      mAP50  mAP50-95): 100%|██████████| 8/8 [00:03<00:00,  2.13it/s]"
          ]
        },
        {
          "output_type": "stream",
          "name": "stdout",
          "text": [
            "                   all        227        220      0.655        0.5      0.499      0.383\n"
          ]
        },
        {
          "output_type": "stream",
          "name": "stderr",
          "text": [
            "\n"
          ]
        },
        {
          "output_type": "stream",
          "name": "stdout",
          "text": [
            "\n",
            "      Epoch    GPU_mem   box_loss   cls_loss   dfl_loss  Instances       Size\n"
          ]
        },
        {
          "output_type": "stream",
          "name": "stderr",
          "text": [
            "     87/200      7.36G     0.6386     0.5636     0.9777         40        640: 100%|██████████| 132/132 [01:12<00:00,  1.81it/s]\n",
            "                 Class     Images  Instances      Box(P          R      mAP50  mAP50-95): 100%|██████████| 8/8 [00:03<00:00,  2.47it/s]"
          ]
        },
        {
          "output_type": "stream",
          "name": "stdout",
          "text": [
            "                   all        227        220      0.645      0.545      0.531        0.4\n"
          ]
        },
        {
          "output_type": "stream",
          "name": "stderr",
          "text": [
            "\n"
          ]
        },
        {
          "output_type": "stream",
          "name": "stdout",
          "text": [
            "\n",
            "      Epoch    GPU_mem   box_loss   cls_loss   dfl_loss  Instances       Size\n"
          ]
        },
        {
          "output_type": "stream",
          "name": "stderr",
          "text": [
            "     88/200      7.38G     0.6381     0.5867     0.9787         15        640: 100%|██████████| 132/132 [01:13<00:00,  1.80it/s]\n",
            "                 Class     Images  Instances      Box(P          R      mAP50  mAP50-95): 100%|██████████| 8/8 [00:03<00:00,  2.57it/s]"
          ]
        },
        {
          "output_type": "stream",
          "name": "stdout",
          "text": [
            "                   all        227        220      0.644      0.526      0.527      0.399\n"
          ]
        },
        {
          "output_type": "stream",
          "name": "stderr",
          "text": [
            "\n"
          ]
        },
        {
          "output_type": "stream",
          "name": "stdout",
          "text": [
            "\n",
            "      Epoch    GPU_mem   box_loss   cls_loss   dfl_loss  Instances       Size\n"
          ]
        },
        {
          "output_type": "stream",
          "name": "stderr",
          "text": [
            "     89/200      7.37G     0.6375     0.5707      0.982         46        640: 100%|██████████| 132/132 [01:12<00:00,  1.81it/s]\n",
            "                 Class     Images  Instances      Box(P          R      mAP50  mAP50-95): 100%|██████████| 8/8 [00:03<00:00,  2.07it/s]"
          ]
        },
        {
          "output_type": "stream",
          "name": "stdout",
          "text": [
            "                   all        227        220      0.723      0.468      0.541      0.405\n"
          ]
        },
        {
          "output_type": "stream",
          "name": "stderr",
          "text": [
            "\n"
          ]
        },
        {
          "output_type": "stream",
          "name": "stdout",
          "text": [
            "\n",
            "      Epoch    GPU_mem   box_loss   cls_loss   dfl_loss  Instances       Size\n"
          ]
        },
        {
          "output_type": "stream",
          "name": "stderr",
          "text": [
            "     90/200      7.41G     0.6261     0.5653     0.9817         13        640: 100%|██████████| 132/132 [01:12<00:00,  1.82it/s]\n",
            "                 Class     Images  Instances      Box(P          R      mAP50  mAP50-95): 100%|██████████| 8/8 [00:03<00:00,  2.66it/s]"
          ]
        },
        {
          "output_type": "stream",
          "name": "stdout",
          "text": [
            "                   all        227        220      0.669      0.477        0.5      0.371\n"
          ]
        },
        {
          "output_type": "stream",
          "name": "stderr",
          "text": [
            "\n"
          ]
        },
        {
          "output_type": "stream",
          "name": "stdout",
          "text": [
            "\n",
            "      Epoch    GPU_mem   box_loss   cls_loss   dfl_loss  Instances       Size\n"
          ]
        },
        {
          "output_type": "stream",
          "name": "stderr",
          "text": [
            "     91/200      7.37G     0.6249     0.5536     0.9739         17        640: 100%|██████████| 132/132 [01:12<00:00,  1.82it/s]\n",
            "                 Class     Images  Instances      Box(P          R      mAP50  mAP50-95): 100%|██████████| 8/8 [00:02<00:00,  2.69it/s]"
          ]
        },
        {
          "output_type": "stream",
          "name": "stdout",
          "text": [
            "                   all        227        220       0.69      0.474      0.497      0.375\n"
          ]
        },
        {
          "output_type": "stream",
          "name": "stderr",
          "text": [
            "\n"
          ]
        },
        {
          "output_type": "stream",
          "name": "stdout",
          "text": [
            "\n",
            "      Epoch    GPU_mem   box_loss   cls_loss   dfl_loss  Instances       Size\n"
          ]
        },
        {
          "output_type": "stream",
          "name": "stderr",
          "text": [
            "     92/200      7.33G     0.6266     0.5462     0.9726         37        640: 100%|██████████| 132/132 [01:12<00:00,  1.81it/s]\n",
            "                 Class     Images  Instances      Box(P          R      mAP50  mAP50-95): 100%|██████████| 8/8 [00:03<00:00,  2.31it/s]"
          ]
        },
        {
          "output_type": "stream",
          "name": "stdout",
          "text": [
            "                   all        227        220      0.679      0.486      0.511      0.386\n"
          ]
        },
        {
          "output_type": "stream",
          "name": "stderr",
          "text": [
            "\n"
          ]
        },
        {
          "output_type": "stream",
          "name": "stdout",
          "text": [
            "\n",
            "      Epoch    GPU_mem   box_loss   cls_loss   dfl_loss  Instances       Size\n"
          ]
        },
        {
          "output_type": "stream",
          "name": "stderr",
          "text": [
            "     93/200      7.39G     0.6328     0.5502     0.9734         20        640: 100%|██████████| 132/132 [01:13<00:00,  1.81it/s]\n",
            "                 Class     Images  Instances      Box(P          R      mAP50  mAP50-95): 100%|██████████| 8/8 [00:03<00:00,  2.55it/s]"
          ]
        },
        {
          "output_type": "stream",
          "name": "stdout",
          "text": [
            "                   all        227        220      0.705      0.441      0.485       0.38\n"
          ]
        },
        {
          "output_type": "stream",
          "name": "stderr",
          "text": [
            "\n"
          ]
        },
        {
          "output_type": "stream",
          "name": "stdout",
          "text": [
            "\n",
            "      Epoch    GPU_mem   box_loss   cls_loss   dfl_loss  Instances       Size\n"
          ]
        },
        {
          "output_type": "stream",
          "name": "stderr",
          "text": [
            "     94/200      7.35G     0.6228     0.5434      0.971         26        640: 100%|██████████| 132/132 [01:12<00:00,  1.83it/s]\n",
            "                 Class     Images  Instances      Box(P          R      mAP50  mAP50-95): 100%|██████████| 8/8 [00:03<00:00,  2.44it/s]"
          ]
        },
        {
          "output_type": "stream",
          "name": "stdout",
          "text": [
            "                   all        227        220      0.623      0.523      0.512      0.398\n"
          ]
        },
        {
          "output_type": "stream",
          "name": "stderr",
          "text": [
            "\n"
          ]
        },
        {
          "output_type": "stream",
          "name": "stdout",
          "text": [
            "\n",
            "      Epoch    GPU_mem   box_loss   cls_loss   dfl_loss  Instances       Size\n"
          ]
        },
        {
          "output_type": "stream",
          "name": "stderr",
          "text": [
            "     95/200      7.33G     0.6142     0.5415     0.9657         14        640: 100%|██████████| 132/132 [01:12<00:00,  1.81it/s]\n",
            "                 Class     Images  Instances      Box(P          R      mAP50  mAP50-95): 100%|██████████| 8/8 [00:04<00:00,  1.90it/s]"
          ]
        },
        {
          "output_type": "stream",
          "name": "stdout",
          "text": [
            "                   all        227        220      0.698      0.509      0.524       0.41\n"
          ]
        },
        {
          "output_type": "stream",
          "name": "stderr",
          "text": [
            "\n"
          ]
        },
        {
          "output_type": "stream",
          "name": "stdout",
          "text": [
            "\n",
            "      Epoch    GPU_mem   box_loss   cls_loss   dfl_loss  Instances       Size\n"
          ]
        },
        {
          "output_type": "stream",
          "name": "stderr",
          "text": [
            "     96/200      7.39G     0.6204     0.5324     0.9697         35        640: 100%|██████████| 132/132 [01:12<00:00,  1.82it/s]\n",
            "                 Class     Images  Instances      Box(P          R      mAP50  mAP50-95): 100%|██████████| 8/8 [00:02<00:00,  2.73it/s]"
          ]
        },
        {
          "output_type": "stream",
          "name": "stdout",
          "text": [
            "                   all        227        220      0.703      0.459      0.492      0.374\n"
          ]
        },
        {
          "output_type": "stream",
          "name": "stderr",
          "text": [
            "\n"
          ]
        },
        {
          "output_type": "stream",
          "name": "stdout",
          "text": [
            "\n",
            "      Epoch    GPU_mem   box_loss   cls_loss   dfl_loss  Instances       Size\n"
          ]
        },
        {
          "output_type": "stream",
          "name": "stderr",
          "text": [
            "     97/200      7.36G     0.6099     0.5261     0.9634         22        640: 100%|██████████| 132/132 [01:12<00:00,  1.82it/s]\n",
            "                 Class     Images  Instances      Box(P          R      mAP50  mAP50-95): 100%|██████████| 8/8 [00:04<00:00,  1.89it/s]"
          ]
        },
        {
          "output_type": "stream",
          "name": "stdout",
          "text": [
            "                   all        227        220       0.74      0.491      0.494      0.392\n"
          ]
        },
        {
          "output_type": "stream",
          "name": "stderr",
          "text": [
            "\n"
          ]
        },
        {
          "output_type": "stream",
          "name": "stdout",
          "text": [
            "\n",
            "      Epoch    GPU_mem   box_loss   cls_loss   dfl_loss  Instances       Size\n"
          ]
        },
        {
          "output_type": "stream",
          "name": "stderr",
          "text": [
            "     98/200      7.41G     0.6287     0.5491     0.9723         12        640: 100%|██████████| 132/132 [01:12<00:00,  1.81it/s]\n",
            "                 Class     Images  Instances      Box(P          R      mAP50  mAP50-95): 100%|██████████| 8/8 [00:02<00:00,  2.77it/s]"
          ]
        },
        {
          "output_type": "stream",
          "name": "stdout",
          "text": [
            "                   all        227        220      0.678      0.514      0.525      0.397\n"
          ]
        },
        {
          "output_type": "stream",
          "name": "stderr",
          "text": [
            "\n"
          ]
        },
        {
          "output_type": "stream",
          "name": "stdout",
          "text": [
            "\n",
            "      Epoch    GPU_mem   box_loss   cls_loss   dfl_loss  Instances       Size\n"
          ]
        },
        {
          "output_type": "stream",
          "name": "stderr",
          "text": [
            "     99/200      7.34G     0.6091     0.5249     0.9623         17        640: 100%|██████████| 132/132 [01:12<00:00,  1.82it/s]\n",
            "                 Class     Images  Instances      Box(P          R      mAP50  mAP50-95): 100%|██████████| 8/8 [00:04<00:00,  1.92it/s]"
          ]
        },
        {
          "output_type": "stream",
          "name": "stdout",
          "text": [
            "                   all        227        220      0.703      0.505       0.53       0.42\n"
          ]
        },
        {
          "output_type": "stream",
          "name": "stderr",
          "text": [
            "\n"
          ]
        },
        {
          "output_type": "stream",
          "name": "stdout",
          "text": [
            "\n",
            "      Epoch    GPU_mem   box_loss   cls_loss   dfl_loss  Instances       Size\n"
          ]
        },
        {
          "output_type": "stream",
          "name": "stderr",
          "text": [
            "    100/200      7.35G     0.5924     0.5088     0.9542         15        640: 100%|██████████| 132/132 [01:12<00:00,  1.83it/s]\n",
            "                 Class     Images  Instances      Box(P          R      mAP50  mAP50-95): 100%|██████████| 8/8 [00:02<00:00,  2.81it/s]"
          ]
        },
        {
          "output_type": "stream",
          "name": "stdout",
          "text": [
            "                   all        227        220      0.734      0.473      0.512      0.399\n"
          ]
        },
        {
          "output_type": "stream",
          "name": "stderr",
          "text": [
            "\n"
          ]
        },
        {
          "output_type": "stream",
          "name": "stdout",
          "text": [
            "\n",
            "      Epoch    GPU_mem   box_loss   cls_loss   dfl_loss  Instances       Size\n"
          ]
        },
        {
          "output_type": "stream",
          "name": "stderr",
          "text": [
            "    101/200      7.36G     0.5925     0.5049     0.9543         19        640: 100%|██████████| 132/132 [01:12<00:00,  1.82it/s]\n",
            "                 Class     Images  Instances      Box(P          R      mAP50  mAP50-95): 100%|██████████| 8/8 [00:03<00:00,  2.63it/s]"
          ]
        },
        {
          "output_type": "stream",
          "name": "stdout",
          "text": [
            "                   all        227        220      0.653      0.486      0.522      0.405\n"
          ]
        },
        {
          "output_type": "stream",
          "name": "stderr",
          "text": [
            "\n"
          ]
        },
        {
          "output_type": "stream",
          "name": "stdout",
          "text": [
            "\n",
            "      Epoch    GPU_mem   box_loss   cls_loss   dfl_loss  Instances       Size\n"
          ]
        },
        {
          "output_type": "stream",
          "name": "stderr",
          "text": [
            "    102/200      7.38G     0.6089     0.5157     0.9667         15        640: 100%|██████████| 132/132 [01:12<00:00,  1.81it/s]\n",
            "                 Class     Images  Instances      Box(P          R      mAP50  mAP50-95): 100%|██████████| 8/8 [00:03<00:00,  2.29it/s]"
          ]
        },
        {
          "output_type": "stream",
          "name": "stdout",
          "text": [
            "                   all        227        220      0.792      0.445      0.529      0.415\n"
          ]
        },
        {
          "output_type": "stream",
          "name": "stderr",
          "text": [
            "\n"
          ]
        },
        {
          "output_type": "stream",
          "name": "stdout",
          "text": [
            "\n",
            "      Epoch    GPU_mem   box_loss   cls_loss   dfl_loss  Instances       Size\n"
          ]
        },
        {
          "output_type": "stream",
          "name": "stderr",
          "text": [
            "    103/200      7.36G     0.5967     0.5062     0.9582         36        640: 100%|██████████| 132/132 [01:12<00:00,  1.82it/s]\n",
            "                 Class     Images  Instances      Box(P          R      mAP50  mAP50-95): 100%|██████████| 8/8 [00:02<00:00,  2.74it/s]"
          ]
        },
        {
          "output_type": "stream",
          "name": "stdout",
          "text": [
            "                   all        227        220      0.659      0.501      0.529      0.406\n",
            "Stopping training early as no improvement observed in last 50 epochs. Best results observed at epoch 53, best model saved as best.pt.\n",
            "To update EarlyStopping(patience=50) pass a new patience value, i.e. `patience=300` or use `patience=0` to disable EarlyStopping.\n"
          ]
        },
        {
          "output_type": "stream",
          "name": "stderr",
          "text": [
            "\n"
          ]
        },
        {
          "output_type": "stream",
          "name": "stdout",
          "text": [
            "\n",
            "103 epochs completed in 2.348 hours.\n",
            "Optimizer stripped from runs/detect/train/weights/last.pt, 52.0MB\n",
            "Optimizer stripped from runs/detect/train/weights/best.pt, 52.0MB\n",
            "\n",
            "Validating runs/detect/train/weights/best.pt...\n",
            "Ultralytics YOLOv8.1.3 🚀 Python-3.10.12 torch-2.1.0+cu121 CUDA:0 (Tesla T4, 15102MiB)\n",
            "Model summary (fused): 218 layers, 25840339 parameters, 0 gradients, 78.7 GFLOPs\n"
          ]
        },
        {
          "output_type": "stream",
          "name": "stderr",
          "text": [
            "                 Class     Images  Instances      Box(P          R      mAP50  mAP50-95): 100%|██████████| 8/8 [00:04<00:00,  1.72it/s]\n"
          ]
        },
        {
          "output_type": "stream",
          "name": "stdout",
          "text": [
            "                   all        227        220      0.708      0.519      0.568      0.434\n",
            "Speed: 0.2ms preprocess, 6.1ms inference, 0.0ms loss, 3.2ms postprocess per image\n",
            "Results saved to \u001b[1mruns/detect/train\u001b[0m\n"
          ]
        },
        {
          "output_type": "execute_result",
          "data": {
            "text/plain": [
              "ultralytics.utils.metrics.DetMetrics object with attributes:\n",
              "\n",
              "ap_class_index: array([0])\n",
              "box: ultralytics.utils.metrics.Metric object\n",
              "confusion_matrix: <ultralytics.utils.metrics.ConfusionMatrix object at 0x781aaafc8c40>\n",
              "curves: ['Precision-Recall(B)', 'F1-Confidence(B)', 'Precision-Confidence(B)', 'Recall-Confidence(B)']\n",
              "curves_results: [[array([          0,    0.001001,    0.002002,    0.003003,    0.004004,    0.005005,    0.006006,    0.007007,    0.008008,    0.009009,     0.01001,    0.011011,    0.012012,    0.013013,    0.014014,    0.015015,    0.016016,    0.017017,    0.018018,    0.019019,     0.02002,    0.021021,    0.022022,    0.023023,\n",
              "          0.024024,    0.025025,    0.026026,    0.027027,    0.028028,    0.029029,     0.03003,    0.031031,    0.032032,    0.033033,    0.034034,    0.035035,    0.036036,    0.037037,    0.038038,    0.039039,     0.04004,    0.041041,    0.042042,    0.043043,    0.044044,    0.045045,    0.046046,    0.047047,\n",
              "          0.048048,    0.049049,     0.05005,    0.051051,    0.052052,    0.053053,    0.054054,    0.055055,    0.056056,    0.057057,    0.058058,    0.059059,     0.06006,    0.061061,    0.062062,    0.063063,    0.064064,    0.065065,    0.066066,    0.067067,    0.068068,    0.069069,     0.07007,    0.071071,\n",
              "          0.072072,    0.073073,    0.074074,    0.075075,    0.076076,    0.077077,    0.078078,    0.079079,     0.08008,    0.081081,    0.082082,    0.083083,    0.084084,    0.085085,    0.086086,    0.087087,    0.088088,    0.089089,     0.09009,    0.091091,    0.092092,    0.093093,    0.094094,    0.095095,\n",
              "          0.096096,    0.097097,    0.098098,    0.099099,      0.1001,      0.1011,      0.1021,      0.1031,      0.1041,     0.10511,     0.10611,     0.10711,     0.10811,     0.10911,     0.11011,     0.11111,     0.11211,     0.11311,     0.11411,     0.11512,     0.11612,     0.11712,     0.11812,     0.11912,\n",
              "           0.12012,     0.12112,     0.12212,     0.12312,     0.12412,     0.12513,     0.12613,     0.12713,     0.12813,     0.12913,     0.13013,     0.13113,     0.13213,     0.13313,     0.13413,     0.13514,     0.13614,     0.13714,     0.13814,     0.13914,     0.14014,     0.14114,     0.14214,     0.14314,\n",
              "           0.14414,     0.14515,     0.14615,     0.14715,     0.14815,     0.14915,     0.15015,     0.15115,     0.15215,     0.15315,     0.15415,     0.15516,     0.15616,     0.15716,     0.15816,     0.15916,     0.16016,     0.16116,     0.16216,     0.16316,     0.16416,     0.16517,     0.16617,     0.16717,\n",
              "           0.16817,     0.16917,     0.17017,     0.17117,     0.17217,     0.17317,     0.17417,     0.17518,     0.17618,     0.17718,     0.17818,     0.17918,     0.18018,     0.18118,     0.18218,     0.18318,     0.18418,     0.18519,     0.18619,     0.18719,     0.18819,     0.18919,     0.19019,     0.19119,\n",
              "           0.19219,     0.19319,     0.19419,      0.1952,      0.1962,      0.1972,      0.1982,      0.1992,      0.2002,      0.2012,      0.2022,      0.2032,      0.2042,     0.20521,     0.20621,     0.20721,     0.20821,     0.20921,     0.21021,     0.21121,     0.21221,     0.21321,     0.21421,     0.21522,\n",
              "           0.21622,     0.21722,     0.21822,     0.21922,     0.22022,     0.22122,     0.22222,     0.22322,     0.22422,     0.22523,     0.22623,     0.22723,     0.22823,     0.22923,     0.23023,     0.23123,     0.23223,     0.23323,     0.23423,     0.23524,     0.23624,     0.23724,     0.23824,     0.23924,\n",
              "           0.24024,     0.24124,     0.24224,     0.24324,     0.24424,     0.24525,     0.24625,     0.24725,     0.24825,     0.24925,     0.25025,     0.25125,     0.25225,     0.25325,     0.25425,     0.25526,     0.25626,     0.25726,     0.25826,     0.25926,     0.26026,     0.26126,     0.26226,     0.26326,\n",
              "           0.26426,     0.26527,     0.26627,     0.26727,     0.26827,     0.26927,     0.27027,     0.27127,     0.27227,     0.27327,     0.27427,     0.27528,     0.27628,     0.27728,     0.27828,     0.27928,     0.28028,     0.28128,     0.28228,     0.28328,     0.28428,     0.28529,     0.28629,     0.28729,\n",
              "           0.28829,     0.28929,     0.29029,     0.29129,     0.29229,     0.29329,     0.29429,      0.2953,      0.2963,      0.2973,      0.2983,      0.2993,      0.3003,      0.3013,      0.3023,      0.3033,      0.3043,     0.30531,     0.30631,     0.30731,     0.30831,     0.30931,     0.31031,     0.31131,\n",
              "           0.31231,     0.31331,     0.31431,     0.31532,     0.31632,     0.31732,     0.31832,     0.31932,     0.32032,     0.32132,     0.32232,     0.32332,     0.32432,     0.32533,     0.32633,     0.32733,     0.32833,     0.32933,     0.33033,     0.33133,     0.33233,     0.33333,     0.33433,     0.33534,\n",
              "           0.33634,     0.33734,     0.33834,     0.33934,     0.34034,     0.34134,     0.34234,     0.34334,     0.34434,     0.34535,     0.34635,     0.34735,     0.34835,     0.34935,     0.35035,     0.35135,     0.35235,     0.35335,     0.35435,     0.35536,     0.35636,     0.35736,     0.35836,     0.35936,\n",
              "           0.36036,     0.36136,     0.36236,     0.36336,     0.36436,     0.36537,     0.36637,     0.36737,     0.36837,     0.36937,     0.37037,     0.37137,     0.37237,     0.37337,     0.37437,     0.37538,     0.37638,     0.37738,     0.37838,     0.37938,     0.38038,     0.38138,     0.38238,     0.38338,\n",
              "           0.38438,     0.38539,     0.38639,     0.38739,     0.38839,     0.38939,     0.39039,     0.39139,     0.39239,     0.39339,     0.39439,      0.3954,      0.3964,      0.3974,      0.3984,      0.3994,      0.4004,      0.4014,      0.4024,      0.4034,      0.4044,     0.40541,     0.40641,     0.40741,\n",
              "           0.40841,     0.40941,     0.41041,     0.41141,     0.41241,     0.41341,     0.41441,     0.41542,     0.41642,     0.41742,     0.41842,     0.41942,     0.42042,     0.42142,     0.42242,     0.42342,     0.42442,     0.42543,     0.42643,     0.42743,     0.42843,     0.42943,     0.43043,     0.43143,\n",
              "           0.43243,     0.43343,     0.43443,     0.43544,     0.43644,     0.43744,     0.43844,     0.43944,     0.44044,     0.44144,     0.44244,     0.44344,     0.44444,     0.44545,     0.44645,     0.44745,     0.44845,     0.44945,     0.45045,     0.45145,     0.45245,     0.45345,     0.45445,     0.45546,\n",
              "           0.45646,     0.45746,     0.45846,     0.45946,     0.46046,     0.46146,     0.46246,     0.46346,     0.46446,     0.46547,     0.46647,     0.46747,     0.46847,     0.46947,     0.47047,     0.47147,     0.47247,     0.47347,     0.47447,     0.47548,     0.47648,     0.47748,     0.47848,     0.47948,\n",
              "           0.48048,     0.48148,     0.48248,     0.48348,     0.48448,     0.48549,     0.48649,     0.48749,     0.48849,     0.48949,     0.49049,     0.49149,     0.49249,     0.49349,     0.49449,      0.4955,      0.4965,      0.4975,      0.4985,      0.4995,      0.5005,      0.5015,      0.5025,      0.5035,\n",
              "            0.5045,     0.50551,     0.50651,     0.50751,     0.50851,     0.50951,     0.51051,     0.51151,     0.51251,     0.51351,     0.51451,     0.51552,     0.51652,     0.51752,     0.51852,     0.51952,     0.52052,     0.52152,     0.52252,     0.52352,     0.52452,     0.52553,     0.52653,     0.52753,\n",
              "           0.52853,     0.52953,     0.53053,     0.53153,     0.53253,     0.53353,     0.53453,     0.53554,     0.53654,     0.53754,     0.53854,     0.53954,     0.54054,     0.54154,     0.54254,     0.54354,     0.54454,     0.54555,     0.54655,     0.54755,     0.54855,     0.54955,     0.55055,     0.55155,\n",
              "           0.55255,     0.55355,     0.55455,     0.55556,     0.55656,     0.55756,     0.55856,     0.55956,     0.56056,     0.56156,     0.56256,     0.56356,     0.56456,     0.56557,     0.56657,     0.56757,     0.56857,     0.56957,     0.57057,     0.57157,     0.57257,     0.57357,     0.57457,     0.57558,\n",
              "           0.57658,     0.57758,     0.57858,     0.57958,     0.58058,     0.58158,     0.58258,     0.58358,     0.58458,     0.58559,     0.58659,     0.58759,     0.58859,     0.58959,     0.59059,     0.59159,     0.59259,     0.59359,     0.59459,      0.5956,      0.5966,      0.5976,      0.5986,      0.5996,\n",
              "            0.6006,      0.6016,      0.6026,      0.6036,      0.6046,     0.60561,     0.60661,     0.60761,     0.60861,     0.60961,     0.61061,     0.61161,     0.61261,     0.61361,     0.61461,     0.61562,     0.61662,     0.61762,     0.61862,     0.61962,     0.62062,     0.62162,     0.62262,     0.62362,\n",
              "           0.62462,     0.62563,     0.62663,     0.62763,     0.62863,     0.62963,     0.63063,     0.63163,     0.63263,     0.63363,     0.63463,     0.63564,     0.63664,     0.63764,     0.63864,     0.63964,     0.64064,     0.64164,     0.64264,     0.64364,     0.64464,     0.64565,     0.64665,     0.64765,\n",
              "           0.64865,     0.64965,     0.65065,     0.65165,     0.65265,     0.65365,     0.65465,     0.65566,     0.65666,     0.65766,     0.65866,     0.65966,     0.66066,     0.66166,     0.66266,     0.66366,     0.66466,     0.66567,     0.66667,     0.66767,     0.66867,     0.66967,     0.67067,     0.67167,\n",
              "           0.67267,     0.67367,     0.67467,     0.67568,     0.67668,     0.67768,     0.67868,     0.67968,     0.68068,     0.68168,     0.68268,     0.68368,     0.68468,     0.68569,     0.68669,     0.68769,     0.68869,     0.68969,     0.69069,     0.69169,     0.69269,     0.69369,     0.69469,      0.6957,\n",
              "            0.6967,      0.6977,      0.6987,      0.6997,      0.7007,      0.7017,      0.7027,      0.7037,      0.7047,     0.70571,     0.70671,     0.70771,     0.70871,     0.70971,     0.71071,     0.71171,     0.71271,     0.71371,     0.71471,     0.71572,     0.71672,     0.71772,     0.71872,     0.71972,\n",
              "           0.72072,     0.72172,     0.72272,     0.72372,     0.72472,     0.72573,     0.72673,     0.72773,     0.72873,     0.72973,     0.73073,     0.73173,     0.73273,     0.73373,     0.73473,     0.73574,     0.73674,     0.73774,     0.73874,     0.73974,     0.74074,     0.74174,     0.74274,     0.74374,\n",
              "           0.74474,     0.74575,     0.74675,     0.74775,     0.74875,     0.74975,     0.75075,     0.75175,     0.75275,     0.75375,     0.75475,     0.75576,     0.75676,     0.75776,     0.75876,     0.75976,     0.76076,     0.76176,     0.76276,     0.76376,     0.76476,     0.76577,     0.76677,     0.76777,\n",
              "           0.76877,     0.76977,     0.77077,     0.77177,     0.77277,     0.77377,     0.77477,     0.77578,     0.77678,     0.77778,     0.77878,     0.77978,     0.78078,     0.78178,     0.78278,     0.78378,     0.78478,     0.78579,     0.78679,     0.78779,     0.78879,     0.78979,     0.79079,     0.79179,\n",
              "           0.79279,     0.79379,     0.79479,      0.7958,      0.7968,      0.7978,      0.7988,      0.7998,      0.8008,      0.8018,      0.8028,      0.8038,      0.8048,     0.80581,     0.80681,     0.80781,     0.80881,     0.80981,     0.81081,     0.81181,     0.81281,     0.81381,     0.81481,     0.81582,\n",
              "           0.81682,     0.81782,     0.81882,     0.81982,     0.82082,     0.82182,     0.82282,     0.82382,     0.82482,     0.82583,     0.82683,     0.82783,     0.82883,     0.82983,     0.83083,     0.83183,     0.83283,     0.83383,     0.83483,     0.83584,     0.83684,     0.83784,     0.83884,     0.83984,\n",
              "           0.84084,     0.84184,     0.84284,     0.84384,     0.84484,     0.84585,     0.84685,     0.84785,     0.84885,     0.84985,     0.85085,     0.85185,     0.85285,     0.85385,     0.85485,     0.85586,     0.85686,     0.85786,     0.85886,     0.85986,     0.86086,     0.86186,     0.86286,     0.86386,\n",
              "           0.86486,     0.86587,     0.86687,     0.86787,     0.86887,     0.86987,     0.87087,     0.87187,     0.87287,     0.87387,     0.87487,     0.87588,     0.87688,     0.87788,     0.87888,     0.87988,     0.88088,     0.88188,     0.88288,     0.88388,     0.88488,     0.88589,     0.88689,     0.88789,\n",
              "           0.88889,     0.88989,     0.89089,     0.89189,     0.89289,     0.89389,     0.89489,      0.8959,      0.8969,      0.8979,      0.8989,      0.8999,      0.9009,      0.9019,      0.9029,      0.9039,      0.9049,     0.90591,     0.90691,     0.90791,     0.90891,     0.90991,     0.91091,     0.91191,\n",
              "           0.91291,     0.91391,     0.91491,     0.91592,     0.91692,     0.91792,     0.91892,     0.91992,     0.92092,     0.92192,     0.92292,     0.92392,     0.92492,     0.92593,     0.92693,     0.92793,     0.92893,     0.92993,     0.93093,     0.93193,     0.93293,     0.93393,     0.93493,     0.93594,\n",
              "           0.93694,     0.93794,     0.93894,     0.93994,     0.94094,     0.94194,     0.94294,     0.94394,     0.94494,     0.94595,     0.94695,     0.94795,     0.94895,     0.94995,     0.95095,     0.95195,     0.95295,     0.95395,     0.95495,     0.95596,     0.95696,     0.95796,     0.95896,     0.95996,\n",
              "           0.96096,     0.96196,     0.96296,     0.96396,     0.96496,     0.96597,     0.96697,     0.96797,     0.96897,     0.96997,     0.97097,     0.97197,     0.97297,     0.97397,     0.97497,     0.97598,     0.97698,     0.97798,     0.97898,     0.97998,     0.98098,     0.98198,     0.98298,     0.98398,\n",
              "           0.98498,     0.98599,     0.98699,     0.98799,     0.98899,     0.98999,     0.99099,     0.99199,     0.99299,     0.99399,     0.99499,       0.996,       0.997,       0.998,       0.999,           1]), array([[          1,           1,           1,           1,           1,           1,           1,           1,           1,           1,           1,           1,           1,           1,           1,           1,           1,           1,           1,           1,           1,           1,           1,\n",
              "                  1,           1,           1,           1,           1,           1,           1,           1,           1,           1,           1,           1,           1,           1,           1,           1,           1,           1,           1,           1,           1,           1,           1,\n",
              "                  1,           1,           1,           1,           1,           1,           1,           1,           1,           1,           1,           1,           1,           1,           1,           1,           1,           1,           1,           1,           1,           1,           1,\n",
              "                  1,           1,           1,           1,           1,           1,           1,           1,           1,           1,           1,           1,           1,           1,           1,           1,           1,           1,           1,           1,           1,           1,           1,\n",
              "                  1,           1,           1,           1,           1,           1,           1,           1,           1,           1,           1,           1,           1,     0.97727,     0.97727,     0.97727,     0.97727,     0.97727,     0.97727,     0.97727,     0.97727,     0.97727,     0.97727,\n",
              "            0.97727,     0.97727,     0.97727,     0.97727,     0.97727,     0.97727,     0.97727,     0.97727,     0.97727,     0.97727,     0.97727,     0.97727,     0.97727,     0.97727,     0.97727,     0.97727,     0.97727,     0.97727,     0.97727,     0.97727,     0.97727,     0.97727,     0.97727,\n",
              "            0.97727,     0.97727,     0.97727,     0.97727,     0.97727,     0.97727,     0.97727,     0.97727,     0.97727,     0.97727,     0.97727,     0.97727,     0.97727,     0.97727,     0.97727,     0.97727,     0.97727,     0.97727,     0.97727,     0.97727,     0.97727,     0.97727,     0.97727,\n",
              "            0.97727,     0.97727,     0.97727,     0.97727,     0.97727,     0.97727,     0.97727,     0.97727,     0.97727,     0.97727,     0.97727,     0.97727,     0.97727,     0.97727,     0.97727,     0.97727,     0.97727,     0.97727,     0.97727,     0.97727,     0.97727,     0.97727,     0.97727,\n",
              "            0.97727,     0.97727,     0.97727,     0.97727,     0.97727,     0.97727,     0.97727,     0.97727,     0.97727,     0.97727,     0.97727,     0.97727,     0.96364,     0.96364,     0.96364,     0.96364,     0.96364,     0.96364,     0.96364,     0.96364,     0.96364,     0.96364,     0.96364,\n",
              "            0.96364,     0.96364,     0.96364,     0.96364,     0.96364,     0.96364,     0.96364,     0.96364,     0.96364,     0.96364,     0.96364,     0.96364,     0.96364,     0.96364,     0.96364,     0.96364,     0.96364,     0.96364,     0.96364,     0.96364,     0.96364,     0.96364,     0.96364,\n",
              "            0.96364,     0.96364,     0.96364,     0.96364,     0.96364,     0.96364,     0.96364,     0.96364,     0.96364,     0.96364,     0.96364,     0.94828,     0.94828,     0.94828,     0.94828,     0.94828,     0.94828,     0.94828,     0.94828,     0.94828,     0.93443,     0.93443,     0.93443,\n",
              "            0.93443,     0.93443,     0.93443,     0.93443,     0.93443,     0.93443,     0.90625,     0.90625,     0.90625,     0.90625,     0.90625,     0.88235,     0.88235,     0.88235,     0.88235,     0.88235,     0.88235,     0.88235,     0.88235,     0.88235,        0.88,        0.88,        0.88,\n",
              "               0.88,        0.88,        0.88,        0.88,        0.88,        0.88,        0.88,        0.88,        0.88,        0.88,        0.88,        0.88,        0.88,        0.88,        0.88,        0.88,        0.88,        0.88,        0.88,        0.88,        0.88,        0.88,        0.88,\n",
              "               0.88,     0.87356,     0.87356,     0.87356,     0.87356,     0.87356,     0.87356,     0.87356,     0.87356,     0.87356,     0.87356,     0.87356,     0.87356,     0.87356,     0.87356,     0.87356,     0.87356,     0.87356,     0.87356,     0.87356,     0.87356,     0.87356,     0.87356,\n",
              "            0.87356,     0.87356,     0.87356,     0.87356,     0.87356,     0.87356,     0.87356,     0.87356,     0.87356,     0.87356,     0.87356,     0.87356,     0.87356,     0.87356,     0.87356,     0.87356,     0.87356,     0.87356,     0.87356,     0.87356,     0.87356,     0.87356,     0.87356,\n",
              "            0.87356,     0.86813,     0.86813,     0.86813,     0.86813,     0.86813,     0.86813,     0.86813,     0.86813,     0.86813,     0.86813,     0.86813,     0.86813,     0.86813,     0.86022,     0.86022,     0.86022,     0.86022,     0.86022,     0.85714,     0.85714,     0.85714,     0.85714,\n",
              "            0.85714,     0.85714,     0.85714,     0.85714,     0.85714,     0.85714,     0.85714,     0.85714,     0.85714,     0.85714,     0.85714,     0.85714,     0.85714,     0.85714,     0.84466,     0.84466,     0.84466,     0.84466,     0.84466,     0.84466,     0.84466,     0.84466,     0.84466,\n",
              "            0.84466,     0.84466,     0.84466,     0.84466,     0.84466,      0.8381,      0.8381,      0.8381,      0.8381,     0.83178,     0.83178,     0.83178,     0.83178,     0.83178,     0.82143,     0.82143,     0.82143,     0.82143,     0.82143,     0.82143,     0.82143,     0.82143,     0.82143,\n",
              "            0.82143,     0.82143,     0.82143,     0.82143,     0.81197,     0.81197,     0.81197,     0.81197,     0.81197,     0.81197,     0.81197,     0.81197,     0.81197,     0.81197,     0.81197,     0.81197,     0.81197,     0.81197,         0.8,         0.8,         0.8,         0.8,     0.79032,\n",
              "            0.79032,     0.79032,     0.79032,     0.79032,     0.79032,     0.79032,     0.79032,     0.79032,     0.79032,     0.77953,     0.77953,     0.77953,     0.77953,     0.77519,     0.77519,     0.77519,     0.77519,     0.77519,     0.77273,     0.77273,     0.77273,     0.77273,     0.77273,\n",
              "            0.77273,     0.77273,     0.77273,     0.77273,     0.76866,     0.76866,     0.76866,     0.76866,     0.76259,     0.76259,     0.76259,     0.76259,     0.76259,     0.76259,     0.76259,     0.76259,     0.76259,     0.76259,     0.76259,     0.76259,     0.76259,     0.76259,     0.76056,\n",
              "            0.76056,     0.76056,     0.76056,     0.76056,     0.76056,     0.76056,     0.76056,     0.76056,     0.75172,     0.75172,     0.75172,     0.75172,        0.74,        0.74,        0.74,        0.74,        0.74,        0.74,        0.74,        0.74,        0.74,        0.74,     0.73684,\n",
              "            0.73684,     0.73684,     0.73684,     0.72611,     0.72611,     0.72611,     0.72611,     0.72611,     0.72611,     0.72611,     0.72611,     0.72611,     0.70988,     0.70988,     0.70988,     0.70988,     0.70988,     0.70238,     0.70238,     0.70238,     0.70238,     0.70238,     0.70238,\n",
              "            0.70238,     0.70238,     0.70238,     0.70238,     0.70238,     0.70238,     0.70238,     0.67614,     0.67614,     0.67614,     0.67614,     0.67614,     0.64171,     0.64171,     0.64171,     0.64171,     0.63684,     0.63684,     0.63684,     0.63684,     0.63684,     0.63542,     0.63542,\n",
              "            0.63542,     0.63542,     0.63402,     0.63402,     0.63402,     0.63402,     0.63402,     0.60488,     0.60488,     0.60488,     0.60488,     0.60488,     0.55066,     0.55066,     0.55066,     0.55066,      0.5122,      0.5122,      0.5122,      0.5122,      0.5122,     0.48289,     0.48289,\n",
              "            0.48289,     0.48289,     0.47761,     0.47761,     0.47761,     0.47761,     0.47761,     0.45907,     0.45907,     0.45907,     0.45907,     0.45296,     0.45296,     0.45296,     0.45296,     0.45296,     0.43813,     0.43813,     0.43813,     0.43813,     0.42308,     0.42308,     0.42308,\n",
              "            0.42308,     0.42308,     0.42271,     0.42271,     0.42271,     0.42271,     0.42271,     0.42271,     0.42271,     0.42271,     0.42271,     0.40237,     0.40237,     0.40237,     0.40237,     0.40237,     0.40237,     0.40237,     0.40237,     0.40237,     0.39031,     0.39031,     0.39031,\n",
              "            0.39031,     0.39031,      0.3844,      0.3844,      0.3844,      0.3844,     0.37875,     0.37875,     0.37875,     0.37875,     0.37875,     0.37234,     0.37234,     0.37234,     0.37234,     0.36061,     0.36061,     0.36061,     0.36061,     0.36061,     0.35062,     0.35062,     0.35062,\n",
              "            0.35062,     0.32426,     0.32426,     0.32426,     0.32426,     0.32426,      0.3236,      0.3236,      0.3236,      0.3236,     0.31798,     0.31798,     0.31798,     0.31798,     0.31798,     0.30867,     0.30867,     0.30867,     0.30867,     0.30247,     0.30247,     0.30247,     0.30247,\n",
              "            0.30247,     0.28352,     0.28352,     0.28352,     0.28352,     0.28352,     0.28166,     0.28166,     0.28166,     0.28166,     0.26738,     0.26738,     0.26738,     0.26738,     0.26738,     0.25812,     0.25812,     0.25812,     0.25812,     0.24715,     0.24715,     0.24715,     0.24715,\n",
              "            0.24715,     0.22401,     0.22401,     0.22401,     0.22401,     0.21782,     0.21782,     0.21782,     0.21782,     0.21782,     0.20584,     0.20584,     0.20584,     0.20584,     0.16993,     0.16993,     0.16993,     0.16993,     0.16993,     0.16738,     0.16738,     0.16738,     0.16738,\n",
              "            0.16339,     0.16339,     0.16339,     0.16339,     0.16339,     0.16324,     0.16324,     0.16324,     0.16324,     0.16324,     0.15444,     0.15444,     0.15444,     0.15444,     0.14687,     0.14687,     0.14687,     0.14687,     0.14687,     0.14687,     0.14687,     0.14687,     0.14687,\n",
              "            0.14528,     0.14528,     0.14528,     0.14528,     0.14528,     0.13421,     0.13421,     0.13421,     0.13421,     0.12992,     0.12992,     0.12992,     0.12992,     0.12992,     0.12388,     0.12388,     0.12388,     0.12388,     0.11178,     0.11178,     0.11178,     0.11178,     0.11178,\n",
              "            0.10402,     0.10402,     0.10402,     0.10402,     0.10168,     0.10168,     0.10168,     0.10168,     0.10168,    0.094497,    0.094497,    0.094497,    0.094497,    0.091395,    0.091395,    0.091395,    0.091395,    0.091395,    0.088582,    0.088582,    0.088582,    0.088582,    0.088582,\n",
              "           0.088582,    0.088582,    0.088582,    0.088582,    0.088518,    0.088518,    0.088518,    0.088518,    0.088518,    0.088518,    0.088518,    0.088518,    0.088518,    0.088442,    0.088442,    0.088442,    0.088442,    0.088442,    0.087063,    0.087063,    0.087063,    0.087063,    0.083216,\n",
              "           0.083216,    0.083216,    0.083216,    0.083216,    0.059786,    0.059786,    0.059786,    0.059786,    0.058939,    0.058939,    0.058939,    0.058939,    0.058939,    0.058919,    0.058919,    0.058919,    0.058919,    0.056452,    0.056452,    0.056452,    0.056452,    0.056452,    0.055929,\n",
              "           0.055929,    0.055929,    0.055929,    0.054392,    0.054392,    0.054392,    0.054392,    0.054392,    0.054392,    0.054392,    0.054392,    0.054392,    0.054392,    0.054392,    0.054392,    0.054392,    0.054392,    0.054392,    0.054392,    0.054392,    0.054392,    0.054392,    0.052441,\n",
              "           0.052441,    0.052441,    0.052441,    0.051513,    0.051513,    0.051513,    0.051513,    0.051513,      0.0471,      0.0471,      0.0471,      0.0471,    0.044162,    0.044162,    0.044162,    0.044162,    0.044162,    0.040092,    0.040092,    0.040092,    0.040092,    0.036163,    0.036163,\n",
              "           0.036163,    0.036163,    0.036163,    0.033477,    0.033477,    0.033477,    0.033477,    0.030777,    0.030516,    0.030255,    0.029995,    0.029734,    0.029473,    0.029212,    0.028951,     0.02869,     0.02843,    0.028169,    0.027908,    0.027647,    0.027386,    0.027126,    0.026865,\n",
              "           0.026604,    0.026343,    0.026082,    0.025821,    0.025561,      0.0253,    0.025039,    0.024778,    0.024517,    0.024256,    0.023996,    0.023735,    0.023474,    0.023213,    0.022952,    0.022692,    0.022431,     0.02217,    0.021909,    0.021648,    0.021387,    0.021127,    0.020866,\n",
              "           0.020605,    0.020344,    0.020083,    0.019823,    0.019562,    0.019301,     0.01904,    0.018779,    0.018518,    0.018258,    0.017997,    0.017736,    0.017475,    0.017214,    0.016953,    0.016693,    0.016432,    0.016171,     0.01591,    0.015649,    0.015389,    0.015128,    0.014867,\n",
              "           0.014606,    0.014345,    0.014084,    0.013824,    0.013563,    0.013302,    0.013041,     0.01278,    0.012519,    0.012259,    0.011998,    0.011737,    0.011476,    0.011215,    0.010955,    0.010694,    0.010433,    0.010172,   0.0099113,   0.0096504,   0.0093896,   0.0091288,    0.008868,\n",
              "          0.0086071,   0.0083463,   0.0080855,   0.0078247,   0.0075639,    0.007303,   0.0070422,   0.0067814,   0.0065206,   0.0062597,   0.0059989,   0.0057381,   0.0054773,   0.0052164,   0.0049556,   0.0046948,    0.004434,   0.0041732,   0.0039123,   0.0036515,   0.0033907,   0.0031299,    0.002869,\n",
              "          0.0026082,   0.0023474,   0.0020866,   0.0018258,   0.0015649,   0.0013041,   0.0010433,  0.00078247,  0.00052164,  0.00026082,           0]]), 'Recall', 'Precision'], [array([          0,    0.001001,    0.002002,    0.003003,    0.004004,    0.005005,    0.006006,    0.007007,    0.008008,    0.009009,     0.01001,    0.011011,    0.012012,    0.013013,    0.014014,    0.015015,    0.016016,    0.017017,    0.018018,    0.019019,     0.02002,    0.021021,    0.022022,    0.023023,\n",
              "          0.024024,    0.025025,    0.026026,    0.027027,    0.028028,    0.029029,     0.03003,    0.031031,    0.032032,    0.033033,    0.034034,    0.035035,    0.036036,    0.037037,    0.038038,    0.039039,     0.04004,    0.041041,    0.042042,    0.043043,    0.044044,    0.045045,    0.046046,    0.047047,\n",
              "          0.048048,    0.049049,     0.05005,    0.051051,    0.052052,    0.053053,    0.054054,    0.055055,    0.056056,    0.057057,    0.058058,    0.059059,     0.06006,    0.061061,    0.062062,    0.063063,    0.064064,    0.065065,    0.066066,    0.067067,    0.068068,    0.069069,     0.07007,    0.071071,\n",
              "          0.072072,    0.073073,    0.074074,    0.075075,    0.076076,    0.077077,    0.078078,    0.079079,     0.08008,    0.081081,    0.082082,    0.083083,    0.084084,    0.085085,    0.086086,    0.087087,    0.088088,    0.089089,     0.09009,    0.091091,    0.092092,    0.093093,    0.094094,    0.095095,\n",
              "          0.096096,    0.097097,    0.098098,    0.099099,      0.1001,      0.1011,      0.1021,      0.1031,      0.1041,     0.10511,     0.10611,     0.10711,     0.10811,     0.10911,     0.11011,     0.11111,     0.11211,     0.11311,     0.11411,     0.11512,     0.11612,     0.11712,     0.11812,     0.11912,\n",
              "           0.12012,     0.12112,     0.12212,     0.12312,     0.12412,     0.12513,     0.12613,     0.12713,     0.12813,     0.12913,     0.13013,     0.13113,     0.13213,     0.13313,     0.13413,     0.13514,     0.13614,     0.13714,     0.13814,     0.13914,     0.14014,     0.14114,     0.14214,     0.14314,\n",
              "           0.14414,     0.14515,     0.14615,     0.14715,     0.14815,     0.14915,     0.15015,     0.15115,     0.15215,     0.15315,     0.15415,     0.15516,     0.15616,     0.15716,     0.15816,     0.15916,     0.16016,     0.16116,     0.16216,     0.16316,     0.16416,     0.16517,     0.16617,     0.16717,\n",
              "           0.16817,     0.16917,     0.17017,     0.17117,     0.17217,     0.17317,     0.17417,     0.17518,     0.17618,     0.17718,     0.17818,     0.17918,     0.18018,     0.18118,     0.18218,     0.18318,     0.18418,     0.18519,     0.18619,     0.18719,     0.18819,     0.18919,     0.19019,     0.19119,\n",
              "           0.19219,     0.19319,     0.19419,      0.1952,      0.1962,      0.1972,      0.1982,      0.1992,      0.2002,      0.2012,      0.2022,      0.2032,      0.2042,     0.20521,     0.20621,     0.20721,     0.20821,     0.20921,     0.21021,     0.21121,     0.21221,     0.21321,     0.21421,     0.21522,\n",
              "           0.21622,     0.21722,     0.21822,     0.21922,     0.22022,     0.22122,     0.22222,     0.22322,     0.22422,     0.22523,     0.22623,     0.22723,     0.22823,     0.22923,     0.23023,     0.23123,     0.23223,     0.23323,     0.23423,     0.23524,     0.23624,     0.23724,     0.23824,     0.23924,\n",
              "           0.24024,     0.24124,     0.24224,     0.24324,     0.24424,     0.24525,     0.24625,     0.24725,     0.24825,     0.24925,     0.25025,     0.25125,     0.25225,     0.25325,     0.25425,     0.25526,     0.25626,     0.25726,     0.25826,     0.25926,     0.26026,     0.26126,     0.26226,     0.26326,\n",
              "           0.26426,     0.26527,     0.26627,     0.26727,     0.26827,     0.26927,     0.27027,     0.27127,     0.27227,     0.27327,     0.27427,     0.27528,     0.27628,     0.27728,     0.27828,     0.27928,     0.28028,     0.28128,     0.28228,     0.28328,     0.28428,     0.28529,     0.28629,     0.28729,\n",
              "           0.28829,     0.28929,     0.29029,     0.29129,     0.29229,     0.29329,     0.29429,      0.2953,      0.2963,      0.2973,      0.2983,      0.2993,      0.3003,      0.3013,      0.3023,      0.3033,      0.3043,     0.30531,     0.30631,     0.30731,     0.30831,     0.30931,     0.31031,     0.31131,\n",
              "           0.31231,     0.31331,     0.31431,     0.31532,     0.31632,     0.31732,     0.31832,     0.31932,     0.32032,     0.32132,     0.32232,     0.32332,     0.32432,     0.32533,     0.32633,     0.32733,     0.32833,     0.32933,     0.33033,     0.33133,     0.33233,     0.33333,     0.33433,     0.33534,\n",
              "           0.33634,     0.33734,     0.33834,     0.33934,     0.34034,     0.34134,     0.34234,     0.34334,     0.34434,     0.34535,     0.34635,     0.34735,     0.34835,     0.34935,     0.35035,     0.35135,     0.35235,     0.35335,     0.35435,     0.35536,     0.35636,     0.35736,     0.35836,     0.35936,\n",
              "           0.36036,     0.36136,     0.36236,     0.36336,     0.36436,     0.36537,     0.36637,     0.36737,     0.36837,     0.36937,     0.37037,     0.37137,     0.37237,     0.37337,     0.37437,     0.37538,     0.37638,     0.37738,     0.37838,     0.37938,     0.38038,     0.38138,     0.38238,     0.38338,\n",
              "           0.38438,     0.38539,     0.38639,     0.38739,     0.38839,     0.38939,     0.39039,     0.39139,     0.39239,     0.39339,     0.39439,      0.3954,      0.3964,      0.3974,      0.3984,      0.3994,      0.4004,      0.4014,      0.4024,      0.4034,      0.4044,     0.40541,     0.40641,     0.40741,\n",
              "           0.40841,     0.40941,     0.41041,     0.41141,     0.41241,     0.41341,     0.41441,     0.41542,     0.41642,     0.41742,     0.41842,     0.41942,     0.42042,     0.42142,     0.42242,     0.42342,     0.42442,     0.42543,     0.42643,     0.42743,     0.42843,     0.42943,     0.43043,     0.43143,\n",
              "           0.43243,     0.43343,     0.43443,     0.43544,     0.43644,     0.43744,     0.43844,     0.43944,     0.44044,     0.44144,     0.44244,     0.44344,     0.44444,     0.44545,     0.44645,     0.44745,     0.44845,     0.44945,     0.45045,     0.45145,     0.45245,     0.45345,     0.45445,     0.45546,\n",
              "           0.45646,     0.45746,     0.45846,     0.45946,     0.46046,     0.46146,     0.46246,     0.46346,     0.46446,     0.46547,     0.46647,     0.46747,     0.46847,     0.46947,     0.47047,     0.47147,     0.47247,     0.47347,     0.47447,     0.47548,     0.47648,     0.47748,     0.47848,     0.47948,\n",
              "           0.48048,     0.48148,     0.48248,     0.48348,     0.48448,     0.48549,     0.48649,     0.48749,     0.48849,     0.48949,     0.49049,     0.49149,     0.49249,     0.49349,     0.49449,      0.4955,      0.4965,      0.4975,      0.4985,      0.4995,      0.5005,      0.5015,      0.5025,      0.5035,\n",
              "            0.5045,     0.50551,     0.50651,     0.50751,     0.50851,     0.50951,     0.51051,     0.51151,     0.51251,     0.51351,     0.51451,     0.51552,     0.51652,     0.51752,     0.51852,     0.51952,     0.52052,     0.52152,     0.52252,     0.52352,     0.52452,     0.52553,     0.52653,     0.52753,\n",
              "           0.52853,     0.52953,     0.53053,     0.53153,     0.53253,     0.53353,     0.53453,     0.53554,     0.53654,     0.53754,     0.53854,     0.53954,     0.54054,     0.54154,     0.54254,     0.54354,     0.54454,     0.54555,     0.54655,     0.54755,     0.54855,     0.54955,     0.55055,     0.55155,\n",
              "           0.55255,     0.55355,     0.55455,     0.55556,     0.55656,     0.55756,     0.55856,     0.55956,     0.56056,     0.56156,     0.56256,     0.56356,     0.56456,     0.56557,     0.56657,     0.56757,     0.56857,     0.56957,     0.57057,     0.57157,     0.57257,     0.57357,     0.57457,     0.57558,\n",
              "           0.57658,     0.57758,     0.57858,     0.57958,     0.58058,     0.58158,     0.58258,     0.58358,     0.58458,     0.58559,     0.58659,     0.58759,     0.58859,     0.58959,     0.59059,     0.59159,     0.59259,     0.59359,     0.59459,      0.5956,      0.5966,      0.5976,      0.5986,      0.5996,\n",
              "            0.6006,      0.6016,      0.6026,      0.6036,      0.6046,     0.60561,     0.60661,     0.60761,     0.60861,     0.60961,     0.61061,     0.61161,     0.61261,     0.61361,     0.61461,     0.61562,     0.61662,     0.61762,     0.61862,     0.61962,     0.62062,     0.62162,     0.62262,     0.62362,\n",
              "           0.62462,     0.62563,     0.62663,     0.62763,     0.62863,     0.62963,     0.63063,     0.63163,     0.63263,     0.63363,     0.63463,     0.63564,     0.63664,     0.63764,     0.63864,     0.63964,     0.64064,     0.64164,     0.64264,     0.64364,     0.64464,     0.64565,     0.64665,     0.64765,\n",
              "           0.64865,     0.64965,     0.65065,     0.65165,     0.65265,     0.65365,     0.65465,     0.65566,     0.65666,     0.65766,     0.65866,     0.65966,     0.66066,     0.66166,     0.66266,     0.66366,     0.66466,     0.66567,     0.66667,     0.66767,     0.66867,     0.66967,     0.67067,     0.67167,\n",
              "           0.67267,     0.67367,     0.67467,     0.67568,     0.67668,     0.67768,     0.67868,     0.67968,     0.68068,     0.68168,     0.68268,     0.68368,     0.68468,     0.68569,     0.68669,     0.68769,     0.68869,     0.68969,     0.69069,     0.69169,     0.69269,     0.69369,     0.69469,      0.6957,\n",
              "            0.6967,      0.6977,      0.6987,      0.6997,      0.7007,      0.7017,      0.7027,      0.7037,      0.7047,     0.70571,     0.70671,     0.70771,     0.70871,     0.70971,     0.71071,     0.71171,     0.71271,     0.71371,     0.71471,     0.71572,     0.71672,     0.71772,     0.71872,     0.71972,\n",
              "           0.72072,     0.72172,     0.72272,     0.72372,     0.72472,     0.72573,     0.72673,     0.72773,     0.72873,     0.72973,     0.73073,     0.73173,     0.73273,     0.73373,     0.73473,     0.73574,     0.73674,     0.73774,     0.73874,     0.73974,     0.74074,     0.74174,     0.74274,     0.74374,\n",
              "           0.74474,     0.74575,     0.74675,     0.74775,     0.74875,     0.74975,     0.75075,     0.75175,     0.75275,     0.75375,     0.75475,     0.75576,     0.75676,     0.75776,     0.75876,     0.75976,     0.76076,     0.76176,     0.76276,     0.76376,     0.76476,     0.76577,     0.76677,     0.76777,\n",
              "           0.76877,     0.76977,     0.77077,     0.77177,     0.77277,     0.77377,     0.77477,     0.77578,     0.77678,     0.77778,     0.77878,     0.77978,     0.78078,     0.78178,     0.78278,     0.78378,     0.78478,     0.78579,     0.78679,     0.78779,     0.78879,     0.78979,     0.79079,     0.79179,\n",
              "           0.79279,     0.79379,     0.79479,      0.7958,      0.7968,      0.7978,      0.7988,      0.7998,      0.8008,      0.8018,      0.8028,      0.8038,      0.8048,     0.80581,     0.80681,     0.80781,     0.80881,     0.80981,     0.81081,     0.81181,     0.81281,     0.81381,     0.81481,     0.81582,\n",
              "           0.81682,     0.81782,     0.81882,     0.81982,     0.82082,     0.82182,     0.82282,     0.82382,     0.82482,     0.82583,     0.82683,     0.82783,     0.82883,     0.82983,     0.83083,     0.83183,     0.83283,     0.83383,     0.83483,     0.83584,     0.83684,     0.83784,     0.83884,     0.83984,\n",
              "           0.84084,     0.84184,     0.84284,     0.84384,     0.84484,     0.84585,     0.84685,     0.84785,     0.84885,     0.84985,     0.85085,     0.85185,     0.85285,     0.85385,     0.85485,     0.85586,     0.85686,     0.85786,     0.85886,     0.85986,     0.86086,     0.86186,     0.86286,     0.86386,\n",
              "           0.86486,     0.86587,     0.86687,     0.86787,     0.86887,     0.86987,     0.87087,     0.87187,     0.87287,     0.87387,     0.87487,     0.87588,     0.87688,     0.87788,     0.87888,     0.87988,     0.88088,     0.88188,     0.88288,     0.88388,     0.88488,     0.88589,     0.88689,     0.88789,\n",
              "           0.88889,     0.88989,     0.89089,     0.89189,     0.89289,     0.89389,     0.89489,      0.8959,      0.8969,      0.8979,      0.8989,      0.8999,      0.9009,      0.9019,      0.9029,      0.9039,      0.9049,     0.90591,     0.90691,     0.90791,     0.90891,     0.90991,     0.91091,     0.91191,\n",
              "           0.91291,     0.91391,     0.91491,     0.91592,     0.91692,     0.91792,     0.91892,     0.91992,     0.92092,     0.92192,     0.92292,     0.92392,     0.92492,     0.92593,     0.92693,     0.92793,     0.92893,     0.92993,     0.93093,     0.93193,     0.93293,     0.93393,     0.93493,     0.93594,\n",
              "           0.93694,     0.93794,     0.93894,     0.93994,     0.94094,     0.94194,     0.94294,     0.94394,     0.94494,     0.94595,     0.94695,     0.94795,     0.94895,     0.94995,     0.95095,     0.95195,     0.95295,     0.95395,     0.95495,     0.95596,     0.95696,     0.95796,     0.95896,     0.95996,\n",
              "           0.96096,     0.96196,     0.96296,     0.96396,     0.96496,     0.96597,     0.96697,     0.96797,     0.96897,     0.96997,     0.97097,     0.97197,     0.97297,     0.97397,     0.97497,     0.97598,     0.97698,     0.97798,     0.97898,     0.97998,     0.98098,     0.98198,     0.98298,     0.98398,\n",
              "           0.98498,     0.98599,     0.98699,     0.98799,     0.98899,     0.98999,     0.99099,     0.99199,     0.99299,     0.99399,     0.99499,       0.996,       0.997,       0.998,       0.999,           1]), array([[   0.059509,    0.059509,    0.090234,     0.11097,     0.13515,     0.15688,     0.17167,     0.18794,     0.20471,     0.21735,     0.23006,     0.24207,     0.25148,      0.2632,     0.27086,     0.27679,     0.28518,     0.29568,     0.30458,     0.31234,     0.32184,     0.33099,     0.33765,\n",
              "            0.34291,     0.35073,     0.35653,     0.36194,     0.36567,     0.37297,     0.37846,      0.3844,     0.39223,     0.39642,     0.39791,     0.40112,      0.4065,     0.40978,     0.41429,     0.41937,     0.42444,     0.42884,     0.42906,     0.43146,     0.43166,     0.43519,     0.43704,\n",
              "            0.43972,     0.44229,     0.44554,     0.44867,     0.44992,     0.45256,     0.45414,     0.45758,     0.46022,       0.461,     0.46367,     0.46697,     0.46887,     0.47021,     0.47257,     0.47212,     0.47456,     0.47649,     0.47603,      0.4785,     0.47839,      0.4814,     0.48663,\n",
              "            0.48235,     0.48376,     0.48558,      0.4901,     0.49077,     0.49521,     0.49638,     0.49894,     0.49386,     0.49718,     0.49977,     0.50133,     0.50184,     0.50203,     0.50734,     0.50869,     0.51182,      0.5118,     0.51034,     0.51155,     0.51387,      0.5144,     0.51252,\n",
              "            0.51245,     0.51312,     0.51481,     0.51844,     0.51974,     0.52036,     0.52112,     0.52345,     0.52282,     0.52343,     0.52451,     0.52327,     0.52535,     0.52602,     0.52804,     0.53068,     0.53215,     0.53302,     0.53421,     0.53492,     0.53917,     0.53865,      0.5397,\n",
              "            0.54134,     0.54192,     0.54401,     0.54494,     0.54543,     0.54727,      0.5511,      0.5564,     0.55726,     0.55785,     0.55834,      0.5588,     0.55925,     0.55867,     0.55801,     0.55734,     0.55668,     0.55613,     0.55832,     0.56002,      0.5603,     0.56058,     0.56086,\n",
              "            0.56253,     0.56341,     0.56428,     0.56518,     0.56614,      0.5667,     0.56724,     0.56914,     0.57143,     0.57166,     0.57189,     0.57211,     0.57234,     0.57256,     0.57289,     0.57373,     0.57445,      0.5751,     0.57678,     0.57813,     0.57899,     0.58031,      0.5832,\n",
              "            0.58067,     0.58142,     0.58172,     0.58191,     0.58211,      0.5823,      0.5825,     0.58269,     0.58289,      0.5844,     0.58471,     0.58502,     0.58533,     0.58563,     0.58665,     0.58731,     0.58762,     0.58793,     0.58825,     0.58854,      0.5887,     0.58885,     0.58901,\n",
              "            0.58917,     0.58933,     0.58949,     0.58965,     0.58981,     0.59011,     0.59095,     0.59175,     0.59253,     0.59344,     0.59232,      0.5912,     0.59215,     0.58934,     0.58918,     0.58963,     0.59008,     0.58955,     0.58846,     0.58738,     0.58706,     0.58762,     0.58818,\n",
              "            0.58629,     0.58657,     0.58686,     0.58714,     0.58742,     0.58924,     0.58999,     0.59082,     0.59191,     0.59244,     0.59289,     0.59333,     0.59384,      0.5944,     0.59495,     0.59676,     0.59882,     0.59968,      0.5999,     0.60013,     0.60035,     0.60057,     0.60079,\n",
              "              0.601,     0.59974,     0.59848,     0.59749,     0.59757,     0.59766,     0.59774,     0.59782,     0.59791,     0.59799,     0.59808,     0.59816,     0.59825,     0.59833,     0.59842,      0.5985,     0.59859,     0.59867,     0.59875,     0.59884,     0.59892,     0.60108,     0.60318,\n",
              "            0.60517,      0.6057,     0.60623,      0.6067,     0.60679,     0.60689,     0.60698,     0.60708,     0.60717,     0.60727,     0.60736,     0.60745,     0.60755,     0.60764,     0.60774,     0.60783,     0.60792,     0.60802,     0.60811,     0.60821,     0.60616,     0.60356,      0.6017,\n",
              "             0.5977,     0.59815,     0.59861,      0.5991,     0.59975,     0.60039,     0.60207,     0.60161,     0.60116,      0.6007,     0.60025,     0.59979,     0.59933,     0.59888,     0.59843,     0.59868,     0.59892,     0.59917,     0.59942,     0.59967,     0.59992,     0.60144,     0.60219,\n",
              "            0.60285,     0.60347,     0.60407,     0.60466,     0.60272,     0.60087,     0.60033,     0.59978,     0.59924,     0.59869,     0.59814,      0.5976,     0.59742,     0.59758,     0.59774,      0.5979,     0.59806,     0.59822,     0.59838,     0.59854,     0.59869,     0.59885,     0.59942,\n",
              "            0.60036,     0.60067,     0.60084,     0.60101,     0.60118,     0.60135,     0.60152,     0.60169,     0.60186,     0.60203,     0.60182,     0.60072,     0.59961,     0.59851,     0.59957,     0.59908,      0.5986,     0.59811,     0.59763,     0.59714,     0.59665,     0.59605,     0.59409,\n",
              "            0.59248,     0.59314,      0.5938,     0.59574,     0.59591,     0.59607,     0.59623,      0.5964,     0.59656,     0.59672,     0.59688,     0.59705,     0.59721,     0.59676,     0.59605,     0.59533,     0.59461,     0.59389,     0.59372,     0.59468,     0.59642,     0.59599,     0.59556,\n",
              "            0.59513,      0.5947,     0.59427,     0.59384,      0.5934,     0.59297,     0.59245,     0.59185,     0.59126,     0.59067,     0.59007,     0.58948,     0.58889,     0.58934,     0.58979,     0.59024,     0.59023,     0.58938,     0.58853,     0.58768,     0.58683,     0.58368,     0.58183,\n",
              "            0.58074,     0.57965,     0.57868,     0.57897,     0.57926,     0.57955,     0.57984,     0.58013,     0.58034,     0.58045,     0.58057,     0.58069,      0.5808,     0.58092,     0.58103,     0.58115,     0.58127,     0.58138,      0.5815,     0.58161,     0.58173,     0.58184,     0.58156,\n",
              "            0.58047,     0.57937,     0.57827,     0.57799,     0.57811,     0.57823,     0.57835,     0.57848,      0.5786,     0.57872,     0.57884,     0.57897,     0.57909,     0.57921,     0.57933,     0.57945,     0.57928,     0.57825,     0.57721,     0.57617,     0.57403,     0.57148,     0.57163,\n",
              "            0.57177,     0.57191,     0.57206,      0.5722,     0.57234,     0.57248,     0.57263,     0.57277,     0.57291,     0.57305,     0.57115,     0.56905,     0.56929,     0.56963,     0.56996,      0.5703,     0.57048,     0.56894,      0.5674,     0.56681,     0.56765,     0.56837,     0.56894,\n",
              "             0.5695,     0.56932,     0.56847,     0.56761,     0.56676,      0.5659,     0.56467,     0.56324,     0.56181,     0.56201,     0.56285,     0.56327,     0.56355,     0.56384,     0.56412,      0.5644,     0.56468,     0.56414,     0.56352,      0.5629,     0.56228,     0.56166,     0.56104,\n",
              "             0.5605,     0.56084,     0.56118,     0.56152,     0.56186,     0.56249,     0.56372,     0.56338,     0.56305,     0.56271,     0.56237,     0.56204,      0.5617,     0.56136,     0.56103,     0.56069,     0.56035,     0.56001,     0.55968,     0.55937,      0.5591,     0.55882,     0.55855,\n",
              "            0.55827,       0.558,     0.55772,     0.55745,     0.55717,      0.5569,     0.55662,     0.55634,     0.55607,     0.55579,     0.55552,     0.55524,     0.55481,     0.55437,     0.55392,     0.55348,     0.55304,     0.55259,     0.55215,     0.55171,     0.55126,       0.551,     0.55157,\n",
              "            0.55213,     0.55266,     0.55309,     0.55352,     0.55394,     0.55369,      0.5522,      0.5507,     0.54889,     0.54664,     0.54519,     0.54462,     0.54405,     0.54349,     0.54292,     0.54235,     0.54179,     0.54122,     0.54141,     0.54198,     0.54254,       0.543,     0.54343,\n",
              "            0.54385,     0.54428,     0.54375,     0.54305,     0.54234,     0.54164,     0.54093,     0.54023,     0.53996,     0.54013,     0.54031,     0.54048,     0.54065,     0.54082,     0.54099,     0.54116,     0.54133,      0.5415,      0.5381,     0.53748,     0.53805,     0.53861,     0.52761,\n",
              "            0.52525,     0.52651,     0.52743,     0.52827,      0.5276,     0.52687,     0.52613,      0.5254,     0.52467,     0.52394,     0.52291,     0.52172,     0.52052,     0.51932,     0.51858,     0.51801,     0.51745,     0.51688,     0.51631,     0.51575,     0.51518,     0.51461,     0.51359,\n",
              "            0.51198,     0.51036,     0.50959,     0.50967,     0.50975,     0.50982,      0.5099,     0.50997,     0.51005,     0.51013,      0.5102,     0.51028,     0.51035,     0.51043,     0.51051,     0.51058,     0.51066,     0.51073,     0.51081,     0.51088,     0.51096,     0.51103,     0.51111,\n",
              "            0.51113,     0.50973,     0.50833,     0.50694,     0.50656,      0.5068,     0.50704,     0.50728,     0.50752,     0.50775,     0.50799,     0.50733,     0.50643,     0.50553,     0.50464,     0.50374,     0.50292,     0.50221,     0.50151,      0.5008,     0.50009,     0.49938,     0.49867,\n",
              "            0.49688,     0.49438,     0.49367,     0.49393,     0.49418,     0.49443,     0.49469,     0.49494,     0.49477,     0.49365,     0.49253,     0.49141,     0.49029,     0.48935,     0.48843,     0.48751,     0.48658,     0.48566,     0.47993,     0.47521,     0.47476,     0.47431,     0.47386,\n",
              "            0.47341,     0.47296,     0.47251,     0.47206,     0.47161,     0.47116,     0.47071,     0.47026,     0.46567,     0.46043,     0.46108,     0.46057,     0.46007,     0.45957,     0.45906,     0.45856,     0.45805,     0.45755,     0.45705,     0.45654,     0.45619,     0.45591,     0.45563,\n",
              "            0.45535,     0.45507,     0.45479,     0.45451,     0.45423,     0.45395,     0.45367,     0.45339,     0.45311,     0.45282,     0.45254,     0.45226,     0.45198,      0.4517,     0.45142,     0.45111,     0.45062,     0.45014,     0.44965,     0.44916,     0.44868,     0.44819,      0.4477,\n",
              "            0.44721,     0.44672,     0.44624,     0.44606,     0.44635,     0.44663,     0.44691,     0.44719,      0.4474,     0.44605,      0.4447,     0.44334,     0.44192,     0.44011,     0.43829,     0.43628,     0.43354,     0.43079,     0.42802,     0.42597,     0.42551,     0.42505,     0.42459,\n",
              "            0.42412,     0.42366,      0.4232,     0.42273,     0.42227,      0.4218,     0.42134,     0.42087,     0.41844,     0.41533,     0.41607,     0.41624,     0.41398,     0.41172,     0.40569,     0.40606,     0.40642,     0.40679,     0.40709,     0.40731,     0.40752,     0.40773,     0.40794,\n",
              "            0.40815,     0.40835,     0.40798,      0.4071,     0.40621,     0.40532,     0.40444,     0.40355,     0.40292,     0.40341,      0.4039,      0.4043,     0.40446,     0.40463,     0.40479,     0.40496,     0.40512,     0.40529,     0.40545,     0.40561,     0.39859,     0.39565,     0.39466,\n",
              "            0.39538,     0.39224,     0.38917,     0.38798,     0.38678,     0.38558,     0.38439,     0.38441,     0.38489,     0.38536,     0.37914,     0.37779,     0.37644,     0.37509,     0.37373,     0.37081,     0.36774,     0.36366,     0.35513,      0.3543,     0.35347,     0.35263,     0.35179,\n",
              "            0.35096,     0.35012,     0.34924,     0.34819,     0.34714,     0.34609,     0.34504,     0.34398,     0.34267,     0.34086,     0.33904,     0.33722,     0.32885,     0.32669,     0.32454,     0.32485,     0.32516,     0.32548,     0.31915,     0.31652,     0.31389,     0.31009,     0.30615,\n",
              "            0.30425,     0.30234,     0.30043,     0.29322,     0.29247,     0.29172,     0.29096,     0.29021,     0.28946,      0.2887,     0.28795,     0.28719,     0.27987,     0.27098,      0.2657,     0.25867,     0.25666,     0.25465,     0.25285,     0.25218,      0.2515,     0.25083,     0.25015,\n",
              "            0.24947,      0.2488,     0.24812,     0.24744,     0.24676,     0.24608,     0.24457,     0.24298,     0.24138,     0.23979,     0.23195,     0.23083,     0.22972,      0.2286,     0.22748,     0.22636,     0.22523,     0.22441,     0.22371,     0.22302,     0.22232,     0.22162,     0.22092,\n",
              "            0.22022,     0.21952,     0.21882,     0.21812,     0.21093,     0.20812,     0.20563,     0.19569,     0.19064,     0.18926,     0.18879,     0.18833,     0.18787,      0.1874,     0.18694,     0.18647,     0.18601,     0.18555,     0.18508,     0.18462,     0.18415,     0.18368,     0.18322,\n",
              "            0.18275,     0.18229,     0.18182,     0.17229,     0.16839,     0.15844,     0.15111,     0.14951,     0.14792,     0.14632,     0.14472,     0.14259,     0.13856,     0.13473,     0.13148,     0.12822,     0.11625,      0.1121,     0.11037,     0.10899,      0.1076,     0.10621,     0.10481,\n",
              "            0.10307,    0.094334,     0.09264,    0.090944,    0.089244,    0.087542,    0.083216,    0.078347,    0.077022,    0.075696,    0.074368,    0.073038,    0.071706,    0.070373,    0.069559,    0.068835,    0.068111,    0.067386,    0.066661,    0.065935,    0.065209,    0.064482,    0.063754,\n",
              "           0.063026,    0.062297,    0.061479,    0.060131,    0.058781,     0.05743,    0.056076,    0.054721,    0.053364,    0.048355,    0.038362,     0.03401,    0.032007,        0.03,    0.027989,    0.024106,    0.018024,    0.016942,    0.015863,    0.014784,    0.013703,    0.012621,    0.011538,\n",
              "           0.010454,   0.0093685,           0,           0,           0,           0,           0,           0,           0,           0,           0,           0,           0,           0,           0,           0,           0,           0,           0,           0,           0,           0,           0,\n",
              "                  0,           0,           0,           0,           0,           0,           0,           0,           0,           0,           0]]), 'Confidence', 'F1'], [array([          0,    0.001001,    0.002002,    0.003003,    0.004004,    0.005005,    0.006006,    0.007007,    0.008008,    0.009009,     0.01001,    0.011011,    0.012012,    0.013013,    0.014014,    0.015015,    0.016016,    0.017017,    0.018018,    0.019019,     0.02002,    0.021021,    0.022022,    0.023023,\n",
              "          0.024024,    0.025025,    0.026026,    0.027027,    0.028028,    0.029029,     0.03003,    0.031031,    0.032032,    0.033033,    0.034034,    0.035035,    0.036036,    0.037037,    0.038038,    0.039039,     0.04004,    0.041041,    0.042042,    0.043043,    0.044044,    0.045045,    0.046046,    0.047047,\n",
              "          0.048048,    0.049049,     0.05005,    0.051051,    0.052052,    0.053053,    0.054054,    0.055055,    0.056056,    0.057057,    0.058058,    0.059059,     0.06006,    0.061061,    0.062062,    0.063063,    0.064064,    0.065065,    0.066066,    0.067067,    0.068068,    0.069069,     0.07007,    0.071071,\n",
              "          0.072072,    0.073073,    0.074074,    0.075075,    0.076076,    0.077077,    0.078078,    0.079079,     0.08008,    0.081081,    0.082082,    0.083083,    0.084084,    0.085085,    0.086086,    0.087087,    0.088088,    0.089089,     0.09009,    0.091091,    0.092092,    0.093093,    0.094094,    0.095095,\n",
              "          0.096096,    0.097097,    0.098098,    0.099099,      0.1001,      0.1011,      0.1021,      0.1031,      0.1041,     0.10511,     0.10611,     0.10711,     0.10811,     0.10911,     0.11011,     0.11111,     0.11211,     0.11311,     0.11411,     0.11512,     0.11612,     0.11712,     0.11812,     0.11912,\n",
              "           0.12012,     0.12112,     0.12212,     0.12312,     0.12412,     0.12513,     0.12613,     0.12713,     0.12813,     0.12913,     0.13013,     0.13113,     0.13213,     0.13313,     0.13413,     0.13514,     0.13614,     0.13714,     0.13814,     0.13914,     0.14014,     0.14114,     0.14214,     0.14314,\n",
              "           0.14414,     0.14515,     0.14615,     0.14715,     0.14815,     0.14915,     0.15015,     0.15115,     0.15215,     0.15315,     0.15415,     0.15516,     0.15616,     0.15716,     0.15816,     0.15916,     0.16016,     0.16116,     0.16216,     0.16316,     0.16416,     0.16517,     0.16617,     0.16717,\n",
              "           0.16817,     0.16917,     0.17017,     0.17117,     0.17217,     0.17317,     0.17417,     0.17518,     0.17618,     0.17718,     0.17818,     0.17918,     0.18018,     0.18118,     0.18218,     0.18318,     0.18418,     0.18519,     0.18619,     0.18719,     0.18819,     0.18919,     0.19019,     0.19119,\n",
              "           0.19219,     0.19319,     0.19419,      0.1952,      0.1962,      0.1972,      0.1982,      0.1992,      0.2002,      0.2012,      0.2022,      0.2032,      0.2042,     0.20521,     0.20621,     0.20721,     0.20821,     0.20921,     0.21021,     0.21121,     0.21221,     0.21321,     0.21421,     0.21522,\n",
              "           0.21622,     0.21722,     0.21822,     0.21922,     0.22022,     0.22122,     0.22222,     0.22322,     0.22422,     0.22523,     0.22623,     0.22723,     0.22823,     0.22923,     0.23023,     0.23123,     0.23223,     0.23323,     0.23423,     0.23524,     0.23624,     0.23724,     0.23824,     0.23924,\n",
              "           0.24024,     0.24124,     0.24224,     0.24324,     0.24424,     0.24525,     0.24625,     0.24725,     0.24825,     0.24925,     0.25025,     0.25125,     0.25225,     0.25325,     0.25425,     0.25526,     0.25626,     0.25726,     0.25826,     0.25926,     0.26026,     0.26126,     0.26226,     0.26326,\n",
              "           0.26426,     0.26527,     0.26627,     0.26727,     0.26827,     0.26927,     0.27027,     0.27127,     0.27227,     0.27327,     0.27427,     0.27528,     0.27628,     0.27728,     0.27828,     0.27928,     0.28028,     0.28128,     0.28228,     0.28328,     0.28428,     0.28529,     0.28629,     0.28729,\n",
              "           0.28829,     0.28929,     0.29029,     0.29129,     0.29229,     0.29329,     0.29429,      0.2953,      0.2963,      0.2973,      0.2983,      0.2993,      0.3003,      0.3013,      0.3023,      0.3033,      0.3043,     0.30531,     0.30631,     0.30731,     0.30831,     0.30931,     0.31031,     0.31131,\n",
              "           0.31231,     0.31331,     0.31431,     0.31532,     0.31632,     0.31732,     0.31832,     0.31932,     0.32032,     0.32132,     0.32232,     0.32332,     0.32432,     0.32533,     0.32633,     0.32733,     0.32833,     0.32933,     0.33033,     0.33133,     0.33233,     0.33333,     0.33433,     0.33534,\n",
              "           0.33634,     0.33734,     0.33834,     0.33934,     0.34034,     0.34134,     0.34234,     0.34334,     0.34434,     0.34535,     0.34635,     0.34735,     0.34835,     0.34935,     0.35035,     0.35135,     0.35235,     0.35335,     0.35435,     0.35536,     0.35636,     0.35736,     0.35836,     0.35936,\n",
              "           0.36036,     0.36136,     0.36236,     0.36336,     0.36436,     0.36537,     0.36637,     0.36737,     0.36837,     0.36937,     0.37037,     0.37137,     0.37237,     0.37337,     0.37437,     0.37538,     0.37638,     0.37738,     0.37838,     0.37938,     0.38038,     0.38138,     0.38238,     0.38338,\n",
              "           0.38438,     0.38539,     0.38639,     0.38739,     0.38839,     0.38939,     0.39039,     0.39139,     0.39239,     0.39339,     0.39439,      0.3954,      0.3964,      0.3974,      0.3984,      0.3994,      0.4004,      0.4014,      0.4024,      0.4034,      0.4044,     0.40541,     0.40641,     0.40741,\n",
              "           0.40841,     0.40941,     0.41041,     0.41141,     0.41241,     0.41341,     0.41441,     0.41542,     0.41642,     0.41742,     0.41842,     0.41942,     0.42042,     0.42142,     0.42242,     0.42342,     0.42442,     0.42543,     0.42643,     0.42743,     0.42843,     0.42943,     0.43043,     0.43143,\n",
              "           0.43243,     0.43343,     0.43443,     0.43544,     0.43644,     0.43744,     0.43844,     0.43944,     0.44044,     0.44144,     0.44244,     0.44344,     0.44444,     0.44545,     0.44645,     0.44745,     0.44845,     0.44945,     0.45045,     0.45145,     0.45245,     0.45345,     0.45445,     0.45546,\n",
              "           0.45646,     0.45746,     0.45846,     0.45946,     0.46046,     0.46146,     0.46246,     0.46346,     0.46446,     0.46547,     0.46647,     0.46747,     0.46847,     0.46947,     0.47047,     0.47147,     0.47247,     0.47347,     0.47447,     0.47548,     0.47648,     0.47748,     0.47848,     0.47948,\n",
              "           0.48048,     0.48148,     0.48248,     0.48348,     0.48448,     0.48549,     0.48649,     0.48749,     0.48849,     0.48949,     0.49049,     0.49149,     0.49249,     0.49349,     0.49449,      0.4955,      0.4965,      0.4975,      0.4985,      0.4995,      0.5005,      0.5015,      0.5025,      0.5035,\n",
              "            0.5045,     0.50551,     0.50651,     0.50751,     0.50851,     0.50951,     0.51051,     0.51151,     0.51251,     0.51351,     0.51451,     0.51552,     0.51652,     0.51752,     0.51852,     0.51952,     0.52052,     0.52152,     0.52252,     0.52352,     0.52452,     0.52553,     0.52653,     0.52753,\n",
              "           0.52853,     0.52953,     0.53053,     0.53153,     0.53253,     0.53353,     0.53453,     0.53554,     0.53654,     0.53754,     0.53854,     0.53954,     0.54054,     0.54154,     0.54254,     0.54354,     0.54454,     0.54555,     0.54655,     0.54755,     0.54855,     0.54955,     0.55055,     0.55155,\n",
              "           0.55255,     0.55355,     0.55455,     0.55556,     0.55656,     0.55756,     0.55856,     0.55956,     0.56056,     0.56156,     0.56256,     0.56356,     0.56456,     0.56557,     0.56657,     0.56757,     0.56857,     0.56957,     0.57057,     0.57157,     0.57257,     0.57357,     0.57457,     0.57558,\n",
              "           0.57658,     0.57758,     0.57858,     0.57958,     0.58058,     0.58158,     0.58258,     0.58358,     0.58458,     0.58559,     0.58659,     0.58759,     0.58859,     0.58959,     0.59059,     0.59159,     0.59259,     0.59359,     0.59459,      0.5956,      0.5966,      0.5976,      0.5986,      0.5996,\n",
              "            0.6006,      0.6016,      0.6026,      0.6036,      0.6046,     0.60561,     0.60661,     0.60761,     0.60861,     0.60961,     0.61061,     0.61161,     0.61261,     0.61361,     0.61461,     0.61562,     0.61662,     0.61762,     0.61862,     0.61962,     0.62062,     0.62162,     0.62262,     0.62362,\n",
              "           0.62462,     0.62563,     0.62663,     0.62763,     0.62863,     0.62963,     0.63063,     0.63163,     0.63263,     0.63363,     0.63463,     0.63564,     0.63664,     0.63764,     0.63864,     0.63964,     0.64064,     0.64164,     0.64264,     0.64364,     0.64464,     0.64565,     0.64665,     0.64765,\n",
              "           0.64865,     0.64965,     0.65065,     0.65165,     0.65265,     0.65365,     0.65465,     0.65566,     0.65666,     0.65766,     0.65866,     0.65966,     0.66066,     0.66166,     0.66266,     0.66366,     0.66466,     0.66567,     0.66667,     0.66767,     0.66867,     0.66967,     0.67067,     0.67167,\n",
              "           0.67267,     0.67367,     0.67467,     0.67568,     0.67668,     0.67768,     0.67868,     0.67968,     0.68068,     0.68168,     0.68268,     0.68368,     0.68468,     0.68569,     0.68669,     0.68769,     0.68869,     0.68969,     0.69069,     0.69169,     0.69269,     0.69369,     0.69469,      0.6957,\n",
              "            0.6967,      0.6977,      0.6987,      0.6997,      0.7007,      0.7017,      0.7027,      0.7037,      0.7047,     0.70571,     0.70671,     0.70771,     0.70871,     0.70971,     0.71071,     0.71171,     0.71271,     0.71371,     0.71471,     0.71572,     0.71672,     0.71772,     0.71872,     0.71972,\n",
              "           0.72072,     0.72172,     0.72272,     0.72372,     0.72472,     0.72573,     0.72673,     0.72773,     0.72873,     0.72973,     0.73073,     0.73173,     0.73273,     0.73373,     0.73473,     0.73574,     0.73674,     0.73774,     0.73874,     0.73974,     0.74074,     0.74174,     0.74274,     0.74374,\n",
              "           0.74474,     0.74575,     0.74675,     0.74775,     0.74875,     0.74975,     0.75075,     0.75175,     0.75275,     0.75375,     0.75475,     0.75576,     0.75676,     0.75776,     0.75876,     0.75976,     0.76076,     0.76176,     0.76276,     0.76376,     0.76476,     0.76577,     0.76677,     0.76777,\n",
              "           0.76877,     0.76977,     0.77077,     0.77177,     0.77277,     0.77377,     0.77477,     0.77578,     0.77678,     0.77778,     0.77878,     0.77978,     0.78078,     0.78178,     0.78278,     0.78378,     0.78478,     0.78579,     0.78679,     0.78779,     0.78879,     0.78979,     0.79079,     0.79179,\n",
              "           0.79279,     0.79379,     0.79479,      0.7958,      0.7968,      0.7978,      0.7988,      0.7998,      0.8008,      0.8018,      0.8028,      0.8038,      0.8048,     0.80581,     0.80681,     0.80781,     0.80881,     0.80981,     0.81081,     0.81181,     0.81281,     0.81381,     0.81481,     0.81582,\n",
              "           0.81682,     0.81782,     0.81882,     0.81982,     0.82082,     0.82182,     0.82282,     0.82382,     0.82482,     0.82583,     0.82683,     0.82783,     0.82883,     0.82983,     0.83083,     0.83183,     0.83283,     0.83383,     0.83483,     0.83584,     0.83684,     0.83784,     0.83884,     0.83984,\n",
              "           0.84084,     0.84184,     0.84284,     0.84384,     0.84484,     0.84585,     0.84685,     0.84785,     0.84885,     0.84985,     0.85085,     0.85185,     0.85285,     0.85385,     0.85485,     0.85586,     0.85686,     0.85786,     0.85886,     0.85986,     0.86086,     0.86186,     0.86286,     0.86386,\n",
              "           0.86486,     0.86587,     0.86687,     0.86787,     0.86887,     0.86987,     0.87087,     0.87187,     0.87287,     0.87387,     0.87487,     0.87588,     0.87688,     0.87788,     0.87888,     0.87988,     0.88088,     0.88188,     0.88288,     0.88388,     0.88488,     0.88589,     0.88689,     0.88789,\n",
              "           0.88889,     0.88989,     0.89089,     0.89189,     0.89289,     0.89389,     0.89489,      0.8959,      0.8969,      0.8979,      0.8989,      0.8999,      0.9009,      0.9019,      0.9029,      0.9039,      0.9049,     0.90591,     0.90691,     0.90791,     0.90891,     0.90991,     0.91091,     0.91191,\n",
              "           0.91291,     0.91391,     0.91491,     0.91592,     0.91692,     0.91792,     0.91892,     0.91992,     0.92092,     0.92192,     0.92292,     0.92392,     0.92492,     0.92593,     0.92693,     0.92793,     0.92893,     0.92993,     0.93093,     0.93193,     0.93293,     0.93393,     0.93493,     0.93594,\n",
              "           0.93694,     0.93794,     0.93894,     0.93994,     0.94094,     0.94194,     0.94294,     0.94394,     0.94494,     0.94595,     0.94695,     0.94795,     0.94895,     0.94995,     0.95095,     0.95195,     0.95295,     0.95395,     0.95495,     0.95596,     0.95696,     0.95796,     0.95896,     0.95996,\n",
              "           0.96096,     0.96196,     0.96296,     0.96396,     0.96496,     0.96597,     0.96697,     0.96797,     0.96897,     0.96997,     0.97097,     0.97197,     0.97297,     0.97397,     0.97497,     0.97598,     0.97698,     0.97798,     0.97898,     0.97998,     0.98098,     0.98198,     0.98298,     0.98398,\n",
              "           0.98498,     0.98599,     0.98699,     0.98799,     0.98899,     0.98999,     0.99099,     0.99199,     0.99299,     0.99399,     0.99499,       0.996,       0.997,       0.998,       0.999,           1]), array([[   0.030794,    0.030794,    0.047618,     0.05957,    0.073734,    0.086965,    0.096631,     0.10725,     0.11842,     0.12709,     0.13617,     0.14484,     0.15202,      0.1609,      0.1674,     0.17222,     0.17877,      0.1871,     0.19429,     0.20064,     0.20896,     0.21673,     0.22295,\n",
              "            0.22805,     0.23502,     0.24026,     0.24519,     0.24922,     0.25605,     0.26192,     0.26835,     0.27605,     0.28022,      0.2825,     0.28658,     0.29211,      0.2955,     0.30114,     0.30752,       0.313,     0.31781,     0.31913,     0.32289,     0.32425,     0.32825,     0.33037,\n",
              "            0.33344,      0.3364,     0.34018,     0.34384,     0.34531,     0.34843,     0.35166,     0.35581,     0.35975,      0.3614,      0.3647,      0.3688,     0.37117,     0.37444,     0.37744,      0.3785,     0.38164,     0.38427,     0.38527,     0.38852,     0.39016,     0.39418,     0.40125,\n",
              "            0.39927,      0.4012,     0.40372,        0.41,     0.41094,     0.41721,     0.41886,     0.42252,     0.42188,     0.42675,     0.43059,      0.4329,     0.43366,      0.4363,     0.44448,     0.44656,      0.4514,      0.4523,     0.45135,     0.45366,     0.45733,      0.4587,     0.45748,\n",
              "            0.45786,     0.45893,     0.46164,     0.46751,     0.46963,     0.47065,     0.47189,     0.47573,     0.47776,     0.47878,     0.48058,     0.48168,     0.48521,     0.48635,     0.48982,     0.49439,     0.49694,     0.49846,     0.50054,      0.5018,     0.50933,     0.51203,     0.51394,\n",
              "            0.51692,     0.51799,     0.52181,     0.52352,     0.52442,     0.52784,     0.53502,      0.5451,     0.54676,     0.54788,     0.54884,     0.54972,      0.5506,     0.55028,     0.54987,     0.54947,     0.54906,     0.54882,     0.55311,     0.55645,       0.557,     0.55756,     0.55811,\n",
              "            0.56143,     0.56317,     0.56493,     0.56674,     0.56867,     0.56981,     0.57088,     0.57475,     0.57945,     0.57992,     0.58038,     0.58085,     0.58131,     0.58178,     0.58246,     0.58419,     0.58569,     0.58703,     0.59056,      0.5934,      0.5952,     0.59799,     0.60417,\n",
              "            0.60398,      0.6056,     0.60625,     0.60668,      0.6071,     0.60753,     0.60795,     0.60837,      0.6088,     0.61211,     0.61279,     0.61346,     0.61414,     0.61482,     0.61707,     0.61853,     0.61922,     0.61992,     0.62061,     0.62126,     0.62161,     0.62197,     0.62232,\n",
              "            0.62267,     0.62303,     0.62338,     0.62374,     0.62409,     0.62478,     0.62665,     0.62846,     0.63022,     0.63359,     0.63297,     0.63235,     0.63537,     0.63381,     0.63436,     0.63541,     0.63646,     0.63645,     0.63585,     0.63524,     0.63554,     0.63686,     0.63818,\n",
              "            0.63999,     0.64066,     0.64134,     0.64201,     0.64269,     0.64706,     0.64887,     0.65087,     0.65354,     0.65482,     0.65591,     0.65701,     0.65826,     0.65962,     0.66099,     0.66548,     0.67061,     0.67278,     0.67334,      0.6739,     0.67446,     0.67502,     0.67558,\n",
              "            0.67613,     0.67547,     0.67481,     0.67433,     0.67455,     0.67476,     0.67498,     0.67519,     0.67541,     0.67563,     0.67584,     0.67606,     0.67627,     0.67649,     0.67671,     0.67692,     0.67714,     0.67736,     0.67757,     0.67779,       0.678,     0.68357,     0.68902,\n",
              "            0.69423,     0.69563,     0.69704,     0.69826,     0.69851,     0.69876,     0.69901,     0.69927,     0.69952,     0.69977,     0.70002,     0.70027,     0.70052,     0.70077,     0.70102,     0.70127,     0.70152,     0.70177,     0.70202,     0.70227,     0.70134,     0.70005,     0.69913,\n",
              "            0.69777,     0.69901,     0.70026,     0.70162,     0.70338,     0.70515,     0.70986,     0.70964,     0.70942,     0.70919,     0.70897,     0.70874,     0.70852,      0.7083,     0.70808,     0.70878,     0.70948,     0.71017,     0.71087,     0.71157,     0.71227,     0.71658,     0.71872,\n",
              "            0.72058,     0.72237,     0.72408,     0.72579,     0.72514,     0.72427,     0.72401,     0.72375,     0.72349,     0.72323,     0.72297,     0.72271,     0.72282,     0.72329,     0.72376,     0.72423,      0.7247,     0.72517,     0.72564,     0.72611,     0.72658,     0.72705,     0.72872,\n",
              "             0.7315,     0.73244,     0.73294,     0.73345,     0.73396,     0.73446,     0.73497,     0.73548,     0.73598,     0.73649,     0.73669,     0.73618,     0.73567,     0.73516,      0.7398,     0.73958,     0.73935,     0.73913,     0.73891,     0.73868,     0.73846,     0.73818,     0.73727,\n",
              "            0.73675,     0.73881,     0.74086,     0.74693,     0.74745,     0.74796,     0.74848,     0.74899,     0.74951,     0.75002,     0.75054,     0.75105,     0.75157,      0.7515,     0.75118,     0.75086,     0.75054,     0.75022,       0.751,     0.75407,     0.76045,     0.76026,     0.76007,\n",
              "            0.75988,     0.75969,     0.75951,     0.75932,     0.75913,     0.75894,     0.75871,     0.75845,     0.75819,     0.75793,     0.75766,      0.7574,     0.75716,     0.75865,     0.76013,     0.76162,     0.76246,     0.76209,     0.76172,     0.76135,     0.76097,     0.75959,     0.75877,\n",
              "            0.75828,      0.7578,     0.75744,     0.75844,     0.75944,     0.76044,     0.76144,     0.76244,     0.76315,     0.76356,     0.76396,     0.76436,     0.76476,     0.76517,     0.76557,     0.76597,     0.76637,     0.76678,     0.76718,     0.76758,     0.76798,     0.76839,      0.7685,\n",
              "            0.76803,     0.76755,     0.76707,     0.76721,     0.76764,     0.76807,     0.76851,     0.76894,     0.76937,     0.76981,     0.77024,     0.77067,      0.7711,     0.77154,     0.77197,      0.7724,     0.77261,     0.77217,     0.77173,     0.77128,     0.77036,     0.76943,     0.76995,\n",
              "            0.77047,     0.77099,     0.77151,     0.77203,     0.77255,     0.77307,     0.77359,     0.77411,     0.77463,     0.77515,     0.77437,     0.77347,     0.77464,     0.77589,     0.77714,     0.77838,     0.77947,     0.77882,     0.77817,     0.77906,     0.78225,     0.78497,     0.78713,\n",
              "            0.78929,     0.79014,     0.78979,     0.78944,     0.78909,     0.78874,     0.78824,     0.78764,     0.78705,     0.78928,     0.79261,     0.79426,     0.79538,     0.79651,     0.79764,     0.79877,      0.7999,     0.79978,     0.79953,     0.79928,     0.79904,     0.79879,     0.79854,\n",
              "            0.79844,     0.79982,     0.80121,      0.8026,     0.80398,     0.80654,     0.81194,     0.81181,     0.81168,     0.81155,     0.81142,      0.8113,     0.81117,     0.81104,     0.81091,     0.81079,     0.81066,     0.81053,      0.8104,     0.81029,     0.81018,     0.81008,     0.80997,\n",
              "            0.80986,     0.80976,     0.80965,     0.80955,     0.80944,     0.80934,     0.80923,     0.80912,     0.80902,     0.80891,     0.80881,      0.8087,     0.80853,     0.80836,     0.80819,     0.80802,     0.80785,     0.80767,      0.8075,     0.80733,     0.80716,     0.80747,     0.80991,\n",
              "            0.81235,     0.81464,      0.8165,     0.81836,     0.82023,     0.82123,     0.82068,     0.82013,     0.81946,     0.81862,     0.81808,     0.81787,     0.81765,     0.81744,     0.81723,     0.81701,      0.8168,     0.81658,     0.81825,     0.82083,     0.82342,     0.82554,     0.82752,\n",
              "            0.82949,     0.83147,     0.83156,     0.83131,     0.83106,     0.83081,     0.83056,     0.83031,      0.8306,     0.83141,     0.83222,     0.83303,     0.83384,     0.83465,     0.83546,     0.83627,     0.83708,     0.83789,     0.83691,     0.83868,     0.84145,     0.84423,      0.8409,\n",
              "            0.84009,     0.84776,     0.85255,     0.85699,     0.85692,     0.85669,     0.85645,     0.85622,     0.85599,     0.85576,     0.85543,     0.85504,     0.85466,     0.85427,     0.85403,     0.85385,     0.85366,     0.85348,     0.85329,     0.85311,     0.85292,     0.85274,      0.8524,\n",
              "            0.85187,     0.85133,     0.85128,      0.8517,     0.85213,     0.85256,     0.85298,     0.85341,     0.85384,     0.85426,     0.85469,     0.85512,     0.85554,     0.85597,     0.85639,     0.85682,     0.85725,     0.85767,      0.8581,     0.85853,     0.85895,     0.85938,     0.85981,\n",
              "             0.8602,     0.85975,     0.85931,     0.85886,     0.85956,     0.86094,     0.86232,      0.8637,     0.86509,     0.86647,     0.86785,     0.86791,     0.86764,     0.86737,      0.8671,     0.86682,     0.86657,     0.86635,     0.86613,     0.86591,     0.86569,     0.86548,     0.86526,\n",
              "             0.8647,     0.86391,     0.86465,     0.86622,     0.86778,     0.86935,     0.87092,     0.87248,     0.87346,     0.87312,     0.87279,     0.87246,     0.87212,     0.87184,     0.87156,     0.87127,     0.87099,     0.87071,     0.86894,     0.86746,     0.86731,     0.86717,     0.86702,\n",
              "            0.86688,     0.86674,     0.86659,     0.86645,      0.8663,     0.86616,     0.86602,     0.86587,     0.86438,     0.86264,     0.87327,     0.87311,     0.87296,      0.8728,     0.87264,     0.87248,     0.87232,     0.87216,       0.872,     0.87185,     0.87173,     0.87164,     0.87155,\n",
              "            0.87146,     0.87137,     0.87129,      0.8712,     0.87111,     0.87102,     0.87093,     0.87084,     0.87075,     0.87066,     0.87057,     0.87048,     0.87039,      0.8703,     0.87021,     0.87011,     0.86995,     0.86979,     0.86963,     0.86947,     0.86931,     0.86915,     0.86899,\n",
              "            0.86883,     0.86867,     0.86852,      0.8693,     0.87146,     0.87362,     0.87577,     0.87793,     0.87998,     0.87957,     0.87915,     0.87874,      0.8783,     0.87773,     0.87716,     0.87653,     0.87565,     0.87476,     0.87386,     0.87319,     0.87304,     0.87288,     0.87273,\n",
              "            0.87257,     0.87242,     0.87226,     0.87211,     0.87195,      0.8718,     0.87164,     0.87149,     0.87066,     0.87048,     0.87704,     0.88222,      0.8815,     0.88078,      0.8797,     0.88316,     0.88663,     0.89009,     0.89304,     0.89508,     0.89713,     0.89917,     0.90121,\n",
              "            0.90325,     0.90529,     0.90613,     0.90589,     0.90566,     0.90542,     0.90519,     0.90495,     0.90571,     0.91069,     0.91568,     0.91981,     0.92152,     0.92324,     0.92496,     0.92667,     0.92839,      0.9301,     0.93182,     0.93354,     0.93305,     0.93247,     0.93658,\n",
              "            0.94482,     0.94774,     0.94725,     0.94706,     0.94687,     0.94667,     0.94648,      0.9507,     0.95658,     0.96246,     0.96291,     0.96275,     0.96259,     0.96244,     0.96228,     0.96192,     0.96155,     0.96104,     0.95994,     0.95983,     0.95972,     0.95961,      0.9595,\n",
              "            0.95939,     0.95927,     0.95916,     0.95901,     0.95887,     0.95872,     0.95857,     0.95843,     0.95825,     0.95799,     0.95773,     0.95747,     0.95622,     0.95589,     0.95556,      0.9611,     0.96666,     0.97223,     0.97672,      0.9765,     0.97627,     0.97593,     0.97558,\n",
              "             0.9754,     0.97522,     0.97504,     0.97434,     0.97426,     0.97418,     0.97411,     0.97403,     0.97395,     0.97388,      0.9738,     0.97372,     0.97294,     0.97193,     0.97131,     0.97044,     0.97018,     0.96991,     0.96968,     0.96959,      0.9695,      0.9694,     0.96931,\n",
              "            0.96922,     0.96913,     0.96903,     0.96894,     0.96885,     0.96876,     0.96854,     0.96831,     0.96808,     0.96785,     0.96666,     0.96648,      0.9663,     0.96611,     0.96593,     0.96575,     0.96557,     0.96543,     0.96531,     0.96519,     0.96507,     0.96495,     0.96483,\n",
              "            0.96471,     0.96459,     0.96447,     0.96435,     0.96304,     0.96249,       0.962,     0.95995,     0.95881,           1,           1,           1,           1,           1,           1,           1,           1,           1,           1,           1,           1,           1,           1,\n",
              "                  1,           1,           1,           1,           1,           1,           1,           1,           1,           1,           1,           1,           1,           1,           1,           1,           1,           1,           1,           1,           1,           1,           1,\n",
              "                  1,           1,           1,           1,           1,           1,           1,           1,           1,           1,           1,           1,           1,           1,           1,           1,           1,           1,           1,           1,           1,           1,           1,\n",
              "                  1,           1,           1,           1,           1,           1,           1,           1,           1,           1,           1,           1,           1,           1,           1,           1,           1,           1,           1,           1,           1,           1,           1,\n",
              "                  1,           1,           1,           1,           1,           1,           1,           1,           1,           1,           1,           1,           1,           1,           1,           1,           1,           1,           1,           1,           1,           1,           1,\n",
              "                  1,           1,           1,           1,           1,           1,           1,           1,           1,           1,           1]]), 'Confidence', 'Precision'], [array([          0,    0.001001,    0.002002,    0.003003,    0.004004,    0.005005,    0.006006,    0.007007,    0.008008,    0.009009,     0.01001,    0.011011,    0.012012,    0.013013,    0.014014,    0.015015,    0.016016,    0.017017,    0.018018,    0.019019,     0.02002,    0.021021,    0.022022,    0.023023,\n",
              "          0.024024,    0.025025,    0.026026,    0.027027,    0.028028,    0.029029,     0.03003,    0.031031,    0.032032,    0.033033,    0.034034,    0.035035,    0.036036,    0.037037,    0.038038,    0.039039,     0.04004,    0.041041,    0.042042,    0.043043,    0.044044,    0.045045,    0.046046,    0.047047,\n",
              "          0.048048,    0.049049,     0.05005,    0.051051,    0.052052,    0.053053,    0.054054,    0.055055,    0.056056,    0.057057,    0.058058,    0.059059,     0.06006,    0.061061,    0.062062,    0.063063,    0.064064,    0.065065,    0.066066,    0.067067,    0.068068,    0.069069,     0.07007,    0.071071,\n",
              "          0.072072,    0.073073,    0.074074,    0.075075,    0.076076,    0.077077,    0.078078,    0.079079,     0.08008,    0.081081,    0.082082,    0.083083,    0.084084,    0.085085,    0.086086,    0.087087,    0.088088,    0.089089,     0.09009,    0.091091,    0.092092,    0.093093,    0.094094,    0.095095,\n",
              "          0.096096,    0.097097,    0.098098,    0.099099,      0.1001,      0.1011,      0.1021,      0.1031,      0.1041,     0.10511,     0.10611,     0.10711,     0.10811,     0.10911,     0.11011,     0.11111,     0.11211,     0.11311,     0.11411,     0.11512,     0.11612,     0.11712,     0.11812,     0.11912,\n",
              "           0.12012,     0.12112,     0.12212,     0.12312,     0.12412,     0.12513,     0.12613,     0.12713,     0.12813,     0.12913,     0.13013,     0.13113,     0.13213,     0.13313,     0.13413,     0.13514,     0.13614,     0.13714,     0.13814,     0.13914,     0.14014,     0.14114,     0.14214,     0.14314,\n",
              "           0.14414,     0.14515,     0.14615,     0.14715,     0.14815,     0.14915,     0.15015,     0.15115,     0.15215,     0.15315,     0.15415,     0.15516,     0.15616,     0.15716,     0.15816,     0.15916,     0.16016,     0.16116,     0.16216,     0.16316,     0.16416,     0.16517,     0.16617,     0.16717,\n",
              "           0.16817,     0.16917,     0.17017,     0.17117,     0.17217,     0.17317,     0.17417,     0.17518,     0.17618,     0.17718,     0.17818,     0.17918,     0.18018,     0.18118,     0.18218,     0.18318,     0.18418,     0.18519,     0.18619,     0.18719,     0.18819,     0.18919,     0.19019,     0.19119,\n",
              "           0.19219,     0.19319,     0.19419,      0.1952,      0.1962,      0.1972,      0.1982,      0.1992,      0.2002,      0.2012,      0.2022,      0.2032,      0.2042,     0.20521,     0.20621,     0.20721,     0.20821,     0.20921,     0.21021,     0.21121,     0.21221,     0.21321,     0.21421,     0.21522,\n",
              "           0.21622,     0.21722,     0.21822,     0.21922,     0.22022,     0.22122,     0.22222,     0.22322,     0.22422,     0.22523,     0.22623,     0.22723,     0.22823,     0.22923,     0.23023,     0.23123,     0.23223,     0.23323,     0.23423,     0.23524,     0.23624,     0.23724,     0.23824,     0.23924,\n",
              "           0.24024,     0.24124,     0.24224,     0.24324,     0.24424,     0.24525,     0.24625,     0.24725,     0.24825,     0.24925,     0.25025,     0.25125,     0.25225,     0.25325,     0.25425,     0.25526,     0.25626,     0.25726,     0.25826,     0.25926,     0.26026,     0.26126,     0.26226,     0.26326,\n",
              "           0.26426,     0.26527,     0.26627,     0.26727,     0.26827,     0.26927,     0.27027,     0.27127,     0.27227,     0.27327,     0.27427,     0.27528,     0.27628,     0.27728,     0.27828,     0.27928,     0.28028,     0.28128,     0.28228,     0.28328,     0.28428,     0.28529,     0.28629,     0.28729,\n",
              "           0.28829,     0.28929,     0.29029,     0.29129,     0.29229,     0.29329,     0.29429,      0.2953,      0.2963,      0.2973,      0.2983,      0.2993,      0.3003,      0.3013,      0.3023,      0.3033,      0.3043,     0.30531,     0.30631,     0.30731,     0.30831,     0.30931,     0.31031,     0.31131,\n",
              "           0.31231,     0.31331,     0.31431,     0.31532,     0.31632,     0.31732,     0.31832,     0.31932,     0.32032,     0.32132,     0.32232,     0.32332,     0.32432,     0.32533,     0.32633,     0.32733,     0.32833,     0.32933,     0.33033,     0.33133,     0.33233,     0.33333,     0.33433,     0.33534,\n",
              "           0.33634,     0.33734,     0.33834,     0.33934,     0.34034,     0.34134,     0.34234,     0.34334,     0.34434,     0.34535,     0.34635,     0.34735,     0.34835,     0.34935,     0.35035,     0.35135,     0.35235,     0.35335,     0.35435,     0.35536,     0.35636,     0.35736,     0.35836,     0.35936,\n",
              "           0.36036,     0.36136,     0.36236,     0.36336,     0.36436,     0.36537,     0.36637,     0.36737,     0.36837,     0.36937,     0.37037,     0.37137,     0.37237,     0.37337,     0.37437,     0.37538,     0.37638,     0.37738,     0.37838,     0.37938,     0.38038,     0.38138,     0.38238,     0.38338,\n",
              "           0.38438,     0.38539,     0.38639,     0.38739,     0.38839,     0.38939,     0.39039,     0.39139,     0.39239,     0.39339,     0.39439,      0.3954,      0.3964,      0.3974,      0.3984,      0.3994,      0.4004,      0.4014,      0.4024,      0.4034,      0.4044,     0.40541,     0.40641,     0.40741,\n",
              "           0.40841,     0.40941,     0.41041,     0.41141,     0.41241,     0.41341,     0.41441,     0.41542,     0.41642,     0.41742,     0.41842,     0.41942,     0.42042,     0.42142,     0.42242,     0.42342,     0.42442,     0.42543,     0.42643,     0.42743,     0.42843,     0.42943,     0.43043,     0.43143,\n",
              "           0.43243,     0.43343,     0.43443,     0.43544,     0.43644,     0.43744,     0.43844,     0.43944,     0.44044,     0.44144,     0.44244,     0.44344,     0.44444,     0.44545,     0.44645,     0.44745,     0.44845,     0.44945,     0.45045,     0.45145,     0.45245,     0.45345,     0.45445,     0.45546,\n",
              "           0.45646,     0.45746,     0.45846,     0.45946,     0.46046,     0.46146,     0.46246,     0.46346,     0.46446,     0.46547,     0.46647,     0.46747,     0.46847,     0.46947,     0.47047,     0.47147,     0.47247,     0.47347,     0.47447,     0.47548,     0.47648,     0.47748,     0.47848,     0.47948,\n",
              "           0.48048,     0.48148,     0.48248,     0.48348,     0.48448,     0.48549,     0.48649,     0.48749,     0.48849,     0.48949,     0.49049,     0.49149,     0.49249,     0.49349,     0.49449,      0.4955,      0.4965,      0.4975,      0.4985,      0.4995,      0.5005,      0.5015,      0.5025,      0.5035,\n",
              "            0.5045,     0.50551,     0.50651,     0.50751,     0.50851,     0.50951,     0.51051,     0.51151,     0.51251,     0.51351,     0.51451,     0.51552,     0.51652,     0.51752,     0.51852,     0.51952,     0.52052,     0.52152,     0.52252,     0.52352,     0.52452,     0.52553,     0.52653,     0.52753,\n",
              "           0.52853,     0.52953,     0.53053,     0.53153,     0.53253,     0.53353,     0.53453,     0.53554,     0.53654,     0.53754,     0.53854,     0.53954,     0.54054,     0.54154,     0.54254,     0.54354,     0.54454,     0.54555,     0.54655,     0.54755,     0.54855,     0.54955,     0.55055,     0.55155,\n",
              "           0.55255,     0.55355,     0.55455,     0.55556,     0.55656,     0.55756,     0.55856,     0.55956,     0.56056,     0.56156,     0.56256,     0.56356,     0.56456,     0.56557,     0.56657,     0.56757,     0.56857,     0.56957,     0.57057,     0.57157,     0.57257,     0.57357,     0.57457,     0.57558,\n",
              "           0.57658,     0.57758,     0.57858,     0.57958,     0.58058,     0.58158,     0.58258,     0.58358,     0.58458,     0.58559,     0.58659,     0.58759,     0.58859,     0.58959,     0.59059,     0.59159,     0.59259,     0.59359,     0.59459,      0.5956,      0.5966,      0.5976,      0.5986,      0.5996,\n",
              "            0.6006,      0.6016,      0.6026,      0.6036,      0.6046,     0.60561,     0.60661,     0.60761,     0.60861,     0.60961,     0.61061,     0.61161,     0.61261,     0.61361,     0.61461,     0.61562,     0.61662,     0.61762,     0.61862,     0.61962,     0.62062,     0.62162,     0.62262,     0.62362,\n",
              "           0.62462,     0.62563,     0.62663,     0.62763,     0.62863,     0.62963,     0.63063,     0.63163,     0.63263,     0.63363,     0.63463,     0.63564,     0.63664,     0.63764,     0.63864,     0.63964,     0.64064,     0.64164,     0.64264,     0.64364,     0.64464,     0.64565,     0.64665,     0.64765,\n",
              "           0.64865,     0.64965,     0.65065,     0.65165,     0.65265,     0.65365,     0.65465,     0.65566,     0.65666,     0.65766,     0.65866,     0.65966,     0.66066,     0.66166,     0.66266,     0.66366,     0.66466,     0.66567,     0.66667,     0.66767,     0.66867,     0.66967,     0.67067,     0.67167,\n",
              "           0.67267,     0.67367,     0.67467,     0.67568,     0.67668,     0.67768,     0.67868,     0.67968,     0.68068,     0.68168,     0.68268,     0.68368,     0.68468,     0.68569,     0.68669,     0.68769,     0.68869,     0.68969,     0.69069,     0.69169,     0.69269,     0.69369,     0.69469,      0.6957,\n",
              "            0.6967,      0.6977,      0.6987,      0.6997,      0.7007,      0.7017,      0.7027,      0.7037,      0.7047,     0.70571,     0.70671,     0.70771,     0.70871,     0.70971,     0.71071,     0.71171,     0.71271,     0.71371,     0.71471,     0.71572,     0.71672,     0.71772,     0.71872,     0.71972,\n",
              "           0.72072,     0.72172,     0.72272,     0.72372,     0.72472,     0.72573,     0.72673,     0.72773,     0.72873,     0.72973,     0.73073,     0.73173,     0.73273,     0.73373,     0.73473,     0.73574,     0.73674,     0.73774,     0.73874,     0.73974,     0.74074,     0.74174,     0.74274,     0.74374,\n",
              "           0.74474,     0.74575,     0.74675,     0.74775,     0.74875,     0.74975,     0.75075,     0.75175,     0.75275,     0.75375,     0.75475,     0.75576,     0.75676,     0.75776,     0.75876,     0.75976,     0.76076,     0.76176,     0.76276,     0.76376,     0.76476,     0.76577,     0.76677,     0.76777,\n",
              "           0.76877,     0.76977,     0.77077,     0.77177,     0.77277,     0.77377,     0.77477,     0.77578,     0.77678,     0.77778,     0.77878,     0.77978,     0.78078,     0.78178,     0.78278,     0.78378,     0.78478,     0.78579,     0.78679,     0.78779,     0.78879,     0.78979,     0.79079,     0.79179,\n",
              "           0.79279,     0.79379,     0.79479,      0.7958,      0.7968,      0.7978,      0.7988,      0.7998,      0.8008,      0.8018,      0.8028,      0.8038,      0.8048,     0.80581,     0.80681,     0.80781,     0.80881,     0.80981,     0.81081,     0.81181,     0.81281,     0.81381,     0.81481,     0.81582,\n",
              "           0.81682,     0.81782,     0.81882,     0.81982,     0.82082,     0.82182,     0.82282,     0.82382,     0.82482,     0.82583,     0.82683,     0.82783,     0.82883,     0.82983,     0.83083,     0.83183,     0.83283,     0.83383,     0.83483,     0.83584,     0.83684,     0.83784,     0.83884,     0.83984,\n",
              "           0.84084,     0.84184,     0.84284,     0.84384,     0.84484,     0.84585,     0.84685,     0.84785,     0.84885,     0.84985,     0.85085,     0.85185,     0.85285,     0.85385,     0.85485,     0.85586,     0.85686,     0.85786,     0.85886,     0.85986,     0.86086,     0.86186,     0.86286,     0.86386,\n",
              "           0.86486,     0.86587,     0.86687,     0.86787,     0.86887,     0.86987,     0.87087,     0.87187,     0.87287,     0.87387,     0.87487,     0.87588,     0.87688,     0.87788,     0.87888,     0.87988,     0.88088,     0.88188,     0.88288,     0.88388,     0.88488,     0.88589,     0.88689,     0.88789,\n",
              "           0.88889,     0.88989,     0.89089,     0.89189,     0.89289,     0.89389,     0.89489,      0.8959,      0.8969,      0.8979,      0.8989,      0.8999,      0.9009,      0.9019,      0.9029,      0.9039,      0.9049,     0.90591,     0.90691,     0.90791,     0.90891,     0.90991,     0.91091,     0.91191,\n",
              "           0.91291,     0.91391,     0.91491,     0.91592,     0.91692,     0.91792,     0.91892,     0.91992,     0.92092,     0.92192,     0.92292,     0.92392,     0.92492,     0.92593,     0.92693,     0.92793,     0.92893,     0.92993,     0.93093,     0.93193,     0.93293,     0.93393,     0.93493,     0.93594,\n",
              "           0.93694,     0.93794,     0.93894,     0.93994,     0.94094,     0.94194,     0.94294,     0.94394,     0.94494,     0.94595,     0.94695,     0.94795,     0.94895,     0.94995,     0.95095,     0.95195,     0.95295,     0.95395,     0.95495,     0.95596,     0.95696,     0.95796,     0.95896,     0.95996,\n",
              "           0.96096,     0.96196,     0.96296,     0.96396,     0.96496,     0.96597,     0.96697,     0.96797,     0.96897,     0.96997,     0.97097,     0.97197,     0.97297,     0.97397,     0.97497,     0.97598,     0.97698,     0.97798,     0.97898,     0.97998,     0.98098,     0.98198,     0.98298,     0.98398,\n",
              "           0.98498,     0.98599,     0.98699,     0.98799,     0.98899,     0.98999,     0.99099,     0.99199,     0.99299,     0.99399,     0.99499,       0.996,       0.997,       0.998,       0.999,           1]), array([[    0.88182,     0.88182,     0.85909,     0.80909,     0.80909,         0.8,     0.76818,     0.75909,     0.75455,        0.75,     0.74091,     0.73636,     0.72727,     0.72273,     0.70909,     0.70455,     0.70455,     0.70455,     0.70455,     0.70455,         0.7,         0.7,     0.69545,\n",
              "            0.69091,     0.69091,     0.69091,     0.69091,     0.68636,     0.68636,     0.68182,     0.67727,     0.67727,     0.67727,     0.67273,     0.66818,     0.66818,     0.66818,     0.66364,     0.65909,     0.65909,     0.65909,     0.65455,        0.65,     0.64545,     0.64545,     0.64545,\n",
              "            0.64545,     0.64545,     0.64545,     0.64545,     0.64545,     0.64545,     0.64091,     0.64091,     0.63853,     0.63636,     0.63636,     0.63636,     0.63636,     0.63182,     0.63182,     0.62727,     0.62727,     0.62693,     0.62273,     0.62273,     0.61818,     0.61818,     0.61818,\n",
              "            0.60909,     0.60909,     0.60909,     0.60909,     0.60909,     0.60909,     0.60909,     0.60909,     0.59545,     0.59545,     0.59545,     0.59545,     0.59545,     0.59106,     0.59091,     0.59091,     0.59091,     0.58933,     0.58708,     0.58636,     0.58636,     0.58548,     0.58262,\n",
              "            0.58182,     0.58182,     0.58182,     0.58182,     0.58182,     0.58182,     0.58182,     0.58182,     0.57727,     0.57727,     0.57727,     0.57273,     0.57273,     0.57273,     0.57273,     0.57273,     0.57273,     0.57273,     0.57273,     0.57273,     0.57273,     0.56818,     0.56818,\n",
              "            0.56818,     0.56818,     0.56818,     0.56818,     0.56818,     0.56818,     0.56818,     0.56818,     0.56818,     0.56818,     0.56818,     0.56818,     0.56818,     0.56732,     0.56638,     0.56545,     0.56452,     0.56364,     0.56364,     0.56364,     0.56364,     0.56364,     0.56364,\n",
              "            0.56364,     0.56364,     0.56364,     0.56364,     0.56364,     0.56364,     0.56364,     0.56364,     0.56364,     0.56364,     0.56364,     0.56364,     0.56364,     0.56364,     0.56364,     0.56364,     0.56364,     0.56364,     0.56364,     0.56364,     0.56364,     0.56364,     0.56364,\n",
              "            0.55909,     0.55909,     0.55909,     0.55909,     0.55909,     0.55909,     0.55909,     0.55909,     0.55909,     0.55909,     0.55909,     0.55909,     0.55909,     0.55909,     0.55909,     0.55909,     0.55909,     0.55909,     0.55909,     0.55909,     0.55909,     0.55909,     0.55909,\n",
              "            0.55909,     0.55909,     0.55909,     0.55909,     0.55909,     0.55909,     0.55909,     0.55909,     0.55909,     0.55807,     0.55657,     0.55508,     0.55444,     0.55071,        0.55,        0.55,        0.55,     0.54908,     0.54765,     0.54622,     0.54545,     0.54545,     0.54545,\n",
              "            0.54091,     0.54091,     0.54091,     0.54091,     0.54091,     0.54091,     0.54091,     0.54091,     0.54091,     0.54091,     0.54091,     0.54091,     0.54091,     0.54091,     0.54091,     0.54091,     0.54091,     0.54091,     0.54091,     0.54091,     0.54091,     0.54091,     0.54091,\n",
              "             0.5409,     0.53928,     0.53766,     0.53636,     0.53636,     0.53636,     0.53636,     0.53636,     0.53636,     0.53636,     0.53636,     0.53636,     0.53636,     0.53636,     0.53636,     0.53636,     0.53636,     0.53636,     0.53636,     0.53636,     0.53636,     0.53636,     0.53636,\n",
              "            0.53636,     0.53636,     0.53636,     0.53636,     0.53636,     0.53636,     0.53636,     0.53636,     0.53636,     0.53636,     0.53636,     0.53636,     0.53636,     0.53636,     0.53636,     0.53636,     0.53636,     0.53636,     0.53636,     0.53636,     0.53372,     0.53044,     0.52811,\n",
              "            0.52273,     0.52273,     0.52273,     0.52273,     0.52273,     0.52273,      0.5227,     0.52213,     0.52157,       0.521,     0.52044,     0.51987,     0.51931,     0.51874,     0.51818,     0.51818,     0.51818,     0.51818,     0.51818,     0.51818,     0.51818,     0.51818,     0.51818,\n",
              "            0.51818,     0.51818,     0.51818,     0.51818,     0.51566,      0.5134,     0.51274,     0.51207,     0.51141,     0.51074,     0.51008,     0.50941,     0.50909,     0.50909,     0.50909,     0.50909,     0.50909,     0.50909,     0.50909,     0.50909,     0.50909,     0.50909,     0.50909,\n",
              "            0.50909,     0.50909,     0.50909,     0.50909,     0.50909,     0.50909,     0.50909,     0.50909,     0.50909,     0.50909,     0.50869,     0.50736,     0.50603,      0.5047,     0.50403,     0.50345,     0.50286,     0.50228,      0.5017,     0.50112,     0.50053,     0.49981,     0.49748,\n",
              "            0.49545,     0.49545,     0.49545,     0.49545,     0.49545,     0.49545,     0.49545,     0.49545,     0.49545,     0.49545,     0.49545,     0.49545,     0.49545,     0.49487,     0.49402,     0.49317,     0.49233,     0.49148,     0.49091,     0.49091,      0.4906,     0.49009,     0.48959,\n",
              "            0.48909,     0.48858,     0.48808,     0.48758,     0.48707,     0.48657,     0.48595,     0.48526,     0.48457,     0.48388,     0.48319,      0.4825,     0.48182,     0.48182,     0.48182,     0.48182,     0.48147,     0.48049,     0.47951,     0.47853,     0.47755,     0.47393,     0.47181,\n",
              "            0.47056,     0.46932,     0.46818,     0.46818,     0.46818,     0.46818,     0.46818,     0.46818,     0.46818,     0.46818,     0.46818,     0.46818,     0.46818,     0.46818,     0.46818,     0.46818,     0.46818,     0.46818,     0.46818,     0.46818,     0.46818,     0.46818,     0.46778,\n",
              "            0.46653,     0.46529,     0.46405,     0.46364,     0.46364,     0.46364,     0.46364,     0.46364,     0.46364,     0.46364,     0.46364,     0.46364,     0.46364,     0.46364,     0.46364,     0.46364,     0.46334,     0.46218,     0.46101,     0.45985,     0.45745,     0.45455,     0.45455,\n",
              "            0.45455,     0.45455,     0.45455,     0.45455,     0.45455,     0.45455,     0.45455,     0.45455,     0.45455,     0.45455,     0.45242,     0.45009,        0.45,        0.45,        0.45,        0.45,     0.44986,     0.44816,     0.44647,     0.44545,     0.44545,     0.44545,     0.44545,\n",
              "            0.44545,     0.44497,     0.44403,      0.4431,     0.44217,     0.44124,     0.43991,     0.43835,      0.4368,     0.43636,     0.43636,     0.43636,     0.43636,     0.43636,     0.43636,     0.43636,     0.43636,     0.43576,     0.43509,     0.43442,     0.43376,     0.43309,     0.43243,\n",
              "            0.43182,     0.43182,     0.43182,     0.43182,     0.43182,     0.43182,     0.43174,     0.43138,     0.43102,     0.43066,      0.4303,     0.42994,     0.42958,     0.42923,     0.42887,     0.42851,     0.42815,     0.42779,     0.42743,     0.42711,     0.42682,     0.42653,     0.42624,\n",
              "            0.42595,     0.42566,     0.42537,     0.42507,     0.42478,     0.42449,      0.4242,     0.42391,     0.42362,     0.42333,     0.42304,     0.42274,     0.42229,     0.42182,     0.42136,     0.42089,     0.42043,     0.41996,     0.41949,     0.41903,     0.41856,     0.41818,     0.41818,\n",
              "            0.41818,     0.41818,     0.41818,     0.41818,     0.41818,     0.41763,     0.41608,     0.41453,     0.41264,     0.41031,     0.40881,     0.40823,     0.40765,     0.40707,     0.40648,      0.4059,     0.40532,     0.40474,     0.40455,     0.40455,     0.40455,     0.40455,     0.40455,\n",
              "            0.40455,     0.40455,     0.40394,     0.40322,     0.40251,     0.40179,     0.40107,     0.40036,         0.4,         0.4,         0.4,         0.4,         0.4,         0.4,         0.4,         0.4,         0.4,         0.4,     0.39653,     0.39545,     0.39545,     0.39545,      0.3844,\n",
              "            0.38207,     0.38182,     0.38182,     0.38182,     0.38113,     0.38041,     0.37969,     0.37898,     0.37826,     0.37754,     0.37655,     0.37538,     0.37422,     0.37305,     0.37233,     0.37178,     0.37124,     0.37069,     0.37014,     0.36959,     0.36904,     0.36849,     0.36752,\n",
              "            0.36596,     0.36441,     0.36364,     0.36364,     0.36364,     0.36364,     0.36364,     0.36364,     0.36364,     0.36364,     0.36364,     0.36364,     0.36364,     0.36364,     0.36364,     0.36364,     0.36364,     0.36364,     0.36364,     0.36364,     0.36364,     0.36364,     0.36364,\n",
              "            0.36358,     0.36225,     0.36092,     0.35959,     0.35909,     0.35909,     0.35909,     0.35909,     0.35909,     0.35909,     0.35909,     0.35842,     0.35757,     0.35672,     0.35588,     0.35503,     0.35426,     0.35359,     0.35293,     0.35226,      0.3516,     0.35093,     0.35027,\n",
              "             0.3486,     0.34627,     0.34545,     0.34545,     0.34545,     0.34545,     0.34545,     0.34545,     0.34514,      0.3441,     0.34306,     0.34203,     0.34099,     0.34013,     0.33928,     0.33844,     0.33759,     0.33674,     0.33152,     0.32724,     0.32683,     0.32643,     0.32602,\n",
              "            0.32562,     0.32521,     0.32481,      0.3244,       0.324,     0.32359,     0.32319,     0.32278,     0.31867,     0.31401,     0.31323,     0.31278,     0.31234,      0.3119,     0.31145,     0.31101,     0.31057,     0.31012,     0.30968,     0.30923,     0.30893,     0.30868,     0.30843,\n",
              "            0.30819,     0.30794,      0.3077,     0.30745,     0.30721,     0.30696,     0.30672,     0.30647,     0.30623,     0.30598,     0.30574,     0.30549,     0.30525,       0.305,     0.30476,     0.30449,     0.30406,     0.30364,     0.30322,     0.30279,     0.30237,     0.30195,     0.30152,\n",
              "             0.3011,     0.30067,     0.30025,         0.3,         0.3,         0.3,         0.3,         0.3,     0.29995,     0.29879,     0.29762,     0.29646,     0.29524,     0.29368,     0.29213,     0.29041,     0.28808,     0.28575,     0.28342,      0.2817,     0.28131,     0.28092,     0.28053,\n",
              "            0.28014,     0.27976,     0.27937,     0.27898,     0.27859,      0.2782,     0.27781,     0.27743,      0.2754,     0.27273,     0.27273,     0.27238,     0.27051,     0.26865,     0.26364,     0.26364,     0.26364,     0.26364,     0.26364,     0.26364,     0.26364,     0.26364,     0.26364,\n",
              "            0.26364,     0.26364,     0.26326,     0.26254,     0.26182,     0.26111,     0.26039,     0.25967,     0.25909,     0.25909,     0.25909,     0.25909,     0.25909,     0.25909,     0.25909,     0.25909,     0.25909,     0.25909,     0.25909,     0.25909,     0.25342,     0.25109,        0.25,\n",
              "               0.25,      0.2473,     0.24489,     0.24396,     0.24303,      0.2421,     0.24116,     0.24091,     0.24091,     0.24091,     0.23604,     0.23501,     0.23397,     0.23293,      0.2319,     0.22967,     0.22734,     0.22426,     0.21787,     0.21725,     0.21662,       0.216,     0.21538,\n",
              "            0.21476,     0.21414,     0.21349,     0.21271,     0.21194,     0.21116,     0.21038,     0.20961,     0.20864,     0.20731,     0.20598,     0.20465,     0.19857,     0.19701,     0.19546,     0.19545,     0.19545,     0.19545,     0.19074,     0.18887,     0.18701,     0.18433,     0.18156,\n",
              "            0.18023,      0.1789,     0.17757,     0.17258,     0.17206,     0.17154,     0.17102,     0.17051,     0.16999,     0.16947,     0.16895,     0.16844,     0.16345,     0.15744,      0.1539,     0.14923,     0.14789,     0.14656,     0.14538,     0.14494,     0.14449,     0.14405,     0.14361,\n",
              "            0.14316,     0.14272,     0.14227,     0.14183,     0.14139,     0.14094,     0.13995,     0.13892,     0.13788,     0.13685,     0.13179,     0.13107,     0.13035,     0.12964,     0.12892,      0.1282,     0.12748,     0.12696,     0.12652,     0.12607,     0.12563,     0.12519,     0.12474,\n",
              "             0.1243,     0.12385,     0.12341,     0.12297,     0.11844,     0.11667,     0.11512,     0.10895,     0.10584,     0.10452,     0.10424,     0.10395,     0.10367,     0.10339,     0.10311,     0.10282,     0.10254,     0.10226,     0.10198,     0.10169,     0.10141,     0.10113,     0.10085,\n",
              "            0.10057,     0.10028,         0.1,    0.094267,    0.091937,    0.086034,    0.081729,    0.080798,    0.079866,    0.078934,    0.078002,    0.076767,    0.074437,    0.072231,    0.070368,    0.068504,    0.061709,     0.05938,    0.058411,    0.057634,    0.056858,    0.056081,    0.055305,\n",
              "           0.054336,    0.049502,     0.04857,    0.047638,    0.046706,    0.045774,    0.043415,     0.04077,    0.040054,    0.039337,     0.03862,    0.037903,    0.037186,     0.03647,    0.036033,    0.035645,    0.035256,    0.034868,     0.03448,    0.034091,    0.033703,    0.033315,    0.032927,\n",
              "           0.032538,     0.03215,    0.031714,    0.030997,    0.030281,    0.029564,    0.028847,     0.02813,    0.027413,    0.024776,    0.019556,    0.017299,    0.016264,    0.015228,    0.014193,      0.0122,   0.0090939,   0.0085433,   0.0079952,    0.007447,   0.0068989,   0.0063507,   0.0058026,\n",
              "          0.0052545,   0.0047063,           0,           0,           0,           0,           0,           0,           0,           0,           0,           0,           0,           0,           0,           0,           0,           0,           0,           0,           0,           0,           0,\n",
              "                  0,           0,           0,           0,           0,           0,           0,           0,           0,           0,           0]]), 'Confidence', 'Recall']]\n",
              "fitness: 0.4473297604313603\n",
              "keys: ['metrics/precision(B)', 'metrics/recall(B)', 'metrics/mAP50(B)', 'metrics/mAP50-95(B)']\n",
              "maps: array([    0.43396])\n",
              "names: {0: 'dentist-items'}\n",
              "plot: True\n",
              "results_dict: {'metrics/precision(B)': 0.7082968404313904, 'metrics/recall(B)': 0.5187425717728749, 'metrics/mAP50(B)': 0.5676483110103996, 'metrics/mAP50-95(B)': 0.4339610325892448, 'fitness': 0.4473297604313603}\n",
              "save_dir: PosixPath('runs/detect/train')\n",
              "speed: {'preprocess': 0.21408307919943384, 'inference': 6.09628534527077, 'loss': 0.0007982296040404735, 'postprocess': 3.167372968228378}\n",
              "task: 'detect'"
            ]
          },
          "metadata": {},
          "execution_count": 5
        }
      ]
    },
    {
      "cell_type": "code",
      "source": [],
      "metadata": {
        "id": "-XvzhyphYS1C"
      },
      "execution_count": null,
      "outputs": []
    }
  ]
}